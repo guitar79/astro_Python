{
 "cells": [
  {
   "cell_type": "markdown",
   "metadata": {
    "id": "GHVanrZ79r0j"
   },
   "source": [
    "# Astronomical coordinate systems\n",
    "\n",
    "* 이 노트북을 구글 코랩에서 실행하고자 한다면 [파일] - [드라이브에 사본 저장]을 하여 본인의 소유로 만든 후에 코드를 실행하거나 수정할 수 있습니다.\n",
    "\n",
    "* 이 파일은 실제 수업에 사용하므로 필요에 따라 예고 없이 변경될 수 있습니다.\n",
    "\n",
    "* If you have any questions or comments on this document, please email me(Kiehyun.Park@gmail.com).\n",
    "\n",
    "* 이 파일(문서)는 공교육 현장에서 수업시간에 자유롭게 사용할 수 있으나, 다른 목적으로 사용할 시에는 사전에 연락을 주셔서 상의해 주시기 바랍니다."
   ]
  },
  {
   "cell_type": "markdown",
   "metadata": {
    "id": "zDHDwjRFh37L"
   },
   "source": [
    "이 자료는 천체 관측 자료 처리 모듈인 Astropy와 FITS 파일을 열어 관련 정보를 알아보는 방법을 설명합니다."
   ]
  },
  {
   "cell_type": "markdown",
   "metadata": {
    "id": "pnt0bAUv-yZr"
   },
   "source": [
    "## 필요한 환경\n",
    "\n",
    "이 프로젝트를 위해서는 아래의 모듈이 필요합니다.\n",
    "\n",
    "> numpy, matplotlib, astropy, version_information\n"
   ]
  },
  {
   "cell_type": "markdown",
   "metadata": {
    "id": "ShZrQ-ub_aWe"
   },
   "source": [
    "### 모듈 설치 및 버전 확인\n",
    "\n",
    "아래 셀을 실행하면 이 노트북을 실행하는데 필요한 모듈을 설치하고 파이썬 및 관련 모듈의 버전을 확인할 수 있다."
   ]
  },
  {
   "cell_type": "code",
   "execution_count": null,
   "metadata": {
    "colab": {
     "base_uri": "https://localhost:8080/"
    },
    "executionInfo": {
     "elapsed": 28969,
     "status": "ok",
     "timestamp": 1724630539574,
     "user": {
      "displayName": "Kiehyun Park",
      "userId": "11752785994579589476"
     },
     "user_tz": -540
    },
    "id": "V-JrQTLF-673",
    "outputId": "0dcc60fc-cacb-4473-e888-c2c338401889"
   },
   "outputs": [
    {
     "name": "stdout",
     "output_type": "stream",
     "text": [
      "******** numpy module is already installed.\n",
      "******** matplotlib module is already installed.\n",
      "******** astropy module is already installed.\n",
      "**** astroquery module is now installed.\n",
      "**** version_information module is now installed.\n",
      "This notebook was generated at 2024-08-26 00:02:18 (UTC = GMT+0000) \n",
      "0 Python     3.10.12 64bit [GCC 11.4.0]\n",
      "1 IPython    7.34.0\n",
      "2 OS         Linux 6.1.85+ x86_64 with glibc2.35\n",
      "3 numpy      1.26.4\n",
      "4 matplotlib 3.7.1\n",
      "5 astropy    6.1.2\n",
      "6 astroquery 0.4.7\n",
      "7 version_information 1.0.4\n"
     ]
    }
   ],
   "source": [
    "import importlib, sys, subprocess\n",
    "packages = \"numpy, matplotlib, astropy, astroquery, version_information\" # required modules\n",
    "pkgs = packages.split(\", \")\n",
    "for pkg in pkgs :\n",
    "    if not importlib.util.find_spec(pkg):\n",
    "        subprocess.check_call([sys.executable, '-m', 'pip', 'install', pkg, '-q'])\n",
    "        print(f\"**** {pkg} module is now installed.\")\n",
    "    else:\n",
    "        print(f\"******** {pkg} module is already installed.\")\n",
    "%load_ext version_information\n",
    "import time\n",
    "now = time.strftime(\"%Y-%m-%d %H:%M:%S (%Z = GMT%z)\")\n",
    "print(f\"This notebook was generated at {now} \")\n",
    "\n",
    "vv = %version_information {packages}\n",
    "for i, pkg in enumerate(vv.packages):\n",
    "    print(f\"{i} {pkg[0]:10s} {pkg[1]:s}\")"
   ]
  },
  {
   "cell_type": "markdown",
   "metadata": {
    "id": "d2wVpyby7qU5"
   },
   "source": [
    "## SkyCoord\n",
    "\n",
    "[astropy.coordinates.SkyCoord](https://docs.astropy.org/en/stable/coordinates/ref_api.html#module-astropy.coordinates) 클래스를 사용하면 천문학에서 사용하는 좌표계를 사용할 수 있습니다. SkyCoord 개체는 지정된 단위와 좌표계를 사용하여 위치(및 선택적 속도)를 전달하여 인스턴스화됩니다. 하늘 위치는 일반적으로 Quantity 개체로 전달되며 프레임은 문자열 이름으로 지정됩니다.\n"
   ]
  },
  {
   "cell_type": "markdown",
   "metadata": {
    "id": "SU9r5LNPAFoG"
   },
   "source": [
    "### 적도 좌표계 만들기\n",
    "\n",
    "ICRS(International Celestial Reference System (ICRS)의 (적경[RA], 적위[Dec]) 하늘 위치를 나타내는 SkyCoord 개체를 만들려면 다음을 수행합니다."
   ]
  },
  {
   "cell_type": "code",
   "execution_count": null,
   "metadata": {
    "colab": {
     "base_uri": "https://localhost:8080/"
    },
    "executionInfo": {
     "elapsed": 452,
     "status": "ok",
     "timestamp": 1724632812195,
     "user": {
      "displayName": "Kiehyun Park",
      "userId": "11752785994579589476"
     },
     "user_tz": -540
    },
    "id": "ddZ8Cr6SHzdC",
    "outputId": "a798fcfe-f9b0-478e-c0a4-16aa4f668209"
   },
   "outputs": [
    {
     "name": "stdout",
     "output_type": "stream",
     "text": [
      "type(c): <class 'astropy.coordinates.sky_coordinate.SkyCoord'>\n",
      "c : <SkyCoord (ICRS): (ra, dec) in deg\n",
      "    (310.35791667, 45.28027778)>\n"
     ]
    }
   ],
   "source": [
    "from astropy.coordinates import SkyCoord\n",
    "c = SkyCoord(ra='20h41m25.9s', dec='+45d16m49s')\n",
    "print(\"type(c):\", type(c))\n",
    "print(\"c :\", c)"
   ]
  },
  {
   "cell_type": "code",
   "execution_count": null,
   "metadata": {
    "id": "3YAmCgzla0zf"
   },
   "outputs": [],
   "source": [
    "# prompt: ra='20:41:25.9', dec='45:16:49:'\n",
    "# conver to\n",
    "# ra='20h41m25.9s', dec='+45d16m49s'\n",
    "\n",
    "ra_str = '20:41:25.9'\n",
    "dec_str = '45:16:49:'\n",
    "\n",
    "ra_h, ra_m, ra_s = ra_str.split(':')\n",
    "dec_d, dec_m, dec_s = dec_str.split(':')\n",
    "\n",
    "ra_new = f\"{ra_h}h{ra_m}m{ra_s}s\"\n",
    "dec_new = f\"+{dec_d}d{dec_m}m{dec_s}s\"\n",
    "\n",
    "print(f\"ra='{ra_new}', dec='{dec_new}'\")\n"
   ]
  },
  {
   "cell_type": "markdown",
   "metadata": {
    "id": "Mn42B4N7IHbd"
   },
   "source": [
    "적경, 적위 값을 astropy.units을 이용하여 quantity 값으로 입력할 수 있습니다."
   ]
  },
  {
   "cell_type": "code",
   "execution_count": null,
   "metadata": {
    "id": "EY-BQN5YMPrf"
   },
   "outputs": [],
   "source": [
    "from astropy import units as u\n",
    "c = SkyCoord(ra=10.625*u.degree, dec=41.2*u.degree, frame='icrs')"
   ]
  },
  {
   "cell_type": "markdown",
   "metadata": {
    "id": "GCidINRpEe46"
   },
   "source": [
    "필요한 정보는 다음과 같이 얻을 수 있습니다."
   ]
  },
  {
   "cell_type": "code",
   "execution_count": null,
   "metadata": {
    "colab": {
     "base_uri": "https://localhost:8080/"
    },
    "executionInfo": {
     "elapsed": 9,
     "status": "ok",
     "timestamp": 1724630540064,
     "user": {
      "displayName": "Kiehyun Park",
      "userId": "11752785994579589476"
     },
     "user_tz": -540
    },
    "id": "5elOYobVDOG1",
    "outputId": "eb5e787c-8606-4dc3-fb0f-4d54ce80fbb1"
   },
   "outputs": [
    {
     "name": "stdout",
     "output_type": "stream",
     "text": [
      "c.ra : 10d37m30s\n",
      "c.dec : 41d12m00s\n",
      "c.ra.deg : 10.625\n",
      "c.dec.deg : 41.2\n"
     ]
    }
   ],
   "source": [
    "print(\"c.ra :\", c.ra)\n",
    "print(\"c.dec :\", c.dec)\n",
    "print(\"c.ra.deg :\", c.ra.deg)\n",
    "print(\"c.dec.deg :\", c.dec.deg)"
   ]
  },
  {
   "cell_type": "markdown",
   "metadata": {
    "id": "lucGxKLOiEPQ"
   },
   "source": [
    "dir 함수를 이용하여 객체에 사용할수 있는 mathod를 확인해 보겠습니다."
   ]
  },
  {
   "cell_type": "code",
   "execution_count": null,
   "metadata": {
    "colab": {
     "base_uri": "https://localhost:8080/"
    },
    "executionInfo": {
     "elapsed": 11,
     "status": "ok",
     "timestamp": 1724630540064,
     "user": {
      "displayName": "Kiehyun Park",
      "userId": "11752785994579589476"
     },
     "user_tz": -540
    },
    "id": "EzYMZlkHhML1",
    "outputId": "dab0e482-0aa9-4cf2-ab95-a766d68cb4bf"
   },
   "outputs": [
    {
     "name": "stdout",
     "output_type": "stream",
     "text": [
      "type(c): <class 'astropy.coordinates.sky_coordinate.SkyCoord'>\n",
      "dir(c) : ['T', '_APPLICABLE_FUNCTIONS', '_METHOD_FUNCTIONS', '__abstractmethods__', '__annotations__', '__array_function__', '__bool__', '__class__', '__delattr__', '__dict__', '__dir__', '__doc__', '__eq__', '__format__', '__ge__', '__getattr__', '__getattribute__', '__getitem__', '__gt__', '__hash__', '__init__', '__init_subclass__', '__iter__', '__le__', '__len__', '__lt__', '__module__', '__ne__', '__new__', '__reduce__', '__reduce_ex__', '__repr__', '__setattr__', '__setitem__', '__sizeof__', '__str__', '__subclasshook__', '__weakref__', '_abc_impl', '_apply', '_extra_frameattr_names', '_is_name', '_sky_coord_frame', 'altaz', 'apply_space_motion', 'barycentricmeanecliptic', 'barycentrictrueecliptic', 'cache', 'cartesian', 'cirs', 'contained_by', 'copy', 'custombarycentricecliptic', 'cylindrical', 'data', 'dec', 'default_differential', 'default_representation', 'diagonal', 'differential_type', 'directional_offset_by', 'distance', 'equinox', 'fk4', 'fk4noeterms', 'fk5', 'flatten', 'frame', 'frame_attributes', 'frame_specific_representation_info', 'from_name', 'from_pixel', 'galactic', 'galacticlsr', 'galactocentric', 'galcen_coord', 'galcen_distance', 'galcen_v_sun', 'gcrs', 'geocentricmeanecliptic', 'geocentrictrueecliptic', 'get_constellation', 'get_frame_attr_defaults', 'get_frame_attr_names', 'get_representation_cls', 'get_representation_component_names', 'get_representation_component_units', 'guess_from_table', 'hadec', 'has_data', 'hcrs', 'heliocentriceclipticiau76', 'heliocentricmeanecliptic', 'heliocentrictrueecliptic', 'icrs', 'info', 'insert', 'is_equivalent_frame', 'is_frame_attr_default', 'is_transformable_to', 'isscalar', 'itrs', 'location', 'lsr', 'lsrd', 'lsrk', 'match_to_catalog_3d', 'match_to_catalog_sky', 'name', 'ndim', 'obliquity', 'obsgeoloc', 'obsgeovel', 'obstime', 'obswl', 'pm_dec', 'pm_ra_cosdec', 'position_angle', 'precessedgeocentric', 'pressure', 'proper_motion', 'ra', 'radial_velocity', 'radial_velocity_correction', 'ravel', 'realize_frame', 'relative_humidity', 'replicate', 'replicate_without_data', 'represent_as', 'representation_component_names', 'representation_component_units', 'representation_info', 'representation_type', 'reshape', 'roll', 'search_around_3d', 'search_around_sky', 'separation', 'separation_3d', 'set_representation_cls', 'shape', 'size', 'skyoffset_frame', 'spherical', 'spherical_offsets_by', 'spherical_offsets_to', 'sphericalcoslat', 'squeeze', 'supergalactic', 'swapaxes', 'take', 'teme', 'temperature', 'tete', 'to_pixel', 'to_string', 'to_table', 'transform_to', 'transpose', 'v_bary', 'velocity', 'z_sun']\n",
      "c : <SkyCoord (ICRS): (ra, dec) in deg\n",
      "    (10.625, 41.2)>\n"
     ]
    }
   ],
   "source": [
    "print(\"dir(c) :\", dir(c))"
   ]
  },
  {
   "cell_type": "markdown",
   "metadata": {
    "id": "uR9CL7WmiidY"
   },
   "source": [
    "#### frame\n",
    "\n",
    "* ICRS : ICRS(International Celestial Reference System)는 국제적으로 합의된 천체 좌표계로 태양계 바깥의 먼 천체들(주로 퀘이사)을 기준으로 하여 지구의 운동이나 태양계의 영향을 받지 않는 안정적인 기준점을 제공합니다.\n",
    "\n",
    "* FK4, FK4: FK4(Fourth Fundamental Catalogue)와 FK5(Fifth Fundamental Catalogue)는 ICRS 이전에 사용되던 중요한 천체 좌표계입니다. FK4는 B1950.0, FK5는 J2000.0을 사용하고, FK5가 FK4보다 더 정확합니다."
   ]
  },
  {
   "cell_type": "code",
   "execution_count": null,
   "metadata": {
    "colab": {
     "base_uri": "https://localhost:8080/"
    },
    "executionInfo": {
     "elapsed": 17,
     "status": "ok",
     "timestamp": 1724630541567,
     "user": {
      "displayName": "Kiehyun Park",
      "userId": "11752785994579589476"
     },
     "user_tz": -540
    },
    "id": "C3_ZDr1Dlb4I",
    "outputId": "4d44037d-be98-4167-da9e-bf5dc0f53e6e"
   },
   "outputs": [
    {
     "name": "stdout",
     "output_type": "stream",
     "text": [
      "c : <SkyCoord (ICRS): (ra, dec) in deg\n",
      "    (10.625, 41.2)>\n",
      "c.icrs : <SkyCoord (ICRS): (ra, dec) in deg\n",
      "    (10.625, 41.2)>\n",
      "c.fk5 : <SkyCoord (FK5: equinox=J2000.000): (ra, dec) in deg\n",
      "    (10.62501153, 41.20000147)>\n",
      "c.fk4 : <SkyCoord (FK4: equinox=B1950.000, obstime=B1950.000): (ra, dec) in deg\n",
      "    (9.94104148, 40.92612355)>\n"
     ]
    }
   ],
   "source": [
    "print(\"c :\", c)\n",
    "print(\"c.icrs :\", c.icrs)\n",
    "print(\"c.fk5 :\", c.fk5)\n",
    "print(\"c.fk4 :\", c.fk4)"
   ]
  },
  {
   "cell_type": "markdown",
   "metadata": {
    "id": "mbJfPBjQgxhv"
   },
   "source": [
    "### 은하 좌표계로 변환\n",
    "\n",
    "적도 좌표계를 은하 좌표계로 변환은 다음과 같이 가능합니다."
   ]
  },
  {
   "cell_type": "code",
   "execution_count": null,
   "metadata": {
    "colab": {
     "base_uri": "https://localhost:8080/"
    },
    "executionInfo": {
     "elapsed": 15,
     "status": "ok",
     "timestamp": 1724630541568,
     "user": {
      "displayName": "Kiehyun Park",
      "userId": "11752785994579589476"
     },
     "user_tz": -540
    },
    "id": "yqOXc8Aio4xR",
    "outputId": "b35bf17d-5785-4491-8371-6f48ce777212"
   },
   "outputs": [
    {
     "name": "stdout",
     "output_type": "stream",
     "text": [
      "c.galactic : <SkyCoord (Galactic): (l, b) in deg\n",
      "    (121.12334339, -21.6403587)>\n",
      "c.galactic.l : 121d07m24.03621669s\n",
      "c.galactic.b : -21d38m25.29130773s\n"
     ]
    }
   ],
   "source": [
    "print(\"c.galactic :\", c.galactic)\n",
    "print(\"c.galactic.l :\", c.galactic.l)\n",
    "print(\"c.galactic.b :\", c.galactic.b)"
   ]
  },
  {
   "cell_type": "markdown",
   "metadata": {
    "id": "qaCqgRusk5Y8"
   },
   "source": [
    "### 황도 좌표계로 변환\n",
    "\n",
    "황도 좌표계는 지심 황도 좌표계와 일심 황도 좌표계가 있는데, 지심 황도 좌표계는 다음과 같이 쉽게 변환할 수 있습니다."
   ]
  },
  {
   "cell_type": "code",
   "execution_count": null,
   "metadata": {
    "colab": {
     "base_uri": "https://localhost:8080/"
    },
    "executionInfo": {
     "elapsed": 501,
     "status": "ok",
     "timestamp": 1724631182456,
     "user": {
      "displayName": "Kiehyun Park",
      "userId": "11752785994579589476"
     },
     "user_tz": -540
    },
    "id": "4piVjQ5DiD0r",
    "outputId": "9b3219fc-af30-4b7b-f9f4-d50b0696a616"
   },
   "outputs": [
    {
     "name": "stdout",
     "output_type": "stream",
     "text": [
      "c_ecl : <SkyCoord (GeocentricMeanEcliptic: equinox=J2000.000, obstime=J2000.000): (lon, lat, distance) in (deg, deg, )\n",
      "    (27.76521106, 33.31188749, 1.)>\n",
      "c_ecl.lon : 27d45m54.7598089s\n",
      "c_ecl.lat : 33d18m42.79496574s\n"
     ]
    }
   ],
   "source": [
    "c_ecl=c.transform_to('geocentricmeanecliptic')\n",
    "\n",
    "print(\"c_ecl :\", c_ecl)\n",
    "print(\"c_ecl.lon :\", c_ecl.lon)\n",
    "print(\"c_ecl.lat :\", c_ecl.lat)\n"
   ]
  },
  {
   "cell_type": "markdown",
   "metadata": {
    "id": "rPMuja8NB4ob"
   },
   "source": [
    "일심 황도좌표계로의 변환은 아직 잘 모르겠습니다."
   ]
  },
  {
   "cell_type": "code",
   "execution_count": null,
   "metadata": {
    "colab": {
     "base_uri": "https://localhost:8080/",
     "height": 257
    },
    "executionInfo": {
     "elapsed": 453,
     "status": "error",
     "timestamp": 1724631166988,
     "user": {
      "displayName": "Kiehyun Park",
      "userId": "11752785994579589476"
     },
     "user_tz": -540
    },
    "id": "i7_hs04gncaD",
    "outputId": "75d879a6-72b7-4929-bd88-0a0f83f124da"
   },
   "outputs": [
    {
     "name": "stdout",
     "output_type": "stream",
     "text": [
      "c : <SkyCoord (ICRS): (ra, dec) in deg\n",
      "    (10.625, 41.2)>\n"
     ]
    },
    {
     "ename": "TypeError",
     "evalue": "SkyCoord.spherical_offsets_to() takes 2 positional arguments but 3 were given",
     "output_type": "error",
     "traceback": [
      "\u001b[0;31m---------------------------------------------------------------------------\u001b[0m",
      "\u001b[0;31mTypeError\u001b[0m                                 Traceback (most recent call last)",
      "\u001b[0;32m<ipython-input-15-6c86bedbf681>\u001b[0m in \u001b[0;36m<cell line: 7>\u001b[0;34m()\u001b[0m\n\u001b[1;32m      5\u001b[0m \u001b[0;32mfrom\u001b[0m \u001b[0mastropy\u001b[0m \u001b[0;32mimport\u001b[0m \u001b[0munits\u001b[0m \u001b[0;32mas\u001b[0m \u001b[0mu\u001b[0m\u001b[0;34m\u001b[0m\u001b[0;34m\u001b[0m\u001b[0m\n\u001b[1;32m      6\u001b[0m \u001b[0mprint\u001b[0m\u001b[0;34m(\u001b[0m\u001b[0;34m\"c :\"\u001b[0m\u001b[0;34m,\u001b[0m \u001b[0mc\u001b[0m\u001b[0;34m)\u001b[0m\u001b[0;34m\u001b[0m\u001b[0;34m\u001b[0m\u001b[0m\n\u001b[0;32m----> 7\u001b[0;31m \u001b[0mc_with_distance\u001b[0m \u001b[0;34m=\u001b[0m \u001b[0mc\u001b[0m\u001b[0;34m.\u001b[0m\u001b[0mspherical_offsets_to\u001b[0m\u001b[0;34m(\u001b[0m\u001b[0mc\u001b[0m\u001b[0;34m.\u001b[0m\u001b[0mra\u001b[0m\u001b[0;34m,\u001b[0m \u001b[0mc\u001b[0m\u001b[0;34m.\u001b[0m\u001b[0mdec\u001b[0m\u001b[0;34m)\u001b[0m\u001b[0;34m\u001b[0m\u001b[0;34m\u001b[0m\u001b[0m\n\u001b[0m\u001b[1;32m      8\u001b[0m \u001b[0;34m\u001b[0m\u001b[0m\n\u001b[1;32m      9\u001b[0m \u001b[0mc_hcl\u001b[0m \u001b[0;34m=\u001b[0m \u001b[0mc_with_distance\u001b[0m\u001b[0;34m.\u001b[0m\u001b[0mtransform_to\u001b[0m\u001b[0;34m(\u001b[0m\u001b[0;34m'heliocentricmeanecliptic'\u001b[0m\u001b[0;34m)\u001b[0m\u001b[0;34m\u001b[0m\u001b[0;34m\u001b[0m\u001b[0m\n",
      "\u001b[0;31mTypeError\u001b[0m: SkyCoord.spherical_offsets_to() takes 2 positional arguments but 3 were given"
     ]
    }
   ],
   "source": [
    "# prompt: 일심 황도 좌표계로 변환\n",
    "\n",
    "# Assuming 'c' is your ICRS coordinate object without a distance\n",
    "# Add a distance to the ICRS coordinates, for example 1 parsec\n",
    "from astropy import units as u\n",
    "print(\"c :\", c)\n",
    "c_with_distance = c.spherical_offsets_to(c.ra, c.dec)\n",
    "\n",
    "c_hcl = c_with_distance.transform_to('heliocentricmeanecliptic')\n",
    "print(\"c_hcl :\", c_hcl)\n",
    "print(\"c_hcl.lon :\", c_hcl.lon)\n",
    "print(\"c_hcl.lat :\", c_hcl.lat)"
   ]
  },
  {
   "cell_type": "markdown",
   "metadata": {
    "id": "CQ6W5Hc7ibHR"
   },
   "source": [
    "### 별자리 얻기\n",
    "\n",
    "적도 좌표로 부터 해당되는 별자리를 얻을 수 있습니다."
   ]
  },
  {
   "cell_type": "code",
   "execution_count": null,
   "metadata": {
    "colab": {
     "base_uri": "https://localhost:8080/"
    },
    "executionInfo": {
     "elapsed": 13,
     "status": "ok",
     "timestamp": 1724630541568,
     "user": {
      "displayName": "Kiehyun Park",
      "userId": "11752785994579589476"
     },
     "user_tz": -540
    },
    "id": "GCXXwT8XiakC",
    "outputId": "d3c088d7-0a21-4746-a806-e8c75e98c46a"
   },
   "outputs": [
    {
     "name": "stdout",
     "output_type": "stream",
     "text": [
      "get_constellation(c) : Andromeda\n"
     ]
    }
   ],
   "source": [
    "from astropy.coordinates import get_constellation\n",
    "print(\"get_constellation(c) :\", get_constellation(c))"
   ]
  },
  {
   "cell_type": "markdown",
   "metadata": {
    "id": "fsgYemDBAaqz"
   },
   "source": [
    "## Astroquery\n",
    "\n",
    "Astroquery는 천문학자들에게 매우 유용한 파이썬 모듈로 다양한 천문학 데이터베이스와 아카이브에 프로그래밍 방식으로 접근할 수 있게 해주는 Python 패키지입니다. 지원하는 서비스: SIMBAD, VizieR, NASA/IPAC Extragalactic Database (NED), ALMA 등 다수의 천문학 데이터베이스와 연동됩니다."
   ]
  },
  {
   "cell_type": "markdown",
   "metadata": {
    "id": "s4b2seoM_wsI"
   },
   "source": [
    "### Simbad\n",
    "\n",
    "Simbad (Set of Identifications, Measurements, and Bibliography for Astronomical Data) 카탈로그는 천문학 연구에서 매우 중요한 데이터베이스입니다. 천체에 대한 기본 데이터와 서지 정보를 제공하는 것이 주요 목적이며, 프랑스 스트라스부르 천문데이터센터(CDS)에서 관리 및 운영합니다."
   ]
  },
  {
   "cell_type": "markdown",
   "metadata": {
    "id": "SqnYuJ2CBWVW"
   },
   "source": [
    "#### 북극성 자료 불러오기\n",
    "\n",
    "아래와 같이 별 이름으로 그 정보를 불러올 수 있습니다."
   ]
  },
  {
   "cell_type": "code",
   "execution_count": null,
   "metadata": {
    "colab": {
     "base_uri": "https://localhost:8080/"
    },
    "executionInfo": {
     "elapsed": 308,
     "status": "ok",
     "timestamp": 1724630999172,
     "user": {
      "displayName": "Kiehyun Park",
      "userId": "11752785994579589476"
     },
     "user_tz": -540
    },
    "id": "okJjfXxdBB1U",
    "outputId": "7dea1f31-8283-4028-ca07-309a5bb57d94"
   },
   "outputs": [
    {
     "name": "stdout",
     "output_type": "stream",
     "text": [
      "result_table:  MAIN_ID        RA           DEC      ... COO_WAVELENGTH     COO_BIBCODE     SCRIPT_NUMBER_ID\n",
      "             \"h:m:s\"       \"d:m:s\"    ...                                                    \n",
      "--------- ------------- ------------- ... -------------- ------------------- ----------------\n",
      "* alf UMi 02 31 49.0945 +89 15 50.792 ...              O 2007A&A...474..653V                1\n",
      "result_table['RA']:       RA     \n",
      "   \"h:m:s\"   \n",
      "-------------\n",
      "02 31 49.0945\n",
      "result_table['DEC']:      DEC     \n",
      "   \"d:m:s\"   \n",
      "-------------\n",
      "+89 15 50.792\n"
     ]
    }
   ],
   "source": [
    "from astroquery.simbad import Simbad\n",
    "result_table = Simbad.query_object(\"polaris\")\n",
    "print(\"type(result_table):\", type(result_table))\n",
    "print(\"len(result_table):\", len(result_table))\n",
    "print(\"result_table:\",  result_table)"
   ]
  },
  {
   "cell_type": "markdown",
   "metadata": {
    "id": "XZd5tYKOCOuR"
   },
   "source": [
    "적경(RA)과 적위(DEC)는 다음과 같이 불러올 수 있습니다."
   ]
  },
  {
   "cell_type": "code",
   "execution_count": null,
   "metadata": {
    "colab": {
     "base_uri": "https://localhost:8080/"
    },
    "executionInfo": {
     "elapsed": 443,
     "status": "ok",
     "timestamp": 1724631349957,
     "user": {
      "displayName": "Kiehyun Park",
      "userId": "11752785994579589476"
     },
     "user_tz": -540
    },
    "id": "rxiIvaCwCPkb",
    "outputId": "10d5ebd5-03fc-4139-de2c-e2f3fbc1f35f"
   },
   "outputs": [
    {
     "name": "stdout",
     "output_type": "stream",
     "text": [
      "ra : 02 31 49.0945\n",
      "dec : +89 15 50.792\n"
     ]
    }
   ],
   "source": [
    "ra=result_table['RA'][0]\n",
    "dec=result_table['DEC'][0]\n",
    "\n",
    "print(\"ra :\", ra)\n",
    "print(\"dec :\", dec)"
   ]
  },
  {
   "cell_type": "markdown",
   "metadata": {
    "id": "ZPVwJKmOCl3S"
   },
   "source": [
    "#### (과제)\n",
    "\n",
    "Simbad에서 직녀성 좌표 icrs 좌표를 얻어 출력하는 코드를 작성하시오."
   ]
  },
  {
   "cell_type": "code",
   "execution_count": null,
   "metadata": {
    "colab": {
     "base_uri": "https://localhost:8080/"
    },
    "executionInfo": {
     "elapsed": 1412,
     "status": "ok",
     "timestamp": 1724631452506,
     "user": {
      "displayName": "Kiehyun Park",
      "userId": "11752785994579589476"
     },
     "user_tz": -540
    },
    "id": "Uhv8mAvIClRw",
    "outputId": "9b3de972-7225-4d65-b038-eac685501d11"
   },
   "outputs": [
    {
     "name": "stdout",
     "output_type": "stream",
     "text": [
      "<SkyCoord (ICRS): (ra, dec) in deg\n",
      "    (279.23473458, 38.78368889)>\n",
      "279d14m05.0445s 38d47m01.28s\n"
     ]
    }
   ],
   "source": [
    "### 이곳에 코딩을 완성하여 제출하시오.\n",
    "\n",
    "from astroquery.simbad import Simbad\n",
    "\n",
    "\n",
    "\n",
    "\n",
    "\n",
    "\n",
    "\n",
    "\n",
    "\n",
    "print(vega)\n",
    "print(vega.ra, vega.dec)"
   ]
  },
  {
   "cell_type": "markdown",
   "metadata": {
    "id": "SpHZRCqJngRo"
   },
   "source": [
    "## 지평 좌표계\n",
    "\n",
    "지평 좌표계로 변환을 하기 위해서는 먼저 관측소의 위치와 관측 시각에 맞는 AltAz 프레임을 생성이 필요합니다.\n",
    "\n",
    "MPC 관측소 코드 P64(gshs)의 위치 정보를 이용하여 2024년 8월 26일 23시의 AltAz 프레임을 만들어 보면 다음과 같습니다."
   ]
  },
  {
   "cell_type": "code",
   "execution_count": null,
   "metadata": {
    "colab": {
     "base_uri": "https://localhost:8080/"
    },
    "executionInfo": {
     "elapsed": 276,
     "status": "ok",
     "timestamp": 1724634638978,
     "user": {
      "displayName": "Kiehyun Park",
      "userId": "11752785994579589476"
     },
     "user_tz": -540
    },
    "id": "kzNB9BjOAYzP",
    "outputId": "47635531-dda0-46a2-9665-f9c696d1c81a"
   },
   "outputs": [
    {
     "name": "stdout",
     "output_type": "stream",
     "text": [
      "type(altaz_frame) : <class 'astropy.coordinates.builtin_frames.altaz.AltAz'>\n",
      "altaz_frame : <AltAz Frame (obstime=2024-08-26 22:00:00.000, location=(-3057194.16265386, 4056297.14611099, 3844775.78612573) m, pressure=0.0 hPa, temperature=0.0 deg_C, relative_humidity=0.0, obswl=1.0 micron)>\n"
     ]
    }
   ],
   "source": [
    "from astropy.coordinates import AltAz, EarthLocation, SkyCoord\n",
    "from astropy.time import Time\n",
    "import astropy.units as u\n",
    "\n",
    "# 관측 위치와 시간 설정\n",
    "P64 = EarthLocation(lat=37.308889*u.deg, lon=127.005*u.deg, height=101*u.m)\n",
    "time = Time('2024-08-26 14:00:00')\n",
    "\n",
    "# AltAz 프레임 생성\n",
    "altaz_frame = AltAz(obstime=time, location=P64)\n",
    "\n",
    "print(\"type(altaz_frame) :\", type(altaz_frame))\n",
    "print(\"altaz_frame :\", altaz_frame)\n"
   ]
  },
  {
   "cell_type": "markdown",
   "metadata": {
    "id": "QRuEfwJmIzU7"
   },
   "source": [
    "이제 지평 좌표로 쉽게 변환할 수 있습니다."
   ]
  },
  {
   "cell_type": "code",
   "execution_count": null,
   "metadata": {
    "colab": {
     "base_uri": "https://localhost:8080/"
    },
    "executionInfo": {
     "elapsed": 306,
     "status": "ok",
     "timestamp": 1724634707470,
     "user": {
      "displayName": "Kiehyun Park",
      "userId": "11752785994579589476"
     },
     "user_tz": -540
    },
    "id": "X926vQzaIzrM",
    "outputId": "f5e15940-8676-4dc5-8480-e3fdeddcb2ec"
   },
   "outputs": [
    {
     "name": "stdout",
     "output_type": "stream",
     "text": [
      "c: <SkyCoord (ICRS): (ra, dec) in deg\n",
      "    (310.35791667, 45.28027778)>\n",
      "고도: 7.74 deg, 방위각: 323.07 deg\n"
     ]
    }
   ],
   "source": [
    "# 천체의 좌표를 AltAz로 변환\n",
    "print(\"c:\", c)\n",
    "c_altaz = c.transform_to(altaz_frame)\n",
    "\n",
    "print(f\"고도: {c_altaz.alt:.2f}, 방위각: {c_altaz.az:.2f}\")"
   ]
  },
  {
   "cell_type": "markdown",
   "metadata": {
    "id": "IGg54MhWJfDJ"
   },
   "source": [
    "### (과제)\n",
    "\n",
    "MPC 관측소 코드 P64(gshs)에서 2024년 8월 26일 오후 10시 정각(KST)에 M27(아령 성운)의 지평 좌표를 구하는 코드를 완성하시오."
   ]
  },
  {
   "cell_type": "code",
   "execution_count": null,
   "metadata": {
    "colab": {
     "base_uri": "https://localhost:8080/"
    },
    "executionInfo": {
     "elapsed": 284,
     "status": "ok",
     "timestamp": 1724634696301,
     "user": {
      "displayName": "Kiehyun Park",
      "userId": "11752785994579589476"
     },
     "user_tz": -540
    },
    "id": "mLnVvvzW8p9B",
    "outputId": "358f6972-f026-4a56-8722-b4802eee249f"
   },
   "outputs": [
    {
     "name": "stdout",
     "output_type": "stream",
     "text": [
      "M27의 적도좌표: RA = 19:59:36.3631, Dec = 22:43:16.312\n",
      "관측 시간: 2024-08-26 13:00:00\n",
      "M27의 지평 좌표: 고도 = 75.27 deg, 방위각 = 169.44 deg\n"
     ]
    }
   ],
   "source": [
    "#  이곳에 코드를 완성하여 제출하시오.\n",
    "\n",
    "from astropy.coordinates import SkyCoord, EarthLocation, AltAz\n",
    "from astropy.time import Time\n",
    "import astropy.units as u\n",
    "from astroquery.simbad import Simbad\n",
    "\n",
    "\n",
    "\n",
    "\n",
    "\n",
    "\n",
    "\n",
    "\n",
    "\n",
    "\n",
    "\n",
    "print(f\"M27의 지평 좌표: 고도 = {altaz.alt:.2f}, 방위각 = {altaz.az:.2f}\")"
   ]
  }
 ],
 "metadata": {
  "colab": {
   "provenance": []
  },
  "kernelspec": {
   "display_name": "astro_Python_env",
   "language": "python",
   "name": "python3"
  },
  "language_info": {
   "name": "python",
   "version": "3.12.8"
  }
 },
 "nbformat": 4,
 "nbformat_minor": 0
}
