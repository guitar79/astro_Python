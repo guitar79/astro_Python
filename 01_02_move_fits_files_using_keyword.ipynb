{
 "cells": [
  {
   "attachments": {},
   "cell_type": "markdown",
   "metadata": {},
   "source": [
    "# 01_02_move_fits_files_using_keyword"
   ]
  },
  {
   "attachments": {},
   "cell_type": "markdown",
   "metadata": {},
   "source": [
    "## 필요한 모듈\n",
    "\n",
    "이 프로젝트를 위해서는 아래의 모듈이 필요하다. \n",
    "\n",
    "> numpy, pandas, matplotlib, astropy, version_information"
   ]
  },
  {
   "attachments": {},
   "cell_type": "markdown",
   "metadata": {},
   "source": [
    "### 모듈 설치\n",
    "\n",
    "1. 콘솔 창에서 모듈을 설치할 때는 아래와 같은 형식으로 입력하면 된다.\n",
    "\n",
    ">pip install module_name==version\n",
    "\n",
    ">conda install module_name=version\n",
    "\n",
    "2. 주피터 노트북(코랩 포함)에 설치 할 때는 아래의 셀을 실행해서 실행되지 않은 모듈을 설치할 수 있다. (pip 기준) 만약 아나콘다 환경을 사용한다면 7행을 콘다 설치 명령어에 맞게 수정하면 된다."
   ]
  },
  {
   "cell_type": "code",
   "execution_count": null,
   "metadata": {},
   "outputs": [],
   "source": [
    "#import sys\n",
    "#!pip install astropy==5.2 photutils==1.6 #astroscrappy==1.1.1\n",
    "#%pip install astroscrappy==1.1.1"
   ]
  },
  {
   "cell_type": "code",
   "execution_count": null,
   "metadata": {},
   "outputs": [],
   "source": [
    "import importlib, sys, subprocess\n",
    "packages = \"numpy, pandas, matplotlib, scipy, astropy, photutils, ccdproc, astroscrappy, version_information\" # required modules\n",
    "pkgs = packages.split(\", \")\n",
    "for pkg in pkgs :\n",
    "    if not importlib.util.find_spec(pkg):\n",
    "        #print(f\"**** module {pkg} is not installed\")\n",
    "        subprocess.check_call([sys.executable, '-m', 'pip', 'install', pkg, '-q'])\n",
    "    else: \n",
    "        print(f\"**** module {pkg} is installed\")\n",
    "\n",
    "%load_ext version_information\n",
    "import time\n",
    "now = time.strftime(\"%Y-%m-%d %H:%M:%S (%Z = GMT%z)\")\n",
    "print(f\"This notebook was generated at {now} \")\n",
    "\n",
    "vv = %version_information {packages}\n",
    "for i, pkg in enumerate(vv.packages):\n",
    "    print(f\"{i} {pkg[0]:10s} {pkg[1]:s}\")"
   ]
  },
  {
   "attachments": {},
   "cell_type": "markdown",
   "metadata": {},
   "source": [
    "### import modules"
   ]
  },
  {
   "cell_type": "code",
   "execution_count": null,
   "metadata": {},
   "outputs": [],
   "source": [
    "from glob import glob\n",
    "from pathlib import Path, PosixPath, WindowsPath\n",
    "import os\n",
    "from astropy.time import Time\n",
    "from datetime import datetime, timedelta\n",
    "from astropy.io import fits\n",
    "import shutil \n",
    "\n",
    "import ysfitsutilpy as yfu\n",
    "#import ysphotutilpy as ypu\n",
    "#import ysvisutilpy as yvu\n",
    "\n",
    "import _astro_utilities\n",
    "import _Python_utilities"
   ]
  },
  {
   "cell_type": "code",
   "execution_count": null,
   "metadata": {},
   "outputs": [],
   "source": [
    "#######################################################\n",
    "# read all files in base directory for processing\n",
    "BASEDIR = Path(r\"r:\\CCD_obs\") \n",
    "BASEDIR = Path(\"/mnt/Rdata/OBS_data\") \n",
    "#BASEDIR = Path(\"/mnt/OBS_data\") \n",
    "DOINGDIR = ( BASEDIR/ _astro_utilities.CCD_NEW_dir)\n",
    "                \n",
    "DOINGDIRs = sorted(_Python_utilities.getFullnameListOfallsubDirs(str(DOINGDIR)))\n",
    "#print (\"DOINGDIRs: \", format(DOINGDIRs))\n",
    "print (\"len(DOINGDIRs): \", format(len(DOINGDIRs)))"
   ]
  },
  {
   "cell_type": "code",
   "execution_count": null,
   "metadata": {},
   "outputs": [],
   "source": [
    "fnameKEYs = [\"OBJECT\", \"IMAGETYP\", \"FILTER\", \"DATE-OBS\", \n",
    "            \"EXPOSURE\", \"OPTIC\", \"CCDNAME\", \"CCD-TEMP\", \"XBINNING\"]"
   ]
  },
  {
   "cell_type": "code",
   "execution_count": null,
   "metadata": {},
   "outputs": [],
   "source": [
    "#%%\n",
    "for DOINGDIR in DOINGDIRs[30:31] : \n",
    "    DOINGDIR = Path(DOINGDIR)\n",
    "    \n",
    "    print(f\"Starting: {str(DOINGDIR.parts[-1])}\")\n",
    "    summary = yfu.make_summary(DOINGDIR/\"*.fit*\",)\n",
    "    if summary is not None : \n",
    "        print(\"summary: \", summary)\n",
    "        print(\"len(summary)\", len(summary))\n",
    "\n",
    "        for _, row in summary.iterrows():\n",
    "            fpath = Path(row[\"file\"])\n",
    "            print (f\"starting {fpath.name}...\")\n",
    "\n",
    "            new_fname = \"\"\n",
    "\n",
    "            for KEY in fnameKEYs :\n",
    "                if KEY in [\"OBJECT\", \"IMAGETYP\", \"FILTER\", \n",
    "                    \"OPTIC\", \"CCDNAME\", \"CCD-TEMP\"] :\n",
    "                    new_fname += str(row[KEY])\n",
    "                    new_fname += \"_\"\n",
    "                \n",
    "                if KEY == \"DATE-OBS\" : \n",
    "                    new_fname += row[KEY][:19].replace(\"T\",\"-\").replace(\":\",\"-\")+\"_\"\n",
    "\n",
    "                if KEY == \"EXPOSURE\" : \n",
    "                    new_fname += str(int(row[KEY]))+\"sec_\"\n",
    "\n",
    "                if KEY == \"CCD-TEMP\" : \n",
    "                    new_fname += str(int(row[KEY]))+\"c_\"\n",
    "                \n",
    "                if KEY == \"XBINNING\" : \n",
    "                    new_fname += str(row[KEY])+\"bin.fit\"\n",
    "                \n",
    "            print(new_fname)"
   ]
  },
  {
   "cell_type": "code",
   "execution_count": null,
   "metadata": {},
   "outputs": [],
   "source": [
    "for _, row in summary.iterrows():\n",
    "    fpath = Path(row[\"file\"])\n",
    "    print (f\"starting {fpath.name}...\")\n"
   ]
  },
  {
   "cell_type": "code",
   "execution_count": null,
   "metadata": {},
   "outputs": [],
   "source": []
  },
  {
   "cell_type": "code",
   "execution_count": null,
   "metadata": {},
   "outputs": [],
   "source": [
    "summary[fnameKEYs]"
   ]
  },
  {
   "cell_type": "code",
   "execution_count": null,
   "metadata": {},
   "outputs": [],
   "source": [
    "for _, row in summary.iterrows():\n",
    "    fpath = Path(row[\"file\"])\n",
    "    print (f\"starting {fpath.name}...\")\n",
    "\n",
    "    new_fname = \"\"\n",
    "\n",
    "    for KEY in fnameKEYs :\n",
    "        if KEY in [\"OBJECT\", \"IMAGETYP\", \"FILTER\", \n",
    "            \"OPTIC\", \"CCDNAME\", \"CCD-TEMP\"] :\n",
    "            new_fname += str(row[KEY])\n",
    "            new_fname += \"_\"\n",
    "        \n",
    "        if KEY == \"DATE-OBS\" : \n",
    "            new_fname += row[KEY][:19].replace(\"T\",\"-\").replace(\":\",\"-\")+\"_\"\n",
    "\n",
    "        if KEY == \"EXPOSURE\" : \n",
    "            new_fname += str(int(row[KEY]))+\"sec_\"\n",
    "\n",
    "        if KEY == \"CCD-TEMP\" : \n",
    "            new_fname += str(int(row[KEY]))+\"c_\"\n",
    "        \n",
    "        if KEY == \"XBINNING\" : \n",
    "            new_fname += str(row[KEY])+\"bin.fit\"\n",
    "        \n",
    "    print(new_fname)"
   ]
  },
  {
   "cell_type": "code",
   "execution_count": null,
   "metadata": {},
   "outputs": [],
   "source": [
    "new_folder = _astro_utilities.get_new_foldername_from_filename(new_fname)\n",
    "new_fpath =  BASEDIR /_astro_utilities.CCD_obs_raw_dir / new_folder / new_fname\n",
    "print(\"new_fpath: \", new_fpath)"
   ]
  },
  {
   "cell_type": "code",
   "execution_count": null,
   "metadata": {},
   "outputs": [],
   "source": [
    "for checkKEY in checkKEYs: \n",
    "    print(f\"{checkKEY}: \", hdul[0].header[checkKEY])"
   ]
  },
  {
   "cell_type": "code",
   "execution_count": null,
   "metadata": {},
   "outputs": [],
   "source": [
    "print(fpath)\n",
    "new_fname = hdul[0].header[\"OBJECT\"]+\"_\"+hdul[0].header[\"IMAGETYP\"]+\"_\"+hdul[0].header[\"FILTER\"]+\"_\"\n",
    "new_fname += hdul[0].header[\"DATE-OBS\"][:19].replace(\"T\",\"-\").replace(\":\",\"-\")+\"_\"\n",
    "new_fname += str(int(hdul[0].header[\"EXPOSURE\"]))+\"sec_\"\n",
    "new_fname += hdul[0].header[\"OPTIC\"]+\"_\"+hdul[0].header[\"CCDNAME\"]+\"_\"\n",
    "new_fname += str(int(hdul[0].header[\"CCD-TEMP\"]))+\"c_\"+str(hdul[0].header[\"XBINNING\"])+\"bin.fit\"\n",
    "print(\"new_fname: \", new_fname)"
   ]
  },
  {
   "cell_type": "code",
   "execution_count": null,
   "metadata": {},
   "outputs": [],
   "source": [
    "new_folder = _astro_utilities.get_new_foldername_from_filename(new_fname)\n",
    "print(\"new_folder: \", new_folder)\n"
   ]
  },
  {
   "cell_type": "code",
   "execution_count": null,
   "metadata": {},
   "outputs": [],
   "source": [
    "#new_folder = Path(_astro_utilities.get_new_foldername_from_filename(new_fname))\n",
    "new_fpath =  BASEDIR /_astro_utilities.CCD_obs_raw_dir / new_folder / new_fname\n",
    "print(\"new_fpath: \", new_fpath)"
   ]
  },
  {
   "cell_type": "code",
   "execution_count": null,
   "metadata": {},
   "outputs": [],
   "source": [
    "new_fpath.parents[0]\n",
    "new_fpath.parents[0].exists()\n",
    "\n",
    "if not new_fpath.parents[0].exists():\n",
    "    os.makedirs(f'{new_fpath.parents[0]}')\n",
    "    print(f'{new_fpath.parents[0]} is created...')  "
   ]
  },
  {
   "cell_type": "code",
   "execution_count": null,
   "metadata": {},
   "outputs": [],
   "source": [
    "if new_fpath.exists():\n",
    "    duplicate_fpath = BASEDIR / _astro_utilities.CCD_duplicate_dir / new_fpath.name\n",
    "    os.rename(f\"{str(new_fpath)}\", \n",
    "                f\"{str(duplicate_fpath)}\")\n",
    "    print (f\"move {str(new_fpath.name)} to {str(duplicate_fpath)}\")\n",
    "\n",
    "#os.rename(f\"{str(fpath)}\", \n",
    "#            f\"{str(new_fpath)}\")\n",
    "shutil.move\n",
    "print (f\"move {str(fpath.name)} to {str(new_fpath)}\")"
   ]
  },
  {
   "cell_type": "code",
   "execution_count": null,
   "metadata": {},
   "outputs": [],
   "source": [
    "#%%   \n",
    "#############################################################################\n",
    "#Check and delete empty folder....\n",
    "#############################################################################\n",
    "for i in range(4):\n",
    "    DOINGDIR = Path( BASEDIR/ _astro_utilities.CCD_NEW_dir)           \n",
    "    DOINGDIRs = sorted(_Python_utilities.getFullnameListOfallsubDirs(DOINGDIR))\n",
    "    #print (\"DOINGDIRs: \", format(DOINGDIRs))\n",
    "    print (\"len(DOINGDIRs): \", format(len(DOINGDIRs)))\n",
    "\n",
    "    for DOINGDIR in DOINGDIRs :    \n",
    "        if len(os.listdir(str(DOINGDIR))) == 0 :\n",
    "            shutil.rmtree(f\"{str(DOINGDIR)}\") # Delete..\n",
    "            print (f\"rmtree {str(DOINGDIR)}\")\n",
    "        else : \n",
    "            fpaths = _Python_utilities.getFullnameListOfallFiles(str(DOINGDIR))\n",
    "            print(\"fpaths\", fpaths)\n",
    "\n",
    "            for fpath in fpaths[:]:\n",
    "                print(\"fpath\", fpath)\n",
    "\n",
    "                if fpath[-4:].lower() in [\".txt\", \"xisf\", \".zip\", \".png\", \".log\",\n",
    "                                            \"seal\", \"tiff\", \".axy\", \"atch\", \"lved\",\n",
    "                                            \"rdls\", \"xyls\", \"corr\", \"xosm\", \".ini\",\n",
    "                                            \".wcs\", \".csv\"] \\\n",
    "                                        and os.path.isfile(fpath):\n",
    "                    os.remove(\"{}\".format(fpath))\n",
    "                    print(\"{} is removed...\".format(fpath)) "
   ]
  },
  {
   "cell_type": "code",
   "execution_count": null,
   "metadata": {},
   "outputs": [],
   "source": [
    "fpath = Path(\"/mnt/homes/parksparks/Drive/KBox/Github/astro_Python/01_08_solving_fits_using_PICs.py\")"
   ]
  },
  {
   "cell_type": "code",
   "execution_count": null,
   "metadata": {},
   "outputs": [],
   "source": [
    "fname = fpath.name"
   ]
  },
  {
   "cell_type": "code",
   "execution_count": null,
   "metadata": {},
   "outputs": [],
   "source": [
    "fpath.suffix\n",
    "fpath.parent"
   ]
  }
 ],
 "metadata": {
  "kernelspec": {
   "display_name": "astro_Python_ubuntu_env",
   "language": "python",
   "name": "python3"
  },
  "language_info": {
   "codemirror_mode": {
    "name": "ipython",
    "version": 3
   },
   "file_extension": ".py",
   "mimetype": "text/x-python",
   "name": "python",
   "nbconvert_exporter": "python",
   "pygments_lexer": "ipython3",
   "version": "3.11.0"
  },
  "orig_nbformat": 4,
  "vscode": {
   "interpreter": {
    "hash": "73147851ede918c26f741c84bca6ea3575da18885c8fa4aa4a9fbe5902a3c298"
   }
  }
 },
 "nbformat": 4,
 "nbformat_minor": 2
}
