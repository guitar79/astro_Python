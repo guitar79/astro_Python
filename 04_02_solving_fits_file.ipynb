{
 "cells": [
  {
   "attachments": {},
   "cell_type": "markdown",
   "metadata": {},
   "source": [
    "# 02_03_solving_fits_and_making_sh"
   ]
  },
  {
   "attachments": {},
   "cell_type": "markdown",
   "metadata": {},
   "source": [
    "## 필요한 환경\n",
    "\n",
    "이 프로젝트를 위해서는 아래의 모듈이 필요합니다.\n",
    "\n",
    "> numpy, pandas, matplotlib, scipy, astropy, photutils, ccdproc, ysfitsutilpy, ysphotutilpy, version_information"
   ]
  },
  {
   "attachments": {},
   "cell_type": "markdown",
   "metadata": {},
   "source": [
    "### 모듈 버전 확인\n",
    "\n",
    "아래 셀을 실행하면 이 노트북을 실행한 파이썬 및 관련 모듈의 버전을 확인할 수 있다."
   ]
  },
  {
   "cell_type": "code",
   "execution_count": null,
   "metadata": {},
   "outputs": [],
   "source": [
    "import importlib, sys, subprocess\n",
    "packages = \"numpy, pandas, matplotlib, scipy, astropy, ccdproc, ysfitsutilpy, ysphotutilpy, version_information\" # required modules\n",
    "pkgs = packages.split(\", \")\n",
    "\n",
    "for pkg in pkgs :\n",
    "    if not importlib.util.find_spec(pkg):\n",
    "        print(f\"**** module {pkg} is not installed... now start install\")\n",
    "        subprocess.check_call([sys.executable, '-m', 'pip', 'install', pkg, '-q'])\n",
    "        print(f\"****** module {pkg} is installed\")\n",
    "    else: \n",
    "        print(f\"**** module {pkg} is installed\")\n",
    "\n",
    "%load_ext version_information\n",
    "import time\n",
    "now = time.strftime(\"%Y-%m-%d %H:%M:%S (%Z = GMT%z)\")\n",
    "print(f\"This notebook was generated at {now} \")\n",
    "\n",
    "vv = %version_information {packages}\n",
    "for i, pkg in enumerate(vv.packages):\n",
    "    print(f\"{i} {pkg[0]:10s} {pkg[1]:s}\")"
   ]
  },
  {
   "attachments": {},
   "cell_type": "markdown",
   "metadata": {},
   "source": [
    "### import modules"
   ]
  },
  {
   "cell_type": "code",
   "execution_count": null,
   "metadata": {},
   "outputs": [],
   "source": [
    "from glob import glob\n",
    "from pathlib import Path\n",
    "import os\n",
    "from astropy.io import fits\n",
    "import astropy.units as u\n",
    "\n",
    "from astroquery.astrometry_net import AstrometryNet\n",
    "\n",
    "import ysfitsutilpy as yfu\n",
    "\n",
    "import _astro_utilities\n",
    "import _Python_utilities"
   ]
  },
  {
   "cell_type": "markdown",
   "metadata": {},
   "source": [
    "# 환경 설정"
   ]
  },
  {
   "cell_type": "code",
   "execution_count": null,
   "metadata": {},
   "outputs": [],
   "source": [
    "#%%\n",
    "#######################################################\n",
    "BASEDIR = Path(\"/mnt/Rdata/OBS_data\") \n",
    "PROJECDIR = Path(\"/mnt/Rdata/OBS_data/2024-EXO\")\n",
    "TODODIR = PROJECDIR / \"_-_-_2024-05_-_GSON300_STF-8300M_-_1bin\"\n",
    "TODODIR = PROJECDIR / \"_-_-_2024-06_-_GSON300_STF-8300M_-_1bin\"\n",
    "TODODIR = PROJECDIR / \"RiLA600_STX-16803_-_1bin\"\n",
    "TODODIR = PROJECDIR / \"RiLA600_STX-16803_-_2bin\"\n",
    "\n",
    "PROJECDIR = Path(\"/mnt/Rdata/OBS_data/2022-Asteroid\")\n",
    "TODODIR = PROJECDIR / \"GSON300_STF-8300M_-_1bin\"\n",
    "TODODIR = PROJECDIR / \"RiLA600_STX-16803_-_1bin\"\n",
    "TODODIR = PROJECDIR / \"RiLA600_STX-16803_-_2bin\"\n",
    "\n",
    "PROJECDIR = Path(\"/mnt/Rdata/OBS_data/2023-Asteroid\")\n",
    "TODODIR = PROJECDIR / \"GSON300_STF-8300M_-_1bin\"\n",
    "TODODIR = PROJECDIR / \"RiLA600_STX-16803_-_1bin\"\n",
    "TODODIR = PROJECDIR / \"RiLA600_STX-16803_-_2bin\"\n",
    "\n",
    "PROJECDIR = Path(\"/mnt/Rdata/OBS_data/2016-Variable\")\n",
    "TODODIR = PROJECDIR / \"-_-_-_2016-_-_RiLA600_STX-16803_-_2bin\"\n",
    "\n",
    "# PROJECDIR = Path(\"/mnt/Rdata/OBS_data/2017-Variable\")\n",
    "# TODODIR = PROJECDIR / \"-_-_-_2017-_-_RiLA600_STX-16803_-_2bin\"\n",
    "\n",
    "DOINGDIRs = sorted(_Python_utilities.getFullnameListOfsubDirs(TODODIR))\n",
    "print (\"DOINGDIRs: \", format(DOINGDIRs))\n",
    "print (\"len(DOINGDIRs): \", format(len(DOINGDIRs)))\n",
    "\n",
    "BDFDIR = [x for x in DOINGDIRs if \"CAL-BDF\" in str(x)]\n",
    "print (\"BDFDIR: \", format(BDFDIR))\n",
    "\n",
    "MASTERDIR = Path(BDFDIR[0]) / _astro_utilities.master_dir\n",
    "if not MASTERDIR.exists():\n",
    "    os.makedirs(\"{}\".format(str(MASTERDIR)))\n",
    "    print(\"{} is created...\".format(str(MASTERDIR)))\n",
    "print (\"MASTERDIR: \", format(MASTERDIR))\n",
    "\n",
    "DOINGDIRs = sorted([x for x in DOINGDIRs if \"_LIGHT_\" in str(x)])\n",
    "# print (\"DOINGDIRs: \", format(DOINGDIRs))\n",
    "# print (\"len(DOINGDIRs): \", format(len(DOINGDIRs)))\n",
    "\n",
    "# filter_str = 'HAT-P-37b_LIGHT_-_2024-06-28_-_RiLA600_STX-16803_-_2bin'\n",
    "# DOINGDIRs = [x for x in DOINGDIRs if filter_str in str(x)]\n",
    "# remove = 'BIAS'\n",
    "# DOINGDIRs = [x for x in DOINGDIRs if remove not in x]\n",
    "# remove = 'DARK'\n",
    "# DOINGDIRs = [x for x in DOINGDIRs if remove not in x]\n",
    "# remove = 'FLAT'\n",
    "# DOINGDIRs = [x for x in DOINGDIRs if remove not in x]\n",
    "print (\"DOINGDIRs: \", DOINGDIRs)\n",
    "print (\"len(DOINGDIRs): \", len(DOINGDIRs))\n",
    "#######################################################"
   ]
  },
  {
   "cell_type": "code",
   "execution_count": null,
   "metadata": {},
   "outputs": [],
   "source": [
    "# DOINGDIR = Path('/mnt/Rdata/OBS_data/CCD_obs_test/M13_LIGHT_-_2022-04-02_-_FS60CB_STF-8300M_-_1bin')\n",
    "# print(\"DOINGDIR\", DOINGDIR)\n",
    "# SOLVINGDIR = DOINGDIR / _astro_utilities.reduced_dir\n",
    "# SOLVINGDIR = DOINGDIR / _astro_utilities.reduced_nightsky_dir\n",
    "# SOLVINGDIR = DOINGDIR\n",
    "\n",
    "# summary = yfu.make_summary(SOLVINGDIR/\"*.fit*\")\n",
    "# if summary is not None :\n",
    "#     print(\"len(summary):\", len(summary))\n",
    "#     print(\"summary:\", summary)\n",
    "#     #print(summary[\"file\"][0])  \n",
    "#     df_light = summary.loc[summary[\"IMAGETYP\"] == \"LIGHT\"].copy()\n",
    "#     df_light = df_light.reset_index(drop=True)\n",
    "#     print(\"df_light:\\n{}\".format(df_light))\n",
    "# df_light\n"
   ]
  },
  {
   "cell_type": "code",
   "execution_count": null,
   "metadata": {},
   "outputs": [],
   "source": [
    "for DOINGDIR in DOINGDIRs :\n",
    "    DOINGDIR = Path(DOINGDIR)\n",
    "    print(\"DOINGDIR\", DOINGDIR)\n",
    "    SOLVINGDIR = DOINGDIR / _astro_utilities.reduced_dir\n",
    "    SOLVINGDIR = DOINGDIR / _astro_utilities.reduced_nightsky_dir\n",
    "    SOLVINGDIR = DOINGDIR"
   ]
  },
  {
   "cell_type": "code",
   "execution_count": null,
   "metadata": {},
   "outputs": [],
   "source": [
    "DOINGDIR = Path(DOINGDIRs[0])\n",
    "print(\"DOINGDIR\", DOINGDIR)\n",
    "SOLVINGDIR = DOINGDIR / _astro_utilities.reduced_dir\n",
    "SOLVINGDIR = DOINGDIR / _astro_utilities.reduced_nightsky_dir\n",
    "SOLVINGDIR = DOINGDIR\n",
    "\n",
    "summary = yfu.make_summary(SOLVINGDIR/\"*.fit*\")\n",
    "if summary is not None :\n",
    "    print(\"len(summary):\", len(summary))\n",
    "    print(\"summary:\", summary)\n",
    "    #print(summary[\"file\"][0])  \n",
    "    df_light = summary.loc[summary[\"IMAGETYP\"] == \"LIGHT\"].copy()\n",
    "    df_light = df_light.reset_index(drop=True)\n",
    "    print(\"df_light:\\n{}\".format(df_light))\n",
    "df_light\n",
    "\n",
    "for _, row  in df_light.iterrows():\n",
    "\n",
    "    fpath = Path(row[\"file\"])\n",
    "    # fpath = Path(df_light[\"file\"][1])\n",
    "    print(\"fpath :\" ,fpath)\n",
    "    hdul = fits.open(fpath)\n",
    "\n",
    "    if 'PIXSCALE' in hdul[0].header:\n",
    "        PIXc = hdul[0].header['PIXSCALE']\n",
    "    else : \n",
    "        PIXc = _astro_utilities.calPixScale(hdul[0].header['FOCALLEN'], \n",
    "                                            hdul[0].header['XPIXSZ'],\n",
    "                                            hdul[0].header['XBINNING'])\n",
    "    print(\"PIXc : \", PIXc)\n",
    "    hdul.close()\n",
    "\n",
    "    solved = _astro_utilities.KevinSolver(fpath, \n",
    "                                            #str(SOLVEDDIR), \n",
    "                                            # downsample = 2,\n",
    "                                            # pixscale = PIXc,\n",
    "                                            tryASTAP = True, \n",
    "                                            tryLOCAL = False,\n",
    "                                            makeLOCALsh = True,\n",
    "                                            tryASTROMETRYNET = False, \n",
    "                                            )\n"
   ]
  }
 ],
 "metadata": {
  "kernelspec": {
   "display_name": "astro_Python_ubuntu_env",
   "language": "python",
   "name": "python3"
  },
  "language_info": {
   "codemirror_mode": {
    "name": "ipython",
    "version": 3
   },
   "file_extension": ".py",
   "mimetype": "text/x-python",
   "name": "python",
   "nbconvert_exporter": "python",
   "pygments_lexer": "ipython3",
   "version": "3.11.9"
  },
  "orig_nbformat": 4,
  "vscode": {
   "interpreter": {
    "hash": "73147851ede918c26f741c84bca6ea3575da18885c8fa4aa4a9fbe5902a3c298"
   }
  }
 },
 "nbformat": 4,
 "nbformat_minor": 2
}
