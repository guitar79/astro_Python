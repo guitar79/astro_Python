{
 "cells": [
  {
   "attachments": {},
   "cell_type": "markdown",
   "metadata": {},
   "source": [
    "# 02_00_CCD_Photometry"
   ]
  },
  {
   "cell_type": "markdown",
   "metadata": {},
   "source": [
    "## 모듈 버전\n",
    "\n",
    "photoutils는 1.12 버전을 사용해야 한다."
   ]
  },
  {
   "cell_type": "code",
   "execution_count": null,
   "metadata": {},
   "outputs": [],
   "source": [
    "!pip install photutils==1.12"
   ]
  },
  {
   "cell_type": "markdown",
   "metadata": {},
   "source": [
    "## 설치된 모듈 확인\n",
    "\n",
    "아래의 셀은 설치된 모듈을 버전까지 쉽게 확인할 수 있도록 코딩한 것입니다."
   ]
  },
  {
   "cell_type": "code",
   "execution_count": null,
   "metadata": {},
   "outputs": [],
   "source": [
    "import importlib, sys, subprocess\n",
    "packages = \"numpy, matplotlib, astropy, ccdproc, jupyter-book, pyppeteer, opencv-python, sep, astro_ndslice, seaborn, photutils, ysfitsutilpy, ysphotutilpy, version_information\" # required modules\n",
    "pkgs = packages.split(\", \")\n",
    "for pkg in pkgs :\n",
    "    if not importlib.util.find_spec(pkg):\n",
    "        subprocess.check_call([sys.executable, '-m', 'pip', 'install', pkg, '-q']) # pip install\n",
    "        #subprocess.check_call([sys.executable, '-m', 'conda', 'install', pkg, ]) # conda install\n",
    "        print(f\"**** {pkg} module is now being installed.\")\n",
    "    else:\n",
    "        print(f\"******** {pkg} module is already installed.\")\n",
    "print(\"#\"*60)\n",
    "%load_ext version_information\n",
    "import time\n",
    "now = time.strftime(\"%Y-%m-%d %H:%M:%S (%Z = GMT%z)\")\n",
    "print(f\"This notebook was generated at {now} \")\n",
    "\n",
    "vv = %version_information {packages}\n",
    "for i, pkg in enumerate(vv.packages):\n",
    "    print(f\"{i} {pkg[0]:10s} {pkg[1]:s}\")"
   ]
  },
  {
   "cell_type": "markdown",
   "metadata": {},
   "source": [
    "2025년 1월 12일 현재 정상 동작하는 모듈 버전\n",
    "* 0 Python     3.11.11 64bit [GCC 11.2.0]\n",
    "* 1 IPython    8.27.0\n",
    "* 2 OS         Linux 6.8.0 51 generic x86_64 with glibc2.39\n",
    "* 3 numpy      1.26.4\n",
    "* 4 matplotlib 3.9.2\n",
    "* 5 astropy    6.1.3\n",
    "* 6 ccdproc    2.4.2\n",
    "* 7 jupyter-book 1.0.3\n",
    "* 8 pyppeteer  1.0.2\n",
    "* 9 opencv-python 4.10.0.84\n",
    "* 10 sep        1.2.1\n",
    "* 11 astro_ndslice 0.2\n",
    "* 12 seaborn    0.13.2\n",
    "* 13 photutils  1.12.0\n",
    "* 14 ysfitsutilpy 0.2\n",
    "* 15 ysphotutilpy 0.1.1\n",
    "* 16 version_information 1.0.4"
   ]
  },
  {
   "attachments": {},
   "cell_type": "markdown",
   "metadata": {},
   "source": [
    "## import modules"
   ]
  },
  {
   "cell_type": "code",
   "execution_count": 2,
   "metadata": {},
   "outputs": [],
   "source": [
    "from glob import glob\n",
    "from pathlib import Path\n",
    "import numpy as np\n",
    "import matplotlib.pyplot as plt\n",
    "import astropy.units as u\n",
    "from astropy.coordinates import EarthLocation\n",
    "\n",
    "import _astro_utilities\n",
    "import _Python_utilities\n",
    "\n",
    "plt.rcParams.update({'figure.max_open_warning': 0})\n",
    "\n",
    "import warnings\n",
    "warnings.filterwarnings('ignore')"
   ]
  },
  {
   "cell_type": "markdown",
   "metadata": {},
   "source": [
    "## 변수 설정"
   ]
  },
  {
   "cell_type": "code",
   "execution_count": null,
   "metadata": {},
   "outputs": [],
   "source": [
    "count_stars = False\n",
    "verbose = False\n",
    "tryagain = False\n",
    "trynightsky = False\n",
    "tryASTROMETRYNET = True\n",
    "# file_age = 365\n",
    "# downsample = 4"
   ]
  },
  {
   "cell_type": "markdown",
   "metadata": {},
   "source": [
    "## 프로젝트 폴더 \n",
    "\n",
    "그리고 프로젝트 마다 폴더를 구분하여 저장하고 있으며, 프로젝트 폴더마다 전처리를 동일한 파일로 수행하는 방법을 택하고 있습니다. \n",
    "전처리 파일은 \"CAL-BDF\" 폴더에 모두 넣어두고 마스터 파일을 만들어서 사용합니다. 이때 폴더명/파일명은 pathlib을 이용하여 처리합니다."
   ]
  },
  {
   "cell_type": "code",
   "execution_count": 3,
   "metadata": {},
   "outputs": [],
   "source": [
    "#%%\n",
    "#######################################################\n",
    "BASEDIR = Path(\"/mnt/Rdata/ASTRO_data\")  \n",
    "\n",
    "PROJECDIR = BASEDIR / \"C1-Variable\"\n",
    "TODODIR = PROJECDIR / \"-_-_-_2016-_-_RiLA600_STX-16803_-_2bin\"\n",
    "# TODODIR = PROJECDIR / \"-_-_-_2017-01_-_RiLA600_STX-16803_-_2bin\"\n",
    "# TODODIR = PROJECDIR / \"-_-_-_2017-03_-_RiLA600_STX-16803_-_2bin\"\n",
    "# TODODIR = PROJECDIR / \"-_-_-_2017-05_-_RiLA600_STX-16803_-_2bin\"\n",
    "# TODODIR = PROJECDIR / \"-_-_-_2017-06_-_RiLA600_STX-16803_-_2bin\"\n",
    "# TODODIR = PROJECDIR / \"-_-_-_2021-10_-_RiLA600_STX-16803_-_2bin\"\n",
    "# TODODIR = PROJECDIR / \"-_-_-_2022-01_-_RiLA600_STX-16803_-_2bin\"\n",
    "\n",
    "# PROJECDIR = BASEDIR / \"C2-Asteroid\"\n",
    "# TODODIR = PROJECDIR / \"-_-_-_2022-_-_GSON300_STF-8300M_-_1bin\"\n",
    "# TODODIR = PROJECDIR / \"-_-_-_2022-_-_RiLA600_STX-16803_-_1bin\"\n",
    "# TODODIR = PROJECDIR / \"-_-_-_2022-_-_RiLA600_STX-16803_-_2bin\"\n",
    "# TODODIR = PROJECDIR / \"-_-_-_2023-_-_GSON300_STF-8300M_-_1bin\"\n",
    "# TODODIR = PROJECDIR / \"-_-_-_2023-_-_RiLA600_STX-16803_-_1bin\"\n",
    "# TODODIR = PROJECDIR / \"-_-_-_2023-_-_RiLA600_STX-16803_-_2bin\"\n",
    "\n",
    "PROJECDIR = BASEDIR / \"C3-EXO\"\n",
    "TODODIR = PROJECDIR / \"-_-_-_2024-05_-_GSON300_STF-8300M_-_1bin\"\n",
    "TODODIR = PROJECDIR / \"-_-_-_2024-05_-_RiLA600_STX-16803_-_1bin\"\n",
    "TODODIR = PROJECDIR / \"-_-_-_2024-06_-_GSON300_STF-8300M_-_1bin\"\n",
    "TODODIR = PROJECDIR / \"-_-_-_2024-06_-_RiLA600_STX-16803_-_2bin\"\n",
    "TODODIR = PROJECDIR / \"-_-_-_2024-09_-_GSON300_STF-8300M_-_1bin\"\n",
    "TODODIR = PROJECDIR / \"-_-_-_2024-09_-_RiLA600_ASI6200MMPro_-_2bin\"\n",
    "TODODIR = PROJECDIR / \"-_-_-_2024-11_-_GSON300_STF-8300M_-_1bin\"\n",
    "# TODODIR = PROJECDIR / \"-_-_-_2024-11_-_RiLA600_ASI6200MMPro_-_3bin\"\n",
    "\n",
    "# PROJECDIR = BASEDIR / \"C4-Spectra\"\n",
    "# TODODIR = PROJECDIR / \"-_-_-_2024-05_TEC140_ASI183MMPro_-_1bin\"\n",
    "\n",
    "# PROJECDIR = BASEDIR / \"C5-Test\"\n",
    "# TODODIR = PROJECDIR / \"-_-_-_-_GSON300_STF-8300M_-_1bin\"\n",
    "\n",
    "DOINGDIRs = sorted(_Python_utilities.getFullnameListOfsubDirs(TODODIR))\n",
    "if verbose == True :\n",
    "    print (\"DOINGDIRs: \", format(DOINGDIRs))\n",
    "    print (\"len(DOINGDIRs): \", format(len(DOINGDIRs)))\n",
    "\n",
    "try : \n",
    "    BDFDIR = [x for x in DOINGDIRs if \"CAL-BDF\" in str(x)]\n",
    "    print (\"BDFDIR: \", format(BDFDIR))\n",
    "    BDFDIR = Path(BDFDIR[0])    \n",
    "except : \n",
    "    BDFDIR = TODODIR\n",
    "    pass\n",
    "\n",
    "DOINGDIRs = sorted([x for x in DOINGDIRs if \"_LIGHT_\" in str(x)])\n",
    "# print (\"DOINGDIRs: \", format(DOINGDIRs))\n",
    "# print (\"len(DOINGDIRs): \", format(len(DOINGDIRs)))\n",
    "\n",
    "filter_str = '2025-01-09'\n",
    "DOINGDIRs = [x for x in DOINGDIRs if filter_str in str(x)]\n",
    "# remove = 'BIAS'\n",
    "# DOINGDIRs = [x for x in DOINGDIRs if remove not in x]\n",
    "# remove = 'DARK'\n",
    "# DOINGDIRs = [x for x in DOINGDIRs if remove not in x]\n",
    "# remove = 'FLAT'\n",
    "# DOINGDIRs = [x for x in DOINGDIRs if remove not in x]\n",
    "if verbose == True :\n",
    "    print (\"DOINGDIRs: \", DOINGDIRs)\n",
    "    print (\"len(DOINGDIRs): \", len(DOINGDIRs))\n",
    "#######################################################"
   ]
  },
  {
   "cell_type": "markdown",
   "metadata": {},
   "source": [
    "## 환경 변수 설정"
   ]
  },
  {
   "cell_type": "code",
   "execution_count": null,
   "metadata": {},
   "outputs": [],
   "source": [
    "#####################################################################\n",
    "# Observed location\n",
    "LOCATION = dict(lon=127.005, lat=37.308889, elevation=101)\n",
    "Suwon =  EarthLocation(lon=127.005 * u.deg, \n",
    "                                 lat=37.308889 * u.deg, \n",
    "                                 height=101 * u.m)\n",
    "observatory_code = \"P64\"\n",
    "\n",
    "# Used for any `astropy.SkyCoord` object:\n",
    "SKYC_KW = dict(unit=u.deg, frame='icrs')\n",
    "#######################################################\n",
    "# Initial guess of FWHM in pixel\n",
    "FWHM_INIT = 4\n",
    "\n",
    "# Photometry parameters\n",
    "# R_AP = 1.5*FWHM_INIT # Aperture radius\n",
    "# R_IN = 4*FWHM_INIT   # Inner radius of annulus\n",
    "# R_OUT = 6*FWHM_INIT  # Outer radius of annulus\n",
    "\n",
    "Mag_Low = 11.5\n",
    "Mag_High = 15\n",
    "\n",
    "Mag_target = 12.5\n",
    "Mag_delta = 2\n",
    "ERR_Max = 0.5\n",
    "\n",
    "coord_deltas = np.arange(0.00001, 0.00050, 0.00001)\n",
    "#######################################################"
   ]
  },
  {
   "cell_type": "markdown",
   "metadata": {},
   "source": [
    "## Combine master BIAS, DARK, FLAT\n",
    "\n",
    "하나의 ``TODODIR`` 안의 모든 관측 파일들은 같은 BIAS, DARK, FLAT 파일을 사용한다. BIAS, DARK, FLAT 파일들은 ``BDFDIR`` 안에 들어 있으며 ``TODODIR`` 안에는 ``BDFDIR`` 푤더는 하만 있어야 합니다. \n",
    "\n",
    "아래 코드를 실행하면 ``BDFDIR`` 안의 모든 ``master_files_ys``라는 폴더를 만들어 BIAS, DARK, FLAT의 master file들을 자동으로 합성합니다."
   ]
  },
  {
   "cell_type": "code",
   "execution_count": null,
   "metadata": {},
   "outputs": [],
   "source": [
    "print(\"BDFDIR :\", BDFDIR)\n",
    "try :\n",
    "    _astro_utilities.combine_BDF(BDFDIR,  \n",
    "                tryagain = tryagain, \n",
    "                # file_age = file_age,  #default 365 days \n",
    "                verbose = verbose,\n",
    "                )\n",
    "except Exception as err :\n",
    "    print(\"X\"*60)\n",
    "    print(str(err))\n",
    "    pass"
   ]
  },
  {
   "cell_type": "markdown",
   "metadata": {},
   "source": [
    "## 측광을 수행할 폴더\n",
    "\n",
    "``DOINGDIRs``에 들어 있는 모든 폴더에 대해 측광을 수행한다. 우선 첫번째 폴더만 측광을 수행해 보겠습니다."
   ]
  },
  {
   "cell_type": "code",
   "execution_count": null,
   "metadata": {},
   "outputs": [],
   "source": [
    "DOINGDIR = DOINGDIRs[0]"
   ]
  },
  {
   "cell_type": "markdown",
   "metadata": {},
   "source": [
    "## Plate solving\n",
    "\n",
    "각각의 별들의 좌표를 확인하여 비교 측광을 수행하기 위해서는 plate solving이 필수적이다. plate solving 하는 방법은 다양한데, 다음과 같은 순서대로 시도를 하는 것이 좋습니다.\n",
    "\n",
    "### ASTAP\n",
    "가장 빠르고 손쉽게 plate solving을 수행할 수 있는 방법으로 windows, mac, ubuntu 모두 지원하며 자세한 설치 및 사용법은 관련 사이트를 참고하시기 바랍니다.\n",
    "\n",
    "### astrometry local solver\n",
    "가장 강력한 plate solving 도구입니다. windows, mac, ubuntu 모두 설치 가능하지만, windows의 경우에는 콘솔 창에서 실행하기 어려워, mac이나 ubuntu 사용을 권장합니다.\n",
    "\n",
    "### astrometry server\n",
    "위의 두가지 방법으로 plate solving이 실패할 경우 마지막으로 시도할 방법입니다. api 키를 이용하여 온라인으로 서버에 파일을 전송하여 plate solving을 수행합니다.\n",
    "\n",
    "\n",
    "\n",
    "> find '/mnt/Rdata/ASTRO_data/C3-EXO/-_-_-_2024-11_-_GSON300_STF-8300M_-_1bin/XO-6b_LIGHT_-_2025-01-09_-_GSON300_STF-8300M_-_1bin/' -type f -name '*.fit' -exec astap -f '{}' -wcs -analyse2 -update \\;\n",
    "> find '/mnt/Rdata/ASTRO_data/C3-EXO/-_-_-_2024-11_-_GSON300_STF-8300M_-_1bin/Qatar-9b_LIGHT_-_2025-01-09_-_GSON300_STF-8300M_-_1bin/' -type f -name '*.fit' -exec solve-field -O --downsample 4 --nsigma 30 --cpulimit 20 '{}' \\;\n",
    "> print(f\"astap -f {str(fpath)} -fov {hfov} -wcs -analyse2 -update\")    \n",
    "> os.system(f\"astap -f {str(fpath)} -fov {hfov} -wcs -analyse2 -update\")\n"
   ]
  },
  {
   "cell_type": "code",
   "execution_count": 4,
   "metadata": {},
   "outputs": [
    {
     "name": "stdout",
     "output_type": "stream",
     "text": [
      "All 49 keywords (guessed from /mnt/Rdata/ASTRO_data/C1-Variable/-_-_-_2017-01_-_RiLA600_STX-16803_-_2bin/-_CAL-BDF_-_2017-01_-_RiLA600_STX-16803_-_2bin/-_BIAS_-_2017-01-02-22-03-32_0sec_-_STX-16803_-20c_2bin.fit) will be loaded.\n"
     ]
    }
   ],
   "source": [
    "try : \n",
    "    _astro_utilities.solving_fits_file(DOINGDIR,\n",
    "            # downsample = downsample, # default 4\n",
    "            # count_stars = count_stars,\n",
    "            tryagain = tryagain,\n",
    "            tryASTAP = True, # default False \n",
    "            tryASTROMETRYNET = tryASTROMETRYNET,\n",
    "            verbose = verbose,\n",
    "            )  \n",
    "except Exception as err :\n",
    "    print(\"X\"*60)\n",
    "    print(str(err))\n",
    "    pass"
   ]
  },
  {
   "cell_type": "markdown",
   "metadata": {},
   "source": [
    "## CCD reduction\n",
    "\n",
    "다음의 코드를 실행하면 CCD preprocessing을 실행합니다."
   ]
  },
  {
   "cell_type": "code",
   "execution_count": null,
   "metadata": {},
   "outputs": [],
   "source": [
    "try :\n",
    "    _astro_utilities.ccd_Reduction(DOINGDIR,\n",
    "            BDFDIR,\n",
    "            tryagain = False,\n",
    "            trynightsky = trynightsky,\n",
    "            # file_age = file_age,  #default 365 days \n",
    "            verbose = verbose,\n",
    "            )\n",
    "except Exception as err :\n",
    "    print(\"X\"*60)\n",
    "    print(str(err))\n",
    "    pass"
   ]
  },
  {
   "cell_type": "markdown",
   "metadata": {},
   "source": [
    "## plate solving again\n",
    "\n",
    "CCD reduction을 수행하기 전에는 plate solving을 실패하지만 이후에 성공하는 사례가 있어 다시한번 plate solving을 시도합니다.\n"
   ]
  },
  {
   "cell_type": "code",
   "execution_count": null,
   "metadata": {},
   "outputs": [],
   "source": [
    "try :\n",
    "    _astro_utilities.solving_fits_file(DOINGDIR,\n",
    "            SOLVINGDIR = _astro_utilities.reduced_dir,\n",
    "            # downsample = downsample, # default 4\n",
    "            tryagain = tryagain,\n",
    "            tryASTAP = True, # default False\n",
    "            tryASTROMETRYNET = tryASTROMETRYNET,\n",
    "            verbose = verbose,     \n",
    "            ) \n",
    "except Exception as err :\n",
    "    print(\"X\"*60)\n",
    "    print(str(err))\n",
    "    pass"
   ]
  },
  {
   "cell_type": "markdown",
   "metadata": {},
   "source": [
    "## Differential photometry using PS1 catalogue\n",
    "\n",
    "다음 코드를 실행하면 PAN-STARS catalogue를 이용하여 비교 측광을 수행합니다."
   ]
  },
  {
   "cell_type": "code",
   "execution_count": null,
   "metadata": {},
   "outputs": [],
   "source": [
    "try :\n",
    "    _astro_utilities.diff_Photometry_PS1(DOINGDIR,\n",
    "            tryagain = tryagain, # True, \n",
    "            LOCATION = LOCATION,\n",
    "            SKYC_KW = SKYC_KW,\n",
    "            FWHM_INIT = FWHM_INIT,\n",
    "            Mag_Low = Mag_Low,\n",
    "            Mag_High = Mag_High,\n",
    "            Mag_target = Mag_target,\n",
    "            Mag_delta = Mag_delta,\n",
    "            ERR_Max = ERR_Max,\n",
    "            READINGDIR =  _astro_utilities.reduced_dir,\n",
    "            # READINGDIR =  _astro_utilities.reduced_nightsky_dir,\n",
    "            # file_age = file_age,  #default 365 days \n",
    "            verbose = verbose,   \n",
    "            ) \n",
    "except Exception as err :\n",
    "    print(\"X\"*60)\n",
    "    print(str(err))\n",
    "    pass\n"
   ]
  }
 ],
 "metadata": {
  "kernelspec": {
   "display_name": "astro_Python_env",
   "language": "python",
   "name": "python3"
  },
  "language_info": {
   "codemirror_mode": {
    "name": "ipython",
    "version": 3
   },
   "file_extension": ".py",
   "mimetype": "text/x-python",
   "name": "python",
   "nbconvert_exporter": "python",
   "pygments_lexer": "ipython3",
   "version": "3.11.11"
  },
  "orig_nbformat": 4
 },
 "nbformat": 4,
 "nbformat_minor": 2
}
