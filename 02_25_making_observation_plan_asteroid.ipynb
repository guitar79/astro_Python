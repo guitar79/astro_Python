{
  "cells": [
    {
      "cell_type": "markdown",
      "metadata": {
        "id": "GHVanrZ79r0j"
      },
      "source": [
        "# 소행성 관측 계획 수립하기\n",
        "\n",
        "* 이 노트북을 구글 코랩에서 실행하고자 한다면 [파일] - [드라이브에 사본 저장]을 하여 본인의 소유로 만든 후에 코드를 실행하거나 수정할 수 있습니다.\n",
        "\n",
        "* 이 파일은 실제 수업에 사용하므로 필요에 따라 예고 없이 변경될 수 있습니다.\n",
        "\n",
        "* If you have any questions or comments on this document, please email me(Kiehyun.Park@gmail.com).\n",
        "\n",
        "* 이 파일(문서)는 공교육 현장에서 수업시간에 자유롭게 사용할 수 있으나, 다른 목적으로 사용할 시에는 사전에 연락을 주셔서 상의해 주시기 바랍니다."
      ]
    },
    {
      "cell_type": "markdown",
      "metadata": {
        "id": "zDHDwjRFh37L"
      },
      "source": [
        "이 자료는 What's observable로 부터 특정한 날 관측할 수 있는 소행성의 목록을 만드는 과정을 설명합니다."
      ]
    },
    {
      "cell_type": "markdown",
      "metadata": {
        "id": "pnt0bAUv-yZr"
      },
      "source": [
        "## 필요한 환경\n",
        "\n"
      ]
    },
    {
      "cell_type": "markdown",
      "metadata": {
        "id": "yYzfKjbWaZGR"
      },
      "source": [
        "### 한글 폰트 설치 (matplotlib에서 한글 폰트 깨질 경우)\n",
        "\n",
        "구글 코랩에서 현재의 Jupyter notebook을 실행한다면 matplotlib 그래프에 한글을 사용하기 위해서 폰트를 설치해야 합니다.\n",
        "\n",
        "아래 코드의 주석을 제거한 후에 셀을 실해 주세요. 그리고 나서 런타임 다시 시작을 해 줘야 matplotlib 그래프에서 한글을 사용할 수 있습니다."
      ]
    },
    {
      "cell_type": "code",
      "execution_count": 24,
      "metadata": {
        "id": "ZCu65oFaaaiV"
      },
      "outputs": [],
      "source": [
        "# !sudo apt-get install -y fonts-nanum\n",
        "# !sudo fc-cache -fv\n",
        "# !rm ~/.cache/matplotlib -rf"
      ]
    },
    {
      "cell_type": "markdown",
      "metadata": {
        "id": "xHgpdjF9adB4"
      },
      "source": [
        "#### 런타임 다시 시작\n",
        "\n",
        "위의 셀을 실행한 다음 반드시 다음 과정을 수행해야 합니다.\n",
        "\n",
        "* [메뉴]-[런타임]-[런터임 다시 시작]\n",
        "\n",
        "* [메뉴]-[런타임]-[이전 셀 실행]"
      ]
    },
    {
      "cell_type": "markdown",
      "metadata": {
        "id": "PDqK2jiLagjm"
      },
      "source": [
        "#### 한글 폰트 사용\n",
        "\n",
        "위에서 한글 폰트를 설치하고, 런타임 다시시작을 했다면 구글 코랩에서 폰트 경로를 설정하여 한글 사용이 가능해 집니다."
      ]
    },
    {
      "cell_type": "code",
      "execution_count": 25,
      "metadata": {
        "id": "pDOlln5mafkR"
      },
      "outputs": [],
      "source": [
        "#visualization\n",
        "import matplotlib as mpl\n",
        "import matplotlib.pylab as pl\n",
        "import matplotlib.pyplot as plt\n",
        "\n",
        "# 브라우저에서 바로 그려지도록\n",
        "%matplotlib inline\n",
        "\n",
        "# 그래프에 retina display 적용\n",
        "%config InlineBackend.figure_format = 'retina'\n",
        "\n",
        "# Colab 의 한글 폰트 설정\n",
        "# plt.rc('font', family='NanumBarunGothic')\n",
        "\n",
        "# 유니코드에서  음수 부호설정\n",
        "mpl.rc('axes', unicode_minus=False)\n",
        "\n",
        "plt.rcParams.update({'figure.max_open_warning': 0})\n",
        "\n",
        "import warnings\n",
        "warnings.filterwarnings('ignore')"
      ]
    },
    {
      "cell_type": "markdown",
      "metadata": {
        "id": "ShZrQ-ub_aWe"
      },
      "source": [
        "### 모듈 설치 및 버전 확인\n",
        "\n",
        "아래 셀을 실행하면 이 노트북을 실행하는데 필요한 모듈을 설치하고 파이썬 및 관련 모듈의 버전을 확인할 수 있다."
      ]
    },
    {
      "cell_type": "code",
      "execution_count": 26,
      "metadata": {
        "colab": {
          "base_uri": "https://localhost:8080/"
        },
        "id": "V-JrQTLF-673",
        "outputId": "f06a6d9d-5e12-4f0c-aa51-23f633a54c33"
      },
      "outputs": [
        {
          "name": "stdout",
          "output_type": "stream",
          "text": [
            "******** numpy module is already installed.\n",
            "******** pandas module is already installed.\n",
            "******** matplotlib module is already installed.\n",
            "******** astroquery module is already installed.\n",
            "******** requests module is already installed.\n",
            "******** astropy module is already installed.\n",
            "******** certifi module is already installed.\n",
            "******** version_information module is already installed.\n",
            "The version_information extension is already loaded. To reload it, use:\n",
            "  %reload_ext version_information\n",
            "This notebook was generated at 2024-09-17 12:20:31 (UTC = GMT+0000) \n",
            "0 Python     3.10.12 64bit [GCC 11.4.0]\n",
            "1 IPython    7.34.0\n",
            "2 OS         Linux 6.1.85+ x86_64 with glibc2.35\n",
            "3 numpy      1.26.4\n",
            "4 pandas     2.1.4\n",
            "5 matplotlib 3.7.1\n",
            "6 astroquery 0.4.7\n",
            "7 requests   2.32.3\n",
            "8 astropy    6.1.3\n",
            "9 certifi    2024.08.30\n",
            "10 version_information 1.0.4\n"
          ]
        }
      ],
      "source": [
        "import importlib, sys, subprocess\n",
        "packages = \"numpy, pandas, matplotlib, astroquery, requests, astropy, certifi, version_information\" # required modules\n",
        "pkgs = packages.split(\", \")\n",
        "for pkg in pkgs :\n",
        "    if not importlib.util.find_spec(pkg):\n",
        "        subprocess.check_call([sys.executable, '-m', 'pip', 'install', pkg, '-q'])\n",
        "        print(f\"**** {pkg} module is now installed.\")\n",
        "    else:\n",
        "        print(f\"******** {pkg} module is already installed.\")\n",
        "%load_ext version_information\n",
        "import time\n",
        "now = time.strftime(\"%Y-%m-%d %H:%M:%S (%Z = GMT%z)\")\n",
        "print(f\"This notebook was generated at {now} \")\n",
        "\n",
        "vv = %version_information {packages}\n",
        "for i, pkg in enumerate(vv.packages):\n",
        "    print(f\"{i} {pkg[0]:10s} {pkg[1]:s}\")"
      ]
    },
    {
      "cell_type": "markdown",
      "metadata": {
        "id": "RWgX2YtUQ00i"
      },
      "source": [
        "## 날짜와 시간 다루기"
      ]
    },
    {
      "cell_type": "markdown",
      "metadata": {
        "id": "gVGcNcyZQaSf"
      },
      "source": [
        "### datetime.datetime\n",
        "\n",
        "Python 내장 모듈인 datetime을 사용하면 날짜와 시각 객체를 다룰 수 있습니다."
      ]
    },
    {
      "cell_type": "markdown",
      "metadata": {
        "id": "MzxdaymfRUk8"
      },
      "source": [
        "#### 표준시와 세계시"
      ]
    },
    {
      "cell_type": "code",
      "execution_count": 27,
      "metadata": {
        "colab": {
          "base_uri": "https://localhost:8080/"
        },
        "id": "wXFH-C9PQTJC",
        "outputId": "381c40cd-9213-4935-cd3c-b34fcb739488"
      },
      "outputs": [
        {
          "name": "stdout",
          "output_type": "stream",
          "text": [
            "현재 시각(KST=GMT+9) : 2024-09-17 12:20:31.735661\n",
            "현재 시각(UTC) : 2024-09-17 03:20:31.735661-09:00\n"
          ]
        }
      ],
      "source": [
        "from datetime import datetime, timedelta, timezone\n",
        "\n",
        "dt_kst_now = datetime.now()\n",
        "print(\"현재 시각(KST=GMT+9) :\", dt_kst_now)\n",
        "\n",
        "timezone_utc = timezone(timedelta(hours=-9))\n",
        "dt_utc_now = dt_kst_now.astimezone(timezone_utc)\n",
        "print(\"현재 시각(UTC) :\", dt_utc_now)"
      ]
    },
    {
      "cell_type": "markdown",
      "metadata": {
        "id": "eZ1EVdzBRitf"
      },
      "source": [
        "#### fits header의 시간 형식\n",
        "\n",
        "fits header의 시간 형식은 '2023-09-11T20:19:18'의 형태를 띠고 있는데 datetime.strptime을 이용하면 날짜시간 형식을 바로 datetime 객체로 만들 수 있습니다.\n",
        "\n",
        "이를 세계시로 바꾸려면 timedelta를 이용할 수 있습니다."
      ]
    },
    {
      "cell_type": "code",
      "execution_count": 28,
      "metadata": {
        "colab": {
          "base_uri": "https://localhost:8080/"
        },
        "id": "Z8UDH_f1QfeX",
        "outputId": "5d966ec3-9c23-49f3-d449-5c4242af9f0c"
      },
      "outputs": [
        {
          "name": "stdout",
          "output_type": "stream",
          "text": [
            "2023-09-11 20:19:18\n",
            "<class 'datetime.datetime'>\n",
            "2023-09-11 11:19:18\n",
            "<class 'datetime.datetime'>\n"
          ]
        }
      ],
      "source": [
        "start_dt_kst_str = '2023-09-11T20:19:18'\n",
        "end_dt_kst_str = '2023-12-31T00:00:00'\n",
        "\n",
        "start_dt_kst = datetime.strptime(start_dt_kst_str, '%Y-%m-%dT%H:%M:%S')\n",
        "print(start_dt_kst)\n",
        "print(type(start_dt_kst))\n",
        "\n",
        "start_dt_utc = start_dt_kst + timedelta(hours=-9)\n",
        "print(start_dt_utc)\n",
        "print(type(start_dt_utc))"
      ]
    },
    {
      "cell_type": "markdown",
      "metadata": {
        "id": "FOJBXxyseATf"
      },
      "source": [
        "#### string 형태로 변환하기\n",
        "\n",
        "datetime 객체를 string으로 바꿀때는 strftime 메쏘들ㄹ 이용하면 됩니다."
      ]
    },
    {
      "cell_type": "code",
      "execution_count": 29,
      "metadata": {
        "colab": {
          "base_uri": "https://localhost:8080/"
        },
        "id": "hFNVEcD9d_hq",
        "outputId": "6226f191-1ef8-487d-f6ca-ecf78ba79ffa"
      },
      "outputs": [
        {
          "name": "stdout",
          "output_type": "stream",
          "text": [
            "start_dt_utc_str : 2023-09-11T11:19:18\n",
            "type(start_dt_utc_str) : <class 'str'>\n"
          ]
        }
      ],
      "source": [
        "\n",
        "start_dt_utc_str = start_dt_utc.strftime('%Y-%m-%dT%H:%M:%S')\n",
        "print(\"start_dt_utc_str :\", start_dt_utc_str)\n",
        "print(\"type(start_dt_utc_str) :\", type(start_dt_utc_str))\n"
      ]
    },
    {
      "cell_type": "markdown",
      "metadata": {
        "id": "zzExz7dyI9Fp"
      },
      "source": [
        "#### datetime 이용하여 list 생성\n",
        "\n",
        "아래와 같이 하면, 시작 시각과 끝나는 시각, 그리고 시간 간격을 정해 주고, Python의 datatime 객체를 이용하여 일정 시간 간격의 목록(list)을 만을 수 있다."
      ]
    },
    {
      "cell_type": "code",
      "execution_count": 30,
      "metadata": {
        "colab": {
          "base_uri": "https://localhost:8080/"
        },
        "id": "gby-bu2rI_Ho",
        "outputId": "60e0c550-59ee-4235-8dc1-47ece2569c88"
      },
      "outputs": [
        {
          "name": "stdout",
          "output_type": "stream",
          "text": [
            "len(dts): 151\n",
            "dts ['2017-01-01', '2017-01-02', '2017-01-03', '2017-01-04', '2017-01-05', '2017-01-06', '2017-01-07', '2017-01-08', '2017-01-09', '2017-01-10', '2017-01-11', '2017-01-12', '2017-01-13', '2017-01-14', '2017-01-15', '2017-01-16', '2017-01-17', '2017-01-18', '2017-01-19', '2017-01-20', '2017-01-21', '2017-01-22', '2017-01-23', '2017-01-24', '2017-01-25', '2017-01-26', '2017-01-27', '2017-01-28', '2017-01-29', '2017-01-30', '2017-01-31', '2017-02-01', '2017-02-02', '2017-02-03', '2017-02-04', '2017-02-05', '2017-02-06', '2017-02-07', '2017-02-08', '2017-02-09', '2017-02-10', '2017-02-11', '2017-02-12', '2017-02-13', '2017-02-14', '2017-02-15', '2017-02-16', '2017-02-17', '2017-02-18', '2017-02-19', '2017-02-20', '2017-02-21', '2017-02-22', '2017-02-23', '2017-02-24', '2017-02-25', '2017-02-26', '2017-02-27', '2017-02-28', '2017-03-01', '2017-03-02', '2017-03-03', '2017-03-04', '2017-03-05', '2017-03-06', '2017-03-07', '2017-03-08', '2017-03-09', '2017-03-10', '2017-03-11', '2017-03-12', '2017-03-13', '2017-03-14', '2017-03-15', '2017-03-16', '2017-03-17', '2017-03-18', '2017-03-19', '2017-03-20', '2017-03-21', '2017-03-22', '2017-03-23', '2017-03-24', '2017-03-25', '2017-03-26', '2017-03-27', '2017-03-28', '2017-03-29', '2017-03-30', '2017-03-31', '2017-04-01', '2017-04-02', '2017-04-03', '2017-04-04', '2017-04-05', '2017-04-06', '2017-04-07', '2017-04-08', '2017-04-09', '2017-04-10', '2017-04-11', '2017-04-12', '2017-04-13', '2017-04-14', '2017-04-15', '2017-04-16', '2017-04-17', '2017-04-18', '2017-04-19', '2017-04-20', '2017-04-21', '2017-04-22', '2017-04-23', '2017-04-24', '2017-04-25', '2017-04-26', '2017-04-27', '2017-04-28', '2017-04-29', '2017-04-30', '2017-05-01', '2017-05-02', '2017-05-03', '2017-05-04', '2017-05-05', '2017-05-06', '2017-05-07', '2017-05-08', '2017-05-09', '2017-05-10', '2017-05-11', '2017-05-12', '2017-05-13', '2017-05-14', '2017-05-15', '2017-05-16', '2017-05-17', '2017-05-18', '2017-05-19', '2017-05-20', '2017-05-21', '2017-05-22', '2017-05-23', '2017-05-24', '2017-05-25', '2017-05-26', '2017-05-27', '2017-05-28', '2017-05-29', '2017-05-30', '2017-05-31']\n"
          ]
        }
      ],
      "source": [
        "from datetime import datetime, timedelta\n",
        "start_time_text = \"2017-01-01\"\n",
        "end_time_text = \"2017-06-01\"\n",
        "dt = 1\n",
        "def datetime_range(start_dt, end_dt, delta):\n",
        "    '''\n",
        "        Parameters\n",
        "        ----------\n",
        "        start_dt : datetime.datetime\n",
        "        end_dt : datetime.datetime\n",
        "        delta : int\n",
        "    '''\n",
        "    current = start_dt\n",
        "    while current < end_dt:\n",
        "        yield current\n",
        "        current += delta\n",
        "\n",
        "dts = [dt.strftime('%Y-%m-%d') for dt in\n",
        "            datetime_range(datetime.fromisoformat(start_time_text), datetime.fromisoformat(end_time_text),\n",
        "            timedelta(days=dt))]\n",
        "\n",
        "print(\"len(dts):\", len(dts))\n",
        "print(\"dts\", dts)"
      ]
    },
    {
      "cell_type": "markdown",
      "metadata": {
        "id": "blOPpg-gRqug"
      },
      "source": [
        "### astropy.time\n",
        "\n",
        "표준시나 세계시 정도는 datetime을 사용해도 무방하지만 천문학에서 사용하는 시간에는 조금 부족합니다. 천문학에서 사용하는 시간계는 datetime 모듈보다는 astropy.time 모듈을 사용하기를 권장합니다."
      ]
    },
    {
      "cell_type": "markdown",
      "metadata": {
        "id": "nuCCdB2rR82x"
      },
      "source": [
        "#### 세계시"
      ]
    },
    {
      "cell_type": "code",
      "execution_count": 31,
      "metadata": {
        "colab": {
          "base_uri": "https://localhost:8080/"
        },
        "id": "yHCBpMupfpU5",
        "outputId": "7ece6cbe-e97d-4c3f-a6a8-843f07b86976"
      },
      "outputs": [
        {
          "name": "stdout",
          "output_type": "stream",
          "text": [
            "현재 시각(KST=GMT+9) : 2024-09-17 12:20:31.906452\n",
            "현재 시각(UTC) : 2024-09-17 12:20:31.951186\n",
            "type(t_ut_now) ; <class 'astropy.time.core.Time'>\n"
          ]
        }
      ],
      "source": [
        "from astropy.time import Time\n",
        "\n",
        "t_kst_now = Time.now()\n",
        "print(\"현재 시각(KST=GMT+9) :\", t_kst_now)\n",
        "\n",
        "t_ut_now = Time(datetime.utcnow(), scale='utc', location=('127d', '37d'))\n",
        "print(\"현재 시각(UTC) :\", t_ut_now)\n",
        "\n",
        "print(\"type(t_ut_now) ;\", type(t_ut_now))"
      ]
    },
    {
      "cell_type": "markdown",
      "metadata": {
        "id": "ZFWNZl8CSXiF"
      },
      "source": [
        "#### dir함수로 메쏘드 알아보기\n"
      ]
    },
    {
      "cell_type": "code",
      "execution_count": 32,
      "metadata": {
        "colab": {
          "base_uri": "https://localhost:8080/"
        },
        "id": "yxYzQBZASbSi",
        "outputId": "7d09407a-f9e8-4f77-c668-383cc8b4cb2e"
      },
      "outputs": [
        {
          "name": "stdout",
          "output_type": "stream",
          "text": [
            "dir(t_ut_now) ; ['FORMATS', 'SCALES', 'T', '_APPLICABLE_FUNCTIONS', '_METHOD_FUNCTIONS', '__abstractmethods__', '__add__', '__array_function__', '__array_priority__', '__bool__', '__class__', '__copy__', '__deepcopy__', '__delattr__', '__dict__', '__dir__', '__doc__', '__eq__', '__format__', '__ge__', '__getattr__', '__getattribute__', '__getitem__', '__getnewargs__', '__getstate__', '__gt__', '__hash__', '__init__', '__init_subclass__', '__iter__', '__le__', '__len__', '__lt__', '__module__', '__ne__', '__new__', '__radd__', '__reduce__', '__reduce_ex__', '__repr__', '__setattr__', '__setitem__', '__sizeof__', '__str__', '__sub__', '__subclasshook__', '__weakref__', '_abc_impl', '_advanced_index', '_apply', '_astropy_column_attrs', '_call_erfa', '_format', '_get_delta_tdb_tt', '_get_delta_ut1_utc', '_get_time_fmt', '_id_cache', '_init_from_vals', '_location', '_make_value_equivalent', '_match_shape', '_ptp_decorator', '_ptp_impl', '_set_delta_tdb_tt', '_set_delta_ut1_utc', '_set_scale', '_shaped_like_input', '_sid_time_or_earth_rot_ang', '_time', '_time_comparison', 'argmax', 'argmin', 'argsort', 'byear', 'byear_str', 'cache', 'copy', 'cxcsec', 'datetime', 'datetime64', 'decimalyear', 'delta_tdb_tt', 'delta_ut1_utc', 'diagonal', 'earth_rotation_angle', 'filled', 'fits', 'flatten', 'format', 'get_delta_ut1_utc', 'gps', 'in_subfmt', 'info', 'insert', 'isclose', 'iso', 'isot', 'isscalar', 'jd', 'jd1', 'jd2', 'jyear', 'jyear_str', 'light_travel_time', 'location', 'mask', 'masked', 'max', 'mean', 'min', 'mjd', 'ndim', 'now', 'out_subfmt', 'plot_date', 'precision', 'ptp', 'ravel', 'replicate', 'reshape', 'scale', 'shape', 'sidereal_time', 'size', 'sort', 'squeeze', 'stardate', 'strftime', 'strptime', 'swapaxes', 'tai', 'take', 'tcb', 'tcg', 'tdb', 'to_datetime', 'to_string', 'to_value', 'transpose', 'tt', 'unix', 'unix_tai', 'unmasked', 'ut1', 'utc', 'value', 'writeable', 'yday', 'ymdhms']\n"
          ]
        }
      ],
      "source": [
        "print(\"dir(t_ut_now) ;\", dir(t_ut_now))"
      ]
    },
    {
      "cell_type": "markdown",
      "metadata": {
        "id": "S5VA_PxPSqZG"
      },
      "source": [
        "#### Julian day 구하기"
      ]
    },
    {
      "cell_type": "code",
      "execution_count": 33,
      "metadata": {
        "colab": {
          "base_uri": "https://localhost:8080/"
        },
        "id": "wgbG-0woSq2S",
        "outputId": "24cfce08-5747-4f97-fe36-94d7b8ed1a2f"
      },
      "outputs": [
        {
          "name": "stdout",
          "output_type": "stream",
          "text": [
            "t_ut_now.to_value(format='jd') ; 2460571.0142586944\n"
          ]
        }
      ],
      "source": [
        "print(\"t_ut_now.to_value(format='jd') ;\", t_ut_now.to_value(format='jd'))"
      ]
    },
    {
      "cell_type": "markdown",
      "metadata": {
        "id": "X3dLmvFrSFnK"
      },
      "source": [
        "#### 항성시"
      ]
    },
    {
      "cell_type": "code",
      "execution_count": 34,
      "metadata": {
        "colab": {
          "base_uri": "https://localhost:8080/"
        },
        "id": "bkFFpkHjSJ-G",
        "outputId": "3d2eaa30-317d-4f64-eb42-075918d1fe47"
      },
      "outputs": [
        {
          "name": "stdout",
          "output_type": "stream",
          "text": [
            "t_ut_now.sidereal_time('mean') : 20h36m14.68431983s\n"
          ]
        }
      ],
      "source": [
        "print(\"t_ut_now.sidereal_time('mean') :\", t_ut_now.sidereal_time('mean'))"
      ]
    },
    {
      "cell_type": "markdown",
      "metadata": {
        "id": "5eRgR8QuN_dU"
      },
      "source": [
        "#### astropy.time 이용하여 list 생성\n",
        "\n",
        "일정 시간 간격으로 시뮬레이션 하려면 시간 간격의 리스트를 미리 만들어 두면 편리할 것입니다. 다음은 Python의 astropy.time을 이용하여 일정 시간 간격의 목록(list)을 만드는 방법입니다."
      ]
    },
    {
      "cell_type": "code",
      "execution_count": 35,
      "metadata": {
        "colab": {
          "base_uri": "https://localhost:8080/"
        },
        "id": "wKyKYU6KOJJz",
        "outputId": "322ea8fa-85e1-49ad-e725-f68a1dfcf0bb"
      },
      "outputs": [
        {
          "name": "stdout",
          "output_type": "stream",
          "text": [
            "9\n",
            "[<Time object: scale='utc' format='iso' value=2023-10-06 00:00:00.000>, <Time object: scale='utc' format='iso' value=2023-10-07 00:00:00.000>, <Time object: scale='utc' format='iso' value=2023-10-08 00:00:00.000>, <Time object: scale='utc' format='iso' value=2023-10-09 00:00:00.000>, <Time object: scale='utc' format='iso' value=2023-10-10 00:00:00.000>, <Time object: scale='utc' format='iso' value=2023-10-11 00:00:00.000>, <Time object: scale='utc' format='iso' value=2023-10-12 00:00:00.000>, <Time object: scale='utc' format='iso' value=2023-10-13 00:00:00.000>, <Time object: scale='utc' format='iso' value=2023-10-14 00:00:00.000>]\n"
          ]
        }
      ],
      "source": [
        "import numpy as np\n",
        "from astropy.time import Time, TimeDelta\n",
        "\n",
        "start_time_text = \"2023-10-06\"\n",
        "end_time_text = \"2023-10-15\"\n",
        "dt = 1\n",
        "\n",
        "def astropyTime_range(start_t, end_t, delta):\n",
        "    '''\n",
        "        Parameters\n",
        "        ----------\n",
        "        start_t : datetime.datetime\n",
        "        end_t : datetime.datetime\n",
        "        delta : int\n",
        "    '''\n",
        "    current = start_t\n",
        "    while current < end_t:\n",
        "        yield current\n",
        "        current += delta\n",
        "\n",
        "dts = [dt for dt in\n",
        "        astropyTime_range(Time(start_time_text), Time(end_time_text),\n",
        "        TimeDelta(dt, format='jd'))]\n",
        "\n",
        "print(len(dts))\n",
        "print(dts)"
      ]
    },
    {
      "cell_type": "markdown",
      "metadata": {
        "id": "u7wfBH1zb8kW"
      },
      "source": [
        "## What's observable\n",
        "\n",
        "[What's observable](https://ssd.jpl.nasa.gov/tools/sbwobs.html) 에서는 관측소 코드와 관측 조건들을 설정하여 소행성과 혜성의 관측 대상의 정보를 얻을 수 있습니다.\n"
      ]
    },
    {
      "cell_type": "markdown",
      "metadata": {
        "id": "KsGoniyiVzzM"
      },
      "source": [
        "### Horizons API\n",
        "\n",
        "[Horizons API](https://ssd-api.jpl.nasa.gov/doc/horizons.html)를 제공하고 있어 requests로 받아아올 url을 만들수 있습니다.\n",
        "\n"
      ]
    },
    {
      "cell_type": "markdown",
      "metadata": {
        "id": "LfKaa3H84PKt"
      },
      "source": [
        "#### 검색 조건 설정\n",
        "\n",
        "먼저 조건들을 변수로 설정해 보겠습니다."
      ]
    },
    {
      "cell_type": "code",
      "execution_count": 36,
      "metadata": {
        "colab": {
          "base_uri": "https://localhost:8080/"
        },
        "id": "ypgZiQ_RPsQ6",
        "outputId": "5b7f8ec5-0ea2-4aad-b21a-d17f7baeb2d3"
      },
      "outputs": [
        {
          "name": "stdout",
          "output_type": "stream",
          "text": [
            "type(obs_dt_utc) : <class 'astropy.time.core.Time'>\n",
            "현재 시각(UTC) : 2024-09-17 12:20:32.485166\n",
            "obs_datetime : 2024-09-17T12:20:32\n",
            "obs_date : 20240917\n"
          ]
        }
      ],
      "source": [
        "#############################################\n",
        "# variables\n",
        "mpc_code='P64' # Observer Location: GSHS Observatory, Suwon [code: P64]\n",
        "\n",
        "#관측 시각 설정 (현재 시각)\n",
        "t_ut_now = Time(datetime.now(), scale='utc', location=('127d', '37d'))\n",
        "print(\"type(obs_dt_utc) :\", type(t_ut_now))\n",
        "print(\"현재 시각(UTC) :\", t_ut_now)\n",
        "\n",
        "#관측 시각 설정 (임의의 시각)\n",
        "# t_ut_now = Time(datetime(2023, 10, 2, 10, 0, 0), scale='utc', location=('127d', '37d'))\n",
        "# print(\"type(obs_dt_utc) :\", type(t_ut_now))\n",
        "# print(\"현재 시각(UTC) :\", t_ut_now)\n",
        "\n",
        "obs_datetime = t_ut_now.strftime('%Y-%m-%dT%H:%M:%S')\n",
        "print(\"obs_datetime :\", obs_datetime)\n",
        "obs_date = t_ut_now.strftime('%Y%m%d')\n",
        "print(\"obs_date :\", obs_date)\n",
        "\n",
        "elev_min=60  #\n",
        "time_min=15\n",
        "vmag_min=6\n",
        "vmag_max=13\n",
        "list_num=100\n",
        "sort='trans'"
      ]
    },
    {
      "cell_type": "markdown",
      "metadata": {
        "id": "u62ukk1J4XRH"
      },
      "source": [
        "#### url 만들기"
      ]
    },
    {
      "cell_type": "code",
      "execution_count": 37,
      "metadata": {
        "colab": {
          "base_uri": "https://localhost:8080/"
        },
        "id": "oNFeSkp3V5eJ",
        "outputId": "43539eb7-b6e1-498e-d97a-9c6c7084ed25"
      },
      "outputs": [
        {
          "name": "stdout",
          "output_type": "stream",
          "text": [
            "url : https://ssd-api.jpl.nasa.gov/sbwobs.api?sb-kind=a&mpc-code=P64&obs-time=2024-09-17T12:20:32&elev-min=60&time-min=15&vmag-max=13&vmag-min=6&optical=true&fmt-ra-dec=true&mag-required=true&output-sort=trans&maxoutput=100\n"
          ]
        }
      ],
      "source": [
        "# Define API URL and SPK filename:\n",
        "url = 'https://ssd-api.jpl.nasa.gov/sbwobs.api'\n",
        "spk_filename = 'spk_file.bsp'\n",
        "\n",
        "# Get the requested SPK-ID from the command-line:\n",
        "if (len(sys.argv)) == 1:\n",
        "  print(\"please specify SPK-ID on the command-line\")\n",
        "  sys.exit(2)\n",
        "spkid = sys.argv[1]\n",
        "\n",
        "# Build the appropriate URL for this API request:\n",
        "# IMPORTANT: You must encode the \"=\" as \"%3D\" and the \";\" as \"%3B\" in the\n",
        "#            Horizons COMMAND parameter specification.\n",
        "url += f\"?sb-kind=a&mpc-code={mpc_code}&obs-time={obs_datetime}&elev-min={elev_min}&time-min={time_min}\"\n",
        "url += f\"&vmag-max={vmag_max}&vmag-min={vmag_min}&optical=true&fmt-ra-dec=true&mag-required=true&output-sort={sort}&maxoutput={list_num}\"\n",
        "\n",
        "print(\"url :\", url)"
      ]
    },
    {
      "cell_type": "markdown",
      "metadata": {
        "id": "ZH220ImzqP9b"
      },
      "source": [
        "### reauests.get\n",
        "\n",
        "api에서 제공하는 내용을 json 형태로 받아 보겠습니다."
      ]
    },
    {
      "cell_type": "code",
      "execution_count": 38,
      "metadata": {
        "colab": {
          "base_uri": "https://localhost:8080/"
        },
        "id": "gl5L-6gzWC_-",
        "outputId": "684b7808-7c70-4c29-ea84-342e88ff4f00"
      },
      "outputs": [
        {
          "name": "stdout",
          "output_type": "stream",
          "text": [
            "{'signature': {'source': 'NASA/JPL Small-Body Observability API', 'version': '1.0'}, 'obs_constraints': {'fmt-ra-dec': 'true', 'vmag-min': '6', 'obs-time': '2024-09-17 12:20:32', 'elev-min': '60', 'mpc-code': 'P64', 'time-min': '15', 'optical': 'true', 'vmag-max': '13', 'output-sort': 'trans', 'maxoutput': '100', 'mag-required': 'true'}, 'sb_constraints': {'sb-kind': 'a'}, 'location': 'GSHS Observatory, Suwon', 'obs_night': {'sun_set_az': '273.3', 'sun_set': '2024-09-17 09:35', 'end_civil': '2024-09-17 10:01', 'end_nautical': '2024-09-17 10:32', 'end_astronomical': '2024-09-17 11:03', 'begin_astronomical': '2024-09-17 19:46', 'begin_nautical': '2024-09-17 20:18', 'begin_civil': '2024-09-17 20:48', 'sun_rise_az': '86.9', 'sun_rise': '2024-09-17 21:14', 'transit_phase': '1.00', 'transit': '2024-09-17 15:06 ', 'moon_set_phase': '1.00', 'moon_set': '2024-09-17 21:00 ', 'moon_rise_phase': '0.99', 'moon_rise': '2024-09-17 09:15 ', 'begin_dark': '2024-09-17 11:03', 'mid_dark': '2024-09-17 15:25', 'end_dark': '2024-09-17 19:46', 'dark_time': '08:43'}, 'fields': ['Designation', 'Full name', 'Rise time', 'Transit time', 'Set time', 'Max. time observable', 'R.A.', 'Dec.', 'Vmag', 'Helio. range (au)', 'Topo.range (au)', 'Object-Observer-Sun (deg)', 'Object-Observer-Moon (deg)', 'Galactic latitude (deg)'], 'sort_by': 'transit time (asc.)', 'data': [['1036', '1036 Ganymed (A924 UB)', '09:43*', '12:14', '14:44', '03:41', '20:29:57', '+51 27\\'42\"', '9.48', '1.25', '0.442', '112.94', '68.64', '7.26'], ['176', '176 Iduna (A877 TB)', '12:16', '13:10', '14:03', '01:47', '21:26:01', '+09 53\\'25\"', '12.9', '2.81', '1.93', '144.04', '32.78', '-27.81'], ['137', '137 Meliboea (A874 HA)', '14:53', '15:20', '15:47', '00:53', '23:36:39', '+07 56\\'30\"', '11.8', '2.60', '1.61', '170.06', '15.41', '-50.51'], ['109', '109 Felicitas (A869 TA)', '16:14', '16:52', '17:29', '01:15', '01:08:29', '+08 34\\'00\"', '11.6', '2.07', '1.12', '156.16', '31.29', '-54.24'], ['547', '547 Praxedis (A904 TE)', '16:14', '17:14', '18:15', '02:01', '01:31:30', '+10 37\\'23\"', '12.9', '2.14', '1.21', '150.14', '37.28', '-51.22'], ['203', '203 Pompeja (A879 SA)', '16:06', '17:23', '18:40', '02:34', '01:39:43', '+12 47\\'00\"', '12.9', '2.60', '1.69', '147.42', '40.05', '-48.62'], ['19', '19 Fortuna (A852 QA)', '16:20', '17:34', '18:47', '02:27', '01:50:38', '+12 16\\'20\"', '10.4', '2.07', '1.17', '145.18', '42.22', '-48.29'], ['10', '10 Hygiea (A849 GA)', '16:03', '17:46', '19:30', '03:27', '02:03:37', '+17 51\\'02\"', '11.1', '3.42', '2.59', '140.04', '47.50', '-41.97'], ['270', '270 Anahita (A887 TA)', '16:53', '18:47', '20:42*', '02:53', '03:04:41', '+20 27\\'23\"', '11.9', '1.96', '1.19', '125.70', '61.74', '-32.79'], ['33', '33 Polyhymnia (A854 UB)', '17:14', '19:05', '20:55*', '02:32', '03:22:02', '+19 30\\'01\"', '11.6', '2.05', '1.33', '122.07', '65.29', '-31.08'], ['11', '11 Parthenope (A850 JA)', '18:12', '19:36', '21:00*', '01:34', '03:53:21', '+13 50\\'25\"', '10.9', '2.37', '1.75', '115.91', '71.08', '-30.09'], ['103', '103 Hera (A868 RA)', '18:39', '20:09*', '21:40*', '01:07', '04:26:49', '+14 59\\'38\"', '12.6', '2.65', '2.16', '107.73', '79.25', '-23.21'], ['67', '67 Asia (A861 HA)', '18:24', '20:12*', '22:00*', '01:22', '04:29:29', '+18 55\\'32\"', '12.8', '2.38', '1.89', '106.59', '80.59', '-20.23'], ['13', '13 Egeria (A850 VA)', '18:28', '20:38*', '22:48*', '01:18', '04:55:20', '+25 33\\'09\"', '11.6', '2.49', '2.11', '99.79', '87.61', '-11.42'], ['15', '15 Eunomia (A851 OA)', '18:39', '21:07*', '23:36*', '01:07', '05:25:04', '+34 50\\'57\"', '9.58', '2.17', '1.88', '92.49', '95.11', '-0.76'], ['247', '247 Eukrate (A885 EB)', '18:44', '21:19*', '23:54*', '01:02', '05:36:30', '+47 01\\'16\"', '12.3', '2.06', '1.81', '89.64', '97.95', '7.70'], ['36', '36 Atalante (A855 TA)', '19:11', '21:46*', '00:20*', '00:35', '06:03:19', '+41 11\\'29\"', '12.5', '1.92', '1.72', '84.84', '102.8', '8.96']], 'total_objects': '17', 'shown_objects': '17'}\n"
          ]
        }
      ],
      "source": [
        "import json\n",
        "import requests\n",
        "# Submit the API request and decode the JSON-response:\n",
        "response = requests.get(url)\n",
        "try:\n",
        "  data = json.loads(response.text)\n",
        "  print(data)\n",
        "except ValueError:\n",
        "  print(\"Unable to decode JSON results\")"
      ]
    },
    {
      "cell_type": "markdown",
      "metadata": {
        "id": "FNuOuW2OqlRh"
      },
      "source": [
        "안에 들어 있는 데이터를 확인해 보곘습니다."
      ]
    },
    {
      "cell_type": "code",
      "execution_count": 39,
      "metadata": {
        "colab": {
          "base_uri": "https://localhost:8080/"
        },
        "id": "mzgK_-UJWRFm",
        "outputId": "f51f4ea8-9f6d-454b-9122-8470a655a40c"
      },
      "outputs": [
        {
          "name": "stdout",
          "output_type": "stream",
          "text": [
            "type(data) : <class 'dict'>\n",
            "data.keys : <built-in method keys of dict object at 0x7d35a47d9180>\n"
          ]
        }
      ],
      "source": [
        "print(\"type(data) :\", type(data))\n",
        "print(\"data.keys :\", data.keys)"
      ]
    },
    {
      "cell_type": "markdown",
      "metadata": {
        "id": "977tATTYrlSo"
      },
      "source": [
        " 아마도 data['fields']에 있는 것이 필요한 자료인것 같습니다."
      ]
    },
    {
      "cell_type": "code",
      "execution_count": 40,
      "metadata": {
        "colab": {
          "base_uri": "https://localhost:8080/"
        },
        "id": "tyXu4ZoRq_Ib",
        "outputId": "aa65961f-d9ee-4b5c-f4bd-d8225d71b045"
      },
      "outputs": [
        {
          "name": "stdout",
          "output_type": "stream",
          "text": [
            "{'fmt-ra-dec': 'true', 'vmag-min': '6', 'obs-time': '2024-09-17 12:20:32', 'elev-min': '60', 'mpc-code': 'P64', 'time-min': '15', 'optical': 'true', 'vmag-max': '13', 'output-sort': 'trans', 'maxoutput': '100', 'mag-required': 'true'}\n",
            "{'sb-kind': 'a'}\n",
            "['Designation', 'Full name', 'Rise time', 'Transit time', 'Set time', 'Max. time observable', 'R.A.', 'Dec.', 'Vmag', 'Helio. range (au)', 'Topo.range (au)', 'Object-Observer-Sun (deg)', 'Object-Observer-Moon (deg)', 'Galactic latitude (deg)']\n",
            "[['1036', '1036 Ganymed (A924 UB)', '09:43*', '12:14', '14:44', '03:41', '20:29:57', '+51 27\\'42\"', '9.48', '1.25', '0.442', '112.94', '68.64', '7.26'], ['176', '176 Iduna (A877 TB)', '12:16', '13:10', '14:03', '01:47', '21:26:01', '+09 53\\'25\"', '12.9', '2.81', '1.93', '144.04', '32.78', '-27.81'], ['137', '137 Meliboea (A874 HA)', '14:53', '15:20', '15:47', '00:53', '23:36:39', '+07 56\\'30\"', '11.8', '2.60', '1.61', '170.06', '15.41', '-50.51'], ['109', '109 Felicitas (A869 TA)', '16:14', '16:52', '17:29', '01:15', '01:08:29', '+08 34\\'00\"', '11.6', '2.07', '1.12', '156.16', '31.29', '-54.24'], ['547', '547 Praxedis (A904 TE)', '16:14', '17:14', '18:15', '02:01', '01:31:30', '+10 37\\'23\"', '12.9', '2.14', '1.21', '150.14', '37.28', '-51.22'], ['203', '203 Pompeja (A879 SA)', '16:06', '17:23', '18:40', '02:34', '01:39:43', '+12 47\\'00\"', '12.9', '2.60', '1.69', '147.42', '40.05', '-48.62'], ['19', '19 Fortuna (A852 QA)', '16:20', '17:34', '18:47', '02:27', '01:50:38', '+12 16\\'20\"', '10.4', '2.07', '1.17', '145.18', '42.22', '-48.29'], ['10', '10 Hygiea (A849 GA)', '16:03', '17:46', '19:30', '03:27', '02:03:37', '+17 51\\'02\"', '11.1', '3.42', '2.59', '140.04', '47.50', '-41.97'], ['270', '270 Anahita (A887 TA)', '16:53', '18:47', '20:42*', '02:53', '03:04:41', '+20 27\\'23\"', '11.9', '1.96', '1.19', '125.70', '61.74', '-32.79'], ['33', '33 Polyhymnia (A854 UB)', '17:14', '19:05', '20:55*', '02:32', '03:22:02', '+19 30\\'01\"', '11.6', '2.05', '1.33', '122.07', '65.29', '-31.08'], ['11', '11 Parthenope (A850 JA)', '18:12', '19:36', '21:00*', '01:34', '03:53:21', '+13 50\\'25\"', '10.9', '2.37', '1.75', '115.91', '71.08', '-30.09'], ['103', '103 Hera (A868 RA)', '18:39', '20:09*', '21:40*', '01:07', '04:26:49', '+14 59\\'38\"', '12.6', '2.65', '2.16', '107.73', '79.25', '-23.21'], ['67', '67 Asia (A861 HA)', '18:24', '20:12*', '22:00*', '01:22', '04:29:29', '+18 55\\'32\"', '12.8', '2.38', '1.89', '106.59', '80.59', '-20.23'], ['13', '13 Egeria (A850 VA)', '18:28', '20:38*', '22:48*', '01:18', '04:55:20', '+25 33\\'09\"', '11.6', '2.49', '2.11', '99.79', '87.61', '-11.42'], ['15', '15 Eunomia (A851 OA)', '18:39', '21:07*', '23:36*', '01:07', '05:25:04', '+34 50\\'57\"', '9.58', '2.17', '1.88', '92.49', '95.11', '-0.76'], ['247', '247 Eukrate (A885 EB)', '18:44', '21:19*', '23:54*', '01:02', '05:36:30', '+47 01\\'16\"', '12.3', '2.06', '1.81', '89.64', '97.95', '7.70'], ['36', '36 Atalante (A855 TA)', '19:11', '21:46*', '00:20*', '00:35', '06:03:19', '+41 11\\'29\"', '12.5', '1.92', '1.72', '84.84', '102.8', '8.96']]\n",
            "<class 'list'>\n",
            "14\n",
            "14\n"
          ]
        }
      ],
      "source": [
        "print(data['obs_constraints'])\n",
        "print(data['sb_constraints'])\n",
        "print(data['fields'])\n",
        "print(data['data'])\n",
        "print(type(data['fields']))\n",
        "print(len(data['fields']))\n",
        "print(len(data['data'][0]))\n"
      ]
    },
    {
      "cell_type": "markdown",
      "metadata": {
        "id": "t2jAzW8wrvJw"
      },
      "source": [
        "### dataframe 만들기\n",
        "\n",
        "아무래도 가장 다루기 쉬운 데이타 형태인 dataframe으로 만들어 보겠습니다."
      ]
    },
    {
      "cell_type": "code",
      "execution_count": 41,
      "metadata": {
        "colab": {
          "base_uri": "https://localhost:8080/",
          "height": 1000
        },
        "id": "43j24CuwWTA4",
        "outputId": "be63c738-6425-42a1-dfe6-ceb381ad3990"
      },
      "outputs": [
        {
          "data": {
            "application/vnd.google.colaboratory.intrinsic+json": {
              "summary": "{\n  \"name\": \"df\",\n  \"rows\": 17,\n  \"fields\": [\n    {\n      \"column\": \"Designation\",\n      \"properties\": {\n        \"dtype\": \"string\",\n        \"num_unique_values\": 17,\n        \"samples\": [\n          \"1036\",\n          \"176\",\n          \"203\"\n        ],\n        \"semantic_type\": \"\",\n        \"description\": \"\"\n      }\n    },\n    {\n      \"column\": \"Full name\",\n      \"properties\": {\n        \"dtype\": \"string\",\n        \"num_unique_values\": 17,\n        \"samples\": [\n          \"1036 Ganymed (A924 UB)\",\n          \"176 Iduna (A877 TB)\",\n          \"203 Pompeja (A879 SA)\"\n        ],\n        \"semantic_type\": \"\",\n        \"description\": \"\"\n      }\n    },\n    {\n      \"column\": \"Rise time\",\n      \"properties\": {\n        \"dtype\": \"string\",\n        \"num_unique_values\": 15,\n        \"samples\": [\n          \"18:12\",\n          \"18:24\",\n          \"09:43*\"\n        ],\n        \"semantic_type\": \"\",\n        \"description\": \"\"\n      }\n    },\n    {\n      \"column\": \"Transit time\",\n      \"properties\": {\n        \"dtype\": \"string\",\n        \"num_unique_values\": 17,\n        \"samples\": [\n          \"12:14\",\n          \"13:10\",\n          \"17:23\"\n        ],\n        \"semantic_type\": \"\",\n        \"description\": \"\"\n      }\n    },\n    {\n      \"column\": \"Set time\",\n      \"properties\": {\n        \"dtype\": \"string\",\n        \"num_unique_values\": 17,\n        \"samples\": [\n          \"14:44\",\n          \"14:03\",\n          \"18:40\"\n        ],\n        \"semantic_type\": \"\",\n        \"description\": \"\"\n      }\n    },\n    {\n      \"column\": \"Max. time observable\",\n      \"properties\": {\n        \"dtype\": \"object\",\n        \"num_unique_values\": 16,\n        \"samples\": [\n          \"03:41\",\n          \"01:47\",\n          \"02:34\"\n        ],\n        \"semantic_type\": \"\",\n        \"description\": \"\"\n      }\n    },\n    {\n      \"column\": \"R.A.\",\n      \"properties\": {\n        \"dtype\": \"object\",\n        \"num_unique_values\": 17,\n        \"samples\": [\n          \"20:29:57\",\n          \"21:26:01\",\n          \"01:39:43\"\n        ],\n        \"semantic_type\": \"\",\n        \"description\": \"\"\n      }\n    },\n    {\n      \"column\": \"Dec.\",\n      \"properties\": {\n        \"dtype\": \"string\",\n        \"num_unique_values\": 17,\n        \"samples\": [\n          \"+51 27'42\\\"\",\n          \"+09 53'25\\\"\",\n          \"+12 47'00\\\"\"\n        ],\n        \"semantic_type\": \"\",\n        \"description\": \"\"\n      }\n    },\n    {\n      \"column\": \"Vmag\",\n      \"properties\": {\n        \"dtype\": \"string\",\n        \"num_unique_values\": 13,\n        \"samples\": [\n          \"12.3\",\n          \"12.8\",\n          \"9.48\"\n        ],\n        \"semantic_type\": \"\",\n        \"description\": \"\"\n      }\n    },\n    {\n      \"column\": \"Helio. range (au)\",\n      \"properties\": {\n        \"dtype\": \"string\",\n        \"num_unique_values\": 15,\n        \"samples\": [\n          \"2.65\",\n          \"2.49\",\n          \"1.25\"\n        ],\n        \"semantic_type\": \"\",\n        \"description\": \"\"\n      }\n    },\n    {\n      \"column\": \"Topo.range (au)\",\n      \"properties\": {\n        \"dtype\": \"string\",\n        \"num_unique_values\": 17,\n        \"samples\": [\n          \"0.442\",\n          \"1.93\",\n          \"1.69\"\n        ],\n        \"semantic_type\": \"\",\n        \"description\": \"\"\n      }\n    },\n    {\n      \"column\": \"Object-Observer-Sun (deg)\",\n      \"properties\": {\n        \"dtype\": \"string\",\n        \"num_unique_values\": 17,\n        \"samples\": [\n          \"112.94\",\n          \"144.04\",\n          \"147.42\"\n        ],\n        \"semantic_type\": \"\",\n        \"description\": \"\"\n      }\n    },\n    {\n      \"column\": \"Object-Observer-Moon (deg)\",\n      \"properties\": {\n        \"dtype\": \"string\",\n        \"num_unique_values\": 17,\n        \"samples\": [\n          \"68.64\",\n          \"32.78\",\n          \"40.05\"\n        ],\n        \"semantic_type\": \"\",\n        \"description\": \"\"\n      }\n    },\n    {\n      \"column\": \"Galactic latitude (deg)\",\n      \"properties\": {\n        \"dtype\": \"string\",\n        \"num_unique_values\": 17,\n        \"samples\": [\n          \"7.26\",\n          \"-27.81\",\n          \"-48.62\"\n        ],\n        \"semantic_type\": \"\",\n        \"description\": \"\"\n      }\n    },\n    {\n      \"column\": \"OBSdate(UT)\",\n      \"properties\": {\n        \"dtype\": \"object\",\n        \"num_unique_values\": 1,\n        \"samples\": [\n          \"20240917\"\n        ],\n        \"semantic_type\": \"\",\n        \"description\": \"\"\n      }\n    }\n  ]\n}",
              "type": "dataframe",
              "variable_name": "df"
            },
            "text/html": [
              "\n",
              "  <div id=\"df-e10dd683-91d9-4668-bbe9-e9bd4a0d88d9\" class=\"colab-df-container\">\n",
              "    <div>\n",
              "<style scoped>\n",
              "    .dataframe tbody tr th:only-of-type {\n",
              "        vertical-align: middle;\n",
              "    }\n",
              "\n",
              "    .dataframe tbody tr th {\n",
              "        vertical-align: top;\n",
              "    }\n",
              "\n",
              "    .dataframe thead th {\n",
              "        text-align: right;\n",
              "    }\n",
              "</style>\n",
              "<table border=\"1\" class=\"dataframe\">\n",
              "  <thead>\n",
              "    <tr style=\"text-align: right;\">\n",
              "      <th></th>\n",
              "      <th>Designation</th>\n",
              "      <th>Full name</th>\n",
              "      <th>Rise time</th>\n",
              "      <th>Transit time</th>\n",
              "      <th>Set time</th>\n",
              "      <th>Max. time observable</th>\n",
              "      <th>R.A.</th>\n",
              "      <th>Dec.</th>\n",
              "      <th>Vmag</th>\n",
              "      <th>Helio. range (au)</th>\n",
              "      <th>Topo.range (au)</th>\n",
              "      <th>Object-Observer-Sun (deg)</th>\n",
              "      <th>Object-Observer-Moon (deg)</th>\n",
              "      <th>Galactic latitude (deg)</th>\n",
              "      <th>OBSdate(UT)</th>\n",
              "    </tr>\n",
              "  </thead>\n",
              "  <tbody>\n",
              "    <tr>\n",
              "      <th>0</th>\n",
              "      <td>1036</td>\n",
              "      <td>1036 Ganymed (A924 UB)</td>\n",
              "      <td>09:43*</td>\n",
              "      <td>12:14</td>\n",
              "      <td>14:44</td>\n",
              "      <td>03:41</td>\n",
              "      <td>20:29:57</td>\n",
              "      <td>+51 27'42\"</td>\n",
              "      <td>9.48</td>\n",
              "      <td>1.25</td>\n",
              "      <td>0.442</td>\n",
              "      <td>112.94</td>\n",
              "      <td>68.64</td>\n",
              "      <td>7.26</td>\n",
              "      <td>20240917</td>\n",
              "    </tr>\n",
              "    <tr>\n",
              "      <th>1</th>\n",
              "      <td>176</td>\n",
              "      <td>176 Iduna (A877 TB)</td>\n",
              "      <td>12:16</td>\n",
              "      <td>13:10</td>\n",
              "      <td>14:03</td>\n",
              "      <td>01:47</td>\n",
              "      <td>21:26:01</td>\n",
              "      <td>+09 53'25\"</td>\n",
              "      <td>12.9</td>\n",
              "      <td>2.81</td>\n",
              "      <td>1.93</td>\n",
              "      <td>144.04</td>\n",
              "      <td>32.78</td>\n",
              "      <td>-27.81</td>\n",
              "      <td>20240917</td>\n",
              "    </tr>\n",
              "    <tr>\n",
              "      <th>2</th>\n",
              "      <td>137</td>\n",
              "      <td>137 Meliboea (A874 HA)</td>\n",
              "      <td>14:53</td>\n",
              "      <td>15:20</td>\n",
              "      <td>15:47</td>\n",
              "      <td>00:53</td>\n",
              "      <td>23:36:39</td>\n",
              "      <td>+07 56'30\"</td>\n",
              "      <td>11.8</td>\n",
              "      <td>2.60</td>\n",
              "      <td>1.61</td>\n",
              "      <td>170.06</td>\n",
              "      <td>15.41</td>\n",
              "      <td>-50.51</td>\n",
              "      <td>20240917</td>\n",
              "    </tr>\n",
              "    <tr>\n",
              "      <th>3</th>\n",
              "      <td>109</td>\n",
              "      <td>109 Felicitas (A869 TA)</td>\n",
              "      <td>16:14</td>\n",
              "      <td>16:52</td>\n",
              "      <td>17:29</td>\n",
              "      <td>01:15</td>\n",
              "      <td>01:08:29</td>\n",
              "      <td>+08 34'00\"</td>\n",
              "      <td>11.6</td>\n",
              "      <td>2.07</td>\n",
              "      <td>1.12</td>\n",
              "      <td>156.16</td>\n",
              "      <td>31.29</td>\n",
              "      <td>-54.24</td>\n",
              "      <td>20240917</td>\n",
              "    </tr>\n",
              "    <tr>\n",
              "      <th>4</th>\n",
              "      <td>547</td>\n",
              "      <td>547 Praxedis (A904 TE)</td>\n",
              "      <td>16:14</td>\n",
              "      <td>17:14</td>\n",
              "      <td>18:15</td>\n",
              "      <td>02:01</td>\n",
              "      <td>01:31:30</td>\n",
              "      <td>+10 37'23\"</td>\n",
              "      <td>12.9</td>\n",
              "      <td>2.14</td>\n",
              "      <td>1.21</td>\n",
              "      <td>150.14</td>\n",
              "      <td>37.28</td>\n",
              "      <td>-51.22</td>\n",
              "      <td>20240917</td>\n",
              "    </tr>\n",
              "    <tr>\n",
              "      <th>5</th>\n",
              "      <td>203</td>\n",
              "      <td>203 Pompeja (A879 SA)</td>\n",
              "      <td>16:06</td>\n",
              "      <td>17:23</td>\n",
              "      <td>18:40</td>\n",
              "      <td>02:34</td>\n",
              "      <td>01:39:43</td>\n",
              "      <td>+12 47'00\"</td>\n",
              "      <td>12.9</td>\n",
              "      <td>2.60</td>\n",
              "      <td>1.69</td>\n",
              "      <td>147.42</td>\n",
              "      <td>40.05</td>\n",
              "      <td>-48.62</td>\n",
              "      <td>20240917</td>\n",
              "    </tr>\n",
              "    <tr>\n",
              "      <th>6</th>\n",
              "      <td>19</td>\n",
              "      <td>19 Fortuna (A852 QA)</td>\n",
              "      <td>16:20</td>\n",
              "      <td>17:34</td>\n",
              "      <td>18:47</td>\n",
              "      <td>02:27</td>\n",
              "      <td>01:50:38</td>\n",
              "      <td>+12 16'20\"</td>\n",
              "      <td>10.4</td>\n",
              "      <td>2.07</td>\n",
              "      <td>1.17</td>\n",
              "      <td>145.18</td>\n",
              "      <td>42.22</td>\n",
              "      <td>-48.29</td>\n",
              "      <td>20240917</td>\n",
              "    </tr>\n",
              "    <tr>\n",
              "      <th>7</th>\n",
              "      <td>10</td>\n",
              "      <td>10 Hygiea (A849 GA)</td>\n",
              "      <td>16:03</td>\n",
              "      <td>17:46</td>\n",
              "      <td>19:30</td>\n",
              "      <td>03:27</td>\n",
              "      <td>02:03:37</td>\n",
              "      <td>+17 51'02\"</td>\n",
              "      <td>11.1</td>\n",
              "      <td>3.42</td>\n",
              "      <td>2.59</td>\n",
              "      <td>140.04</td>\n",
              "      <td>47.50</td>\n",
              "      <td>-41.97</td>\n",
              "      <td>20240917</td>\n",
              "    </tr>\n",
              "    <tr>\n",
              "      <th>8</th>\n",
              "      <td>270</td>\n",
              "      <td>270 Anahita (A887 TA)</td>\n",
              "      <td>16:53</td>\n",
              "      <td>18:47</td>\n",
              "      <td>20:42*</td>\n",
              "      <td>02:53</td>\n",
              "      <td>03:04:41</td>\n",
              "      <td>+20 27'23\"</td>\n",
              "      <td>11.9</td>\n",
              "      <td>1.96</td>\n",
              "      <td>1.19</td>\n",
              "      <td>125.70</td>\n",
              "      <td>61.74</td>\n",
              "      <td>-32.79</td>\n",
              "      <td>20240917</td>\n",
              "    </tr>\n",
              "    <tr>\n",
              "      <th>9</th>\n",
              "      <td>33</td>\n",
              "      <td>33 Polyhymnia (A854 UB)</td>\n",
              "      <td>17:14</td>\n",
              "      <td>19:05</td>\n",
              "      <td>20:55*</td>\n",
              "      <td>02:32</td>\n",
              "      <td>03:22:02</td>\n",
              "      <td>+19 30'01\"</td>\n",
              "      <td>11.6</td>\n",
              "      <td>2.05</td>\n",
              "      <td>1.33</td>\n",
              "      <td>122.07</td>\n",
              "      <td>65.29</td>\n",
              "      <td>-31.08</td>\n",
              "      <td>20240917</td>\n",
              "    </tr>\n",
              "    <tr>\n",
              "      <th>10</th>\n",
              "      <td>11</td>\n",
              "      <td>11 Parthenope (A850 JA)</td>\n",
              "      <td>18:12</td>\n",
              "      <td>19:36</td>\n",
              "      <td>21:00*</td>\n",
              "      <td>01:34</td>\n",
              "      <td>03:53:21</td>\n",
              "      <td>+13 50'25\"</td>\n",
              "      <td>10.9</td>\n",
              "      <td>2.37</td>\n",
              "      <td>1.75</td>\n",
              "      <td>115.91</td>\n",
              "      <td>71.08</td>\n",
              "      <td>-30.09</td>\n",
              "      <td>20240917</td>\n",
              "    </tr>\n",
              "    <tr>\n",
              "      <th>11</th>\n",
              "      <td>103</td>\n",
              "      <td>103 Hera (A868 RA)</td>\n",
              "      <td>18:39</td>\n",
              "      <td>20:09*</td>\n",
              "      <td>21:40*</td>\n",
              "      <td>01:07</td>\n",
              "      <td>04:26:49</td>\n",
              "      <td>+14 59'38\"</td>\n",
              "      <td>12.6</td>\n",
              "      <td>2.65</td>\n",
              "      <td>2.16</td>\n",
              "      <td>107.73</td>\n",
              "      <td>79.25</td>\n",
              "      <td>-23.21</td>\n",
              "      <td>20240917</td>\n",
              "    </tr>\n",
              "    <tr>\n",
              "      <th>12</th>\n",
              "      <td>67</td>\n",
              "      <td>67 Asia (A861 HA)</td>\n",
              "      <td>18:24</td>\n",
              "      <td>20:12*</td>\n",
              "      <td>22:00*</td>\n",
              "      <td>01:22</td>\n",
              "      <td>04:29:29</td>\n",
              "      <td>+18 55'32\"</td>\n",
              "      <td>12.8</td>\n",
              "      <td>2.38</td>\n",
              "      <td>1.89</td>\n",
              "      <td>106.59</td>\n",
              "      <td>80.59</td>\n",
              "      <td>-20.23</td>\n",
              "      <td>20240917</td>\n",
              "    </tr>\n",
              "    <tr>\n",
              "      <th>13</th>\n",
              "      <td>13</td>\n",
              "      <td>13 Egeria (A850 VA)</td>\n",
              "      <td>18:28</td>\n",
              "      <td>20:38*</td>\n",
              "      <td>22:48*</td>\n",
              "      <td>01:18</td>\n",
              "      <td>04:55:20</td>\n",
              "      <td>+25 33'09\"</td>\n",
              "      <td>11.6</td>\n",
              "      <td>2.49</td>\n",
              "      <td>2.11</td>\n",
              "      <td>99.79</td>\n",
              "      <td>87.61</td>\n",
              "      <td>-11.42</td>\n",
              "      <td>20240917</td>\n",
              "    </tr>\n",
              "    <tr>\n",
              "      <th>14</th>\n",
              "      <td>15</td>\n",
              "      <td>15 Eunomia (A851 OA)</td>\n",
              "      <td>18:39</td>\n",
              "      <td>21:07*</td>\n",
              "      <td>23:36*</td>\n",
              "      <td>01:07</td>\n",
              "      <td>05:25:04</td>\n",
              "      <td>+34 50'57\"</td>\n",
              "      <td>9.58</td>\n",
              "      <td>2.17</td>\n",
              "      <td>1.88</td>\n",
              "      <td>92.49</td>\n",
              "      <td>95.11</td>\n",
              "      <td>-0.76</td>\n",
              "      <td>20240917</td>\n",
              "    </tr>\n",
              "    <tr>\n",
              "      <th>15</th>\n",
              "      <td>247</td>\n",
              "      <td>247 Eukrate (A885 EB)</td>\n",
              "      <td>18:44</td>\n",
              "      <td>21:19*</td>\n",
              "      <td>23:54*</td>\n",
              "      <td>01:02</td>\n",
              "      <td>05:36:30</td>\n",
              "      <td>+47 01'16\"</td>\n",
              "      <td>12.3</td>\n",
              "      <td>2.06</td>\n",
              "      <td>1.81</td>\n",
              "      <td>89.64</td>\n",
              "      <td>97.95</td>\n",
              "      <td>7.70</td>\n",
              "      <td>20240917</td>\n",
              "    </tr>\n",
              "    <tr>\n",
              "      <th>16</th>\n",
              "      <td>36</td>\n",
              "      <td>36 Atalante (A855 TA)</td>\n",
              "      <td>19:11</td>\n",
              "      <td>21:46*</td>\n",
              "      <td>00:20*</td>\n",
              "      <td>00:35</td>\n",
              "      <td>06:03:19</td>\n",
              "      <td>+41 11'29\"</td>\n",
              "      <td>12.5</td>\n",
              "      <td>1.92</td>\n",
              "      <td>1.72</td>\n",
              "      <td>84.84</td>\n",
              "      <td>102.8</td>\n",
              "      <td>8.96</td>\n",
              "      <td>20240917</td>\n",
              "    </tr>\n",
              "  </tbody>\n",
              "</table>\n",
              "</div>\n",
              "    <div class=\"colab-df-buttons\">\n",
              "\n",
              "  <div class=\"colab-df-container\">\n",
              "    <button class=\"colab-df-convert\" onclick=\"convertToInteractive('df-e10dd683-91d9-4668-bbe9-e9bd4a0d88d9')\"\n",
              "            title=\"Convert this dataframe to an interactive table.\"\n",
              "            style=\"display:none;\">\n",
              "\n",
              "  <svg xmlns=\"http://www.w3.org/2000/svg\" height=\"24px\" viewBox=\"0 -960 960 960\">\n",
              "    <path d=\"M120-120v-720h720v720H120Zm60-500h600v-160H180v160Zm220 220h160v-160H400v160Zm0 220h160v-160H400v160ZM180-400h160v-160H180v160Zm440 0h160v-160H620v160ZM180-180h160v-160H180v160Zm440 0h160v-160H620v160Z\"/>\n",
              "  </svg>\n",
              "    </button>\n",
              "\n",
              "  <style>\n",
              "    .colab-df-container {\n",
              "      display:flex;\n",
              "      gap: 12px;\n",
              "    }\n",
              "\n",
              "    .colab-df-convert {\n",
              "      background-color: #E8F0FE;\n",
              "      border: none;\n",
              "      border-radius: 50%;\n",
              "      cursor: pointer;\n",
              "      display: none;\n",
              "      fill: #1967D2;\n",
              "      height: 32px;\n",
              "      padding: 0 0 0 0;\n",
              "      width: 32px;\n",
              "    }\n",
              "\n",
              "    .colab-df-convert:hover {\n",
              "      background-color: #E2EBFA;\n",
              "      box-shadow: 0px 1px 2px rgba(60, 64, 67, 0.3), 0px 1px 3px 1px rgba(60, 64, 67, 0.15);\n",
              "      fill: #174EA6;\n",
              "    }\n",
              "\n",
              "    .colab-df-buttons div {\n",
              "      margin-bottom: 4px;\n",
              "    }\n",
              "\n",
              "    [theme=dark] .colab-df-convert {\n",
              "      background-color: #3B4455;\n",
              "      fill: #D2E3FC;\n",
              "    }\n",
              "\n",
              "    [theme=dark] .colab-df-convert:hover {\n",
              "      background-color: #434B5C;\n",
              "      box-shadow: 0px 1px 3px 1px rgba(0, 0, 0, 0.15);\n",
              "      filter: drop-shadow(0px 1px 2px rgba(0, 0, 0, 0.3));\n",
              "      fill: #FFFFFF;\n",
              "    }\n",
              "  </style>\n",
              "\n",
              "    <script>\n",
              "      const buttonEl =\n",
              "        document.querySelector('#df-e10dd683-91d9-4668-bbe9-e9bd4a0d88d9 button.colab-df-convert');\n",
              "      buttonEl.style.display =\n",
              "        google.colab.kernel.accessAllowed ? 'block' : 'none';\n",
              "\n",
              "      async function convertToInteractive(key) {\n",
              "        const element = document.querySelector('#df-e10dd683-91d9-4668-bbe9-e9bd4a0d88d9');\n",
              "        const dataTable =\n",
              "          await google.colab.kernel.invokeFunction('convertToInteractive',\n",
              "                                                    [key], {});\n",
              "        if (!dataTable) return;\n",
              "\n",
              "        const docLinkHtml = 'Like what you see? Visit the ' +\n",
              "          '<a target=\"_blank\" href=https://colab.research.google.com/notebooks/data_table.ipynb>data table notebook</a>'\n",
              "          + ' to learn more about interactive tables.';\n",
              "        element.innerHTML = '';\n",
              "        dataTable['output_type'] = 'display_data';\n",
              "        await google.colab.output.renderOutput(dataTable, element);\n",
              "        const docLink = document.createElement('div');\n",
              "        docLink.innerHTML = docLinkHtml;\n",
              "        element.appendChild(docLink);\n",
              "      }\n",
              "    </script>\n",
              "  </div>\n",
              "\n",
              "\n",
              "<div id=\"df-b9922dd6-5e44-450e-96cc-515e11bbbad1\">\n",
              "  <button class=\"colab-df-quickchart\" onclick=\"quickchart('df-b9922dd6-5e44-450e-96cc-515e11bbbad1')\"\n",
              "            title=\"Suggest charts\"\n",
              "            style=\"display:none;\">\n",
              "\n",
              "<svg xmlns=\"http://www.w3.org/2000/svg\" height=\"24px\"viewBox=\"0 0 24 24\"\n",
              "     width=\"24px\">\n",
              "    <g>\n",
              "        <path d=\"M19 3H5c-1.1 0-2 .9-2 2v14c0 1.1.9 2 2 2h14c1.1 0 2-.9 2-2V5c0-1.1-.9-2-2-2zM9 17H7v-7h2v7zm4 0h-2V7h2v10zm4 0h-2v-4h2v4z\"/>\n",
              "    </g>\n",
              "</svg>\n",
              "  </button>\n",
              "\n",
              "<style>\n",
              "  .colab-df-quickchart {\n",
              "      --bg-color: #E8F0FE;\n",
              "      --fill-color: #1967D2;\n",
              "      --hover-bg-color: #E2EBFA;\n",
              "      --hover-fill-color: #174EA6;\n",
              "      --disabled-fill-color: #AAA;\n",
              "      --disabled-bg-color: #DDD;\n",
              "  }\n",
              "\n",
              "  [theme=dark] .colab-df-quickchart {\n",
              "      --bg-color: #3B4455;\n",
              "      --fill-color: #D2E3FC;\n",
              "      --hover-bg-color: #434B5C;\n",
              "      --hover-fill-color: #FFFFFF;\n",
              "      --disabled-bg-color: #3B4455;\n",
              "      --disabled-fill-color: #666;\n",
              "  }\n",
              "\n",
              "  .colab-df-quickchart {\n",
              "    background-color: var(--bg-color);\n",
              "    border: none;\n",
              "    border-radius: 50%;\n",
              "    cursor: pointer;\n",
              "    display: none;\n",
              "    fill: var(--fill-color);\n",
              "    height: 32px;\n",
              "    padding: 0;\n",
              "    width: 32px;\n",
              "  }\n",
              "\n",
              "  .colab-df-quickchart:hover {\n",
              "    background-color: var(--hover-bg-color);\n",
              "    box-shadow: 0 1px 2px rgba(60, 64, 67, 0.3), 0 1px 3px 1px rgba(60, 64, 67, 0.15);\n",
              "    fill: var(--button-hover-fill-color);\n",
              "  }\n",
              "\n",
              "  .colab-df-quickchart-complete:disabled,\n",
              "  .colab-df-quickchart-complete:disabled:hover {\n",
              "    background-color: var(--disabled-bg-color);\n",
              "    fill: var(--disabled-fill-color);\n",
              "    box-shadow: none;\n",
              "  }\n",
              "\n",
              "  .colab-df-spinner {\n",
              "    border: 2px solid var(--fill-color);\n",
              "    border-color: transparent;\n",
              "    border-bottom-color: var(--fill-color);\n",
              "    animation:\n",
              "      spin 1s steps(1) infinite;\n",
              "  }\n",
              "\n",
              "  @keyframes spin {\n",
              "    0% {\n",
              "      border-color: transparent;\n",
              "      border-bottom-color: var(--fill-color);\n",
              "      border-left-color: var(--fill-color);\n",
              "    }\n",
              "    20% {\n",
              "      border-color: transparent;\n",
              "      border-left-color: var(--fill-color);\n",
              "      border-top-color: var(--fill-color);\n",
              "    }\n",
              "    30% {\n",
              "      border-color: transparent;\n",
              "      border-left-color: var(--fill-color);\n",
              "      border-top-color: var(--fill-color);\n",
              "      border-right-color: var(--fill-color);\n",
              "    }\n",
              "    40% {\n",
              "      border-color: transparent;\n",
              "      border-right-color: var(--fill-color);\n",
              "      border-top-color: var(--fill-color);\n",
              "    }\n",
              "    60% {\n",
              "      border-color: transparent;\n",
              "      border-right-color: var(--fill-color);\n",
              "    }\n",
              "    80% {\n",
              "      border-color: transparent;\n",
              "      border-right-color: var(--fill-color);\n",
              "      border-bottom-color: var(--fill-color);\n",
              "    }\n",
              "    90% {\n",
              "      border-color: transparent;\n",
              "      border-bottom-color: var(--fill-color);\n",
              "    }\n",
              "  }\n",
              "</style>\n",
              "\n",
              "  <script>\n",
              "    async function quickchart(key) {\n",
              "      const quickchartButtonEl =\n",
              "        document.querySelector('#' + key + ' button');\n",
              "      quickchartButtonEl.disabled = true;  // To prevent multiple clicks.\n",
              "      quickchartButtonEl.classList.add('colab-df-spinner');\n",
              "      try {\n",
              "        const charts = await google.colab.kernel.invokeFunction(\n",
              "            'suggestCharts', [key], {});\n",
              "      } catch (error) {\n",
              "        console.error('Error during call to suggestCharts:', error);\n",
              "      }\n",
              "      quickchartButtonEl.classList.remove('colab-df-spinner');\n",
              "      quickchartButtonEl.classList.add('colab-df-quickchart-complete');\n",
              "    }\n",
              "    (() => {\n",
              "      let quickchartButtonEl =\n",
              "        document.querySelector('#df-b9922dd6-5e44-450e-96cc-515e11bbbad1 button');\n",
              "      quickchartButtonEl.style.display =\n",
              "        google.colab.kernel.accessAllowed ? 'block' : 'none';\n",
              "    })();\n",
              "  </script>\n",
              "</div>\n",
              "\n",
              "  <div id=\"id_451f839c-dfdb-4771-b0c7-21646880130f\">\n",
              "    <style>\n",
              "      .colab-df-generate {\n",
              "        background-color: #E8F0FE;\n",
              "        border: none;\n",
              "        border-radius: 50%;\n",
              "        cursor: pointer;\n",
              "        display: none;\n",
              "        fill: #1967D2;\n",
              "        height: 32px;\n",
              "        padding: 0 0 0 0;\n",
              "        width: 32px;\n",
              "      }\n",
              "\n",
              "      .colab-df-generate:hover {\n",
              "        background-color: #E2EBFA;\n",
              "        box-shadow: 0px 1px 2px rgba(60, 64, 67, 0.3), 0px 1px 3px 1px rgba(60, 64, 67, 0.15);\n",
              "        fill: #174EA6;\n",
              "      }\n",
              "\n",
              "      [theme=dark] .colab-df-generate {\n",
              "        background-color: #3B4455;\n",
              "        fill: #D2E3FC;\n",
              "      }\n",
              "\n",
              "      [theme=dark] .colab-df-generate:hover {\n",
              "        background-color: #434B5C;\n",
              "        box-shadow: 0px 1px 3px 1px rgba(0, 0, 0, 0.15);\n",
              "        filter: drop-shadow(0px 1px 2px rgba(0, 0, 0, 0.3));\n",
              "        fill: #FFFFFF;\n",
              "      }\n",
              "    </style>\n",
              "    <button class=\"colab-df-generate\" onclick=\"generateWithVariable('df')\"\n",
              "            title=\"Generate code using this dataframe.\"\n",
              "            style=\"display:none;\">\n",
              "\n",
              "  <svg xmlns=\"http://www.w3.org/2000/svg\" height=\"24px\"viewBox=\"0 0 24 24\"\n",
              "       width=\"24px\">\n",
              "    <path d=\"M7,19H8.4L18.45,9,17,7.55,7,17.6ZM5,21V16.75L18.45,3.32a2,2,0,0,1,2.83,0l1.4,1.43a1.91,1.91,0,0,1,.58,1.4,1.91,1.91,0,0,1-.58,1.4L9.25,21ZM18.45,9,17,7.55Zm-12,3A5.31,5.31,0,0,0,4.9,8.1,5.31,5.31,0,0,0,1,6.5,5.31,5.31,0,0,0,4.9,4.9,5.31,5.31,0,0,0,6.5,1,5.31,5.31,0,0,0,8.1,4.9,5.31,5.31,0,0,0,12,6.5,5.46,5.46,0,0,0,6.5,12Z\"/>\n",
              "  </svg>\n",
              "    </button>\n",
              "    <script>\n",
              "      (() => {\n",
              "      const buttonEl =\n",
              "        document.querySelector('#id_451f839c-dfdb-4771-b0c7-21646880130f button.colab-df-generate');\n",
              "      buttonEl.style.display =\n",
              "        google.colab.kernel.accessAllowed ? 'block' : 'none';\n",
              "\n",
              "      buttonEl.onclick = () => {\n",
              "        google.colab.notebook.generateWithVariable('df');\n",
              "      }\n",
              "      })();\n",
              "    </script>\n",
              "  </div>\n",
              "\n",
              "    </div>\n",
              "  </div>\n"
            ],
            "text/plain": [
              "   Designation                Full name Rise time Transit time Set time  \\\n",
              "0         1036   1036 Ganymed (A924 UB)    09:43*        12:14    14:44   \n",
              "1          176      176 Iduna (A877 TB)     12:16        13:10    14:03   \n",
              "2          137   137 Meliboea (A874 HA)     14:53        15:20    15:47   \n",
              "3          109  109 Felicitas (A869 TA)     16:14        16:52    17:29   \n",
              "4          547   547 Praxedis (A904 TE)     16:14        17:14    18:15   \n",
              "5          203    203 Pompeja (A879 SA)     16:06        17:23    18:40   \n",
              "6           19     19 Fortuna (A852 QA)     16:20        17:34    18:47   \n",
              "7           10      10 Hygiea (A849 GA)     16:03        17:46    19:30   \n",
              "8          270    270 Anahita (A887 TA)     16:53        18:47   20:42*   \n",
              "9           33  33 Polyhymnia (A854 UB)     17:14        19:05   20:55*   \n",
              "10          11  11 Parthenope (A850 JA)     18:12        19:36   21:00*   \n",
              "11         103       103 Hera (A868 RA)     18:39       20:09*   21:40*   \n",
              "12          67        67 Asia (A861 HA)     18:24       20:12*   22:00*   \n",
              "13          13      13 Egeria (A850 VA)     18:28       20:38*   22:48*   \n",
              "14          15     15 Eunomia (A851 OA)     18:39       21:07*   23:36*   \n",
              "15         247    247 Eukrate (A885 EB)     18:44       21:19*   23:54*   \n",
              "16          36    36 Atalante (A855 TA)     19:11       21:46*   00:20*   \n",
              "\n",
              "   Max. time observable      R.A.        Dec.  Vmag Helio. range (au)  \\\n",
              "0                 03:41  20:29:57  +51 27'42\"  9.48              1.25   \n",
              "1                 01:47  21:26:01  +09 53'25\"  12.9              2.81   \n",
              "2                 00:53  23:36:39  +07 56'30\"  11.8              2.60   \n",
              "3                 01:15  01:08:29  +08 34'00\"  11.6              2.07   \n",
              "4                 02:01  01:31:30  +10 37'23\"  12.9              2.14   \n",
              "5                 02:34  01:39:43  +12 47'00\"  12.9              2.60   \n",
              "6                 02:27  01:50:38  +12 16'20\"  10.4              2.07   \n",
              "7                 03:27  02:03:37  +17 51'02\"  11.1              3.42   \n",
              "8                 02:53  03:04:41  +20 27'23\"  11.9              1.96   \n",
              "9                 02:32  03:22:02  +19 30'01\"  11.6              2.05   \n",
              "10                01:34  03:53:21  +13 50'25\"  10.9              2.37   \n",
              "11                01:07  04:26:49  +14 59'38\"  12.6              2.65   \n",
              "12                01:22  04:29:29  +18 55'32\"  12.8              2.38   \n",
              "13                01:18  04:55:20  +25 33'09\"  11.6              2.49   \n",
              "14                01:07  05:25:04  +34 50'57\"  9.58              2.17   \n",
              "15                01:02  05:36:30  +47 01'16\"  12.3              2.06   \n",
              "16                00:35  06:03:19  +41 11'29\"  12.5              1.92   \n",
              "\n",
              "   Topo.range (au) Object-Observer-Sun (deg) Object-Observer-Moon (deg)  \\\n",
              "0            0.442                    112.94                      68.64   \n",
              "1             1.93                    144.04                      32.78   \n",
              "2             1.61                    170.06                      15.41   \n",
              "3             1.12                    156.16                      31.29   \n",
              "4             1.21                    150.14                      37.28   \n",
              "5             1.69                    147.42                      40.05   \n",
              "6             1.17                    145.18                      42.22   \n",
              "7             2.59                    140.04                      47.50   \n",
              "8             1.19                    125.70                      61.74   \n",
              "9             1.33                    122.07                      65.29   \n",
              "10            1.75                    115.91                      71.08   \n",
              "11            2.16                    107.73                      79.25   \n",
              "12            1.89                    106.59                      80.59   \n",
              "13            2.11                     99.79                      87.61   \n",
              "14            1.88                     92.49                      95.11   \n",
              "15            1.81                     89.64                      97.95   \n",
              "16            1.72                     84.84                      102.8   \n",
              "\n",
              "   Galactic latitude (deg) OBSdate(UT)  \n",
              "0                     7.26    20240917  \n",
              "1                   -27.81    20240917  \n",
              "2                   -50.51    20240917  \n",
              "3                   -54.24    20240917  \n",
              "4                   -51.22    20240917  \n",
              "5                   -48.62    20240917  \n",
              "6                   -48.29    20240917  \n",
              "7                   -41.97    20240917  \n",
              "8                   -32.79    20240917  \n",
              "9                   -31.08    20240917  \n",
              "10                  -30.09    20240917  \n",
              "11                  -23.21    20240917  \n",
              "12                  -20.23    20240917  \n",
              "13                  -11.42    20240917  \n",
              "14                   -0.76    20240917  \n",
              "15                    7.70    20240917  \n",
              "16                    8.96    20240917  "
            ]
          },
          "execution_count": 41,
          "metadata": {},
          "output_type": "execute_result"
        }
      ],
      "source": [
        "import pandas as pd\n",
        "\n",
        "df = pd.DataFrame.from_dict(data['data'])\n",
        "df = df.set_axis((data['fields']), axis=1)\n",
        "df['OBSdate(UT)'] = obs_date\n",
        "df"
      ]
    },
    {
      "cell_type": "markdown",
      "metadata": {
        "id": "D0YkQljNaIYG"
      },
      "source": [
        "### 관측 계획 저장 폴더 생성\n",
        "\n",
        "FITS 파일을 저장할 폴더를 \"OBSplan_asteroid\" 이라는 이름으로 생성해보겠습니다.\n",
        "\n",
        "* 만약 리눅스 시스템 이라면 shell 명령어로 가능한데, \"!\"를 붙이면 shell 명령어를 실행할 수 있습니다.\n",
        "> !mkdir OBSplan_asteroid\n",
        "\n",
        "OS의 영향을 받지 않기 위하여 pathlib을 사용하여 다음과 같이 폴더를 생성합니다."
      ]
    },
    {
      "cell_type": "code",
      "execution_count": 42,
      "metadata": {
        "colab": {
          "base_uri": "https://localhost:8080/"
        },
        "id": "gu2JgZiZbUIT",
        "outputId": "a8379821-8159-4ed1-dfea-70e538a2971d"
      },
      "outputs": [
        {
          "name": "stdout",
          "output_type": "stream",
          "text": [
            "BASEPATH: .\n",
            "OBSplan_asteroid is already exist...\n"
          ]
        }
      ],
      "source": [
        "import os\n",
        "from pathlib import Path\n",
        "BASEPATH = Path(\"./\")\n",
        "save_dir_name = \"OBSplan_asteroid\"\n",
        "print(f\"BASEPATH: {BASEPATH}\")\n",
        "\n",
        "if not (BASEPATH/save_dir_name).exists():\n",
        "    os.mkdir(str(BASEPATH/save_dir_name))\n",
        "    print (f\"{str(BASEPATH/save_dir_name)} is created...\")\n",
        "else :\n",
        "    print (f\"{str(BASEPATH/save_dir_name)} is already exist...\")"
      ]
    },
    {
      "cell_type": "markdown",
      "metadata": {
        "id": "PfcdraG4W14A"
      },
      "source": [
        "### dataframe 저장"
      ]
    },
    {
      "cell_type": "code",
      "execution_count": 43,
      "metadata": {
        "id": "6s0Ubupvdg0n"
      },
      "outputs": [],
      "source": [
        "df.to_csv(str(BASEPATH/save_dir_name/ f'asteroid_{obs_date}.csv'))"
      ]
    },
    {
      "cell_type": "markdown",
      "metadata": {
        "id": "HHapGn__-1pP"
      },
      "source": [
        "### (과제)\n",
        "\n",
        "12월 1달 동안의 NEA 목록을 csv  파일로 저장하는 코드를 완성하세요.\n",
        "\n"
      ]
    },
    {
      "cell_type": "code",
      "execution_count": null,
      "metadata": {
        "colab": {
          "background_save": true,
          "base_uri": "https://localhost:8080/"
        },
        "id": "r8KZUGP6U_oZ",
        "outputId": "e8382038-cd44-44ed-92b3-0154eac73750"
      },
      "outputs": [
        {
          "name": "stdout",
          "output_type": "stream",
          "text": [
            "len(dts): 31\n",
            "dts [datetime.datetime(2024, 12, 1, 0, 0), datetime.datetime(2024, 12, 2, 0, 0), datetime.datetime(2024, 12, 3, 0, 0), datetime.datetime(2024, 12, 4, 0, 0), datetime.datetime(2024, 12, 5, 0, 0), datetime.datetime(2024, 12, 6, 0, 0), datetime.datetime(2024, 12, 7, 0, 0), datetime.datetime(2024, 12, 8, 0, 0), datetime.datetime(2024, 12, 9, 0, 0), datetime.datetime(2024, 12, 10, 0, 0), datetime.datetime(2024, 12, 11, 0, 0), datetime.datetime(2024, 12, 12, 0, 0), datetime.datetime(2024, 12, 13, 0, 0), datetime.datetime(2024, 12, 14, 0, 0), datetime.datetime(2024, 12, 15, 0, 0), datetime.datetime(2024, 12, 16, 0, 0), datetime.datetime(2024, 12, 17, 0, 0), datetime.datetime(2024, 12, 18, 0, 0), datetime.datetime(2024, 12, 19, 0, 0), datetime.datetime(2024, 12, 20, 0, 0), datetime.datetime(2024, 12, 21, 0, 0), datetime.datetime(2024, 12, 22, 0, 0), datetime.datetime(2024, 12, 23, 0, 0), datetime.datetime(2024, 12, 24, 0, 0), datetime.datetime(2024, 12, 25, 0, 0), datetime.datetime(2024, 12, 26, 0, 0), datetime.datetime(2024, 12, 27, 0, 0), datetime.datetime(2024, 12, 28, 0, 0), datetime.datetime(2024, 12, 29, 0, 0), datetime.datetime(2024, 12, 30, 0, 0), datetime.datetime(2024, 12, 31, 0, 0)]\n",
            "obs_datetime : 2024-12-01 00:00:00\n",
            "obs_date : 20241201\n",
            "url : https://ssd-api.jpl.nasa.gov/sbwobs.api?sb-kind=a&mpc-code=P64&obs-time=2024-12-01 00:00:00&elev-min=60&time-min=15&vmag-max=13&vmag-min=6&optical=true&fmt-ra-dec=true&mag-required=true&output-sort=trans&maxoutput=50\n",
            "{'signature': {'version': '1.0', 'source': 'NASA/JPL Small-Body Observability API'}, 'obs_constraints': {'vmag-max': '13', 'elev-min': '60', 'mag-required': 'true', 'fmt-ra-dec': 'true', 'time-min': '15', 'maxoutput': '50', 'optical': 'true', 'vmag-min': '6', 'mpc-code': 'P64', 'output-sort': 'trans', 'obs-time': '2024-12-01 00:00:00'}, 'sb_constraints': {'sb-kind': 'a'}, 'location': 'GSHS Observatory, Suwon', 'obs_night': {'sun_set_az': '243.0', 'sun_set': '2024-11-30 08:13', 'end_civil': '2024-11-30 08:42', 'end_nautical': '2024-11-30 09:14', 'end_astronomical': '2024-11-30 09:45', 'begin_astronomical': '2024-11-30 20:53', 'begin_nautical': '2024-11-30 21:24', 'begin_civil': '2024-11-30 21:57', 'sun_rise_az': '117.1', 'sun_rise': '2024-11-30 22:25', 'transit_phase': '0.00', 'transit': '1984-10-26 23:58 ', 'moon_set_phase': '0.01', 'moon_set': '2024-11-30 07:11 ', 'moon_rise_phase': '0.00', 'moon_rise': '2024-11-30 22:25 ', 'begin_dark': '2024-11-30 09:45', 'mid_dark': '2024-11-30 15:19', 'end_dark': '2024-11-30 20:53', 'dark_time': '11:07'}, 'fields': ['Designation', 'Full name', 'Rise time', 'Transit time', 'Set time', 'Max. time observable', 'R.A.', 'Dec.', 'Vmag', 'Helio. range (au)', 'Topo.range (au)', 'Object-Observer-Sun (deg)', 'Object-Observer-Moon (deg)', 'Galactic latitude (deg)'], 'sort_by': 'transit time (asc.)', 'data': [['4954', '4954 Eric (1990 SQ)', '06:15*', '08:42*', '11:10', '01:24', '21:49:38', '+53 17\\'03\"', '12.6', '1.11', '0.342', '101.71', '109.0', '-0.45'], ['109', '109 Felicitas (A869 TA)', '10:21', '11:19', '12:18', '01:57', '00:27:18', '+10 24\\'43\"', '12.2', '1.92', '1.22', '121.22', '129.0', '-52.09'], ['10', '10 Hygiea (A849 GA)', '10:51', '12:11', '13:31', '02:40', '01:18:45', '+13 14\\'35\"', '11.2', '3.46', '2.70', '134.06', '141.7', '-49.27'], ['500', '500 Selinur (A903 BJ)', '10:32', '12:43', '14:55', '04:23', '01:51:27', '+26 15\\'37\"', '12.9', '2.32', '1.44', '143.91', '152.4', '-34.90'], ['270', '270 Anahita (A887 TA)', '11:35', '13:06', '14:38', '03:03', '02:14:13', '+15 14\\'34\"', '11.7', '2.07', '1.17', '147.49', '154.8', '-43.36'], ['33', '33 Polyhymnia (A854 UB)', '11:47', '13:31', '15:15', '03:27', '02:38:53', '+17 49\\'51\"', '11.5', '2.26', '1.33', '153.87', '161.2', '-38.30'], ['161', '161 Athor (A876 HA)', '11:27', '13:37', '15:46', '04:18', '02:44:52', '+25 17\\'29\"', '12.7', '2.40', '1.47', '155.95', '164.4', '-31.14'], ['189', '189 Phthia (A878 RA)', '12:30', '13:40', '14:50', '02:19', '02:47:56', '+11 45\\'21\"', '12.8', '2.38', '1.46', '153.89', '159.7', '-42.21'], ['11', '11 Parthenope (A850 JA)', '13:03', '14:02', '15:01', '01:57', '03:10:27', '+10 25\\'15\"', '10.2', '2.45', '1.50', '158.04', '162.3', '-39.84'], ['67', '67 Asia (A861 HA)', '13:23', '14:47', '16:10', '02:47', '03:55:16', '+13 48\\'57\"', '11.8', '2.53', '1.55', '168.71', '169.0', '-29.77'], ['103', '103 Hera (A868 RA)', '13:35', '14:47', '16:00', '02:24', '03:55:45', '+12 05\\'02\"', '11.6', '2.71', '1.74', '167.48', '167.3', '-30.85'], ['54', '54 Alexandra (A858 RA)', '12:30', '15:02', '17:33', '05:03', '04:10:23', '+37 20\\'34\"', '12.3', '2.97', '2.01', '163.94', '167.0', '-10.69'], ['13', '13 Egeria (A850 VA)', '12:56', '15:24', '17:53', '04:57', '04:32:57', '+34 58\\'16\"', '10.1', '2.43', '1.46', '166.79', '166.8', '-9.09'], ['1284', '1284 Latvia (1933 OP)', '13:11', '15:43', '18:15', '05:03', '04:51:22', '+37 42\\'28\"', '13.0', '2.20', '1.23', '163.36', '162.2', '-4.50'], ['47', '47 Aglaja (A857 RA)', '13:43', '16:04', '18:24', '04:40', '05:12:19', '+30 01\\'18\"', '12.5', '3.01', '2.04', '167.24', '161.9', '-5.74'], ['75', '75 Eurydike (A862 SA)', '13:49', '16:11', '18:34', '04:44', '05:20:06', '+31 01\\'58\"', '12.7', '2.53', '1.56', '165.29', '160.0', '-3.79'], ['350', '350 Ornamenta (A892 XC)', '14:57', '16:17', '17:37', '02:40', '05:25:44', '+13 16\\'41\"', '12.1', '2.61', '1.65', '164.01', '155.5', '-12.53'], ['69', '69 Hesperia (A861 HC)', '15:28', '16:24', '17:21', '01:52', '05:32:57', '+10 07\\'51\"', '10.8', '2.54', '1.59', '160.71', '152.3', '-12.66'], ['15', '15 Eunomia (A851 OA)', '14:03', '16:32', '19:01', '04:57', '05:40:59', '+35 05\\'02\"', '8.30', '2.26', '1.31', '159.37', '154.7', '2.09'], ['416', '416 Vaticana (A896 JA)', '14:25', '16:48', '19:10', '04:44', '05:56:27', '+31 04\\'11\"', '12.9', '3.40', '2.47', '158.36', '152.3', '2.80'], ['116', '116 Sirona (A871 RA)', '14:52', '17:01', '19:10', '04:18', '06:09:36', '+25 17\\'02\"', '11.6', '2.62', '1.68', '156.68', '149.3', '2.48'], ['26', '26 Proserpina (A853 JA)', '15:00', '17:13', '19:26', '04:26', '06:21:57', '+26 43\\'33\"', '11.9', '2.87', '1.95', '153.81', '146.7', '5.61'], ['120', '120 Lachesis (A872 GB)', '15:12', '17:36', '20:00', '04:48', '06:44:56', '+32 04\\'36\"', '12.8', '3.22', '2.34', '148.13', '141.9', '12.45'], ['247', '247 Eukrate (A885 EB)', '16:23', '17:44', '19:05', '02:42', '06:52:55', '+64 48\\'05\"', '11.5', '2.11', '1.33', '130.97', '130.8', '24.27'], ['88', '88 Thisbe (A866 LA)', '15:44', '17:48', '19:52', '04:07', '06:56:58', '+23 18\\'21\"', '12.1', '3.08', '2.21', '145.86', '138.4', '11.24'], ['888', '888 Parysatis (A918 CE)', '17:02', '17:54', '18:46', '01:44', '07:02:39', '+09 43\\'04\"', '12.7', '2.22', '1.36', '141.21', '132.7', '6.60'], ['1626', '1626 Sadeya (1927 AA)', '15:27', '17:58', '20:30', '05:03', '07:07:18', '+37 24\\'06\"', '12.9', '1.73', '0.837', '142.54', '137.2', '18.71'], ['14', '14 Irene (A851 KA)', '16:11', '18:17', '20:23', '04:11', '07:25:49', '+24 00\\'23\"', '10.5', '2.52', '1.69', '139.35', '132.1', '17.58'], ['122', '122 Gerda (A872 OA)', '16:33', '18:24', '20:15', '03:41', '07:32:49', '+19 33\\'09\"', '12.8', '3.17', '2.37', '137.07', '129.4', '17.35'], ['36', '36 Atalante (A855 TA)', '16:06', '18:33', '21:01*', '04:47', '07:42:15', '+53 06\\'32\"', '11.6', '2.03', '1.23', '131.86', '129.2', '28.54'], ['77', '77 Frigga (A862 VA)', '16:30', '18:38', '20:46', '04:16', '07:47:21', '+24 51\\'28\"', '12.4', '2.36', '1.56', '134.58', '127.5', '22.45'], ['675', '675 Ludmilla (A908 QH)', '17:22', '18:56', '20:31', '03:09', '08:05:33', '+15 50\\'27\"', '11.9', '2.32', '1.57', '128.62', '120.8', '23.07'], ['79', '79 Eurynome (A863 RA)', '17:39', '18:59', '20:19', '02:39', '08:07:58', '+13 11\\'10\"', '11.0', '2.10', '1.35', '127.31', '119.3', '22.55'], ['240', '240 Vanadis (A884 QB)', '17:18', '19:07', '20:55*', '03:34', '08:15:55', '+18 58\\'44\"', '12.8', '2.22', '1.48', '127.01', '119.5', '26.55'], ['364', '364 Isara (A893 FE)', '17:23', '19:09', '20:55*', '03:29', '08:18:35', '+18 21\\'08\"', '12.9', '1.95', '1.19', '126.25', '118.7', '26.91'], ['472', '472 Roma (A901 NA)', '18:12', '19:10', '20:07', '01:55', '08:18:45', '+10 17\\'58\"', '12.9', '2.35', '1.65', '123.89', '115.8', '23.75'], ['55', '55 Pandora (A858 RB)', '17:50', '20:00', '22:11*', '03:02', '09:09:32', '+25 40\\'25\"', '12.7', '2.75', '2.17', '116.41', '109.8', '40.41'], ['28', '28 Bellona (A854 EA)', '19:09', '20:02', '20:54*', '01:43', '09:10:55', '+09 46\\'44\"', '11.5', '2.37', '1.82', '111.61', '103.8', '35.12'], ['29', '29 Amphitrite (A854 EB)', '19:22', '21:02*', '22:43*', '01:31', '10:11:43', '+17 07\\'46\"', '10.6', '2.47', '2.10', '100.11', '93.21', '51.61'], ['21', '21 Lutetia (A852 VA)', '19:56', '21:14*', '22:32*', '00:56', '10:23:31', '+12 54\\'01\"', '12.8', '2.81', '2.53', '95.96', '88.82', '52.41'], ['674', '674 Rachele (A908 UK)', '20:36', '22:22*', '00:07*', '00:16', '11:31:15', '+18 16\\'29\"', '12.4', '2.46', '2.38', '83.06', '77.07', '69.33']], 'total_objects': '41', 'shown_objects': '41'}\n",
            "obs_datetime : 2024-12-02 00:00:00\n",
            "obs_date : 20241202\n",
            "url : https://ssd-api.jpl.nasa.gov/sbwobs.api?sb-kind=a&mpc-code=P64&obs-time=2024-12-02 00:00:00&elev-min=60&time-min=15&vmag-max=13&vmag-min=6&optical=true&fmt-ra-dec=true&mag-required=true&output-sort=trans&maxoutput=50\n",
            "{'signature': {'source': 'NASA/JPL Small-Body Observability API', 'version': '1.0'}, 'obs_constraints': {'fmt-ra-dec': 'true', 'vmag-min': '6', 'elev-min': '60', 'obs-time': '2024-12-02 00:00:00', 'mpc-code': 'P64', 'time-min': '15', 'vmag-max': '13', 'optical': 'true', 'output-sort': 'trans', 'maxoutput': '50', 'mag-required': 'true'}, 'sb_constraints': {'sb-kind': 'a'}, 'location': 'GSHS Observatory, Suwon', 'obs_night': {'sun_set_az': '242.8', 'sun_set': '2024-12-01 08:13', 'end_civil': '2024-12-01 08:41', 'end_nautical': '2024-12-01 09:14', 'end_astronomical': '2024-12-01 09:45', 'begin_astronomical': '2024-12-01 20:54', 'begin_nautical': '2024-12-01 21:25', 'begin_civil': '2024-12-01 21:57', 'sun_rise_az': '117.3', 'sun_rise': '2024-12-01 22:26', 'transit_phase': '0.00', 'transit': '1984-10-26 23:58 ', 'moon_set_phase': '0.00', 'moon_set': '2024-12-01 07:49 ', 'moon_rise_phase': '0.01', 'moon_rise': '2024-12-01 23:28 ', 'begin_dark': '2024-12-01 09:45', 'mid_dark': '2024-12-01 15:19', 'end_dark': '2024-12-01 20:54', 'dark_time': '11:08'}, 'fields': ['Designation', 'Full name', 'Rise time', 'Transit time', 'Set time', 'Max. time observable', 'R.A.', 'Dec.', 'Vmag', 'Helio. range (au)', 'Topo.range (au)', 'Object-Observer-Sun (deg)', 'Object-Observer-Moon (deg)', 'Galactic latitude (deg)'], 'sort_by': 'transit time (asc.)', 'data': [['4954', '4954 Eric (1990 SQ)', '06:14*', '08:40*', '11:06', '01:20', '21:51:33', '+53 54\\'47\"', '12.6', '1.11', '0.344', '101.73', '104.2', '-0.15'], ['109', '109 Felicitas (A869 TA)', '10:16', '11:16', '12:16', '01:59', '00:27:47', '+10 29\\'32\"', '12.2', '1.92', '1.22', '120.35', '117.0', '-52.03'], ['10', '10 Hygiea (A849 GA)', '10:47', '12:07', '13:26', '02:39', '01:18:31', '+13 11\\'44\"', '11.2', '3.46', '2.71', '132.98', '129.4', '-49.33'], ['500', '500 Selinur (A903 BJ)', '10:28', '12:39', '14:51', '04:23', '01:51:12', '+26 07\\'19\"', '13.0', '2.32', '1.45', '142.93', '140.9', '-35.05'], ['270', '270 Anahita (A887 TA)', '11:31', '13:02', '14:33', '03:02', '02:13:49', '+15 10\\'26\"', '11.7', '2.07', '1.18', '146.36', '142.4', '-43.46'], ['33', '33 Polyhymnia (A854 UB)', '11:43', '13:26', '15:10', '03:27', '02:38:22', '+17 47\\'32\"', '11.5', '2.26', '1.34', '152.73', '148.9', '-38.40'], ['161', '161 Athor (A876 HA)', '11:23', '13:32', '15:41', '04:18', '02:44:00', '+25 14\\'57\"', '12.8', '2.41', '1.48', '154.81', '152.4', '-31.27'], ['189', '189 Phthia (A878 RA)', '12:26', '13:35', '14:45', '02:18', '02:47:16', '+11 41\\'14\"', '12.8', '2.38', '1.46', '152.72', '147.8', '-42.36'], ['11', '11 Parthenope (A850 JA)', '12:59', '13:57', '14:56', '01:57', '03:09:39', '+10 24\\'10\"', '10.2', '2.45', '1.51', '156.90', '151.5', '-39.98'], ['67', '67 Asia (A861 HA)', '13:19', '14:42', '16:05', '02:46', '03:54:17', '+13 44\\'51\"', '11.8', '2.53', '1.56', '167.65', '161.6', '-29.99'], ['103', '103 Hera (A868 RA)', '13:30', '14:43', '15:55', '02:24', '03:54:50', '+12 03\\'35\"', '11.6', '2.71', '1.74', '166.53', '160.4', '-31.03'], ['54', '54 Alexandra (A858 RA)', '12:25', '14:57', '17:28', '05:02', '04:09:16', '+37 16\\'02\"', '12.3', '2.97', '2.01', '163.83', '167.2', '-10.90'], ['13', '13 Egeria (A850 VA)', '12:50', '15:19', '17:48', '04:57', '04:31:39', '+35 02\\'56\"', '10.1', '2.43', '1.46', '166.89', '171.6', '-9.23'], ['1284', '1284 Latvia (1933 OP)', '13:06', '15:38', '18:10', '05:03', '04:50:14', '+37 37\\'17\"', '12.9', '2.20', '1.23', '163.89', '169.7', '-4.72'], ['47', '47 Aglaja (A857 RA)', '13:38', '15:59', '18:19', '04:40', '05:11:19', '+30 01\\'02\"', '12.5', '3.02', '2.04', '168.23', '174.1', '-5.92'], ['75', '75 Eurydike (A862 SA)', '13:44', '16:06', '18:29', '04:44', '05:18:56', '+31 01\\'45\"', '12.7', '2.53', '1.56', '166.33', '172.2', '-4.00'], ['350', '350 Ornamenta (A892 XC)', '14:51', '16:12', '17:33', '02:42', '05:24:44', '+13 24\\'40\"', '12.1', '2.61', '1.65', '165.06', '163.6', '-12.66'], ['69', '69 Hesperia (A861 HC)', '15:24', '16:20', '17:15', '01:51', '05:32:10', '+10 04\\'33\"', '10.8', '2.54', '1.59', '161.54', '159.8', '-12.86'], ['15', '15 Eunomia (A851 OA)', '13:59', '16:27', '18:56', '04:57', '05:39:54', '+35 00\\'39\"', '8.28', '2.26', '1.31', '160.41', '166.4', '1.86'], ['416', '416 Vaticana (A896 JA)', '14:20', '16:43', '19:05', '04:45', '05:55:33', '+31 07\\'21\"', '12.8', '3.40', '2.46', '159.47', '164.6', '2.66'], ['116', '116 Sirona (A871 RA)', '14:47', '16:56', '19:06', '04:18', '06:08:49', '+25 18\\'52\"', '11.6', '2.62', '1.68', '157.87', '161.6', '2.34'], ['26', '26 Proserpina (A853 JA)', '14:55', '17:08', '19:22', '04:26', '06:21:09', '+26 45\\'24\"', '11.9', '2.87', '1.94', '154.99', '159.1', '5.46'], ['120', '120 Lachesis (A872 GB)', '15:07', '17:32', '19:56', '04:48', '06:44:17', '+32 06\\'23\"', '12.8', '3.22', '2.33', '149.23', '154.2', '12.33'], ['247', '247 Eukrate (A885 EB)', '16:20', '17:39', '18:58', '02:37', '06:51:52', '+64 58\\'09\"', '11.5', '2.12', '1.33', '131.40', '137.5', '24.20'], ['88', '88 Thisbe (A866 LA)', '15:40', '17:43', '19:47', '04:07', '06:56:18', '+23 18\\'02\"', '12.1', '3.08', '2.20', '147.03', '150.7', '11.10'], ['888', '888 Parysatis (A918 CE)', '16:57', '17:49', '18:42', '01:45', '07:02:13', '+09 46\\'20\"', '12.7', '2.22', '1.36', '142.28', '143.7', '6.52'], ['1626', '1626 Sadeya (1927 AA)', '15:22', '17:53', '20:25', '05:02', '07:06:19', '+37 05\\'44\"', '12.9', '1.73', '0.832', '143.72', '149.2', '18.42'], ['14', '14 Irene (A851 KA)', '16:07', '18:13', '20:19', '04:11', '07:25:28', '+24 05\\'16\"', '10.5', '2.52', '1.68', '140.45', '144.4', '17.53'], ['122', '122 Gerda (A872 OA)', '16:29', '18:20', '20:10', '03:41', '07:32:28', '+19 33\\'30\"', '12.8', '3.17', '2.36', '138.17', '141.5', '17.28'], ['36', '36 Atalante (A855 TA)', '16:02', '18:29', '20:56*', '04:52', '07:41:52', '+53 15\\'20\"', '11.6', '2.03', '1.23', '132.58', '138.8', '28.50'], ['77', '77 Frigga (A862 VA)', '16:26', '18:34', '20:42', '04:16', '07:47:08', '+24 53\\'07\"', '12.4', '2.36', '1.55', '135.64', '139.8', '22.41'], ['675', '675 Ludmilla (A908 QH)', '17:18', '18:52', '20:27', '03:08', '08:05:25', '+15 44\\'54\"', '11.9', '2.32', '1.56', '129.64', '132.8', '23.01'], ['65', '65 Cybele (A861 EB)', '17:16', '18:55', '20:35', '03:19', '08:08:24', '+16 55\\'00\"', '13.0', '3.77', '3.07', '129.25', '132.6', '24.12'], ['79', '79 Eurynome (A863 RA)', '17:36', '18:55', '20:14', '02:38', '08:07:56', '+13 07\\'48\"', '11.0', '2.10', '1.35', '128.30', '131.2', '22.52'], ['240', '240 Vanadis (A884 QB)', '17:14', '19:03', '20:52', '03:37', '08:15:59', '+18 59\\'20\"', '12.8', '2.22', '1.47', '128.01', '131.7', '26.57'], ['364', '364 Isara (A893 FE)', '17:20', '19:06', '20:52', '03:32', '08:18:48', '+18 23\\'55\"', '12.9', '1.95', '1.19', '127.22', '130.8', '26.97'], ['472', '472 Roma (A901 NA)', '18:08', '19:06', '20:04', '01:56', '08:18:48', '+10 20\\'34\"', '12.8', '2.35', '1.64', '124.89', '127.6', '23.78'], ['55', '55 Pandora (A858 RB)', '17:46', '19:57', '22:07*', '03:07', '09:09:42', '+25 42\\'16\"', '12.7', '2.75', '2.16', '117.37', '122.0', '40.45'], ['28', '28 Bellona (A854 EA)', '19:06', '19:58', '20:51', '01:44', '09:11:27', '+09 45\\'08\"', '11.5', '2.37', '1.81', '112.48', '115.7', '35.22'], ['29', '29 Amphitrite (A854 EB)', '19:19', '20:59*', '22:40*', '01:35', '10:12:26', '+17 04\\'43\"', '10.6', '2.47', '2.08', '100.94', '105.3', '51.75'], ['21', '21 Lutetia (A852 VA)', '19:53', '21:11*', '22:28*', '01:00', '10:24:07', '+12 52\\'00\"', '12.8', '2.81', '2.51', '96.83', '100.9', '52.52'], ['674', '674 Rachele (A908 UK)', '20:33', '22:19*', '00:04*', '00:20', '11:32:31', '+18 13\\'48\"', '12.4', '2.47', '2.37', '83.76', '88.75', '69.57']], 'total_objects': '42', 'shown_objects': '42'}\n",
            "obs_datetime : 2024-12-03 00:00:00\n",
            "obs_date : 20241203\n",
            "url : https://ssd-api.jpl.nasa.gov/sbwobs.api?sb-kind=a&mpc-code=P64&obs-time=2024-12-03 00:00:00&elev-min=60&time-min=15&vmag-max=13&vmag-min=6&optical=true&fmt-ra-dec=true&mag-required=true&output-sort=trans&maxoutput=50\n",
            "{'signature': {'version': '1.0', 'source': 'NASA/JPL Small-Body Observability API'}, 'obs_constraints': {'output-sort': 'trans', 'obs-time': '2024-12-03 00:00:00', 'maxoutput': '50', 'time-min': '15', 'vmag-min': '6', 'optical': 'true', 'mpc-code': 'P64', 'fmt-ra-dec': 'true', 'mag-required': 'true', 'vmag-max': '13', 'elev-min': '60'}, 'sb_constraints': {'sb-kind': 'a'}, 'location': 'GSHS Observatory, Suwon', 'obs_night': {'sun_set_az': '242.6', 'sun_set': '2024-12-02 08:13', 'end_civil': '2024-12-02 08:41', 'end_nautical': '2024-12-02 09:14', 'end_astronomical': '2024-12-02 09:45', 'begin_astronomical': '2024-12-02 20:54', 'begin_nautical': '2024-12-02 21:26', 'begin_civil': '2024-12-02 21:58', 'sun_rise_az': '117.5', 'sun_rise': '2024-12-02 22:27', 'transit_phase': '0.01', 'transit': '2024-12-02 04:02 ', 'moon_set_phase': '0.01', 'moon_set': '2024-12-02 08:36 ', 'moon_rise_phase': '0.04', 'moon_rise': '2024-12-03 00:27 ', 'begin_dark': '2024-12-02 09:45', 'mid_dark': '2024-12-02 15:20', 'end_dark': '2024-12-02 20:54', 'dark_time': '11:09'}, 'fields': ['Designation', 'Full name', 'Rise time', 'Transit time', 'Set time', 'Max. time observable', 'R.A.', 'Dec.', 'Vmag', 'Helio. range (au)', 'Topo.range (au)', 'Object-Observer-Sun (deg)', 'Object-Observer-Moon (deg)', 'Galactic latitude (deg)'], 'sort_by': 'transit time (asc.)', 'data': [['4954', '4954 Eric (1990 SQ)', '06:14*', '08:38*', '11:03', '01:17', '21:53:36', '+54 32\\'11\"', '12.6', '1.11', '0.346', '101.76', '98.87', '0.15'], ['109', '109 Felicitas (A869 TA)', '10:12', '11:13', '12:13', '02:00', '00:28:18', '+10 34\\'31\"', '12.3', '1.92', '1.23', '119.50', '104.8', '-51.97'], ['10', '10 Hygiea (A849 GA)', '10:43', '12:02', '13:22', '02:39', '01:18:18', '+13 08\\'59\"', '11.2', '3.46', '2.72', '131.91', '116.9', '-49.38'], ['500', '500 Selinur (A903 BJ)', '10:24', '12:35', '14:46', '04:22', '01:51:00', '+25 59\\'08\"', '13.0', '2.32', '1.46', '141.94', '128.8', '-35.19'], ['270', '270 Anahita (A887 TA)', '11:27', '12:57', '14:28', '03:01', '02:13:26', '+15 06\\'29\"', '11.8', '2.08', '1.19', '145.24', '129.9', '-43.56'], ['33', '33 Polyhymnia (A854 UB)', '11:38', '13:22', '15:05', '03:26', '02:37:54', '+17 45\\'20\"', '11.5', '2.27', '1.35', '151.60', '136.3', '-38.49'], ['161', '161 Athor (A876 HA)', '11:18', '13:27', '15:36', '04:18', '02:43:11', '+25 12\\'25\"', '12.8', '2.41', '1.48', '153.68', '139.9', '-31.40'], ['189', '189 Phthia (A878 RA)', '12:22', '13:31', '14:39', '02:17', '02:46:38', '+11 37\\'17\"', '12.8', '2.38', '1.47', '151.55', '135.5', '-42.51'], ['11', '11 Parthenope (A850 JA)', '12:54', '13:53', '14:51', '01:57', '03:08:51', '+10 23\\'13\"', '10.2', '2.45', '1.52', '155.76', '139.6', '-40.12'], ['67', '67 Asia (A861 HA)', '13:14', '14:37', '16:00', '02:45', '03:53:19', '+13 40\\'51\"', '11.8', '2.53', '1.56', '166.55', '150.5', '-30.21'], ['103', '103 Hera (A868 RA)', '13:26', '14:38', '15:50', '02:23', '03:53:57', '+12 02\\'15\"', '11.6', '2.71', '1.75', '165.54', '149.6', '-31.21'], ['54', '54 Alexandra (A858 RA)', '12:21', '14:52', '17:23', '05:02', '04:08:10', '+37 11\\'21\"', '12.3', '2.98', '2.02', '163.62', '158.3', '-11.10'], ['13', '13 Egeria (A850 VA)', '12:45', '15:14', '17:43', '04:57', '04:30:19', '+35 07\\'24\"', '10.1', '2.43', '1.46', '166.87', '163.2', '-9.38'], ['1284', '1284 Latvia (1933 OP)', '13:01', '15:33', '18:04', '05:03', '04:49:07', '+37 31\\'51\"', '12.9', '2.20', '1.23', '164.35', '165.5', '-4.95'], ['47', '47 Aglaja (A857 RA)', '13:33', '15:54', '18:14', '04:40', '05:10:19', '+30 00\\'40\"', '12.5', '3.02', '2.04', '169.19', '172.6', '-6.10'], ['75', '75 Eurydike (A862 SA)', '13:39', '16:01', '18:24', '04:44', '05:17:45', '+31 01\\'24\"', '12.6', '2.53', '1.56', '167.33', '173.9', '-4.21'], ['350', '350 Ornamenta (A892 XC)', '14:45', '16:07', '17:29', '02:43', '05:23:43', '+13 32\\'44\"', '12.1', '2.61', '1.65', '166.09', '164.3', '-12.80'], ['69', '69 Hesperia (A861 HC)', '15:20', '16:15', '17:10', '01:50', '05:31:22', '+10 01\\'22\"', '10.7', '2.54', '1.58', '162.33', '161.3', '-13.05'], ['15', '15 Eunomia (A851 OA)', '13:54', '16:22', '18:51', '04:57', '05:38:48', '+34 56\\'04\"', '8.26', '2.26', '1.30', '161.43', '173.5', '1.63'], ['416', '416 Vaticana (A896 JA)', '14:15', '16:38', '19:01', '04:45', '05:54:37', '+31 10\\'27\"', '12.8', '3.40', '2.46', '160.56', '176.4', '2.51'], ['116', '116 Sirona (A871 RA)', '14:42', '16:51', '19:01', '04:18', '06:08:00', '+25 20\\'41\"', '11.6', '2.62', '1.67', '159.06', '173.7', '2.19'], ['26', '26 Proserpina (A853 JA)', '14:51', '17:04', '19:17', '04:26', '06:20:19', '+26 47\\'13\"', '11.8', '2.87', '1.94', '156.18', '171.6', '5.32'], ['120', '120 Lachesis (A872 GB)', '15:03', '17:27', '19:51', '04:48', '06:43:35', '+32 08\\'06\"', '12.8', '3.22', '2.33', '150.33', '166.5', '12.21'], ['247', '247 Eukrate (A885 EB)', '16:18', '17:34', '18:50', '02:32', '06:50:44', '+65 07\\'51\"', '11.4', '2.12', '1.33', '131.82', '141.9', '24.12'], ['88', '88 Thisbe (A866 LA)', '15:35', '17:39', '19:42', '04:07', '06:55:36', '+23 17\\'44\"', '12.1', '3.08', '2.20', '148.20', '163.0', '10.95'], ['888', '888 Parysatis (A918 CE)', '16:52', '17:45', '18:38', '01:46', '07:01:45', '+09 49\\'48\"', '12.6', '2.22', '1.35', '143.35', '153.8', '6.45'], ['1626', '1626 Sadeya (1927 AA)', '15:18', '17:49', '20:19', '05:01', '07:05:16', '+36 46\\'57\"', '12.9', '1.73', '0.826', '144.92', '161.0', '18.12'], ['14', '14 Irene (A851 KA)', '16:02', '18:08', '20:14', '04:12', '07:25:06', '+24 10\\'14\"', '10.5', '2.51', '1.67', '141.56', '156.8', '17.49'], ['122', '122 Gerda (A872 OA)', '16:24', '18:15', '20:06', '03:41', '07:32:05', '+19 33\\'54\"', '12.8', '3.17', '2.35', '139.27', '153.7', '17.20'], ['36', '36 Atalante (A855 TA)', '15:58', '18:25', '20:52', '04:54', '07:41:26', '+53 23\\'58\"', '11.6', '2.03', '1.23', '133.30', '147.1', '28.46'], ['77', '77 Frigga (A862 VA)', '16:22', '18:30', '20:38', '04:16', '07:46:52', '+24 54\\'49\"', '12.3', '2.36', '1.55', '136.71', '152.3', '22.37'], ['675', '675 Ludmilla (A908 QH)', '17:15', '18:48', '20:22', '03:07', '08:05:14', '+15 39\\'26\"', '11.9', '2.32', '1.55', '130.67', '144.9', '22.93'], ['65', '65 Cybele (A861 EB)', '17:11', '18:51', '20:31', '03:19', '08:08:10', '+16 55\\'23\"', '13.0', '3.77', '3.06', '130.32', '144.8', '24.07'], ['79', '79 Eurynome (A863 RA)', '17:32', '18:51', '20:10', '02:38', '08:07:53', '+13 04\\'34\"', '10.9', '2.11', '1.34', '129.30', '143.1', '22.49'], ['240', '240 Vanadis (A884 QB)', '17:10', '18:59', '20:48', '03:37', '08:16:00', '+19 00\\'03\"', '12.7', '2.22', '1.46', '129.03', '144.0', '26.58'], ['364', '364 Isara (A893 FE)', '17:16', '19:02', '20:48', '03:32', '08:18:58', '+18 26\\'52\"', '12.9', '1.95', '1.18', '128.21', '143.1', '27.03'], ['472', '472 Roma (A901 NA)', '18:03', '19:02', '20:01', '01:57', '08:18:50', '+10 23\\'23\"', '12.8', '2.35', '1.63', '125.89', '139.4', '23.81'], ['55', '55 Pandora (A858 RB)', '17:42', '19:53', '22:03*', '03:12', '09:09:51', '+25 44\\'14\"', '12.7', '2.76', '2.15', '118.35', '134.3', '40.50'], ['28', '28 Bellona (A854 EA)', '19:03', '19:55', '20:47', '01:44', '09:11:58', '+09 43\\'42\"', '11.5', '2.37', '1.80', '113.36', '127.7', '35.33'], ['29', '29 Amphitrite (A854 EB)', '19:16', '20:56*', '22:36*', '01:38', '10:13:08', '+17 01\\'47\"', '10.6', '2.47', '2.07', '101.78', '117.5', '51.88'], ['21', '21 Lutetia (A852 VA)', '19:50', '21:07*', '22:25*', '01:04', '10:24:42', '+12 50\\'06\"', '12.8', '2.81', '2.50', '97.70', '113.2', '52.63'], ['674', '674 Rachele (A908 UK)', '20:31', '22:16*', '00:02*', '00:23', '11:33:46', '+18 11\\'13\"', '12.4', '2.47', '2.36', '84.46', '100.6', '69.81']], 'total_objects': '42', 'shown_objects': '42'}\n",
            "obs_datetime : 2024-12-04 00:00:00\n",
            "obs_date : 20241204\n",
            "url : https://ssd-api.jpl.nasa.gov/sbwobs.api?sb-kind=a&mpc-code=P64&obs-time=2024-12-04 00:00:00&elev-min=60&time-min=15&vmag-max=13&vmag-min=6&optical=true&fmt-ra-dec=true&mag-required=true&output-sort=trans&maxoutput=50\n",
            "{'signature': {'source': 'NASA/JPL Small-Body Observability API', 'version': '1.0'}, 'obs_constraints': {'obs-time': '2024-12-04 00:00:00', 'elev-min': '60', 'vmag-min': '6', 'fmt-ra-dec': 'true', 'mag-required': 'true', 'output-sort': 'trans', 'optical': 'true', 'vmag-max': '13', 'mpc-code': 'P64', 'time-min': '15', 'maxoutput': '50'}, 'sb_constraints': {'sb-kind': 'a'}, 'location': 'GSHS Observatory, Suwon', 'obs_night': {'sun_set_az': '242.4', 'sun_set': '2024-12-03 08:12', 'end_civil': '2024-12-03 08:41', 'end_nautical': '2024-12-03 09:14', 'end_astronomical': '2024-12-03 09:45', 'begin_astronomical': '2024-12-03 20:55', 'begin_nautical': '2024-12-03 21:27', 'begin_civil': '2024-12-03 21:59', 'sun_rise_az': '117.7', 'sun_rise': '2024-12-03 22:28', 'transit_phase': '0.04', 'transit': '2024-12-03 04:59 ', 'moon_set_phase': '0.05', 'moon_set': '2024-12-03 09:31 ', 'moon_rise_phase': '0.09', 'moon_rise': '2024-12-04 01:19 ', 'begin_dark': '2024-12-03 09:45', 'mid_dark': '2024-12-03 15:20', 'end_dark': '2024-12-03 20:55', 'dark_time': '11:10'}, 'fields': ['Designation', 'Full name', 'Rise time', 'Transit time', 'Set time', 'Max. time observable', 'R.A.', 'Dec.', 'Vmag', 'Helio. range (au)', 'Topo.range (au)', 'Object-Observer-Sun (deg)', 'Object-Observer-Moon (deg)', 'Galactic latitude (deg)'], 'sort_by': 'transit time (asc.)', 'data': [['4954', '4954 Eric (1990 SQ)', '06:14*', '08:37*', '10:59', '01:14', '21:55:47', '+55 09\\'16\"', '12.6', '1.11', '0.349', '101.82', '93.27', '0.43'], ['109', '109 Felicitas (A869 TA)', '10:08', '11:09', '12:10', '02:02', '00:28:51', '+10 39\\'38\"', '12.3', '1.92', '1.24', '118.65', '92.41', '-51.91'], ['10', '10 Hygiea (A849 GA)', '10:39', '11:58', '13:18', '02:38', '01:18:07', '+13 06\\'21\"', '11.3', '3.46', '2.73', '130.84', '104.2', '-49.43'], ['270', '270 Anahita (A887 TA)', '11:23', '12:53', '14:24', '03:00', '02:13:06', '+15 02\\'43\"', '11.8', '2.08', '1.20', '144.13', '117.1', '-43.65'], ['33', '33 Polyhymnia (A854 UB)', '11:34', '13:17', '15:01', '03:26', '02:37:27', '+17 43\\'13\"', '11.5', '2.27', '1.36', '150.48', '123.5', '-38.57'], ['161', '161 Athor (A876 HA)', '11:13', '13:22', '15:31', '04:17', '02:42:23', '+25 09\\'53\"', '12.8', '2.41', '1.49', '152.55', '127.2', '-31.52'], ['189', '189 Phthia (A878 RA)', '12:18', '13:26', '14:34', '02:16', '02:46:02', '+11 33\\'29\"', '12.9', '2.38', '1.47', '150.38', '122.9', '-42.64'], ['11', '11 Parthenope (A850 JA)', '12:50', '13:48', '14:47', '01:57', '03:08:05', '+10 22\\'24\"', '10.2', '2.45', '1.52', '154.62', '127.2', '-40.26'], ['67', '67 Asia (A861 HA)', '13:10', '14:32', '15:55', '02:44', '03:52:22', '+13 36\\'58\"', '11.9', '2.53', '1.56', '165.43', '138.3', '-30.42'], ['103', '103 Hera (A868 RA)', '13:21', '14:33', '15:45', '02:23', '03:53:04', '+12 01\\'00\"', '11.6', '2.71', '1.75', '164.52', '137.7', '-31.38'], ['54', '54 Alexandra (A858 RA)', '12:16', '14:47', '17:18', '05:02', '04:07:05', '+37 06\\'31\"', '12.3', '2.98', '2.02', '163.33', '146.7', '-11.31'], ['13', '13 Egeria (A850 VA)', '12:40', '15:09', '17:38', '04:57', '04:29:00', '+35 11\\'40\"', '10.1', '2.43', '1.46', '166.73', '151.3', '-9.53'], ['1284', '1284 Latvia (1933 OP)', '12:56', '15:28', '17:59', '05:03', '04:48:00', '+37 26\\'11\"', '12.9', '2.20', '1.23', '164.73', '154.7', '-5.18'], ['47', '47 Aglaja (A857 RA)', '13:29', '15:49', '18:09', '04:40', '05:09:18', '+30 00\\'13\"', '12.5', '3.02', '2.04', '170.08', '160.0', '-6.28'], ['75', '75 Eurydike (A862 SA)', '13:34', '15:56', '18:18', '04:44', '05:16:34', '+31 00\\'56\"', '12.6', '2.54', '1.56', '168.29', '161.5', '-4.42'], ['350', '350 Ornamenta (A892 XC)', '14:39', '16:02', '17:25', '02:45', '05:22:42', '+13 40\\'55\"', '12.1', '2.61', '1.64', '167.07', '156.7', '-12.94'], ['69', '69 Hesperia (A861 HC)', '15:15', '16:10', '17:05', '01:49', '05:30:33', '+09 58\\'17\"', '10.7', '2.54', '1.58', '163.08', '155.3', '-13.25'], ['15', '15 Eunomia (A851 OA)', '13:49', '16:17', '18:46', '04:57', '05:37:42', '+34 51\\'17\"', '8.24', '2.26', '1.30', '162.43', '165.0', '1.40'], ['416', '416 Vaticana (A896 JA)', '14:10', '16:33', '18:56', '04:45', '05:53:40', '+31 13\\'29\"', '12.8', '3.40', '2.45', '161.65', '169.3', '2.36'], ['116', '116 Sirona (A871 RA)', '14:37', '16:47', '18:56', '04:19', '06:07:10', '+25 22\\'29\"', '11.6', '2.61', '1.67', '160.26', '171.9', '2.04'], ['26', '26 Proserpina (A853 JA)', '14:46', '16:59', '19:12', '04:26', '06:19:29', '+26 49\\'01\"', '11.8', '2.87', '1.93', '157.37', '175.0', '5.16'], ['120', '120 Lachesis (A872 GB)', '14:58', '17:22', '19:47', '04:48', '06:42:53', '+32 09\\'47\"', '12.8', '3.22', '2.32', '151.43', '176.1', '12.09'], ['247', '247 Eukrate (A885 EB)', '16:15', '17:29', '18:43', '02:27', '06:49:32', '+65 17\\'08\"', '11.4', '2.12', '1.33', '132.23', '143.0', '24.03'], ['88', '88 Thisbe (A866 LA)', '15:31', '17:34', '19:38', '04:07', '06:54:54', '+23 17\\'27\"', '12.1', '3.08', '2.19', '149.38', '174.1', '10.80'], ['888', '888 Parysatis (A918 CE)', '16:47', '17:41', '18:34', '01:47', '07:01:15', '+09 53\\'28\"', '12.6', '2.22', '1.34', '144.43', '161.0', '6.36'], ['1626', '1626 Sadeya (1927 AA)', '15:13', '17:43', '20:14', '05:01', '07:04:10', '+36 27\\'46\"', '12.8', '1.73', '0.822', '146.13', '170.5', '17.80'], ['14', '14 Irene (A851 KA)', '15:58', '18:04', '20:10', '04:12', '07:24:41', '+24 15\\'17\"', '10.4', '2.51', '1.66', '142.67', '169.4', '17.43'], ['122', '122 Gerda (A872 OA)', '16:20', '18:11', '20:02', '03:41', '07:31:41', '+19 34\\'21\"', '12.8', '3.17', '2.35', '140.37', '165.5', '17.11'], ['36', '36 Atalante (A855 TA)', '15:53', '18:20', '20:47', '04:53', '07:40:55', '+53 32\\'25\"', '11.6', '2.04', '1.22', '134.01', '152.5', '28.40'], ['77', '77 Frigga (A862 VA)', '16:17', '18:26', '20:34', '04:16', '07:46:35', '+24 56\\'36\"', '12.3', '2.36', '1.54', '137.79', '165.0', '22.32'], ['675', '675 Ludmilla (A908 QH)', '17:11', '18:44', '20:17', '03:06', '08:05:02', '+15 34\\'02\"', '11.9', '2.32', '1.55', '131.70', '156.8', '22.85'], ['65', '65 Cybele (A861 EB)', '17:07', '18:47', '20:27', '03:19', '08:07:55', '+16 55\\'51\"', '13.0', '3.77', '3.05', '131.40', '157.0', '24.02'], ['79', '79 Eurynome (A863 RA)', '17:28', '18:47', '20:06', '02:37', '08:07:47', '+13 01\\'29\"', '10.9', '2.11', '1.33', '130.31', '154.7', '22.44'], ['240', '240 Vanadis (A884 QB)', '17:06', '18:55', '20:44', '03:37', '08:15:59', '+19 00\\'54\"', '12.7', '2.22', '1.46', '130.05', '156.4', '26.58'], ['364', '364 Isara (A893 FE)', '17:12', '18:58', '20:45', '03:33', '08:19:07', '+18 30\\'01\"', '12.8', '1.95', '1.17', '129.21', '155.5', '27.08'], ['472', '472 Roma (A901 NA)', '17:59', '18:58', '19:57', '01:58', '08:18:49', '+10 26\\'23\"', '12.8', '2.35', '1.62', '126.91', '150.9', '23.83'], ['55', '55 Pandora (A858 RB)', '17:38', '19:49', '22:00*', '03:16', '09:09:59', '+25 46\\'17\"', '12.7', '2.76', '2.14', '119.32', '146.8', '40.53'], ['28', '28 Bellona (A854 EA)', '18:59', '19:51', '20:43', '01:43', '09:12:27', '+09 42\\'24\"', '11.5', '2.37', '1.79', '114.25', '139.9', '35.43'], ['29', '29 Amphitrite (A854 EB)', '19:13', '20:53', '22:33*', '01:42', '10:13:48', '+16 58\\'57\"', '10.5', '2.47', '2.06', '102.62', '130.0', '52.01'], ['21', '21 Lutetia (A852 VA)', '19:47', '21:04*', '22:21*', '01:08', '10:25:16', '+12 48\\'20\"', '12.8', '2.81', '2.49', '98.57', '125.7', '52.74'], ['674', '674 Rachele (A908 UK)', '20:28', '22:14*', '23:59*', '00:26', '11:34:59', '+18 08\\'46\"', '12.4', '2.47', '2.35', '85.16', '112.6', '70.04']], 'total_objects': '41', 'shown_objects': '41'}\n",
            "obs_datetime : 2024-12-05 00:00:00\n",
            "obs_date : 20241205\n",
            "url : https://ssd-api.jpl.nasa.gov/sbwobs.api?sb-kind=a&mpc-code=P64&obs-time=2024-12-05 00:00:00&elev-min=60&time-min=15&vmag-max=13&vmag-min=6&optical=true&fmt-ra-dec=true&mag-required=true&output-sort=trans&maxoutput=50\n",
            "{'signature': {'source': 'NASA/JPL Small-Body Observability API', 'version': '1.0'}, 'obs_constraints': {'mag-required': 'true', 'output-sort': 'trans', 'vmag-max': '13', 'optical': 'true', 'mpc-code': 'P64', 'time-min': '15', 'maxoutput': '50', 'obs-time': '2024-12-05 00:00:00', 'elev-min': '60', 'vmag-min': '6', 'fmt-ra-dec': 'true'}, 'sb_constraints': {'sb-kind': 'a'}, 'location': 'GSHS Observatory, Suwon', 'obs_night': {'sun_set_az': '242.3', 'sun_set': '2024-12-04 08:12', 'end_civil': '2024-12-04 08:41', 'end_nautical': '2024-12-04 09:14', 'end_astronomical': '2024-12-04 09:45', 'begin_astronomical': '2024-12-04 20:56', 'begin_nautical': '2024-12-04 21:28', 'begin_civil': '2024-12-04 22:00', 'sun_rise_az': '117.8', 'sun_rise': '2024-12-04 22:29', 'transit_phase': '0.09', 'transit': '2024-12-04 05:57 ', 'moon_set_phase': '0.10', 'moon_set': '2024-12-04 10:35 ', 'moon_rise_phase': '0.15', 'moon_rise': '2024-12-05 02:04 ', 'begin_dark': '2024-12-04 09:45', 'mid_dark': '2024-12-04 15:21', 'end_dark': '2024-12-04 20:56', 'dark_time': '11:10'}, 'fields': ['Designation', 'Full name', 'Rise time', 'Transit time', 'Set time', 'Max. time observable', 'R.A.', 'Dec.', 'Vmag', 'Helio. range (au)', 'Topo.range (au)', 'Object-Observer-Sun (deg)', 'Object-Observer-Moon (deg)', 'Galactic latitude (deg)'], 'sort_by': 'transit time (asc.)', 'data': [['4954', '4954 Eric (1990 SQ)', '06:14*', '08:35*', '10:56', '01:10', '21:58:05', '+55 46\\'01\"', '12.7', '1.11', '0.351', '101.89', '87.51', '0.71'], ['109', '109 Felicitas (A869 TA)', '10:04', '11:06', '12:08', '02:03', '00:29:26', '+10 44\\'54\"', '12.3', '1.92', '1.25', '117.81', '79.81', '-51.84'], ['10', '10 Hygiea (A849 GA)', '10:35', '11:54', '13:13', '02:37', '01:17:57', '+13 03\\'49\"', '11.3', '3.46', '2.75', '129.78', '91.35', '-49.48'], ['270', '270 Anahita (A887 TA)', '11:19', '12:49', '14:19', '03:00', '02:12:48', '+14 59\\'09\"', '11.8', '2.08', '1.21', '143.03', '104.2', '-43.74'], ['33', '33 Polyhymnia (A854 UB)', '11:30', '13:13', '14:56', '03:26', '02:37:01', '+17 41\\'14\"', '11.6', '2.27', '1.37', '149.36', '110.6', '-38.65'], ['161', '161 Athor (A876 HA)', '11:09', '13:18', '15:27', '04:17', '02:41:37', '+25 07\\'22\"', '12.9', '2.41', '1.50', '151.42', '114.2', '-31.65'], ['189', '189 Phthia (A878 RA)', '12:14', '13:22', '14:29', '02:15', '02:45:26', '+11 29\\'52\"', '12.9', '2.38', '1.48', '149.22', '110.0', '-42.78'], ['11', '11 Parthenope (A850 JA)', '12:45', '13:43', '14:42', '01:56', '03:07:20', '+10 21\\'44\"', '10.3', '2.45', '1.53', '153.48', '114.4', '-40.38'], ['67', '67 Asia (A861 HA)', '13:05', '14:27', '15:49', '02:44', '03:51:26', '+13 33\\'11\"', '11.9', '2.53', '1.57', '164.29', '125.6', '-30.63'], ['103', '103 Hera (A868 RA)', '13:16', '14:28', '15:40', '02:23', '03:52:12', '+11 59\\'51\"', '11.6', '2.71', '1.75', '163.47', '125.1', '-31.55'], ['54', '54 Alexandra (A858 RA)', '12:11', '14:42', '17:13', '05:02', '04:06:00', '+37 01\\'32\"', '12.3', '2.98', '2.02', '162.95', '134.3', '-11.52'], ['13', '13 Egeria (A850 VA)', '12:34', '15:03', '17:33', '04:58', '04:27:41', '+35 15\\'44\"', '10.1', '2.43', '1.46', '166.48', '138.6', '-9.68'], ['1284', '1284 Latvia (1933 OP)', '12:51', '15:23', '17:54', '05:03', '04:46:52', '+37 20\\'15\"', '12.9', '2.20', '1.23', '165.02', '142.4', '-5.42'], ['47', '47 Aglaja (A857 RA)', '13:24', '15:44', '18:04', '04:40', '05:08:17', '+29 59\\'40\"', '12.4', '3.02', '2.04', '170.90', '146.9', '-6.46'], ['75', '75 Eurydike (A862 SA)', '13:29', '15:51', '18:13', '04:44', '05:15:23', '+31 00\\'19\"', '12.6', '2.54', '1.56', '169.18', '148.5', '-4.63'], ['350', '350 Ornamenta (A892 XC)', '14:34', '15:57', '17:21', '02:47', '05:21:40', '+13 49\\'12\"', '12.0', '2.61', '1.64', '168.01', '145.6', '-13.08'], ['69', '69 Hesperia (A861 HC)', '15:11', '16:05', '17:00', '01:48', '05:29:44', '+09 55\\'19\"', '10.7', '2.54', '1.58', '163.78', '145.4', '-13.45'], ['15', '15 Eunomia (A851 OA)', '13:44', '16:12', '18:41', '04:56', '05:36:34', '+34 46\\'18\"', '8.23', '2.26', '1.30', '163.41', '152.7', '1.16'], ['416', '416 Vaticana (A896 JA)', '14:05', '16:28', '18:51', '04:45', '05:52:43', '+31 16\\'27\"', '12.8', '3.40', '2.45', '162.72', '156.5', '2.21'], ['116', '116 Sirona (A871 RA)', '14:32', '16:42', '18:51', '04:19', '06:06:18', '+25 24\\'16\"', '11.5', '2.61', '1.66', '161.46', '159.3', '1.89'], ['26', '26 Proserpina (A853 JA)', '14:41', '16:54', '19:07', '04:26', '06:18:36', '+26 50\\'47\"', '11.8', '2.87', '1.92', '158.56', '162.2', '5.00'], ['120', '120 Lachesis (A872 GB)', '14:53', '17:18', '19:42', '04:48', '06:42:09', '+32 11\\'25\"', '12.8', '3.22', '2.31', '152.53', '166.5', '11.96'], ['247', '247 Eukrate (A885 EB)', '16:13', '17:24', '18:35', '02:22', '06:48:15', '+65 26\\'01\"', '11.4', '2.12', '1.32', '132.62', '140.3', '23.93'], ['88', '88 Thisbe (A866 LA)', '15:26', '17:30', '19:33', '04:07', '06:54:10', '+23 17\\'10\"', '12.1', '3.08', '2.18', '150.56', '169.5', '10.65'], ['888', '888 Parysatis (A918 CE)', '16:42', '17:36', '18:31', '01:48', '07:00:44', '+09 57\\'20\"', '12.6', '2.22', '1.34', '145.51', '161.2', '6.28'], ['1626', '1626 Sadeya (1927 AA)', '15:08', '17:38', '20:09', '05:00', '07:03:02', '+36 08\\'10\"', '12.8', '1.73', '0.817', '147.35', '167.8', '17.47'], ['14', '14 Irene (A851 KA)', '15:53', '18:00', '20:06', '04:13', '07:24:15', '+24 20\\'26\"', '10.4', '2.51', '1.65', '143.79', '176.1', '17.37'], ['122', '122 Gerda (A872 OA)', '16:16', '18:07', '19:57', '03:41', '07:31:16', '+19 34\\'51\"', '12.7', '3.17', '2.34', '141.49', '172.9', '17.03'], ['36', '36 Atalante (A855 TA)', '15:49', '18:16', '20:42', '04:52', '07:40:21', '+53 40\\'40\"', '11.6', '2.04', '1.22', '134.71', '152.8', '28.34'], ['77', '77 Frigga (A862 VA)', '16:13', '18:22', '20:30', '04:16', '07:46:16', '+24 58\\'26\"', '12.3', '2.36', '1.53', '138.87', '177.6', '22.26'], ['675', '675 Ludmilla (A908 QH)', '17:07', '18:40', '20:13', '03:05', '08:04:47', '+15 28\\'43\"', '11.9', '2.32', '1.54', '132.74', '167.4', '22.76'], ['65', '65 Cybele (A861 EB)', '17:03', '18:43', '20:23', '03:19', '08:07:39', '+16 56\\'23\"', '12.9', '3.77', '3.03', '132.47', '168.2', '23.96'], ['79', '79 Eurynome (A863 RA)', '17:24', '18:43', '20:01', '02:36', '08:07:39', '+12 58\\'31\"', '10.9', '2.11', '1.32', '131.32', '164.8', '22.39'], ['556', '556 Phyllis (A905 AD)', '16:50', '18:46', '20:41', '03:50', '08:10:34', '+20 49\\'10\"', '13.0', '2.21', '1.42', '132.70', '170.7', '26.04'], ['240', '240 Vanadis (A884 QB)', '17:02', '18:51', '20:40', '03:37', '08:15:55', '+19 01\\'52\"', '12.7', '2.22', '1.45', '131.08', '168.5', '26.57'], ['364', '364 Isara (A893 FE)', '17:08', '18:54', '20:41', '03:33', '08:19:12', '+18 33\\'22\"', '12.8', '1.95', '1.16', '130.21', '167.7', '27.12'], ['472', '472 Roma (A901 NA)', '17:54', '18:54', '19:54', '01:59', '08:18:47', '+10 29\\'35\"', '12.8', '2.35', '1.61', '127.93', '161.3', '23.84'], ['55', '55 Pandora (A858 RB)', '17:34', '19:45', '21:56*', '03:21', '09:10:04', '+25 48\\'28\"', '12.6', '2.76', '2.13', '120.31', '159.4', '40.56'], ['28', '28 Bellona (A854 EA)', '18:56', '19:48', '20:40', '01:43', '09:12:55', '+09 41\\'15\"', '11.4', '2.37', '1.78', '115.14', '152.0', '35.52'], ['29', '29 Amphitrite (A854 EB)', '19:09', '20:49', '22:29*', '01:46', '10:14:27', '+16 56\\'15\"', '10.5', '2.47', '2.05', '103.47', '142.7', '52.14'], ['21', '21 Lutetia (A852 VA)', '19:44', '21:01*', '22:18*', '01:12', '10:25:48', '+12 46\\'40\"', '12.8', '2.81', '2.47', '99.45', '138.5', '52.85'], ['346', '346 Hermentaria (A892 WC)', '20:38', '21:53*', '23:08*', '00:18', '11:18:20', '+12 30\\'38\"', '12.9', '2.93', '2.80', '87.49', '126.7', '63.58'], ['674', '674 Rachele (A908 UK)', '20:26', '22:11*', '23:56*', '00:30', '11:36:12', '+18 06\\'27\"', '12.4', '2.47', '2.34', '85.86', '124.8', '70.27']], 'total_objects': '43', 'shown_objects': '43'}\n",
            "obs_datetime : 2024-12-06 00:00:00\n",
            "obs_date : 20241206\n",
            "url : https://ssd-api.jpl.nasa.gov/sbwobs.api?sb-kind=a&mpc-code=P64&obs-time=2024-12-06 00:00:00&elev-min=60&time-min=15&vmag-max=13&vmag-min=6&optical=true&fmt-ra-dec=true&mag-required=true&output-sort=trans&maxoutput=50\n",
            "{'signature': {'source': 'NASA/JPL Small-Body Observability API', 'version': '1.0'}, 'obs_constraints': {'fmt-ra-dec': 'true', 'obs-time': '2024-12-06 00:00:00', 'elev-min': '60', 'vmag-min': '6', 'maxoutput': '50', 'optical': 'true', 'output-sort': 'trans', 'vmag-max': '13', 'time-min': '15', 'mpc-code': 'P64', 'mag-required': 'true'}, 'sb_constraints': {'sb-kind': 'a'}, 'location': 'GSHS Observatory, Suwon', 'obs_night': {'sun_set_az': '242.1', 'sun_set': '2024-12-05 08:12', 'end_civil': '2024-12-05 08:41', 'end_nautical': '2024-12-05 09:14', 'end_astronomical': '2024-12-05 09:45', 'begin_astronomical': '2024-12-05 20:57', 'begin_nautical': '2024-12-05 21:28', 'begin_civil': '2024-12-05 22:01', 'sun_rise_az': '118.0', 'sun_rise': '2024-12-05 22:30', 'transit_phase': '0.16', 'transit': '2024-12-05 06:53 ', 'moon_set_phase': '0.18', 'moon_set': '2024-12-05 11:43 ', 'moon_rise_phase': '0.24', 'moon_rise': '2024-12-06 02:41 ', 'begin_dark': '2024-12-05 09:45', 'mid_dark': '2024-12-05 15:21', 'end_dark': '2024-12-05 20:57', 'dark_time': '11:11'}, 'fields': ['Designation', 'Full name', 'Rise time', 'Transit time', 'Set time', 'Max. time observable', 'R.A.', 'Dec.', 'Vmag', 'Helio. range (au)', 'Topo.range (au)', 'Object-Observer-Sun (deg)', 'Object-Observer-Moon (deg)', 'Galactic latitude (deg)'], 'sort_by': 'transit time (asc.)', 'data': [['4954', '4954 Eric (1990 SQ)', '06:14*', '08:33*', '10:53', '01:07', '22:00:33', '+56 22\\'26\"', '12.7', '1.11', '0.354', '101.98', '81.76', '0.98'], ['109', '109 Felicitas (A869 TA)', '10:00', '11:03', '12:05', '02:05', '00:30:03', '+10 50\\'19\"', '12.3', '1.92', '1.26', '116.98', '67.00', '-51.77'], ['10', '10 Hygiea (A849 GA)', '10:31', '11:50', '13:09', '02:37', '01:17:48', '+13 01\\'25\"', '11.3', '3.46', '2.76', '128.72', '78.24', '-49.52'], ['270', '270 Anahita (A887 TA)', '11:15', '12:45', '14:15', '02:59', '02:12:32', '+14 55\\'46\"', '11.8', '2.08', '1.22', '141.94', '91.03', '-43.81'], ['33', '33 Polyhymnia (A854 UB)', '11:26', '13:09', '14:52', '03:26', '02:36:38', '+17 39\\'21\"', '11.6', '2.28', '1.38', '148.25', '97.42', '-38.72'], ['161', '161 Athor (A876 HA)', '11:04', '13:13', '15:22', '04:17', '02:40:53', '+25 04\\'52\"', '12.9', '2.41', '1.51', '150.29', '101.1', '-31.76'], ['189', '189 Phthia (A878 RA)', '12:10', '13:17', '14:25', '02:15', '02:44:53', '+11 26\\'25\"', '12.9', '2.38', '1.49', '148.07', '96.91', '-42.90'], ['11', '11 Parthenope (A850 JA)', '12:40', '13:39', '14:37', '01:56', '03:06:37', '+10 21\\'13\"', '10.3', '2.45', '1.54', '152.35', '101.4', '-40.51'], ['67', '67 Asia (A861 HA)', '13:01', '14:22', '15:44', '02:43', '03:50:31', '+13 29\\'31\"', '11.9', '2.53', '1.58', '163.15', '112.6', '-30.83'], ['103', '103 Hera (A868 RA)', '13:12', '14:23', '15:35', '02:23', '03:51:20', '+11 58\\'49\"', '11.7', '2.71', '1.76', '162.41', '112.2', '-31.72'], ['54', '54 Alexandra (A858 RA)', '12:06', '14:37', '17:08', '05:02', '04:04:56', '+36 56\\'24\"', '12.4', '2.98', '2.03', '162.50', '121.4', '-11.72'], ['13', '13 Egeria (A850 VA)', '12:29', '14:58', '17:27', '04:58', '04:26:22', '+35 19\\'36\"', '10.1', '2.43', '1.46', '166.11', '125.5', '-9.83'], ['1284', '1284 Latvia (1933 OP)', '12:46', '15:18', '17:49', '05:02', '04:45:45', '+37 14\\'05\"', '12.9', '2.20', '1.23', '165.21', '129.5', '-5.65'], ['47', '47 Aglaja (A857 RA)', '13:19', '15:39', '17:59', '04:40', '05:07:16', '+29 59\\'01\"', '12.4', '3.02', '2.04', '171.62', '133.7', '-6.65'], ['75', '75 Eurydike (A862 SA)', '13:24', '15:46', '18:08', '04:44', '05:14:12', '+30 59\\'35\"', '12.6', '2.54', '1.57', '169.99', '135.2', '-4.85'], ['350', '350 Ornamenta (A892 XC)', '14:28', '15:52', '17:17', '02:48', '05:20:38', '+13 57\\'34\"', '12.0', '2.61', '1.64', '168.89', '133.4', '-13.21'], ['69', '69 Hesperia (A861 HC)', '15:07', '16:01', '16:54', '01:47', '05:28:54', '+09 52\\'29\"', '10.7', '2.54', '1.58', '164.41', '133.8', '-13.65'], ['15', '15 Eunomia (A851 OA)', '13:39', '16:07', '18:35', '04:56', '05:35:26', '+34 41\\'07\"', '8.21', '2.26', '1.30', '164.34', '139.6', '0.92'], ['416', '416 Vaticana (A896 JA)', '14:00', '16:23', '18:46', '04:45', '05:51:45', '+31 19\\'20\"', '12.8', '3.40', '2.44', '163.77', '143.2', '2.06'], ['116', '116 Sirona (A871 RA)', '14:27', '16:37', '18:47', '04:19', '06:05:26', '+25 26\\'01\"', '11.5', '2.61', '1.65', '162.66', '146.2', '1.73'], ['26', '26 Proserpina (A853 JA)', '14:36', '16:49', '19:03', '04:26', '06:17:43', '+26 52\\'31\"', '11.8', '2.86', '1.92', '159.75', '149.0', '4.84'], ['120', '120 Lachesis (A872 GB)', '14:48', '17:13', '19:37', '04:48', '06:41:25', '+32 13\\'00\"', '12.7', '3.22', '2.31', '153.63', '153.6', '11.82'], ['247', '247 Eukrate (A885 EB)', '16:10', '17:18', '18:27', '02:17', '06:46:55', '+65 34\\'29\"', '11.4', '2.12', '1.32', '133.00', '134.4', '23.83'], ['88', '88 Thisbe (A866 LA)', '15:21', '17:25', '19:28', '04:07', '06:53:25', '+23 16\\'53\"', '12.0', '3.08', '2.18', '151.75', '156.9', '10.49'], ['888', '888 Parysatis (A918 CE)', '16:36', '17:32', '18:27', '01:50', '07:00:10', '+10 01\\'24\"', '12.6', '2.22', '1.33', '146.60', '153.9', '6.18'], ['1626', '1626 Sadeya (1927 AA)', '15:04', '17:33', '20:03', '04:59', '07:01:50', '+35 48\\'08\"', '12.8', '1.73', '0.812', '148.59', '156.4', '17.12'], ['14', '14 Irene (A851 KA)', '15:48', '17:55', '20:02', '04:13', '07:23:46', '+24 25\\'40\"', '10.4', '2.51', '1.64', '144.92', '163.9', '17.30'], ['122', '122 Gerda (A872 OA)', '16:11', '18:02', '19:53', '03:41', '07:30:49', '+19 35\\'25\"', '12.7', '3.17', '2.33', '142.60', '164.8', '16.93'], ['36', '36 Atalante (A855 TA)', '15:45', '18:11', '20:37', '04:52', '07:39:44', '+53 48\\'42\"', '11.6', '2.04', '1.22', '135.41', '147.8', '28.27'], ['77', '77 Frigga (A862 VA)', '16:09', '18:17', '20:26', '04:17', '07:45:55', '+25 00\\'20\"', '12.3', '2.36', '1.52', '139.97', '168.8', '22.20'], ['675', '675 Ludmilla (A908 QH)', '17:03', '18:36', '20:08', '03:04', '08:04:31', '+15 23\\'29\"', '11.8', '2.32', '1.53', '133.78', '169.4', '22.67'], ['65', '65 Cybele (A861 EB)', '16:59', '18:39', '20:19', '03:19', '08:07:21', '+16 56\\'59\"', '12.9', '3.77', '3.02', '133.56', '171.0', '23.90'], ['79', '79 Eurynome (A863 RA)', '17:21', '18:39', '19:57', '02:36', '08:07:29', '+12 55\\'42\"', '10.9', '2.11', '1.32', '132.35', '167.8', '22.34'], ['556', '556 Phyllis (A905 AD)', '16:46', '18:42', '20:37', '03:50', '08:10:26', '+20 47\\'06\"', '13.0', '2.21', '1.41', '133.74', '173.9', '26.00'], ['240', '240 Vanadis (A884 QB)', '16:58', '18:47', '20:36', '03:37', '08:15:50', '+19 02\\'58\"', '12.7', '2.23', '1.44', '132.12', '173.9', '26.56'], ['364', '364 Isara (A893 FE)', '17:03', '18:50', '20:38', '03:34', '08:19:16', '+18 36\\'53\"', '12.8', '1.95', '1.16', '131.23', '174.1', '27.15'], ['472', '472 Roma (A901 NA)', '17:50', '18:50', '19:50', '02:00', '08:18:43', '+10 32\\'59\"', '12.8', '2.35', '1.60', '128.96', '166.7', '23.85'], ['55', '55 Pandora (A858 RB)', '17:30', '19:41', '21:52*', '03:26', '09:10:08', '+25 50\\'44\"', '12.6', '2.76', '2.12', '121.30', '171.5', '40.58'], ['28', '28 Bellona (A854 EA)', '18:53', '19:44', '20:36', '01:43', '09:13:21', '+09 40\\'16\"', '11.4', '2.37', '1.77', '116.05', '163.5', '35.61'], ['29', '29 Amphitrite (A854 EB)', '19:06', '20:46', '22:26*', '01:50', '10:15:05', '+16 53\\'39\"', '10.5', '2.47', '2.04', '104.32', '155.5', '52.26'], ['21', '21 Lutetia (A852 VA)', '19:40', '20:57*', '22:14*', '01:16', '10:26:20', '+12 45\\'08\"', '12.8', '2.81', '2.46', '100.34', '151.4', '52.95'], ['24', '24 Themis (A853 GA)', '20:40', '21:18*', '21:56*', '00:16', '10:47:07', '+08 34\\'32\"', '12.5', '2.78', '2.53', '94.06', '145.0', '55.07'], ['346', '346 Hermentaria (A892 WC)', '20:35', '21:50*', '23:05*', '00:22', '11:19:08', '+12 29\\'08\"', '12.9', '2.93', '2.79', '88.30', '139.5', '63.73'], ['674', '674 Rachele (A908 UK)', '20:23', '22:08*', '23:53*', '00:33', '11:37:24', '+18 04\\'16\"', '12.4', '2.47', '2.33', '86.58', '137.0', '70.50']], 'total_objects': '44', 'shown_objects': '44'}\n",
            "obs_datetime : 2024-12-07 00:00:00\n",
            "obs_date : 20241207\n",
            "url : https://ssd-api.jpl.nasa.gov/sbwobs.api?sb-kind=a&mpc-code=P64&obs-time=2024-12-07 00:00:00&elev-min=60&time-min=15&vmag-max=13&vmag-min=6&optical=true&fmt-ra-dec=true&mag-required=true&output-sort=trans&maxoutput=50\n",
            "{'signature': {'version': '1.0', 'source': 'NASA/JPL Small-Body Observability API'}, 'obs_constraints': {'elev-min': '60', 'vmag-max': '13', 'fmt-ra-dec': 'true', 'mag-required': 'true', 'mpc-code': 'P64', 'optical': 'true', 'vmag-min': '6', 'maxoutput': '50', 'time-min': '15', 'obs-time': '2024-12-07 00:00:00', 'output-sort': 'trans'}, 'sb_constraints': {'sb-kind': 'a'}, 'location': 'GSHS Observatory, Suwon', 'obs_night': {'sun_set_az': '241.9', 'sun_set': '2024-12-06 08:12', 'end_civil': '2024-12-06 08:41', 'end_nautical': '2024-12-06 09:14', 'end_astronomical': '2024-12-06 09:45', 'begin_astronomical': '2024-12-06 20:58', 'begin_nautical': '2024-12-06 21:29', 'begin_civil': '2024-12-06 22:02', 'sun_rise_az': '118.2', 'sun_rise': '2024-12-06 22:31', 'transit_phase': '0.25', 'transit': '2024-12-06 07:47 ', 'moon_set_phase': '0.27', 'moon_set': '2024-12-06 12:53 ', 'moon_rise_phase': '0.34', 'moon_rise': '2024-12-07 03:13 ', 'begin_dark': '2024-12-06 09:45', 'mid_dark': '2024-12-06 15:21', 'end_dark': '2024-12-06 20:58', 'dark_time': '11:12'}, 'fields': ['Designation', 'Full name', 'Rise time', 'Transit time', 'Set time', 'Max. time observable', 'R.A.', 'Dec.', 'Vmag', 'Helio. range (au)', 'Topo.range (au)', 'Object-Observer-Sun (deg)', 'Object-Observer-Moon (deg)', 'Galactic latitude (deg)'], 'sort_by': 'transit time (asc.)', 'data': [['4954', '4954 Eric (1990 SQ)', '06:15*', '08:32*', '10:49', '01:03', '22:03:09', '+56 58\\'32\"', '12.7', '1.12', '0.356', '102.09', '76.20', '1.24'], ['109', '109 Felicitas (A869 TA)', '09:56', '10:59', '12:03', '02:06', '00:30:42', '+10 55\\'52\"', '12.3', '1.92', '1.26', '116.15', '53.98', '-51.71'], ['10', '10 Hygiea (A849 GA)', '10:28', '11:46', '13:05', '02:36', '01:17:40', '+12 59\\'07\"', '11.3', '3.46', '2.77', '127.67', '64.91', '-49.57'], ['270', '270 Anahita (A887 TA)', '11:11', '12:41', '14:10', '02:59', '02:12:19', '+14 52\\'34\"', '11.9', '2.08', '1.22', '140.86', '77.66', '-43.89'], ['33', '33 Polyhymnia (A854 UB)', '11:22', '13:05', '14:47', '03:25', '02:36:17', '+17 37\\'36\"', '11.6', '2.28', '1.39', '147.15', '84.02', '-38.79'], ['161', '161 Athor (A876 HA)', '11:00', '13:08', '15:17', '04:17', '02:40:11', '+25 02\\'24\"', '12.9', '2.41', '1.51', '149.16', '87.65', '-31.87'], ['189', '189 Phthia (A878 RA)', '12:05', '13:13', '14:20', '02:14', '02:44:21', '+11 23\\'08\"', '13.0', '2.38', '1.50', '146.92', '83.57', '-43.02'], ['11', '11 Parthenope (A850 JA)', '12:36', '13:34', '14:32', '01:56', '03:05:55', '+10 20\\'50\"', '10.3', '2.45', '1.54', '151.21', '88.18', '-40.62'], ['67', '67 Asia (A861 HA)', '12:56', '14:18', '15:39', '02:42', '03:49:37', '+13 25\\'58\"', '12.0', '2.54', '1.58', '161.99', '99.30', '-31.03'], ['103', '103 Hera (A868 RA)', '13:07', '14:19', '15:30', '02:22', '03:50:29', '+11 57\\'52\"', '11.7', '2.72', '1.76', '161.32', '99.06', '-31.88'], ['54', '54 Alexandra (A858 RA)', '12:01', '14:32', '17:03', '05:02', '04:03:53', '+36 51\\'08\"', '12.4', '2.98', '2.03', '161.98', '108.2', '-11.93'], ['13', '13 Egeria (A850 VA)', '12:24', '14:53', '17:22', '04:58', '04:25:04', '+35 23\\'15\"', '10.1', '2.42', '1.46', '165.65', '112.2', '-9.99'], ['1284', '1284 Latvia (1933 OP)', '12:41', '15:13', '17:44', '05:02', '04:44:38', '+37 07\\'42\"', '12.9', '2.20', '1.23', '165.30', '116.3', '-5.89'], ['47', '47 Aglaja (A857 RA)', '13:14', '15:34', '17:54', '04:40', '05:06:15', '+29 58\\'16\"', '12.4', '3.02', '2.04', '172.20', '120.1', '-6.83'], ['75', '75 Eurydike (A862 SA)', '13:19', '15:41', '18:03', '04:44', '05:13:00', '+30 58\\'43\"', '12.6', '2.55', '1.57', '170.70', '121.7', '-5.06'], ['350', '350 Ornamenta (A892 XC)', '14:22', '15:47', '17:13', '02:50', '05:19:35', '+14 06\\'01\"', '12.0', '2.61', '1.64', '169.69', '120.5', '-13.35'], ['69', '69 Hesperia (A861 HC)', '15:03', '15:56', '16:49', '01:46', '05:28:03', '+09 49\\'45\"', '10.7', '2.54', '1.57', '164.97', '121.4', '-13.85'], ['342', '342 Endymion (A892 UA)', '14:17', '15:59', '17:41', '03:23', '05:31:39', '+17 24\\'55\"', '13.0', '2.25', '1.27', '169.95', '124.1', '-9.12'], ['15', '15 Eunomia (A851 OA)', '13:34', '16:02', '18:30', '04:56', '05:34:17', '+34 35\\'45\"', '8.19', '2.27', '1.30', '165.24', '126.2', '0.67'], ['416', '416 Vaticana (A896 JA)', '13:55', '16:18', '18:41', '04:45', '05:50:46', '+31 22\\'09\"', '12.8', '3.40', '2.44', '164.80', '129.8', '1.90'], ['116', '116 Sirona (A871 RA)', '14:22', '16:32', '18:42', '04:19', '06:04:32', '+25 27\\'44\"', '11.5', '2.61', '1.65', '163.87', '132.7', '1.57'], ['26', '26 Proserpina (A853 JA)', '14:31', '16:44', '18:58', '04:26', '06:16:49', '+26 54\\'13\"', '11.7', '2.86', '1.91', '160.94', '135.5', '4.68'], ['120', '120 Lachesis (A872 GB)', '14:44', '17:08', '19:33', '04:49', '06:40:38', '+32 14\\'31\"', '12.7', '3.22', '2.30', '154.73', '140.2', '11.69'], ['247', '247 Eukrate (A885 EB)', '16:07', '17:13', '18:19', '02:12', '06:45:30', '+65 42\\'30\"', '11.4', '2.12', '1.32', '133.37', '126.2', '23.71'], ['88', '88 Thisbe (A866 LA)', '15:17', '17:20', '19:24', '04:07', '06:52:39', '+23 16\\'36\"', '12.0', '3.08', '2.17', '152.94', '143.6', '10.33'], ['888', '888 Parysatis (A918 CE)', '16:31', '17:27', '18:23', '01:51', '06:59:35', '+10 05\\'40\"', '12.6', '2.23', '1.33', '147.69', '143.1', '6.09'], ['1626', '1626 Sadeya (1927 AA)', '14:59', '17:28', '19:57', '04:58', '07:00:36', '+35 27\\'42\"', '12.7', '1.73', '0.808', '149.85', '143.5', '16.76'], ['14', '14 Irene (A851 KA)', '15:44', '17:51', '19:58', '04:14', '07:23:16', '+24 30\\'59\"', '10.4', '2.51', '1.63', '146.05', '150.5', '17.23'], ['122', '122 Gerda (A872 OA)', '16:07', '17:58', '19:49', '03:41', '07:30:21', '+19 36\\'03\"', '12.7', '3.17', '2.32', '143.73', '152.2', '16.84'], ['36', '36 Atalante (A855 TA)', '15:41', '18:06', '20:32', '04:51', '07:39:03', '+53 56\\'30\"', '11.6', '2.04', '1.22', '136.10', '139.2', '28.18'], ['77', '77 Frigga (A862 VA)', '16:04', '18:13', '20:22', '04:17', '07:45:31', '+25 02\\'17\"', '12.3', '2.36', '1.52', '141.07', '155.5', '22.12'], ['675', '675 Ludmilla (A908 QH)', '17:00', '18:32', '20:03', '03:03', '08:04:12', '+15 18\\'19\"', '11.8', '2.33', '1.52', '134.84', '159.7', '22.57'], ['65', '65 Cybele (A861 EB)', '16:54', '18:34', '20:14', '03:19', '08:07:02', '+16 57\\'39\"', '12.9', '3.77', '3.01', '134.64', '160.6', '23.84'], ['79', '79 Eurynome (A863 RA)', '17:17', '18:35', '19:52', '02:35', '08:07:17', '+12 53\\'02\"', '10.9', '2.11', '1.31', '133.38', '159.7', '22.27'], ['556', '556 Phyllis (A905 AD)', '16:42', '18:38', '20:33', '03:50', '08:10:16', '+20 45\\'07\"', '12.9', '2.21', '1.40', '134.79', '161.6', '25.95'], ['240', '240 Vanadis (A884 QB)', '16:54', '18:43', '20:32', '03:37', '08:15:43', '+19 04\\'12\"', '12.7', '2.23', '1.44', '133.17', '162.9', '26.54'], ['472', '472 Roma (A901 NA)', '17:45', '18:46', '19:47', '02:01', '08:18:38', '+10 36\\'36\"', '12.7', '2.35', '1.59', '130.00', '161.3', '23.85'], ['364', '364 Isara (A893 FE)', '16:59', '18:47', '20:34', '03:34', '08:19:16', '+18 40\\'36\"', '12.8', '1.95', '1.15', '132.26', '163.7', '27.18'], ['55', '55 Pandora (A858 RB)', '17:26', '19:37', '21:48*', '03:31', '09:10:10', '+25 53\\'07\"', '12.6', '2.76', '2.11', '122.30', '171.9', '40.60'], ['28', '28 Bellona (A854 EA)', '18:49', '19:41', '20:32', '01:42', '09:13:46', '+09 39\\'27\"', '11.4', '2.37', '1.75', '116.95', '170.2', '35.69'], ['29', '29 Amphitrite (A854 EB)', '19:03', '20:43', '22:22*', '01:54', '10:15:41', '+16 51\\'11\"', '10.5', '2.47', '2.03', '105.19', '168.5', '52.38'], ['21', '21 Lutetia (A852 VA)', '19:37', '20:54', '22:11*', '01:20', '10:26:50', '+12 43\\'43\"', '12.8', '2.81', '2.45', '101.23', '164.6', '53.04'], ['24', '24 Themis (A853 GA)', '20:38', '21:15*', '21:52*', '00:19', '10:47:52', '+08 30\\'14\"', '12.4', '2.78', '2.52', '94.87', '158.1', '55.18'], ['346', '346 Hermentaria (A892 WC)', '20:32', '21:47*', '23:02*', '00:25', '11:19:56', '+12 27\\'46\"', '12.9', '2.93', '2.78', '89.12', '152.4', '63.87'], ['674', '674 Rachele (A908 UK)', '20:21', '22:05*', '23:50*', '00:36', '11:38:35', '+18 02\\'12\"', '12.4', '2.47', '2.31', '87.29', '149.1', '70.73']], 'total_objects': '45', 'shown_objects': '45'}\n",
            "obs_datetime : 2024-12-08 00:00:00\n",
            "obs_date : 20241208\n",
            "url : https://ssd-api.jpl.nasa.gov/sbwobs.api?sb-kind=a&mpc-code=P64&obs-time=2024-12-08 00:00:00&elev-min=60&time-min=15&vmag-max=13&vmag-min=6&optical=true&fmt-ra-dec=true&mag-required=true&output-sort=trans&maxoutput=50\n",
            "{'signature': {'source': 'NASA/JPL Small-Body Observability API', 'version': '1.0'}, 'obs_constraints': {'mag-required': 'true', 'vmag-max': '13', 'optical': 'true', 'output-sort': 'trans', 'time-min': '15', 'mpc-code': 'P64', 'maxoutput': '50', 'elev-min': '60', 'obs-time': '2024-12-08 00:00:00', 'vmag-min': '6', 'fmt-ra-dec': 'true'}, 'sb_constraints': {'sb-kind': 'a'}, 'location': 'GSHS Observatory, Suwon', 'obs_night': {'sun_set_az': '241.8', 'sun_set': '2024-12-07 08:12', 'end_civil': '2024-12-07 08:41', 'end_nautical': '2024-12-07 09:14', 'end_astronomical': '2024-12-07 09:45', 'begin_astronomical': '2024-12-07 20:58', 'begin_nautical': '2024-12-07 21:30', 'begin_civil': '2024-12-07 22:02', 'sun_rise_az': '118.3', 'sun_rise': '2024-12-07 22:31', 'transit_phase': '0.36', 'transit': '2024-12-07 08:37 ', 'moon_set_phase': '0.38', 'moon_set': '2024-12-07 14:02 ', 'moon_rise_phase': None, 'moon_rise': 'next/previous night', 'begin_dark': '2024-12-07 09:45', 'mid_dark': '2024-12-07 15:22', 'end_dark': '2024-12-07 20:58', 'dark_time': '11:13'}, 'fields': ['Designation', 'Full name', 'Rise time', 'Transit time', 'Set time', 'Max. time observable', 'R.A.', 'Dec.', 'Vmag', 'Helio. range (au)', 'Topo.range (au)', 'Object-Observer-Sun (deg)', 'Object-Observer-Moon (deg)', 'Galactic latitude (deg)'], 'sort_by': 'transit time (asc.)', 'data': [['4954', '4954 Eric (1990 SQ)', '06:16*', '08:31*', '10:46', '01:00', '22:05:54', '+57 34\\'18\"', '12.7', '1.12', '0.359', '102.21', '71.03', '1.50'], ['109', '109 Felicitas (A869 TA)', '09:52', '10:56', '12:00', '02:08', '00:31:23', '+11 01\\'34\"', '12.4', '1.91', '1.27', '115.34', '40.77', '-51.63'], ['10', '10 Hygiea (A849 GA)', '10:24', '11:42', '13:00', '02:36', '01:17:34', '+12 56\\'55\"', '11.3', '3.46', '2.78', '126.62', '51.33', '-49.61'], ['270', '270 Anahita (A887 TA)', '11:07', '12:36', '14:06', '02:58', '02:12:07', '+14 49\\'34\"', '11.9', '2.08', '1.23', '139.78', '64.04', '-43.95'], ['33', '33 Polyhymnia (A854 UB)', '11:17', '13:00', '14:43', '03:25', '02:35:57', '+17 35\\'57\"', '11.7', '2.28', '1.40', '146.05', '70.39', '-38.86'], ['161', '161 Athor (A876 HA)', '10:55', '13:04', '15:12', '04:17', '02:39:30', '+24 59\\'57\"', '12.9', '2.41', '1.52', '148.04', '74.01', '-31.98'], ['189', '189 Phthia (A878 RA)', '12:01', '13:08', '14:15', '02:13', '02:43:51', '+11 20\\'01\"', '13.0', '2.38', '1.50', '145.78', '70.00', '-43.13'], ['11', '11 Parthenope (A850 JA)', '12:31', '13:29', '14:28', '01:56', '03:05:14', '+10 20\\'36\"', '10.3', '2.46', '1.55', '150.08', '74.69', '-40.73'], ['67', '67 Asia (A861 HA)', '12:52', '14:13', '15:34', '02:41', '03:48:44', '+13 22\\'33\"', '12.0', '2.54', '1.59', '160.83', '85.75', '-31.23'], ['103', '103 Hera (A868 RA)', '13:02', '14:14', '15:25', '02:22', '03:49:40', '+11 57\\'02\"', '11.7', '2.72', '1.77', '160.23', '85.61', '-32.04'], ['54', '54 Alexandra (A858 RA)', '11:56', '14:27', '16:58', '05:01', '04:02:51', '+36 45\\'45\"', '12.4', '2.98', '2.03', '161.40', '94.66', '-12.14'], ['13', '13 Egeria (A850 VA)', '12:18', '14:48', '17:17', '04:58', '04:23:45', '+35 26\\'43\"', '10.1', '2.42', '1.46', '165.10', '98.52', '-10.14'], ['1284', '1284 Latvia (1933 OP)', '12:36', '15:07', '17:39', '05:02', '04:43:32', '+37 01\\'04\"', '12.9', '2.20', '1.23', '165.29', '102.7', '-6.13'], ['47', '47 Aglaja (A857 RA)', '13:09', '15:29', '17:49', '04:40', '05:05:14', '+29 57\\'26\"', '12.4', '3.02', '2.04', '172.63', '106.4', '-7.02'], ['75', '75 Eurydike (A862 SA)', '13:13', '15:36', '17:58', '04:44', '05:11:49', '+30 57\\'43\"', '12.6', '2.55', '1.57', '171.29', '107.9', '-5.28'], ['350', '350 Ornamenta (A892 XC)', '14:16', '15:42', '17:08', '02:52', '05:18:31', '+14 14\\'33\"', '12.0', '2.61', '1.64', '170.39', '107.2', '-13.49'], ['69', '69 Hesperia (A861 HC)', '14:58', '15:51', '16:44', '01:45', '05:27:12', '+09 47\\'10\"', '10.7', '2.54', '1.57', '165.46', '108.5', '-14.05'], ['342', '342 Endymion (A892 UA)', '14:13', '15:55', '17:36', '03:23', '05:30:40', '+17 20\\'00\"', '12.9', '2.25', '1.27', '170.89', '110.6', '-9.36'], ['15', '15 Eunomia (A851 OA)', '13:29', '15:57', '18:25', '04:56', '05:33:08', '+34 30\\'11\"', '8.18', '2.27', '1.30', '166.08', '112.6', '0.42'], ['178', '178 Belisana (A877 VB)', '14:04', '16:13', '18:21', '04:17', '05:49:01', '+25 01\\'15\"', '13.0', '2.56', '1.59', '168.41', '115.6', '-1.69'], ['416', '416 Vaticana (A896 JA)', '13:50', '16:14', '18:37', '04:46', '05:49:46', '+31 24\\'53\"', '12.7', '3.40', '2.44', '165.81', '116.0', '1.74'], ['116', '116 Sirona (A871 RA)', '14:18', '16:27', '18:37', '04:19', '06:03:37', '+25 29\\'26\"', '11.4', '2.61', '1.64', '165.08', '119.0', '1.40'], ['26', '26 Proserpina (A853 JA)', '14:26', '16:40', '18:53', '04:27', '06:15:53', '+26 55\\'52\"', '11.7', '2.86', '1.91', '162.14', '121.7', '4.51'], ['120', '120 Lachesis (A872 GB)', '14:39', '17:03', '19:28', '04:49', '06:39:51', '+32 15\\'58\"', '12.7', '3.22', '2.29', '155.82', '126.6', '11.55'], ['247', '247 Eukrate (A885 EB)', '16:04', '17:08', '18:11', '02:07', '06:44:01', '+65 50\\'04\"', '11.4', '2.12', '1.32', '133.72', '116.5', '23.59'], ['88', '88 Thisbe (A866 LA)', '15:12', '17:15', '19:19', '04:07', '06:51:52', '+23 16\\'19\"', '12.0', '3.08', '2.17', '154.13', '129.9', '10.16'], ['888', '888 Parysatis (A918 CE)', '16:26', '17:23', '18:19', '01:53', '06:58:59', '+10 10\\'09\"', '12.5', '2.23', '1.32', '148.78', '130.8', '5.98'], ['1626', '1626 Sadeya (1927 AA)', '14:54', '17:23', '19:52', '04:57', '06:59:19', '+35 06\\'50\"', '12.7', '1.73', '0.804', '151.11', '130.1', '16.39'], ['14', '14 Irene (A851 KA)', '15:39', '17:46', '19:54', '04:14', '07:22:44', '+24 36\\'22\"', '10.3', '2.51', '1.62', '147.19', '136.9', '17.15'], ['122', '122 Gerda (A872 OA)', '16:02', '17:53', '19:44', '03:42', '07:29:52', '+19 36\\'43\"', '12.7', '3.17', '2.31', '144.85', '138.9', '16.74'], ['36', '36 Atalante (A855 TA)', '15:36', '18:02', '20:27', '04:51', '07:38:18', '+54 04\\'04\"', '11.5', '2.05', '1.21', '136.79', '128.5', '28.09'], ['77', '77 Frigga (A862 VA)', '16:00', '18:09', '20:17', '04:17', '07:45:06', '+25 04\\'17\"', '12.2', '2.37', '1.51', '142.18', '141.8', '22.05'], ['675', '675 Ludmilla (A908 QH)', '16:56', '18:27', '19:59', '03:02', '08:03:52', '+15 13\\'15\"', '11.8', '2.33', '1.52', '135.90', '147.1', '22.46'], ['65', '65 Cybele (A861 EB)', '16:50', '18:30', '20:10', '03:19', '08:06:43', '+16 58\\'23\"', '12.9', '3.77', '3.00', '135.73', '147.7', '23.77'], ['79', '79 Eurynome (A863 RA)', '17:13', '18:30', '19:48', '02:35', '08:07:03', '+12 50\\'30\"', '10.8', '2.11', '1.30', '134.43', '147.7', '22.20'], ['556', '556 Phyllis (A905 AD)', '16:38', '18:33', '20:29', '03:50', '08:10:03', '+20 43\\'12\"', '12.9', '2.21', '1.39', '135.84', '148.2', '25.89'], ['240', '240 Vanadis (A884 QB)', '16:50', '18:39', '20:28', '03:37', '08:15:34', '+19 05\\'34\"', '12.6', '2.23', '1.43', '134.22', '149.7', '26.51'], ['472', '472 Roma (A901 NA)', '17:41', '18:42', '19:43', '02:02', '08:18:30', '+10 40\\'25\"', '12.7', '2.35', '1.59', '131.05', '150.2', '23.85'], ['364', '364 Isara (A893 FE)', '16:55', '18:43', '20:30', '03:35', '08:19:15', '+18 44\\'30\"', '12.7', '1.96', '1.14', '133.29', '150.6', '27.20'], ['55', '55 Pandora (A858 RB)', '17:22', '19:33', '21:44*', '03:35', '09:10:11', '+25 55\\'36\"', '12.6', '2.76', '2.10', '123.30', '159.4', '40.61'], ['28', '28 Bellona (A854 EA)', '18:46', '19:37', '20:29', '01:42', '09:14:09', '+09 38\\'47\"', '11.4', '2.37', '1.74', '117.87', '163.5', '35.77'], ['29', '29 Amphitrite (A854 EB)', '19:00', '20:39', '22:19*', '01:58', '10:16:16', '+16 48\\'50\"', '10.5', '2.47', '2.01', '106.05', '176.5', '52.49'], ['21', '21 Lutetia (A852 VA)', '19:34', '20:50', '22:07*', '01:24', '10:27:19', '+12 42\\'26\"', '12.7', '2.81', '2.43', '102.13', '178.0', '53.14'], ['24', '24 Themis (A853 GA)', '20:36', '21:12*', '21:47*', '00:22', '10:48:35', '+08 26\\'02\"', '12.4', '2.78', '2.51', '95.70', '171.4', '55.28'], ['346', '346 Hermentaria (A892 WC)', '20:29', '21:44*', '22:58*', '00:29', '11:20:43', '+12 26\\'31\"', '12.9', '2.93', '2.76', '89.95', '165.1', '64.01'], ['674', '674 Rachele (A908 UK)', '20:18', '22:03*', '23:47*', '00:40', '11:39:45', '+18 00\\'17\"', '12.4', '2.47', '2.30', '88.01', '160.2', '70.95']], 'total_objects': '46', 'shown_objects': '46'}\n",
            "obs_datetime : 2024-12-09 00:00:00\n",
            "obs_date : 20241209\n",
            "url : https://ssd-api.jpl.nasa.gov/sbwobs.api?sb-kind=a&mpc-code=P64&obs-time=2024-12-09 00:00:00&elev-min=60&time-min=15&vmag-max=13&vmag-min=6&optical=true&fmt-ra-dec=true&mag-required=true&output-sort=trans&maxoutput=50\n"
          ]
        }
      ],
      "source": [
        "#(과제) 아래 코딩을 완성하여 제출하시오.\n",
        "#############################################\n",
        "# variables\n",
        "mpc_code='P64' # Observer Location: GSHS Observatory, Suwon [code: P64]\n",
        "\n",
        "elev_min=60 #\n",
        "time_min=15\n",
        "vmag_min=6\n",
        "vmag_max=13\n",
        "list_num=50\n",
        "sort='trans'\n",
        "#############################################\n",
        "\n",
        "start_dt    = datetime(2024, 12, 1)\n",
        "end_dt      = datetime(2025, 1, 1)\n",
        "dt = 1\n",
        "\n",
        "dts = [dt for dt in\n",
        "            datetime_range(start_dt, end_dt,\n",
        "            timedelta(days=dt))]\n",
        "\n",
        "print(\"len(dts):\", len(dts))\n",
        "print(\"dts\", dts)\n",
        "\n",
        "df_all = pd.DataFrame()\n",
        "\n",
        "for dt in dts :\n",
        "    obs_datetime = dt.strftime('%Y-%m-%d %H:%M:%S')\n",
        "    print(\"obs_datetime :\", obs_datetime)\n",
        "    obs_date = dt.strftime('%Y%m%d')\n",
        "    print(\"obs_date :\", obs_date)\n",
        "\n",
        "    # Define API URL and SPK filename:\n",
        "    url = 'https://ssd-api.jpl.nasa.gov/sbwobs.api'\n",
        "    spk_filename = 'spk_file.bsp'\n",
        "\n",
        "    # Get the requested SPK-ID from the command-line:\n",
        "    if (len(sys.argv)) == 1:\n",
        "        print(\"please specify SPK-ID on the command-line\")\n",
        "        sys.exit(2)\n",
        "    spkid = sys.argv[1]\n",
        "\n",
        "    # Build the appropriate URL for this API request:\n",
        "    # IMPORTANT: You must encode the \"=\" as \"%3D\" and the \";\" as \"%3B\" in the\n",
        "    #            Horizons COMMAND parameter specification.\n",
        "    url += f\"?sb-kind=a&mpc-code={mpc_code}&obs-time={str(obs_datetime)}&elev-min={elev_min}&time-min={time_min}\"\n",
        "    url += f\"&vmag-max={vmag_max}&vmag-min={vmag_min}&optical=true&fmt-ra-dec=true&mag-required=true&output-sort={sort}&maxoutput={list_num}\"\n",
        "\n",
        "    print(\"url :\", url)\n",
        "\n",
        "    # Submit the API request and decode the JSON-response:\n",
        "    response = requests.get(url)\n",
        "    try:\n",
        "        data = json.loads(response.text)\n",
        "        print(data)\n",
        "    except ValueError:\n",
        "        print(\"Unable to decode JSON results\")\n",
        "\n",
        "    df = pd.DataFrame.from_dict(data['data'])\n",
        "    df = df.set_axis((data['fields']), axis=1)\n",
        "    df['OBSdate(UT)'] = obs_date\n",
        "    #print(df)\n",
        "\n",
        "    df.to_csv(str(BASEPATH/save_dir_name/f\"asteroid_{dt.strftime('%Y%m%d')}.csv\"))\n",
        "\n",
        "    df_all = pd.concat([df_all, df], axis = 0)\n",
        "\n",
        "df_all.reset_index(inplace=True)\n",
        "print(\"df_all :\", df_all)\n",
        "\n",
        "df_all.to_csv(str(BASEPATH/save_dir_name/f\"asteroid_{dts[0].strftime('%Y%m%d')}-{dts[-1].strftime('%Y%m%d')}.csv\"))"
      ]
    },
    {
      "cell_type": "markdown",
      "metadata": {
        "id": "osLXdXq1P0Ld"
      },
      "source": [
        "## 소행성 좌표 얻기"
      ]
    },
    {
      "cell_type": "markdown",
      "metadata": {
        "id": "jldZ7ljTQ2NZ"
      },
      "source": [
        "### 소행성 id 잘라내기\n",
        "\n",
        "앞서 얻은 dataframe로 부터 소행성의 이름을 알아보자."
      ]
    },
    {
      "cell_type": "code",
      "execution_count": null,
      "metadata": {
        "id": "IeKaKFNUZSqA"
      },
      "outputs": [],
      "source": [
        "#print(\"df :\", df)\n",
        "#print(\"df['Full name'] :\", df['Full name'])\n",
        "print(\"df['Full name'][0] :\", df['Full name'][0])\n",
        "\n",
        "#import re\n",
        "#asteroid_names = re.findall('\\(([^)]+)', df['Full name'][0])   #extracts string in bracket()\n",
        "#print (asteroid_names[0])\n",
        "\n",
        "asteroid_id = df['Full name'][0].split(\" \")[0]   #extracts string in bracket()\n",
        "print(\"asteroid_id :\", asteroid_id)\n",
        "obs_date = df['OBSdate(UT)'][0]"
      ]
    },
    {
      "cell_type": "markdown",
      "metadata": {
        "id": "64dp9ehdZRnN"
      },
      "source": [
        "### astroquery.mpc\n",
        "\n",
        "[astroquery.mpc](https://astroquery.readthedocs.io/en/latest/mpc/mpc.html) 를 이용하여 시간에 따른 소행성의 좌표를 얻어보자."
      ]
    },
    {
      "cell_type": "code",
      "execution_count": null,
      "metadata": {
        "id": "7F2pktLSQ2m6"
      },
      "outputs": [],
      "source": [
        "from astroquery.mpc import MPC\n",
        "eph = MPC.get_ephemeris(asteroid_id, step='1h', number=30 * 24)\n",
        "print(\"type(eph) :\", type(eph))\n",
        "print(\"eph :\", eph)\n",
        "df_eph = eph.to_pandas()\n",
        "df_eph"
      ]
    },
    {
      "cell_type": "markdown",
      "metadata": {
        "id": "GP0TTw1GZ_sk"
      },
      "source": [
        "### 최대 움직임 속도 알아보기"
      ]
    },
    {
      "cell_type": "code",
      "execution_count": null,
      "metadata": {
        "id": "9AT2XgrxaAJT"
      },
      "outputs": [],
      "source": [
        "print(f\"Proper motion: {eph['Proper motion'].quantity.to('arcmin/h').max():.03f}\")"
      ]
    },
    {
      "cell_type": "markdown",
      "metadata": {
        "id": "9BtOuK5raPe3"
      },
      "source": [
        "### 파일 저장하기"
      ]
    },
    {
      "cell_type": "code",
      "execution_count": null,
      "metadata": {
        "id": "j9fTfdjsp5p1"
      },
      "outputs": [],
      "source": [
        "eph = MPC.get_ephemeris(asteroid_id, location='P64',\n",
        "                        ra_format={'sep': ':', 'unit': 'hourangle', 'precision': 1},\n",
        "                        dec_format={'sep': ':', 'precision': 0},\n",
        "                        step='1h')\n",
        "print(\"type(eph): \", type(eph))\n",
        "print(\"eph: \", eph)"
      ]
    },
    {
      "cell_type": "code",
      "execution_count": null,
      "metadata": {
        "id": "vcVwl208VWaL"
      },
      "outputs": [],
      "source": [
        "df_eph = eph.to_pandas()\n",
        "df_eph['Asteroid ID'] = asteroid_id\n",
        "\n",
        "df_eph['Asteroid name'] = df['Full name'][0]\n",
        "df_eph.to_csv(str(BASEPATH/save_dir_name/ f'asteroid_{asteroid_id}.csv'))\n",
        "df_eph"
      ]
    },
    {
      "cell_type": "markdown",
      "metadata": {
        "id": "3g7B4mgkbUKy"
      },
      "source": [
        "### (과제)\n",
        "\n",
        "df에 있는 소행성들의 eph를 1시간 간격으로 구하여 각각 csv 파일로 저장해 보자."
      ]
    },
    {
      "cell_type": "code",
      "execution_count": null,
      "metadata": {
        "id": "QKuX3bhUb-zk"
      },
      "outputs": [],
      "source": [
        "from pathlib import Path\n",
        "from astroquery.mpc import MPC\n",
        "from pprint import pprint\n",
        "import re\n",
        "\n",
        "for i, row  in df.iterrows():\n",
        "    print(\"row['Full name'] :\", row[\"Full name\"])\n",
        "\n",
        "    # asteroid_names = re.findall('\\(([^)]+)', row['Full name'])   #extracts string in bracket()\n",
        "    fullname_el = row['Full name'].split(\" \")\n",
        "    print(\"fullname_el[1] :\", fullname_el[1])\n",
        "    asteroid_id = fullname_el[1]\n",
        "    print(asteroid_id)\n",
        "\n",
        "    eph = MPC.get_ephemeris(asteroid_id,\n",
        "                        location='P64',\n",
        "                        ra_format={'sep': ':', 'unit': 'hourangle', 'precision': 1},\n",
        "                        dec_format={'sep': ':', 'precision': 0},\n",
        "                        step='1h')\n",
        "    # print(\"type(eph): \", type(eph))\n",
        "    #print(\"eph: \", eph)\n",
        "\n",
        "    df_eph = eph.to_pandas()\n",
        "    df_eph['Asteroid ID'] = asteroid_id\n",
        "    df_eph['Asteroid name'] = df['Full name'][i]\n",
        "    df_eph.to_csv(str(BASEPATH/save_dir_name/ f\"eph_asteroid_{asteroid_id}.csv\"))\n"
      ]
    },
    {
      "cell_type": "code",
      "execution_count": null,
      "metadata": {
        "id": "7RgFoMjLn6cw"
      },
      "outputs": [],
      "source": []
    }
  ],
  "metadata": {
    "colab": {
      "provenance": [],
      "toc_visible": true
    },
    "kernelspec": {
      "display_name": "astro_Python_env",
      "language": "python",
      "name": "python3"
    },
    "language_info": {
      "name": "python",
      "version": "3.12.3"
    }
  },
  "nbformat": 4,
  "nbformat_minor": 0
}
