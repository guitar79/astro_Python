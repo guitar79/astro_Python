{
 "cells": [
  {
   "attachments": {},
   "cell_type": "markdown",
   "metadata": {},
   "source": [
    "# Update fits header and move fits files"
   ]
  },
  {
   "attachments": {},
   "cell_type": "markdown",
   "metadata": {},
   "source": [
    "## import modules\n",
    "\n",
    "우선 필요한 모듈을 import합니다."
   ]
  },
  {
   "cell_type": "code",
   "execution_count": 1,
   "metadata": {},
   "outputs": [],
   "source": [
    "from pathlib import Path\n",
    "import shutil\n",
    "import os\n",
    "import ysfitsutilpy as yfu\n",
    "\n",
    "import _Python_utilities\n",
    "import _astro_utilities\n",
    "\n",
    "import warnings\n",
    "warnings.filterwarnings('ignore')"
   ]
  },
  {
   "cell_type": "markdown",
   "metadata": {},
   "source": [
    "## 디렉토리 환경 설정\n",
    "\n",
    "새로 촬영한 파일들은 아래 폴더에 복사를 합니다. 처리해야 할 파일들이 들어 있는 폴더를 목록으로 만들어 둡니다.\n",
    "이때 pathlib을 사용하면 운영체제에 관게 없이 파일 경로를 객체로 만들어 쉽게 다룰 수 있게 됩니다. "
   ]
  },
  {
   "cell_type": "code",
   "execution_count": 2,
   "metadata": {},
   "outputs": [
    {
     "name": "stdout",
     "output_type": "stream",
     "text": [
      "DOINGDIRs:  ['/mnt/Rdata/ASTRO_data/A1_CCD_new_files/A924UB-240827-12-LIGHT_-_2024-08-27_-_OON300_ASCOM-ToupTek-Camera-Driver-(ASCOM)_-_1x1bin/']\n",
      "len(DOINGDIRs):  1\n"
     ]
    }
   ],
   "source": [
    "#%%\n",
    "verbose = False  # True     \n",
    "Owrite = False   \n",
    "#######################################################\n",
    "# Set directory variables.\n",
    "#######################################################\n",
    "\n",
    "BASEDIR = Path(r'O:\\\\')   # for windows\n",
    "BASEDIR = Path(r\"/mnt/Rdata/ASTRO_data\")  # for ubuntu\n",
    "# BASEDIR = Path(\"/Volumes/OBS_data\")  # for mac OS\n",
    " \n",
    "DOINGDIR = BASEDIR/ _astro_utilities.CCD_NEW_dir\n",
    "\n",
    "DOINGDIRs = sorted(_Python_utilities.getFullnameListOfallsubDirs(DOINGDIR))\n",
    "if verbose == True :\n",
    "    print (\"DOINGDIRs: \", format(DOINGDIRs))\n",
    "    print (\"len(DOINGDIRs): \", format(len(DOINGDIRs)))\n",
    "#######################################################    \n",
    " "
   ]
  },
  {
   "cell_type": "markdown",
   "metadata": {},
   "source": [
    "## 파일 이름 변수 설정\n",
    "\n",
    "파일명을 통해 장비 및 촬영 정보를 확인하기 위하여 폴더명/파일명은 다음과 같은 규칙으로 저장하고 있습니다. \n",
    "\n",
    "> 폴더명(파일명) 구조: [object name]_[image type]_[filter]_[OBS datetime]_[exptime]_[optic name]_[detector name]_[OBS temperature]_[binning].fit\n",
    "\n",
    "fits header에서는 다음의 keyword를 활용합니다. "
   ]
  },
  {
   "cell_type": "code",
   "execution_count": 3,
   "metadata": {},
   "outputs": [
    {
     "name": "stdout",
     "output_type": "stream",
     "text": [
      "_astro_utilities.fnameKEYs : ['OBJECT', 'IMAGETYP', 'FILTER', 'DATE-OBS', 'EXPOSURE', 'OPTIC', 'CCDNAME', 'CCD-TEMP', 'XBINNING']\n"
     ]
    }
   ],
   "source": [
    "print(\"_astro_utilities.fnameKEYs :\", _astro_utilities.fnameKEYs)"
   ]
  },
  {
   "cell_type": "markdown",
   "metadata": {},
   "source": [
    "## fits header update and move to\n",
    "``DOINGDIRs``에 list 형태로 들어있는 디렉토리 경로안에 모든 파일들을 ``yfu.make_summary`` 함수를 이용하여 dataframe으로 만들어 파일명 하나하나 fits 헤더를 업데이트 합니다."
   ]
  },
  {
   "cell_type": "code",
   "execution_count": 4,
   "metadata": {},
   "outputs": [
    {
     "name": "stdout",
     "output_type": "stream",
     "text": [
      "DOINGDIR /mnt/Rdata/ASTRO_data/A1_CCD_new_files/A924UB-240827-12-LIGHT_-_2024-08-27_-_OON300_ASCOM-ToupTek-Camera-Driver-(ASCOM)_-_1x1bin\n",
      "Starting: A924UB-240827-12-LIGHT_-_2024-08-27_-_OON300_ASCOM-ToupTek-Camera-Driver-(ASCOM)_-_1x1bin\n",
      "All 54 keywords (guessed from /mnt/Rdata/ASTRO_data/A1_CCD_new_files/A924UB-240827-12-LIGHT_-_2024-08-27_-_OON300_ASCOM-ToupTek-Camera-Driver-(ASCOM)_-_1x1bin/A924UB-240827-12_LIGHT__2024-08-27_20-10-09_30.00_OON300_ASCOM ToupTek Camera Driver (ASCOM)_9.70_1x1.fits) will be loaded.\n",
      "summary:                                                  file  filesize  SIMPLE  \\\n",
      "0  /mnt/Rdata/ASTRO_data/A1_CCD_new_files/A924UB-...  51624000    True   \n",
      "1  /mnt/Rdata/ASTRO_data/A1_CCD_new_files/A924UB-...  51624000    True   \n",
      "2  /mnt/Rdata/ASTRO_data/A1_CCD_new_files/A924UB-...  51624000    True   \n",
      "\n",
      "   BITPIX  NAXIS  NAXIS1  NAXIS2  EXTEND  BZERO IMAGETYP  ...  FOCUSPOS  \\\n",
      "0      16      2    6216    4152    True  32768    LIGHT  ...      2140   \n",
      "1      16      2    6216    4152    True  32768    LIGHT  ...      2140   \n",
      "2      16      2    6216    4152    True  32768    LIGHT  ...      2140   \n",
      "\n",
      "   FOCUSSZ FOCTEMP FOCUSTEM  ROWORDER  EQUINOX                   SWCREATE  \\\n",
      "0      5.0    26.2     26.2  TOP-DOWN   2000.0  N.I.N.A. 3.1.2.3001 (x64)   \n",
      "1      5.0    26.2     26.2  TOP-DOWN   2000.0  N.I.N.A. 3.1.2.3001 (x64)   \n",
      "2      5.0    26.2     26.2  TOP-DOWN   2000.0  N.I.N.A. 3.1.2.3001 (x64)   \n",
      "\n",
      "   FILTER    CCDNAME                                OPTIC  \n",
      "0       -  TT-2600CP  ASCOM-ToupTek-Camera-Driver-(ASCOM)  \n",
      "1       -  TT-2600CP  ASCOM-ToupTek-Camera-Driver-(ASCOM)  \n",
      "2       -  TT-2600CP  ASCOM-ToupTek-Camera-Driver-(ASCOM)  \n",
      "\n",
      "[3 rows x 56 columns]\n",
      "len(summary) 3\n",
      "/mnt/Rdata/ASTRO_data/A1_CCD_new_files/A924UB-240827-12-LIGHT_-_2024-08-27_-_OON300_ASCOM-ToupTek-Camera-Driver-(ASCOM)_-_1x1bin/A924UB-240827-12_LIGHT__2024-08-27_20-10-09_30.00_OON300_ASCOM ToupTek Camera Driver (ASCOM)_9.70_1x1.fits\n",
      "foldername_el ['A924UB-240827-12-LIGHT', '-', '2024-08-27', '-', 'OON300', 'ASCOM-ToupTek-Camera-Driver-(ASCOM)', '-', '1x1bin']\n",
      "fname_el ['A924UB-240827-12', 'LIGHT', '', '2024-08-27', '20-10-09', '30.00', 'OON300', 'ASCOM ToupTek Camera Driver (ASCOM)', '9.70', '1x1.fits']\n",
      "object_name A924UB-240827-12-LIGHT\n",
      "image_type -\n",
      "filter_name \n",
      "optic_name ASCOM-ToupTek-Camera-Driver-(ASCOM)\n",
      "ccd_name -\n",
      "OBJECT:  A924UB-240827-12-LIGHT\n",
      "TELESCOP:  OON300\n",
      "OPTIC:  ASCOM-ToupTek-Camera-Driver-(ASCOM)\n",
      "CCDNAME:  TT-2600CP\n",
      "FILTER:  -\n",
      "PIXSCALE:  None\n",
      "FOCALLEN:  1200.0\n",
      "APATURE:  None\n",
      "CCD-TEMP:  9.7\n",
      "XPIXSZ:  3.75999999046326\n",
      "YPIXSZ:  3.75999999046326\n",
      "XBINNING:  1\n",
      "YBINNING:  1\n",
      "FLIPSTAT:  None\n",
      "EXPTIME:  30.0\n",
      "EXPOSURE:  30.0\n",
      "The 'OBJECT' is set A924UB-240827-12-LIGHT\n",
      "CCDNAME TT-2600CP\n",
      "The 'CCDNAME' is set TT-2600CP...\n",
      "The 'IMAGETYP' is set LIGHT\n",
      "XXXXXXXXXXXXXXXXXXXXXXXXXXXXXXXXXXXXXXXXXXXXXXXXXXXXXXXXXXXX\n",
      "'ASCOM-ToupTek-Camera-Driver-(ASCOM)'\n"
     ]
    }
   ],
   "source": [
    "for DOINGDIR in DOINGDIRs[:1] :\n",
    "    DOINGDIR = Path(DOINGDIR)\n",
    "    if verbose == True : \n",
    "        print(\"DOINGDIR\", DOINGDIR)\n",
    "        print(f\"Starting: {str(DOINGDIR.parts[-1])}\")\n",
    "    # NEWUPDIR = DOINGDIR.parents[1] /_astro_utilities.CCD_NEWUP_dir\n",
    "    try:\n",
    "        summary = yfu.make_summary(DOINGDIR/\"*.fit*\",\n",
    "                                    verify_fix=True,\n",
    "                                    ignore_missing_simple=True,\n",
    "                                    )\n",
    "        if summary is not None : \n",
    "\n",
    "            if verbose == True : \n",
    "                print(\"summary: \", summary)\n",
    "                print(\"len(summary)\", len(summary))\n",
    "\n",
    "            for _, row in summary.iterrows():\n",
    "\n",
    "                if verbose == True : \n",
    "                    print (row[\"file\"])   # 파일명 출력\n",
    "                fpath = Path(row[\"file\"])\n",
    "\n",
    "                hdul = _astro_utilities.KevinFitsUpdater(fpath,\n",
    "                                                # checkKEYs = [\"OBJECT\", \"TELESCOP\", \"OPTIC\", \"CCDNAME\", 'FILTER',\n",
    "                                                #             #\"GAIN\", \"EGAIN\", \"RDNOISE\", \n",
    "                                                #             \"PIXSCALE\", \"FOCALLEN\", \"APATURE\", \"CCD-TEMP\",\n",
    "                                                #             'XPIXSZ', 'YPIXSZ',\n",
    "                                                #             \"XBINNING\", \"YBINNING\", \"FLIPSTAT\", \"EXPTIME\", \"EXPOSURE\"],\n",
    "                                                # imgtype_update=True,\n",
    "                                                # fil_update=False,\n",
    "                                                verbose = verbose, \n",
    "                                                )\n",
    "                if verbose == True :\n",
    "                    print(\"hdul: \", hdul)\n",
    "\n",
    "                new_fname = \"\"\n",
    "                suffix = \".fit\"\n",
    "\n",
    "                for KEY in _astro_utilities.fnameKEYs :\n",
    "                    if KEY in [\"OBJECT\", \"IMAGETYP\", \"FILTER\", \n",
    "                                \"OPTIC\", \"CCDNAME\"] :\n",
    "                        new_fname += str(row[KEY])+\"_\"\n",
    "                    \n",
    "                    if KEY == \"DATE-OBS\" : \n",
    "                        new_fname += row[KEY][:19].replace(\"T\",\"-\").replace(\":\",\"-\")+\"_\"\n",
    "\n",
    "                    if KEY == \"EXPOSURE\" : \n",
    "                        new_fname += str(int(row[KEY]))+\"sec_\"\n",
    "\n",
    "                    if KEY == \"CCD-TEMP\" : \n",
    "                        try:\n",
    "                            new_fname += str(int(row[KEY]))+\"c_\"\n",
    "                        except:\n",
    "                            new_fname += (row[KEY])+\"c_\"\n",
    "                    if KEY == \"XBINNING\" : \n",
    "                        new_fname += str(row[KEY])+\"bin\"+suffix\n",
    "                if verbose == True :\n",
    "                    print(new_fname)                      \n",
    "                new_folder = _astro_utilities.get_new_foldername_from_filename(new_fname)\n",
    "                if verbose == True :\n",
    "                    print(\"new_folder: \", new_folder)\n",
    "                new_fpath =  BASEDIR /_astro_utilities.A3_CCD_obs_raw_dir / new_folder / new_fname\n",
    "                if verbose == True :\n",
    "                    print(\"new_fpath: \", new_fpath)\n",
    "\n",
    "                if not new_fpath.parents[0].exists():\n",
    "                    os.makedirs(f'{new_fpath.parents[0]}')\n",
    "                    if verbose == True :\n",
    "                        print(f'{new_fpath.parts[-2]} is created')  \n",
    "            \n",
    "                if new_fpath.exists() :\n",
    "                    if verbose == True :\n",
    "                        print(f'{new_fpath} is already exist')\n",
    "                    duplicate_fpath = BASEDIR / _astro_utilities.CCD_duplicate_dir / new_fpath.name\n",
    "                    if Owrite == False:\n",
    "                        shutil.move(fpath, duplicate_fpath)\n",
    "                        if verbose == True :\n",
    "                            print(f'{fpath.parts[-1]} is move to duplicate folder...')\n",
    "                    else :\n",
    "                        shutil.move(str(fpath), str(new_fpath))\n",
    "                        if verbose == True :\n",
    "                            print(f\"move {str(fpath.name)} to {str(new_fpath)}\")\n",
    "                else : \n",
    "                    shutil.move(str(fpath), str(new_fpath))\n",
    "                    if verbose == True :\n",
    "                        print(f\"move {str(fpath.name)} to {str(new_fpath)}\")\n",
    "\n",
    "    except Exception as err :\n",
    "        print(\"X\"*60)\n",
    "        print(err)\n",
    "        pass"
   ]
  },
  {
   "cell_type": "markdown",
   "metadata": {},
   "source": [
    "빈 디텍토리를 지우는 코드입니다."
   ]
  },
  {
   "cell_type": "code",
   "execution_count": 5,
   "metadata": {},
   "outputs": [
    {
     "name": "stdout",
     "output_type": "stream",
     "text": [
      "DOINGDIRs:  ['/mnt/Rdata/ASTRO_data/A1_CCD_new_files/A924UB-240827-12-LIGHT_-_2024-08-27_-_OON300_ASCOM-ToupTek-Camera-Driver-(ASCOM)_-_1x1bin/']\n",
      "len(DOINGDIRs):  1\n",
      "fpaths ['/mnt/Rdata/ASTRO_data/A1_CCD_new_files/A924UB-240827-12-LIGHT_-_2024-08-27_-_OON300_ASCOM-ToupTek-Camera-Driver-(ASCOM)_-_1x1bin/A924UB-240827-12_LIGHT__2024-08-27_20-10-09_30.00_OON300_ASCOM ToupTek Camera Driver (ASCOM)_9.70_1x1.fits', '/mnt/Rdata/ASTRO_data/A1_CCD_new_files/A924UB-240827-12-LIGHT_-_2024-08-27_-_OON300_ASCOM-ToupTek-Camera-Driver-(ASCOM)_-_1x1bin/A924UB-240827-12_LIGHT__2024-08-27_20-11-25_60.00_OON300_ASCOM ToupTek Camera Driver (ASCOM)_9.40_1x1.fits', '/mnt/Rdata/ASTRO_data/A1_CCD_new_files/A924UB-240827-12-LIGHT_-_2024-08-27_-_OON300_ASCOM-ToupTek-Camera-Driver-(ASCOM)_-_1x1bin/A924UB-240827-12_LIGHT__2024-08-27_20-13-01_90.00_OON300_ASCOM ToupTek Camera Driver (ASCOM)_9.70_1x1.fits']\n",
      "fpath /mnt/Rdata/ASTRO_data/A1_CCD_new_files/A924UB-240827-12-LIGHT_-_2024-08-27_-_OON300_ASCOM-ToupTek-Camera-Driver-(ASCOM)_-_1x1bin/A924UB-240827-12_LIGHT__2024-08-27_20-10-09_30.00_OON300_ASCOM ToupTek Camera Driver (ASCOM)_9.70_1x1.fits\n",
      "fpath /mnt/Rdata/ASTRO_data/A1_CCD_new_files/A924UB-240827-12-LIGHT_-_2024-08-27_-_OON300_ASCOM-ToupTek-Camera-Driver-(ASCOM)_-_1x1bin/A924UB-240827-12_LIGHT__2024-08-27_20-11-25_60.00_OON300_ASCOM ToupTek Camera Driver (ASCOM)_9.40_1x1.fits\n",
      "fpath /mnt/Rdata/ASTRO_data/A1_CCD_new_files/A924UB-240827-12-LIGHT_-_2024-08-27_-_OON300_ASCOM-ToupTek-Camera-Driver-(ASCOM)_-_1x1bin/A924UB-240827-12_LIGHT__2024-08-27_20-13-01_90.00_OON300_ASCOM ToupTek Camera Driver (ASCOM)_9.70_1x1.fits\n",
      "DOINGDIRs:  ['/mnt/Rdata/ASTRO_data/A1_CCD_new_files/A924UB-240827-12-LIGHT_-_2024-08-27_-_OON300_ASCOM-ToupTek-Camera-Driver-(ASCOM)_-_1x1bin/']\n",
      "len(DOINGDIRs):  1\n",
      "fpaths ['/mnt/Rdata/ASTRO_data/A1_CCD_new_files/A924UB-240827-12-LIGHT_-_2024-08-27_-_OON300_ASCOM-ToupTek-Camera-Driver-(ASCOM)_-_1x1bin/A924UB-240827-12_LIGHT__2024-08-27_20-10-09_30.00_OON300_ASCOM ToupTek Camera Driver (ASCOM)_9.70_1x1.fits', '/mnt/Rdata/ASTRO_data/A1_CCD_new_files/A924UB-240827-12-LIGHT_-_2024-08-27_-_OON300_ASCOM-ToupTek-Camera-Driver-(ASCOM)_-_1x1bin/A924UB-240827-12_LIGHT__2024-08-27_20-11-25_60.00_OON300_ASCOM ToupTek Camera Driver (ASCOM)_9.40_1x1.fits', '/mnt/Rdata/ASTRO_data/A1_CCD_new_files/A924UB-240827-12-LIGHT_-_2024-08-27_-_OON300_ASCOM-ToupTek-Camera-Driver-(ASCOM)_-_1x1bin/A924UB-240827-12_LIGHT__2024-08-27_20-13-01_90.00_OON300_ASCOM ToupTek Camera Driver (ASCOM)_9.70_1x1.fits']\n",
      "fpath /mnt/Rdata/ASTRO_data/A1_CCD_new_files/A924UB-240827-12-LIGHT_-_2024-08-27_-_OON300_ASCOM-ToupTek-Camera-Driver-(ASCOM)_-_1x1bin/A924UB-240827-12_LIGHT__2024-08-27_20-10-09_30.00_OON300_ASCOM ToupTek Camera Driver (ASCOM)_9.70_1x1.fits\n",
      "fpath /mnt/Rdata/ASTRO_data/A1_CCD_new_files/A924UB-240827-12-LIGHT_-_2024-08-27_-_OON300_ASCOM-ToupTek-Camera-Driver-(ASCOM)_-_1x1bin/A924UB-240827-12_LIGHT__2024-08-27_20-11-25_60.00_OON300_ASCOM ToupTek Camera Driver (ASCOM)_9.40_1x1.fits\n",
      "fpath /mnt/Rdata/ASTRO_data/A1_CCD_new_files/A924UB-240827-12-LIGHT_-_2024-08-27_-_OON300_ASCOM-ToupTek-Camera-Driver-(ASCOM)_-_1x1bin/A924UB-240827-12_LIGHT__2024-08-27_20-13-01_90.00_OON300_ASCOM ToupTek Camera Driver (ASCOM)_9.70_1x1.fits\n",
      "DOINGDIRs:  ['/mnt/Rdata/ASTRO_data/A1_CCD_new_files/A924UB-240827-12-LIGHT_-_2024-08-27_-_OON300_ASCOM-ToupTek-Camera-Driver-(ASCOM)_-_1x1bin/']\n",
      "len(DOINGDIRs):  1\n",
      "fpaths ['/mnt/Rdata/ASTRO_data/A1_CCD_new_files/A924UB-240827-12-LIGHT_-_2024-08-27_-_OON300_ASCOM-ToupTek-Camera-Driver-(ASCOM)_-_1x1bin/A924UB-240827-12_LIGHT__2024-08-27_20-10-09_30.00_OON300_ASCOM ToupTek Camera Driver (ASCOM)_9.70_1x1.fits', '/mnt/Rdata/ASTRO_data/A1_CCD_new_files/A924UB-240827-12-LIGHT_-_2024-08-27_-_OON300_ASCOM-ToupTek-Camera-Driver-(ASCOM)_-_1x1bin/A924UB-240827-12_LIGHT__2024-08-27_20-11-25_60.00_OON300_ASCOM ToupTek Camera Driver (ASCOM)_9.40_1x1.fits', '/mnt/Rdata/ASTRO_data/A1_CCD_new_files/A924UB-240827-12-LIGHT_-_2024-08-27_-_OON300_ASCOM-ToupTek-Camera-Driver-(ASCOM)_-_1x1bin/A924UB-240827-12_LIGHT__2024-08-27_20-13-01_90.00_OON300_ASCOM ToupTek Camera Driver (ASCOM)_9.70_1x1.fits']\n",
      "fpath /mnt/Rdata/ASTRO_data/A1_CCD_new_files/A924UB-240827-12-LIGHT_-_2024-08-27_-_OON300_ASCOM-ToupTek-Camera-Driver-(ASCOM)_-_1x1bin/A924UB-240827-12_LIGHT__2024-08-27_20-10-09_30.00_OON300_ASCOM ToupTek Camera Driver (ASCOM)_9.70_1x1.fits\n",
      "fpath /mnt/Rdata/ASTRO_data/A1_CCD_new_files/A924UB-240827-12-LIGHT_-_2024-08-27_-_OON300_ASCOM-ToupTek-Camera-Driver-(ASCOM)_-_1x1bin/A924UB-240827-12_LIGHT__2024-08-27_20-11-25_60.00_OON300_ASCOM ToupTek Camera Driver (ASCOM)_9.40_1x1.fits\n",
      "fpath /mnt/Rdata/ASTRO_data/A1_CCD_new_files/A924UB-240827-12-LIGHT_-_2024-08-27_-_OON300_ASCOM-ToupTek-Camera-Driver-(ASCOM)_-_1x1bin/A924UB-240827-12_LIGHT__2024-08-27_20-13-01_90.00_OON300_ASCOM ToupTek Camera Driver (ASCOM)_9.70_1x1.fits\n",
      "DOINGDIRs:  ['/mnt/Rdata/ASTRO_data/A1_CCD_new_files/A924UB-240827-12-LIGHT_-_2024-08-27_-_OON300_ASCOM-ToupTek-Camera-Driver-(ASCOM)_-_1x1bin/']\n",
      "len(DOINGDIRs):  1\n",
      "fpaths ['/mnt/Rdata/ASTRO_data/A1_CCD_new_files/A924UB-240827-12-LIGHT_-_2024-08-27_-_OON300_ASCOM-ToupTek-Camera-Driver-(ASCOM)_-_1x1bin/A924UB-240827-12_LIGHT__2024-08-27_20-10-09_30.00_OON300_ASCOM ToupTek Camera Driver (ASCOM)_9.70_1x1.fits', '/mnt/Rdata/ASTRO_data/A1_CCD_new_files/A924UB-240827-12-LIGHT_-_2024-08-27_-_OON300_ASCOM-ToupTek-Camera-Driver-(ASCOM)_-_1x1bin/A924UB-240827-12_LIGHT__2024-08-27_20-11-25_60.00_OON300_ASCOM ToupTek Camera Driver (ASCOM)_9.40_1x1.fits', '/mnt/Rdata/ASTRO_data/A1_CCD_new_files/A924UB-240827-12-LIGHT_-_2024-08-27_-_OON300_ASCOM-ToupTek-Camera-Driver-(ASCOM)_-_1x1bin/A924UB-240827-12_LIGHT__2024-08-27_20-13-01_90.00_OON300_ASCOM ToupTek Camera Driver (ASCOM)_9.70_1x1.fits']\n",
      "fpath /mnt/Rdata/ASTRO_data/A1_CCD_new_files/A924UB-240827-12-LIGHT_-_2024-08-27_-_OON300_ASCOM-ToupTek-Camera-Driver-(ASCOM)_-_1x1bin/A924UB-240827-12_LIGHT__2024-08-27_20-10-09_30.00_OON300_ASCOM ToupTek Camera Driver (ASCOM)_9.70_1x1.fits\n",
      "fpath /mnt/Rdata/ASTRO_data/A1_CCD_new_files/A924UB-240827-12-LIGHT_-_2024-08-27_-_OON300_ASCOM-ToupTek-Camera-Driver-(ASCOM)_-_1x1bin/A924UB-240827-12_LIGHT__2024-08-27_20-11-25_60.00_OON300_ASCOM ToupTek Camera Driver (ASCOM)_9.40_1x1.fits\n",
      "fpath /mnt/Rdata/ASTRO_data/A1_CCD_new_files/A924UB-240827-12-LIGHT_-_2024-08-27_-_OON300_ASCOM-ToupTek-Camera-Driver-(ASCOM)_-_1x1bin/A924UB-240827-12_LIGHT__2024-08-27_20-13-01_90.00_OON300_ASCOM ToupTek Camera Driver (ASCOM)_9.70_1x1.fits\n"
     ]
    }
   ],
   "source": [
    "#%%   \n",
    "#############################################################################\n",
    "#Check and delete empty folder....\n",
    "#############################################################################\n",
    "for i in range(4):\n",
    "    DOINGDIR = ( BASEDIR/ _astro_utilities.CCD_NEW_dir)         \n",
    "    DOINGDIRs = sorted(_Python_utilities.getFullnameListOfallsubDirs(DOINGDIR))\n",
    "    if verbose == True :\n",
    "        print (\"DOINGDIRs: \", format(DOINGDIRs))\n",
    "        print (\"len(DOINGDIRs): \", format(len(DOINGDIRs)))\n",
    "\n",
    "    for DOINGDIR in DOINGDIRs :    \n",
    "        if len(os.listdir(str(DOINGDIR))) == 0 :\n",
    "            shutil.rmtree(f\"{str(DOINGDIR)}\") # Delete..\n",
    "            if verbose == True :\n",
    "                print (f\"rmtree {str(DOINGDIR)}\")\n",
    "        else : \n",
    "            fpaths = _Python_utilities.getFullnameListOfallFiles(str(DOINGDIR))\n",
    "            if verbose == True :\n",
    "                print(\"fpaths\", fpaths)\n",
    "\n",
    "            for fpath in fpaths[:]:\n",
    "                if verbose == True :\n",
    "                    print(\"fpath\", fpath)\n",
    "\n",
    "                if fpath[-4:].lower() in [\".txt\", \"xisf\", \".zip\", \".png\", \".log\",\n",
    "                                            \"seal\", \"tiff\", \".axy\", \"atch\", \"lved\",\n",
    "                                            \"rdls\", \"xyls\", \"corr\", \"xosm\", \".ini\",\n",
    "                                            \".wcs\", \".csv\"] \\\n",
    "                                        and os.path.isfile(fpath):\n",
    "                    os.remove(\"{}\".format(fpath))\n",
    "                    if verbose == True :\n",
    "                        print(\"{} is removed...\".format(fpath)) \n"
   ]
  },
  {
   "cell_type": "code",
   "execution_count": null,
   "metadata": {},
   "outputs": [],
   "source": []
  }
 ],
 "metadata": {
  "kernelspec": {
   "display_name": "astro_Python_env",
   "language": "python",
   "name": "python3"
  },
  "language_info": {
   "codemirror_mode": {
    "name": "ipython",
    "version": 3
   },
   "file_extension": ".py",
   "mimetype": "text/x-python",
   "name": "python",
   "nbconvert_exporter": "python",
   "pygments_lexer": "ipython3",
   "version": "3.12.2"
  },
  "orig_nbformat": 4
 },
 "nbformat": 4,
 "nbformat_minor": 2
}
