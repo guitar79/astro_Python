{
 "cells": [
  {
   "attachments": {},
   "cell_type": "markdown",
   "metadata": {},
   "source": [
    "# Update fits header and move fits files"
   ]
  },
  {
   "attachments": {},
   "cell_type": "markdown",
   "metadata": {},
   "source": [
    "## 모듈 설치 및 버전 확인\n",
    "\n",
    "아래 셀을 실행하면 이 노트북을 실행하는데 필요한 모듈을 설치하고 파이썬 및 관련 모듈의 버전을 확인할 수 있습니다. "
   ]
  },
  {
   "cell_type": "code",
   "execution_count": 16,
   "metadata": {},
   "outputs": [],
   "source": [
    "#!pip install photutils==1.12"
   ]
  },
  {
   "cell_type": "code",
   "execution_count": 17,
   "metadata": {},
   "outputs": [
    {
     "name": "stdout",
     "output_type": "stream",
     "text": [
      "The version_information extension is already loaded. To reload it, use:\n",
      "  %reload_ext version_information\n",
      "This notebook was generated at 2024-12-14 00:09:13 (KST = GMT+0900) \n",
      "0 Python     3.12.7 64bit [GCC 11.2.0]\n",
      "1 IPython    8.27.0\n",
      "2 OS         Linux 6.8.0 50 generic x86_64 with glibc2.39\n",
      "3 ysfitsutilpy 0.2\n",
      "4 version_information 1.0.4\n"
     ]
    }
   ],
   "source": [
    "import importlib, sys, subprocess\n",
    "packages = \"ysfitsutilpy, version_information\" # required modules\n",
    "pkgs = packages.split(\", \")\n",
    "for pkg in pkgs :\n",
    "    if not importlib.util.find_spec(pkg):\n",
    "        # print(f\"**** module {pkg} is not installed\")\n",
    "        subprocess.check_call([sys.executable, '-m', 'pip', 'install', pkg, '-q'])\n",
    "    else: \n",
    "        # print(f\"**** module {pkg} is installed\")\n",
    "        pass\n",
    "\n",
    "%load_ext version_information\n",
    "import time\n",
    "now = time.strftime(\"%Y-%m-%d %H:%M:%S (%Z = GMT%z)\")\n",
    "print(f\"This notebook was generated at {now} \")\n",
    "\n",
    "vv = %version_information {packages}\n",
    "for i, pkg in enumerate(vv.packages):\n",
    "    print(f\"{i} {pkg[0]:10s} {pkg[1]:s}\")"
   ]
  },
  {
   "attachments": {},
   "cell_type": "markdown",
   "metadata": {},
   "source": [
    "## import modules\n",
    "\n",
    "우선 필필요요한  모모듈듈을 import합니다."
   ]
  },
  {
   "cell_type": "code",
   "execution_count": 18,
   "metadata": {},
   "outputs": [],
   "source": [
    "from pathlib import Path\n",
    "import shutil\n",
    "import os\n",
    "import ysfitsutilpy as yfu\n",
    "\n",
    "import _Python_utilities\n",
    "import _astro_utilities\n",
    "\n",
    "import warnings\n",
    "warnings.filterwarnings('ignore')"
   ]
  },
  {
   "cell_type": "markdown",
   "metadata": {},
   "source": [
    "## 디렉토리 환경 설정\n",
    "\n",
    "새로 촬영한 파일들은 아래 폴더에 복사를 합니다. 처리해야 할 파일들이 들어 있는 폴더를 목록으로 만들어 둡니다.\n",
    "이때 pathlib을 사용하면 운영체제에 관게 없이 파일 경로를 객체로 만들어 쉽게 다룰 수 있게 됩니다. "
   ]
  },
  {
   "cell_type": "code",
   "execution_count": 19,
   "metadata": {},
   "outputs": [
    {
     "name": "stdout",
     "output_type": "stream",
     "text": [
      "DOINGDIRs:  []\n",
      "len(DOINGDIRs):  0\n"
     ]
    }
   ],
   "source": [
    "#%%\n",
    "verbose = False     \n",
    "Owrite = False   \n",
    "#######################################################\n",
    "# Set directory variables.\n",
    "#######################################################\n",
    "\n",
    "BASEDIR = Path(r'S:\\\\')   # for windows\n",
    "BASEDIR = Path(\"/mnt/Rdata/ASTRO_data\")  # for ubuntu\n",
    "# BASEDIR = Path(\"/Volumes/OBS_data\")  # for mac OS\n",
    " \n",
    "DOINGDIR = BASEDIR/ _astro_utilities.CCD_NEW_dir\n",
    "\n",
    "DOINGDIRs = sorted(_Python_utilities.getFullnameListOfallsubDirs(DOINGDIR))\n",
    "print (\"DOINGDIRs: \", format(DOINGDIRs))\n",
    "print (\"len(DOINGDIRs): \", format(len(DOINGDIRs)))\n",
    "#######################################################    \n",
    " "
   ]
  },
  {
   "cell_type": "markdown",
   "metadata": {},
   "source": [
    "### 출력 변수 설정"
   ]
  },
  {
   "cell_type": "code",
   "execution_count": 20,
   "metadata": {},
   "outputs": [],
   "source": [
    "fnameKEYs = [\"OBJECT\", \"IMAGETYP\", \"FILTER\", \"DATE-OBS\", \n",
    "            \"EXPOSURE\", \"OPTIC\", \"CCDNAME\", \"CCD-TEMP\", \"XBINNING\"]"
   ]
  },
  {
   "cell_type": "markdown",
   "metadata": {},
   "source": [
    "## header update and move to"
   ]
  },
  {
   "cell_type": "code",
   "execution_count": 21,
   "metadata": {},
   "outputs": [],
   "source": [
    "for DOINGDIR in DOINGDIRs[:] :\n",
    "    DOINGDIR = Path(DOINGDIR)\n",
    "    NEWUPDIR = DOINGDIR.parents[2] /_astro_utilities.CCD_NEWUP_dir\n",
    "    if verbose == True : \n",
    "        print(\"DOINGDIR\", DOINGDIR)\n",
    "        print(f\"Starting: {str(DOINGDIR.parts[-1])}\")\n",
    "    summary = yfu.make_summary(DOINGDIR/\"*.fit*\",\n",
    "                                verify_fix=True,\n",
    "                                ignore_missing_simple=True,\n",
    "                                )\n",
    "    if summary is not None : \n",
    "        try:\n",
    "            if verbose == True : \n",
    "                print(\"summary: \", summary)\n",
    "                print(\"len(summary)\", len(summary))\n",
    "\n",
    "            for _, row in summary.iterrows():\n",
    "                if verbose == True : \n",
    "                    print (row[\"file\"])   # 파일명 출력\n",
    "                fpath = Path(row[\"file\"])\n",
    "            \n",
    "                hdul = _astro_utilities.KevinFitsUpdater(fpath,\n",
    "                                                # checkKEYs = [\"OBJECT\", \"TELESCOP\", \"OPTIC\", \"CCDNAME\", 'FILTER',\n",
    "                                                #             #\"GAIN\", \"EGAIN\", \"RDNOISE\", \n",
    "                                                #             \"PIXSCALE\", \"FOCALLEN\", \"APATURE\", \"CCD-TEMP\",\n",
    "                                                #             'XPIXSZ', 'YPIXSZ',\n",
    "                                                #             \"XBINNING\", \"YBINNING\", \"FLIPSTAT\", \"EXPTIME\", \"EXPOSURE\"],\n",
    "                                                # imgtype_update=True,\n",
    "                                                # fil_update=False,\n",
    "                                                verbose = False, \n",
    "                                                )\n",
    "                if verbose == True :\n",
    "                    print(\"hdul: \", hdul)\n",
    "            \n",
    "            shutil.move(str(DOINGDIR), str(NEWUPDIR / DOINGDIR.stem))\n",
    "            if verbose == True :\n",
    "                print(str(DOINGDIR), str(NEWUPDIR / DOINGDIR.stem))\n",
    "\n",
    "        except Exception as err :\n",
    "            print(\"X\"*60)\n",
    "            print(err)\n",
    "            pass\n",
    "\n",
    "    print(f\"Starting: {str(NEWUPDIR.parts[-1])}\") \n",
    "    summary = yfu.make_summary(NEWUPDIR/\"*.fit*\",\n",
    "                                verify_fix=True,\n",
    "                                ignore_missing_simple=True,\n",
    "                                )\n",
    "    if summary is not None : \n",
    "        if verbose == True :\n",
    "            print(\"summary: \", summary)\n",
    "            print(\"len(summary)\", len(summary))\n",
    "    \n",
    "        for _, row in summary.iterrows():\n",
    "            fpath = Path(row[\"file\"])\n",
    "            if verbose == True :\n",
    "                print (f\"starting {fpath.name}...\")\n",
    "            new_fname = \"\"\n",
    "            suffix = \".fit\"\n",
    "            try:\n",
    "                for KEY in fnameKEYs :\n",
    "                    if KEY in [\"OBJECT\", \"IMAGETYP\", \"FILTER\", \n",
    "                        \"OPTIC\", \"CCDNAME\"] :\n",
    "                        new_fname += str(row[KEY])+\"_\"\n",
    "                    \n",
    "                    if KEY == \"DATE-OBS\" : \n",
    "                        new_fname += row[KEY][:19].replace(\"T\",\"-\").replace(\":\",\"-\")+\"_\"\n",
    "\n",
    "                    if KEY == \"EXPOSURE\" : \n",
    "                        new_fname += str(int(row[KEY]))+\"sec_\"\n",
    "\n",
    "                    if KEY == \"CCD-TEMP\" : \n",
    "                        try:\n",
    "                            new_fname += str(int(row[KEY]))+\"c_\"\n",
    "                        except:\n",
    "                            new_fname += (row[KEY])+\"c_\"\n",
    "                    if KEY == \"XBINNING\" : \n",
    "                        new_fname += str(row[KEY])+\"bin\"+suffix\n",
    "                if verbose == True :\n",
    "                    print(new_fname)                      \n",
    "                new_folder = _astro_utilities.get_new_foldername_from_filename(new_fname)\n",
    "                if verbose == True :\n",
    "                    print(\"new_folder: \", new_folder)\n",
    "                new_fpath =  BASEDIR /_astro_utilities.A3_CCD_obs_raw_dir / new_folder / new_fname\n",
    "                if verbose == True :\n",
    "                    print(\"new_fpath: \", new_fpath)\n",
    "\n",
    "                if not new_fpath.parents[0].exists():\n",
    "                    os.makedirs(f'{new_fpath.parents[0]}')\n",
    "                    if verbose == True :\n",
    "                        print(f'{new_fpath.parts[-2]} is created')  \n",
    "            \n",
    "                if new_fpath.exists() :\n",
    "                    if verbose == True :\n",
    "                        print(f'{new_fpath} is already exist')\n",
    "                    duplicate_fpath = BASEDIR / _astro_utilities.CCD_duplicate_dir / new_fpath.name\n",
    "                    if Owrite == False:\n",
    "                        shutil.move(fpath, duplicate_fpath)\n",
    "                        if verbose == True :\n",
    "                            print(f'{fpath.parts[-1]} is move to duplicate folder...')\n",
    "                    else :\n",
    "                        shutil.move(str(fpath), str(new_fpath))\n",
    "                        if verbose == True :\n",
    "                            print(f\"move {str(fpath.name)} to {str(new_fpath)}\")\n",
    "                else : \n",
    "                    shutil.move(str(fpath), str(new_fpath))\n",
    "                    if verbose == True :\n",
    "                        print(f\"move {str(fpath.name)} to {str(new_fpath)}\")\n",
    "                \n",
    "            except Exception as err:\n",
    "                print(\"X\"*30, f'\\n{err}')\n",
    "                #_Python_utilities.write_log(err_log_file, err)\n",
    "                pass"
   ]
  },
  {
   "cell_type": "code",
   "execution_count": 23,
   "metadata": {},
   "outputs": [],
   "source": [
    "#%%   \n",
    "#############################################################################\n",
    "#Check and delete empty folder....\n",
    "#############################################################################\n",
    "for i in range(4):\n",
    "    DOINGDIR = ( BASEDIR/ _astro_utilities.CCD_NEWUP_dir)         \n",
    "    DOINGDIRs = sorted(_Python_utilities.getFullnameListOfallsubDirs(DOINGDIR))\n",
    "    if verbose == True :\n",
    "        print (\"DOINGDIRs: \", format(DOINGDIRs))\n",
    "        print (\"len(DOINGDIRs): \", format(len(DOINGDIRs)))\n",
    "\n",
    "    for DOINGDIR in DOINGDIRs :    \n",
    "        if len(os.listdir(str(DOINGDIR))) == 0 :\n",
    "            shutil.rmtree(f\"{str(DOINGDIR)}\") # Delete..\n",
    "            if verbose == True :\n",
    "                print (f\"rmtree {str(DOINGDIR)}\")\n",
    "        else : \n",
    "            fpaths = _Python_utilities.getFullnameListOfallFiles(str(DOINGDIR))\n",
    "            if verbose == True :\n",
    "                print(\"fpaths\", fpaths)\n",
    "\n",
    "            for fpath in fpaths[:]:\n",
    "                if verbose == True :\n",
    "                    print(\"fpath\", fpath)\n",
    "\n",
    "                if fpath[-4:].lower() in [\".txt\", \"xisf\", \".zip\", \".png\", \".log\",\n",
    "                                            \"seal\", \"tiff\", \".axy\", \"atch\", \"lved\",\n",
    "                                            \"rdls\", \"xyls\", \"corr\", \"xosm\", \".ini\",\n",
    "                                            \".wcs\", \".csv\"] \\\n",
    "                                        and os.path.isfile(fpath):\n",
    "                    os.remove(\"{}\".format(fpath))\n",
    "                    if verbose == True :\n",
    "                        print(\"{} is removed...\".format(fpath)) \n"
   ]
  },
  {
   "cell_type": "code",
   "execution_count": null,
   "metadata": {},
   "outputs": [],
   "source": []
  }
 ],
 "metadata": {
  "kernelspec": {
   "display_name": "astro_Python_env",
   "language": "python",
   "name": "python3"
  },
  "language_info": {
   "codemirror_mode": {
    "name": "ipython",
    "version": 3
   },
   "file_extension": ".py",
   "mimetype": "text/x-python",
   "name": "python",
   "nbconvert_exporter": "python",
   "pygments_lexer": "ipython3",
   "version": "3.13.1"
  },
  "orig_nbformat": 4
 },
 "nbformat": 4,
 "nbformat_minor": 2
}
