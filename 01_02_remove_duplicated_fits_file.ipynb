{
 "cells": [
  {
   "attachments": {},
   "cell_type": "markdown",
   "metadata": {},
   "source": [
    "# 01_02_remove_duplicated_fits_file"
   ]
  },
  {
   "attachments": {},
   "cell_type": "markdown",
   "metadata": {},
   "source": [
    "## 필요한 모듈\n",
    "\n",
    "이 프로젝트를 위해서는 아래의 모듈이 필요하다. \n",
    "\n",
    "> numpy, pandas, matplotlib, astropy, version_information"
   ]
  },
  {
   "attachments": {},
   "cell_type": "markdown",
   "metadata": {},
   "source": [
    "### 모듈 설치\n",
    "\n",
    "1. 콘솔 창에서 모듈을 설치할 때는 아래와 같은 형식으로 입력하면 된다.\n",
    "\n",
    ">pip install module_name==version\n",
    "\n",
    ">conda install module_name=version\n",
    "\n",
    "2. 주피터 노트북(코랩 포함)에 설치 할 때는 아래의 셀을 실행해서 실행되지 않은 모듈을 설치할 수 있다. (pip 기준) 만약 아나콘다 환경을 사용한다면 7행을 콘다 설치 명령어에 맞게 수정하면 된다."
   ]
  },
  {
   "cell_type": "code",
   "execution_count": null,
   "metadata": {},
   "outputs": [],
   "source": [
    "#import sys\n",
    "#!pip install astropy==5.2 photutils==1.6 #astroscrappy==1.1.1\n",
    "#%pip install astroscrappy==1.1.1"
   ]
  },
  {
   "cell_type": "code",
   "execution_count": null,
   "metadata": {},
   "outputs": [],
   "source": [
    "import importlib, sys, subprocess\n",
    "packages = \"numpy, pandas, matplotlib, scipy, astropy, photutils, ccdproc, astroscrappy, version_information\" # required modules\n",
    "pkgs = packages.split(\", \")\n",
    "for pkg in pkgs :\n",
    "    if not importlib.util.find_spec(pkg):\n",
    "        #print(f\"**** module {pkg} is not installed\")\n",
    "        subprocess.check_call([sys.executable, '-m', 'pip', 'install', pkg, '-q'])\n",
    "    else: \n",
    "        print(f\"**** module {pkg} is installed\")\n",
    "\n",
    "%load_ext version_information\n",
    "import time\n",
    "now = time.strftime(\"%Y-%m-%d %H:%M:%S (%Z = GMT%z)\")\n",
    "print(f\"This notebook was generated at {now} \")\n",
    "\n",
    "vv = %version_information {packages}\n",
    "for i, pkg in enumerate(vv.packages):\n",
    "    print(f\"{i} {pkg[0]:10s} {pkg[1]:s}\")"
   ]
  },
  {
   "attachments": {},
   "cell_type": "markdown",
   "metadata": {},
   "source": [
    "### import modules"
   ]
  },
  {
   "cell_type": "code",
   "execution_count": null,
   "metadata": {},
   "outputs": [],
   "source": [
    "from glob import glob\n",
    "from pathlib import Path\n",
    "import os\n",
    "\n",
    "import ysfitsutilpy as yfu\n",
    "\n",
    "import _astro_utilities\n",
    "import _Python_utilities"
   ]
  },
  {
   "cell_type": "code",
   "execution_count": null,
   "metadata": {},
   "outputs": [],
   "source": [
    "#######################################################\n",
    "# read all files in base directory for processing\n",
    "BASEDIR = Path(\"/mnt/Rdata/OBS_data\") \n",
    "DOINGDIR = ( BASEDIR/ _astro_utilities.CCD_obs_raw_dir / \"STX-16803_1bin\" / \"LIGHT_RILA600\")\n",
    "DOINGDIR = ( BASEDIR/ _astro_utilities.CCD_obs_raw_dir )\n",
    "DOINGDIR = ( BASEDIR/ \"asteroid\")\n",
    "                \n",
    "DOINGDIRs = sorted(_Python_utilities.getFullnameListOfallsubDirs(str(DOINGDIR)))\n",
    "print (\"len(DOINGDIRs): \", format(len(DOINGDIRs)))\n",
    "print (\"DOINGDIRs: \", format(DOINGDIRs))"
   ]
  },
  {
   "cell_type": "code",
   "execution_count": null,
   "metadata": {},
   "outputs": [],
   "source": [
    "DOINGDIRs[7]"
   ]
  },
  {
   "cell_type": "code",
   "execution_count": null,
   "metadata": {},
   "outputs": [],
   "source": [
    "for DOINGDIR in DOINGDIRs[:] : \n",
    "    DOINGDIR = Path(DOINGDIR)\n",
    "    print(f\"Starting: {str(DOINGDIR.parts[-1])}\")\n",
    "    fits_in_dir = sorted(list(DOINGDIR.glob('*.fit*')))\n",
    "    #print(\"fits_in_dir\", fits_in_dir)\n",
    "    print(\"len(fits_in_dir)\", len(fits_in_dir))\n",
    "\n",
    "    if len(fits_in_dir) == 0 :\n",
    "        print(f\"There is no fits fils in {DOINGDIR}\")\n",
    "        pass\n",
    "    else : \n",
    "        summary = None \n",
    "        summary = yfu.make_summary(DOINGDIR/\"*.fit*\",\n",
    "                    #output = save_fpath,\n",
    "                    verbose = False\n",
    "                    )\n",
    "        print(\"summary: \", summary)\n",
    "        print(\"len(summary)\", len(summary))"
   ]
  },
  {
   "cell_type": "code",
   "execution_count": null,
   "metadata": {},
   "outputs": [],
   "source": [
    "{fpath.suffix} == \".fits\" \n",
    "#and (fpath.parents[0]/f\"{fpath.stem}.fits\").exists()"
   ]
  },
  {
   "cell_type": "code",
   "execution_count": null,
   "metadata": {},
   "outputs": [],
   "source": [
    "for _, row in summary.iterrows():\n",
    "    fpath = Path(row[\"file\"])\n",
    "    print (f\"starting {fpath.name}...\")\n",
    "    if fpath.suffix == \".fit\" and \\\n",
    "        (fpath.parents[0]/f\"{fpath.stem}.fits\").exists() : \n",
    "        os.remove(fpath)\n",
    "        print(f\"{fpath.name} is removed\")"
   ]
  },
  {
   "cell_type": "code",
   "execution_count": null,
   "metadata": {},
   "outputs": [],
   "source": [
    "for DOINGDIR in DOINGDIRs[:] : \n",
    "    DOINGDIR = Path(DOINGDIR)\n",
    "    print(f\"Starting: {str(DOINGDIR.parts[-1])}\")\n",
    "    fits_in_dir = sorted(list(DOINGDIR.glob('*.fit*')))\n",
    "    #print(\"fits_in_dir\", fits_in_dir)\n",
    "    print(\"len(fits_in_dir)\", len(fits_in_dir))\n",
    "\n",
    "    if len(fits_in_dir) == 0 :\n",
    "        print(f\"There is no fits fils in {DOINGDIR}\")\n",
    "        pass\n",
    "    else : \n",
    "        summary = None \n",
    "        summary = yfu.make_summary(DOINGDIR/\"*.fit*\",\n",
    "                    #output = save_fpath,\n",
    "                    verbose = False\n",
    "                    )\n",
    "        print(\"summary: \", summary)\n",
    "        print(\"len(summary)\", len(summary))\n",
    "\n",
    "        for _, row in summary.iterrows():\n",
    "            fpath = Path(row[\"file\"])\n",
    "            print (f\"starting {fpath.name}...\")\n",
    "            if {fpath.suffix} == \".fit\" and \\\n",
    "                (fpath.parents[0]/f\"{fpath.stem}.fits\").exists() : \n",
    "                os.remove(fpath)\n",
    "                print(f\"{fpath.name} is removed\")"
   ]
  },
  {
   "cell_type": "code",
   "execution_count": null,
   "metadata": {},
   "outputs": [],
   "source": [
    "fpath.suffix\n",
    "fpath.parent"
   ]
  }
 ],
 "metadata": {
  "kernelspec": {
   "display_name": "astro_Python_ubuntu_env",
   "language": "python",
   "name": "python3"
  },
  "language_info": {
   "codemirror_mode": {
    "name": "ipython",
    "version": 3
   },
   "file_extension": ".py",
   "mimetype": "text/x-python",
   "name": "python",
   "nbconvert_exporter": "python",
   "pygments_lexer": "ipython3",
   "version": "3.12.3"
  },
  "orig_nbformat": 4,
  "vscode": {
   "interpreter": {
    "hash": "73147851ede918c26f741c84bca6ea3575da18885c8fa4aa4a9fbe5902a3c298"
   }
  }
 },
 "nbformat": 4,
 "nbformat_minor": 2
}
