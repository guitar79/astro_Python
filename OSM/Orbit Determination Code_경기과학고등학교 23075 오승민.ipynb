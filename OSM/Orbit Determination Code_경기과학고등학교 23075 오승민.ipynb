{
 "cells": [
  {
   "cell_type": "markdown",
   "metadata": {},
   "source": [
    "# Orbit Determination"
   ]
  },
  {
   "cell_type": "markdown",
   "metadata": {},
   "source": [
    "## Import Module"
   ]
  },
  {
   "cell_type": "code",
   "execution_count": null,
   "metadata": {},
   "outputs": [],
   "source": [
    "import importlib, sys, subprocess\n",
    "\n",
    "packages = \"matplotlib, numpy, sympy, pandas, astropy\".split(', ')\n",
    "for package in packages :\n",
    "    if not importlib.util.find_spec(package):\n",
    "        subprocess.check_call([sys.executable, '-m', 'pip', 'install', package, '-q'])\n",
    "\n",
    "from math import *\n",
    "import matplotlib.pyplot as plt\n",
    "import numpy as np\n",
    "import pandas as pd\n",
    "import sympy as sy\n",
    "\n",
    "from astropy.coordinates import EarthLocation\n",
    "from astropy.time import Time\n",
    "from astropy import units as u\n",
    "from datetime import datetime"
   ]
  },
  {
   "cell_type": "markdown",
   "metadata": {},
   "source": [
    "## Define Vector\n",
    "벡터 a, b와 실수 k에 대해,\n",
    "\n",
    "- 정의: a = Vector(a.x, a.y, a.z)\n",
    "\n",
    "- 크기: a.norm\n",
    "\n",
    "- 단위벡터: a.hat\n",
    "\n",
    "- 성분: a.x, a.y, a.z\n",
    "\n",
    "- 실수배: a * k, a / k\n",
    "\n",
    "- 덧셈, 뺄셈, 역벡터: a + b, a - b, -a\n",
    "\n",
    "- 내적: a @ b\n",
    "\n",
    "- 외적: a * b"
   ]
  },
  {
   "cell_type": "code",
   "execution_count": 37,
   "metadata": {},
   "outputs": [],
   "source": [
    "class Vector:\n",
    "    _isrealnumber = lambda x : isinstance(x, int) or isinstance(x, float)\n",
    "    __slots__ = ('x', 'y', 'z')\n",
    "    def __init__(self, x, y, z = 0.0):\n",
    "        if all(map(Vector._isrealnumber, (x, y, z))):\n",
    "            self.x, self.y, self.z = map(float, (x, y, z))\n",
    "    def __repr__(self):\n",
    "        return f'Vector({self.x:.04f}, {self.y:.04f}, {self.z:.04f})'\n",
    "    def norm(self):\n",
    "        return (self.x**2 + self.y**2 + self.z**2)**0.5\n",
    "    @property\n",
    "    def norm(self):\n",
    "        return (self.x**2 + self.y**2 + self.z**2)**0.5\n",
    "    @norm.setter\n",
    "    def norm(self, value):\n",
    "        self.x, self.y, self.z = value, 0, 0\n",
    "    @property\n",
    "    def _comps(self):\n",
    "        return (self.x, self.y, self.z)\n",
    "    @property\n",
    "    def norm(self):\n",
    "        return sum(i*i for i in self._comps) ** 0.5\n",
    "    def __repr__(self):\n",
    "        return \"Vector({:.04f}, {:.04f}, {:.04f})\".format(*self._comps)\n",
    "    def multiplied(self, k):\n",
    "        return Vector(*(i*k for i in self._comps))\n",
    "    def __mul__(self, k):\n",
    "        if Vector._isrealnumber(k):\n",
    "            return self.multiplied(k)\n",
    "    def __rmul__(self, k):\n",
    "        return self*k\n",
    "    def __truediv__(self, k):\n",
    "        if Vector._isrealnumber(k):\n",
    "            return self.multiplied(1/k)\n",
    "    def __neg__(self):\n",
    "        return Vector(*(-i for i in self._comps))\n",
    "    def __add__(self, other):\n",
    "        return Vector(*(i+j for i, j in zip(self._comps, other._comps)))\n",
    "    def __radd__(self, other):\n",
    "        return self._add(other) \n",
    "    def __sub__(self, other):\n",
    "        return self + -other\n",
    "    def __rsub__(self, other):\n",
    "        return -self + other\n",
    "    def dot(self, other):\n",
    "        return sum(i*j for i,j in zip(self._comps, other._comps))\n",
    "    def cross(self, other):\n",
    "        return Vector(self.y * other.z - self.z * other.y, self.z * other.x - self.x * other.z, self.x * other.y - self.y * other.x)\n",
    "    def __mul__(self, other):\n",
    "        if Vector._isrealnumber(other):\n",
    "            return self.multiplied(other)\n",
    "        if isinstance(other, Vector):\n",
    "            return self.cross(other)\n",
    "    def __matmul__(self, other):\n",
    "        if isinstance(other, Vector):\n",
    "            return self.dot(other)\n",
    "    @property\n",
    "    def hat(self):\n",
    "        return self * (1/self.norm)"
   ]
  },
  {
   "cell_type": "markdown",
   "metadata": {},
   "source": [
    "## Input"
   ]
  },
  {
   "cell_type": "code",
   "execution_count": 38,
   "metadata": {},
   "outputs": [],
   "source": [
    "Data = [['2023-09-27 13:47:12','02:50:40.40','14:55:07.5'],       # Example Source) Jupiter in Stellarium\n",
    "        ['2023-10-02 13:47:12','02:49:04.10','14:47:20.9'], \n",
    "        ['2023-10-06 13:47:12','02:47:35.43','14:40:17.9']]     # UTC obs time, RA, Dec"
   ]
  },
  {
   "cell_type": "markdown",
   "metadata": {},
   "source": [
    "## Set System"
   ]
  },
  {
   "cell_type": "code",
   "execution_count": 39,
   "metadata": {},
   "outputs": [],
   "source": [
    "lam = 127.00543     # 관측자 경도[deg]\n",
    "phi = 37.30881      # 관측자 위도[deg]\n",
    "H = 0.098           # 관측자 고도[km]\n",
    "\n",
    "mu = 1.32712440018e+11   # 중력변수[km^3 s^-2]\n",
    "eps = 23 + 26/60                        # 황도경사[deg]\n",
    "\n",
    "R_eq = 6378         # 지구 적도반지름[km]\n",
    "f = 1/299           # 지구타원체 편평도\n",
    "\n",
    "km_to_AU = 1/1.496e+8   # km to AU\n",
    "\n",
    "I_hat = Vector(1,0,0)   # 황도좌표계 기본벡터\n",
    "J_hat = Vector(0,1,0)\n",
    "K_hat = Vector(0,0,1)\n",
    "\n",
    "i_hat = I_hat           # 적도좌표계 기본벡터\n",
    "j_hat = Vector(0,cos(radians(eps)),-sin(radians(eps))) \n",
    "k_hat = Vector(0,sin(radians(eps)),cos(radians(eps)))"
   ]
  },
  {
   "cell_type": "markdown",
   "metadata": {},
   "source": [
    "## Data Organization"
   ]
  },
  {
   "cell_type": "code",
   "execution_count": 46,
   "metadata": {},
   "outputs": [],
   "source": [
    "t, RaDec, theta = [], [], []\n",
    "for data in Data:\n",
    "  t.append(datetime.strptime(data[0],'%Y-%m-%d %H:%M:%S'))\n",
    "  \n",
    "  RAh,RAm,RAs = map(float,data[1].split(':'))\n",
    "  Decd,Decm,Decs = map(float,data[2].split(':'))\n",
    "  if Decd<0:  Decm,Decs = -Decm,-Decs\n",
    "  RaDec.append([(RAh + RAm/60 + RAs/3600)*360/24, Decd + Decm/60 + Decs/3600])\n",
    "\n",
    "  obs_time = Time(data[0], scale = 'utc', location = EarthLocation(lat = phi*u.deg, lon = lam*u.deg))\n",
    "  Lst = float(str(obs_time.sidereal_time('mean')*u.deg).replace(' deg hourangle',''))*360/24\n",
    "  theta.append(Lst)"
   ]
  },
  {
   "cell_type": "markdown",
   "metadata": {},
   "source": [
    "## Earth Location"
   ]
  },
  {
   "cell_type": "code",
   "execution_count": 41,
   "metadata": {},
   "outputs": [],
   "source": [
    "R_E_vecs = []\n",
    "\n",
    "def nrange(x):\n",
    "    while x<0:  x += 2*pi\n",
    "    while x>=2*pi:  x -= 2*pi\n",
    "    return x\n",
    "\n",
    "Q0 = [1.00000011,0.01671022,0.00005,-11.26064,102.94719,100.46435]\n",
    "Qdot = [-0.00000005,-0.00003804,-46.94/3600,-18228.25/3600,1198.28/3600,129597740.63/3600]\n",
    "\n",
    "for data in Data:\n",
    "    JD = Time(str(data[0])[:-3], format = 'iso', out_subfmt = 'date_hm').jd\n",
    "    T0 = (JD - 2451545) / 36525\n",
    "\n",
    "    [a_E,e_E,i_E,Om_E,vom_E,L_E] = [Q0[i] + Qdot[i]*T0 for i in range(6)]\n",
    "    a_E /= km_to_AU\n",
    "    om_E,M_E = nrange(radians(vom_E - Om_E)), nrange(radians(L_E - vom_E))\n",
    "    i_E,Om_E = radians(i_E),nrange(radians(Om_E))\n",
    "\n",
    "    E_E = M_E + e_E/2\n",
    "    if M_E > pi:\n",
    "        E_E = M_E - e_E/2\n",
    "    while True:\n",
    "        ratio = (E_E - e_E*sin(E_E) - M_E) / (1 - e_E * cos(E_E))\n",
    "        if abs(ratio) <= 0.00001:\n",
    "            break\n",
    "        E_E = E_E - ratio\n",
    "    theta_E = nrange(2*atan(sqrt((1-e_E) / (1+e_E)) * tan(E_E/2)))\n",
    "\n",
    "    QxX = [[cos(Om_E)*cos(om_E) - sin(Om_E)*sin(om_E)*cos(i_E), -cos(Om_E)*sin(om_E) - sin(Om_E)*cos(i_E)*cos(om_E), sin(Om_E)*sin(i_E)],\n",
    "           [sin(Om_E)*cos(om_E) + cos(Om_E)*cos(i_E)*sin(om_E), -sin(Om_E)*sin(om_E) + cos(Om_E)*cos(i_E)*cos(om_E), -cos(Om_E)*sin(i_E)],\n",
    "           [sin(i_E)*sin(om_E), sin(i_E)*cos(om_E), cos(i_E)]]\n",
    "    R_E_vec = a_E*(1 - e_E**2) / (1 + e_E*cos(theta_E)) * Vector(QxX[0][0]*cos(theta_E) + QxX[0][1]*sin(theta_E), QxX[1][0]*cos(theta_E) + QxX[1][1]*sin(theta_E), QxX[2][0]*cos(theta_E) + QxX[2][1]*sin(theta_E))\n",
    "    R_E_vecs.append(R_E_vec)"
   ]
  },
  {
   "cell_type": "markdown",
   "metadata": {},
   "source": [
    "## Observer Location"
   ]
  },
  {
   "cell_type": "code",
   "execution_count": 42,
   "metadata": {},
   "outputs": [],
   "source": [
    "R_phi = R_eq / sqrt(1 - (2*f - f**2) * sin(radians(phi))**2)\n",
    "R_e_vecs = [(R_phi + H)*cos(radians(phi))*(cos(radians(theta))*i_hat + sin(radians(theta))*j_hat) + (R_phi*(1 - f)**2 + H)*sin(radians(phi))*k_hat for theta in theta]\n",
    "\n",
    "R_vecs = [R_E_vecs[i] + R_e_vecs[i] for i in [0,1,2]]"
   ]
  },
  {
   "cell_type": "markdown",
   "metadata": {},
   "source": [
    "## Gauss Method"
   ]
  },
  {
   "cell_type": "code",
   "execution_count": 43,
   "metadata": {},
   "outputs": [],
   "source": [
    "rho_hats = [(cos(radians(radec[1]))*(cos(radians(radec[0]))*i_hat + sin(radians(radec[0]))*j_hat) + sin(radians(radec[1]))*k_hat).hat for radec in RaDec]\n",
    "\n",
    "tau0,tau2,tau = [float((t[i] - t[j]).days)*86400 + float((t[i] - t[j]).seconds) for [i,j] in [[0,1],[2,1],[2,0]]]\n",
    "p_vecs = [rho_hats[i] * rho_hats[j] for [i,j] in [[1,2],[0,2],[0,1]]]\n",
    "\n",
    "D0 = rho_hats[0] @ p_vecs[0]\n",
    "D = [[R_vec @ p_vec for p_vec in p_vecs] for R_vec in R_vecs]\n",
    "\n",
    "\n",
    "A = 1/D0 * (-D[0][1]*tau2/tau + D[1][1] + D[2][1]*tau0/tau)\n",
    "B = 1/(6*D0) * (D[0][1]*(tau2**2 - tau**2)*tau2/tau + D[2][1]*(tau**2 - tau0**2)*tau0/tau)\n",
    "E = R_vecs[1] @ rho_hats[1]\n",
    "\n",
    "a = -(A**2 + 2*A*E + R_vecs[1].norm**2)\n",
    "b = -2*mu*B*(A+E)\n",
    "c = -(mu*B)**2\n",
    "\n",
    "x = sy.symbols('x',positive = True)\n",
    "r1 = float(sy.solve(x**8 + a*x**6 + b*x**3 + c, x)[-1])\n",
    "\n",
    "rhos = [float(1/D0 * ((6*(D[2][0]*tau0/tau2 + D[1][0]*tau/tau2)*r1**3 + mu*D[2][0]*(tau**2 - tau0**2)*tau0/tau2) / (6*r1**3 + mu*(tau**2 - tau2**2)) - D[0][0])),\n",
    "       float(A + mu*B/r1**3),\n",
    "       float(1/D0 * ((6*(D[0][2]*tau2/tau0 - D[1][2]*tau/tau0)*r1**3 + mu*D[0][2]*(tau**2 - tau2**2)*tau2/tau0) / (6*r1**3 + mu*(tau**2 - tau2**2)) - D[2][2]))]\n",
    "\n",
    "r_vecs = [R_vecs[i] + rhos[i]*rho_hats[i] for i in [0,1,2]]\n",
    "\n",
    "f0 = 1 - (mu * tau0**2) / (2 * r1**3)\n",
    "f2 = 1 - (mu * tau2**2) / (2 * r1**3)\n",
    "g0 = tau0 - (mu * tau0**3) / (6 * r1**3)\n",
    "g2 = tau2 - (mu * tau2**3) / (6 * r1**3)\n",
    "\n",
    "v1_vec = (-f2*r_vecs[0] + f0*r_vecs[2]) / (f0*g2 - f2*g0)\n",
    "\n",
    "r_vec = r_vecs[1]\n",
    "v_vec = v1_vec"
   ]
  },
  {
   "cell_type": "markdown",
   "metadata": {},
   "source": [
    "## Orbit Elements"
   ]
  },
  {
   "cell_type": "code",
   "execution_count": 44,
   "metadata": {},
   "outputs": [
    {
     "name": "stdout",
     "output_type": "stream",
     "text": [
      "이심률: 0.8111083209273133\n",
      "장반경: 13.608723923997925 AU\n",
      "경사각: 1.383837377776339 deg\n",
      "승교점 경도: 95.02818087243737 deg\n",
      "근심점 이각: 38.87170335888013 deg\n",
      "진근점 이각: 264.1285295932779 deg\n",
      "\n"
     ]
    }
   ],
   "source": [
    "r = r_vec.norm\n",
    "v = v_vec.norm\n",
    "v_r = v_vec @ r_vec.hat\n",
    "\n",
    "k_vec = r_vec * v_vec; k = k_vec.norm\n",
    "N_vec = K_hat * k_vec; N = N_vec.norm\n",
    "\n",
    "e_vec = -(k_vec * v_vec/mu + r_vec.hat); e = e_vec.norm\n",
    "\n",
    "a = (k**2/mu) / (1 - e**2)\n",
    "\n",
    "i = acos(k_vec.z/k)*180/pi\n",
    "if i > 180:\n",
    "    i = 360 - i\n",
    "\n",
    "Om = acos(N_vec.x/N)*180/pi\n",
    "if N_vec.y < 0:\n",
    "    Om = 360 - Om\n",
    "\n",
    "om = acos((N_vec @ e_vec)/(N * e))*180/pi\n",
    "if e_vec.z < 0:\n",
    "    om = 360 - om\n",
    "\n",
    "theta = acos((r_vec @ e_vec)/(r * e))*180/pi\n",
    "if v_r < 0:\n",
    "    theta = 360 - theta\n",
    "\n",
    "print(f'\\\n",
    "이심률: {e}\\n\\\n",
    "장반경: {a * km_to_AU} AU\\n\\\n",
    "경사각: {i} deg\\n\\\n",
    "승교점 경도: {Om} deg\\n\\\n",
    "근심점 이각: {om} deg\\n\\\n",
    "진근점 이각: {theta} deg\\n')      # 궤도요소가 이상하게 나오는 문제가 발생합니다."
   ]
  }
 ],
 "metadata": {
  "kernelspec": {
   "display_name": "base",
   "language": "python",
   "name": "python3"
  },
  "language_info": {
   "codemirror_mode": {
    "name": "ipython",
    "version": 3
   },
   "file_extension": ".py",
   "mimetype": "text/x-python",
   "name": "python",
   "nbconvert_exporter": "python",
   "pygments_lexer": "ipython3",
   "version": "3.11.5"
  },
  "orig_nbformat": 4
 },
 "nbformat": 4,
 "nbformat_minor": 2
}
