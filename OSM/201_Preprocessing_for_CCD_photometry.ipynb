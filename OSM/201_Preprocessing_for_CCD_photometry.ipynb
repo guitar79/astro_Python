{
  "cells": [
    {
      "cell_type": "markdown",
      "metadata": {
        "id": "hgwkawzGMlms"
      },
      "source": [
        "# Preprocessing for CCD photometry (study)\n",
        "Study by 23075 Seungmin OH\n",
        "\n",
        "Ref ) https://www.astropy.org/ccd-reduction-and-photometry-guide/v/dev/notebooks/01-01-astronomical-CCD-image-components.html"
      ]
    },
    {
      "cell_type": "markdown",
      "metadata": {},
      "source": [
        "## 1. Astronomical Images"
      ]
    },
    {
      "cell_type": "markdown",
      "metadata": {},
      "source": [
        "### 1.1. Understanding an astronomical CCD image\n",
        "- An astronomical image is a 2d array of values. \n",
        "\n",
        "- Ideally, the value of each pixel would be directly proportional to the amount of light that fell on the pixel during the exposure time. \n",
        "\n",
        "- However, a solid understanding about CCD shows us that the values aren't directly proportional to light. "
      ]
    },
    {
      "cell_type": "markdown",
      "metadata": {},
      "source": [
        "### 1.2. Counts, photons, and electrons\n",
        "- The number stored in a raw astronomical image is called an Analog Digital Unit(ADU) or count. \n",
        "\n",
        "- The counts are the ones generated via the photoelectric effect when a photon hits the detector.\n",
        "\n",
        "- The number of photons that reach the pixel is related to the counts in the pixel by the gain."
      ]
    },
    {
      "cell_type": "markdown",
      "metadata": {},
      "source": [
        "### 1.3. Not all counts are interesting light\n",
        "- Bias is an offset voltage applied to the CCD chip to ensure there are no negative counts during readout.\n",
        "\n",
        "- Dark current is the counts generated due to thermol motion of electrons in CCD.\n",
        "\n",
        "- Sky flat is scattered light from the night sky. It depends on the filter passband, the atmospheric conditions, and the local light sources.\n",
        "\n",
        "- Noises occur randomly."
      ]
    },
    {
      "cell_type": "markdown",
      "metadata": {},
      "source": [
        "### 1.4. CCDs are not perfect\n",
        "- Vignetting, a darkening of the images in the corners, is correctable.\n",
        "\n",
        "- Dust in the optical path and variations in the sensitivity of individual pixels are correctable.\n",
        "\n",
        "- Dead pixels are not correctable."
      ]
    },
    {
      "cell_type": "markdown",
      "metadata": {},
      "source": [
        "### 1.5. Calibration\n",
        "- ${raw~image}=bias+noise+dark~current+flat\\times(sky+stars)$\n",
        "- ${stars+noise}={raw~image-bias-dark~current\\over flat}-sky$\n",
        "- $dark~current+noise=(dark~frame-bias)/(dark~exposure~time)$"
      ]
    },
    {
      "cell_type": "markdown",
      "metadata": {},
      "source": [
        "## 2. Get started"
      ]
    },
    {
      "cell_type": "markdown",
      "metadata": {},
      "source": [
        "### 2.1. Import & Install module"
      ]
    },
    {
      "cell_type": "code",
      "execution_count": 41,
      "metadata": {},
      "outputs": [],
      "source": [
        "import importlib, sys, subprocess\n",
        "\n",
        "packages = \"matplotlib, astropy, numpy, show-image\".split(', ')\n",
        "for package in packages :\n",
        "    if not importlib.util.find_spec(package):\n",
        "        subprocess.check_call([sys.executable, '-m', 'pip', 'install', package, '-q'])\n",
        "\n",
        "from glob import glob\n",
        "\n",
        "import matplotlib.pyplot as plt\n",
        "import matplotlib.image as img\n",
        "\n",
        "from astropy.nddata import CCDData\n",
        "from astropy.visualization import hist\n",
        "\n",
        "from ccdproc import combine\n",
        "\n",
        "import numpy as np\n",
        "\n",
        "import os\n",
        "from pathlib import Path"
      ]
    },
    {
      "cell_type": "markdown",
      "metadata": {},
      "source": [
        "## 3. Bias"
      ]
    },
    {
      "cell_type": "markdown",
      "metadata": {},
      "source": [
        "### 3.1. About bias and overscan"
      ]
    },
    {
      "cell_type": "code",
      "execution_count": null,
      "metadata": {},
      "outputs": [],
      "source": [
        "bias_folder_path = 'D:\\\\Documents\\\\GSHS\\\\17\\\\RnE\\\\Code\\\\flat'\n",
        "\n",
        "bias_list = []\n",
        "\n",
        "for (root, directories, bias_files) in os.walk(bias_folder_path):\n",
        "    for bias_file in bias_files:\n",
        "        bias_file_path = os.path.join(root, bias_file)\n",
        "        bias = CCDData.read(bias_file_path, unit = 'adu')\n",
        "        \n",
        "        bias_list.append(bias)\n",
        "\n",
        "master_bias = combine(bias_list, method = 'median', unit = 'adu')\n",
        "plt.imshow(master_bias)\n",
        "plt.show()"
      ]
    }
  ],
  "metadata": {
    "colab": {
      "provenance": []
    },
    "kernelspec": {
      "display_name": "Python 3",
      "name": "python3"
    },
    "language_info": {
      "codemirror_mode": {
        "name": "ipython",
        "version": 3
      },
      "file_extension": ".py",
      "mimetype": "text/x-python",
      "name": "python",
      "nbconvert_exporter": "python",
      "pygments_lexer": "ipython3",
      "version": "3.10.9"
    }
  },
  "nbformat": 4,
  "nbformat_minor": 0
}
