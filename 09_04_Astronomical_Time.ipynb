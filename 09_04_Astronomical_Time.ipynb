{
 "cells": [
  {
   "cell_type": "markdown",
   "metadata": {
    "id": "GHVanrZ79r0j"
   },
   "source": [
    "# Astronomical time\n",
    "\n",
    "* 이 노트북을 구글 코랩에서 실행하고자 한다면 [파일] - [드라이브에 사본 저장]을 하여 본인의 소유로 만든 후에 코드를 실행하거나 수정할 수 있습니다.\n",
    "\n",
    "* 이 파일은 실제 수업에 사용하므로 필요에 따라 예고 없이 변경될 수 있습니다.\n",
    "\n",
    "* If you have any questions or comments on this document, please email me(Kiehyun.Park@gmail.com).\n",
    "\n",
    "* 이 파일(문서)는 공교육 현장에서 수업시간에 자유롭게 사용할 수 있으나, 다른 목적으로 사용할 시에는 사전에 연락을 주셔서 상의해 주시기 바랍니다."
   ]
  },
  {
   "cell_type": "markdown",
   "metadata": {
    "id": "zDHDwjRFh37L"
   },
   "source": [
    "이 자료는 천체 관측 자료 처리 모듈인 Astropy와 FITS 파일을 열어 관련 정보를 알아보는 방법을 설명합니다."
   ]
  },
  {
   "cell_type": "markdown",
   "metadata": {
    "id": "pnt0bAUv-yZr"
   },
   "source": [
    "## 필요한 환경\n",
    "\n",
    "이 프로젝트를 위해서는 아래의 모듈이 필요합니다.\n",
    "\n",
    "> numpy, matplotlib, astropy, version_information\n"
   ]
  },
  {
   "cell_type": "markdown",
   "metadata": {
    "id": "ShZrQ-ub_aWe"
   },
   "source": [
    "### 모듈 설치 및 버전 확인\n",
    "\n",
    "아래 셀을 실행하면 이 노트북을 실행하는데 필요한 모듈을 설치하고 파이썬 및 관련 모듈의 버전을 확인할 수 있다."
   ]
  },
  {
   "cell_type": "code",
   "execution_count": null,
   "metadata": {
    "colab": {
     "base_uri": "https://localhost:8080/"
    },
    "executionInfo": {
     "elapsed": 27050,
     "status": "ok",
     "timestamp": 1724650993083,
     "user": {
      "displayName": "Kiehyun Park",
      "userId": "11752785994579589476"
     },
     "user_tz": -540
    },
    "id": "V-JrQTLF-673",
    "outputId": "ab061588-ef1e-4e45-ef49-18a8c68adc12"
   },
   "outputs": [
    {
     "name": "stdout",
     "output_type": "stream",
     "text": [
      "******** numpy module is already installed.\n",
      "******** matplotlib module is already installed.\n",
      "******** astropy module is already installed.\n",
      "**** astroquery module is now installed.\n",
      "**** version_information module is now installed.\n",
      "This notebook was generated at 2024-08-26 05:43:12 (UTC = GMT+0000) \n",
      "0 Python     3.10.12 64bit [GCC 11.4.0]\n",
      "1 IPython    7.34.0\n",
      "2 OS         Linux 6.1.85+ x86_64 with glibc2.35\n",
      "3 numpy      1.26.4\n",
      "4 matplotlib 3.7.1\n",
      "5 astropy    6.1.2\n",
      "6 astroquery 0.4.7\n",
      "7 version_information 1.0.4\n"
     ]
    }
   ],
   "source": [
    "import importlib, sys, subprocess\n",
    "packages = \"numpy, matplotlib, astropy, version_information\" # required modules\n",
    "pkgs = packages.split(\", \")\n",
    "for pkg in pkgs :\n",
    "    if not importlib.util.find_spec(pkg):\n",
    "        subprocess.check_call([sys.executable, '-m', 'pip', 'install', pkg, '-q'])\n",
    "        print(f\"**** {pkg} module is now installed.\")\n",
    "    else:\n",
    "        print(f\"******** {pkg} module is already installed.\")\n",
    "%load_ext version_information\n",
    "import time\n",
    "now = time.strftime(\"%Y-%m-%d %H:%M:%S (%Z = GMT%z)\")\n",
    "print(f\"This notebook was generated at {now} \")\n",
    "\n",
    "vv = %version_information {packages}\n",
    "for i, pkg in enumerate(vv.packages):\n",
    "    print(f\"{i} {pkg[0]:10s} {pkg[1]:s}\")"
   ]
  },
  {
   "cell_type": "markdown",
   "metadata": {
    "id": "7KgCaHSayaHz"
   },
   "source": [
    "## Date and time\n",
    "\n",
    "파이썬에서 날짜와 시각을 다루는 방법에 대해 알아보겠습니다."
   ]
  },
  {
   "cell_type": "markdown",
   "metadata": {
    "id": "nV09VNyFd5Sr"
   },
   "source": [
    "### datetime 모듈"
   ]
  },
  {
   "cell_type": "markdown",
   "metadata": {
    "id": "2344LR4iyemi"
   },
   "source": [
    "datetime은 파이썬 기본 모듈로 날짜와 시간을 함께 저장하는 datetime 클래스, 날짜만 저장하는 date 클래스, 시간만 저장하는 time 클래스, 시간 구간 정보를 저장하는 timedelta 클래스 등을 제공합니다.\n",
    "\n"
   ]
  },
  {
   "cell_type": "markdown",
   "metadata": {
    "id": "cYt4tS-zd_5q"
   },
   "source": [
    "#### datetime.datetime\n",
    "\n",
    "datetime 모듈에 datetime class가 들어 있는데 이름이 같으므로 유의할 필요가 있습니다."
   ]
  },
  {
   "cell_type": "code",
   "execution_count": null,
   "metadata": {
    "colab": {
     "base_uri": "https://localhost:8080/"
    },
    "executionInfo": {
     "elapsed": 23,
     "status": "ok",
     "timestamp": 1724630029274,
     "user": {
      "displayName": "Kiehyun Park",
      "userId": "11752785994579589476"
     },
     "user_tz": -540
    },
    "id": "TlebKhZzj5Ib",
    "outputId": "9e2ab90c-4338-4a52-ce65-6803d8d1024e"
   },
   "outputs": [
    {
     "name": "stdout",
     "output_type": "stream",
     "text": [
      "Specific date and time: 2023-04-15 12:30:00\n",
      "Year: 2023\n",
      "Month: 4\n",
      "Day: 15\n",
      "Hour: 12\n",
      "Minute: 30\n",
      "Second: 0\n"
     ]
    }
   ],
   "source": [
    "# prompt: make datetime\n",
    "import datetime\n",
    "\n",
    "# Create a datetime object for a specific date and time\n",
    "dt = datetime.datetime(2023, 4, 15, 12, 30, 0)\n",
    "\n",
    "print(\"Specific date and time:\", dt)\n",
    "print(\"Year:\", dt.year)\n",
    "print(\"Month:\", dt.month)\n",
    "print(\"Day:\", dt.day)\n",
    "print(\"Hour:\", dt.hour)\n",
    "print(\"Minute:\", dt.minute)\n",
    "print(\"Second:\", dt.second)"
   ]
  },
  {
   "cell_type": "markdown",
   "metadata": {
    "id": "4NiQfPXakFvU"
   },
   "source": [
    "아래와 같이 사용하기도 합니다."
   ]
  },
  {
   "cell_type": "code",
   "execution_count": null,
   "metadata": {
    "colab": {
     "base_uri": "https://localhost:8080/"
    },
    "executionInfo": {
     "elapsed": 20,
     "status": "ok",
     "timestamp": 1724630029274,
     "user": {
      "displayName": "Kiehyun Park",
      "userId": "11752785994579589476"
     },
     "user_tz": -540
    },
    "id": "5M6CHDu3yeF0",
    "outputId": "536da4eb-b77f-496a-893d-046e208cfe2a"
   },
   "outputs": [
    {
     "name": "stdout",
     "output_type": "stream",
     "text": [
      "Specific date and time: 2023-04-15 12:30:00\n",
      "Year: 2023\n",
      "Month: 4\n",
      "Day: 15\n",
      "Hour: 12\n",
      "Minute: 30\n",
      "Second: 0\n"
     ]
    }
   ],
   "source": [
    "# prompt: make datetime\n",
    "from datetime import datetime\n",
    "\n",
    "# Create a datetime object for a specific date and time\n",
    "dt = datetime(2023, 4, 15, 12, 30, 0)\n",
    "\n",
    "print(\"Specific date and time:\", dt)\n",
    "print(\"Year:\", dt.year)\n",
    "print(\"Month:\", dt.month)\n",
    "print(\"Day:\", dt.day)\n",
    "print(\"Hour:\", dt.hour)\n",
    "print(\"Minute:\", dt.minute)\n",
    "print(\"Second:\", dt.second)"
   ]
  },
  {
   "cell_type": "markdown",
   "metadata": {
    "id": "d9cX_KKreQtq"
   },
   "source": [
    "#### 문자열로 변환\n",
    "\n",
    "시간 정보는 다음처럼 문자열로 바꿀 수 있습니다."
   ]
  },
  {
   "cell_type": "code",
   "execution_count": null,
   "metadata": {
    "colab": {
     "base_uri": "https://localhost:8080/"
    },
    "executionInfo": {
     "elapsed": 18,
     "status": "ok",
     "timestamp": 1724630029274,
     "user": {
      "displayName": "Kiehyun Park",
      "userId": "11752785994579589476"
     },
     "user_tz": -540
    },
    "id": "yj61zI3Tea-m",
    "outputId": "a62e856f-f4f2-4628-8b95-308bbacf1f3f"
   },
   "outputs": [
    {
     "name": "stdout",
     "output_type": "stream",
     "text": [
      "Specific date and time: 2023-04-15 12:30:00\n"
     ]
    }
   ],
   "source": [
    "print(\"Specific date and time:\", dt.strftime(\"%Y-%m-%d %H:%M:%S\"))"
   ]
  },
  {
   "cell_type": "markdown",
   "metadata": {
    "id": "BZwrHX48ejhk"
   },
   "source": [
    "####문자열로부터 datetime 만들기\n",
    "\n",
    "반대로 문자열로부터 날짜와 시간 정보를 읽어서 datetime 클래스 객체를 만들때는 strptime 클래스 메서드를 사용합니다. 첫 번째 인수로는 날짜와 시간 정보를 가진 문자열을, 두번째 인수로는 그 문자열을 해독할 수 있는 형식 문자열을 입력합니다."
   ]
  },
  {
   "cell_type": "code",
   "execution_count": null,
   "metadata": {
    "colab": {
     "base_uri": "https://localhost:8080/"
    },
    "executionInfo": {
     "elapsed": 16,
     "status": "ok",
     "timestamp": 1724630029275,
     "user": {
      "displayName": "Kiehyun Park",
      "userId": "11752785994579589476"
     },
     "user_tz": -540
    },
    "id": "3sbdbAMFe3u4",
    "outputId": "9317df62-9d8c-47f4-c64d-01eb3f8c97ea"
   },
   "outputs": [
    {
     "name": "stdout",
     "output_type": "stream",
     "text": [
      "Specific date and time: 2017-01-02 14:44:00\n"
     ]
    }
   ],
   "source": [
    "dt2 = datetime.strptime(\"2017-01-02 14:44\", \"%Y-%m-%d %H:%M\")\n",
    "print(\"Specific date and time:\", dt2.strftime(\"%Y-%m-%d %H:%M:%S\"))"
   ]
  },
  {
   "cell_type": "markdown",
   "metadata": {
    "id": "dvH3XpLpdNdw"
   },
   "source": [
    "#### 현재 시각\n",
    "\n",
    "datetime.now() 메서드는 현재 시각을 반환해 줍니다."
   ]
  },
  {
   "cell_type": "code",
   "execution_count": null,
   "metadata": {
    "colab": {
     "base_uri": "https://localhost:8080/"
    },
    "executionInfo": {
     "elapsed": 14,
     "status": "ok",
     "timestamp": 1724630029275,
     "user": {
      "displayName": "Kiehyun Park",
      "userId": "11752785994579589476"
     },
     "user_tz": -540
    },
    "id": "MpowYoVpdKkj",
    "outputId": "645612af-4b1d-4660-977f-589fef67c2b0"
   },
   "outputs": [
    {
     "name": "stdout",
     "output_type": "stream",
     "text": [
      "type(now) <class 'datetime.datetime'>\n",
      "Current date and time: 2024-08-25 23:53:43\n"
     ]
    }
   ],
   "source": [
    "# Current date and time\n",
    "now = datetime.now()\n",
    "print(\"type(now)\", type(now))\n",
    "print(f\"Current date and time: {now.strftime('%Y-%m-%d %H:%M:%S')}\")"
   ]
  },
  {
   "cell_type": "markdown",
   "metadata": {
    "id": "hmYyd617tERD"
   },
   "source": [
    "#### datetime.date\n",
    "\n",
    "오늘 날짜는 다음과 같이 얻을 수 있습니다."
   ]
  },
  {
   "cell_type": "code",
   "execution_count": null,
   "metadata": {
    "colab": {
     "base_uri": "https://localhost:8080/"
    },
    "executionInfo": {
     "elapsed": 13,
     "status": "ok",
     "timestamp": 1724630029275,
     "user": {
      "displayName": "Kiehyun Park",
      "userId": "11752785994579589476"
     },
     "user_tz": -540
    },
    "id": "24YkDUJLs-EG",
    "outputId": "011084f4-ceed-475f-d0b5-90f28ba3909f"
   },
   "outputs": [
    {
     "data": {
      "text/plain": [
       "datetime.date(2024, 8, 25)"
      ]
     },
     "execution_count": 7,
     "metadata": {},
     "output_type": "execute_result"
    }
   ],
   "source": [
    "import datetime\n",
    "today = datetime.date.today()\n",
    "today"
   ]
  },
  {
   "cell_type": "markdown",
   "metadata": {
    "id": "IoaZ4ItycH4y"
   },
   "source": [
    "#### timedelta\n",
    "\n",
    "오늘로부터 100일 후의 날짜를 얻으려면 100일을 뜻하는 datetime.timedelta(days=100)으로 만든 객체가 필요합니다.\n"
   ]
  },
  {
   "cell_type": "code",
   "execution_count": null,
   "metadata": {
    "colab": {
     "base_uri": "https://localhost:8080/",
     "height": 163
    },
    "executionInfo": {
     "elapsed": 326,
     "status": "error",
     "timestamp": 1724651212671,
     "user": {
      "displayName": "Kiehyun Park",
      "userId": "11752785994579589476"
     },
     "user_tz": -540
    },
    "id": "YZrTqD7jtcue",
    "outputId": "5a4f8653-7971-4304-f25d-1369b12bb2f1"
   },
   "outputs": [
    {
     "ename": "NameError",
     "evalue": "name 'datetime' is not defined",
     "output_type": "error",
     "traceback": [
      "\u001b[0;31m---------------------------------------------------------------------------\u001b[0m",
      "\u001b[0;31mNameError\u001b[0m                                 Traceback (most recent call last)",
      "\u001b[0;32m<ipython-input-2-1fec78a574f2>\u001b[0m in \u001b[0;36m<cell line: 1>\u001b[0;34m()\u001b[0m\n\u001b[0;32m----> 1\u001b[0;31m \u001b[0mdiff_days\u001b[0m \u001b[0;34m=\u001b[0m \u001b[0mdatetime\u001b[0m\u001b[0;34m.\u001b[0m\u001b[0mtimedelta\u001b[0m\u001b[0;34m(\u001b[0m\u001b[0mdays\u001b[0m\u001b[0;34m=\u001b[0m\u001b[0;36m5\u001b[0m\u001b[0;34m)\u001b[0m\u001b[0;34m\u001b[0m\u001b[0;34m\u001b[0m\u001b[0m\n\u001b[0m\u001b[1;32m      2\u001b[0m \u001b[0mdiff_days\u001b[0m\u001b[0;34m\u001b[0m\u001b[0;34m\u001b[0m\u001b[0m\n",
      "\u001b[0;31mNameError\u001b[0m: name 'datetime' is not defined"
     ]
    }
   ],
   "source": [
    "diff_days = datetime.timedelta(days=5)\n",
    "diff_days"
   ]
  },
  {
   "cell_type": "markdown",
   "metadata": {
    "id": "hEcLhWTdtt12"
   },
   "source": [
    "이제 오늘 날짜+5일에 해당하는 다음 산술식을 사용하면 100일 이후의 날짜를 쉽게 얻을 수 있습니다."
   ]
  },
  {
   "cell_type": "code",
   "execution_count": null,
   "metadata": {
    "colab": {
     "base_uri": "https://localhost:8080/"
    },
    "executionInfo": {
     "elapsed": 10,
     "status": "ok",
     "timestamp": 1724630029275,
     "user": {
      "displayName": "Kiehyun Park",
      "userId": "11752785994579589476"
     },
     "user_tz": -540
    },
    "id": "3bLZb8ldtmxI",
    "outputId": "f5312ea6-97f1-4f07-ae37-fb77e753edaf"
   },
   "outputs": [
    {
     "data": {
      "text/plain": [
       "datetime.date(2024, 8, 30)"
      ]
     },
     "execution_count": 9,
     "metadata": {},
     "output_type": "execute_result"
    }
   ],
   "source": [
    "today + diff_days"
   ]
  },
  {
   "cell_type": "markdown",
   "metadata": {
    "id": "ahs_BOvCuBBD"
   },
   "source": [
    "#### (과제)\n",
    "\n",
    "토성의 충은 August 27, 2023 08:00 (UT) 이었고, 토성의 회합주기가 378.10 day 라면 2024년에는 충은 대한민국 표준시(KST)로 언제인가?"
   ]
  },
  {
   "cell_type": "code",
   "execution_count": null,
   "metadata": {
    "id": "rNdSapUSnD8k"
   },
   "outputs": [],
   "source": []
  },
  {
   "cell_type": "code",
   "execution_count": null,
   "metadata": {
    "id": "5_T4vI99V0Fq"
   },
   "outputs": [],
   "source": [
    "# prompt: 토성의 충은 August 27, 2023 08:00 (UT) 이었고, 토성의 회합주기가 378.10 day 라면 2024년에는 충은 대한민국 표준시(KST)로 언제인지 datetime, timedelta를 이용한 puthon 코드를 작성해워\n",
    "\n",
    "from datetime import datetime, timedelta\n",
    "import pytz\n",
    "\n",
    "# 토성의 2023년 충\n",
    "saturn_conjunction_2023 = datetime(2023, 8, 27, 8, 0, 0, tzinfo=pytz.utc)\n",
    "\n",
    "# 토성의 회합 주기\n",
    "saturn_synodic_period = timedelta(days=378.10)\n",
    "\n",
    "# 2024년 토성의 충 (UTC)\n",
    "saturn_conjunction_2024_utc = saturn_conjunction_2023 + saturn_synodic_period\n",
    "\n",
    "# 한국 표준시(KST)로 변환\n",
    "KST = pytz.timezone('Asia/Seoul')\n",
    "saturn_conjunction_2024_kst = saturn_conjunction_2024_utc.astimezone(KST)\n",
    "\n",
    "print(\"2024년 토성의 충 (KST):\", saturn_conjunction_2024_kst.strftime(\"%Y-%m-%d %H:%M:%S %Z%z\"))\n"
   ]
  },
  {
   "cell_type": "code",
   "execution_count": null,
   "metadata": {
    "colab": {
     "base_uri": "https://localhost:8080/"
    },
    "executionInfo": {
     "elapsed": 324,
     "status": "ok",
     "timestamp": 1724630157703,
     "user": {
      "displayName": "Kiehyun Park",
      "userId": "11752785994579589476"
     },
     "user_tz": -540
    },
    "id": "hVzsPFvMc-aG",
    "outputId": "ba92bfe9-3477-4df3-f133-b62a3410c837"
   },
   "outputs": [
    {
     "name": "stdout",
     "output_type": "stream",
     "text": [
      "Saturn Opposition in 2024 (UT): 2024-09-08 10:24\n",
      "Saturn Opposition in 2024 (KST): 2024-09-08 19:24\n"
     ]
    }
   ],
   "source": [
    "# (과제) 아래에 코딩을 완성하여 제출하시오.\n",
    "from  datetime import datetime, timedelta\n",
    "\n",
    "\n",
    "\n",
    "# 2024년 충 (UT)\n",
    "\n",
    "print(\"Saturn Opposition in 2024 (UT):\", saturn_opp_2024_UT.strftime(\"%Y-%m-%d %H:%M\"))\n",
    "\n",
    "# 한국 표준시는 UT보다 9시간 빠르다.\n",
    "\n",
    "\n",
    "print(\"Saturn Opposition in 2024 (KST):\", saturn_opp_2024_KST.strftime(\"%Y-%m-%d %H:%M\"))\n"
   ]
  },
  {
   "cell_type": "markdown",
   "metadata": {
    "id": "Y_4tX-6z5W-w"
   },
   "source": [
    "### astropy 모듈\n",
    "\n",
    "astropy는 천문학에서 널리 사용되는 모듈입니다."
   ]
  },
  {
   "cell_type": "markdown",
   "metadata": {
    "id": "tbQm-2oof14n"
   },
   "source": [
    "#### astropy.time\n",
    "\n",
    "[astropy.time](https://docs.astropy.org/en/stable/time/)은 천문학에서 사용되는 시각을 다루는데 매우 유용하며 줄리안 데이 변환을 쉽게 해줍니다."
   ]
  },
  {
   "cell_type": "markdown",
   "metadata": {
    "id": "9BTApOPgTqAi"
   },
   "source": [
    "#### Time 객체 만들기\n",
    "\n",
    "문자열을 바로 Time 객체로 만들어 줍니다. 이때 날짜와 시각 사이에 문자 'T'를 사용하는 것이 특징입니다."
   ]
  },
  {
   "cell_type": "code",
   "execution_count": null,
   "metadata": {
    "colab": {
     "base_uri": "https://localhost:8080/"
    },
    "executionInfo": {
     "elapsed": 471,
     "status": "ok",
     "timestamp": 1724630029740,
     "user": {
      "displayName": "Kiehyun Park",
      "userId": "11752785994579589476"
     },
     "user_tz": -540
    },
    "id": "VKOe_fQ9b4Zi",
    "outputId": "74ae16e2-63ac-4463-ca88-4b00f147972a"
   },
   "outputs": [
    {
     "data": {
      "text/plain": [
       "<Time object: scale='utc' format='isot' value=1999-01-01T00:00:00.123>"
      ]
     },
     "execution_count": 11,
     "metadata": {},
     "output_type": "execute_result"
    }
   ],
   "source": [
    "import numpy as np\n",
    "from astropy.time import Time\n",
    "\n",
    "t = Time('1999-01-01T00:00:00.123456789')\n",
    "t"
   ]
  },
  {
   "cell_type": "markdown",
   "metadata": {
    "id": "QB2rqT0QEZmJ"
   },
   "source": [
    "dir 함수를 이용하여 메쏘드를 확인해 볼 수 있습니다."
   ]
  },
  {
   "cell_type": "code",
   "execution_count": null,
   "metadata": {
    "colab": {
     "base_uri": "https://localhost:8080/"
    },
    "executionInfo": {
     "elapsed": 22,
     "status": "ok",
     "timestamp": 1724630029740,
     "user": {
      "displayName": "Kiehyun Park",
      "userId": "11752785994579589476"
     },
     "user_tz": -540
    },
    "id": "kGuxAERYhIFs",
    "outputId": "b7afcb57-ebcc-4475-80b1-1f7f103dc8ec"
   },
   "outputs": [
    {
     "name": "stdout",
     "output_type": "stream",
     "text": [
      "dir(t):  ['FORMATS', 'SCALES', 'T', '_APPLICABLE_FUNCTIONS', '_METHOD_FUNCTIONS', '__abstractmethods__', '__add__', '__array_function__', '__array_priority__', '__bool__', '__class__', '__copy__', '__deepcopy__', '__delattr__', '__dict__', '__dir__', '__doc__', '__eq__', '__format__', '__ge__', '__getattr__', '__getattribute__', '__getitem__', '__getnewargs__', '__getstate__', '__gt__', '__hash__', '__init__', '__init_subclass__', '__iter__', '__le__', '__len__', '__lt__', '__module__', '__ne__', '__new__', '__radd__', '__reduce__', '__reduce_ex__', '__repr__', '__setattr__', '__setitem__', '__sizeof__', '__str__', '__sub__', '__subclasshook__', '__weakref__', '_abc_impl', '_advanced_index', '_apply', '_astropy_column_attrs', '_call_erfa', '_format', '_get_delta_tdb_tt', '_get_delta_ut1_utc', '_get_time_fmt', '_id_cache', '_init_from_vals', '_location', '_make_value_equivalent', '_match_shape', '_ptp_decorator', '_ptp_impl', '_set_delta_tdb_tt', '_set_delta_ut1_utc', '_set_scale', '_shaped_like_input', '_sid_time_or_earth_rot_ang', '_time', '_time_comparison', 'argmax', 'argmin', 'argsort', 'byear', 'byear_str', 'cache', 'copy', 'cxcsec', 'datetime', 'datetime64', 'decimalyear', 'delta_tdb_tt', 'delta_ut1_utc', 'diagonal', 'earth_rotation_angle', 'filled', 'fits', 'flatten', 'format', 'get_delta_ut1_utc', 'gps', 'in_subfmt', 'info', 'insert', 'isclose', 'iso', 'isot', 'isscalar', 'jd', 'jd1', 'jd2', 'jyear', 'jyear_str', 'light_travel_time', 'location', 'mask', 'masked', 'max', 'mean', 'min', 'mjd', 'ndim', 'now', 'out_subfmt', 'plot_date', 'precision', 'ptp', 'ravel', 'replicate', 'reshape', 'scale', 'shape', 'sidereal_time', 'size', 'sort', 'squeeze', 'stardate', 'strftime', 'strptime', 'swapaxes', 'tai', 'take', 'tcb', 'tcg', 'tdb', 'to_datetime', 'to_string', 'to_value', 'transpose', 'tt', 'unix', 'unix_tai', 'unmasked', 'ut1', 'utc', 'value', 'writeable', 'yday', 'ymdhms']\n"
     ]
    }
   ],
   "source": [
    "print(\"dir(t): \", dir(t))"
   ]
  },
  {
   "cell_type": "markdown",
   "metadata": {
    "id": "85PdjcpZcwpx"
   },
   "source": [
    "아래와 같이 리스트를 Time 객체로 만들 수도 있습니다."
   ]
  },
  {
   "cell_type": "code",
   "execution_count": null,
   "metadata": {
    "colab": {
     "base_uri": "https://localhost:8080/"
    },
    "executionInfo": {
     "elapsed": 20,
     "status": "ok",
     "timestamp": 1724630029741,
     "user": {
      "displayName": "Kiehyun Park",
      "userId": "11752785994579589476"
     },
     "user_tz": -540
    },
    "id": "gIwLRcdfQqfR",
    "outputId": "0d012c18-aea1-44bd-8f9f-df9d4eadc943"
   },
   "outputs": [
    {
     "data": {
      "text/plain": [
       "<Time object: scale='utc' format='isot' value=['1999-01-01T00:00:00.123' '2010-01-01T00:00:00.000']>"
      ]
     },
     "execution_count": 13,
     "metadata": {},
     "output_type": "execute_result"
    }
   ],
   "source": [
    "import numpy as np\n",
    "from astropy.time import Time\n",
    "times = ['1999-01-01T00:00:00.123456789', '2010-01-01T00:00:00']\n",
    "t2 = Time(times, scale='utc')\n",
    "t2"
   ]
  },
  {
   "cell_type": "markdown",
   "metadata": {
    "id": "W3t2dUX2w607"
   },
   "source": [
    "#### Time format\n",
    "\n",
    "다양한 [Time format](https://docs.astropy.org/en/stable/time/index.html#using-astropy-time)을 지원하므로 쉽게 변환이 가능합니다."
   ]
  },
  {
   "cell_type": "code",
   "execution_count": null,
   "metadata": {
    "colab": {
     "base_uri": "https://localhost:8080/"
    },
    "executionInfo": {
     "elapsed": 317,
     "status": "ok",
     "timestamp": 1724630057510,
     "user": {
      "displayName": "Kiehyun Park",
      "userId": "11752785994579589476"
     },
     "user_tz": -540
    },
    "id": "zPbzP55qRuw4",
    "outputId": "a00310b8-a91e-4319-e4d7-31c836ae1902"
   },
   "outputs": [
    {
     "name": "stdout",
     "output_type": "stream",
     "text": [
      "t3 : 1999-01-01T00:00:00.123\n",
      "t3.format:  isot\n"
     ]
    }
   ],
   "source": [
    "t3_string = '1999-01-01T00:00:00.123456789'\n",
    "t3 = Time(t3_string, format='isot')\n",
    "print(\"t3 :\", t3)\n",
    "print(\"t3.format: \", t3.format)"
   ]
  },
  {
   "cell_type": "code",
   "execution_count": null,
   "metadata": {
    "colab": {
     "base_uri": "https://localhost:8080/"
    },
    "executionInfo": {
     "elapsed": 9,
     "status": "ok",
     "timestamp": 1724630057861,
     "user": {
      "displayName": "Kiehyun Park",
      "userId": "11752785994579589476"
     },
     "user_tz": -540
    },
    "id": "vXScO8qVrkE7",
    "outputId": "94354268-0d41-4891-aa7f-56dbf8430e66"
   },
   "outputs": [
    {
     "name": "stdout",
     "output_type": "stream",
     "text": [
      "t3_jd : 2451179.500001429\n",
      "type(t3_jd):  <class 'numpy.float64'>\n"
     ]
    }
   ],
   "source": [
    "t3_jd = t3.jd\n",
    "print(\"t3_jd :\", t3_jd)\n",
    "print(\"type(t3_jd): \", type(t3_jd))"
   ]
  },
  {
   "cell_type": "code",
   "execution_count": null,
   "metadata": {
    "colab": {
     "base_uri": "https://localhost:8080/"
    },
    "executionInfo": {
     "elapsed": 315,
     "status": "ok",
     "timestamp": 1724630058170,
     "user": {
      "displayName": "Kiehyun Park",
      "userId": "11752785994579589476"
     },
     "user_tz": -540
    },
    "id": "eaUPAAlZr4-C",
    "outputId": "e2e725bb-b1f0-47e0-a02f-ec5d075a18ca"
   },
   "outputs": [
    {
     "name": "stdout",
     "output_type": "stream",
     "text": [
      "t3_mjd : 51179.000001428896\n",
      "type(t3_mjd):  <class 'numpy.float64'>\n"
     ]
    }
   ],
   "source": [
    "t3_mjd = t3.mjd\n",
    "print(\"t3_mjd :\", t3_mjd)\n",
    "print(\"type(t3_mjd): \", type(t3_mjd))"
   ]
  },
  {
   "cell_type": "code",
   "execution_count": null,
   "metadata": {
    "colab": {
     "base_uri": "https://localhost:8080/"
    },
    "executionInfo": {
     "elapsed": 3,
     "status": "ok",
     "timestamp": 1724630058170,
     "user": {
      "displayName": "Kiehyun Park",
      "userId": "11752785994579589476"
     },
     "user_tz": -540
    },
    "id": "8PLLY3zdsN1s",
    "outputId": "6de2882f-4ace-4f30-ef4d-e853ac1455b4"
   },
   "outputs": [
    {
     "name": "stdout",
     "output_type": "stream",
     "text": [
      "t3 : 1999-01-01T00:00:00.123\n"
     ]
    }
   ],
   "source": [
    "t3.format = 'fits'\n",
    "print(\"t3 :\", t3)"
   ]
  },
  {
   "cell_type": "markdown",
   "metadata": {
    "id": "HHapGn__-1pP"
   },
   "source": [
    "#### Time Series\n",
    "\n",
    "[Time Series](https://docs.astropy.org/en/stable/timeseries/index.html#using-timeseries) 함수를 이용하면 타임 시리즈 객체를 쉽게 만들수 있습니다.\n"
   ]
  },
  {
   "cell_type": "code",
   "execution_count": null,
   "metadata": {
    "colab": {
     "base_uri": "https://localhost:8080/"
    },
    "executionInfo": {
     "elapsed": 889,
     "status": "ok",
     "timestamp": 1724630059057,
     "user": {
      "displayName": "Kiehyun Park",
      "userId": "11752785994579589476"
     },
     "user_tz": -540
    },
    "id": "QKuX3bhUb-zk",
    "outputId": "11d5e7c4-2e60-45eb-ad91-3edb64b4ca93"
   },
   "outputs": [
    {
     "name": "stdout",
     "output_type": "stream",
     "text": [
      "type(ts1):  <class 'astropy.timeseries.sampled.TimeSeries'>\n",
      "ts1: \n",
      "           time         \n",
      "-----------------------\n",
      "2016-03-22T12:30:31.000\n",
      "2016-03-22T12:30:34.000\n",
      "2016-03-22T12:30:37.000\n",
      "2016-03-22T12:30:40.000\n",
      "2016-03-22T12:30:43.000\n"
     ]
    }
   ],
   "source": [
    "from astropy import units as u\n",
    "from astropy.timeseries import TimeSeries\n",
    "ts1 = TimeSeries(time_start='2016-03-22T12:30:31',\n",
    "                time_delta=3 * u.s,\n",
    "                n_samples=5)\n",
    "print(\"type(ts1): \", type(ts1))\n",
    "print(\"ts1: \\n\", ts1)"
   ]
  },
  {
   "cell_type": "markdown",
   "metadata": {
    "id": "gUjyeKR57GYp"
   },
   "source": [
    "dir 함수를 이용하여 메쏘드를 확인해 볼 수 있습니다."
   ]
  },
  {
   "cell_type": "code",
   "execution_count": null,
   "metadata": {
    "colab": {
     "base_uri": "https://localhost:8080/"
    },
    "executionInfo": {
     "elapsed": 8,
     "status": "ok",
     "timestamp": 1724630059057,
     "user": {
      "displayName": "Kiehyun Park",
      "userId": "11752785994579589476"
     },
     "user_tz": -540
    },
    "id": "Nj61Umx57NCr",
    "outputId": "87a60f47-6d92-4477-c159-a7ec63677caa"
   },
   "outputs": [
    {
     "name": "stdout",
     "output_type": "stream",
     "text": [
      "dir(ts1):  ['Column', 'ColumnClass', 'MaskedColumn', 'Row', 'TableColumns', 'TableFormatter', '__array__', '__bytes__', '__class__', '__copy__', '__deepcopy__', '__delattr__', '__delitem__', '__dict__', '__dir__', '__doc__', '__eq__', '__format__', '__ge__', '__getattribute__', '__getitem__', '__getstate__', '__gt__', '__hash__', '__init__', '__init_subclass__', '__ior__', '__le__', '__len__', '__lt__', '__module__', '__ne__', '__new__', '__or__', '__reduce__', '__reduce_ex__', '__repr__', '__setattr__', '__setitem__', '__setstate__', '__sizeof__', '__str__', '__subclasshook__', '__weakref__', '_base_repr_', '_check_names_dtype', '_check_required_columns', '_column_class', '_convert_col_for_table', '_convert_data_to_col', '_convert_string_dtype', '_copy_indices', '_delay_required_column_checks', '_get_col_cls_for_table', '_init_from_cols', '_init_from_dict', '_init_from_list', '_init_from_list_of_dicts', '_init_from_ndarray', '_init_indices', '_ipython_key_completions_', '_is_list_or_tuple_of_str', '_is_mixin_for_table', '_make_index_row_display_table', '_make_table_from_cols', '_mask', '_masked', '_meta', '_new_from_slice', '_replace_cols', '_replace_column_warnings', '_repr_html_', '_required_columns', '_required_columns_enabled', '_required_columns_relax', '_rows_equal', '_set_col_parent_table_and_mask', '_set_column_attribute', '_set_masked', '_set_of_names_in_colnames', '_set_row', 'add_column', 'add_columns', 'add_index', 'add_row', 'argsort', 'as_array', 'colnames', 'columns', 'convert_bytestring_to_unicode', 'convert_unicode_to_bytestring', 'copy', 'dtype', 'field', 'filled', 'fold', 'formatter', 'from_pandas', 'group_by', 'groups', 'has_masked_columns', 'has_masked_values', 'has_mixin_columns', 'iloc', 'index_column', 'index_mode', 'indices', 'info', 'insert_row', 'items', 'itercols', 'iterrows', 'keep_columns', 'keys', 'loc', 'loc_indices', 'mask', 'masked', 'meta', 'more', 'pformat', 'pformat_all', 'pprint', 'pprint_all', 'pprint_exclude_names', 'pprint_include_names', 'primary_key', 'read', 'remove_column', 'remove_columns', 'remove_indices', 'remove_row', 'remove_rows', 'rename_column', 'rename_columns', 'replace_column', 'reverse', 'round', 'setdefault', 'show_in_browser', 'show_in_notebook', 'sort', 'time', 'to_pandas', 'update', 'values', 'values_equal', 'write']\n"
     ]
    }
   ],
   "source": [
    "print(\"dir(ts1): \", dir(ts1))"
   ]
  },
  {
   "cell_type": "markdown",
   "metadata": {
    "id": "BbkTB4Tf7h7g"
   },
   "source": [
    "다음과 같은 방법으로 만들 수도 있습니다."
   ]
  },
  {
   "cell_type": "code",
   "execution_count": null,
   "metadata": {
    "colab": {
     "base_uri": "https://localhost:8080/",
     "height": 143
    },
    "executionInfo": {
     "elapsed": 5,
     "status": "ok",
     "timestamp": 1724630059057,
     "user": {
      "displayName": "Kiehyun Park",
      "userId": "11752785994579589476"
     },
     "user_tz": -540
    },
    "id": "dFi9P7ASjp9P",
    "outputId": "5e1acf1d-9730-4c84-9ae6-b234e85c3598"
   },
   "outputs": [
    {
     "data": {
      "text/html": [
       "<div><i>TimeSeries length=3</i>\n",
       "<table id=\"table140703529972832\" class=\"table-striped table-bordered table-condensed\">\n",
       "<thead><tr><th>time</th></tr></thead>\n",
       "<thead><tr><th>Time</th></tr></thead>\n",
       "<tr><td>2016-03-22T12:30:31.000</td></tr>\n",
       "<tr><td>2016-03-22T12:30:38.000</td></tr>\n",
       "<tr><td>2016-03-22T12:34:40.000</td></tr>\n",
       "</table></div>"
      ],
      "text/plain": [
       "<TimeSeries length=3>\n",
       "          time         \n",
       "          Time         \n",
       "-----------------------\n",
       "2016-03-22T12:30:31.000\n",
       "2016-03-22T12:30:38.000\n",
       "2016-03-22T12:34:40.000"
      ]
     },
     "execution_count": 21,
     "metadata": {},
     "output_type": "execute_result"
    }
   ],
   "source": [
    "ts2 = TimeSeries(time=['2016-03-22T12:30:31',\n",
    "                        '2016-03-22T12:30:38',\n",
    "                        '2016-03-22T12:34:40'])\n",
    "ts2"
   ]
  },
  {
   "cell_type": "markdown",
   "metadata": {
    "id": "FXit9jHW7nnQ"
   },
   "source": [
    "시간 간격을 다르게 만들 수도 있습니다."
   ]
  },
  {
   "cell_type": "code",
   "execution_count": null,
   "metadata": {
    "colab": {
     "base_uri": "https://localhost:8080/",
     "height": 186
    },
    "executionInfo": {
     "elapsed": 490,
     "status": "ok",
     "timestamp": 1724630059543,
     "user": {
      "displayName": "Kiehyun Park",
      "userId": "11752785994579589476"
     },
     "user_tz": -540
    },
    "id": "Id3wk4R4j0NC",
    "outputId": "ad3a3cfb-e986-40f6-ebdf-619bef549abc"
   },
   "outputs": [
    {
     "data": {
      "text/html": [
       "<div><i>TimeSeries length=5</i>\n",
       "<table id=\"table140703524755952\" class=\"table-striped table-bordered table-condensed\">\n",
       "<thead><tr><th>time</th></tr></thead>\n",
       "<thead><tr><th>Time</th></tr></thead>\n",
       "<tr><td>2011-01-01T00:00:00.000</td></tr>\n",
       "<tr><td>2011-01-01T00:00:00.100</td></tr>\n",
       "<tr><td>2011-01-01T00:00:00.300</td></tr>\n",
       "<tr><td>2011-01-01T00:00:00.400</td></tr>\n",
       "<tr><td>2011-01-01T00:00:00.700</td></tr>\n",
       "</table></div>"
      ],
      "text/plain": [
       "<TimeSeries length=5>\n",
       "          time         \n",
       "          Time         \n",
       "-----------------------\n",
       "2011-01-01T00:00:00.000\n",
       "2011-01-01T00:00:00.100\n",
       "2011-01-01T00:00:00.300\n",
       "2011-01-01T00:00:00.400\n",
       "2011-01-01T00:00:00.700"
      ]
     },
     "execution_count": 22,
     "metadata": {},
     "output_type": "execute_result"
    }
   ],
   "source": [
    "TimeSeries(time_start=\"2011-01-01T00:00:00\",\n",
    "            time_delta=[0.1, 0.2, 0.1, 0.3, 0.2]*u.s)"
   ]
  },
  {
   "cell_type": "markdown",
   "metadata": {
    "id": "n5kwh7pd3pyo"
   },
   "source": [
    "### time list 만들기"
   ]
  },
  {
   "cell_type": "markdown",
   "metadata": {
    "id": "sOzZYh45qFrR"
   },
   "source": [
    "#### (과제) datetime\n",
    "\n",
    "*   사용 모듈 : datetime, dateutil\n",
    "*   함수명 :  create_datetime_list\n",
    "*   입력 변수 : 시작 시각, 끝 시각, 시간 간격\n",
    "*   반환 : 일정한 시간 간격의 list\n",
    "\n",
    "아래와 같이 함수를 만들어 사용하면 편리할 수 있습니다."
   ]
  },
  {
   "cell_type": "code",
   "execution_count": null,
   "metadata": {
    "colab": {
     "base_uri": "https://localhost:8080/"
    },
    "executionInfo": {
     "elapsed": 10,
     "status": "ok",
     "timestamp": 1724630059544,
     "user": {
      "displayName": "Kiehyun Park",
      "userId": "11752785994579589476"
     },
     "user_tz": -540
    },
    "id": "yq4RrWGGqAs8",
    "outputId": "28082a91-b537-4d79-ef75-706235366bd3"
   },
   "outputs": [
    {
     "name": "stdout",
     "output_type": "stream",
     "text": [
      "dt_list : \n",
      " [datetime.datetime(2022, 1, 5, 0, 0), datetime.datetime(2022, 1, 5, 0, 30), datetime.datetime(2022, 1, 5, 1, 0), datetime.datetime(2022, 1, 5, 1, 30), datetime.datetime(2022, 1, 5, 2, 0), datetime.datetime(2022, 1, 5, 2, 30), datetime.datetime(2022, 1, 5, 3, 0), datetime.datetime(2022, 1, 5, 3, 30), datetime.datetime(2022, 1, 5, 4, 0), datetime.datetime(2022, 1, 5, 4, 30), datetime.datetime(2022, 1, 5, 5, 0), datetime.datetime(2022, 1, 5, 5, 30), datetime.datetime(2022, 1, 5, 6, 0), datetime.datetime(2022, 1, 5, 6, 30), datetime.datetime(2022, 1, 5, 7, 0), datetime.datetime(2022, 1, 5, 7, 30), datetime.datetime(2022, 1, 5, 8, 0), datetime.datetime(2022, 1, 5, 8, 30), datetime.datetime(2022, 1, 5, 9, 0), datetime.datetime(2022, 1, 5, 9, 30), datetime.datetime(2022, 1, 5, 10, 0), datetime.datetime(2022, 1, 5, 10, 30), datetime.datetime(2022, 1, 5, 11, 0), datetime.datetime(2022, 1, 5, 11, 30), datetime.datetime(2022, 1, 5, 12, 0), datetime.datetime(2022, 1, 5, 12, 30), datetime.datetime(2022, 1, 5, 13, 0), datetime.datetime(2022, 1, 5, 13, 30), datetime.datetime(2022, 1, 5, 14, 0), datetime.datetime(2022, 1, 5, 14, 30), datetime.datetime(2022, 1, 5, 15, 0), datetime.datetime(2022, 1, 5, 15, 30), datetime.datetime(2022, 1, 5, 16, 0), datetime.datetime(2022, 1, 5, 16, 30), datetime.datetime(2022, 1, 5, 17, 0), datetime.datetime(2022, 1, 5, 17, 30), datetime.datetime(2022, 1, 5, 18, 0), datetime.datetime(2022, 1, 5, 18, 30), datetime.datetime(2022, 1, 5, 19, 0), datetime.datetime(2022, 1, 5, 19, 30), datetime.datetime(2022, 1, 5, 20, 0), datetime.datetime(2022, 1, 5, 20, 30), datetime.datetime(2022, 1, 5, 21, 0), datetime.datetime(2022, 1, 5, 21, 30), datetime.datetime(2022, 1, 5, 22, 0), datetime.datetime(2022, 1, 5, 22, 30), datetime.datetime(2022, 1, 5, 23, 0), datetime.datetime(2022, 1, 5, 23, 30), datetime.datetime(2022, 1, 6, 0, 0)]\n"
     ]
    }
   ],
   "source": [
    "#(과제) 이곳에 코딩을 완성하시오.\n",
    "from datetime import datetime, timedelta\n",
    "from dateutil import relativedelta\n",
    "\n",
    "def create_datetime_list(\n",
    "        start_time,\n",
    "        end_time,\n",
    "        # tdelta = timedelta(minutes=15),\n",
    "        tdelta = relativedelta.relativedelta(minutes=15),\n",
    "        **kwargs\n",
    "        ):\n",
    "    '''\n",
    "    create datetime list\n",
    "    Parameters\n",
    "    ----------\n",
    "    start_time : datetime.datetime for starting.\n",
    "    end_time : datetime.datetime for starting.\n",
    "    tdelta : time delta\n",
    "            - timedelta(minutes=15)\n",
    "            - relativedelta.relativedelta(minutes=15)\n",
    "    Returns : list of datetime with interval timedelta\n",
    "    '''\n",
    "\n",
    "\n",
    "\n",
    "\n",
    "    return time_list\n",
    "\n",
    "\n",
    "\n",
    "\n",
    "print(\"dt_list : \\n\", dt_list)"
   ]
  },
  {
   "cell_type": "markdown",
   "metadata": {
    "id": "czqSUyfYxRcT"
   },
   "source": [
    "#### (과제) astropy.Time\n",
    "\n",
    "1. 다음 조건의 함수를 정의하시오.\n",
    "\n",
    "*   사용 모듈 : astropy.Time\n",
    "*   함수명 :  create_datetime_list\n",
    "*   입력 변수 : 시작 시각, 끝 시각, 시간 간격\n",
    "*   반환 : 일정한 시간 간격의 list\n",
    "\n",
    "\n",
    "\n",
    "2. 정의한 함수로 부터 다음 조건의 일정 시간 간격의 list를 만드시오.\n",
    "\n",
    "*   시작 시각 : 2022년 1월 5일 0시 정각(UT)\n",
    "*   끝 시각 :  2022년 1월 5일 23시 59분(UT)\n",
    "*   시간 간격 : 30분"
   ]
  },
  {
   "cell_type": "code",
   "execution_count": null,
   "metadata": {
    "colab": {
     "base_uri": "https://localhost:8080/"
    },
    "executionInfo": {
     "elapsed": 8,
     "status": "ok",
     "timestamp": 1724630059544,
     "user": {
      "displayName": "Kiehyun Park",
      "userId": "11752785994579589476"
     },
     "user_tz": -540
    },
    "id": "Rm4umQxbcJYk",
    "outputId": "89667797-f4d5-4817-ab53-6b7f0385c238"
   },
   "outputs": [
    {
     "name": "stdout",
     "output_type": "stream",
     "text": [
      "len(t_list) : \n",
      " 48\n",
      "t_list : \n",
      " [<Time object: scale='utc' format='isot' value=2022-01-05T00:00:00.000>, <Time object: scale='utc' format='isot' value=2022-01-05T00:30:00.000>, <Time object: scale='utc' format='isot' value=2022-01-05T01:00:00.000>, <Time object: scale='utc' format='isot' value=2022-01-05T01:30:00.000>, <Time object: scale='utc' format='isot' value=2022-01-05T02:00:00.000>, <Time object: scale='utc' format='isot' value=2022-01-05T02:30:00.000>, <Time object: scale='utc' format='isot' value=2022-01-05T03:00:00.000>, <Time object: scale='utc' format='isot' value=2022-01-05T03:30:00.000>, <Time object: scale='utc' format='isot' value=2022-01-05T04:00:00.000>, <Time object: scale='utc' format='isot' value=2022-01-05T04:30:00.000>, <Time object: scale='utc' format='isot' value=2022-01-05T05:00:00.000>, <Time object: scale='utc' format='isot' value=2022-01-05T05:30:00.000>, <Time object: scale='utc' format='isot' value=2022-01-05T06:00:00.000>, <Time object: scale='utc' format='isot' value=2022-01-05T06:30:00.000>, <Time object: scale='utc' format='isot' value=2022-01-05T07:00:00.000>, <Time object: scale='utc' format='isot' value=2022-01-05T07:30:00.000>, <Time object: scale='utc' format='isot' value=2022-01-05T08:00:00.000>, <Time object: scale='utc' format='isot' value=2022-01-05T08:30:00.000>, <Time object: scale='utc' format='isot' value=2022-01-05T09:00:00.000>, <Time object: scale='utc' format='isot' value=2022-01-05T09:30:00.000>, <Time object: scale='utc' format='isot' value=2022-01-05T10:00:00.000>, <Time object: scale='utc' format='isot' value=2022-01-05T10:30:00.000>, <Time object: scale='utc' format='isot' value=2022-01-05T11:00:00.000>, <Time object: scale='utc' format='isot' value=2022-01-05T11:30:00.000>, <Time object: scale='utc' format='isot' value=2022-01-05T12:00:00.000>, <Time object: scale='utc' format='isot' value=2022-01-05T12:30:00.000>, <Time object: scale='utc' format='isot' value=2022-01-05T13:00:00.000>, <Time object: scale='utc' format='isot' value=2022-01-05T13:30:00.000>, <Time object: scale='utc' format='isot' value=2022-01-05T14:00:00.000>, <Time object: scale='utc' format='isot' value=2022-01-05T14:30:00.000>, <Time object: scale='utc' format='isot' value=2022-01-05T15:00:00.000>, <Time object: scale='utc' format='isot' value=2022-01-05T15:30:00.000>, <Time object: scale='utc' format='isot' value=2022-01-05T16:00:00.000>, <Time object: scale='utc' format='isot' value=2022-01-05T16:30:00.000>, <Time object: scale='utc' format='isot' value=2022-01-05T17:00:00.000>, <Time object: scale='utc' format='isot' value=2022-01-05T17:30:00.000>, <Time object: scale='utc' format='isot' value=2022-01-05T18:00:00.000>, <Time object: scale='utc' format='isot' value=2022-01-05T18:30:00.000>, <Time object: scale='utc' format='isot' value=2022-01-05T19:00:00.000>, <Time object: scale='utc' format='isot' value=2022-01-05T19:30:00.000>, <Time object: scale='utc' format='isot' value=2022-01-05T20:00:00.000>, <Time object: scale='utc' format='isot' value=2022-01-05T20:30:00.000>, <Time object: scale='utc' format='isot' value=2022-01-05T21:00:00.000>, <Time object: scale='utc' format='isot' value=2022-01-05T21:30:00.000>, <Time object: scale='utc' format='isot' value=2022-01-05T22:00:00.000>, <Time object: scale='utc' format='isot' value=2022-01-05T22:30:00.000>, <Time object: scale='utc' format='isot' value=2022-01-05T23:00:00.000>, <Time object: scale='utc' format='isot' value=2022-01-05T23:30:00.000>]\n"
     ]
    }
   ],
   "source": [
    "# (과제) 아래에 코딩을 완성하여 제출하시오.\n",
    "\n",
    "def create_time_list(\n",
    "        start_time,\n",
    "        end_time,\n",
    "        time_delta = 30*u.min,\n",
    "        **kwargs\n",
    "        ):\n",
    "    '''\n",
    "    create datetime list\n",
    "    Parameters\n",
    "    ----------\n",
    "    start_time : astropy.time.Time for starting.\n",
    "    end_time : astropy.time.Time for starting.\n",
    "    time_delta : time delta, default 30 min\n",
    "            - 30*u.min\n",
    "    Returns : list of datetime with interval timedelta\n",
    "    '''\n",
    "\n",
    "\n",
    "\n",
    "\n",
    "    return t_list\n",
    "\n",
    "\n",
    "\n",
    "\n",
    "\n",
    "t_list = create_time_list(start_time, end_time, time_delta=time_delta)\n",
    "print(\"len(t_list) : \\n\", len(t_list))\n",
    "print(\"t_list : \\n\", t_list)\n"
   ]
  },
  {
   "cell_type": "markdown",
   "metadata": {
    "id": "FtlQ3a-jkD7A"
   },
   "source": [
    "#### (과제) astropy.timeseries\n",
    "\n",
    "astropy.timeseries 모듈을 이용하여 다음 조건의 일정 시간 간격의 list를 만드시오.\n",
    "\n",
    "*   시작 시각 : 2022년 1월 5일 0시 정각(UT)\n",
    "*   끝 시각 :  2022년 1월 5일 23시 59분(UT)\n",
    "*   시간 간격 : 30분"
   ]
  },
  {
   "cell_type": "code",
   "execution_count": null,
   "metadata": {
    "colab": {
     "base_uri": "https://localhost:8080/"
    },
    "executionInfo": {
     "elapsed": 299,
     "status": "ok",
     "timestamp": 1724630425417,
     "user": {
      "displayName": "Kiehyun Park",
      "userId": "11752785994579589476"
     },
     "user_tz": -540
    },
    "id": "0YozZhykkDdS",
    "outputId": "66ae5cda-d66b-42d1-98c4-b6460e3939ac"
   },
   "outputs": [
    {
     "name": "stdout",
     "output_type": "stream",
     "text": [
      "type(timeser3):  <class 'astropy.timeseries.binned.BinnedTimeSeries'>\n",
      "len(timeser3): \n",
      " 48\n",
      "timeser3: \n",
      "      time_bin_start     time_bin_size\n",
      "                             min     \n",
      "----------------------- -------------\n",
      "2022-01-05T00:00:00.000          30.0\n",
      "2022-01-05T00:30:00.000          30.0\n",
      "2022-01-05T01:00:00.000          30.0\n",
      "2022-01-05T01:30:00.000          30.0\n",
      "2022-01-05T02:00:00.000          30.0\n",
      "2022-01-05T02:30:00.000          30.0\n",
      "2022-01-05T03:00:00.000          30.0\n",
      "2022-01-05T03:30:00.000          30.0\n",
      "2022-01-05T04:00:00.000          30.0\n",
      "                    ...           ...\n",
      "2022-01-05T19:00:00.000          30.0\n",
      "2022-01-05T19:30:00.000          30.0\n",
      "2022-01-05T20:00:00.000          30.0\n",
      "2022-01-05T20:30:00.000          30.0\n",
      "2022-01-05T21:00:00.000          30.0\n",
      "2022-01-05T21:30:00.000          30.0\n",
      "2022-01-05T22:00:00.000          30.0\n",
      "2022-01-05T22:30:00.000          30.0\n",
      "2022-01-05T23:00:00.000          30.0\n",
      "2022-01-05T23:30:00.000          30.0\n",
      "Length = 48 rows\n"
     ]
    }
   ],
   "source": [
    "# (과제) 아래에 코딩을 완성하여 제출하시오.\n",
    "\n",
    "import astropy.units as u\n",
    "from astropy.timeseries import BinnedTimeSeries\n",
    "\n",
    "timeser3 =\n",
    "print(\"type(timeser3): \", type(timeser3))\n",
    "print(\"len(timeser3): \\n\", len(timeser3))\n",
    "print(\"timeser3: \\n\", timeser3)"
   ]
  }
 ],
 "metadata": {
  "colab": {
   "provenance": [],
   "toc_visible": true
  },
  "kernelspec": {
   "display_name": "astro_Python_env",
   "language": "python",
   "name": "python3"
  },
  "language_info": {
   "name": "python",
   "version": "3.12.8"
  }
 },
 "nbformat": 4,
 "nbformat_minor": 0
}
