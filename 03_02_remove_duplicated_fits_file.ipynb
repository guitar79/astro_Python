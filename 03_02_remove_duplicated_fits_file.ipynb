{
 "cells": [
  {
   "attachments": {},
   "cell_type": "markdown",
   "metadata": {},
   "source": [
    "# 01_02_remove_duplicated_fits_file"
   ]
  },
  {
   "attachments": {},
   "cell_type": "markdown",
   "metadata": {},
   "source": [
    "## 필요한 모듈\n",
    "\n",
    "이 프로젝트를 위해서는 아래의 모듈이 필요하다. \n",
    "\n",
    "> numpy, pandas, matplotlib, astropy, version_information"
   ]
  },
  {
   "attachments": {},
   "cell_type": "markdown",
   "metadata": {},
   "source": [
    "### 모듈 설치\n",
    "\n",
    "1. 콘솔 창에서 모듈을 설치할 때는 아래와 같은 형식으로 입력하면 된다.\n",
    "\n",
    ">pip install module_name==version\n",
    "\n",
    ">conda install module_name=version\n",
    "\n",
    "2. 주피터 노트북(코랩 포함)에 설치 할 때는 아래의 셀을 실행해서 실행되지 않은 모듈을 설치할 수 있다. (pip 기준) 만약 아나콘다 환경을 사용한다면 7행을 콘다 설치 명령어에 맞게 수정하면 된다."
   ]
  },
  {
   "cell_type": "code",
   "execution_count": 131,
   "metadata": {},
   "outputs": [],
   "source": [
    "#import sys\n",
    "#!pip install astropy==5.2 photutils==1.6 #astroscrappy==1.1.1\n",
    "#%pip install astroscrappy==1.1.1"
   ]
  },
  {
   "cell_type": "code",
   "execution_count": 132,
   "metadata": {},
   "outputs": [
    {
     "name": "stdout",
     "output_type": "stream",
     "text": [
      "**** module numpy is installed\n",
      "**** module pandas is installed\n",
      "**** module matplotlib is installed\n",
      "**** module scipy is installed\n",
      "**** module astropy is installed\n",
      "**** module photutils is installed\n",
      "**** module ccdproc is installed\n",
      "**** module astroscrappy is installed\n",
      "**** module version_information is installed\n",
      "The version_information extension is already loaded. To reload it, use:\n",
      "  %reload_ext version_information\n",
      "This notebook was generated at 2024-10-01 23:25:38 (KST = GMT+0900) \n",
      "0 Python     3.12.3 64bit [GCC 11.2.0]\n",
      "1 IPython    8.25.0\n",
      "2 OS         Linux 6.8.0 45 generic x86_64 with glibc2.39\n",
      "3 numpy      1.26.4\n",
      "4 pandas     2.2.2\n",
      "5 matplotlib 3.8.4\n",
      "6 scipy      1.13.1\n",
      "7 astropy    6.1.0\n",
      "8 photutils  1.12.0\n",
      "9 ccdproc    2.4.2\n",
      "10 astroscrappy 1.2.0\n",
      "11 version_information 1.0.4\n"
     ]
    }
   ],
   "source": [
    "import importlib, sys, subprocess\n",
    "packages = \"numpy, pandas, matplotlib, scipy, astropy, photutils, ccdproc, astroscrappy, version_information\" # required modules\n",
    "pkgs = packages.split(\", \")\n",
    "for pkg in pkgs :\n",
    "    if not importlib.util.find_spec(pkg):\n",
    "        #print(f\"**** module {pkg} is not installed\")\n",
    "        subprocess.check_call([sys.executable, '-m', 'pip', 'install', pkg, '-q'])\n",
    "    else: \n",
    "        print(f\"**** module {pkg} is installed\")\n",
    "\n",
    "%load_ext version_information\n",
    "import time\n",
    "now = time.strftime(\"%Y-%m-%d %H:%M:%S (%Z = GMT%z)\")\n",
    "print(f\"This notebook was generated at {now} \")\n",
    "\n",
    "vv = %version_information {packages}\n",
    "for i, pkg in enumerate(vv.packages):\n",
    "    print(f\"{i} {pkg[0]:10s} {pkg[1]:s}\")"
   ]
  },
  {
   "attachments": {},
   "cell_type": "markdown",
   "metadata": {},
   "source": [
    "### import modules"
   ]
  },
  {
   "cell_type": "code",
   "execution_count": 133,
   "metadata": {},
   "outputs": [],
   "source": [
    "from glob import glob\n",
    "from pathlib import Path, PosixPath, WindowsPath\n",
    "import os\n",
    "from astropy.time import Time\n",
    "from datetime import datetime, timedelta\n",
    "from astropy.io import fits\n",
    "import shutil \n",
    "\n",
    "import ysfitsutilpy as yfu\n",
    "#import ysphotutilpy as ypu\n",
    "#import ysvisutilpy as yvu\n",
    "\n",
    "import _astro_utilities\n",
    "import _Python_utilities"
   ]
  },
  {
   "cell_type": "code",
   "execution_count": 134,
   "metadata": {},
   "outputs": [
    {
     "name": "stdout",
     "output_type": "stream",
     "text": [
      "DOINGDIRs:  ['/mnt/Rdata/ASTRO_data/C1-Variable/-_-_-_2016-_-_RiLA600_STX-16803_-_2bin/BL-CAM_LIGHT_-_2016-10-03_-_RiLA600_STX-16803_-_2bin/', '/mnt/Rdata/ASTRO_data/C1-Variable/-_-_-_2016-_-_RiLA600_STX-16803_-_2bin/BL-CAM_LIGHT_-_2016-10-08_-_RiLA600_STX-16803_-_2bin/', '/mnt/Rdata/ASTRO_data/C1-Variable/-_-_-_2016-_-_RiLA600_STX-16803_-_2bin/BL-CAM_LIGHT_-_2016-10-09_-_RiLA600_STX-16803_-_2bin/', '/mnt/Rdata/ASTRO_data/C1-Variable/-_-_-_2016-_-_RiLA600_STX-16803_-_2bin/BL-CAM_LIGHT_-_2016-10-13_-_RiLA600_STX-16803_-_2bin/', '/mnt/Rdata/ASTRO_data/C1-Variable/-_-_-_2016-_-_RiLA600_STX-16803_-_2bin/BL-CAM_LIGHT_-_2016-11-08_-_RiLA600_STX-16803_-_2bin/', '/mnt/Rdata/ASTRO_data/C1-Variable/-_-_-_2016-_-_RiLA600_STX-16803_-_2bin/BL-CAM_LIGHT_-_2016-11-11_-_RiLA600_STX-16803_-_2bin/', '/mnt/Rdata/ASTRO_data/C1-Variable/-_-_-_2016-_-_RiLA600_STX-16803_-_2bin/BL-CAM_LIGHT_-_2016-11-15_-_RiLA600_STX-16803_-_2bin/', '/mnt/Rdata/ASTRO_data/C1-Variable/-_-_-_2016-_-_RiLA600_STX-16803_-_2bin/BL-CAM_LIGHT_-_2016-11-16_-_RiLA600_STX-16803_-_2bin/', '/mnt/Rdata/ASTRO_data/C1-Variable/-_-_-_2016-_-_RiLA600_STX-16803_-_2bin/BL-CAM_LIGHT_-_2016-11-17_-_RiLA600_STX-16803_-_2bin/', '/mnt/Rdata/ASTRO_data/C1-Variable/-_-_-_2016-_-_RiLA600_STX-16803_-_2bin/BL-CAM_LIGHT_-_2016-11-20_-_RiLA600_STX-16803_-_2bin/', '/mnt/Rdata/ASTRO_data/C1-Variable/-_-_-_2016-_-_RiLA600_STX-16803_-_2bin/BL-CAM_LIGHT_-_2016-11-28_-_RiLA600_STX-16803_-_2bin/', '/mnt/Rdata/ASTRO_data/C1-Variable/-_-_-_2016-_-_RiLA600_STX-16803_-_2bin/BL-CAM_LIGHT_-_2016-12-01_-_RiLA600_STX-16803_-_2bin/', '/mnt/Rdata/ASTRO_data/C1-Variable/-_-_-_2016-_-_RiLA600_STX-16803_-_2bin/BL-CAM_LIGHT_-_2016-12-02_-_RiLA600_STX-16803_-_2bin/', '/mnt/Rdata/ASTRO_data/C1-Variable/-_-_-_2016-_-_RiLA600_STX-16803_-_2bin/BL-CAM_LIGHT_-_2016-12-05_-_RiLA600_STX-16803_-_2bin/', '/mnt/Rdata/ASTRO_data/C1-Variable/-_-_-_2016-_-_RiLA600_STX-16803_-_2bin/BL-CAM_LIGHT_-_2016-12-07_-_RiLA600_STX-16803_-_2bin/', '/mnt/Rdata/ASTRO_data/C1-Variable/-_-_-_2016-_-_RiLA600_STX-16803_-_2bin/BL-CAM_LIGHT_-_2016-12-09_-_RiLA600_STX-16803_-_2bin/', '/mnt/Rdata/ASTRO_data/C1-Variable/-_-_-_2016-_-_RiLA600_STX-16803_-_2bin/BL-CAM_LIGHT_-_2016-12-27_-_RiLA600_STX-16803_-_2bin/', '/mnt/Rdata/ASTRO_data/C1-Variable/-_-_-_2016-_-_RiLA600_STX-16803_-_2bin/BL-CAM_LIGHT_-_2016-12-29_-_RiLA600_STX-16803_-_2bin/', '/mnt/Rdata/ASTRO_data/C1-Variable/-_-_-_2016-_-_RiLA600_STX-16803_-_2bin/CAL-BDF_-_-_2016-09_-_RiLA600_STX-16803_-_2bin/', '/mnt/Rdata/ASTRO_data/C1-Variable/-_-_-_2016-_-_RiLA600_STX-16803_-_2bin/CM-CYG_LIGHT_-_2016-10-14_-_RiLA600_STX-16803_-_2bin/', '/mnt/Rdata/ASTRO_data/C1-Variable/-_-_-_2016-_-_RiLA600_STX-16803_-_2bin/CM-CYG_LIGHT_-_2016-10-18_-_RiLA600_STX-16803_-_2bin/', '/mnt/Rdata/ASTRO_data/C1-Variable/-_-_-_2016-_-_RiLA600_STX-16803_-_2bin/CY-AQR_LIGHT_-_2016-09-05_-_RiLA600_STX-16803_-_2bin/', '/mnt/Rdata/ASTRO_data/C1-Variable/-_-_-_2016-_-_RiLA600_STX-16803_-_2bin/CY-AQR_LIGHT_-_2016-09-22_-_RiLA600_STX-16803_-_2bin/', '/mnt/Rdata/ASTRO_data/C1-Variable/-_-_-_2016-_-_RiLA600_STX-16803_-_2bin/CY-AQR_LIGHT_-_2016-10-03_-_RiLA600_STX-16803_-_2bin/', '/mnt/Rdata/ASTRO_data/C1-Variable/-_-_-_2016-_-_RiLA600_STX-16803_-_2bin/CY-AQR_LIGHT_-_2016-10-13_-_RiLA600_STX-16803_-_2bin/', '/mnt/Rdata/ASTRO_data/C1-Variable/-_-_-_2016-_-_RiLA600_STX-16803_-_2bin/CY-AQR_LIGHT_-_2016-11-01_-_RiLA600_STX-16803_-_2bin/', '/mnt/Rdata/ASTRO_data/C1-Variable/-_-_-_2016-_-_RiLA600_STX-16803_-_2bin/TT-ARI_LIGHT_-_2016-09-05_-_RiLA600_STX-16803_-_2bin/', '/mnt/Rdata/ASTRO_data/C1-Variable/-_-_-_2016-_-_RiLA600_STX-16803_-_2bin/TT-ARI_LIGHT_-_2016-09-18_-_RiLA600_STX-16803_-_2bin/', '/mnt/Rdata/ASTRO_data/C1-Variable/-_-_-_2016-_-_RiLA600_STX-16803_-_2bin/TT-ARI_LIGHT_-_2016-09-19_-_RiLA600_STX-16803_-_2bin/', '/mnt/Rdata/ASTRO_data/C1-Variable/-_-_-_2016-_-_RiLA600_STX-16803_-_2bin/TT-ARI_LIGHT_-_2016-09-20_-_RiLA600_STX-16803_-_2bin/', '/mnt/Rdata/ASTRO_data/C1-Variable/-_-_-_2016-_-_RiLA600_STX-16803_-_2bin/TT-ARI_LIGHT_-_2016-09-22_-_RiLA600_STX-16803_-_2bin/', '/mnt/Rdata/ASTRO_data/C1-Variable/-_-_-_2016-_-_RiLA600_STX-16803_-_2bin/TT-ARI_LIGHT_-_2016-10-18_-_RiLA600_STX-16803_-_2bin/', '/mnt/Rdata/ASTRO_data/C1-Variable/-_-_-_2016-_-_RiLA600_STX-16803_-_2bin/TT-ARI_LIGHT_-_2016-11-23_-_RiLA600_STX-16803_-_2bin/', '/mnt/Rdata/ASTRO_data/C1-Variable/-_-_-_2016-_-_RiLA600_STX-16803_-_2bin/TT-ARI_LIGHT_-_2016-11-24_-_RiLA600_STX-16803_-_2bin/', '/mnt/Rdata/ASTRO_data/C1-Variable/-_-_-_2016-_-_RiLA600_STX-16803_-_2bin/TT-ARI_LIGHT_-_2016-11-25_-_RiLA600_STX-16803_-_2bin/', '/mnt/Rdata/ASTRO_data/C1-Variable/-_-_-_2016-_-_RiLA600_STX-16803_-_2bin/TT-ARI_LIGHT_-_2016-11-28_-_RiLA600_STX-16803_-_2bin/', '/mnt/Rdata/ASTRO_data/C1-Variable/-_-_-_2016-_-_RiLA600_STX-16803_-_2bin/TT-ARI_LIGHT_-_2016-11-29_-_RiLA600_STX-16803_-_2bin/', '/mnt/Rdata/ASTRO_data/C1-Variable/-_-_-_2016-_-_RiLA600_STX-16803_-_2bin/TT-ARI_LIGHT_-_2016-12-01_-_RiLA600_STX-16803_-_2bin/', '/mnt/Rdata/ASTRO_data/C1-Variable/-_-_-_2016-_-_RiLA600_STX-16803_-_2bin/TT-ARI_LIGHT_-_2016-12-02_-_RiLA600_STX-16803_-_2bin/', '/mnt/Rdata/ASTRO_data/C1-Variable/-_-_-_2016-_-_RiLA600_STX-16803_-_2bin/TT-ARI_LIGHT_-_2016-12-06_-_RiLA600_STX-16803_-_2bin/', '/mnt/Rdata/ASTRO_data/C1-Variable/-_-_-_2016-_-_RiLA600_STX-16803_-_2bin/TT-ARI_LIGHT_-_2016-12-07_-_RiLA600_STX-16803_-_2bin/', '/mnt/Rdata/ASTRO_data/C1-Variable/-_-_-_2016-_-_RiLA600_STX-16803_-_2bin/TT-ARI_LIGHT_-_2016-12-09_-_RiLA600_STX-16803_-_2bin/', '/mnt/Rdata/ASTRO_data/C1-Variable/-_-_-_2016-_-_RiLA600_STX-16803_-_2bin/TT-ARI_LIGHT_-_2016-12-10_-_RiLA600_STX-16803_-_2bin/', '/mnt/Rdata/ASTRO_data/C1-Variable/-_-_-_2016-_-_RiLA600_STX-16803_-_2bin/TT-ARI_LIGHT_-_2016-12-11_-_RiLA600_STX-16803_-_2bin/', '/mnt/Rdata/ASTRO_data/C1-Variable/-_-_-_2016-_-_RiLA600_STX-16803_-_2bin/TT-ARI_LIGHT_-_2016-12-15_-_RiLA600_STX-16803_-_2bin/']\n",
      "len(DOINGDIRs):  45\n",
      "BDFDIR:  ['/mnt/Rdata/ASTRO_data/C1-Variable/-_-_-_2016-_-_RiLA600_STX-16803_-_2bin/CAL-BDF_-_-_2016-09_-_RiLA600_STX-16803_-_2bin/']\n",
      "MASTERDIR:  /mnt/Rdata/ASTRO_data/C1-Variable/-_-_-_2016-_-_RiLA600_STX-16803_-_2bin/CAL-BDF_-_-_2016-09_-_RiLA600_STX-16803_-_2bin/master_files_ys\n",
      "DOINGDIRs:  ['/mnt/Rdata/ASTRO_data/C1-Variable/-_-_-_2016-_-_RiLA600_STX-16803_-_2bin/BL-CAM_LIGHT_-_2016-10-03_-_RiLA600_STX-16803_-_2bin/', '/mnt/Rdata/ASTRO_data/C1-Variable/-_-_-_2016-_-_RiLA600_STX-16803_-_2bin/BL-CAM_LIGHT_-_2016-10-08_-_RiLA600_STX-16803_-_2bin/', '/mnt/Rdata/ASTRO_data/C1-Variable/-_-_-_2016-_-_RiLA600_STX-16803_-_2bin/BL-CAM_LIGHT_-_2016-10-09_-_RiLA600_STX-16803_-_2bin/', '/mnt/Rdata/ASTRO_data/C1-Variable/-_-_-_2016-_-_RiLA600_STX-16803_-_2bin/BL-CAM_LIGHT_-_2016-10-13_-_RiLA600_STX-16803_-_2bin/', '/mnt/Rdata/ASTRO_data/C1-Variable/-_-_-_2016-_-_RiLA600_STX-16803_-_2bin/BL-CAM_LIGHT_-_2016-11-08_-_RiLA600_STX-16803_-_2bin/', '/mnt/Rdata/ASTRO_data/C1-Variable/-_-_-_2016-_-_RiLA600_STX-16803_-_2bin/BL-CAM_LIGHT_-_2016-11-11_-_RiLA600_STX-16803_-_2bin/', '/mnt/Rdata/ASTRO_data/C1-Variable/-_-_-_2016-_-_RiLA600_STX-16803_-_2bin/BL-CAM_LIGHT_-_2016-11-15_-_RiLA600_STX-16803_-_2bin/', '/mnt/Rdata/ASTRO_data/C1-Variable/-_-_-_2016-_-_RiLA600_STX-16803_-_2bin/BL-CAM_LIGHT_-_2016-11-16_-_RiLA600_STX-16803_-_2bin/', '/mnt/Rdata/ASTRO_data/C1-Variable/-_-_-_2016-_-_RiLA600_STX-16803_-_2bin/BL-CAM_LIGHT_-_2016-11-17_-_RiLA600_STX-16803_-_2bin/', '/mnt/Rdata/ASTRO_data/C1-Variable/-_-_-_2016-_-_RiLA600_STX-16803_-_2bin/BL-CAM_LIGHT_-_2016-11-20_-_RiLA600_STX-16803_-_2bin/', '/mnt/Rdata/ASTRO_data/C1-Variable/-_-_-_2016-_-_RiLA600_STX-16803_-_2bin/BL-CAM_LIGHT_-_2016-11-28_-_RiLA600_STX-16803_-_2bin/', '/mnt/Rdata/ASTRO_data/C1-Variable/-_-_-_2016-_-_RiLA600_STX-16803_-_2bin/BL-CAM_LIGHT_-_2016-12-01_-_RiLA600_STX-16803_-_2bin/', '/mnt/Rdata/ASTRO_data/C1-Variable/-_-_-_2016-_-_RiLA600_STX-16803_-_2bin/BL-CAM_LIGHT_-_2016-12-02_-_RiLA600_STX-16803_-_2bin/', '/mnt/Rdata/ASTRO_data/C1-Variable/-_-_-_2016-_-_RiLA600_STX-16803_-_2bin/BL-CAM_LIGHT_-_2016-12-05_-_RiLA600_STX-16803_-_2bin/', '/mnt/Rdata/ASTRO_data/C1-Variable/-_-_-_2016-_-_RiLA600_STX-16803_-_2bin/BL-CAM_LIGHT_-_2016-12-07_-_RiLA600_STX-16803_-_2bin/', '/mnt/Rdata/ASTRO_data/C1-Variable/-_-_-_2016-_-_RiLA600_STX-16803_-_2bin/BL-CAM_LIGHT_-_2016-12-09_-_RiLA600_STX-16803_-_2bin/', '/mnt/Rdata/ASTRO_data/C1-Variable/-_-_-_2016-_-_RiLA600_STX-16803_-_2bin/BL-CAM_LIGHT_-_2016-12-27_-_RiLA600_STX-16803_-_2bin/', '/mnt/Rdata/ASTRO_data/C1-Variable/-_-_-_2016-_-_RiLA600_STX-16803_-_2bin/BL-CAM_LIGHT_-_2016-12-29_-_RiLA600_STX-16803_-_2bin/', '/mnt/Rdata/ASTRO_data/C1-Variable/-_-_-_2016-_-_RiLA600_STX-16803_-_2bin/CM-CYG_LIGHT_-_2016-10-14_-_RiLA600_STX-16803_-_2bin/', '/mnt/Rdata/ASTRO_data/C1-Variable/-_-_-_2016-_-_RiLA600_STX-16803_-_2bin/CM-CYG_LIGHT_-_2016-10-18_-_RiLA600_STX-16803_-_2bin/', '/mnt/Rdata/ASTRO_data/C1-Variable/-_-_-_2016-_-_RiLA600_STX-16803_-_2bin/CY-AQR_LIGHT_-_2016-09-05_-_RiLA600_STX-16803_-_2bin/', '/mnt/Rdata/ASTRO_data/C1-Variable/-_-_-_2016-_-_RiLA600_STX-16803_-_2bin/CY-AQR_LIGHT_-_2016-09-22_-_RiLA600_STX-16803_-_2bin/', '/mnt/Rdata/ASTRO_data/C1-Variable/-_-_-_2016-_-_RiLA600_STX-16803_-_2bin/CY-AQR_LIGHT_-_2016-10-03_-_RiLA600_STX-16803_-_2bin/', '/mnt/Rdata/ASTRO_data/C1-Variable/-_-_-_2016-_-_RiLA600_STX-16803_-_2bin/CY-AQR_LIGHT_-_2016-10-13_-_RiLA600_STX-16803_-_2bin/', '/mnt/Rdata/ASTRO_data/C1-Variable/-_-_-_2016-_-_RiLA600_STX-16803_-_2bin/CY-AQR_LIGHT_-_2016-11-01_-_RiLA600_STX-16803_-_2bin/', '/mnt/Rdata/ASTRO_data/C1-Variable/-_-_-_2016-_-_RiLA600_STX-16803_-_2bin/TT-ARI_LIGHT_-_2016-09-05_-_RiLA600_STX-16803_-_2bin/', '/mnt/Rdata/ASTRO_data/C1-Variable/-_-_-_2016-_-_RiLA600_STX-16803_-_2bin/TT-ARI_LIGHT_-_2016-09-18_-_RiLA600_STX-16803_-_2bin/', '/mnt/Rdata/ASTRO_data/C1-Variable/-_-_-_2016-_-_RiLA600_STX-16803_-_2bin/TT-ARI_LIGHT_-_2016-09-19_-_RiLA600_STX-16803_-_2bin/', '/mnt/Rdata/ASTRO_data/C1-Variable/-_-_-_2016-_-_RiLA600_STX-16803_-_2bin/TT-ARI_LIGHT_-_2016-09-20_-_RiLA600_STX-16803_-_2bin/', '/mnt/Rdata/ASTRO_data/C1-Variable/-_-_-_2016-_-_RiLA600_STX-16803_-_2bin/TT-ARI_LIGHT_-_2016-09-22_-_RiLA600_STX-16803_-_2bin/', '/mnt/Rdata/ASTRO_data/C1-Variable/-_-_-_2016-_-_RiLA600_STX-16803_-_2bin/TT-ARI_LIGHT_-_2016-10-18_-_RiLA600_STX-16803_-_2bin/', '/mnt/Rdata/ASTRO_data/C1-Variable/-_-_-_2016-_-_RiLA600_STX-16803_-_2bin/TT-ARI_LIGHT_-_2016-11-23_-_RiLA600_STX-16803_-_2bin/', '/mnt/Rdata/ASTRO_data/C1-Variable/-_-_-_2016-_-_RiLA600_STX-16803_-_2bin/TT-ARI_LIGHT_-_2016-11-24_-_RiLA600_STX-16803_-_2bin/', '/mnt/Rdata/ASTRO_data/C1-Variable/-_-_-_2016-_-_RiLA600_STX-16803_-_2bin/TT-ARI_LIGHT_-_2016-11-25_-_RiLA600_STX-16803_-_2bin/', '/mnt/Rdata/ASTRO_data/C1-Variable/-_-_-_2016-_-_RiLA600_STX-16803_-_2bin/TT-ARI_LIGHT_-_2016-11-28_-_RiLA600_STX-16803_-_2bin/', '/mnt/Rdata/ASTRO_data/C1-Variable/-_-_-_2016-_-_RiLA600_STX-16803_-_2bin/TT-ARI_LIGHT_-_2016-11-29_-_RiLA600_STX-16803_-_2bin/', '/mnt/Rdata/ASTRO_data/C1-Variable/-_-_-_2016-_-_RiLA600_STX-16803_-_2bin/TT-ARI_LIGHT_-_2016-12-01_-_RiLA600_STX-16803_-_2bin/', '/mnt/Rdata/ASTRO_data/C1-Variable/-_-_-_2016-_-_RiLA600_STX-16803_-_2bin/TT-ARI_LIGHT_-_2016-12-02_-_RiLA600_STX-16803_-_2bin/', '/mnt/Rdata/ASTRO_data/C1-Variable/-_-_-_2016-_-_RiLA600_STX-16803_-_2bin/TT-ARI_LIGHT_-_2016-12-06_-_RiLA600_STX-16803_-_2bin/', '/mnt/Rdata/ASTRO_data/C1-Variable/-_-_-_2016-_-_RiLA600_STX-16803_-_2bin/TT-ARI_LIGHT_-_2016-12-07_-_RiLA600_STX-16803_-_2bin/', '/mnt/Rdata/ASTRO_data/C1-Variable/-_-_-_2016-_-_RiLA600_STX-16803_-_2bin/TT-ARI_LIGHT_-_2016-12-09_-_RiLA600_STX-16803_-_2bin/', '/mnt/Rdata/ASTRO_data/C1-Variable/-_-_-_2016-_-_RiLA600_STX-16803_-_2bin/TT-ARI_LIGHT_-_2016-12-10_-_RiLA600_STX-16803_-_2bin/', '/mnt/Rdata/ASTRO_data/C1-Variable/-_-_-_2016-_-_RiLA600_STX-16803_-_2bin/TT-ARI_LIGHT_-_2016-12-11_-_RiLA600_STX-16803_-_2bin/', '/mnt/Rdata/ASTRO_data/C1-Variable/-_-_-_2016-_-_RiLA600_STX-16803_-_2bin/TT-ARI_LIGHT_-_2016-12-15_-_RiLA600_STX-16803_-_2bin/']\n",
      "len(DOINGDIRs):  44\n"
     ]
    }
   ],
   "source": [
    "#%%\n",
    "#######################################################\n",
    "BASEDIR = Path(\"/mnt/Rdata/ASTRO_data\")  \n",
    "\n",
    "PROJECDIR = BASEDIR / \"C1-Variable\"\n",
    "TODODIR = PROJECDIR / \"-_-_-_2016-_-_RiLA600_STX-16803_-_2bin\"\n",
    "# TODODIR = PROJECDIR / \"-_-_-_2017-01_-_RiLA600_STX-16803_-_2bin\"\n",
    "# TODODIR = PROJECDIR / \"-_-_-_2017-03_-_RiLA600_STX-16803_-_2bin\"\n",
    "# TODODIR = PROJECDIR / \"-_-_-_2017-05_-_RiLA600_STX-16803_-_2bin\"\n",
    "# TODODIR = PROJECDIR / \"-_-_-_2017-06_-_RiLA600_STX-16803_-_2bin\"\n",
    "# TODODIR = PROJECDIR / \"-_-_-_2021-10_-_RiLA600_STX-16803_-_2bin\"\n",
    "# TODODIR = PROJECDIR / \"-_-_-_2022-01_-_RiLA600_STX-16803_-_2bin\"\n",
    "\n",
    "# PROJECDIR = BASEDIR / \"C2-Asteroid\"\n",
    "# TODODIR = PROJECDIR / \"-_-_-_2022-_-_GSON300_STF-8300M_-_1bin\"\n",
    "# TODODIR = PROJECDIR / \"-_-_-_2022-_-_RiLA600_STX-16803_-_1bin\"\n",
    "# TODODIR = PROJECDIR / \"-_-_-_2022-_-_RiLA600_STX-16803_-_2bin\"\n",
    "# TODODIR = PROJECDIR / \"-_-_-_2023-_-_GSON300_STF-8300M_-_1bin\"\n",
    "# TODODIR = PROJECDIR / \"-_-_-_2023-_-_RiLA600_STX-16803_-_1bin\"\n",
    "# TODODIR = PROJECDIR / \"-_-_-_2023-_-_RiLA600_STX-16803_-_2bin\"\n",
    "\n",
    "# PROJECDIR = BASEDIR / \"C3-EXO\"\n",
    "# TODODIR = PROJECDIR / \"-_-_-_2024-05_-_GSON300_STF-8300M_-_1bin\"\n",
    "# TODODIR = PROJECDIR / \"-_-_-_2024-05_-_RiLA600_STX-16803_-_1bin\"\n",
    "# TODODIR = PROJECDIR / \"-_-_-_2024-06_-_GSON300_STF-8300M_-_1bin\"\n",
    "# TODODIR = PROJECDIR / \"-_-_-_2024-06_-_RiLA600_STX-16803_-_2bin\"\n",
    "\n",
    "# PROJECDIR = BASEDIR / \"C4-Spectra\"\n",
    "# TODODIR = PROJECDIR / \"-_-_-_2024-05_TEC140_ASI183MMPro_-_1bin\"\n",
    "\n",
    "DOINGDIRs = sorted(_Python_utilities.getFullnameListOfsubDirs(TODODIR))\n",
    "print (\"DOINGDIRs: \", format(DOINGDIRs))\n",
    "print (\"len(DOINGDIRs): \", format(len(DOINGDIRs)))\n",
    "\n",
    "try : \n",
    "    BDFDIR = [x for x in DOINGDIRs if \"CAL-BDF\" in str(x)]\n",
    "    print (\"BDFDIR: \", format(BDFDIR))\n",
    "    MASTERDIR = Path(BDFDIR[0]) / _astro_utilities.master_dir\n",
    "    if not MASTERDIR.exists():\n",
    "        os.makedirs(\"{}\".format(str(MASTERDIR)))\n",
    "        print(\"{} is created...\".format(str(MASTERDIR)))\n",
    "    print (\"MASTERDIR: \", format(MASTERDIR))\n",
    "except : \n",
    "    pass\n",
    "\n",
    "DOINGDIRs = sorted([x for x in DOINGDIRs if \"_LIGHT_\" in str(x)])\n",
    "# print (\"DOINGDIRs: \", format(DOINGDIRs))\n",
    "# print (\"len(DOINGDIRs): \", format(len(DOINGDIRs)))\n",
    "\n",
    "# filter_str = 'BL'\n",
    "# DOINGDIRs = [x for x in DOINGDIRs if filter_str in str(x)]\n",
    "# remove = 'BIAS'\n",
    "# DOINGDIRs = [x for x in DOINGDIRs if remove not in x]\n",
    "# remove = 'DARK'\n",
    "# DOINGDIRs = [x for x in DOINGDIRs if remove not in x]\n",
    "# remove = 'FLAT'\n",
    "# DOINGDIRs = [x for x in DOINGDIRs if remove not in x]\n",
    "print (\"DOINGDIRs: \", DOINGDIRs)\n",
    "print (\"len(DOINGDIRs): \", len(DOINGDIRs))"
   ]
  },
  {
   "cell_type": "code",
   "execution_count": 135,
   "metadata": {},
   "outputs": [],
   "source": [
    "# DOINGDIRs[7]"
   ]
  },
  {
   "cell_type": "code",
   "execution_count": 136,
   "metadata": {},
   "outputs": [
    {
     "name": "stdout",
     "output_type": "stream",
     "text": [
      "Starting: BL-CAM_LIGHT_-_2016-10-03_-_RiLA600_STX-16803_-_2bin\n",
      "Starting: BL-CAM_LIGHT_-_2016-10-08_-_RiLA600_STX-16803_-_2bin\n",
      "Starting: BL-CAM_LIGHT_-_2016-10-09_-_RiLA600_STX-16803_-_2bin\n",
      "Starting: BL-CAM_LIGHT_-_2016-10-13_-_RiLA600_STX-16803_-_2bin\n",
      "Starting: BL-CAM_LIGHT_-_2016-11-08_-_RiLA600_STX-16803_-_2bin\n",
      "Starting: BL-CAM_LIGHT_-_2016-11-11_-_RiLA600_STX-16803_-_2bin\n",
      "Starting: BL-CAM_LIGHT_-_2016-11-15_-_RiLA600_STX-16803_-_2bin\n",
      "Starting: BL-CAM_LIGHT_-_2016-11-16_-_RiLA600_STX-16803_-_2bin\n",
      "Starting: BL-CAM_LIGHT_-_2016-11-17_-_RiLA600_STX-16803_-_2bin\n",
      "Starting: BL-CAM_LIGHT_-_2016-11-20_-_RiLA600_STX-16803_-_2bin\n",
      "Starting: BL-CAM_LIGHT_-_2016-11-28_-_RiLA600_STX-16803_-_2bin\n",
      "Starting: BL-CAM_LIGHT_-_2016-12-01_-_RiLA600_STX-16803_-_2bin\n",
      "Starting: BL-CAM_LIGHT_-_2016-12-02_-_RiLA600_STX-16803_-_2bin\n",
      "Starting: BL-CAM_LIGHT_-_2016-12-05_-_RiLA600_STX-16803_-_2bin\n",
      "Starting: BL-CAM_LIGHT_-_2016-12-07_-_RiLA600_STX-16803_-_2bin\n",
      "Starting: BL-CAM_LIGHT_-_2016-12-09_-_RiLA600_STX-16803_-_2bin\n",
      "Starting: BL-CAM_LIGHT_-_2016-12-27_-_RiLA600_STX-16803_-_2bin\n",
      "Starting: BL-CAM_LIGHT_-_2016-12-29_-_RiLA600_STX-16803_-_2bin\n",
      "Starting: CM-CYG_LIGHT_-_2016-10-14_-_RiLA600_STX-16803_-_2bin\n",
      "Starting: CM-CYG_LIGHT_-_2016-10-18_-_RiLA600_STX-16803_-_2bin\n",
      "Starting: CY-AQR_LIGHT_-_2016-09-05_-_RiLA600_STX-16803_-_2bin\n",
      "Starting: CY-AQR_LIGHT_-_2016-09-22_-_RiLA600_STX-16803_-_2bin\n",
      "Starting: CY-AQR_LIGHT_-_2016-10-03_-_RiLA600_STX-16803_-_2bin\n",
      "Starting: CY-AQR_LIGHT_-_2016-10-13_-_RiLA600_STX-16803_-_2bin\n",
      "Starting: CY-AQR_LIGHT_-_2016-11-01_-_RiLA600_STX-16803_-_2bin\n",
      "Starting: TT-ARI_LIGHT_-_2016-09-05_-_RiLA600_STX-16803_-_2bin\n",
      "Starting: TT-ARI_LIGHT_-_2016-09-18_-_RiLA600_STX-16803_-_2bin\n",
      "Starting: TT-ARI_LIGHT_-_2016-09-19_-_RiLA600_STX-16803_-_2bin\n",
      "Starting: TT-ARI_LIGHT_-_2016-09-20_-_RiLA600_STX-16803_-_2bin\n",
      "Starting: TT-ARI_LIGHT_-_2016-09-22_-_RiLA600_STX-16803_-_2bin\n",
      "Starting: TT-ARI_LIGHT_-_2016-10-18_-_RiLA600_STX-16803_-_2bin\n",
      "Starting: TT-ARI_LIGHT_-_2016-11-23_-_RiLA600_STX-16803_-_2bin\n",
      "Starting: TT-ARI_LIGHT_-_2016-11-24_-_RiLA600_STX-16803_-_2bin\n",
      "Starting: TT-ARI_LIGHT_-_2016-11-25_-_RiLA600_STX-16803_-_2bin\n",
      "Starting: TT-ARI_LIGHT_-_2016-11-28_-_RiLA600_STX-16803_-_2bin\n",
      "Starting: TT-ARI_LIGHT_-_2016-11-29_-_RiLA600_STX-16803_-_2bin\n",
      "Starting: TT-ARI_LIGHT_-_2016-12-01_-_RiLA600_STX-16803_-_2bin\n",
      "Starting: TT-ARI_LIGHT_-_2016-12-02_-_RiLA600_STX-16803_-_2bin\n",
      "Starting: TT-ARI_LIGHT_-_2016-12-06_-_RiLA600_STX-16803_-_2bin\n",
      "Starting: TT-ARI_LIGHT_-_2016-12-07_-_RiLA600_STX-16803_-_2bin\n",
      "Starting: TT-ARI_LIGHT_-_2016-12-09_-_RiLA600_STX-16803_-_2bin\n",
      "Starting: TT-ARI_LIGHT_-_2016-12-10_-_RiLA600_STX-16803_-_2bin\n",
      "Starting: TT-ARI_LIGHT_-_2016-12-11_-_RiLA600_STX-16803_-_2bin\n",
      "Starting: TT-ARI_LIGHT_-_2016-12-15_-_RiLA600_STX-16803_-_2bin\n"
     ]
    }
   ],
   "source": [
    "for DOINGDIR in DOINGDIRs[:] : \n",
    "    DOINGDIR = Path(DOINGDIR)\n",
    "    print(f\"Starting: {str(DOINGDIR.parts[-1])}\")\n",
    "    if (DOINGDIR / f\"reduced_DPhot_Mag12.5\").exists():\n",
    "        shutil.move(str(DOINGDIR / f\"reduced_DPhot_Mag12.5\"),\n",
    "                        DOINGDIR / f\"reduced_DPhot_Mag12.5_fw6\")\n",
    "    if (DOINGDIR / f\"reduced_nightsky_DPhot_Mag12.5\").exists() :\n",
    "        shutil.move(str(DOINGDIR / f\"reduced_nightsky_DPhot_Mag12.5\"),\n",
    "                        DOINGDIR / f\"reduced_nightsky_DPhot_Mag12.5_fw6\")\n",
    "    if (DOINGDIR / f\"reduced_DPhot_Mag11\").exists():\n",
    "        shutil.move(str(DOINGDIR / f\"reduced_DPhot_Mag11\"),\n",
    "                        DOINGDIR / f\"reduced_DPhot_Mag11_fw6\")\n",
    "    if (DOINGDIR / f\"reduced_nightsky_DPhot_Mag11\").exists() :\n",
    "        shutil.move(str(DOINGDIR / f\"reduced_nightsky_DPhot_Mag11\"),\n",
    "                        DOINGDIR / f\"reduced_nightsky_DPhot_Mag11_fw6\")"
   ]
  },
  {
   "cell_type": "code",
   "execution_count": 137,
   "metadata": {},
   "outputs": [],
   "source": [
    "# for DOINGDIR in DOINGDIRs[:] : \n",
    "#     DOINGDIR = Path(DOINGDIR)\n",
    "#     print(f\"Starting: {str(DOINGDIR.parts[-1])}\")\n",
    "#     fits_in_dir = sorted(list(DOINGDIR.glob('*.fit*')))\n",
    "#     #print(\"fits_in_dir\", fits_in_dir)\n",
    "#     print(\"len(fits_in_dir)\", len(fits_in_dir))\n",
    "\n",
    "#     if len(fits_in_dir) == 0 :\n",
    "#         print(f\"There is no fits fils in {DOINGDIR}\")\n",
    "#         pass\n",
    "#     else : \n",
    "#         summary = None \n",
    "#         summary = yfu.make_summary(DOINGDIR/\"*.fit*\",\n",
    "#                     #output = save_fpath,\n",
    "#                     verbose = False\n",
    "#                     )\n",
    "#         print(\"summary: \", summary)\n",
    "#         print(\"len(summary)\", len(summary))"
   ]
  },
  {
   "cell_type": "code",
   "execution_count": 138,
   "metadata": {},
   "outputs": [],
   "source": [
    "# for _, row in summary.iterrows():\n",
    "#     fpath = Path(row[\"file\"])\n",
    "#     print (f\"starting {fpath.name}...\")\n",
    "#     if fpath.suffix == \".fit\" and \\\n",
    "#         (fpath.parents[0]/f\"{fpath.stem}.fits\").exists() : \n",
    "#         os.remove(fpath)\n",
    "#         print(f\"{fpath.name} is removed\")"
   ]
  },
  {
   "cell_type": "code",
   "execution_count": 139,
   "metadata": {},
   "outputs": [],
   "source": [
    "# for DOINGDIR in DOINGDIRs[:] : \n",
    "#     DOINGDIR = Path(DOINGDIR)\n",
    "#     print(f\"Starting: {str(DOINGDIR.parts[-1])}\")\n",
    "#     fits_in_dir = sorted(list(DOINGDIR.glob('*.fit*')))\n",
    "#     #print(\"fits_in_dir\", fits_in_dir)\n",
    "#     print(\"len(fits_in_dir)\", len(fits_in_dir))\n",
    "\n",
    "#     if len(fits_in_dir) == 0 :\n",
    "#         print(f\"There is no fits fils in {DOINGDIR}\")\n",
    "#         pass\n",
    "#     else : \n",
    "#         summary = None \n",
    "#         summary = yfu.make_summary(DOINGDIR/\"*.fit*\",\n",
    "#                     #output = save_fpath,\n",
    "#                     verbose = False\n",
    "#                     )\n",
    "#         print(\"summary: \", summary)\n",
    "#         print(\"len(summary)\", len(summary))\n",
    "\n",
    "#         for _, row in summary.iterrows():\n",
    "#             fpath = Path(row[\"file\"])\n",
    "#             print (f\"starting {fpath.name}...\")\n",
    "#             if {fpath.suffix} == \".fit\" and \\\n",
    "#                 (fpath.parents[0]/f\"{fpath.stem}.fits\").exists() : \n",
    "#                 os.remove(fpath)\n",
    "#                 print(f\"{fpath.name} is removed\")"
   ]
  },
  {
   "cell_type": "code",
   "execution_count": 140,
   "metadata": {},
   "outputs": [],
   "source": [
    "# fpath.suffix\n",
    "# fpath.parent"
   ]
  }
 ],
 "metadata": {
  "kernelspec": {
   "display_name": "astro_Python_ubuntu_env",
   "language": "python",
   "name": "python3"
  },
  "language_info": {
   "codemirror_mode": {
    "name": "ipython",
    "version": 3
   },
   "file_extension": ".py",
   "mimetype": "text/x-python",
   "name": "python",
   "nbconvert_exporter": "python",
   "pygments_lexer": "ipython3",
   "version": "3.12.3"
  },
  "orig_nbformat": 4,
  "vscode": {
   "interpreter": {
    "hash": "73147851ede918c26f741c84bca6ea3575da18885c8fa4aa4a9fbe5902a3c298"
   }
  }
 },
 "nbformat": 4,
 "nbformat_minor": 2
}
