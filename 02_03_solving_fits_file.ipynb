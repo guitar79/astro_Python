{
 "cells": [
  {
   "attachments": {},
   "cell_type": "markdown",
   "metadata": {},
   "source": [
    "# Plate solving fits file"
   ]
  },
  {
   "attachments": {},
   "cell_type": "markdown",
   "metadata": {},
   "source": [
    "## 모듈 설치 및 버전 확인\n",
    "\n",
    "아래 셀을 실행하면 이 노트북을 실행하는데 필요한 모듈을 설치하고 파이썬 및 관련 모듈의 버전을 확인할 수 있습니다."
   ]
  },
  {
   "attachments": {},
   "cell_type": "markdown",
   "metadata": {},
   "source": [
    "### 모듈 버전 확인\n",
    "\n",
    "아래 셀을 실행하면 이 노트북을 실행한 파이썬 및 관련 모듈의 버전을 확인할 수 있다."
   ]
  },
  {
   "cell_type": "code",
   "execution_count": 6,
   "metadata": {},
   "outputs": [
    {
     "name": "stdout",
     "output_type": "stream",
     "text": [
      "The version_information extension is already loaded. To reload it, use:\n",
      "  %reload_ext version_information\n",
      "This notebook was generated at 2024-12-09 23:39:34 (KST = GMT+0900) \n",
      "0 Python     3.12.7 64bit [GCC 11.2.0]\n",
      "1 IPython    8.27.0\n",
      "2 OS         Linux 6.8.0 49 generic x86_64 with glibc2.39\n",
      "3 ysfitsutilpy 0.2\n",
      "4 astropy    7.0.0\n",
      "5 version_information 1.0.4\n"
     ]
    }
   ],
   "source": [
    "import importlib, sys, subprocess\n",
    "packages = \"ysfitsutilpy, astropy, version_information\" # required modules\n",
    "pkgs = packages.split(\", \")\n",
    "\n",
    "for pkg in pkgs :\n",
    "    if not importlib.util.find_spec(pkg):\n",
    "        # print(f\"**** module {pkg} is not installed\")\n",
    "        subprocess.check_call([sys.executable, '-m', 'pip', 'install', pkg, '-q'])\n",
    "    else: \n",
    "        # print(f\"**** module {pkg} is installed\")\n",
    "        pass\n",
    "\n",
    "%load_ext version_information\n",
    "import time\n",
    "now = time.strftime(\"%Y-%m-%d %H:%M:%S (%Z = GMT%z)\")\n",
    "print(f\"This notebook was generated at {now} \")\n",
    "\n",
    "vv = %version_information {packages}\n",
    "for i, pkg in enumerate(vv.packages):\n",
    "    print(f\"{i} {pkg[0]:10s} {pkg[1]:s}\")"
   ]
  },
  {
   "attachments": {},
   "cell_type": "markdown",
   "metadata": {},
   "source": [
    "### import modules"
   ]
  },
  {
   "cell_type": "code",
   "execution_count": 7,
   "metadata": {},
   "outputs": [],
   "source": [
    "from glob import glob\n",
    "from pathlib import Path\n",
    "from astropy.io import fits\n",
    "\n",
    "import ysfitsutilpy as yfu\n",
    "\n",
    "import _astro_utilities\n",
    "import _Python_utilities\n",
    "\n",
    "import warnings\n",
    "warnings.filterwarnings('ignore')"
   ]
  },
  {
   "cell_type": "markdown",
   "metadata": {},
   "source": [
    "## 환경 설정"
   ]
  },
  {
   "cell_type": "code",
   "execution_count": 8,
   "metadata": {},
   "outputs": [
    {
     "name": "stdout",
     "output_type": "stream",
     "text": [
      "DOINGDIRs:  ['/mnt/Rdata/ASTRO_data/C3-EXO/-_-_-_2024-06_-_GSON300_STF-8300M_-_1bin/-_CAL-BDF_-_2024-05_-_GSON300_STF-8300M_-_1bin/', '/mnt/Rdata/ASTRO_data/C3-EXO/-_-_-_2024-06_-_GSON300_STF-8300M_-_1bin/HAT-P-23b_LIGHT_-_2024-08-03_-_GSON300_STF-8300M_-_1bin/', '/mnt/Rdata/ASTRO_data/C3-EXO/-_-_-_2024-06_-_GSON300_STF-8300M_-_1bin/HAT-P-23b_LIGHT_-_2024-08-31_-_GSON300_STF-8300M_-_1bin/', '/mnt/Rdata/ASTRO_data/C3-EXO/-_-_-_2024-06_-_GSON300_STF-8300M_-_1bin/HAT-P-37b_LIGHT_-_2024-06-28_-_GSON300_STF-8300M_-_1bin/', '/mnt/Rdata/ASTRO_data/C3-EXO/-_-_-_2024-06_-_GSON300_STF-8300M_-_1bin/HD189733b_LIGHT_-_2024-06-16_-_GSON300_STF-8300M_-_1bin/', '/mnt/Rdata/ASTRO_data/C3-EXO/-_-_-_2024-06_-_GSON300_STF-8300M_-_1bin/HD189733b_LIGHT_-_2024-06-27_-_GSON300_STF-8300M_-_1bin/', '/mnt/Rdata/ASTRO_data/C3-EXO/-_-_-_2024-06_-_GSON300_STF-8300M_-_1bin/Kepler-17b_LIGHT_-_2024-06-26_-_GSON300_STF-8300M_-_1bin/', '/mnt/Rdata/ASTRO_data/C3-EXO/-_-_-_2024-06_-_GSON300_STF-8300M_-_1bin/Qatar-10b_LIGHT_-_2024-06-02_-_GSON300_STF-8300M_-_1bin/', '/mnt/Rdata/ASTRO_data/C3-EXO/-_-_-_2024-06_-_GSON300_STF-8300M_-_1bin/Qatar-3b_LIGHT_-_2024-08-27_-_GSON300_STF-8300M_-_1bin/', '/mnt/Rdata/ASTRO_data/C3-EXO/-_-_-_2024-06_-_GSON300_STF-8300M_-_1bin/TrES-1b_LIGHT_-_2024-06-09_-_GSON300_STF-8300M_-_1bin/', '/mnt/Rdata/ASTRO_data/C3-EXO/-_-_-_2024-06_-_GSON300_STF-8300M_-_1bin/TrES-1b_LIGHT_-_2024-06-18_-_GSON300_STF-8300M_-_1bin/', '/mnt/Rdata/ASTRO_data/C3-EXO/-_-_-_2024-06_-_GSON300_STF-8300M_-_1bin/TrES-4b_LIGHT_-_2024-06-13_-_GSON300_STF-8300M_-_1bin/', '/mnt/Rdata/ASTRO_data/C3-EXO/-_-_-_2024-06_-_GSON300_STF-8300M_-_1bin/WASP-103b_LIGHT_-_2024-06-06_-_GSON300_STF-8300M_-_1bin/', '/mnt/Rdata/ASTRO_data/C3-EXO/-_-_-_2024-06_-_GSON300_STF-8300M_-_1bin/WASP-135b_LIGHT_-_2024-06-03_-_GSON300_STF-8300M_-_1bin/', '/mnt/Rdata/ASTRO_data/C3-EXO/-_-_-_2024-06_-_GSON300_STF-8300M_-_1bin/WASP-135b_LIGHT_-_2024-06-10_-_GSON300_STF-8300M_-_1bin/', '/mnt/Rdata/ASTRO_data/C3-EXO/-_-_-_2024-06_-_GSON300_STF-8300M_-_1bin/WASP-48b_LIGHT_-_2024-08-29_-_GSON300_STF-8300M_-_1bin/', '/mnt/Rdata/ASTRO_data/C3-EXO/-_-_-_2024-06_-_GSON300_STF-8300M_-_1bin/WASP-52b_LIGHT_-_2024-08-30_-_GSON300_STF-8300M_-_1bin/', '/mnt/Rdata/ASTRO_data/C3-EXO/-_-_-_2024-06_-_GSON300_STF-8300M_-_1bin/XO-1b_LIGHT_-_2024-06-04_-_GSON300_STF-8300M_-_1bin/']\n",
      "len(DOINGDIRs):  18\n",
      "BDFDIR:  ['/mnt/Rdata/ASTRO_data/C3-EXO/-_-_-_2024-06_-_GSON300_STF-8300M_-_1bin/-_CAL-BDF_-_2024-05_-_GSON300_STF-8300M_-_1bin/']\n",
      "DOINGDIRs:  ['/mnt/Rdata/ASTRO_data/C3-EXO/-_-_-_2024-06_-_GSON300_STF-8300M_-_1bin/HAT-P-23b_LIGHT_-_2024-08-03_-_GSON300_STF-8300M_-_1bin/', '/mnt/Rdata/ASTRO_data/C3-EXO/-_-_-_2024-06_-_GSON300_STF-8300M_-_1bin/HAT-P-23b_LIGHT_-_2024-08-31_-_GSON300_STF-8300M_-_1bin/', '/mnt/Rdata/ASTRO_data/C3-EXO/-_-_-_2024-06_-_GSON300_STF-8300M_-_1bin/HAT-P-37b_LIGHT_-_2024-06-28_-_GSON300_STF-8300M_-_1bin/', '/mnt/Rdata/ASTRO_data/C3-EXO/-_-_-_2024-06_-_GSON300_STF-8300M_-_1bin/HD189733b_LIGHT_-_2024-06-16_-_GSON300_STF-8300M_-_1bin/', '/mnt/Rdata/ASTRO_data/C3-EXO/-_-_-_2024-06_-_GSON300_STF-8300M_-_1bin/HD189733b_LIGHT_-_2024-06-27_-_GSON300_STF-8300M_-_1bin/', '/mnt/Rdata/ASTRO_data/C3-EXO/-_-_-_2024-06_-_GSON300_STF-8300M_-_1bin/Kepler-17b_LIGHT_-_2024-06-26_-_GSON300_STF-8300M_-_1bin/', '/mnt/Rdata/ASTRO_data/C3-EXO/-_-_-_2024-06_-_GSON300_STF-8300M_-_1bin/Qatar-10b_LIGHT_-_2024-06-02_-_GSON300_STF-8300M_-_1bin/', '/mnt/Rdata/ASTRO_data/C3-EXO/-_-_-_2024-06_-_GSON300_STF-8300M_-_1bin/Qatar-3b_LIGHT_-_2024-08-27_-_GSON300_STF-8300M_-_1bin/', '/mnt/Rdata/ASTRO_data/C3-EXO/-_-_-_2024-06_-_GSON300_STF-8300M_-_1bin/TrES-1b_LIGHT_-_2024-06-09_-_GSON300_STF-8300M_-_1bin/', '/mnt/Rdata/ASTRO_data/C3-EXO/-_-_-_2024-06_-_GSON300_STF-8300M_-_1bin/TrES-1b_LIGHT_-_2024-06-18_-_GSON300_STF-8300M_-_1bin/', '/mnt/Rdata/ASTRO_data/C3-EXO/-_-_-_2024-06_-_GSON300_STF-8300M_-_1bin/TrES-4b_LIGHT_-_2024-06-13_-_GSON300_STF-8300M_-_1bin/', '/mnt/Rdata/ASTRO_data/C3-EXO/-_-_-_2024-06_-_GSON300_STF-8300M_-_1bin/WASP-103b_LIGHT_-_2024-06-06_-_GSON300_STF-8300M_-_1bin/', '/mnt/Rdata/ASTRO_data/C3-EXO/-_-_-_2024-06_-_GSON300_STF-8300M_-_1bin/WASP-135b_LIGHT_-_2024-06-03_-_GSON300_STF-8300M_-_1bin/', '/mnt/Rdata/ASTRO_data/C3-EXO/-_-_-_2024-06_-_GSON300_STF-8300M_-_1bin/WASP-135b_LIGHT_-_2024-06-10_-_GSON300_STF-8300M_-_1bin/', '/mnt/Rdata/ASTRO_data/C3-EXO/-_-_-_2024-06_-_GSON300_STF-8300M_-_1bin/WASP-48b_LIGHT_-_2024-08-29_-_GSON300_STF-8300M_-_1bin/', '/mnt/Rdata/ASTRO_data/C3-EXO/-_-_-_2024-06_-_GSON300_STF-8300M_-_1bin/WASP-52b_LIGHT_-_2024-08-30_-_GSON300_STF-8300M_-_1bin/', '/mnt/Rdata/ASTRO_data/C3-EXO/-_-_-_2024-06_-_GSON300_STF-8300M_-_1bin/XO-1b_LIGHT_-_2024-06-04_-_GSON300_STF-8300M_-_1bin/']\n",
      "len(DOINGDIRs):  17\n"
     ]
    }
   ],
   "source": [
    "#%%\n",
    "#######################################################\n",
    "BASEDIR = Path(\"/mnt/Rdata/ASTRO_data\")  \n",
    "\n",
    "PROJECDIR = BASEDIR / \"C1-Variable\"\n",
    "TODODIR = PROJECDIR / \"-_-_-_2016-_-_RiLA600_STX-16803_-_2bin\"\n",
    "TODODIR = PROJECDIR / \"-_-_-_2017-01_-_RiLA600_STX-16803_-_2bin\"\n",
    "TODODIR = PROJECDIR / \"-_-_-_2017-03_-_RiLA600_STX-16803_-_2bin\"\n",
    "TODODIR = PROJECDIR / \"-_-_-_2017-05_-_RiLA600_STX-16803_-_2bin\"\n",
    "# TODODIR = PROJECDIR / \"-_-_-_2017-06_-_RiLA600_STX-16803_-_2bin\"\n",
    "# TODODIR = PROJECDIR / \"-_-_-_2021-10_-_RiLA600_STX-16803_-_2bin\"\n",
    "# TODODIR = PROJECDIR / \"-_-_-_2022-01_-_RiLA600_STX-16803_-_2bin\"\n",
    "\n",
    "PROJECDIR = BASEDIR / \"C2-Asteroid\"\n",
    "TODODIR = PROJECDIR / \"-_-_-_2022-_-_GSON300_STF-8300M_-_1bin\"\n",
    "TODODIR = PROJECDIR / \"-_-_-_2022-_-_RiLA600_STX-16803_-_1bin\"\n",
    "TODODIR = PROJECDIR / \"-_-_-_2022-_-_RiLA600_STX-16803_-_2bin\"\n",
    "TODODIR = PROJECDIR / \"-_-_-_2023-_-_GSON300_STF-8300M_-_1bin\"\n",
    "TODODIR = PROJECDIR / \"-_-_-_2023-_-_RiLA600_STX-16803_-_1bin\"\n",
    "TODODIR = PROJECDIR / \"-_-_-_2023-_-_RiLA600_STX-16803_-_2bin\"\n",
    "\n",
    "PROJECDIR = BASEDIR / \"C3-EXO\"\n",
    "TODODIR = PROJECDIR / \"-_-_-_2024-05_-_GSON300_STF-8300M_-_1bin\"\n",
    "TODODIR = PROJECDIR / \"-_-_-_2024-05_-_RiLA600_STX-16803_-_1bin\"\n",
    "TODODIR = PROJECDIR / \"-_-_-_2024-06_-_GSON300_STF-8300M_-_1bin\"\n",
    "# TODODIR = PROJECDIR / \"-_-_-_2024-06_-_RiLA600_STX-16803_-_2bin\"\n",
    "# TODODIR = PROJECDIR / \"-_-_-_2024-09_-_GSON300_STF-8300M_-_1bin\"\n",
    "# TODODIR = PROJECDIR / \"-_-_-_2024-09_-_RiLA600_ASI6200MMPro_-_2bin\"\n",
    "\n",
    "# PROJECDIR = BASEDIR / \"C4-Spectra\"\n",
    "# TODODIR = PROJECDIR / \"-_-_-_2024-05_TEC140_ASI183MMPro_-_1bin\"\n",
    "\n",
    "DOINGDIRs = sorted(_Python_utilities.getFullnameListOfsubDirs(TODODIR))\n",
    "print (\"DOINGDIRs: \", format(DOINGDIRs))\n",
    "print (\"len(DOINGDIRs): \", format(len(DOINGDIRs)))\n",
    "\n",
    "try : \n",
    "    BDFDIR = [x for x in DOINGDIRs if \"CAL-BDF\" in str(x)]\n",
    "    print (\"BDFDIR: \", format(BDFDIR))\n",
    "    BDFDIR = Path(BDFDIR[0])    \n",
    "except : \n",
    "    BDFDIR = TODODIR\n",
    "    pass\n",
    "\n",
    "DOINGDIRs = sorted([x for x in DOINGDIRs if \"_LIGHT_\" in str(x)])\n",
    "# print (\"DOINGDIRs: \", format(DOINGDIRs))\n",
    "# print (\"len(DOINGDIRs): \", format(len(DOINGDIRs)))\n",
    "\n",
    "# filter_str = '2024-10-04'\n",
    "# DOINGDIRs = [x for x in DOINGDIRs if filter_str in str(x)]\n",
    "# remove = 'BIAS'\n",
    "# DOINGDIRs = [x for x in DOINGDIRs if remove not in x]\n",
    "# remove = 'DARK'\n",
    "# DOINGDIRs = [x for x in DOINGDIRs if remove not in x]\n",
    "# remove = 'FLAT'\n",
    "# DOINGDIRs = [x for x in DOINGDIRs if remove not in x]\n",
    "print (\"DOINGDIRs: \", DOINGDIRs)\n",
    "print (\"len(DOINGDIRs): \", len(DOINGDIRs))\n",
    "#######################################################\n",
    "\n",
    "verbose = False"
   ]
  },
  {
   "cell_type": "markdown",
   "metadata": {},
   "source": []
  },
  {
   "cell_type": "code",
   "execution_count": null,
   "metadata": {},
   "outputs": [
    {
     "name": "stdout",
     "output_type": "stream",
     "text": [
      "All 71 keywords (guessed from /mnt/Rdata/ASTRO_data/C3-EXO/-_-_-_2024-06_-_GSON300_STF-8300M_-_1bin/HAT-P-23b_LIGHT_-_2024-08-03_-_GSON300_STF-8300M_-_1bin/HAT-P-23b_LIGHT_R_2024-08-03-12-01-12_120sec_GSON300_STF-8300M_29c_1bin.fit) will be loaded.\n"
     ]
    },
    {
     "name": "stdout",
     "output_type": "stream",
     "text": [
      "len(summary): 122\n"
     ]
    }
   ],
   "source": [
    "for DOINGDIR in DOINGDIRs[:1] :\n",
    "    DOINGDIR = Path(DOINGDIR)\n",
    "    if verbose == True :\n",
    "        print(\"DOINGDIR\", DOINGDIR)\n",
    "    SOLVINGDIR = DOINGDIR / _astro_utilities.reduced_dir\n",
    "    SOLVINGDIR = DOINGDIR / _astro_utilities.reduced_nightsky_dir\n",
    "    SOLVINGDIR = DOINGDIR\n",
    "\n",
    "\n",
    "    summary = yfu.make_summary(SOLVINGDIR/\"*.fit*\")\n",
    "    if summary is not None :\n",
    "        if verbose == True :\n",
    "            print(\"len(summary):\", len(summary))\n",
    "            print(\"summary:\", summary)\n",
    "        #print(summary[\"file\"][0])  \n",
    "        df_light = summary.loc[summary[\"IMAGETYP\"] == \"LIGHT\"].copy()\n",
    "        df_light = df_light.reset_index(drop=True)\n",
    "        if verbose == True :\n",
    "            print(\"df_light:\\n{}\".format(df_light))\n",
    "    df_light\n",
    "\n",
    "    for _, row  in df_light.iterrows():\n",
    "\n",
    "        fpath = Path(row[\"file\"])\n",
    "        # fpath = Path(df_light[\"file\"][1])\n",
    "        if verbose == True :\n",
    "            print(\"fpath :\" ,fpath)\n",
    "        hdul = fits.open(fpath)\n",
    "\n",
    "        if 'PIXSCALE' in hdul[0].header:\n",
    "            PIXc = hdul[0].header['PIXSCALE']\n",
    "        else : \n",
    "            PIXc = _astro_utilities.calPixScale(hdul[0].header['FOCALLEN'], \n",
    "                                                hdul[0].header['XPIXSZ'],\n",
    "                                                hdul[0].header['XBINNING'])\n",
    "        if verbose == True :\n",
    "            print(\"PIXc : \", PIXc)\n",
    "        hdul.close()\n",
    "\n",
    "        solved = _astro_utilities.KevinSolver(fpath, \n",
    "                                                #str(SOLVEDDIR), \n",
    "                                                # downsample = 2,\n",
    "                                                # pixscale = PIXc,\n",
    "                                                tryASTAP = True, \n",
    "                                                tryLOCAL = False,\n",
    "                                                makeLOCALsh = True,\n",
    "                                                tryASTROMETRYNET = False, \n",
    "                                                verbose = False,\n",
    "                                                )"
   ]
  }
 ],
 "metadata": {
  "kernelspec": {
   "display_name": "astro_Python_env",
   "language": "python",
   "name": "python3"
  },
  "language_info": {
   "codemirror_mode": {
    "name": "ipython",
    "version": 3
   },
   "file_extension": ".py",
   "mimetype": "text/x-python",
   "name": "python",
   "nbconvert_exporter": "python",
   "pygments_lexer": "ipython3",
   "version": "3.13.1"
  },
  "orig_nbformat": 4
 },
 "nbformat": 4,
 "nbformat_minor": 2
}
