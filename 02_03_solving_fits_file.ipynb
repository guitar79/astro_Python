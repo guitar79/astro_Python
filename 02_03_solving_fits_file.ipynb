{
 "cells": [
  {
   "attachments": {},
   "cell_type": "markdown",
   "metadata": {},
   "source": [
    "# Plate solving fits file"
   ]
  },
  {
   "attachments": {},
   "cell_type": "markdown",
   "metadata": {},
   "source": [
    "## import modules\n",
    "\n",
    "우선 필요한 모듈을 import합니다."
   ]
  },
  {
   "cell_type": "code",
   "execution_count": 7,
   "metadata": {},
   "outputs": [],
   "source": [
    "from pathlib import Path\n",
    "from astropy.io import fits\n",
    "\n",
    "import ysfitsutilpy as yfu\n",
    "\n",
    "import _astro_utilities\n",
    "import _Python_utilities\n",
    "\n",
    "import warnings\n",
    "warnings.filterwarnings('ignore')"
   ]
  },
  {
   "cell_type": "markdown",
   "metadata": {},
   "source": [
    "## 환경 설정"
   ]
  },
  {
   "cell_type": "code",
   "execution_count": 8,
   "metadata": {},
   "outputs": [
    {
     "name": "stdout",
     "output_type": "stream",
     "text": [
      "DOINGDIRs:  ['/mnt/Rdata/ASTRO_data/C3-EXO/-_-_-_2024-06_-_GSON300_STF-8300M_-_1bin/-_CAL-BDF_-_2024-05_-_GSON300_STF-8300M_-_1bin/', '/mnt/Rdata/ASTRO_data/C3-EXO/-_-_-_2024-06_-_GSON300_STF-8300M_-_1bin/HAT-P-23b_LIGHT_-_2024-08-03_-_GSON300_STF-8300M_-_1bin/', '/mnt/Rdata/ASTRO_data/C3-EXO/-_-_-_2024-06_-_GSON300_STF-8300M_-_1bin/HAT-P-23b_LIGHT_-_2024-08-31_-_GSON300_STF-8300M_-_1bin/', '/mnt/Rdata/ASTRO_data/C3-EXO/-_-_-_2024-06_-_GSON300_STF-8300M_-_1bin/HAT-P-37b_LIGHT_-_2024-06-28_-_GSON300_STF-8300M_-_1bin/', '/mnt/Rdata/ASTRO_data/C3-EXO/-_-_-_2024-06_-_GSON300_STF-8300M_-_1bin/HD189733b_LIGHT_-_2024-06-16_-_GSON300_STF-8300M_-_1bin/', '/mnt/Rdata/ASTRO_data/C3-EXO/-_-_-_2024-06_-_GSON300_STF-8300M_-_1bin/HD189733b_LIGHT_-_2024-06-27_-_GSON300_STF-8300M_-_1bin/', '/mnt/Rdata/ASTRO_data/C3-EXO/-_-_-_2024-06_-_GSON300_STF-8300M_-_1bin/Kepler-17b_LIGHT_-_2024-06-26_-_GSON300_STF-8300M_-_1bin/', '/mnt/Rdata/ASTRO_data/C3-EXO/-_-_-_2024-06_-_GSON300_STF-8300M_-_1bin/Qatar-10b_LIGHT_-_2024-06-02_-_GSON300_STF-8300M_-_1bin/', '/mnt/Rdata/ASTRO_data/C3-EXO/-_-_-_2024-06_-_GSON300_STF-8300M_-_1bin/Qatar-3b_LIGHT_-_2024-08-27_-_GSON300_STF-8300M_-_1bin/', '/mnt/Rdata/ASTRO_data/C3-EXO/-_-_-_2024-06_-_GSON300_STF-8300M_-_1bin/TrES-1b_LIGHT_-_2024-06-09_-_GSON300_STF-8300M_-_1bin/', '/mnt/Rdata/ASTRO_data/C3-EXO/-_-_-_2024-06_-_GSON300_STF-8300M_-_1bin/TrES-1b_LIGHT_-_2024-06-18_-_GSON300_STF-8300M_-_1bin/', '/mnt/Rdata/ASTRO_data/C3-EXO/-_-_-_2024-06_-_GSON300_STF-8300M_-_1bin/TrES-4b_LIGHT_-_2024-06-13_-_GSON300_STF-8300M_-_1bin/', '/mnt/Rdata/ASTRO_data/C3-EXO/-_-_-_2024-06_-_GSON300_STF-8300M_-_1bin/WASP-103b_LIGHT_-_2024-06-06_-_GSON300_STF-8300M_-_1bin/', '/mnt/Rdata/ASTRO_data/C3-EXO/-_-_-_2024-06_-_GSON300_STF-8300M_-_1bin/WASP-135b_LIGHT_-_2024-06-03_-_GSON300_STF-8300M_-_1bin/', '/mnt/Rdata/ASTRO_data/C3-EXO/-_-_-_2024-06_-_GSON300_STF-8300M_-_1bin/WASP-135b_LIGHT_-_2024-06-10_-_GSON300_STF-8300M_-_1bin/', '/mnt/Rdata/ASTRO_data/C3-EXO/-_-_-_2024-06_-_GSON300_STF-8300M_-_1bin/WASP-48b_LIGHT_-_2024-08-29_-_GSON300_STF-8300M_-_1bin/', '/mnt/Rdata/ASTRO_data/C3-EXO/-_-_-_2024-06_-_GSON300_STF-8300M_-_1bin/WASP-52b_LIGHT_-_2024-08-30_-_GSON300_STF-8300M_-_1bin/', '/mnt/Rdata/ASTRO_data/C3-EXO/-_-_-_2024-06_-_GSON300_STF-8300M_-_1bin/XO-1b_LIGHT_-_2024-06-04_-_GSON300_STF-8300M_-_1bin/']\n",
      "len(DOINGDIRs):  18\n",
      "BDFDIR:  ['/mnt/Rdata/ASTRO_data/C3-EXO/-_-_-_2024-06_-_GSON300_STF-8300M_-_1bin/-_CAL-BDF_-_2024-05_-_GSON300_STF-8300M_-_1bin/']\n",
      "DOINGDIRs:  ['/mnt/Rdata/ASTRO_data/C3-EXO/-_-_-_2024-06_-_GSON300_STF-8300M_-_1bin/HAT-P-23b_LIGHT_-_2024-08-03_-_GSON300_STF-8300M_-_1bin/', '/mnt/Rdata/ASTRO_data/C3-EXO/-_-_-_2024-06_-_GSON300_STF-8300M_-_1bin/HAT-P-23b_LIGHT_-_2024-08-31_-_GSON300_STF-8300M_-_1bin/', '/mnt/Rdata/ASTRO_data/C3-EXO/-_-_-_2024-06_-_GSON300_STF-8300M_-_1bin/HAT-P-37b_LIGHT_-_2024-06-28_-_GSON300_STF-8300M_-_1bin/', '/mnt/Rdata/ASTRO_data/C3-EXO/-_-_-_2024-06_-_GSON300_STF-8300M_-_1bin/HD189733b_LIGHT_-_2024-06-16_-_GSON300_STF-8300M_-_1bin/', '/mnt/Rdata/ASTRO_data/C3-EXO/-_-_-_2024-06_-_GSON300_STF-8300M_-_1bin/HD189733b_LIGHT_-_2024-06-27_-_GSON300_STF-8300M_-_1bin/', '/mnt/Rdata/ASTRO_data/C3-EXO/-_-_-_2024-06_-_GSON300_STF-8300M_-_1bin/Kepler-17b_LIGHT_-_2024-06-26_-_GSON300_STF-8300M_-_1bin/', '/mnt/Rdata/ASTRO_data/C3-EXO/-_-_-_2024-06_-_GSON300_STF-8300M_-_1bin/Qatar-10b_LIGHT_-_2024-06-02_-_GSON300_STF-8300M_-_1bin/', '/mnt/Rdata/ASTRO_data/C3-EXO/-_-_-_2024-06_-_GSON300_STF-8300M_-_1bin/Qatar-3b_LIGHT_-_2024-08-27_-_GSON300_STF-8300M_-_1bin/', '/mnt/Rdata/ASTRO_data/C3-EXO/-_-_-_2024-06_-_GSON300_STF-8300M_-_1bin/TrES-1b_LIGHT_-_2024-06-09_-_GSON300_STF-8300M_-_1bin/', '/mnt/Rdata/ASTRO_data/C3-EXO/-_-_-_2024-06_-_GSON300_STF-8300M_-_1bin/TrES-1b_LIGHT_-_2024-06-18_-_GSON300_STF-8300M_-_1bin/', '/mnt/Rdata/ASTRO_data/C3-EXO/-_-_-_2024-06_-_GSON300_STF-8300M_-_1bin/TrES-4b_LIGHT_-_2024-06-13_-_GSON300_STF-8300M_-_1bin/', '/mnt/Rdata/ASTRO_data/C3-EXO/-_-_-_2024-06_-_GSON300_STF-8300M_-_1bin/WASP-103b_LIGHT_-_2024-06-06_-_GSON300_STF-8300M_-_1bin/', '/mnt/Rdata/ASTRO_data/C3-EXO/-_-_-_2024-06_-_GSON300_STF-8300M_-_1bin/WASP-135b_LIGHT_-_2024-06-03_-_GSON300_STF-8300M_-_1bin/', '/mnt/Rdata/ASTRO_data/C3-EXO/-_-_-_2024-06_-_GSON300_STF-8300M_-_1bin/WASP-135b_LIGHT_-_2024-06-10_-_GSON300_STF-8300M_-_1bin/', '/mnt/Rdata/ASTRO_data/C3-EXO/-_-_-_2024-06_-_GSON300_STF-8300M_-_1bin/WASP-48b_LIGHT_-_2024-08-29_-_GSON300_STF-8300M_-_1bin/', '/mnt/Rdata/ASTRO_data/C3-EXO/-_-_-_2024-06_-_GSON300_STF-8300M_-_1bin/WASP-52b_LIGHT_-_2024-08-30_-_GSON300_STF-8300M_-_1bin/', '/mnt/Rdata/ASTRO_data/C3-EXO/-_-_-_2024-06_-_GSON300_STF-8300M_-_1bin/XO-1b_LIGHT_-_2024-06-04_-_GSON300_STF-8300M_-_1bin/']\n",
      "len(DOINGDIRs):  17\n"
     ]
    }
   ],
   "source": [
    "#%%\n",
    "verbose =  False\n",
    "tryagain = False\n",
    "trynightsky = True\n",
    "#######################################################\n",
    "BASEDIR = Path(\"/mnt/Rdata/ASTRO_data\")  \n",
    "\n",
    "PROJECDIR = BASEDIR / \"C1-Variable\"\n",
    "TODODIR = PROJECDIR / \"-_-_-_2017-01_-_RiLA600_STX-16803_-_2bin\"\n",
    "\n",
    "DOINGDIRs = sorted(_Python_utilities.getFullnameListOfsubDirs(TODODIR))\n",
    "if verbose == True :\n",
    "    print (\"DOINGDIRs: \", format(DOINGDIRs))\n",
    "    print (\"len(DOINGDIRs): \", format(len(DOINGDIRs)))\n",
    "\n",
    "try : \n",
    "    BDFDIR = [x for x in DOINGDIRs if \"CAL-BDF\" in str(x)]\n",
    "    if verbose == True :\n",
    "        print (\"BDFDIR: \", format(BDFDIR))\n",
    "    BDFDIR = Path(BDFDIR[0])    \n",
    "except : \n",
    "    BDFDIR = TODODIR\n",
    "    pass\n",
    "\n",
    "DOINGDIRs = sorted([x for x in DOINGDIRs if \"_LIGHT_\" in str(x)])\n",
    "if verbose == True :\n",
    "    print (\"DOINGDIRs: \", DOINGDIRs)\n",
    "    print (\"len(DOINGDIRs): \", len(DOINGDIRs))\n",
    "#######################################################"
   ]
  },
  {
   "cell_type": "markdown",
   "metadata": {},
   "source": [
    "## plate solving\n",
    "\n",
    "``DOINGDIRs``에 list 형태로 들어있는 디렉토리 경로안에 모든 파일들을 ``yfu.make_summary`` 함수를 이용하여 dataframe으로 만들어 파일명 하나하나 ``platesolving``을 수행합니다. "
   ]
  },
  {
   "cell_type": "code",
   "execution_count": null,
   "metadata": {},
   "outputs": [
    {
     "name": "stdout",
     "output_type": "stream",
     "text": [
      "All 71 keywords (guessed from /mnt/Rdata/ASTRO_data/C3-EXO/-_-_-_2024-06_-_GSON300_STF-8300M_-_1bin/HAT-P-23b_LIGHT_-_2024-08-03_-_GSON300_STF-8300M_-_1bin/HAT-P-23b_LIGHT_R_2024-08-03-12-01-12_120sec_GSON300_STF-8300M_29c_1bin.fit) will be loaded.\n"
     ]
    },
    {
     "name": "stdout",
     "output_type": "stream",
     "text": [
      "len(summary): 122\n"
     ]
    }
   ],
   "source": [
    "for DOINGDIR in DOINGDIRs[:1] :\n",
    "    DOINGDIR = Path(DOINGDIR)\n",
    "    if verbose == True :\n",
    "        print(\"DOINGDIR\", DOINGDIR)\n",
    "    SOLVINGDIR = DOINGDIR / _astro_utilities.reduced_dir\n",
    "    SOLVINGDIR = DOINGDIR / _astro_utilities.reduced_nightsky_dir\n",
    "    SOLVINGDIR = DOINGDIR\n",
    "\n",
    "\n",
    "    summary = yfu.make_summary(SOLVINGDIR/\"*.fit*\")\n",
    "    if summary is not None :\n",
    "        if verbose == True :\n",
    "            print(\"len(summary):\", len(summary))\n",
    "            print(\"summary:\", summary)\n",
    "            #print(summary[\"file\"][0])  \n",
    "        df_light = summary.loc[summary[\"IMAGETYP\"] == \"LIGHT\"].copy()\n",
    "        df_light = df_light.reset_index(drop=True)\n",
    "        if verbose == True :\n",
    "            print(\"df_light:\\n{}\".format(df_light))\n",
    "    df_light\n",
    "\n",
    "    for _, row  in df_light.iterrows():\n",
    "\n",
    "        fpath = Path(row[\"file\"])\n",
    "        if verbose == True :\n",
    "            print(\"fpath :\" ,fpath)\n",
    "        hdul = fits.open(fpath)\n",
    "\n",
    "        if 'PIXSCALE' in hdul[0].header:\n",
    "            PIXc = hdul[0].header['PIXSCALE']\n",
    "        else : \n",
    "            PIXc = _astro_utilities.calPixScale(hdul[0].header['FOCALLEN'], \n",
    "                                                hdul[0].header['XPIXSZ'],\n",
    "                                                hdul[0].header['XBINNING'])\n",
    "        if verbose == True :\n",
    "            print(\"PIXc : \", PIXc)\n",
    "        hdul.close()\n",
    "\n",
    "        solved = _astro_utilities.KevinSolver(fpath, \n",
    "                                                #str(SOLVEDDIR), \n",
    "                                                # downsample = 2,\n",
    "                                                # pixscale = PIXc,\n",
    "                                                tryASTAP = True, \n",
    "                                                tryLOCAL = False,\n",
    "                                                makeLOCALsh = True,\n",
    "                                                tryASTROMETRYNET = False, \n",
    "                                                verbose = verbose,\n",
    "                                                )"
   ]
  }
 ],
 "metadata": {
  "kernelspec": {
   "display_name": "astro_Python_env",
   "language": "python",
   "name": "python3"
  },
  "language_info": {
   "codemirror_mode": {
    "name": "ipython",
    "version": 3
   },
   "file_extension": ".py",
   "mimetype": "text/x-python",
   "name": "python",
   "nbconvert_exporter": "python",
   "pygments_lexer": "ipython3",
   "version": "3.12.7"
  },
  "orig_nbformat": 4
 },
 "nbformat": 4,
 "nbformat_minor": 2
}
