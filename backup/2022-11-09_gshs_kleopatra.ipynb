{
 "cells": [
  {
   "cell_type": "markdown",
   "id": "bbaac5e1",
   "metadata": {},
   "source": [
    "You may also want to look at this after the tutorial in this file:\n",
    "https://nbviewer.org/github/ysBach/IshiguroM_etal_155140_2005UD/blob/master/photometry/Photometer.ipynb\n",
    "\n",
    "(Appendix of Ishiguro, Bach et al. (2022) MNRAS, 509, 4128 \"Polarimetric properties of the near-Sun asteroid 155140 2005 UD in comparison with other asteroids and meteoritic samples\")"
   ]
  },
  {
   "cell_type": "code",
   "execution_count": 2,
   "id": "649d2a00",
   "metadata": {},
   "outputs": [],
   "source": [
    "%matplotlib notebook\n",
    "%config InlineBackend.figure_format = 'retina'\n",
    "from IPython.core.interactiveshell import InteractiveShell\n",
    "InteractiveShell.ast_node_interactivity = 'last_expr' \n",
    "import numpy as np\n",
    "from matplotlib import pyplot as plt\n",
    "\n",
    "# We need to do it in a separate cell. See:\n",
    "# https://github.com/jupyter/notebook/issues/3385\n",
    "plt.style.use('default')\n",
    "plt.rcParams.update({\n",
    "    'font.family': 'latin modern math', 'font.size':12, 'mathtext.fontset':'stix', \n",
    "    'axes.formatter.use_mathtext': True, 'axes.formatter.limits': (-4, 4),\n",
    "    'axes.grid': True, 'grid.color': 'gray', 'grid.linewidth': 0.5, \n",
    "    'xtick.top': True, 'ytick.right': True, \n",
    "    'xtick.direction': 'inout', 'ytick.direction': 'inout',\n",
    "    'xtick.minor.size': 4.0, 'ytick.minor.size': 4.0,  # default 2.0\n",
    "    'xtick.major.size': 8.0, 'ytick.major.size': 8.0,  # default 3.5\n",
    "    'xtick.minor.visible': True, 'ytick.minor.visible': True\n",
    "})\n",
    "from astropy.time import Time\n",
    "from astropy.table import Table, vstack\n",
    "import ysfitsutilpy as yfu\n",
    "import ysphotutilpy as ypu\n",
    "import ysvisutilpy as yvu\n",
    "from astropy.coordinates import SkyCoord\n",
    "from astropy.wcs import WCS\n",
    "from astropy import units as u\n",
    "from photutils.aperture import CircularAnnulus, CircularAperture\n",
    "import numpy as np\n",
    "import pandas as pd\n",
    "from astropy.nddata import CCDData\n",
    "\n",
    "#####################################################################\n",
    "# Our object (will be queried to JPL HORIZONS)\n",
    "OBJID = '216' # Kleopatra\n",
    "\n",
    "# Observed location\n",
    "LOCATION = dict(lon=127.0, lat=37.3, elevation=130)\n",
    "\n",
    "# It is used as a rough estimate, so no need to be accurate:\n",
    "PIX2ARCSEC = 1.24*u.arcsec\n",
    "\n",
    "# Used for any `astropy.SkyCoord` object:\n",
    "SKYC_KW = dict(unit=u.deg, frame='icrs')\n",
    "\n",
    "# Initial guess of FWHM in pixel\n",
    "FWHM_INIT = 6\n",
    "\n",
    "# Photometry parameters\n",
    "R_AP = 1.5*FWHM_INIT # Aperture radius\n",
    "R_IN = 4*FWHM_INIT   # Inner radius of annulus\n",
    "R_OUT = 6*FWHM_INIT  # Outer radius of annulus\n",
    "#####################################################################"
   ]
  },
  {
   "cell_type": "markdown",
   "id": "701fd853",
   "metadata": {},
   "source": [
    "# Load the FITS file"
   ]
  },
  {
   "cell_type": "code",
   "execution_count": 3,
   "id": "e29188fb",
   "metadata": {},
   "outputs": [
    {
     "ename": "FileNotFoundError",
     "evalue": "[Errno 2] No such file or directory: 'KLEOPATRA_Light_r_2022-11-02-12-13-51_100sec_RiLA600_STX-16803_-20C_2bin_wcs_c.fit'",
     "output_type": "error",
     "traceback": [
      "\u001b[0;31m---------------------------------------------------------------------------\u001b[0m",
      "\u001b[0;31mFileNotFoundError\u001b[0m                         Traceback (most recent call last)",
      "\u001b[1;32m/mnt/Rdata/OBS_data/astro_Python/backup/2022-11-09_gshs_kleopatra.ipynb Cell 4\u001b[0m in \u001b[0;36m<cell line: 1>\u001b[0;34m()\u001b[0m\n\u001b[0;32m----> <a href='vscode-notebook-cell:/mnt/Rdata/OBS_data/astro_Python/backup/2022-11-09_gshs_kleopatra.ipynb#W3sZmlsZQ%3D%3D?line=0'>1</a>\u001b[0m ccd \u001b[39m=\u001b[39m yfu\u001b[39m.\u001b[39;49mload_ccd(\u001b[39m\"\u001b[39;49m\u001b[39mKLEOPATRA_Light_r_2022-11-02-12-13-51_100sec_RiLA600_STX-16803_-20C_2bin_wcs_c.fit\u001b[39;49m\u001b[39m\"\u001b[39;49m, unit\u001b[39m=\u001b[39;49m\u001b[39m\"\u001b[39;49m\u001b[39madu\u001b[39;49m\u001b[39m\"\u001b[39;49m)\n",
      "File \u001b[0;32m~/anaconda3/envs/astro_Python_ubuntu_env/lib/python3.9/site-packages/ysfitsutilpy-0.2.dev0-py3.9.egg/ysfitsutilpy/hduutil.py:840\u001b[0m, in \u001b[0;36mload_ccd\u001b[0;34m(path, extension, trimsec, ccddata, as_ccd, use_wcs, unit, extension_uncertainty, extension_mask, extension_flags, full, key_uncertainty_type, memmap, **kwd)\u001b[0m\n\u001b[1;32m    838\u001b[0m \u001b[39m# FIXME: Remove this if block in the future if WCS issue is resolved.\u001b[39;00m\n\u001b[1;32m    839\u001b[0m \u001b[39mif\u001b[39;00m use_wcs:  \u001b[39m# Because of the TPV WCS issue\u001b[39;00m\n\u001b[0;32m--> 840\u001b[0m     hdr \u001b[39m=\u001b[39m fits\u001b[39m.\u001b[39;49mgetheader(path)\n\u001b[1;32m    841\u001b[0m     reader_kw[\u001b[39m\"\u001b[39m\u001b[39mwcs\u001b[39m\u001b[39m\"\u001b[39m] \u001b[39m=\u001b[39m WCS(hdr)\n\u001b[1;32m    842\u001b[0m     \u001b[39mdel\u001b[39;00m hdr\n",
      "File \u001b[0;32m~/anaconda3/envs/astro_Python_ubuntu_env/lib/python3.9/site-packages/astropy/io/fits/convenience.py:105\u001b[0m, in \u001b[0;36mgetheader\u001b[0;34m(filename, *args, **kwargs)\u001b[0m\n\u001b[1;32m     82\u001b[0m \u001b[39m\"\"\"\u001b[39;00m\n\u001b[1;32m     83\u001b[0m \u001b[39mGet the header from an HDU of a FITS file.\u001b[39;00m\n\u001b[1;32m     84\u001b[0m \n\u001b[0;32m   (...)\u001b[0m\n\u001b[1;32m    101\u001b[0m \u001b[39mheader : `Header` object\u001b[39;00m\n\u001b[1;32m    102\u001b[0m \u001b[39m\"\"\"\u001b[39;00m\n\u001b[1;32m    104\u001b[0m mode, closed \u001b[39m=\u001b[39m _get_file_mode(filename)\n\u001b[0;32m--> 105\u001b[0m hdulist, extidx \u001b[39m=\u001b[39m _getext(filename, mode, \u001b[39m*\u001b[39;49margs, \u001b[39m*\u001b[39;49m\u001b[39m*\u001b[39;49mkwargs)\n\u001b[1;32m    106\u001b[0m \u001b[39mtry\u001b[39;00m:\n\u001b[1;32m    107\u001b[0m     hdu \u001b[39m=\u001b[39m hdulist[extidx]\n",
      "File \u001b[0;32m~/anaconda3/envs/astro_Python_ubuntu_env/lib/python3.9/site-packages/astropy/io/fits/convenience.py:1091\u001b[0m, in \u001b[0;36m_getext\u001b[0;34m(filename, mode, ext, extname, extver, *args, **kwargs)\u001b[0m\n\u001b[1;32m   1088\u001b[0m \u001b[39melif\u001b[39;00m extver \u001b[39mand\u001b[39;00m extname \u001b[39mis\u001b[39;00m \u001b[39mNone\u001b[39;00m:\n\u001b[1;32m   1089\u001b[0m     \u001b[39mraise\u001b[39;00m \u001b[39mTypeError\u001b[39;00m(\u001b[39m'\u001b[39m\u001b[39mextver alone cannot specify an extension.\u001b[39m\u001b[39m'\u001b[39m)\n\u001b[0;32m-> 1091\u001b[0m hdulist \u001b[39m=\u001b[39m fitsopen(filename, mode\u001b[39m=\u001b[39;49mmode, \u001b[39m*\u001b[39;49m\u001b[39m*\u001b[39;49mkwargs)\n\u001b[1;32m   1093\u001b[0m \u001b[39mreturn\u001b[39;00m hdulist, ext\n",
      "File \u001b[0;32m~/anaconda3/envs/astro_Python_ubuntu_env/lib/python3.9/site-packages/astropy/io/fits/hdu/hdulist.py:176\u001b[0m, in \u001b[0;36mfitsopen\u001b[0;34m(name, mode, memmap, save_backup, cache, lazy_load_hdus, ignore_missing_simple, **kwargs)\u001b[0m\n\u001b[1;32m    173\u001b[0m \u001b[39mif\u001b[39;00m \u001b[39mnot\u001b[39;00m name:\n\u001b[1;32m    174\u001b[0m     \u001b[39mraise\u001b[39;00m \u001b[39mValueError\u001b[39;00m(\u001b[39mf\u001b[39m\u001b[39m'\u001b[39m\u001b[39mEmpty filename: \u001b[39m\u001b[39m{\u001b[39;00mname\u001b[39m!r}\u001b[39;00m\u001b[39m'\u001b[39m)\n\u001b[0;32m--> 176\u001b[0m \u001b[39mreturn\u001b[39;00m HDUList\u001b[39m.\u001b[39;49mfromfile(name, mode, memmap, save_backup, cache,\n\u001b[1;32m    177\u001b[0m                         lazy_load_hdus, ignore_missing_simple, \u001b[39m*\u001b[39;49m\u001b[39m*\u001b[39;49mkwargs)\n",
      "File \u001b[0;32m~/anaconda3/envs/astro_Python_ubuntu_env/lib/python3.9/site-packages/astropy/io/fits/hdu/hdulist.py:411\u001b[0m, in \u001b[0;36mHDUList.fromfile\u001b[0;34m(cls, fileobj, mode, memmap, save_backup, cache, lazy_load_hdus, ignore_missing_simple, **kwargs)\u001b[0m\n\u001b[1;32m    399\u001b[0m \u001b[39m@classmethod\u001b[39m\n\u001b[1;32m    400\u001b[0m \u001b[39mdef\u001b[39;00m \u001b[39mfromfile\u001b[39m(\u001b[39mcls\u001b[39m, fileobj, mode\u001b[39m=\u001b[39m\u001b[39mNone\u001b[39;00m, memmap\u001b[39m=\u001b[39m\u001b[39mNone\u001b[39;00m,\n\u001b[1;32m    401\u001b[0m              save_backup\u001b[39m=\u001b[39m\u001b[39mFalse\u001b[39;00m, cache\u001b[39m=\u001b[39m\u001b[39mTrue\u001b[39;00m, lazy_load_hdus\u001b[39m=\u001b[39m\u001b[39mTrue\u001b[39;00m,\n\u001b[1;32m    402\u001b[0m              ignore_missing_simple\u001b[39m=\u001b[39m\u001b[39mFalse\u001b[39;00m, \u001b[39m*\u001b[39m\u001b[39m*\u001b[39mkwargs):\n\u001b[1;32m    403\u001b[0m     \u001b[39m\"\"\"\u001b[39;00m\n\u001b[1;32m    404\u001b[0m \u001b[39m    Creates an `HDUList` instance from a file-like object.\u001b[39;00m\n\u001b[1;32m    405\u001b[0m \n\u001b[0;32m   (...)\u001b[0m\n\u001b[1;32m    408\u001b[0m \u001b[39m    documentation for details of the parameters accepted by this method).\u001b[39;00m\n\u001b[1;32m    409\u001b[0m \u001b[39m    \"\"\"\u001b[39;00m\n\u001b[0;32m--> 411\u001b[0m     \u001b[39mreturn\u001b[39;00m \u001b[39mcls\u001b[39;49m\u001b[39m.\u001b[39;49m_readfrom(fileobj\u001b[39m=\u001b[39;49mfileobj, mode\u001b[39m=\u001b[39;49mmode, memmap\u001b[39m=\u001b[39;49mmemmap,\n\u001b[1;32m    412\u001b[0m                          save_backup\u001b[39m=\u001b[39;49msave_backup, cache\u001b[39m=\u001b[39;49mcache,\n\u001b[1;32m    413\u001b[0m                          ignore_missing_simple\u001b[39m=\u001b[39;49mignore_missing_simple,\n\u001b[1;32m    414\u001b[0m                          lazy_load_hdus\u001b[39m=\u001b[39;49mlazy_load_hdus, \u001b[39m*\u001b[39;49m\u001b[39m*\u001b[39;49mkwargs)\n",
      "File \u001b[0;32m~/anaconda3/envs/astro_Python_ubuntu_env/lib/python3.9/site-packages/astropy/io/fits/hdu/hdulist.py:1071\u001b[0m, in \u001b[0;36mHDUList._readfrom\u001b[0;34m(cls, fileobj, data, mode, memmap, cache, lazy_load_hdus, ignore_missing_simple, **kwargs)\u001b[0m\n\u001b[1;32m   1068\u001b[0m \u001b[39mif\u001b[39;00m fileobj \u001b[39mis\u001b[39;00m \u001b[39mnot\u001b[39;00m \u001b[39mNone\u001b[39;00m:\n\u001b[1;32m   1069\u001b[0m     \u001b[39mif\u001b[39;00m \u001b[39mnot\u001b[39;00m \u001b[39misinstance\u001b[39m(fileobj, _File):\n\u001b[1;32m   1070\u001b[0m         \u001b[39m# instantiate a FITS file object (ffo)\u001b[39;00m\n\u001b[0;32m-> 1071\u001b[0m         fileobj \u001b[39m=\u001b[39m _File(fileobj, mode\u001b[39m=\u001b[39;49mmode, memmap\u001b[39m=\u001b[39;49mmemmap, cache\u001b[39m=\u001b[39;49mcache)\n\u001b[1;32m   1072\u001b[0m     \u001b[39m# The Astropy mode is determined by the _File initializer if the\u001b[39;00m\n\u001b[1;32m   1073\u001b[0m     \u001b[39m# supplied mode was None\u001b[39;00m\n\u001b[1;32m   1074\u001b[0m     mode \u001b[39m=\u001b[39m fileobj\u001b[39m.\u001b[39mmode\n",
      "File \u001b[0;32m~/anaconda3/envs/astro_Python_ubuntu_env/lib/python3.9/site-packages/astropy/utils/decorators.py:546\u001b[0m, in \u001b[0;36mdeprecated_renamed_argument.<locals>.decorator.<locals>.wrapper\u001b[0;34m(*args, **kwargs)\u001b[0m\n\u001b[1;32m    543\u001b[0m             msg \u001b[39m+\u001b[39m\u001b[39m=\u001b[39m \u001b[39mf\u001b[39m\u001b[39m'\u001b[39m\u001b[39m\\n\u001b[39;00m\u001b[39m        Use \u001b[39m\u001b[39m{\u001b[39;00malternative\u001b[39m}\u001b[39;00m\u001b[39m instead.\u001b[39m\u001b[39m'\u001b[39m\n\u001b[1;32m    544\u001b[0m         warnings\u001b[39m.\u001b[39mwarn(msg, warning_type, stacklevel\u001b[39m=\u001b[39m\u001b[39m2\u001b[39m)\n\u001b[0;32m--> 546\u001b[0m \u001b[39mreturn\u001b[39;00m function(\u001b[39m*\u001b[39;49margs, \u001b[39m*\u001b[39;49m\u001b[39m*\u001b[39;49mkwargs)\n",
      "File \u001b[0;32m~/anaconda3/envs/astro_Python_ubuntu_env/lib/python3.9/site-packages/astropy/io/fits/file.py:175\u001b[0m, in \u001b[0;36m_File.__init__\u001b[0;34m(self, fileobj, mode, memmap, overwrite, cache)\u001b[0m\n\u001b[1;32m    173\u001b[0m     \u001b[39mself\u001b[39m\u001b[39m.\u001b[39m_open_fileobj(fileobj, mode, overwrite)\n\u001b[1;32m    174\u001b[0m \u001b[39melif\u001b[39;00m \u001b[39misinstance\u001b[39m(fileobj, (\u001b[39mstr\u001b[39m, \u001b[39mbytes\u001b[39m)):\n\u001b[0;32m--> 175\u001b[0m     \u001b[39mself\u001b[39;49m\u001b[39m.\u001b[39;49m_open_filename(fileobj, mode, overwrite)\n\u001b[1;32m    176\u001b[0m \u001b[39melse\u001b[39;00m:\n\u001b[1;32m    177\u001b[0m     \u001b[39mself\u001b[39m\u001b[39m.\u001b[39m_open_filelike(fileobj, mode, overwrite)\n",
      "File \u001b[0;32m~/anaconda3/envs/astro_Python_ubuntu_env/lib/python3.9/site-packages/astropy/io/fits/file.py:564\u001b[0m, in \u001b[0;36m_File._open_filename\u001b[0;34m(self, filename, mode, overwrite)\u001b[0m\n\u001b[1;32m    561\u001b[0m ext \u001b[39m=\u001b[39m os\u001b[39m.\u001b[39mpath\u001b[39m.\u001b[39msplitext(\u001b[39mself\u001b[39m\u001b[39m.\u001b[39mname)[\u001b[39m1\u001b[39m]\n\u001b[1;32m    563\u001b[0m \u001b[39mif\u001b[39;00m \u001b[39mnot\u001b[39;00m \u001b[39mself\u001b[39m\u001b[39m.\u001b[39m_try_read_compressed(\u001b[39mself\u001b[39m\u001b[39m.\u001b[39mname, magic, mode, ext\u001b[39m=\u001b[39mext):\n\u001b[0;32m--> 564\u001b[0m     \u001b[39mself\u001b[39m\u001b[39m.\u001b[39m_file \u001b[39m=\u001b[39m fileobj_open(\u001b[39mself\u001b[39;49m\u001b[39m.\u001b[39;49mname, IO_FITS_MODES[mode])\n\u001b[1;32m    565\u001b[0m     \u001b[39mself\u001b[39m\u001b[39m.\u001b[39mclose_on_error \u001b[39m=\u001b[39m \u001b[39mTrue\u001b[39;00m\n\u001b[1;32m    567\u001b[0m \u001b[39m# Make certain we're back at the beginning of the file\u001b[39;00m\n\u001b[1;32m    568\u001b[0m \u001b[39m# BZ2File does not support seek when the file is open for writing, but\u001b[39;00m\n\u001b[1;32m    569\u001b[0m \u001b[39m# when opening a file for write, bz2.BZ2File always truncates anyway.\u001b[39;00m\n",
      "File \u001b[0;32m~/anaconda3/envs/astro_Python_ubuntu_env/lib/python3.9/site-packages/astropy/io/fits/util.py:388\u001b[0m, in \u001b[0;36mfileobj_open\u001b[0;34m(filename, mode)\u001b[0m\n\u001b[1;32m    378\u001b[0m \u001b[39mdef\u001b[39;00m \u001b[39mfileobj_open\u001b[39m(filename, mode):\n\u001b[1;32m    379\u001b[0m     \u001b[39m\"\"\"\u001b[39;00m\n\u001b[1;32m    380\u001b[0m \u001b[39m    A wrapper around the `open()` builtin.\u001b[39;00m\n\u001b[1;32m    381\u001b[0m \n\u001b[0;32m   (...)\u001b[0m\n\u001b[1;32m    385\u001b[0m \u001b[39m    a raw random-access file reader.\u001b[39;00m\n\u001b[1;32m    386\u001b[0m \u001b[39m    \"\"\"\u001b[39;00m\n\u001b[0;32m--> 388\u001b[0m     \u001b[39mreturn\u001b[39;00m \u001b[39mopen\u001b[39;49m(filename, mode, buffering\u001b[39m=\u001b[39;49m\u001b[39m0\u001b[39;49m)\n",
      "\u001b[0;31mFileNotFoundError\u001b[0m: [Errno 2] No such file or directory: 'KLEOPATRA_Light_r_2022-11-02-12-13-51_100sec_RiLA600_STX-16803_-20C_2bin_wcs_c.fit'"
     ]
    }
   ],
   "source": [
    "ccd = yfu.load_ccd(\"KLEOPATRA_Light_r_2022-11-02-12-13-51_100sec_RiLA600_STX-16803_-20C_2bin_wcs_c.fit\", unit=\"adu\")"
   ]
  },
  {
   "cell_type": "markdown",
   "id": "253b8b38",
   "metadata": {},
   "source": [
    "# Get the Ephemeris\n",
    "Using [JPL HORIZONS](https://ssd.jpl.nasa.gov/horizons.cgi#top), implemented to [`astroquery.jplhorizons`](https://astroquery.readthedocs.io/en/latest/jplhorizons/jplhorizons.html)"
   ]
  },
  {
   "cell_type": "code",
   "execution_count": null,
   "id": "28b3c072",
   "metadata": {},
   "outputs": [],
   "source": [
    "_, eph, _ = ypu.horizons_query(OBJID, epochs=Time(ccd.header[\"DATE-OBS\"]).jd, location=LOCATION)\n",
    "eph"
   ]
  },
  {
   "cell_type": "code",
   "execution_count": null,
   "id": "4418d919",
   "metadata": {},
   "outputs": [],
   "source": [
    "pos_targ_init = SkyCoord(eph[\"RA\"], eph[\"DEC\"], **SKYC_KW).to_pixel(ccd.wcs)\n",
    "ap = CircularAperture([pos_targ_init[0][0], pos_targ_init[1][0]], r=R_AP)\n",
    "an = CircularAnnulus([pos_targ_init[0][0], pos_targ_init[1][0]], r_in=R_IN, r_out=R_OUT)\n",
    "\n",
    "pos_targ_init"
   ]
  },
  {
   "cell_type": "markdown",
   "id": "31ded57f",
   "metadata": {},
   "source": [
    "# Initial Photometry of the Target"
   ]
  },
  {
   "cell_type": "markdown",
   "id": "9eda7c39",
   "metadata": {},
   "source": []
  },
  {
   "cell_type": "markdown",
   "id": "a84bad27",
   "metadata": {},
   "source": []
  },
  {
   "cell_type": "code",
   "execution_count": null,
   "id": "5b750247",
   "metadata": {},
   "outputs": [],
   "source": [
    "phot_targ = ypu.apphot_annulus(ccd, ap, an, error=yfu.errormap(ccd))\n",
    "phot_targ"
   ]
  },
  {
   "cell_type": "markdown",
   "id": "7529202e",
   "metadata": {},
   "source": [
    "# Query PS1 Objects in the FOV & Photometry\n",
    "\n",
    "I used [`astroquery.vizier`](https://astroquery.readthedocs.io/en/latest/vizier/vizier.html). However, note that the most modern catalog is available from MAST, e.g., [`astroquery.mast`](https://astroquery.readthedocs.io/en/latest/mast/mast.html)."
   ]
  },
  {
   "cell_type": "code",
   "execution_count": null,
   "id": "82c67e9e",
   "metadata": {},
   "outputs": [],
   "source": [
    "r_fov = yfu.fov_radius(ccd.header+ccd.wcs.to_header())\n",
    "print(r_fov)\n",
    "ps1 = ypu.PanSTARRS1(ccd.wcs.wcs.crval[0]*u.deg, ccd.wcs.wcs.crval[1]*u.deg, radius=r_fov,\n",
    "                     column_filters={\"rmag\":\"10.0..14.5\", \"e_rmag\":\"<0.10\", \"nr\":\">5\"})\n",
    "isnear = ypu.organize_ps1_and_isnear(\n",
    "    ps1, \n",
    "    header=ccd.header+ccd.wcs.to_header(), \n",
    "    bezel=5*FWHM_INIT*PIX2ARCSEC.value,\n",
    "    nearby_obj_minsep=5*FWHM_INIT*PIX2ARCSEC.value,\n",
    "    group_crit_separation=6*FWHM_INIT\n",
    ")\n",
    "df_stars = ps1.queried.to_pandas()"
   ]
  },
  {
   "cell_type": "code",
   "execution_count": null,
   "id": "d9988917",
   "metadata": {},
   "outputs": [],
   "source": [
    "df_stars"
   ]
  },
  {
   "cell_type": "code",
   "execution_count": null,
   "id": "823d6c55",
   "metadata": {},
   "outputs": [],
   "source": [
    "fig, axs = plt.subplots(1, 1, figsize=(8, 5), sharex=False, sharey=False, gridspec_kw=None)\n",
    "\n",
    "yvu.norm_imshow(axs, ccd, zscale=True)\n",
    "ap = CircularAperture([pos_targ_init[0][0], pos_targ_init[1][0]], r=R_AP)\n",
    "an = CircularAnnulus([pos_targ_init[0][0], pos_targ_init[1][0]], r_in=R_IN, r_out=R_OUT)\n",
    "ap.plot(axs, color=\"r\")\n",
    "an.plot(axs, color=\"b\")\n",
    "\n",
    "_phot_stars = []\n",
    "\n",
    "for i, row in df_stars.iterrows():\n",
    "    pos_star = SkyCoord(row[\"RAJ2000\"], row[\"DEJ2000\"], **SKYC_KW).to_pixel(ccd.wcs)\n",
    "    ap = CircularAperture([pos_star[0], pos_star[1]], r=R_AP)\n",
    "    an = CircularAnnulus([pos_star[0], pos_star[1]], r_in=R_IN, r_out=R_OUT)\n",
    "    _phot_star = ypu.apphot_annulus(ccd, ap, an, error=yfu.errormap(ccd))\n",
    "    _phot_star[\"Rmag\"] = row[\"Rmag\"]\n",
    "    _phot_star[\"e_Rmag\"] = row[\"e_Rmag\"]\n",
    "    _phot_star[\"grcolor\"] = row[\"grcolor\"]\n",
    "    _phot_star[\"e_grcolor\"] = row[\"e_grcolor\"]\n",
    "    _phot_star[\"id\"] = i\n",
    "    _phot_star[\"objID\"] = int(row[\"objID\"])\n",
    "    _phot_stars.append(_phot_star)\n",
    "    axs.text(pos_star[0]+10, pos_star[1]+10, f\"star {i}\", fontsize=8)\n",
    "    ap.plot(axs, color=\"orange\")\n",
    "    an.plot(axs, color=\"w\")\n",
    "\n",
    "\n",
    "plt.tight_layout()\n",
    "plt.show();"
   ]
  },
  {
   "cell_type": "code",
   "execution_count": null,
   "id": "276e0716",
   "metadata": {},
   "outputs": [],
   "source": [
    "phot_stars = pd.concat(_phot_stars)\n",
    "# phot_stars = phot_stars.loc[phot_stars[\"objID\"] != 110823405221754720].copy()  # star 15\n",
    "# SEE THE LAST CELL IN THIS FILE FOR DESCRIPTION\n",
    "phot_stars"
   ]
  },
  {
   "cell_type": "markdown",
   "id": "3323aa13",
   "metadata": {},
   "source": [
    "# Standardization Plots"
   ]
  },
  {
   "cell_type": "code",
   "execution_count": null,
   "id": "6f4b8f83",
   "metadata": {},
   "outputs": [],
   "source": [
    "fig, axs = plt.subplots(1, 1, figsize=(5, 5), sharex=False, sharey=False, gridspec_kw=None)\n",
    "\n",
    "_xx = np.linspace(13, 15)\n",
    "axs.plot(phot_stars[\"Rmag\"], phot_stars[\"mag\"], '+')\n",
    "axs.axhline(phot_targ[\"mag\"].values, label=\"Kleopatra, instrumental mag\")\n",
    "axs.plot(_xx, _xx + np.median(phot_stars[\"mag\"] - phot_stars[\"Rmag\"]))\n",
    "\n",
    "for _, row in phot_stars.iterrows():\n",
    "    axs.text(row[\"Rmag\"], row[\"mag\"], int(row[\"id\"]), fontsize=8)\n",
    "\n",
    "axs.set(\n",
    "    xlabel=\"R magnitude (PS1 to R_C filter by Tonry+2012)\",\n",
    "    ylabel=\"R_inst\"\n",
    ")\n",
    "axs.legend()\n",
    "\n",
    "plt.tight_layout()\n",
    "plt.show();"
   ]
  },
  {
   "cell_type": "code",
   "execution_count": null,
   "id": "3affe88e",
   "metadata": {},
   "outputs": [],
   "source": [
    "fig, axs = plt.subplots(1, 2, figsize=(9, 5), sharex=False, sharey=False, gridspec_kw=None)\n",
    "\n",
    "axs[0].plot(phot_stars[\"Rmag\"], phot_stars[\"mag\"] - phot_stars[\"Rmag\"], '+')\n",
    "axs[1].plot(phot_stars[\"grcolor\"], phot_stars[\"mag\"] - phot_stars[\"Rmag\"], '+')\n",
    "for _, row in phot_stars.iterrows():\n",
    "    axs[0].text(row[\"Rmag\"], row[\"mag\"] - row[\"Rmag\"], int(row[\"id\"]), fontsize=8)\n",
    "    axs[1].text(row[\"grcolor\"], row[\"mag\"] - row[\"Rmag\"], int(row[\"id\"]), fontsize=8)\n",
    "    \n",
    "axs[0].set(\n",
    "    xlabel=\"R magnitude (PS1 to R_C filter by Tonry+2012)\",\n",
    "    ylabel=\"R_inst - R\"\n",
    ")\n",
    "axs[1].set(\n",
    "    xlabel=\"g - r (PS1)\",\n",
    "    ylabel=\"R_inst - R\"\n",
    ")\n",
    "\n",
    "plt.tight_layout()\n",
    "plt.show();"
   ]
  },
  {
   "cell_type": "code",
   "execution_count": null,
   "id": "1761c3a1",
   "metadata": {},
   "outputs": [],
   "source": [
    "phot_targ"
   ]
  },
  {
   "cell_type": "markdown",
   "id": "79cefccd",
   "metadata": {},
   "source": [
    "# What's Wrong with Star #15 ??"
   ]
  },
  {
   "cell_type": "code",
   "execution_count": null,
   "id": "f19cf08a",
   "metadata": {},
   "outputs": [],
   "source": [
    "print(f'{int(df_stars.iloc[15][\"f_objID\"]):031b}')"
   ]
  },
  {
   "cell_type": "markdown",
   "id": "8bf7ab8b",
   "metadata": {},
   "source": [
    "Maybe it is just a peculiar star (happen to be nearby another object) that we should remove...\n",
    "\n",
    "**You can do it by uncommenting the commented line in cell 9**\n",
    "\n",
    "The meanings of binary flags can be found at [here](https://outerspace.stsci.edu/display/PANSTARRS/PS1+Object+Flags).\n",
    "\n",
    "Below is a simple description of this star 15:\n",
    "```\n",
    "'0011110000001001110000000000000'\n",
    "#  ^^^^      ^  ^^^  \n",
    "#3         2         1\n",
    "#0987654321098765432109876543210\n",
    "# flagged at 13, 14, 15, 18, 25, 26, 27, 28\n",
    "#         * FIT_AVE (8192) : average position was fitted\n",
    "#         * FIT_PM (16384) : proper motion model was fitted\n",
    "#         * FIT_PAR (32768) : parallax model was fitted\n",
    "#         * USE_PAR (262144) : parallax used (not AVE or PM)\n",
    "#         * GOOD (33554432) : good-quality measurement in our data (eg,PS)\n",
    "#         * GOOD_ALT (67108864) : good-quality measurement in external data\n",
    "#         (eg, 2MASS)\n",
    "#         * GOOD_STACK (134217728) : good-quality object in the stack (>1 good\n",
    "#         stack measurement)\n",
    "#         * BEST_STACK (268435456) : the primary stack measurements are the\n",
    "#         best measurements\n",
    "```"
   ]
  },
  {
   "cell_type": "code",
   "execution_count": null,
   "id": "f5a36716",
   "metadata": {},
   "outputs": [],
   "source": []
  }
 ],
 "metadata": {
  "kernelspec": {
   "display_name": "Python 3.9.12 ('astro_Python_ubuntu_env')",
   "language": "python",
   "name": "python3"
  },
  "language_info": {
   "codemirror_mode": {
    "name": "ipython",
    "version": 3
   },
   "file_extension": ".py",
   "mimetype": "text/x-python",
   "name": "python",
   "nbconvert_exporter": "python",
   "pygments_lexer": "ipython3",
   "version": "3.9.12"
  },
  "vscode": {
   "interpreter": {
    "hash": "73147851ede918c26f741c84bca6ea3575da18885c8fa4aa4a9fbe5902a3c298"
   }
  }
 },
 "nbformat": 4,
 "nbformat_minor": 5
}
