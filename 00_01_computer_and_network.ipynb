{
 "cells": [
  {
   "attachments": {},
   "cell_type": "markdown",
   "metadata": {},
   "source": [
    "# 00_00_computer_and_network"
   ]
  },
  {
   "attachments": {},
   "cell_type": "markdown",
   "metadata": {},
   "source": [
    "# 필요한 모듈\n",
    "\n",
    "이 프로젝트를 위해서는 아래의 모듈이 필요하다. \n",
    "\n",
    "> numpy, pandas, matplotlib, astropy, version_information"
   ]
  },
  {
   "attachments": {},
   "cell_type": "markdown",
   "metadata": {},
   "source": [
    "### 모듈 설치\n",
    "\n",
    "1. 콘솔 창에서 모듈을 설치할 때는 아래와 같은 형식으로 입력하면 된다.\n",
    "\n",
    ">pip install module_name==version\n",
    "\n",
    ">conda install module_name==version\n",
    "\n",
    "2. 주피터 노트북(코랩 포함)에 설치 할 때는 아래의 셀을 실행해서 실행되지 않은 모듈을 설치할 수 있다. (pip 기준) 만약 아나콘다 환경을 사용한다면 7행을 콘다 설치 명령어에 맞게 수정하면 된다."
   ]
  },
  {
   "cell_type": "code",
   "execution_count": 2,
   "metadata": {},
   "outputs": [],
   "source": [
    "#import sys\n",
    "#!pip install photutils==1.12"
   ]
  },
  {
   "cell_type": "code",
   "execution_count": 3,
   "metadata": {},
   "outputs": [
    {
     "name": "stdout",
     "output_type": "stream",
     "text": [
      "**** module numpy is installed\n",
      "**** module pandas is installed\n",
      "**** module matplotlib is installed\n",
      "**** module scipy is installed\n",
      "**** module astropy is installed\n",
      "**** module photutils is installed\n",
      "**** module sep is installed\n",
      "**** module ccdproc is installed\n",
      "**** module ysfitsutilpy is installed\n",
      "**** module ysphotutilpy is installed\n",
      "**** module astroscrappy is installed\n",
      "**** module version_information is installed\n",
      "The version_information extension is already loaded. To reload it, use:\n",
      "  %reload_ext version_information\n",
      "This notebook was generated at 2024-12-08 16:05:00 (KST = GMT+0900) \n",
      "0 Python     3.12.7 64bit [GCC 11.2.0]\n",
      "1 IPython    8.27.0\n",
      "2 OS         Linux 6.8.0 49 generic x86_64 with glibc2.39\n",
      "3 jupyter-book 1.0.3\n",
      "4 numpy      1.26.4\n",
      "5 pandas     2.2.3\n",
      "6 matplotlib 3.8.4\n",
      "7 scipy      1.14.1\n",
      "8 astropy    7.0.0\n",
      "9 photutils  1.12.0\n",
      "10 sep        1.2.1\n",
      "11 ccdproc    2.4.2\n",
      "12 ysfitsutilpy 0.2\n",
      "13 ysphotutilpy 0.1.1\n",
      "14 astroscrappy 1.2.0\n",
      "15 version_information 1.0.4\n"
     ]
    }
   ],
   "source": [
    "import importlib, sys, subprocess\n",
    "packages = \"jupyter-book, numpy, pandas, matplotlib, scipy, astropy, photutils, sep, ccdproc, ysfitsutilpy, ysphotutilpy, astroscrappy, version_information\" # required modules\n",
    "pkgs = packages.split(\", \")\n",
    "for pkg in pkgs :\n",
    "    if not importlib.util.find_spec(pkg):\n",
    "        #print(f\"**** module {pkg} is not installed\")\n",
    "        subprocess.check_call([sys.executable, '-m', 'pip', 'install', pkg, '-q'])\n",
    "    else: \n",
    "        print(f\"**** module {pkg} is installed\")\n",
    "\n",
    "%load_ext version_information\n",
    "import time\n",
    "now = time.strftime(\"%Y-%m-%d %H:%M:%S (%Z = GMT%z)\")\n",
    "print(f\"This notebook was generated at {now} \")\n",
    "\n",
    "vv = %version_information {packages}\n",
    "for i, pkg in enumerate(vv.packages):\n",
    "    print(f\"{i} {pkg[0]:10s} {pkg[1]:s}\")"
   ]
  },
  {
   "cell_type": "markdown",
   "metadata": {},
   "source": [
    "Precision-7910\n",
    "\n",
    "**** module numpy is installed\n",
    "**** module pandas is installed\n",
    "**** module matplotlib is installed\n",
    "**** module scipy is installed\n",
    "**** module astropy is installed\n",
    "**** module photutils is installed\n",
    "**** module sep is installed\n",
    "**** module ccdproc is installed\n",
    "**** module ysfitsutilpy is installed\n",
    "**** module ysphotutilpy is installed\n",
    "**** module astroscrappy is installed\n",
    "**** module version_information is installed\n",
    "This notebook was generated at 2024-12-08 12:22:59 (KST = GMT+0900) \n",
    "\"Important:  Gaia archive will be intermittently unavailable due to scheduled maintenance on 10-12-2024 from 08:00 to 10:00 (CET)\"\n",
    "0 Python     3.12.3 64bit [GCC 11.2.0]\n",
    "1 IPython    8.27.0\n",
    "2 OS         Linux 6.8.0 49 generic x86_64 with glibc2.39\n",
    "3 jupyter-book 1.0.3\n",
    "4 numpy      1.26.4\n",
    "5 pandas     2.2.3\n",
    "6 matplotlib 3.9.2\n",
    "7 scipy      1.14.1\n",
    "8 astropy    6.1.3\n",
    "9 photutils  1.12.0\n",
    "10 sep        1.2.1\n",
    "11 ccdproc    2.4.2\n",
    "12 ysfitsutilpy 0.2\n",
    "13 ysphotutilpy 0.1.1\n",
    "14 astroscrappy 1.2.0\n",
    "15 version_information 1.0.4\n"
   ]
  },
  {
   "cell_type": "markdown",
   "metadata": {},
   "source": [
    "Wool server \n",
    "\n",
    "This notebook was generated at 2024-11-27 16:10:23 (KST = GMT+0900) \n",
    "0 Python     3.12.4 64bit [GCC 11.2.0]\n",
    "1 IPython    8.27.0\n",
    "2 OS         Linux 6.8.0 49 generic x86_64 with glibc2.39\n",
    "3 numpy      1.26.4\n",
    "4 pandas     2.2.2\n",
    "5 matplotlib 3.9.2\n",
    "6 scipy      1.14.1\n",
    "7 astropy    6.1.0\n",
    "8 astroquery 0.4.7\n",
    "9 photutils  1.12.0\n",
    "10 ysfitsutilpy 0.2\n",
    "11 ysphotutilpy 0.1.1\n",
    "12 ccdproc    2.4.2\n",
    "13 aplpy      2.1.0\n",
    "14 sncosmo    2.11.2\n",
    "15 version_information 1.0.4\n",
    "\n",
    "0 Python     3.12.4 64bit [GCC 11.2.0]\n",
    "1 IPython    8.27.0\n",
    "2 OS         Linux 6.8.0 49 generic x86_64 with glibc2.39\n",
    "3 numpy      1.26.4\n",
    "4 pandas     2.2.2\n",
    "5 matplotlib 3.9.2\n",
    "6 scipy      1.14.1\n",
    "7 astropy    6.1.0\n",
    "8 photutils  1.12.0\n",
    "9 sep        1.2.1\n",
    "10 ccdproc    2.4.2\n",
    "11 ysfitsutilpy 0.2\n",
    "12 ysphotutilpy 0.1.1\n",
    "13 astroscrappy 1.2.0\n",
    "14 version_information 1.0.4"
   ]
  },
  {
   "cell_type": "markdown",
   "metadata": {},
   "source": [
    "## 운영체제 \n",
    "\n",
    "컴퓨터를 사용하기 위해서는 여러 요소들이 필요한데 그 중에 중요한 것 중에 하나가 바로 운영체제(OS, Operating System)입니다. 운영체제는 컴퓨터 시스템의 자원들을 효율적으로 관리하며, 사용자가 컴퓨터를 편리하고, 효과적으로 사용할 수 있도록 환경을 제공하는 여러 프로그램의 모임입니다. 운영체제는 컴퓨터 사용자와 컴퓨터 하드웨어 간의 인터페이스로서 동작하는 시스템 소프트웨어의 일종으로, 다른 응용프로그램이 유용한 작업을 할 수 있도록 환경을 제공합니다. 개인 컴퓨터(PC, Personal computer)에 많이 사용되는 운영 체제는 마이크로소프트의 윈도우(Microsoft windows), 애플의 macOS, 리눅스(Linux) 등이 있습니다. "
   ]
  },
  {
   "cell_type": "markdown",
   "metadata": {},
   "source": [
    "# Python 사용 환경 구성\n",
    "\n",
    "파이썬은 최근들어 인공 지능, 데이터 사이언스 등의 분야에서 널리 사용되고 있는 언어로 1991년에 발표되었습니다. 파이썬은 실무에서 많이 사용되었던 파이썬 2 버전(v2.7)과 새로운 기능을 계속 업그레이드하고 있는 파이썬 3 버전 (v3.X)이 있는데, 이 두 버전 간의 호환성 문제가 있습니다. 파이썬 2 버전(v2.7)은 현재 더이상 지원되지 않으므로 이 책에서는 파이썬 3 버전을 기준으로 설명합니다. 버전마다 for문 등의 루프에서 연산 효율이 매우 빨라지는 등 많은 개선이 되므로 최신 버전이 3개월이상 지나 안정화가 된 후에는 귀찮더라도 버전을 반드시 업데이트 하기를 추천합니다.\n",
    "\n",
    "파이썬은 다음과 같은 특징이 있습니다.\n",
    "\n",
    "* 인터프리터 언어로 컴파일을 하지 않고 바로 실행할 수 있습니다.\n",
    "* 무료이며 직관적이고 쉽게 배울수 있어 사용자 층이 많이 늘어나고 있습니다. \n",
    "* 객체 지향 언어로 객체에 대한 속성을 바꾸는 방법을 사용합니다. (vs 절차 지향 언어)\n",
    "* 과학, 수학 관련 모듈들이 많은 사람들에 의해 개발되어 배포되고 있습니다.\n",
    "* 버전 업데이트가 빠르게 이루어지고 버전간 호환성 문제가 발생할 수 있습니다.  \n",
    "* 실행 속도가 느린 편입니다. (개선할 수 있는 방법은 있음)"
   ]
  },
  {
   "cell_type": "markdown",
   "metadata": {},
   "source": [
    "##  아나콘다 설치\n",
    "\n",
    "파이썬을 계속 이용할 계획이 있으면 [아나콘다(Anaconda) 설치](https://anaconda.org/download/)를 권합니다. 윈도우, macOS, linux 등 자신의 OS에 맞는 아나콘다를 설치하면 여러가지 환경 변수들도 설정해 주어 사용이 편리합니다.\n",
    "\n",
    "파이썬의 다양한 모듈이 있습니다.는 점은 장점이기도 하지만 여러가지 프로젝트를 실행하다 보면 버전 간의 충돌로 인해 단점이 되기도 합니다. 이때 필요한 것이 가상환경인데 아나콘다를 이용하면 모듈 설치와 가상환경 구성을 매우 쉽게 이용할 수 있습니다.\n"
   ]
  },
  {
   "cell_type": "markdown",
   "metadata": {},
   "source": [
    "## VS code 사용\n",
    "\n",
    "VS code(Visual Studio Code)는 Microsoft에서 제공하는 가벼운 IDE입니다. VS Code는  설치 후 python extension 등 필요한 extension을 인스톨하여 그 기능을 확장하는 형태로 사용합니다. Python 코딩에도 매우 편리하며 주피터 노트북 사용도 매우 편리하게 해 줍니다.\n",
    "\n",
    "VS code에서는 필요한 extension을 설치를 추천하는데, 위치와 삭제는 간단하며, 다음의 쉬운 extension을 설치하면 됩니다.\n",
    "\n",
    "* Python : Microsoft 제공. Python 사용을 위해 필요\n",
    "\n",
    "* Jupyter : Jupyter 사용을 위해 필요\n",
    "\n",
    "* Material Icon Theme : 파일 아이콘을 멋지게 보여줌.\n",
    "\n",
    "VS code에서 주피터 노트북을 열어본 모습은 다음 그림과 같다.\n"
   ]
  },
  {
   "cell_type": "code",
   "execution_count": null,
   "metadata": {},
   "outputs": [],
   "source": []
  }
 ],
 "metadata": {
  "kernelspec": {
   "display_name": "astro_Python_env",
   "language": "python",
   "name": "python3"
  },
  "language_info": {
   "codemirror_mode": {
    "name": "ipython",
    "version": 3
   },
   "file_extension": ".py",
   "mimetype": "text/x-python",
   "name": "python",
   "nbconvert_exporter": "python",
   "pygments_lexer": "ipython3",
   "version": "3.13.1"
  },
  "orig_nbformat": 4
 },
 "nbformat": 4,
 "nbformat_minor": 2
}
