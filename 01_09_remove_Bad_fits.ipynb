{
 "cells": [
  {
   "attachments": {},
   "cell_type": "markdown",
   "metadata": {},
   "source": [
    "# 01_09_remove_Bad_fits"
   ]
  },
  {
   "attachments": {},
   "cell_type": "markdown",
   "metadata": {},
   "source": [
    "## 필요한 모듈\n",
    "\n",
    "이 프로젝트를 위해서는 아래의 모듈이 필요하다. \n",
    "\n",
    "> numpy, pandas, matplotlib, scipy, astropy, photutils, ccdproc, version_information"
   ]
  },
  {
   "attachments": {},
   "cell_type": "markdown",
   "metadata": {},
   "source": [
    "### 모듈 설치\n",
    "\n",
    "1. 콘솔 창에서 모듈을 설치할 때는 아래와 같은 형식으로 입력하면 된다.\n",
    "\n",
    ">pip install module_name==version\n",
    "\n",
    ">conda install module_name=version\n",
    "\n",
    "2. 주피터 노트북(코랩 포함)에 설치 할 때는 아래의 셀을 실행해서 실행되지 않은 모듈을 설치할 수 있다. (pip 기준) 만약 아나콘다 환경을 사용한다면 7행을 콘다 설치 명령어에 맞게 수정하면 된다."
   ]
  },
  {
   "attachments": {},
   "cell_type": "markdown",
   "metadata": {},
   "source": [
    "### 모듈 버전 확인\n",
    "\n",
    "아래 셀을 실행하면 이 노트북을 실행한 파이썬 및 관련 모듈의 버전을 확인할 수 있다."
   ]
  },
  {
   "cell_type": "code",
   "execution_count": 181,
   "metadata": {},
   "outputs": [],
   "source": [
    "# import importlib, sys, subprocess\n",
    "# packages = \"numpy, matplotlib, astropy, astroquery, version_information\" # required modules\n",
    "# pkgs = packages.split(\", \")\n",
    "# for pkg in pkgs :\n",
    "#     if not importlib.util.find_spec(pkg):\n",
    "#         #print(f\"**** module {pkg} is not installed\")\n",
    "#         subprocess.check_call([sys.executable, '-m', 'pip', 'install', pkg, '-q'])\n",
    "#     else: \n",
    "#         print(f\"**** module {pkg} is installed\")\n",
    "\n",
    "# %load_ext version_information\n",
    "# import time\n",
    "# now = time.strftime(\"%Y-%m-%d %H:%M:%S (%Z = GMT%z)\")\n",
    "# print(f\"This notebook was generated at {now} \")\n",
    "\n",
    "# vv = %version_information {packages}\n",
    "# for i, pkg in enumerate(vv.packages):\n",
    "#     print(f\"{i} {pkg[0]:10s} {pkg[1]:s}\")"
   ]
  },
  {
   "attachments": {},
   "cell_type": "markdown",
   "metadata": {},
   "source": [
    "### import modules"
   ]
  },
  {
   "cell_type": "code",
   "execution_count": 182,
   "metadata": {},
   "outputs": [],
   "source": [
    "from glob import glob\n",
    "from pathlib import Path\n",
    "import os\n",
    "import shutil\n",
    "import numpy as np\n",
    "import matplotlib.pyplot as plt\n",
    "import astropy.units as u\n",
    "from astropy.stats import sigma_clip\n",
    "from ccdproc import combine, ccd_process, CCDData\n",
    "from pathlib import Path\n",
    "\n",
    "import ysfitsutilpy as yfu\n",
    "import ysphotutilpy as ypu\n",
    "from astropy.io import fits\n",
    "import _astro_utilities\n",
    "import _Python_utilities\n",
    "\n",
    "plt.rcParams.update({'figure.max_open_warning': 0})"
   ]
  },
  {
   "cell_type": "code",
   "execution_count": 183,
   "metadata": {},
   "outputs": [
    {
     "name": "stdout",
     "output_type": "stream",
     "text": [
      "DOINGDIRs:  ['/mnt/Rdata/OBS_data/C3-EXO/-_-_-_2024-09_-_GSON300_STF-8300M_-_1bin/-_CAL-BDF_-_2024-09_-_GSON300_STF-8300M_-_1bin/', '/mnt/Rdata/OBS_data/C3-EXO/-_-_-_2024-09_-_GSON300_STF-8300M_-_1bin/HAT-P-59b_LIGHT_-_2024-09-07_-_GSON300_STF-8300M_-_1bin/', '/mnt/Rdata/OBS_data/C3-EXO/-_-_-_2024-09_-_GSON300_STF-8300M_-_1bin/HAT-P-6b_LIGHT_-_2024-09-24_-_GSON300_STF-8300M_-_1bin/', '/mnt/Rdata/OBS_data/C3-EXO/-_-_-_2024-09_-_GSON300_STF-8300M_-_1bin/HAT-P-93b_LIGHT_-_2024-09-26_-_GSON300_STF-8300M_-_1bin/', '/mnt/Rdata/OBS_data/C3-EXO/-_-_-_2024-09_-_GSON300_STF-8300M_-_1bin/KELT-1b_LIGHT_-_2024-09-23_-_GSON300_STF-8300M_-_1bin/', '/mnt/Rdata/OBS_data/C3-EXO/-_-_-_2024-09_-_GSON300_STF-8300M_-_1bin/TOI-1518b_LIGHT_-_2024-09-10_-_GSON300_STF-8300M_-_1bin/', '/mnt/Rdata/OBS_data/C3-EXO/-_-_-_2024-09_-_GSON300_STF-8300M_-_1bin/WASP-33b_LIGHT_-_2024-09-28_-_GSON300_STF-8300M_-_1bin/', '/mnt/Rdata/OBS_data/C3-EXO/-_-_-_2024-09_-_GSON300_STF-8300M_-_1bin/WASP-52b_LIGHT_-_2024-09-27_-_GSON300_STF-8300M_-_1bin/']\n",
      "len(DOINGDIRs):  8\n",
      "BDFDIR:  ['/mnt/Rdata/OBS_data/C3-EXO/-_-_-_2024-09_-_GSON300_STF-8300M_-_1bin/-_CAL-BDF_-_2024-09_-_GSON300_STF-8300M_-_1bin/']\n",
      "DOINGDIRs:  ['/mnt/Rdata/OBS_data/C3-EXO/-_-_-_2024-09_-_GSON300_STF-8300M_-_1bin/HAT-P-59b_LIGHT_-_2024-09-07_-_GSON300_STF-8300M_-_1bin/', '/mnt/Rdata/OBS_data/C3-EXO/-_-_-_2024-09_-_GSON300_STF-8300M_-_1bin/HAT-P-6b_LIGHT_-_2024-09-24_-_GSON300_STF-8300M_-_1bin/', '/mnt/Rdata/OBS_data/C3-EXO/-_-_-_2024-09_-_GSON300_STF-8300M_-_1bin/HAT-P-93b_LIGHT_-_2024-09-26_-_GSON300_STF-8300M_-_1bin/', '/mnt/Rdata/OBS_data/C3-EXO/-_-_-_2024-09_-_GSON300_STF-8300M_-_1bin/KELT-1b_LIGHT_-_2024-09-23_-_GSON300_STF-8300M_-_1bin/', '/mnt/Rdata/OBS_data/C3-EXO/-_-_-_2024-09_-_GSON300_STF-8300M_-_1bin/TOI-1518b_LIGHT_-_2024-09-10_-_GSON300_STF-8300M_-_1bin/', '/mnt/Rdata/OBS_data/C3-EXO/-_-_-_2024-09_-_GSON300_STF-8300M_-_1bin/WASP-33b_LIGHT_-_2024-09-28_-_GSON300_STF-8300M_-_1bin/', '/mnt/Rdata/OBS_data/C3-EXO/-_-_-_2024-09_-_GSON300_STF-8300M_-_1bin/WASP-52b_LIGHT_-_2024-09-27_-_GSON300_STF-8300M_-_1bin/']\n",
      "len(DOINGDIRs):  7\n"
     ]
    }
   ],
   "source": [
    "#%%\n",
    "#######################################################\n",
    "BASEDIR = Path(\"/mnt/Rdata/OBS_data\")  \n",
    "\n",
    "PROJECDIR = BASEDIR / \"C1-Variable\"\n",
    "TODODIR = PROJECDIR / \"-_-_-_2016-_-_RiLA600_STX-16803_-_2bin\"\n",
    "TODODIR = PROJECDIR / \"-_-_-_2017-01_-_RiLA600_STX-16803_-_2bin\"\n",
    "TODODIR = PROJECDIR / \"-_-_-_2017-03_-_RiLA600_STX-16803_-_2bin\"\n",
    "TODODIR = PROJECDIR / \"-_-_-_2017-05_-_RiLA600_STX-16803_-_2bin\"\n",
    "TODODIR = PROJECDIR / \"-_-_-_2017-06_-_RiLA600_STX-16803_-_2bin\"\n",
    "TODODIR = PROJECDIR / \"-_-_-_2021-10_-_RiLA600_STX-16803_-_2bin\"\n",
    "TODODIR = PROJECDIR / \"-_-_-_2022-01_-_RiLA600_STX-16803_-_2bin\"\n",
    "\n",
    "PROJECDIR = BASEDIR / \"C2-Asteroid\"\n",
    "TODODIR = PROJECDIR / \"-_-_-_2022-_-_GSON300_STF-8300M_-_1bin\"\n",
    "TODODIR = PROJECDIR / \"-_-_-_2022-_-_RiLA600_STX-16803_-_1bin\"\n",
    "TODODIR = PROJECDIR / \"-_-_-_2022-_-_RiLA600_STX-16803_-_2bin\"\n",
    "TODODIR = PROJECDIR / \"-_-_-_2023-_-_GSON300_STF-8300M_-_1bin\"\n",
    "TODODIR = PROJECDIR / \"-_-_-_2023-_-_RiLA600_STX-16803_-_1bin\"\n",
    "TODODIR = PROJECDIR / \"-_-_-_2023-_-_RiLA600_STX-16803_-_2bin\"\n",
    "\n",
    "PROJECDIR = BASEDIR / \"C3-EXO\"\n",
    "TODODIR = PROJECDIR / \"-_-_-_2024-05_-_GSON300_STF-8300M_-_1bin\"\n",
    "TODODIR = PROJECDIR / \"-_-_-_2024-05_-_RiLA600_STX-16803_-_1bin\"\n",
    "TODODIR = PROJECDIR / \"-_-_-_2024-06_-_GSON300_STF-8300M_-_1bin\"\n",
    "TODODIR = PROJECDIR / \"-_-_-_2024-06_-_RiLA600_STX-16803_-_2bin\"\n",
    "TODODIR = PROJECDIR / \"-_-_-_2024-09_-_GSON300_STF-8300M_-_1bin\"\n",
    "\n",
    "# PROJECDIR = BASEDIR / \"C4-Spectra\"\n",
    "# TODODIR = PROJECDIR / \"-_-_-_2024-05_TEC140_ASI183MMPro_-_1bin\"\n",
    "\n",
    "DOINGDIRs = sorted(_Python_utilities.getFullnameListOfsubDirs(TODODIR))\n",
    "print (\"DOINGDIRs: \", format(DOINGDIRs))\n",
    "print (\"len(DOINGDIRs): \", format(len(DOINGDIRs)))\n",
    "\n",
    "try : \n",
    "    BDFDIR = [x for x in DOINGDIRs if \"CAL-BDF\" in str(x)]\n",
    "    print (\"BDFDIR: \", format(BDFDIR))\n",
    "    BDFDIR = Path(BDFDIR[0])\n",
    "    \n",
    "except : \n",
    "    pass\n",
    "\n",
    "DOINGDIRs = sorted([x for x in DOINGDIRs if \"_LIGHT_\" in str(x)])\n",
    "# print (\"DOINGDIRs: \", format(DOINGDIRs))\n",
    "# print (\"len(DOINGDIRs): \", format(len(DOINGDIRs)))\n",
    "\n",
    "# filter_str = 'Kepler-17b_LIGHT_-_2024-06-26_-_RiLA600_STX-16803_-_2bin'\n",
    "# DOINGDIRs = [x for x in DOINGDIRs if filter_str in str(x)]\n",
    "# remove = 'BIAS'\n",
    "# DOINGDIRs = [x for x in DOINGDIRs if remove not in x]\n",
    "# remove = 'DARK'\n",
    "# DOINGDIRs = [x for x in DOINGDIRs if remove not in x]\n",
    "# remove = 'FLAT'\n",
    "# DOINGDIRs = [x for x in DOINGDIRs if remove not in x]\n",
    "print (\"DOINGDIRs: \", DOINGDIRs)\n",
    "print (\"len(DOINGDIRs): \", len(DOINGDIRs))"
   ]
  },
  {
   "cell_type": "code",
   "execution_count": 184,
   "metadata": {},
   "outputs": [],
   "source": [
    "DOINGDIR = Path(DOINGDIRs[0])"
   ]
  },
  {
   "cell_type": "code",
   "execution_count": 185,
   "metadata": {},
   "outputs": [
    {
     "name": "stdout",
     "output_type": "stream",
     "text": [
      "fpaths: [PosixPath('/mnt/Rdata/OBS_data/C3-EXO/-_-_-_2024-09_-_GSON300_STF-8300M_-_1bin/HAT-P-59b_LIGHT_-_2024-09-07_-_GSON300_STF-8300M_-_1bin/Bad_fits/HAT-P-59b_LIGHT_R_2024-09-07-13-41-09_150sec_GSON300_STF-8300M_-10c_1bin.fit'), PosixPath('/mnt/Rdata/OBS_data/C3-EXO/-_-_-_2024-09_-_GSON300_STF-8300M_-_1bin/HAT-P-59b_LIGHT_-_2024-09-07_-_GSON300_STF-8300M_-_1bin/Bad_fits/HAT-P-59b_LIGHT_R_2024-09-07-13-46-53_150sec_GSON300_STF-8300M_-10c_1bin.fit'), PosixPath('/mnt/Rdata/OBS_data/C3-EXO/-_-_-_2024-09_-_GSON300_STF-8300M_-_1bin/HAT-P-59b_LIGHT_-_2024-09-07_-_GSON300_STF-8300M_-_1bin/Bad_fits/HAT-P-59b_LIGHT_R_2024-09-07-13-52-15_150sec_GSON300_STF-8300M_-10c_1bin.fit'), PosixPath('/mnt/Rdata/OBS_data/C3-EXO/-_-_-_2024-09_-_GSON300_STF-8300M_-_1bin/HAT-P-59b_LIGHT_-_2024-09-07_-_GSON300_STF-8300M_-_1bin/Bad_fits/HAT-P-59b_LIGHT_R_2024-09-07-13-57-37_150sec_GSON300_STF-8300M_-10c_1bin.fit'), PosixPath('/mnt/Rdata/OBS_data/C3-EXO/-_-_-_2024-09_-_GSON300_STF-8300M_-_1bin/HAT-P-59b_LIGHT_-_2024-09-07_-_GSON300_STF-8300M_-_1bin/Bad_fits/HAT-P-59b_LIGHT_R_2024-09-07-14-03-17_150sec_GSON300_STF-8300M_-10c_1bin.fit'), PosixPath('/mnt/Rdata/OBS_data/C3-EXO/-_-_-_2024-09_-_GSON300_STF-8300M_-_1bin/HAT-P-59b_LIGHT_-_2024-09-07_-_GSON300_STF-8300M_-_1bin/Bad_fits/HAT-P-59b_LIGHT_R_2024-09-07-14-08-38_150sec_GSON300_STF-8300M_-10c_1bin.fit'), PosixPath('/mnt/Rdata/OBS_data/C3-EXO/-_-_-_2024-09_-_GSON300_STF-8300M_-_1bin/HAT-P-59b_LIGHT_-_2024-09-07_-_GSON300_STF-8300M_-_1bin/Bad_fits/HAT-P-59b_LIGHT_R_2024-09-07-14-13-20_150sec_GSON300_STF-8300M_-10c_1bin.fit'), PosixPath('/mnt/Rdata/OBS_data/C3-EXO/-_-_-_2024-09_-_GSON300_STF-8300M_-_1bin/HAT-P-59b_LIGHT_-_2024-09-07_-_GSON300_STF-8300M_-_1bin/Bad_fits/HAT-P-59b_LIGHT_R_2024-09-07-14-18-00_150sec_GSON300_STF-8300M_-10c_1bin.fit'), PosixPath('/mnt/Rdata/OBS_data/C3-EXO/-_-_-_2024-09_-_GSON300_STF-8300M_-_1bin/HAT-P-59b_LIGHT_-_2024-09-07_-_GSON300_STF-8300M_-_1bin/Bad_fits/HAT-P-59b_LIGHT_R_2024-09-07-14-22-40_150sec_GSON300_STF-8300M_-10c_1bin.fit'), PosixPath('/mnt/Rdata/OBS_data/C3-EXO/-_-_-_2024-09_-_GSON300_STF-8300M_-_1bin/HAT-P-59b_LIGHT_-_2024-09-07_-_GSON300_STF-8300M_-_1bin/Bad_fits/HAT-P-59b_LIGHT_R_2024-09-07-14-27-20_150sec_GSON300_STF-8300M_-9c_1bin.fit'), PosixPath('/mnt/Rdata/OBS_data/C3-EXO/-_-_-_2024-09_-_GSON300_STF-8300M_-_1bin/HAT-P-59b_LIGHT_-_2024-09-07_-_GSON300_STF-8300M_-_1bin/Bad_fits/HAT-P-59b_LIGHT_R_2024-09-07-14-32-00_150sec_GSON300_STF-8300M_-9c_1bin.fit'), PosixPath('/mnt/Rdata/OBS_data/C3-EXO/-_-_-_2024-09_-_GSON300_STF-8300M_-_1bin/HAT-P-59b_LIGHT_-_2024-09-07_-_GSON300_STF-8300M_-_1bin/Bad_fits/HAT-P-59b_LIGHT_R_2024-09-07-14-36-41_150sec_GSON300_STF-8300M_-9c_1bin.fit'), PosixPath('/mnt/Rdata/OBS_data/C3-EXO/-_-_-_2024-09_-_GSON300_STF-8300M_-_1bin/HAT-P-59b_LIGHT_-_2024-09-07_-_GSON300_STF-8300M_-_1bin/Bad_fits/HAT-P-59b_LIGHT_R_2024-09-07-14-41-21_150sec_GSON300_STF-8300M_-10c_1bin.fit'), PosixPath('/mnt/Rdata/OBS_data/C3-EXO/-_-_-_2024-09_-_GSON300_STF-8300M_-_1bin/HAT-P-59b_LIGHT_-_2024-09-07_-_GSON300_STF-8300M_-_1bin/Bad_fits/HAT-P-59b_LIGHT_R_2024-09-07-14-46-01_150sec_GSON300_STF-8300M_-9c_1bin.fit'), PosixPath('/mnt/Rdata/OBS_data/C3-EXO/-_-_-_2024-09_-_GSON300_STF-8300M_-_1bin/HAT-P-59b_LIGHT_-_2024-09-07_-_GSON300_STF-8300M_-_1bin/Bad_fits/HAT-P-59b_LIGHT_R_2024-09-07-14-53-02_150sec_GSON300_STF-8300M_-9c_1bin.fit'), PosixPath('/mnt/Rdata/OBS_data/C3-EXO/-_-_-_2024-09_-_GSON300_STF-8300M_-_1bin/HAT-P-59b_LIGHT_-_2024-09-07_-_GSON300_STF-8300M_-_1bin/Bad_fits/HAT-P-59b_LIGHT_R_2024-09-07-14-59-05_150sec_GSON300_STF-8300M_-9c_1bin.fit'), PosixPath('/mnt/Rdata/OBS_data/C3-EXO/-_-_-_2024-09_-_GSON300_STF-8300M_-_1bin/HAT-P-59b_LIGHT_-_2024-09-07_-_GSON300_STF-8300M_-_1bin/Bad_fits/HAT-P-59b_LIGHT_R_2024-09-07-15-05-08_150sec_GSON300_STF-8300M_-9c_1bin.fit'), PosixPath('/mnt/Rdata/OBS_data/C3-EXO/-_-_-_2024-09_-_GSON300_STF-8300M_-_1bin/HAT-P-59b_LIGHT_-_2024-09-07_-_GSON300_STF-8300M_-_1bin/Bad_fits/HAT-P-59b_LIGHT_R_2024-09-07-15-11-11_150sec_GSON300_STF-8300M_-9c_1bin.fit'), PosixPath('/mnt/Rdata/OBS_data/C3-EXO/-_-_-_2024-09_-_GSON300_STF-8300M_-_1bin/HAT-P-59b_LIGHT_-_2024-09-07_-_GSON300_STF-8300M_-_1bin/Bad_fits/HAT-P-59b_LIGHT_R_2024-09-07-15-17-15_150sec_GSON300_STF-8300M_-10c_1bin.fit'), PosixPath('/mnt/Rdata/OBS_data/C3-EXO/-_-_-_2024-09_-_GSON300_STF-8300M_-_1bin/HAT-P-59b_LIGHT_-_2024-09-07_-_GSON300_STF-8300M_-_1bin/Bad_fits/HAT-P-59b_LIGHT_R_2024-09-07-15-23-20_150sec_GSON300_STF-8300M_-9c_1bin.fit'), PosixPath('/mnt/Rdata/OBS_data/C3-EXO/-_-_-_2024-09_-_GSON300_STF-8300M_-_1bin/HAT-P-59b_LIGHT_-_2024-09-07_-_GSON300_STF-8300M_-_1bin/Bad_fits/HAT-P-59b_LIGHT_R_2024-09-07-15-29-24_150sec_GSON300_STF-8300M_-9c_1bin.fit'), PosixPath('/mnt/Rdata/OBS_data/C3-EXO/-_-_-_2024-09_-_GSON300_STF-8300M_-_1bin/HAT-P-59b_LIGHT_-_2024-09-07_-_GSON300_STF-8300M_-_1bin/Bad_fits/HAT-P-59b_LIGHT_R_2024-09-07-15-35-29_150sec_GSON300_STF-8300M_-9c_1bin.fit'), PosixPath('/mnt/Rdata/OBS_data/C3-EXO/-_-_-_2024-09_-_GSON300_STF-8300M_-_1bin/HAT-P-59b_LIGHT_-_2024-09-07_-_GSON300_STF-8300M_-_1bin/Bad_fits/HAT-P-59b_LIGHT_R_2024-09-07-15-41-32_150sec_GSON300_STF-8300M_-10c_1bin.fit'), PosixPath('/mnt/Rdata/OBS_data/C3-EXO/-_-_-_2024-09_-_GSON300_STF-8300M_-_1bin/HAT-P-59b_LIGHT_-_2024-09-07_-_GSON300_STF-8300M_-_1bin/Bad_fits/HAT-P-59b_LIGHT_R_2024-09-07-15-47-37_150sec_GSON300_STF-8300M_-10c_1bin.fit'), PosixPath('/mnt/Rdata/OBS_data/C3-EXO/-_-_-_2024-09_-_GSON300_STF-8300M_-_1bin/HAT-P-59b_LIGHT_-_2024-09-07_-_GSON300_STF-8300M_-_1bin/Bad_fits/HAT-P-59b_LIGHT_R_2024-09-07-15-54-31_150sec_GSON300_STF-8300M_-10c_1bin.fit'), PosixPath('/mnt/Rdata/OBS_data/C3-EXO/-_-_-_2024-09_-_GSON300_STF-8300M_-_1bin/HAT-P-59b_LIGHT_-_2024-09-07_-_GSON300_STF-8300M_-_1bin/Bad_fits/HAT-P-59b_LIGHT_R_2024-09-07-16-22-53_150sec_GSON300_STF-8300M_-11c_1bin.fit'), PosixPath('/mnt/Rdata/OBS_data/C3-EXO/-_-_-_2024-09_-_GSON300_STF-8300M_-_1bin/HAT-P-59b_LIGHT_-_2024-09-07_-_GSON300_STF-8300M_-_1bin/Bad_fits/HAT-P-59b_LIGHT_R_2024-09-07-16-27-33_150sec_GSON300_STF-8300M_-11c_1bin.fit'), PosixPath('/mnt/Rdata/OBS_data/C3-EXO/-_-_-_2024-09_-_GSON300_STF-8300M_-_1bin/HAT-P-59b_LIGHT_-_2024-09-07_-_GSON300_STF-8300M_-_1bin/Bad_fits/HAT-P-59b_LIGHT_R_2024-09-07-16-33-36_150sec_GSON300_STF-8300M_-11c_1bin.fit'), PosixPath('/mnt/Rdata/OBS_data/C3-EXO/-_-_-_2024-09_-_GSON300_STF-8300M_-_1bin/HAT-P-59b_LIGHT_-_2024-09-07_-_GSON300_STF-8300M_-_1bin/Bad_fits/HAT-P-59b_LIGHT_R_2024-09-07-16-38-57_150sec_GSON300_STF-8300M_-11c_1bin.fit'), PosixPath('/mnt/Rdata/OBS_data/C3-EXO/-_-_-_2024-09_-_GSON300_STF-8300M_-_1bin/HAT-P-59b_LIGHT_-_2024-09-07_-_GSON300_STF-8300M_-_1bin/Bad_fits/HAT-P-59b_LIGHT_R_2024-09-07-16-43-37_150sec_GSON300_STF-8300M_-11c_1bin.fit'), PosixPath('/mnt/Rdata/OBS_data/C3-EXO/-_-_-_2024-09_-_GSON300_STF-8300M_-_1bin/HAT-P-59b_LIGHT_-_2024-09-07_-_GSON300_STF-8300M_-_1bin/Bad_fits/HAT-P-59b_LIGHT_R_2024-09-07-17-07-59_150sec_GSON300_STF-8300M_-11c_1bin.fit'), PosixPath('/mnt/Rdata/OBS_data/C3-EXO/-_-_-_2024-09_-_GSON300_STF-8300M_-_1bin/HAT-P-59b_LIGHT_-_2024-09-07_-_GSON300_STF-8300M_-_1bin/Bad_fits/HAT-P-59b_LIGHT_R_2024-09-07-17-13-21_150sec_GSON300_STF-8300M_-11c_1bin.fit'), PosixPath('/mnt/Rdata/OBS_data/C3-EXO/-_-_-_2024-09_-_GSON300_STF-8300M_-_1bin/HAT-P-59b_LIGHT_-_2024-09-07_-_GSON300_STF-8300M_-_1bin/Bad_fits/HAT-P-59b_LIGHT_R_2024-09-07-17-18-02_150sec_GSON300_STF-8300M_-11c_1bin.fit'), PosixPath('/mnt/Rdata/OBS_data/C3-EXO/-_-_-_2024-09_-_GSON300_STF-8300M_-_1bin/HAT-P-59b_LIGHT_-_2024-09-07_-_GSON300_STF-8300M_-_1bin/Bad_fits/HAT-P-59b_LIGHT_R_2024-09-07-17-22-43_150sec_GSON300_STF-8300M_-11c_1bin.fit'), PosixPath('/mnt/Rdata/OBS_data/C3-EXO/-_-_-_2024-09_-_GSON300_STF-8300M_-_1bin/HAT-P-59b_LIGHT_-_2024-09-07_-_GSON300_STF-8300M_-_1bin/Bad_fits/HAT-P-59b_LIGHT_R_2024-09-07-17-28-05_150sec_GSON300_STF-8300M_-11c_1bin.fit'), PosixPath('/mnt/Rdata/OBS_data/C3-EXO/-_-_-_2024-09_-_GSON300_STF-8300M_-_1bin/HAT-P-59b_LIGHT_-_2024-09-07_-_GSON300_STF-8300M_-_1bin/Bad_fits/HAT-P-59b_LIGHT_R_2024-09-07-17-32-45_150sec_GSON300_STF-8300M_-11c_1bin.fit'), PosixPath('/mnt/Rdata/OBS_data/C3-EXO/-_-_-_2024-09_-_GSON300_STF-8300M_-_1bin/HAT-P-59b_LIGHT_-_2024-09-07_-_GSON300_STF-8300M_-_1bin/Bad_fits/HAT-P-59b_LIGHT_R_2024-09-07-17-38-06_150sec_GSON300_STF-8300M_-11c_1bin.fit'), PosixPath('/mnt/Rdata/OBS_data/C3-EXO/-_-_-_2024-09_-_GSON300_STF-8300M_-_1bin/HAT-P-59b_LIGHT_-_2024-09-07_-_GSON300_STF-8300M_-_1bin/Bad_fits/HAT-P-59b_LIGHT_R_2024-09-07-17-44-05_150sec_GSON300_STF-8300M_-11c_1bin.fit'), PosixPath('/mnt/Rdata/OBS_data/C3-EXO/-_-_-_2024-09_-_GSON300_STF-8300M_-_1bin/HAT-P-59b_LIGHT_-_2024-09-07_-_GSON300_STF-8300M_-_1bin/Bad_fits/HAT-P-59b_LIGHT_R_2024-09-07-17-48-45_150sec_GSON300_STF-8300M_-11c_1bin.fit'), PosixPath('/mnt/Rdata/OBS_data/C3-EXO/-_-_-_2024-09_-_GSON300_STF-8300M_-_1bin/HAT-P-59b_LIGHT_-_2024-09-07_-_GSON300_STF-8300M_-_1bin/Bad_fits/HAT-P-59b_LIGHT_R_2024-09-07-17-53-25_150sec_GSON300_STF-8300M_-11c_1bin.fit'), PosixPath('/mnt/Rdata/OBS_data/C3-EXO/-_-_-_2024-09_-_GSON300_STF-8300M_-_1bin/HAT-P-59b_LIGHT_-_2024-09-07_-_GSON300_STF-8300M_-_1bin/Bad_fits/HAT-P-59b_LIGHT_R_2024-09-07-17-58-05_150sec_GSON300_STF-8300M_-11c_1bin.fit'), PosixPath('/mnt/Rdata/OBS_data/C3-EXO/-_-_-_2024-09_-_GSON300_STF-8300M_-_1bin/HAT-P-59b_LIGHT_-_2024-09-07_-_GSON300_STF-8300M_-_1bin/Bad_fits/HAT-P-59b_LIGHT_R_2024-09-07-18-02-45_150sec_GSON300_STF-8300M_-11c_1bin.fit'), PosixPath('/mnt/Rdata/OBS_data/C3-EXO/-_-_-_2024-09_-_GSON300_STF-8300M_-_1bin/HAT-P-59b_LIGHT_-_2024-09-07_-_GSON300_STF-8300M_-_1bin/Bad_fits/HAT-P-59b_LIGHT_R_2024-09-07-18-07-26_150sec_GSON300_STF-8300M_-11c_1bin.fit'), PosixPath('/mnt/Rdata/OBS_data/C3-EXO/-_-_-_2024-09_-_GSON300_STF-8300M_-_1bin/HAT-P-59b_LIGHT_-_2024-09-07_-_GSON300_STF-8300M_-_1bin/Bad_fits/HAT-P-59b_LIGHT_R_2024-09-07-18-13-28_150sec_GSON300_STF-8300M_-11c_1bin.fit'), PosixPath('/mnt/Rdata/OBS_data/C3-EXO/-_-_-_2024-09_-_GSON300_STF-8300M_-_1bin/HAT-P-59b_LIGHT_-_2024-09-07_-_GSON300_STF-8300M_-_1bin/Bad_fits/HAT-P-59b_LIGHT_R_2024-09-07-18-18-51_150sec_GSON300_STF-8300M_-11c_1bin.fit'), PosixPath('/mnt/Rdata/OBS_data/C3-EXO/-_-_-_2024-09_-_GSON300_STF-8300M_-_1bin/HAT-P-59b_LIGHT_-_2024-09-07_-_GSON300_STF-8300M_-_1bin/Bad_fits/HAT-P-59b_LIGHT_R_2024-09-07-18-24-14_150sec_GSON300_STF-8300M_-11c_1bin.fit'), PosixPath('/mnt/Rdata/OBS_data/C3-EXO/-_-_-_2024-09_-_GSON300_STF-8300M_-_1bin/HAT-P-59b_LIGHT_-_2024-09-07_-_GSON300_STF-8300M_-_1bin/Bad_fits/HAT-P-59b_LIGHT_R_2024-09-07-18-30-20_150sec_GSON300_STF-8300M_-11c_1bin.fit'), PosixPath('/mnt/Rdata/OBS_data/C3-EXO/-_-_-_2024-09_-_GSON300_STF-8300M_-_1bin/HAT-P-59b_LIGHT_-_2024-09-07_-_GSON300_STF-8300M_-_1bin/Bad_fits/HAT-P-59b_LIGHT_R_2024-09-07-18-36-24_150sec_GSON300_STF-8300M_-11c_1bin.fit'), PosixPath('/mnt/Rdata/OBS_data/C3-EXO/-_-_-_2024-09_-_GSON300_STF-8300M_-_1bin/HAT-P-59b_LIGHT_-_2024-09-07_-_GSON300_STF-8300M_-_1bin/Bad_fits/HAT-P-59b_LIGHT_R_2024-09-07-18-41-46_150sec_GSON300_STF-8300M_-11c_1bin.fit'), PosixPath('/mnt/Rdata/OBS_data/C3-EXO/-_-_-_2024-09_-_GSON300_STF-8300M_-_1bin/HAT-P-59b_LIGHT_-_2024-09-07_-_GSON300_STF-8300M_-_1bin/Bad_fits/HAT-P-59b_LIGHT_R_2024-09-07-18-46-26_150sec_GSON300_STF-8300M_-11c_1bin.fit'), PosixPath('/mnt/Rdata/OBS_data/C3-EXO/-_-_-_2024-09_-_GSON300_STF-8300M_-_1bin/HAT-P-59b_LIGHT_-_2024-09-07_-_GSON300_STF-8300M_-_1bin/Bad_fits/HAT-P-59b_LIGHT_R_2024-09-07-18-51-06_150sec_GSON300_STF-8300M_-11c_1bin.fit'), PosixPath('/mnt/Rdata/OBS_data/C3-EXO/-_-_-_2024-09_-_GSON300_STF-8300M_-_1bin/HAT-P-59b_LIGHT_-_2024-09-07_-_GSON300_STF-8300M_-_1bin/Bad_fits/HAT-P-59b_LIGHT_R_2024-09-07-18-55-47_150sec_GSON300_STF-8300M_-12c_1bin.fit'), PosixPath('/mnt/Rdata/OBS_data/C3-EXO/-_-_-_2024-09_-_GSON300_STF-8300M_-_1bin/HAT-P-59b_LIGHT_-_2024-09-07_-_GSON300_STF-8300M_-_1bin/Bad_fits/HAT-P-59b_LIGHT_R_2024-09-07-19-01-08_150sec_GSON300_STF-8300M_-11c_1bin.fit'), PosixPath('/mnt/Rdata/OBS_data/C3-EXO/-_-_-_2024-09_-_GSON300_STF-8300M_-_1bin/HAT-P-59b_LIGHT_-_2024-09-07_-_GSON300_STF-8300M_-_1bin/Bad_fits/HAT-P-59b_LIGHT_R_2024-09-07-19-05-49_150sec_GSON300_STF-8300M_-11c_1bin.fit'), PosixPath('/mnt/Rdata/OBS_data/C3-EXO/-_-_-_2024-09_-_GSON300_STF-8300M_-_1bin/HAT-P-59b_LIGHT_-_2024-09-07_-_GSON300_STF-8300M_-_1bin/Bad_fits/HAT-P-59b_LIGHT_R_2024-09-07-19-11-10_150sec_GSON300_STF-8300M_-11c_1bin.fit'), PosixPath('/mnt/Rdata/OBS_data/C3-EXO/-_-_-_2024-09_-_GSON300_STF-8300M_-_1bin/HAT-P-59b_LIGHT_-_2024-09-07_-_GSON300_STF-8300M_-_1bin/Bad_fits/HAT-P-59b_LIGHT_R_2024-09-07-19-15-50_150sec_GSON300_STF-8300M_-11c_1bin.fit'), PosixPath('/mnt/Rdata/OBS_data/C3-EXO/-_-_-_2024-09_-_GSON300_STF-8300M_-_1bin/HAT-P-59b_LIGHT_-_2024-09-07_-_GSON300_STF-8300M_-_1bin/Bad_fits/HAT-P-59b_LIGHT_R_2024-09-07-19-21-12_150sec_GSON300_STF-8300M_-11c_1bin.fit'), PosixPath('/mnt/Rdata/OBS_data/C3-EXO/-_-_-_2024-09_-_GSON300_STF-8300M_-_1bin/HAT-P-59b_LIGHT_-_2024-09-07_-_GSON300_STF-8300M_-_1bin/Bad_fits/HAT-P-59b_LIGHT_R_2024-09-07-19-26-53_150sec_GSON300_STF-8300M_-11c_1bin.fit'), PosixPath('/mnt/Rdata/OBS_data/C3-EXO/-_-_-_2024-09_-_GSON300_STF-8300M_-_1bin/HAT-P-59b_LIGHT_-_2024-09-07_-_GSON300_STF-8300M_-_1bin/Bad_fits/HAT-P-59b_LIGHT_R_2024-09-07-19-31-33_150sec_GSON300_STF-8300M_-11c_1bin.fit'), PosixPath('/mnt/Rdata/OBS_data/C3-EXO/-_-_-_2024-09_-_GSON300_STF-8300M_-_1bin/HAT-P-59b_LIGHT_-_2024-09-07_-_GSON300_STF-8300M_-_1bin/Bad_fits/HAT-P-59b_LIGHT_R_2024-09-07-19-36-13_150sec_GSON300_STF-8300M_-11c_1bin.fit'), PosixPath('/mnt/Rdata/OBS_data/C3-EXO/-_-_-_2024-09_-_GSON300_STF-8300M_-_1bin/HAT-P-59b_LIGHT_-_2024-09-07_-_GSON300_STF-8300M_-_1bin/Bad_fits/HAT-P-59b_LIGHT_R_2024-09-07-19-40-52_150sec_GSON300_STF-8300M_-11c_1bin.fit'), PosixPath('/mnt/Rdata/OBS_data/C3-EXO/-_-_-_2024-09_-_GSON300_STF-8300M_-_1bin/HAT-P-59b_LIGHT_-_2024-09-07_-_GSON300_STF-8300M_-_1bin/Bad_fits/HAT-P-59b_LIGHT_R_2024-09-07-19-45-33_150sec_GSON300_STF-8300M_-11c_1bin.fit'), PosixPath('/mnt/Rdata/OBS_data/C3-EXO/-_-_-_2024-09_-_GSON300_STF-8300M_-_1bin/HAT-P-59b_LIGHT_-_2024-09-07_-_GSON300_STF-8300M_-_1bin/Bad_fits/HAT-P-59b_LIGHT_R_2024-09-07-19-50-12_150sec_GSON300_STF-8300M_-11c_1bin.fit'), PosixPath('/mnt/Rdata/OBS_data/C3-EXO/-_-_-_2024-09_-_GSON300_STF-8300M_-_1bin/HAT-P-59b_LIGHT_-_2024-09-07_-_GSON300_STF-8300M_-_1bin/Bad_fits/HAT-P-59b_LIGHT_R_2024-09-07-19-54-52_150sec_GSON300_STF-8300M_-11c_1bin.fit'), PosixPath('/mnt/Rdata/OBS_data/C3-EXO/-_-_-_2024-09_-_GSON300_STF-8300M_-_1bin/HAT-P-59b_LIGHT_-_2024-09-07_-_GSON300_STF-8300M_-_1bin/Bad_fits/HAT-P-59b_LIGHT_R_2024-09-07-19-59-32_150sec_GSON300_STF-8300M_-11c_1bin.fit'), PosixPath('/mnt/Rdata/OBS_data/C3-EXO/-_-_-_2024-09_-_GSON300_STF-8300M_-_1bin/HAT-P-59b_LIGHT_-_2024-09-07_-_GSON300_STF-8300M_-_1bin/Bad_fits/HAT-P-59b_LIGHT_R_2024-09-07-20-04-12_150sec_GSON300_STF-8300M_-11c_1bin.fit'), PosixPath('/mnt/Rdata/OBS_data/C3-EXO/-_-_-_2024-09_-_GSON300_STF-8300M_-_1bin/HAT-P-59b_LIGHT_-_2024-09-07_-_GSON300_STF-8300M_-_1bin/Bad_fits/HAT-P-59b_LIGHT_R_2024-09-07-20-08-52_150sec_GSON300_STF-8300M_-11c_1bin.fit'), PosixPath('/mnt/Rdata/OBS_data/C3-EXO/-_-_-_2024-09_-_GSON300_STF-8300M_-_1bin/HAT-P-59b_LIGHT_-_2024-09-07_-_GSON300_STF-8300M_-_1bin/Bad_fits/HAT-P-59b_LIGHT_V_2024-09-07-13-44-06_120sec_GSON300_STF-8300M_-10c_1bin.fit'), PosixPath('/mnt/Rdata/OBS_data/C3-EXO/-_-_-_2024-09_-_GSON300_STF-8300M_-_1bin/HAT-P-59b_LIGHT_-_2024-09-07_-_GSON300_STF-8300M_-_1bin/Bad_fits/HAT-P-59b_LIGHT_V_2024-09-07-13-50-10_120sec_GSON300_STF-8300M_-10c_1bin.fit'), PosixPath('/mnt/Rdata/OBS_data/C3-EXO/-_-_-_2024-09_-_GSON300_STF-8300M_-_1bin/HAT-P-59b_LIGHT_-_2024-09-07_-_GSON300_STF-8300M_-_1bin/Bad_fits/HAT-P-59b_LIGHT_V_2024-09-07-13-54-50_120sec_GSON300_STF-8300M_-10c_1bin.fit'), PosixPath('/mnt/Rdata/OBS_data/C3-EXO/-_-_-_2024-09_-_GSON300_STF-8300M_-_1bin/HAT-P-59b_LIGHT_-_2024-09-07_-_GSON300_STF-8300M_-_1bin/Bad_fits/HAT-P-59b_LIGHT_V_2024-09-07-14-01-12_120sec_GSON300_STF-8300M_-10c_1bin.fit'), PosixPath('/mnt/Rdata/OBS_data/C3-EXO/-_-_-_2024-09_-_GSON300_STF-8300M_-_1bin/HAT-P-59b_LIGHT_-_2024-09-07_-_GSON300_STF-8300M_-_1bin/Bad_fits/HAT-P-59b_LIGHT_V_2024-09-07-14-05-52_120sec_GSON300_STF-8300M_-10c_1bin.fit'), PosixPath('/mnt/Rdata/OBS_data/C3-EXO/-_-_-_2024-09_-_GSON300_STF-8300M_-_1bin/HAT-P-59b_LIGHT_-_2024-09-07_-_GSON300_STF-8300M_-_1bin/Bad_fits/HAT-P-59b_LIGHT_V_2024-09-07-14-11-14_120sec_GSON300_STF-8300M_-10c_1bin.fit'), PosixPath('/mnt/Rdata/OBS_data/C3-EXO/-_-_-_2024-09_-_GSON300_STF-8300M_-_1bin/HAT-P-59b_LIGHT_-_2024-09-07_-_GSON300_STF-8300M_-_1bin/Bad_fits/HAT-P-59b_LIGHT_V_2024-09-07-14-15-54_120sec_GSON300_STF-8300M_-10c_1bin.fit'), PosixPath('/mnt/Rdata/OBS_data/C3-EXO/-_-_-_2024-09_-_GSON300_STF-8300M_-_1bin/HAT-P-59b_LIGHT_-_2024-09-07_-_GSON300_STF-8300M_-_1bin/Bad_fits/HAT-P-59b_LIGHT_V_2024-09-07-14-20-35_120sec_GSON300_STF-8300M_-10c_1bin.fit'), PosixPath('/mnt/Rdata/OBS_data/C3-EXO/-_-_-_2024-09_-_GSON300_STF-8300M_-_1bin/HAT-P-59b_LIGHT_-_2024-09-07_-_GSON300_STF-8300M_-_1bin/Bad_fits/HAT-P-59b_LIGHT_V_2024-09-07-14-25-15_120sec_GSON300_STF-8300M_-9c_1bin.fit'), PosixPath('/mnt/Rdata/OBS_data/C3-EXO/-_-_-_2024-09_-_GSON300_STF-8300M_-_1bin/HAT-P-59b_LIGHT_-_2024-09-07_-_GSON300_STF-8300M_-_1bin/Bad_fits/HAT-P-59b_LIGHT_V_2024-09-07-14-29-55_120sec_GSON300_STF-8300M_-9c_1bin.fit'), PosixPath('/mnt/Rdata/OBS_data/C3-EXO/-_-_-_2024-09_-_GSON300_STF-8300M_-_1bin/HAT-P-59b_LIGHT_-_2024-09-07_-_GSON300_STF-8300M_-_1bin/Bad_fits/HAT-P-59b_LIGHT_V_2024-09-07-14-34-36_120sec_GSON300_STF-8300M_-10c_1bin.fit'), PosixPath('/mnt/Rdata/OBS_data/C3-EXO/-_-_-_2024-09_-_GSON300_STF-8300M_-_1bin/HAT-P-59b_LIGHT_-_2024-09-07_-_GSON300_STF-8300M_-_1bin/Bad_fits/HAT-P-59b_LIGHT_V_2024-09-07-14-39-16_120sec_GSON300_STF-8300M_-10c_1bin.fit'), PosixPath('/mnt/Rdata/OBS_data/C3-EXO/-_-_-_2024-09_-_GSON300_STF-8300M_-_1bin/HAT-P-59b_LIGHT_-_2024-09-07_-_GSON300_STF-8300M_-_1bin/Bad_fits/HAT-P-59b_LIGHT_V_2024-09-07-14-43-56_120sec_GSON300_STF-8300M_-9c_1bin.fit'), PosixPath('/mnt/Rdata/OBS_data/C3-EXO/-_-_-_2024-09_-_GSON300_STF-8300M_-_1bin/HAT-P-59b_LIGHT_-_2024-09-07_-_GSON300_STF-8300M_-_1bin/Bad_fits/HAT-P-59b_LIGHT_V_2024-09-07-14-50-16_120sec_GSON300_STF-8300M_-9c_1bin.fit'), PosixPath('/mnt/Rdata/OBS_data/C3-EXO/-_-_-_2024-09_-_GSON300_STF-8300M_-_1bin/HAT-P-59b_LIGHT_-_2024-09-07_-_GSON300_STF-8300M_-_1bin/Bad_fits/HAT-P-59b_LIGHT_V_2024-09-07-14-56-18_120sec_GSON300_STF-8300M_-9c_1bin.fit'), PosixPath('/mnt/Rdata/OBS_data/C3-EXO/-_-_-_2024-09_-_GSON300_STF-8300M_-_1bin/HAT-P-59b_LIGHT_-_2024-09-07_-_GSON300_STF-8300M_-_1bin/Bad_fits/HAT-P-59b_LIGHT_V_2024-09-07-15-02-21_120sec_GSON300_STF-8300M_-10c_1bin.fit'), PosixPath('/mnt/Rdata/OBS_data/C3-EXO/-_-_-_2024-09_-_GSON300_STF-8300M_-_1bin/HAT-P-59b_LIGHT_-_2024-09-07_-_GSON300_STF-8300M_-_1bin/Bad_fits/HAT-P-59b_LIGHT_V_2024-09-07-15-08-25_120sec_GSON300_STF-8300M_-9c_1bin.fit'), PosixPath('/mnt/Rdata/OBS_data/C3-EXO/-_-_-_2024-09_-_GSON300_STF-8300M_-_1bin/HAT-P-59b_LIGHT_-_2024-09-07_-_GSON300_STF-8300M_-_1bin/Bad_fits/HAT-P-59b_LIGHT_V_2024-09-07-15-14-28_120sec_GSON300_STF-8300M_-9c_1bin.fit'), PosixPath('/mnt/Rdata/OBS_data/C3-EXO/-_-_-_2024-09_-_GSON300_STF-8300M_-_1bin/HAT-P-59b_LIGHT_-_2024-09-07_-_GSON300_STF-8300M_-_1bin/Bad_fits/HAT-P-59b_LIGHT_V_2024-09-07-15-20-33_120sec_GSON300_STF-8300M_-9c_1bin.fit'), PosixPath('/mnt/Rdata/OBS_data/C3-EXO/-_-_-_2024-09_-_GSON300_STF-8300M_-_1bin/HAT-P-59b_LIGHT_-_2024-09-07_-_GSON300_STF-8300M_-_1bin/Bad_fits/HAT-P-59b_LIGHT_V_2024-09-07-15-26-38_120sec_GSON300_STF-8300M_-9c_1bin.fit'), PosixPath('/mnt/Rdata/OBS_data/C3-EXO/-_-_-_2024-09_-_GSON300_STF-8300M_-_1bin/HAT-P-59b_LIGHT_-_2024-09-07_-_GSON300_STF-8300M_-_1bin/Bad_fits/HAT-P-59b_LIGHT_V_2024-09-07-15-32-41_120sec_GSON300_STF-8300M_-9c_1bin.fit'), PosixPath('/mnt/Rdata/OBS_data/C3-EXO/-_-_-_2024-09_-_GSON300_STF-8300M_-_1bin/HAT-P-59b_LIGHT_-_2024-09-07_-_GSON300_STF-8300M_-_1bin/Bad_fits/HAT-P-59b_LIGHT_V_2024-09-07-15-38-45_120sec_GSON300_STF-8300M_-9c_1bin.fit'), PosixPath('/mnt/Rdata/OBS_data/C3-EXO/-_-_-_2024-09_-_GSON300_STF-8300M_-_1bin/HAT-P-59b_LIGHT_-_2024-09-07_-_GSON300_STF-8300M_-_1bin/Bad_fits/HAT-P-59b_LIGHT_V_2024-09-07-15-44-50_120sec_GSON300_STF-8300M_-10c_1bin.fit'), PosixPath('/mnt/Rdata/OBS_data/C3-EXO/-_-_-_2024-09_-_GSON300_STF-8300M_-_1bin/HAT-P-59b_LIGHT_-_2024-09-07_-_GSON300_STF-8300M_-_1bin/Bad_fits/HAT-P-59b_LIGHT_V_2024-09-07-16-25-28_120sec_GSON300_STF-8300M_-11c_1bin.fit'), PosixPath('/mnt/Rdata/OBS_data/C3-EXO/-_-_-_2024-09_-_GSON300_STF-8300M_-_1bin/HAT-P-59b_LIGHT_-_2024-09-07_-_GSON300_STF-8300M_-_1bin/Bad_fits/HAT-P-59b_LIGHT_V_2024-09-07-16-30-50_120sec_GSON300_STF-8300M_-10c_1bin.fit'), PosixPath('/mnt/Rdata/OBS_data/C3-EXO/-_-_-_2024-09_-_GSON300_STF-8300M_-_1bin/HAT-P-59b_LIGHT_-_2024-09-07_-_GSON300_STF-8300M_-_1bin/Bad_fits/HAT-P-59b_LIGHT_V_2024-09-07-16-36-11_120sec_GSON300_STF-8300M_-11c_1bin.fit'), PosixPath('/mnt/Rdata/OBS_data/C3-EXO/-_-_-_2024-09_-_GSON300_STF-8300M_-_1bin/HAT-P-59b_LIGHT_-_2024-09-07_-_GSON300_STF-8300M_-_1bin/Bad_fits/HAT-P-59b_LIGHT_V_2024-09-07-16-41-32_120sec_GSON300_STF-8300M_-11c_1bin.fit'), PosixPath('/mnt/Rdata/OBS_data/C3-EXO/-_-_-_2024-09_-_GSON300_STF-8300M_-_1bin/HAT-P-59b_LIGHT_-_2024-09-07_-_GSON300_STF-8300M_-_1bin/Bad_fits/HAT-P-59b_LIGHT_V_2024-09-07-17-05-13_120sec_GSON300_STF-8300M_-11c_1bin.fit'), PosixPath('/mnt/Rdata/OBS_data/C3-EXO/-_-_-_2024-09_-_GSON300_STF-8300M_-_1bin/HAT-P-59b_LIGHT_-_2024-09-07_-_GSON300_STF-8300M_-_1bin/Bad_fits/HAT-P-59b_LIGHT_V_2024-09-07-17-11-16_120sec_GSON300_STF-8300M_-11c_1bin.fit'), PosixPath('/mnt/Rdata/OBS_data/C3-EXO/-_-_-_2024-09_-_GSON300_STF-8300M_-_1bin/HAT-P-59b_LIGHT_-_2024-09-07_-_GSON300_STF-8300M_-_1bin/Bad_fits/HAT-P-59b_LIGHT_V_2024-09-07-17-15-57_120sec_GSON300_STF-8300M_-11c_1bin.fit'), PosixPath('/mnt/Rdata/OBS_data/C3-EXO/-_-_-_2024-09_-_GSON300_STF-8300M_-_1bin/HAT-P-59b_LIGHT_-_2024-09-07_-_GSON300_STF-8300M_-_1bin/Bad_fits/HAT-P-59b_LIGHT_V_2024-09-07-17-20-38_120sec_GSON300_STF-8300M_-11c_1bin.fit'), PosixPath('/mnt/Rdata/OBS_data/C3-EXO/-_-_-_2024-09_-_GSON300_STF-8300M_-_1bin/HAT-P-59b_LIGHT_-_2024-09-07_-_GSON300_STF-8300M_-_1bin/Bad_fits/HAT-P-59b_LIGHT_V_2024-09-07-17-25-18_120sec_GSON300_STF-8300M_-11c_1bin.fit'), PosixPath('/mnt/Rdata/OBS_data/C3-EXO/-_-_-_2024-09_-_GSON300_STF-8300M_-_1bin/HAT-P-59b_LIGHT_-_2024-09-07_-_GSON300_STF-8300M_-_1bin/Bad_fits/HAT-P-59b_LIGHT_V_2024-09-07-17-30-40_120sec_GSON300_STF-8300M_-11c_1bin.fit'), PosixPath('/mnt/Rdata/OBS_data/C3-EXO/-_-_-_2024-09_-_GSON300_STF-8300M_-_1bin/HAT-P-59b_LIGHT_-_2024-09-07_-_GSON300_STF-8300M_-_1bin/Bad_fits/HAT-P-59b_LIGHT_V_2024-09-07-17-35-20_120sec_GSON300_STF-8300M_-11c_1bin.fit'), PosixPath('/mnt/Rdata/OBS_data/C3-EXO/-_-_-_2024-09_-_GSON300_STF-8300M_-_1bin/HAT-P-59b_LIGHT_-_2024-09-07_-_GSON300_STF-8300M_-_1bin/Bad_fits/HAT-P-59b_LIGHT_V_2024-09-07-17-42-00_120sec_GSON300_STF-8300M_-11c_1bin.fit'), PosixPath('/mnt/Rdata/OBS_data/C3-EXO/-_-_-_2024-09_-_GSON300_STF-8300M_-_1bin/HAT-P-59b_LIGHT_-_2024-09-07_-_GSON300_STF-8300M_-_1bin/Bad_fits/HAT-P-59b_LIGHT_V_2024-09-07-17-46-40_120sec_GSON300_STF-8300M_-11c_1bin.fit'), PosixPath('/mnt/Rdata/OBS_data/C3-EXO/-_-_-_2024-09_-_GSON300_STF-8300M_-_1bin/HAT-P-59b_LIGHT_-_2024-09-07_-_GSON300_STF-8300M_-_1bin/Bad_fits/HAT-P-59b_LIGHT_V_2024-09-07-17-51-20_120sec_GSON300_STF-8300M_-11c_1bin.fit'), PosixPath('/mnt/Rdata/OBS_data/C3-EXO/-_-_-_2024-09_-_GSON300_STF-8300M_-_1bin/HAT-P-59b_LIGHT_-_2024-09-07_-_GSON300_STF-8300M_-_1bin/Bad_fits/HAT-P-59b_LIGHT_V_2024-09-07-17-56-00_120sec_GSON300_STF-8300M_-11c_1bin.fit'), PosixPath('/mnt/Rdata/OBS_data/C3-EXO/-_-_-_2024-09_-_GSON300_STF-8300M_-_1bin/HAT-P-59b_LIGHT_-_2024-09-07_-_GSON300_STF-8300M_-_1bin/Bad_fits/HAT-P-59b_LIGHT_V_2024-09-07-18-00-40_120sec_GSON300_STF-8300M_-11c_1bin.fit'), PosixPath('/mnt/Rdata/OBS_data/C3-EXO/-_-_-_2024-09_-_GSON300_STF-8300M_-_1bin/HAT-P-59b_LIGHT_-_2024-09-07_-_GSON300_STF-8300M_-_1bin/Bad_fits/HAT-P-59b_LIGHT_V_2024-09-07-18-05-20_120sec_GSON300_STF-8300M_-11c_1bin.fit'), PosixPath('/mnt/Rdata/OBS_data/C3-EXO/-_-_-_2024-09_-_GSON300_STF-8300M_-_1bin/HAT-P-59b_LIGHT_-_2024-09-07_-_GSON300_STF-8300M_-_1bin/Bad_fits/HAT-P-59b_LIGHT_V_2024-09-07-18-10-43_120sec_GSON300_STF-8300M_-11c_1bin.fit'), PosixPath('/mnt/Rdata/OBS_data/C3-EXO/-_-_-_2024-09_-_GSON300_STF-8300M_-_1bin/HAT-P-59b_LIGHT_-_2024-09-07_-_GSON300_STF-8300M_-_1bin/Bad_fits/HAT-P-59b_LIGHT_V_2024-09-07-18-16-46_120sec_GSON300_STF-8300M_-11c_1bin.fit'), PosixPath('/mnt/Rdata/OBS_data/C3-EXO/-_-_-_2024-09_-_GSON300_STF-8300M_-_1bin/HAT-P-59b_LIGHT_-_2024-09-07_-_GSON300_STF-8300M_-_1bin/Bad_fits/HAT-P-59b_LIGHT_V_2024-09-07-18-21-26_120sec_GSON300_STF-8300M_-11c_1bin.fit'), PosixPath('/mnt/Rdata/OBS_data/C3-EXO/-_-_-_2024-09_-_GSON300_STF-8300M_-_1bin/HAT-P-59b_LIGHT_-_2024-09-07_-_GSON300_STF-8300M_-_1bin/Bad_fits/HAT-P-59b_LIGHT_V_2024-09-07-18-27-32_120sec_GSON300_STF-8300M_-11c_1bin.fit'), PosixPath('/mnt/Rdata/OBS_data/C3-EXO/-_-_-_2024-09_-_GSON300_STF-8300M_-_1bin/HAT-P-59b_LIGHT_-_2024-09-07_-_GSON300_STF-8300M_-_1bin/Bad_fits/HAT-P-59b_LIGHT_V_2024-09-07-18-34-19_120sec_GSON300_STF-8300M_-11c_1bin.fit'), PosixPath('/mnt/Rdata/OBS_data/C3-EXO/-_-_-_2024-09_-_GSON300_STF-8300M_-_1bin/HAT-P-59b_LIGHT_-_2024-09-07_-_GSON300_STF-8300M_-_1bin/Bad_fits/HAT-P-59b_LIGHT_V_2024-09-07-18-39-41_120sec_GSON300_STF-8300M_-11c_1bin.fit'), PosixPath('/mnt/Rdata/OBS_data/C3-EXO/-_-_-_2024-09_-_GSON300_STF-8300M_-_1bin/HAT-P-59b_LIGHT_-_2024-09-07_-_GSON300_STF-8300M_-_1bin/Bad_fits/HAT-P-59b_LIGHT_V_2024-09-07-18-44-21_120sec_GSON300_STF-8300M_-11c_1bin.fit'), PosixPath('/mnt/Rdata/OBS_data/C3-EXO/-_-_-_2024-09_-_GSON300_STF-8300M_-_1bin/HAT-P-59b_LIGHT_-_2024-09-07_-_GSON300_STF-8300M_-_1bin/Bad_fits/HAT-P-59b_LIGHT_V_2024-09-07-18-49-02_120sec_GSON300_STF-8300M_-11c_1bin.fit'), PosixPath('/mnt/Rdata/OBS_data/C3-EXO/-_-_-_2024-09_-_GSON300_STF-8300M_-_1bin/HAT-P-59b_LIGHT_-_2024-09-07_-_GSON300_STF-8300M_-_1bin/Bad_fits/HAT-P-59b_LIGHT_V_2024-09-07-18-53-42_120sec_GSON300_STF-8300M_-11c_1bin.fit'), PosixPath('/mnt/Rdata/OBS_data/C3-EXO/-_-_-_2024-09_-_GSON300_STF-8300M_-_1bin/HAT-P-59b_LIGHT_-_2024-09-07_-_GSON300_STF-8300M_-_1bin/Bad_fits/HAT-P-59b_LIGHT_V_2024-09-07-18-58-22_120sec_GSON300_STF-8300M_-12c_1bin.fit'), PosixPath('/mnt/Rdata/OBS_data/C3-EXO/-_-_-_2024-09_-_GSON300_STF-8300M_-_1bin/HAT-P-59b_LIGHT_-_2024-09-07_-_GSON300_STF-8300M_-_1bin/Bad_fits/HAT-P-59b_LIGHT_V_2024-09-07-19-03-44_120sec_GSON300_STF-8300M_-11c_1bin.fit'), PosixPath('/mnt/Rdata/OBS_data/C3-EXO/-_-_-_2024-09_-_GSON300_STF-8300M_-_1bin/HAT-P-59b_LIGHT_-_2024-09-07_-_GSON300_STF-8300M_-_1bin/Bad_fits/HAT-P-59b_LIGHT_V_2024-09-07-19-09-05_120sec_GSON300_STF-8300M_-11c_1bin.fit'), PosixPath('/mnt/Rdata/OBS_data/C3-EXO/-_-_-_2024-09_-_GSON300_STF-8300M_-_1bin/HAT-P-59b_LIGHT_-_2024-09-07_-_GSON300_STF-8300M_-_1bin/Bad_fits/HAT-P-59b_LIGHT_V_2024-09-07-19-13-45_120sec_GSON300_STF-8300M_-11c_1bin.fit'), PosixPath('/mnt/Rdata/OBS_data/C3-EXO/-_-_-_2024-09_-_GSON300_STF-8300M_-_1bin/HAT-P-59b_LIGHT_-_2024-09-07_-_GSON300_STF-8300M_-_1bin/Bad_fits/HAT-P-59b_LIGHT_V_2024-09-07-19-19-07_120sec_GSON300_STF-8300M_-11c_1bin.fit'), PosixPath('/mnt/Rdata/OBS_data/C3-EXO/-_-_-_2024-09_-_GSON300_STF-8300M_-_1bin/HAT-P-59b_LIGHT_-_2024-09-07_-_GSON300_STF-8300M_-_1bin/Bad_fits/HAT-P-59b_LIGHT_V_2024-09-07-19-24-47_120sec_GSON300_STF-8300M_-11c_1bin.fit'), PosixPath('/mnt/Rdata/OBS_data/C3-EXO/-_-_-_2024-09_-_GSON300_STF-8300M_-_1bin/HAT-P-59b_LIGHT_-_2024-09-07_-_GSON300_STF-8300M_-_1bin/Bad_fits/HAT-P-59b_LIGHT_V_2024-09-07-19-29-28_120sec_GSON300_STF-8300M_-11c_1bin.fit'), PosixPath('/mnt/Rdata/OBS_data/C3-EXO/-_-_-_2024-09_-_GSON300_STF-8300M_-_1bin/HAT-P-59b_LIGHT_-_2024-09-07_-_GSON300_STF-8300M_-_1bin/Bad_fits/HAT-P-59b_LIGHT_V_2024-09-07-19-34-07_120sec_GSON300_STF-8300M_-11c_1bin.fit'), PosixPath('/mnt/Rdata/OBS_data/C3-EXO/-_-_-_2024-09_-_GSON300_STF-8300M_-_1bin/HAT-P-59b_LIGHT_-_2024-09-07_-_GSON300_STF-8300M_-_1bin/Bad_fits/HAT-P-59b_LIGHT_V_2024-09-07-19-38-47_120sec_GSON300_STF-8300M_-11c_1bin.fit'), PosixPath('/mnt/Rdata/OBS_data/C3-EXO/-_-_-_2024-09_-_GSON300_STF-8300M_-_1bin/HAT-P-59b_LIGHT_-_2024-09-07_-_GSON300_STF-8300M_-_1bin/Bad_fits/HAT-P-59b_LIGHT_V_2024-09-07-19-43-28_120sec_GSON300_STF-8300M_-11c_1bin.fit'), PosixPath('/mnt/Rdata/OBS_data/C3-EXO/-_-_-_2024-09_-_GSON300_STF-8300M_-_1bin/HAT-P-59b_LIGHT_-_2024-09-07_-_GSON300_STF-8300M_-_1bin/Bad_fits/HAT-P-59b_LIGHT_V_2024-09-07-19-48-08_120sec_GSON300_STF-8300M_-11c_1bin.fit'), PosixPath('/mnt/Rdata/OBS_data/C3-EXO/-_-_-_2024-09_-_GSON300_STF-8300M_-_1bin/HAT-P-59b_LIGHT_-_2024-09-07_-_GSON300_STF-8300M_-_1bin/Bad_fits/HAT-P-59b_LIGHT_V_2024-09-07-19-52-47_120sec_GSON300_STF-8300M_-11c_1bin.fit'), PosixPath('/mnt/Rdata/OBS_data/C3-EXO/-_-_-_2024-09_-_GSON300_STF-8300M_-_1bin/HAT-P-59b_LIGHT_-_2024-09-07_-_GSON300_STF-8300M_-_1bin/Bad_fits/HAT-P-59b_LIGHT_V_2024-09-07-19-57-27_120sec_GSON300_STF-8300M_-11c_1bin.fit'), PosixPath('/mnt/Rdata/OBS_data/C3-EXO/-_-_-_2024-09_-_GSON300_STF-8300M_-_1bin/HAT-P-59b_LIGHT_-_2024-09-07_-_GSON300_STF-8300M_-_1bin/Bad_fits/HAT-P-59b_LIGHT_V_2024-09-07-20-02-07_120sec_GSON300_STF-8300M_-11c_1bin.fit'), PosixPath('/mnt/Rdata/OBS_data/C3-EXO/-_-_-_2024-09_-_GSON300_STF-8300M_-_1bin/HAT-P-59b_LIGHT_-_2024-09-07_-_GSON300_STF-8300M_-_1bin/Bad_fits/HAT-P-59b_LIGHT_V_2024-09-07-20-06-47_120sec_GSON300_STF-8300M_-12c_1bin.fit')]\n"
     ]
    }
   ],
   "source": [
    "DOINGDIR.parent / DOINGDIR.stem\n",
    "fpaths = sorted(list((DOINGDIR / \"Bad_fits\").glob('*.fit*')))\n",
    "print(f\"fpaths: {fpaths}\")\n",
    "# for fpath in fpaths :\n",
    "#     if fpath"
   ]
  },
  {
   "cell_type": "code",
   "execution_count": 186,
   "metadata": {},
   "outputs": [
    {
     "name": "stdout",
     "output_type": "stream",
     "text": [
      "/mnt/Rdata/OBS_data/C3-EXO/-_-_-_2024-09_-_GSON300_STF-8300M_-_1bin/HAT-P-59b_LIGHT_-_2024-09-07_-_GSON300_STF-8300M_-_1bin\n",
      "/mnt/Rdata/OBS_data/C3-EXO/-_-_-_2024-09_-_GSON300_STF-8300M_-_1bin/HAT-P-6b_LIGHT_-_2024-09-24_-_GSON300_STF-8300M_-_1bin\n",
      "/mnt/Rdata/OBS_data/C3-EXO/-_-_-_2024-09_-_GSON300_STF-8300M_-_1bin/HAT-P-93b_LIGHT_-_2024-09-26_-_GSON300_STF-8300M_-_1bin\n",
      "/mnt/Rdata/OBS_data/C3-EXO/-_-_-_2024-09_-_GSON300_STF-8300M_-_1bin/KELT-1b_LIGHT_-_2024-09-23_-_GSON300_STF-8300M_-_1bin\n",
      "/mnt/Rdata/OBS_data/C3-EXO/-_-_-_2024-09_-_GSON300_STF-8300M_-_1bin/TOI-1518b_LIGHT_-_2024-09-10_-_GSON300_STF-8300M_-_1bin\n",
      "/mnt/Rdata/OBS_data/C3-EXO/-_-_-_2024-09_-_GSON300_STF-8300M_-_1bin/WASP-33b_LIGHT_-_2024-09-28_-_GSON300_STF-8300M_-_1bin\n",
      "/mnt/Rdata/OBS_data/C3-EXO/-_-_-_2024-09_-_GSON300_STF-8300M_-_1bin/WASP-52b_LIGHT_-_2024-09-27_-_GSON300_STF-8300M_-_1bin\n"
     ]
    }
   ],
   "source": [
    "for DOINGDIR in DOINGDIRs[:] :\n",
    "    DOINGDIR = Path(DOINGDIR)\n",
    "    print(DOINGDIR)\n",
    "    # fpath = Path(fpaths[0])\n",
    "    fpaths = sorted(list((DOINGDIR / \"Bad_fits\").glob('*.fit*')))\n",
    "    for fpath in fpaths :\n",
    "        fpath = Path(fpath)\n",
    "        # print(fpath)\n",
    "        if (fpath.parents[1] / _astro_utilities.reduced_dir / fpath.name).exists() :\n",
    "            os.remove (fpath.parents[1] / _astro_utilities.reduced_dir / fpath.name)\n",
    "            print (f\"{fpath.parents[1] / _astro_utilities.reduced_dir / fpath.name} is removed...\")\n",
    "        if (fpath.parents[1] / _astro_utilities.reduced_nightsky_dir / fpath.name).exists() :\n",
    "            os.remove (fpath.parents[1] / _astro_utilities.reduced_nightsky_dir / fpath.name)\n",
    "            print (f\"{fpath.parents[1] / _astro_utilities.reduced_nightsky_dir / fpath.name} is removed...\")"
   ]
  },
  {
   "cell_type": "code",
   "execution_count": 187,
   "metadata": {},
   "outputs": [],
   "source": [
    "# DOINGDIR = Path(DOINGDIRs[0])\n",
    "# print(\"DOINGDIR\", DOINGDIR)\n",
    "\n",
    "# shutil.move(f\"{DOINGDIR/\"REDUC_nightsky\"}\", f\"{DOINGDIR/_astro_utilities.reduced_nightsky_dir}\")\n",
    "# print(f\"{DOINGDIR/\"REDUC_nightsky\"} is move to {DOINGDIR/_astro_utilities.reduced_nightsky_dir} ...\")\n",
    "# # shutil.rmtree(DOINGDIR/_astro_utilities.master_dir)\n",
    "# # print(f\"{DOINGDIR/_astro_utilities.master_dir} is removed...\")\n"
   ]
  },
  {
   "cell_type": "code",
   "execution_count": 188,
   "metadata": {},
   "outputs": [],
   "source": [
    "# for DOINGDIR in DOINGDIRs[:] :\n",
    "#     DOINGDIR = Path(DOINGDIR)\n",
    "#     print(\"DOINGDIR\", DOINGDIR)\n",
    "#     # print((DOINGDIR / \"REDUC_nightsky\"))\n",
    "#     # print((DOINGDIR / \"REDUC_nightsky\").exists())\n",
    "#     if (DOINGDIR/\"reduced_DPhot_Mag12.5\").exists() and not (DOINGDIR/\"reduced_DPhot_Mag12.5_fw6\").exists():\n",
    "#         shutil.move(DOINGDIR/\"reduced_DPhot_Mag12.5\",\n",
    "#                      DOINGDIR/\"reduced_DPhot_Mag12.5_fw6\")\n",
    "#     if (DOINGDIR/\"reduced_DPhot_Mag11\").exists() and not (DOINGDIR/\"reduced_DPhot_Mag11_fw6\").exists():\n",
    "#         shutil.move(DOINGDIR/\"reduced_DPhot_Mag11\",\n",
    "#                      DOINGDIR/\"reduced_DPhot_Mag11_fw6\")\n",
    "#     if (DOINGDIR/\"reduced_nightsky_DPhot_Mag12.5\").exists() and not (DOINGDIR/\"reduced_nightsky_DPhot_Mag12.5_fw6\").exists():\n",
    "#         shutil.move(DOINGDIR/\"reduced_nightsky_DPhot_Mag12.5\",\n",
    "#                      DOINGDIR/\"reduced_nightsky_DPhot_Mag12.5_fw6\")\n",
    "#     if (DOINGDIR/\"reduced_nightsky_DPhot_Mag11\").exists() and not (DOINGDIR/\"reduced_nightsky_DPhot_Mag11_fw6\").exists():\n",
    "#         shutil.move(DOINGDIR/\"reduced_nightsky_DPhot_Mag11\",\n",
    "#                      DOINGDIR/\"reduced_nightsky_DPhot_Mag11_fw6\")\n",
    "\n"
   ]
  },
  {
   "cell_type": "code",
   "execution_count": 189,
   "metadata": {},
   "outputs": [],
   "source": [
    "# for DOINGDIR in DOINGDIRs[:] :\n",
    "#     DOINGDIR = Path(DOINGDIR)\n",
    "#     print(\"DOINGDIR\", DOINGDIR)\n",
    "#     removing_lst = [\n",
    "#                     # _astro_utilities.master_dir,\n",
    "#                     # _astro_utilities.reduced_dir,\n",
    "#                     # _astro_utilities.reduced_nightsky_dir,\n",
    "#                     # _astro_utilities.Asteroid_result_dir,\n",
    "#                     # _astro_utilities.Diff_Phot_dir,\n",
    "#                     \"reduced_DPhot_Mag12.5\",\n",
    "#                     \"reduced_nightsky_DPhot_Mag12.5\",\n",
    "#                     ]\n",
    "#     for dir_name in removing_lst :\n",
    "#         if (DOINGDIR/dir_name).exists() :\n",
    "#             print(f\"{DOINGDIR/dir_name} is removed...\")\n",
    "#             shutil.rmtree(str(DOINGDIR/dir_name), ignore_errors=True)"
   ]
  },
  {
   "cell_type": "code",
   "execution_count": 190,
   "metadata": {},
   "outputs": [],
   "source": [
    "# import shutil\n",
    "# DOINGDIR = Path(DOINGDIRs[0])\n",
    "# print(\"DOINGDIR\", DOINGDIR)\n",
    "\n",
    "# # shutil.rmtree(DOINGDIR/_astro_utilities.master_dir)\n",
    "# # print(f\"{DOINGDIR/_astro_utilities.master_dir} is removed...\")\n",
    "# shutil.rmtree(DOINGDIR/_astro_utilities.master_dir)\n",
    "# print(f\"{DOINGDIR/_astro_utilities.master_dir} is removed...\")\n"
   ]
  },
  {
   "cell_type": "code",
   "execution_count": null,
   "metadata": {},
   "outputs": [],
   "source": []
  }
 ],
 "metadata": {
  "kernelspec": {
   "display_name": "astro_Python_env",
   "language": "python",
   "name": "python3"
  },
  "language_info": {
   "codemirror_mode": {
    "name": "ipython",
    "version": 3
   },
   "file_extension": ".py",
   "mimetype": "text/x-python",
   "name": "python",
   "nbconvert_exporter": "python",
   "pygments_lexer": "ipython3",
   "version": "3.12.5"
  },
  "orig_nbformat": 4
 },
 "nbformat": 4,
 "nbformat_minor": 2
}
