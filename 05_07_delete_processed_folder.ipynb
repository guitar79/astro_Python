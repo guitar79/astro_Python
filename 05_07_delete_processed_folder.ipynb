{
 "cells": [
  {
   "attachments": {},
   "cell_type": "markdown",
   "metadata": {},
   "source": [
    "# solving fits in folder"
   ]
  },
  {
   "attachments": {},
   "cell_type": "markdown",
   "metadata": {},
   "source": [
    "## 필요한 모듈\n",
    "\n",
    "이 프로젝트를 위해서는 아래의 모듈이 필요하다. \n",
    "\n",
    "> numpy, pandas, matplotlib, scipy, astropy, astroquery, photutils, ccdproc, version_information"
   ]
  },
  {
   "attachments": {},
   "cell_type": "markdown",
   "metadata": {},
   "source": [
    "### 모듈 설치\n",
    "\n",
    "1. 콘솔 창에서 모듈을 설치할 때는 아래와 같은 형식으로 입력하면 된다.\n",
    "\n",
    ">pip install module_name==version\n",
    "\n",
    ">conda install module_name=version\n",
    "\n",
    "2. 주피터 노트북(코랩 포함)에 설치 할 때는 아래의 셀을 실행해서 실행되지 않은 모듈을 설치할 수 있다. (pip 기준) 만약 아나콘다 환경을 사용한다면 7행을 콘다 설치 명령어에 맞게 수정하면 된다."
   ]
  },
  {
   "attachments": {},
   "cell_type": "markdown",
   "metadata": {},
   "source": [
    "### 모듈 버전 확인\n",
    "\n",
    "아래 셀을 실행하면 이 노트북을 실행한 파이썬 및 관련 모듈의 버전을 확인할 수 있다."
   ]
  },
  {
   "cell_type": "code",
   "execution_count": 5,
   "metadata": {},
   "outputs": [
    {
     "name": "stdout",
     "output_type": "stream",
     "text": [
      "**** module numpy is installed\n",
      "**** module pandas is installed\n",
      "**** module matplotlib is installed\n",
      "**** module scipy is installed\n",
      "**** module astropy is installed\n",
      "**** module astroquery is installed\n",
      "**** module photutils is installed\n",
      "**** module ysfitsutilpy is installed\n",
      "**** module ysphotutilpy is installed\n",
      "**** module ccdproc is installed\n",
      "**** module version_information is installed\n",
      "The version_information extension is already loaded. To reload it, use:\n",
      "  %reload_ext version_information\n",
      "This notebook was generated at 2023-11-27 18:32:27 (KST = GMT+0900) \n",
      "0 Python     3.11.5 64bit [GCC 12.3.0]\n",
      "1 IPython    8.15.0\n",
      "2 OS         Linux 5.15.0 89 generic x86_64 with glibc2.31\n",
      "3 numpy      1.25.2\n",
      "4 pandas     2.1.0\n",
      "5 matplotlib 3.8.0\n",
      "6 scipy      1.11.2\n",
      "7 astropy    5.2.1\n",
      "8 astroquery 0.4.6\n",
      "9 photutils  1.6.0\n",
      "10 ysfitsutilpy 0.2\n",
      "11 ysphotutilpy 0.1.1\n",
      "12 ccdproc    2.4.1\n",
      "13 version_information 1.0.4\n"
     ]
    }
   ],
   "source": [
    "import importlib, sys, subprocess\n",
    "packages = \"numpy, pandas, matplotlib, scipy, astropy, astroquery, photutils, ysfitsutilpy, ysphotutilpy, ccdproc, version_information\" # required modules\n",
    "pkgs = packages.split(\", \")\n",
    "for pkg in pkgs :\n",
    "    if not importlib.util.find_spec(pkg):\n",
    "        print(f\"**** module {pkg} is being installed\")\n",
    "        subprocess.check_call([sys.executable, '-m', 'pip', 'install', pkg, '-q'])\n",
    "    else: \n",
    "        print(f\"**** module {pkg} is installed\")\n",
    "\n",
    "%load_ext version_information\n",
    "import time\n",
    "now = time.strftime(\"%Y-%m-%d %H:%M:%S (%Z = GMT%z)\")\n",
    "print(f\"This notebook was generated at {now} \")\n",
    "\n",
    "vv = %version_information {packages}\n",
    "for i, pkg in enumerate(vv.packages):\n",
    "    print(f\"{i} {pkg[0]:10s} {pkg[1]:s}\")"
   ]
  },
  {
   "attachments": {},
   "cell_type": "markdown",
   "metadata": {},
   "source": [
    "### import modules"
   ]
  },
  {
   "cell_type": "code",
   "execution_count": 6,
   "metadata": {},
   "outputs": [],
   "source": [
    "from pathlib import Path\n",
    "import shutil\n",
    "\n",
    "import _astro_utilities\n",
    "import _Python_utilities"
   ]
  },
  {
   "cell_type": "code",
   "execution_count": 7,
   "metadata": {},
   "outputs": [
    {
     "name": "stdout",
     "output_type": "stream",
     "text": [
      "len(DOINGDIRs):  74\n"
     ]
    }
   ],
   "source": [
    "#%%\n",
    "#######################################################\n",
    "# read all files in base directory for processing\n",
    "BASEDIR = Path(\"/mnt/Rdata/ASTRO_data\") \n",
    "DOINGDIR = Path(BASEDIR/ \"asteroid\" / \"RiLA600_STX-16803_-_1bin\")\n",
    "DOINGDIR = Path(BASEDIR/ \"asteroid\" / \"GSON300_STF-8300M_-_1bin\")\n",
    "\n",
    "DOINGDIRs = sorted(_Python_utilities.getFullnameListOfsubDirs(DOINGDIR))\n",
    "\n",
    "#print (\"DOINGDIRs: \", format(DOINGDIRs))\n",
    "print (\"len(DOINGDIRs): \", format(len(DOINGDIRs)))\n",
    "#######################################################"
   ]
  },
  {
   "cell_type": "code",
   "execution_count": 8,
   "metadata": {},
   "outputs": [
    {
     "name": "stdout",
     "output_type": "stream",
     "text": [
      "DOINGDIR /mnt/Rdata/ASTRO_data/asteroid/GSON300_STF-8300M_-_1bin/120LACHESIS_LIGHT_-_2023-10-09_-_GSON300_STF-8300M_-_1bin\n",
      "DOINGDIR /mnt/Rdata/ASTRO_data/asteroid/GSON300_STF-8300M_-_1bin/120LACHESIS_LIGHT_-_2023-10-10_-_GSON300_STF-8300M_-_1bin\n",
      "DOINGDIR /mnt/Rdata/ASTRO_data/asteroid/GSON300_STF-8300M_-_1bin/120LACHESIS_LIGHT_-_2023-10-16_-_GSON300_STF-8300M_-_1bin\n",
      "DOINGDIR /mnt/Rdata/ASTRO_data/asteroid/GSON300_STF-8300M_-_1bin/120LACHESIS_LIGHT_-_2023-11-14_-_GSON300_STF-8300M_-_1bin\n",
      "DOINGDIR /mnt/Rdata/ASTRO_data/asteroid/GSON300_STF-8300M_-_1bin/1266TONE_LIGHT_-_2023-11-21_-_GSON300_STF-8300M_-_1bin\n",
      "DOINGDIR /mnt/Rdata/ASTRO_data/asteroid/GSON300_STF-8300M_-_1bin/127JOHANNA_LIGHT_-_2023-11-17_-_GSON300_STF-8300M_-_1bin\n",
      "DOINGDIR /mnt/Rdata/ASTRO_data/asteroid/GSON300_STF-8300M_-_1bin/127JOHANNA_LIGHT_-_2023-11-24_-_GSON300_STF-8300M_-_1bin\n",
      "DOINGDIR /mnt/Rdata/ASTRO_data/asteroid/GSON300_STF-8300M_-_1bin/132AETHRA_LIGHT_-_2023-11-24_-_GSON300_STF-8300M_-_1bin\n",
      "DOINGDIR /mnt/Rdata/ASTRO_data/asteroid/GSON300_STF-8300M_-_1bin/135HERTHA_LIGHT_-_2023-10-09_-_GSON300_STF-8300M_-_1bin\n",
      "DOINGDIR /mnt/Rdata/ASTRO_data/asteroid/GSON300_STF-8300M_-_1bin/135HERTHA_LIGHT_-_2023-10-10_-_GSON300_STF-8300M_-_1bin\n",
      "DOINGDIR /mnt/Rdata/ASTRO_data/asteroid/GSON300_STF-8300M_-_1bin/135HERTHA_LIGHT_-_2023-10-16_-_GSON300_STF-8300M_-_1bin\n",
      "DOINGDIR /mnt/Rdata/ASTRO_data/asteroid/GSON300_STF-8300M_-_1bin/135HERTHA_LIGHT_-_2023-11-17_-_GSON300_STF-8300M_-_1bin\n",
      "DOINGDIR /mnt/Rdata/ASTRO_data/asteroid/GSON300_STF-8300M_-_1bin/1659PUNKAHARJU_LIGHT_-_2023-10-11_-_GSON300_STF-8300M_-_1bin\n",
      "DOINGDIR /mnt/Rdata/ASTRO_data/asteroid/GSON300_STF-8300M_-_1bin/1659PUNKAHARJU_LIGHT_-_2023-10-16_-_GSON300_STF-8300M_-_1bin\n",
      "DOINGDIR /mnt/Rdata/ASTRO_data/asteroid/GSON300_STF-8300M_-_1bin/1659PUNKAHARJU_LIGHT_-_2023-10-17_-_GSON300_STF-8300M_-_1bin\n",
      "DOINGDIR /mnt/Rdata/ASTRO_data/asteroid/GSON300_STF-8300M_-_1bin/182ELSA_LIGHT_-_2023-11-07_-_GSON300_STF-8300M_-_1bin\n",
      "DOINGDIR /mnt/Rdata/ASTRO_data/asteroid/GSON300_STF-8300M_-_1bin/198AMPELLA_LIGHT_-_2022-09-06_-_GSON300_STF-8300M_-_1bin\n",
      "DOINGDIR /mnt/Rdata/ASTRO_data/asteroid/GSON300_STF-8300M_-_1bin/21LUTETIA_LIGHT_-_2023-10-16_-_GSON300_STF-8300M_-_1bin\n",
      "DOINGDIR /mnt/Rdata/ASTRO_data/asteroid/GSON300_STF-8300M_-_1bin/21LUTETIA_LIGHT_-_2023-11-24_-_GSON300_STF-8300M_-_1bin\n",
      "DOINGDIR /mnt/Rdata/ASTRO_data/asteroid/GSON300_STF-8300M_-_1bin/241GERMANIA_LIGHT_-_2023-11-07_-_GSON300_STF-8300M_-_1bin\n",
      "DOINGDIR /mnt/Rdata/ASTRO_data/asteroid/GSON300_STF-8300M_-_1bin/241GERMANIA_LIGHT_-_2023-11-19_-_GSON300_STF-8300M_-_1bin\n",
      "DOINGDIR /mnt/Rdata/ASTRO_data/asteroid/GSON300_STF-8300M_-_1bin/241GERMANIA_LIGHT_-_2023-11-20_-_GSON300_STF-8300M_-_1bin\n",
      "DOINGDIR /mnt/Rdata/ASTRO_data/asteroid/GSON300_STF-8300M_-_1bin/317ROXANE_LIGHT_-_2023-11-21_-_GSON300_STF-8300M_-_1bin\n",
      "DOINGDIR /mnt/Rdata/ASTRO_data/asteroid/GSON300_STF-8300M_-_1bin/345TERCIDINA_LIGHT_-_2023-10-11_-_GSON300_STF-8300M_-_1bin\n",
      "DOINGDIR /mnt/Rdata/ASTRO_data/asteroid/GSON300_STF-8300M_-_1bin/345TERCIDINA_LIGHT_-_2023-10-16_-_GSON300_STF-8300M_-_1bin\n",
      "DOINGDIR /mnt/Rdata/ASTRO_data/asteroid/GSON300_STF-8300M_-_1bin/345TERCIDINA_LIGHT_-_2023-10-29_-_GSON300_STF-8300M_-_1bin\n",
      "DOINGDIR /mnt/Rdata/ASTRO_data/asteroid/GSON300_STF-8300M_-_1bin/346HERMENTARIA_LIGHT_-_2023-11-24_-_GSON300_STF-8300M_-_1bin\n",
      "DOINGDIR /mnt/Rdata/ASTRO_data/asteroid/GSON300_STF-8300M_-_1bin/363PADUA_LIGHT_-_2023-11-24_-_GSON300_STF-8300M_-_1bin\n",
      "DOINGDIR /mnt/Rdata/ASTRO_data/asteroid/GSON300_STF-8300M_-_1bin/37FIDES_LIGHT_-_2023-11-21_-_GSON300_STF-8300M_-_1bin\n",
      "DOINGDIR /mnt/Rdata/ASTRO_data/asteroid/GSON300_STF-8300M_-_1bin/409ASPASIA_LIGHT_-_2023-11-19_-_GSON300_STF-8300M_-_1bin\n",
      "DOINGDIR /mnt/Rdata/ASTRO_data/asteroid/GSON300_STF-8300M_-_1bin/409ASPASIA_LIGHT_-_2023-11-20_-_GSON300_STF-8300M_-_1bin\n",
      "DOINGDIR /mnt/Rdata/ASTRO_data/asteroid/GSON300_STF-8300M_-_1bin/480HANSA_LIGHT_-_2023-11-07_-_GSON300_STF-8300M_-_1bin\n",
      "DOINGDIR /mnt/Rdata/ASTRO_data/asteroid/GSON300_STF-8300M_-_1bin/481EMITA_LIGHT_-_2023-11-12_-_GSON300_STF-8300M_-_1bin\n",
      "DOINGDIR /mnt/Rdata/ASTRO_data/asteroid/GSON300_STF-8300M_-_1bin/481EMITA_LIGHT_-_2023-11-13_-_GSON300_STF-8300M_-_1bin\n",
      "DOINGDIR /mnt/Rdata/ASTRO_data/asteroid/GSON300_STF-8300M_-_1bin/48DORIS_LIGHT_-_2023-11-21_-_GSON300_STF-8300M_-_1bin\n",
      "DOINGDIR /mnt/Rdata/ASTRO_data/asteroid/GSON300_STF-8300M_-_1bin/498TOKIO_LIGHT_-_2023-11-24_-_GSON300_STF-8300M_-_1bin\n",
      "DOINGDIR /mnt/Rdata/ASTRO_data/asteroid/GSON300_STF-8300M_-_1bin/509IORANDA_LIGHT_-_2023-11-17_-_GSON300_STF-8300M_-_1bin\n",
      "DOINGDIR /mnt/Rdata/ASTRO_data/asteroid/GSON300_STF-8300M_-_1bin/509IORANDA_LIGHT_-_2023-11-19_-_GSON300_STF-8300M_-_1bin\n",
      "DOINGDIR /mnt/Rdata/ASTRO_data/asteroid/GSON300_STF-8300M_-_1bin/509IORANDA_LIGHT_-_2023-11-20_-_GSON300_STF-8300M_-_1bin\n",
      "DOINGDIR /mnt/Rdata/ASTRO_data/asteroid/GSON300_STF-8300M_-_1bin/595POLYXENA_LIGHT_-_2023-11-07_-_GSON300_STF-8300M_-_1bin\n",
      "DOINGDIR /mnt/Rdata/ASTRO_data/asteroid/GSON300_STF-8300M_-_1bin/602MARIANNA_LIGHT_-_2023-10-09_-_GSON300_STF-8300M_-_1bin\n",
      "DOINGDIR /mnt/Rdata/ASTRO_data/asteroid/GSON300_STF-8300M_-_1bin/602MARIANNA_LIGHT_-_2023-10-10_-_GSON300_STF-8300M_-_1bin\n",
      "DOINGDIR /mnt/Rdata/ASTRO_data/asteroid/GSON300_STF-8300M_-_1bin/602MARIANNA_LIGHT_-_2023-11-02_-_GSON300_STF-8300M_-_1bin\n",
      "DOINGDIR /mnt/Rdata/ASTRO_data/asteroid/GSON300_STF-8300M_-_1bin/602MARIANNA_LIGHT_-_2023-11-07_-_GSON300_STF-8300M_-_1bin\n",
      "DOINGDIR /mnt/Rdata/ASTRO_data/asteroid/GSON300_STF-8300M_-_1bin/602MARIANNA_LIGHT_-_2023-11-10_-_GSON300_STF-8300M_-_1bin\n",
      "DOINGDIR /mnt/Rdata/ASTRO_data/asteroid/GSON300_STF-8300M_-_1bin/602MARIANNA_LIGHT_-_2023-11-12_-_GSON300_STF-8300M_-_1bin\n",
      "DOINGDIR /mnt/Rdata/ASTRO_data/asteroid/GSON300_STF-8300M_-_1bin/602MARIANNA_LIGHT_-_2023-11-13_-_GSON300_STF-8300M_-_1bin\n",
      "DOINGDIR /mnt/Rdata/ASTRO_data/asteroid/GSON300_STF-8300M_-_1bin/602MARIANNA_LIGHT_-_2023-11-14_-_GSON300_STF-8300M_-_1bin\n",
      "DOINGDIR /mnt/Rdata/ASTRO_data/asteroid/GSON300_STF-8300M_-_1bin/602MARIANNA_LIGHT_-_2023-11-17_-_GSON300_STF-8300M_-_1bin\n",
      "DOINGDIR /mnt/Rdata/ASTRO_data/asteroid/GSON300_STF-8300M_-_1bin/602MARIANNA_LIGHT_-_2023-11-20_-_GSON300_STF-8300M_-_1bin\n",
      "DOINGDIR /mnt/Rdata/ASTRO_data/asteroid/GSON300_STF-8300M_-_1bin/639LATONA_LIGHT_-_2023-10-29_-_GSON300_STF-8300M_-_1bin\n",
      "DOINGDIR /mnt/Rdata/ASTRO_data/asteroid/GSON300_STF-8300M_-_1bin/639LATONA_LIGHT_-_2023-11-07_-_GSON300_STF-8300M_-_1bin\n",
      "DOINGDIR /mnt/Rdata/ASTRO_data/asteroid/GSON300_STF-8300M_-_1bin/639LATONA_LIGHT_-_2023-11-12_-_GSON300_STF-8300M_-_1bin\n",
      "DOINGDIR /mnt/Rdata/ASTRO_data/asteroid/GSON300_STF-8300M_-_1bin/639LATONA_LIGHT_-_2023-11-13_-_GSON300_STF-8300M_-_1bin\n",
      "DOINGDIR /mnt/Rdata/ASTRO_data/asteroid/GSON300_STF-8300M_-_1bin/639LATONA_LIGHT_-_2023-11-14_-_GSON300_STF-8300M_-_1bin\n",
      "DOINGDIR /mnt/Rdata/ASTRO_data/asteroid/GSON300_STF-8300M_-_1bin/639LATONA_LIGHT_-_2023-11-20_-_GSON300_STF-8300M_-_1bin\n",
      "DOINGDIR /mnt/Rdata/ASTRO_data/asteroid/GSON300_STF-8300M_-_1bin/678FREDEGUNDIS_LIGHT_-_2023-10-11_-_GSON300_STF-8300M_-_1bin\n",
      "DOINGDIR /mnt/Rdata/ASTRO_data/asteroid/GSON300_STF-8300M_-_1bin/678FREDEGUNDIS_LIGHT_-_2023-10-16_-_GSON300_STF-8300M_-_1bin\n",
      "DOINGDIR /mnt/Rdata/ASTRO_data/asteroid/GSON300_STF-8300M_-_1bin/678FREDEGUNDIS_LIGHT_-_2023-10-17_-_GSON300_STF-8300M_-_1bin\n",
      "DOINGDIR /mnt/Rdata/ASTRO_data/asteroid/GSON300_STF-8300M_-_1bin/678FREDEGUNDIS_LIGHT_-_2023-11-02_-_GSON300_STF-8300M_-_1bin\n",
      "DOINGDIR /mnt/Rdata/ASTRO_data/asteroid/GSON300_STF-8300M_-_1bin/678FREDEGUNDIS_LIGHT_-_2023-11-07_-_GSON300_STF-8300M_-_1bin\n",
      "DOINGDIR /mnt/Rdata/ASTRO_data/asteroid/GSON300_STF-8300M_-_1bin/678FREDEGUNDIS_LIGHT_-_2023-11-10_-_GSON300_STF-8300M_-_1bin\n",
      "DOINGDIR /mnt/Rdata/ASTRO_data/asteroid/GSON300_STF-8300M_-_1bin/678FREDEGUNDIS_LIGHT_-_2023-11-14_-_GSON300_STF-8300M_-_1bin\n",
      "DOINGDIR /mnt/Rdata/ASTRO_data/asteroid/GSON300_STF-8300M_-_1bin/678FREDEGUNDIS_LIGHT_-_2023-11-17_-_GSON300_STF-8300M_-_1bin\n",
      "DOINGDIR /mnt/Rdata/ASTRO_data/asteroid/GSON300_STF-8300M_-_1bin/678FREDEGUNDIS_LIGHT_-_2023-11-19_-_GSON300_STF-8300M_-_1bin\n",
      "DOINGDIR /mnt/Rdata/ASTRO_data/asteroid/GSON300_STF-8300M_-_1bin/92UNDINA_LIGHT_-_2023-11-21_-_GSON300_STF-8300M_-_1bin\n",
      "DOINGDIR /mnt/Rdata/ASTRO_data/asteroid/GSON300_STF-8300M_-_1bin/93MINERVA_LIGHT_-_2023-11-07_-_GSON300_STF-8300M_-_1bin\n",
      "DOINGDIR /mnt/Rdata/ASTRO_data/asteroid/GSON300_STF-8300M_-_1bin/93MINERVA_LIGHT_-_2023-11-12_-_GSON300_STF-8300M_-_1bin\n",
      "DOINGDIR /mnt/Rdata/ASTRO_data/asteroid/GSON300_STF-8300M_-_1bin/93MINERVA_LIGHT_-_2023-11-13_-_GSON300_STF-8300M_-_1bin\n",
      "DOINGDIR /mnt/Rdata/ASTRO_data/asteroid/GSON300_STF-8300M_-_1bin/93MINERVA_LIGHT_-_2023-11-17_-_GSON300_STF-8300M_-_1bin\n",
      "DOINGDIR /mnt/Rdata/ASTRO_data/asteroid/GSON300_STF-8300M_-_1bin/93MINERVA_LIGHT_-_2023-11-19_-_GSON300_STF-8300M_-_1bin\n",
      "DOINGDIR /mnt/Rdata/ASTRO_data/asteroid/GSON300_STF-8300M_-_1bin/93MINERVA_LIGHT_-_2023-11-20_-_GSON300_STF-8300M_-_1bin\n",
      "DOINGDIR /mnt/Rdata/ASTRO_data/asteroid/GSON300_STF-8300M_-_1bin/9628SENDAOPTSUMA_LIGHT_-_2023-11-21_-_GSON300_STF-8300M_-_1bin\n",
      "DOINGDIR /mnt/Rdata/ASTRO_data/asteroid/GSON300_STF-8300M_-_1bin/master_files_ys\n"
     ]
    }
   ],
   "source": [
    "for DOINGDIR in DOINGDIRs[:] :\n",
    "    DOINGDIR = Path(DOINGDIR)\n",
    "    print(\"DOINGDIR\", DOINGDIR)\n",
    "\n",
    "    DELETEDIR = DOINGDIR / _astro_utilities.Asteroid_result_dir\n",
    "    DELETEDIR = DOINGDIR / _astro_utilities.reduced_dir2\n",
    "    #DELETEDIR = DOINGDIR / _astro_utilities.reduced_dir\n",
    "    \n",
    "    if DELETEDIR.exists():\n",
    "        shutil.rmtree(\"{}\".format(str(DELETEDIR)))\n",
    "        print(\"{} is deleted...\".format(str(DELETEDIR)))"
   ]
  }
 ],
 "metadata": {
  "kernelspec": {
   "display_name": "astro_Python_ubuntu_env",
   "language": "python",
   "name": "python3"
  },
  "language_info": {
   "codemirror_mode": {
    "name": "ipython",
    "version": 3
   },
   "file_extension": ".py",
   "mimetype": "text/x-python",
   "name": "python",
   "nbconvert_exporter": "python",
   "pygments_lexer": "ipython3",
   "version": "3.11.5"
  },
  "orig_nbformat": 4,
  "vscode": {
   "interpreter": {
    "hash": "73147851ede918c26f741c84bca6ea3575da18885c8fa4aa4a9fbe5902a3c298"
   }
  }
 },
 "nbformat": 4,
 "nbformat_minor": 2
}
