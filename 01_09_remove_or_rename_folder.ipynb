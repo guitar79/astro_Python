{
 "cells": [
  {
   "attachments": {},
   "cell_type": "markdown",
   "metadata": {},
   "source": [
    "# remove folder"
   ]
  },
  {
   "attachments": {},
   "cell_type": "markdown",
   "metadata": {},
   "source": [
    "## 필요한 모듈\n",
    "\n",
    "이 프로젝트를 위해서는 아래의 모듈이 필요하다. \n",
    "\n",
    "> numpy, pandas, matplotlib, scipy, astropy, photutils, ccdproc, version_information"
   ]
  },
  {
   "attachments": {},
   "cell_type": "markdown",
   "metadata": {},
   "source": [
    "### 모듈 설치\n",
    "\n",
    "1. 콘솔 창에서 모듈을 설치할 때는 아래와 같은 형식으로 입력하면 된다.\n",
    "\n",
    ">pip install module_name==version\n",
    "\n",
    ">conda install module_name=version\n",
    "\n",
    "2. 주피터 노트북(코랩 포함)에 설치 할 때는 아래의 셀을 실행해서 실행되지 않은 모듈을 설치할 수 있다. (pip 기준) 만약 아나콘다 환경을 사용한다면 7행을 콘다 설치 명령어에 맞게 수정하면 된다."
   ]
  },
  {
   "attachments": {},
   "cell_type": "markdown",
   "metadata": {},
   "source": [
    "### 모듈 버전 확인\n",
    "\n",
    "아래 셀을 실행하면 이 노트북을 실행한 파이썬 및 관련 모듈의 버전을 확인할 수 있다."
   ]
  },
  {
   "cell_type": "code",
   "execution_count": 181,
   "metadata": {},
   "outputs": [],
   "source": [
    "# import importlib, sys, subprocess\n",
    "# packages = \"numpy, matplotlib, astropy, astroquery, version_information\" # required modules\n",
    "# pkgs = packages.split(\", \")\n",
    "# for pkg in pkgs :\n",
    "#     if not importlib.util.find_spec(pkg):\n",
    "#         #print(f\"**** module {pkg} is not installed\")\n",
    "#         subprocess.check_call([sys.executable, '-m', 'pip', 'install', pkg, '-q'])\n",
    "#     else: \n",
    "#         print(f\"**** module {pkg} is installed\")\n",
    "\n",
    "# %load_ext version_information\n",
    "# import time\n",
    "# now = time.strftime(\"%Y-%m-%d %H:%M:%S (%Z = GMT%z)\")\n",
    "# print(f\"This notebook was generated at {now} \")\n",
    "\n",
    "# vv = %version_information {packages}\n",
    "# for i, pkg in enumerate(vv.packages):\n",
    "#     print(f\"{i} {pkg[0]:10s} {pkg[1]:s}\")"
   ]
  },
  {
   "attachments": {},
   "cell_type": "markdown",
   "metadata": {},
   "source": [
    "### import modules"
   ]
  },
  {
   "cell_type": "code",
   "execution_count": 182,
   "metadata": {},
   "outputs": [],
   "source": [
    "from glob import glob\n",
    "from pathlib import Path\n",
    "import os\n",
    "import shutil\n",
    "import numpy as np\n",
    "import matplotlib.pyplot as plt\n",
    "import astropy.units as u\n",
    "from astropy.stats import sigma_clip\n",
    "from ccdproc import combine, ccd_process, CCDData\n",
    "from pathlib import Path\n",
    "import ysfitsutilpy as yfu\n",
    "import ysphotutilpy as ypu\n",
    "from astropy.io import fits\n",
    "import _astro_utilities\n",
    "import _Python_utilities\n",
    "\n",
    "plt.rcParams.update({'figure.max_open_warning': 0})"
   ]
  },
  {
   "cell_type": "code",
   "execution_count": 183,
   "metadata": {},
   "outputs": [
    {
     "name": "stdout",
     "output_type": "stream",
     "text": [
      "DOINGDIRs:  ['/mnt/Rdata/OBS_data/C3-EXO/-_-_-_2024-06_-_RiLA600_STX-16803_-_2bin/-_CAL-BDF_-_2024-05_-_-_STX-16803_-_2bin/', '/mnt/Rdata/OBS_data/C3-EXO/-_-_-_2024-06_-_RiLA600_STX-16803_-_2bin/HAT-P-37b_LIGHT_-_2024-06-28_-_RiLA600_STX-16803_-_2bin/', '/mnt/Rdata/OBS_data/C3-EXO/-_-_-_2024-06_-_RiLA600_STX-16803_-_2bin/HD189733b_LIGHT_-_2024-06-27_-_RiLA600_STX-16803_-_2bin/', '/mnt/Rdata/OBS_data/C3-EXO/-_-_-_2024-06_-_RiLA600_STX-16803_-_2bin/Kepler-17b_LIGHT_-_2024-06-26_-_RiLA600_STX-16803_-_2bin/', '/mnt/Rdata/OBS_data/C3-EXO/-_-_-_2024-06_-_RiLA600_STX-16803_-_2bin/TrES-1b_LIGHT_-_2024-06-09_-_RiLA600_STX-16803_-_2bin/', '/mnt/Rdata/OBS_data/C3-EXO/-_-_-_2024-06_-_RiLA600_STX-16803_-_2bin/TrES-1b_LIGHT_-_2024-06-18_-_RiLA600_STX-16803_-_2bin/', '/mnt/Rdata/OBS_data/C3-EXO/-_-_-_2024-06_-_RiLA600_STX-16803_-_2bin/TrES-4b_LIGHT_-_2024-06-13_-_RiLA600_STX-16803_-_2bin/', '/mnt/Rdata/OBS_data/C3-EXO/-_-_-_2024-06_-_RiLA600_STX-16803_-_2bin/WASP-103b_LIGHT_-_2024-06-06_-_RiLA600_STX-16803_-_2bin/']\n",
      "len(DOINGDIRs):  8\n",
      "BDFDIR:  ['/mnt/Rdata/OBS_data/C3-EXO/-_-_-_2024-06_-_RiLA600_STX-16803_-_2bin/-_CAL-BDF_-_2024-05_-_-_STX-16803_-_2bin/']\n",
      "MASTERDIR:  /mnt/Rdata/OBS_data/C3-EXO/-_-_-_2024-06_-_RiLA600_STX-16803_-_2bin/-_CAL-BDF_-_2024-05_-_-_STX-16803_-_2bin/master_files_ys\n",
      "DOINGDIRs:  ['/mnt/Rdata/OBS_data/C3-EXO/-_-_-_2024-06_-_RiLA600_STX-16803_-_2bin/HAT-P-37b_LIGHT_-_2024-06-28_-_RiLA600_STX-16803_-_2bin/', '/mnt/Rdata/OBS_data/C3-EXO/-_-_-_2024-06_-_RiLA600_STX-16803_-_2bin/HD189733b_LIGHT_-_2024-06-27_-_RiLA600_STX-16803_-_2bin/', '/mnt/Rdata/OBS_data/C3-EXO/-_-_-_2024-06_-_RiLA600_STX-16803_-_2bin/Kepler-17b_LIGHT_-_2024-06-26_-_RiLA600_STX-16803_-_2bin/', '/mnt/Rdata/OBS_data/C3-EXO/-_-_-_2024-06_-_RiLA600_STX-16803_-_2bin/TrES-1b_LIGHT_-_2024-06-09_-_RiLA600_STX-16803_-_2bin/', '/mnt/Rdata/OBS_data/C3-EXO/-_-_-_2024-06_-_RiLA600_STX-16803_-_2bin/TrES-1b_LIGHT_-_2024-06-18_-_RiLA600_STX-16803_-_2bin/', '/mnt/Rdata/OBS_data/C3-EXO/-_-_-_2024-06_-_RiLA600_STX-16803_-_2bin/TrES-4b_LIGHT_-_2024-06-13_-_RiLA600_STX-16803_-_2bin/', '/mnt/Rdata/OBS_data/C3-EXO/-_-_-_2024-06_-_RiLA600_STX-16803_-_2bin/WASP-103b_LIGHT_-_2024-06-06_-_RiLA600_STX-16803_-_2bin/']\n",
      "len(DOINGDIRs):  7\n"
     ]
    }
   ],
   "source": [
    "#%%\n",
    "#######################################################\n",
    "BASEDIR = Path(\"/mnt/Rdata/OBS_data\")  \n",
    "\n",
    "PROJECDIR = BASEDIR / \"C1-Variable\"\n",
    "TODODIR = PROJECDIR / \"-_-_-_2016-_-_RiLA600_STX-16803_-_2bin\"\n",
    "TODODIR = PROJECDIR / \"-_-_-_2017-01_-_RiLA600_STX-16803_-_2bin\"\n",
    "TODODIR = PROJECDIR / \"-_-_-_2017-03_-_RiLA600_STX-16803_-_2bin\"\n",
    "TODODIR = PROJECDIR / \"-_-_-_2017-05_-_RiLA600_STX-16803_-_2bin\"\n",
    "TODODIR = PROJECDIR / \"-_-_-_2017-06_-_RiLA600_STX-16803_-_2bin\"\n",
    "TODODIR = PROJECDIR / \"-_-_-_2021-10_-_RiLA600_STX-16803_-_2bin\"\n",
    "TODODIR = PROJECDIR / \"-_-_-_2022-01_-_RiLA600_STX-16803_-_2bin\"\n",
    "\n",
    "PROJECDIR = BASEDIR / \"C2-Asteroid\"\n",
    "TODODIR = PROJECDIR / \"-_-_-_2022-_-_GSON300_STF-8300M_-_1bin\"\n",
    "TODODIR = PROJECDIR / \"-_-_-_2022-_-_RiLA600_STX-16803_-_1bin\"\n",
    "TODODIR = PROJECDIR / \"-_-_-_2022-_-_RiLA600_STX-16803_-_2bin\"\n",
    "TODODIR = PROJECDIR / \"-_-_-_2023-_-_GSON300_STF-8300M_-_1bin\"\n",
    "TODODIR = PROJECDIR / \"-_-_-_2023-_-_RiLA600_STX-16803_-_1bin\"\n",
    "TODODIR = PROJECDIR / \"-_-_-_2023-_-_RiLA600_STX-16803_-_2bin\"\n",
    "\n",
    "PROJECDIR = BASEDIR / \"C3-EXO\"\n",
    "TODODIR = PROJECDIR / \"-_-_-_2024-05_-_GSON300_STF-8300M_-_1bin\"\n",
    "TODODIR = PROJECDIR / \"-_-_-_2024-05_-_RiLA600_STX-16803_-_1bin\"\n",
    "TODODIR = PROJECDIR / \"-_-_-_2024-06_-_GSON300_STF-8300M_-_1bin\"\n",
    "TODODIR = PROJECDIR / \"-_-_-_2024-06_-_RiLA600_STX-16803_-_2bin\"\n",
    "\n",
    "# PROJECDIR = BASEDIR / \"C4-Spectra\"\n",
    "# TODODIR = PROJECDIR / \"-_-_-_2024-05_TEC140_ASI183MMPro_-_1bin\"\n",
    "\n",
    "DOINGDIRs = sorted(_Python_utilities.getFullnameListOfsubDirs(TODODIR))\n",
    "print (\"DOINGDIRs: \", format(DOINGDIRs))\n",
    "print (\"len(DOINGDIRs): \", format(len(DOINGDIRs)))\n",
    "\n",
    "try : \n",
    "    BDFDIR = [x for x in DOINGDIRs if \"CAL-BDF\" in str(x)]\n",
    "    print (\"BDFDIR: \", format(BDFDIR))\n",
    "    MASTERDIR = Path(BDFDIR[0]) / _astro_utilities.master_dir\n",
    "    if not MASTERDIR.exists():\n",
    "        os.makedirs(\"{}\".format(str(MASTERDIR)))\n",
    "        print(\"{} is created...\".format(str(MASTERDIR)))\n",
    "    print (\"MASTERDIR: \", format(MASTERDIR))\n",
    "except : \n",
    "    pass\n",
    "\n",
    "DOINGDIRs = sorted([x for x in DOINGDIRs if \"_LIGHT_\" in str(x)])\n",
    "# print (\"DOINGDIRs: \", format(DOINGDIRs))\n",
    "# print (\"len(DOINGDIRs): \", format(len(DOINGDIRs)))\n",
    "\n",
    "# filter_str = 'Kepler-17b_LIGHT_-_2024-06-26_-_RiLA600_STX-16803_-_2bin'\n",
    "# DOINGDIRs = [x for x in DOINGDIRs if filter_str in str(x)]\n",
    "# remove = 'BIAS'\n",
    "# DOINGDIRs = [x for x in DOINGDIRs if remove not in x]\n",
    "# remove = 'DARK'\n",
    "# DOINGDIRs = [x for x in DOINGDIRs if remove not in x]\n",
    "# remove = 'FLAT'\n",
    "# DOINGDIRs = [x for x in DOINGDIRs if remove not in x]\n",
    "print (\"DOINGDIRs: \", DOINGDIRs)\n",
    "print (\"len(DOINGDIRs): \", len(DOINGDIRs))"
   ]
  },
  {
   "cell_type": "code",
   "execution_count": 184,
   "metadata": {},
   "outputs": [],
   "source": [
    "DOINGDIR = Path(DOINGDIRs[0])\n"
   ]
  },
  {
   "cell_type": "code",
   "execution_count": 185,
   "metadata": {},
   "outputs": [
    {
     "data": {
      "text/plain": [
       "PosixPath('/mnt/Rdata/OBS_data/C3-EXO/-_-_-_2024-06_-_RiLA600_STX-16803_-_2bin/HAT-P-37b_LIGHT_-_2024-06-28_-_RiLA600_STX-16803_-_2bin')"
      ]
     },
     "execution_count": 185,
     "metadata": {},
     "output_type": "execute_result"
    }
   ],
   "source": [
    "DOINGDIR.parent / DOINGDIR.stem"
   ]
  },
  {
   "cell_type": "code",
   "execution_count": 186,
   "metadata": {},
   "outputs": [],
   "source": [
    "# DOINGDIR = Path(DOINGDIRs[0])\n",
    "# print(\"DOINGDIR\", DOINGDIR)\n",
    "\n",
    "# shutil.move(f\"{DOINGDIR/\"REDUC_nightsky\"}\", f\"{DOINGDIR/_astro_utilities.reduced_nightsky_dir}\")\n",
    "# print(f\"{DOINGDIR/\"REDUC_nightsky\"} is move to {DOINGDIR/_astro_utilities.reduced_nightsky_dir} ...\")\n",
    "# # shutil.rmtree(DOINGDIR/_astro_utilities.master_dir)\n",
    "# # print(f\"{DOINGDIR/_astro_utilities.master_dir} is removed...\")\n"
   ]
  },
  {
   "cell_type": "code",
   "execution_count": 187,
   "metadata": {},
   "outputs": [
    {
     "name": "stdout",
     "output_type": "stream",
     "text": [
      "DOINGDIR /mnt/Rdata/OBS_data/C3-EXO/-_-_-_2024-06_-_RiLA600_STX-16803_-_2bin/HAT-P-37b_LIGHT_-_2024-06-28_-_RiLA600_STX-16803_-_2bin\n",
      "DOINGDIR /mnt/Rdata/OBS_data/C3-EXO/-_-_-_2024-06_-_RiLA600_STX-16803_-_2bin/HD189733b_LIGHT_-_2024-06-27_-_RiLA600_STX-16803_-_2bin\n",
      "DOINGDIR /mnt/Rdata/OBS_data/C3-EXO/-_-_-_2024-06_-_RiLA600_STX-16803_-_2bin/Kepler-17b_LIGHT_-_2024-06-26_-_RiLA600_STX-16803_-_2bin\n",
      "DOINGDIR /mnt/Rdata/OBS_data/C3-EXO/-_-_-_2024-06_-_RiLA600_STX-16803_-_2bin/TrES-1b_LIGHT_-_2024-06-09_-_RiLA600_STX-16803_-_2bin\n",
      "DOINGDIR /mnt/Rdata/OBS_data/C3-EXO/-_-_-_2024-06_-_RiLA600_STX-16803_-_2bin/TrES-1b_LIGHT_-_2024-06-18_-_RiLA600_STX-16803_-_2bin\n",
      "DOINGDIR /mnt/Rdata/OBS_data/C3-EXO/-_-_-_2024-06_-_RiLA600_STX-16803_-_2bin/TrES-4b_LIGHT_-_2024-06-13_-_RiLA600_STX-16803_-_2bin\n",
      "DOINGDIR /mnt/Rdata/OBS_data/C3-EXO/-_-_-_2024-06_-_RiLA600_STX-16803_-_2bin/WASP-103b_LIGHT_-_2024-06-06_-_RiLA600_STX-16803_-_2bin\n"
     ]
    }
   ],
   "source": [
    "for DOINGDIR in DOINGDIRs[:] :\n",
    "    DOINGDIR = Path(DOINGDIR)\n",
    "    print(\"DOINGDIR\", DOINGDIR)\n",
    "    # print((DOINGDIR / \"REDUC_nightsky\"))\n",
    "    # print((DOINGDIR / \"REDUC_nightsky\").exists())\n",
    "    if (DOINGDIR/\"reduced_DPhot_Mag12.5\").exists() and not (DOINGDIR/\"reduced_DPhot_Mag12.5_fw6\").exists():\n",
    "        shutil.move(DOINGDIR/\"reduced_DPhot_Mag12.5\",\n",
    "                     DOINGDIR/\"reduced_DPhot_Mag12.5_fw6\")\n",
    "    if (DOINGDIR/\"reduced_DPhot_Mag11\").exists() and not (DOINGDIR/\"reduced_DPhot_Mag11_fw6\").exists():\n",
    "        shutil.move(DOINGDIR/\"reduced_DPhot_Mag11\",\n",
    "                     DOINGDIR/\"reduced_DPhot_Mag11_fw6\")\n",
    "    if (DOINGDIR/\"reduced_nightsky_DPhot_Mag12.5\").exists() and not (DOINGDIR/\"reduced_nightsky_DPhot_Mag12.5_fw6\").exists():\n",
    "        shutil.move(DOINGDIR/\"reduced_nightsky_DPhot_Mag12.5\",\n",
    "                     DOINGDIR/\"reduced_nightsky_DPhot_Mag12.5_fw6\")\n",
    "    if (DOINGDIR/\"reduced_nightsky_DPhot_Mag11\").exists() and not (DOINGDIR/\"reduced_nightsky_DPhot_Mag11_fw6\").exists():\n",
    "        shutil.move(DOINGDIR/\"reduced_nightsky_DPhot_Mag11\",\n",
    "                     DOINGDIR/\"reduced_nightsky_DPhot_Mag11_fw6\")\n",
    "\n"
   ]
  },
  {
   "cell_type": "code",
   "execution_count": 188,
   "metadata": {},
   "outputs": [],
   "source": [
    "# for DOINGDIR in DOINGDIRs[:] :\n",
    "#     DOINGDIR = Path(DOINGDIR)\n",
    "#     print(\"DOINGDIR\", DOINGDIR)\n",
    "#     removing_lst = [\n",
    "#                     # _astro_utilities.master_dir,\n",
    "#                     # _astro_utilities.reduced_dir,\n",
    "#                     # _astro_utilities.reduced_nightsky_dir,\n",
    "#                     # _astro_utilities.Asteroid_result_dir,\n",
    "#                     # _astro_utilities.Diff_Phot_dir,\n",
    "#                     \"reduced_DPhot_Mag12.5\",\n",
    "#                     \"reduced_nightsky_DPhot_Mag12.5\",\n",
    "#                     ]\n",
    "#     for dir_name in removing_lst :\n",
    "#         if (DOINGDIR/dir_name).exists() :\n",
    "#             print(f\"{DOINGDIR/dir_name} is removed...\")\n",
    "#             shutil.rmtree(str(DOINGDIR/dir_name), ignore_errors=True)"
   ]
  },
  {
   "cell_type": "code",
   "execution_count": 189,
   "metadata": {},
   "outputs": [],
   "source": [
    "# import shutil\n",
    "# DOINGDIR = Path(DOINGDIRs[0])\n",
    "# print(\"DOINGDIR\", DOINGDIR)\n",
    "\n",
    "# # shutil.rmtree(DOINGDIR/_astro_utilities.master_dir)\n",
    "# # print(f\"{DOINGDIR/_astro_utilities.master_dir} is removed...\")\n",
    "# shutil.rmtree(DOINGDIR/_astro_utilities.master_dir)\n",
    "# print(f\"{DOINGDIR/_astro_utilities.master_dir} is removed...\")\n"
   ]
  },
  {
   "cell_type": "code",
   "execution_count": null,
   "metadata": {},
   "outputs": [],
   "source": []
  }
 ],
 "metadata": {
  "kernelspec": {
   "display_name": "astro_Python_ubuntu_env",
   "language": "python",
   "name": "python3"
  },
  "language_info": {
   "codemirror_mode": {
    "name": "ipython",
    "version": 3
   },
   "file_extension": ".py",
   "mimetype": "text/x-python",
   "name": "python",
   "nbconvert_exporter": "python",
   "pygments_lexer": "ipython3",
   "version": "3.12.4"
  },
  "orig_nbformat": 4,
  "vscode": {
   "interpreter": {
    "hash": "73147851ede918c26f741c84bca6ea3575da18885c8fa4aa4a9fbe5902a3c298"
   }
  }
 },
 "nbformat": 4,
 "nbformat_minor": 2
}
