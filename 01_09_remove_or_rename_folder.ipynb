{
 "cells": [
  {
   "attachments": {},
   "cell_type": "markdown",
   "metadata": {},
   "source": [
    "# remove folder"
   ]
  },
  {
   "attachments": {},
   "cell_type": "markdown",
   "metadata": {},
   "source": [
    "## 필요한 모듈\n",
    "\n",
    "이 프로젝트를 위해서는 아래의 모듈이 필요하다. \n",
    "\n",
    "> numpy, pandas, matplotlib, scipy, astropy, photutils, ccdproc, version_information"
   ]
  },
  {
   "attachments": {},
   "cell_type": "markdown",
   "metadata": {},
   "source": [
    "### 모듈 설치\n",
    "\n",
    "1. 콘솔 창에서 모듈을 설치할 때는 아래와 같은 형식으로 입력하면 된다.\n",
    "\n",
    ">pip install module_name==version\n",
    "\n",
    ">conda install module_name=version\n",
    "\n",
    "2. 주피터 노트북(코랩 포함)에 설치 할 때는 아래의 셀을 실행해서 실행되지 않은 모듈을 설치할 수 있다. (pip 기준) 만약 아나콘다 환경을 사용한다면 7행을 콘다 설치 명령어에 맞게 수정하면 된다."
   ]
  },
  {
   "attachments": {},
   "cell_type": "markdown",
   "metadata": {},
   "source": [
    "### 모듈 버전 확인\n",
    "\n",
    "아래 셀을 실행하면 이 노트북을 실행한 파이썬 및 관련 모듈의 버전을 확인할 수 있다."
   ]
  },
  {
   "cell_type": "code",
   "execution_count": 1,
   "metadata": {},
   "outputs": [],
   "source": [
    "# import importlib, sys, subprocess\n",
    "# packages = \"numpy, matplotlib, astropy, astroquery, version_information\" # required modules\n",
    "# pkgs = packages.split(\", \")\n",
    "# for pkg in pkgs :\n",
    "#     if not importlib.util.find_spec(pkg):\n",
    "#         #print(f\"**** module {pkg} is not installed\")\n",
    "#         subprocess.check_call([sys.executable, '-m', 'pip', 'install', pkg, '-q'])\n",
    "#     else: \n",
    "#         print(f\"**** module {pkg} is installed\")\n",
    "\n",
    "# %load_ext version_information\n",
    "# import time\n",
    "# now = time.strftime(\"%Y-%m-%d %H:%M:%S (%Z = GMT%z)\")\n",
    "# print(f\"This notebook was generated at {now} \")\n",
    "\n",
    "# vv = %version_information {packages}\n",
    "# for i, pkg in enumerate(vv.packages):\n",
    "#     print(f\"{i} {pkg[0]:10s} {pkg[1]:s}\")"
   ]
  },
  {
   "attachments": {},
   "cell_type": "markdown",
   "metadata": {},
   "source": [
    "### import modules"
   ]
  },
  {
   "cell_type": "code",
   "execution_count": 2,
   "metadata": {},
   "outputs": [],
   "source": [
    "from glob import glob\n",
    "from pathlib import Path\n",
    "import os\n",
    "import shutil\n",
    "import numpy as np\n",
    "import matplotlib.pyplot as plt\n",
    "import astropy.units as u\n",
    "from astropy.stats import sigma_clip\n",
    "from ccdproc import combine, ccd_process, CCDData\n",
    "from pathlib import Path\n",
    "import ysfitsutilpy as yfu\n",
    "import ysphotutilpy as ypu\n",
    "from astropy.io import fits\n",
    "import _astro_utilities\n",
    "import _Python_utilities\n",
    "\n",
    "plt.rcParams.update({'figure.max_open_warning': 0})"
   ]
  },
  {
   "cell_type": "code",
   "execution_count": 3,
   "metadata": {},
   "outputs": [
    {
     "name": "stdout",
     "output_type": "stream",
     "text": [
      "DOINGDIRs:  ['/mnt/Rdata/ASTRO_data/C2-Asteroid/-_-_-_2023-_-_GSON300_STF-8300M_-_1bin/-_CAL-BDF_-_2023_-_GSON300_STF-8300M_-_1bin/', '/mnt/Rdata/ASTRO_data/C2-Asteroid/-_-_-_2023-_-_GSON300_STF-8300M_-_1bin/120LACHESIS_LIGHT_-_2023-10-09_-_GSON300_STF-8300M_-_1bin/', '/mnt/Rdata/ASTRO_data/C2-Asteroid/-_-_-_2023-_-_GSON300_STF-8300M_-_1bin/120LACHESIS_LIGHT_-_2023-10-10_-_GSON300_STF-8300M_-_1bin/', '/mnt/Rdata/ASTRO_data/C2-Asteroid/-_-_-_2023-_-_GSON300_STF-8300M_-_1bin/120LACHESIS_LIGHT_-_2023-10-16_-_GSON300_STF-8300M_-_1bin/', '/mnt/Rdata/ASTRO_data/C2-Asteroid/-_-_-_2023-_-_GSON300_STF-8300M_-_1bin/120LACHESIS_LIGHT_-_2023-11-14_-_GSON300_STF-8300M_-_1bin/', '/mnt/Rdata/ASTRO_data/C2-Asteroid/-_-_-_2023-_-_GSON300_STF-8300M_-_1bin/1266TONE_LIGHT_-_2023-11-21_-_GSON300_STF-8300M_-_1bin/', '/mnt/Rdata/ASTRO_data/C2-Asteroid/-_-_-_2023-_-_GSON300_STF-8300M_-_1bin/127JOHANNA_LIGHT_-_2023-11-17_-_GSON300_STF-8300M_-_1bin/', '/mnt/Rdata/ASTRO_data/C2-Asteroid/-_-_-_2023-_-_GSON300_STF-8300M_-_1bin/127JOHANNA_LIGHT_-_2023-11-24_-_GSON300_STF-8300M_-_1bin/', '/mnt/Rdata/ASTRO_data/C2-Asteroid/-_-_-_2023-_-_GSON300_STF-8300M_-_1bin/127JOHANNA_LIGHT_-_2023-12-03_-_GSON300_STF-8300M_-_1bin/', '/mnt/Rdata/ASTRO_data/C2-Asteroid/-_-_-_2023-_-_GSON300_STF-8300M_-_1bin/128NEMESIS_LIGHT_-_2023-12-01_-_GSON300_STF-8300M_-_1bin/', '/mnt/Rdata/ASTRO_data/C2-Asteroid/-_-_-_2023-_-_GSON300_STF-8300M_-_1bin/132AETHRA_LIGHT_-_2023-11-24_-_GSON300_STF-8300M_-_1bin/', '/mnt/Rdata/ASTRO_data/C2-Asteroid/-_-_-_2023-_-_GSON300_STF-8300M_-_1bin/132AETHRA_LIGHT_-_2023-12-03_-_GSON300_STF-8300M_-_1bin/', '/mnt/Rdata/ASTRO_data/C2-Asteroid/-_-_-_2023-_-_GSON300_STF-8300M_-_1bin/135HERTHA_LIGHT_-_2023-10-09_-_GSON300_STF-8300M_-_1bin/', '/mnt/Rdata/ASTRO_data/C2-Asteroid/-_-_-_2023-_-_GSON300_STF-8300M_-_1bin/135HERTHA_LIGHT_-_2023-10-10_-_GSON300_STF-8300M_-_1bin/', '/mnt/Rdata/ASTRO_data/C2-Asteroid/-_-_-_2023-_-_GSON300_STF-8300M_-_1bin/135HERTHA_LIGHT_-_2023-10-16_-_GSON300_STF-8300M_-_1bin/', '/mnt/Rdata/ASTRO_data/C2-Asteroid/-_-_-_2023-_-_GSON300_STF-8300M_-_1bin/135HERTHA_LIGHT_-_2023-11-17_-_GSON300_STF-8300M_-_1bin/', '/mnt/Rdata/ASTRO_data/C2-Asteroid/-_-_-_2023-_-_GSON300_STF-8300M_-_1bin/1659PUNKAHARJU_LIGHT_-_2023-10-11_-_GSON300_STF-8300M_-_1bin/', '/mnt/Rdata/ASTRO_data/C2-Asteroid/-_-_-_2023-_-_GSON300_STF-8300M_-_1bin/1659PUNKAHARJU_LIGHT_-_2023-10-16_-_GSON300_STF-8300M_-_1bin/', '/mnt/Rdata/ASTRO_data/C2-Asteroid/-_-_-_2023-_-_GSON300_STF-8300M_-_1bin/1659PUNKAHARJU_LIGHT_-_2023-10-17_-_GSON300_STF-8300M_-_1bin/', '/mnt/Rdata/ASTRO_data/C2-Asteroid/-_-_-_2023-_-_GSON300_STF-8300M_-_1bin/182ELSA_LIGHT_-_2023-11-07_-_GSON300_STF-8300M_-_1bin/', '/mnt/Rdata/ASTRO_data/C2-Asteroid/-_-_-_2023-_-_GSON300_STF-8300M_-_1bin/198AMPELLA_LIGHT_-_2022-09-06_-_GSON300_STF-8300M_-_1bin/', '/mnt/Rdata/ASTRO_data/C2-Asteroid/-_-_-_2023-_-_GSON300_STF-8300M_-_1bin/21LUTETIA_LIGHT_-_2023-10-16_-_GSON300_STF-8300M_-_1bin/', '/mnt/Rdata/ASTRO_data/C2-Asteroid/-_-_-_2023-_-_GSON300_STF-8300M_-_1bin/21LUTETIA_LIGHT_-_2023-11-24_-_GSON300_STF-8300M_-_1bin/', '/mnt/Rdata/ASTRO_data/C2-Asteroid/-_-_-_2023-_-_GSON300_STF-8300M_-_1bin/239ADRASTEA_LIGHT_-_2023-12-22_-_GSON300_STF-8300M_-_1bin/', '/mnt/Rdata/ASTRO_data/C2-Asteroid/-_-_-_2023-_-_GSON300_STF-8300M_-_1bin/241GERMANIA_LIGHT_-_2023-11-07_-_GSON300_STF-8300M_-_1bin/', '/mnt/Rdata/ASTRO_data/C2-Asteroid/-_-_-_2023-_-_GSON300_STF-8300M_-_1bin/241GERMANIA_LIGHT_-_2023-11-19_-_GSON300_STF-8300M_-_1bin/', '/mnt/Rdata/ASTRO_data/C2-Asteroid/-_-_-_2023-_-_GSON300_STF-8300M_-_1bin/241GERMANIA_LIGHT_-_2023-11-20_-_GSON300_STF-8300M_-_1bin/', '/mnt/Rdata/ASTRO_data/C2-Asteroid/-_-_-_2023-_-_GSON300_STF-8300M_-_1bin/293BRASILIA_LIGHT_-_2023-12-12_-_GSON300_STF-8300M_-_1bin/', '/mnt/Rdata/ASTRO_data/C2-Asteroid/-_-_-_2023-_-_GSON300_STF-8300M_-_1bin/300GERALDINA_LIGHT_-_2023-12-22_-_GSON300_STF-8300M_-_1bin/', '/mnt/Rdata/ASTRO_data/C2-Asteroid/-_-_-_2023-_-_GSON300_STF-8300M_-_1bin/300GERALDINA_LIGHT_-_2024-01-12_-_GSON300_STF-8300M_-_1bin/', '/mnt/Rdata/ASTRO_data/C2-Asteroid/-_-_-_2023-_-_GSON300_STF-8300M_-_1bin/300GERALDINA_LIGHT_-_2024-01-13_-_GSON300_STF-8300M_-_1bin/', '/mnt/Rdata/ASTRO_data/C2-Asteroid/-_-_-_2023-_-_GSON300_STF-8300M_-_1bin/306UNITAS_LIGHT_-_2023-12-01_-_GSON300_STF-8300M_-_1bin/', '/mnt/Rdata/ASTRO_data/C2-Asteroid/-_-_-_2023-_-_GSON300_STF-8300M_-_1bin/306UNITAS_LIGHT_-_2023-12-03_-_GSON300_STF-8300M_-_1bin/', '/mnt/Rdata/ASTRO_data/C2-Asteroid/-_-_-_2023-_-_GSON300_STF-8300M_-_1bin/317ROXANE_LIGHT_-_2023-11-21_-_GSON300_STF-8300M_-_1bin/', '/mnt/Rdata/ASTRO_data/C2-Asteroid/-_-_-_2023-_-_GSON300_STF-8300M_-_1bin/345TERCIDINA_LIGHT_-_2023-10-11_-_GSON300_STF-8300M_-_1bin/', '/mnt/Rdata/ASTRO_data/C2-Asteroid/-_-_-_2023-_-_GSON300_STF-8300M_-_1bin/345TERCIDINA_LIGHT_-_2023-10-16_-_GSON300_STF-8300M_-_1bin/', '/mnt/Rdata/ASTRO_data/C2-Asteroid/-_-_-_2023-_-_GSON300_STF-8300M_-_1bin/345TERCIDINA_LIGHT_-_2023-10-29_-_GSON300_STF-8300M_-_1bin/', '/mnt/Rdata/ASTRO_data/C2-Asteroid/-_-_-_2023-_-_GSON300_STF-8300M_-_1bin/346HERMENTARIA_LIGHT_-_2023-11-24_-_GSON300_STF-8300M_-_1bin/', '/mnt/Rdata/ASTRO_data/C2-Asteroid/-_-_-_2023-_-_GSON300_STF-8300M_-_1bin/363PADUA_LIGHT_-_2023-11-24_-_GSON300_STF-8300M_-_1bin/', '/mnt/Rdata/ASTRO_data/C2-Asteroid/-_-_-_2023-_-_GSON300_STF-8300M_-_1bin/37FIDES_LIGHT_-_2023-11-21_-_GSON300_STF-8300M_-_1bin/', '/mnt/Rdata/ASTRO_data/C2-Asteroid/-_-_-_2023-_-_GSON300_STF-8300M_-_1bin/409ASPASIA_LIGHT_-_2023-11-19_-_GSON300_STF-8300M_-_1bin/', '/mnt/Rdata/ASTRO_data/C2-Asteroid/-_-_-_2023-_-_GSON300_STF-8300M_-_1bin/409ASPASIA_LIGHT_-_2023-11-20_-_GSON300_STF-8300M_-_1bin/', '/mnt/Rdata/ASTRO_data/C2-Asteroid/-_-_-_2023-_-_GSON300_STF-8300M_-_1bin/440THEODORA_LIGHT_-_2023-12-12_-_GSON300_STF-8300M_-_1bin/', '/mnt/Rdata/ASTRO_data/C2-Asteroid/-_-_-_2023-_-_GSON300_STF-8300M_-_1bin/459SIGNE_LIGHT_-_2023-12-22_-_GSON300_STF-8300M_-_1bin/', '/mnt/Rdata/ASTRO_data/C2-Asteroid/-_-_-_2023-_-_GSON300_STF-8300M_-_1bin/480HANSA_LIGHT_-_2023-11-07_-_GSON300_STF-8300M_-_1bin/', '/mnt/Rdata/ASTRO_data/C2-Asteroid/-_-_-_2023-_-_GSON300_STF-8300M_-_1bin/481EMITA_LIGHT_-_2023-11-12_-_GSON300_STF-8300M_-_1bin/', '/mnt/Rdata/ASTRO_data/C2-Asteroid/-_-_-_2023-_-_GSON300_STF-8300M_-_1bin/481EMITA_LIGHT_-_2023-11-13_-_GSON300_STF-8300M_-_1bin/', '/mnt/Rdata/ASTRO_data/C2-Asteroid/-_-_-_2023-_-_GSON300_STF-8300M_-_1bin/48DORIS_LIGHT_-_2023-11-21_-_GSON300_STF-8300M_-_1bin/', '/mnt/Rdata/ASTRO_data/C2-Asteroid/-_-_-_2023-_-_GSON300_STF-8300M_-_1bin/498TOKIO_LIGHT_-_2023-11-24_-_GSON300_STF-8300M_-_1bin/', '/mnt/Rdata/ASTRO_data/C2-Asteroid/-_-_-_2023-_-_GSON300_STF-8300M_-_1bin/498TOKIO_LIGHT_-_2023-12-01_-_GSON300_STF-8300M_-_1bin/', '/mnt/Rdata/ASTRO_data/C2-Asteroid/-_-_-_2023-_-_GSON300_STF-8300M_-_1bin/498TOKIO_LIGHT_-_2023-12-03_-_GSON300_STF-8300M_-_1bin/', '/mnt/Rdata/ASTRO_data/C2-Asteroid/-_-_-_2023-_-_GSON300_STF-8300M_-_1bin/509IORANDA_LIGHT_-_2023-11-17_-_GSON300_STF-8300M_-_1bin/', '/mnt/Rdata/ASTRO_data/C2-Asteroid/-_-_-_2023-_-_GSON300_STF-8300M_-_1bin/509IORANDA_LIGHT_-_2023-11-19_-_GSON300_STF-8300M_-_1bin/', '/mnt/Rdata/ASTRO_data/C2-Asteroid/-_-_-_2023-_-_GSON300_STF-8300M_-_1bin/509IORANDA_LIGHT_-_2023-11-20_-_GSON300_STF-8300M_-_1bin/', '/mnt/Rdata/ASTRO_data/C2-Asteroid/-_-_-_2023-_-_GSON300_STF-8300M_-_1bin/595POLYXENA_LIGHT_-_2023-11-07_-_GSON300_STF-8300M_-_1bin/', '/mnt/Rdata/ASTRO_data/C2-Asteroid/-_-_-_2023-_-_GSON300_STF-8300M_-_1bin/602MARIANNA_LIGHT_-_2023-10-09_-_GSON300_STF-8300M_-_1bin/', '/mnt/Rdata/ASTRO_data/C2-Asteroid/-_-_-_2023-_-_GSON300_STF-8300M_-_1bin/602MARIANNA_LIGHT_-_2023-10-10_-_GSON300_STF-8300M_-_1bin/', '/mnt/Rdata/ASTRO_data/C2-Asteroid/-_-_-_2023-_-_GSON300_STF-8300M_-_1bin/602MARIANNA_LIGHT_-_2023-11-02_-_GSON300_STF-8300M_-_1bin/', '/mnt/Rdata/ASTRO_data/C2-Asteroid/-_-_-_2023-_-_GSON300_STF-8300M_-_1bin/602MARIANNA_LIGHT_-_2023-11-07_-_GSON300_STF-8300M_-_1bin/', '/mnt/Rdata/ASTRO_data/C2-Asteroid/-_-_-_2023-_-_GSON300_STF-8300M_-_1bin/602MARIANNA_LIGHT_-_2023-11-10_-_GSON300_STF-8300M_-_1bin/', '/mnt/Rdata/ASTRO_data/C2-Asteroid/-_-_-_2023-_-_GSON300_STF-8300M_-_1bin/602MARIANNA_LIGHT_-_2023-11-12_-_GSON300_STF-8300M_-_1bin/', '/mnt/Rdata/ASTRO_data/C2-Asteroid/-_-_-_2023-_-_GSON300_STF-8300M_-_1bin/602MARIANNA_LIGHT_-_2023-11-13_-_GSON300_STF-8300M_-_1bin/', '/mnt/Rdata/ASTRO_data/C2-Asteroid/-_-_-_2023-_-_GSON300_STF-8300M_-_1bin/602MARIANNA_LIGHT_-_2023-11-14_-_GSON300_STF-8300M_-_1bin/', '/mnt/Rdata/ASTRO_data/C2-Asteroid/-_-_-_2023-_-_GSON300_STF-8300M_-_1bin/602MARIANNA_LIGHT_-_2023-11-17_-_GSON300_STF-8300M_-_1bin/', '/mnt/Rdata/ASTRO_data/C2-Asteroid/-_-_-_2023-_-_GSON300_STF-8300M_-_1bin/602MARIANNA_LIGHT_-_2023-11-20_-_GSON300_STF-8300M_-_1bin/', '/mnt/Rdata/ASTRO_data/C2-Asteroid/-_-_-_2023-_-_GSON300_STF-8300M_-_1bin/639LATONA_LIGHT_-_2023-10-29_-_GSON300_STF-8300M_-_1bin/', '/mnt/Rdata/ASTRO_data/C2-Asteroid/-_-_-_2023-_-_GSON300_STF-8300M_-_1bin/639LATONA_LIGHT_-_2023-11-07_-_GSON300_STF-8300M_-_1bin/', '/mnt/Rdata/ASTRO_data/C2-Asteroid/-_-_-_2023-_-_GSON300_STF-8300M_-_1bin/639LATONA_LIGHT_-_2023-11-12_-_GSON300_STF-8300M_-_1bin/', '/mnt/Rdata/ASTRO_data/C2-Asteroid/-_-_-_2023-_-_GSON300_STF-8300M_-_1bin/639LATONA_LIGHT_-_2023-11-13_-_GSON300_STF-8300M_-_1bin/', '/mnt/Rdata/ASTRO_data/C2-Asteroid/-_-_-_2023-_-_GSON300_STF-8300M_-_1bin/639LATONA_LIGHT_-_2023-11-14_-_GSON300_STF-8300M_-_1bin/', '/mnt/Rdata/ASTRO_data/C2-Asteroid/-_-_-_2023-_-_GSON300_STF-8300M_-_1bin/639LATONA_LIGHT_-_2023-11-20_-_GSON300_STF-8300M_-_1bin/', '/mnt/Rdata/ASTRO_data/C2-Asteroid/-_-_-_2023-_-_GSON300_STF-8300M_-_1bin/678FREDEGUNDIS_LIGHT_-_2023-10-11_-_GSON300_STF-8300M_-_1bin/', '/mnt/Rdata/ASTRO_data/C2-Asteroid/-_-_-_2023-_-_GSON300_STF-8300M_-_1bin/678FREDEGUNDIS_LIGHT_-_2023-10-16_-_GSON300_STF-8300M_-_1bin/', '/mnt/Rdata/ASTRO_data/C2-Asteroid/-_-_-_2023-_-_GSON300_STF-8300M_-_1bin/678FREDEGUNDIS_LIGHT_-_2023-10-17_-_GSON300_STF-8300M_-_1bin/', '/mnt/Rdata/ASTRO_data/C2-Asteroid/-_-_-_2023-_-_GSON300_STF-8300M_-_1bin/678FREDEGUNDIS_LIGHT_-_2023-11-02_-_GSON300_STF-8300M_-_1bin/', '/mnt/Rdata/ASTRO_data/C2-Asteroid/-_-_-_2023-_-_GSON300_STF-8300M_-_1bin/678FREDEGUNDIS_LIGHT_-_2023-11-07_-_GSON300_STF-8300M_-_1bin/', '/mnt/Rdata/ASTRO_data/C2-Asteroid/-_-_-_2023-_-_GSON300_STF-8300M_-_1bin/678FREDEGUNDIS_LIGHT_-_2023-11-10_-_GSON300_STF-8300M_-_1bin/', '/mnt/Rdata/ASTRO_data/C2-Asteroid/-_-_-_2023-_-_GSON300_STF-8300M_-_1bin/678FREDEGUNDIS_LIGHT_-_2023-11-14_-_GSON300_STF-8300M_-_1bin/', '/mnt/Rdata/ASTRO_data/C2-Asteroid/-_-_-_2023-_-_GSON300_STF-8300M_-_1bin/678FREDEGUNDIS_LIGHT_-_2023-11-17_-_GSON300_STF-8300M_-_1bin/', '/mnt/Rdata/ASTRO_data/C2-Asteroid/-_-_-_2023-_-_GSON300_STF-8300M_-_1bin/678FREDEGUNDIS_LIGHT_-_2023-11-19_-_GSON300_STF-8300M_-_1bin/', '/mnt/Rdata/ASTRO_data/C2-Asteroid/-_-_-_2023-_-_GSON300_STF-8300M_-_1bin/895HELIO_LIGHT_-_2023-12-12_-_GSON300_STF-8300M_-_1bin/', '/mnt/Rdata/ASTRO_data/C2-Asteroid/-_-_-_2023-_-_GSON300_STF-8300M_-_1bin/92UNDINA_LIGHT_-_2023-11-21_-_GSON300_STF-8300M_-_1bin/', '/mnt/Rdata/ASTRO_data/C2-Asteroid/-_-_-_2023-_-_GSON300_STF-8300M_-_1bin/92UNDINA_LIGHT_-_2023-12-01_-_GSON300_STF-8300M_-_1bin/', '/mnt/Rdata/ASTRO_data/C2-Asteroid/-_-_-_2023-_-_GSON300_STF-8300M_-_1bin/92UNDINA_LIGHT_-_2023-12-03_-_GSON300_STF-8300M_-_1bin/', '/mnt/Rdata/ASTRO_data/C2-Asteroid/-_-_-_2023-_-_GSON300_STF-8300M_-_1bin/93MINERVA_LIGHT_-_2023-11-07_-_GSON300_STF-8300M_-_1bin/', '/mnt/Rdata/ASTRO_data/C2-Asteroid/-_-_-_2023-_-_GSON300_STF-8300M_-_1bin/93MINERVA_LIGHT_-_2023-11-12_-_GSON300_STF-8300M_-_1bin/', '/mnt/Rdata/ASTRO_data/C2-Asteroid/-_-_-_2023-_-_GSON300_STF-8300M_-_1bin/93MINERVA_LIGHT_-_2023-11-13_-_GSON300_STF-8300M_-_1bin/', '/mnt/Rdata/ASTRO_data/C2-Asteroid/-_-_-_2023-_-_GSON300_STF-8300M_-_1bin/93MINERVA_LIGHT_-_2023-11-17_-_GSON300_STF-8300M_-_1bin/', '/mnt/Rdata/ASTRO_data/C2-Asteroid/-_-_-_2023-_-_GSON300_STF-8300M_-_1bin/93MINERVA_LIGHT_-_2023-11-19_-_GSON300_STF-8300M_-_1bin/', '/mnt/Rdata/ASTRO_data/C2-Asteroid/-_-_-_2023-_-_GSON300_STF-8300M_-_1bin/93MINERVA_LIGHT_-_2023-11-20_-_GSON300_STF-8300M_-_1bin/', '/mnt/Rdata/ASTRO_data/C2-Asteroid/-_-_-_2023-_-_GSON300_STF-8300M_-_1bin/949HEL_LIGHT_-_2023-12-12_-_GSON300_STF-8300M_-_1bin/', '/mnt/Rdata/ASTRO_data/C2-Asteroid/-_-_-_2023-_-_GSON300_STF-8300M_-_1bin/9628SENDAIOTSUNA_LIGHT_-_2023-11-21_-_GSON300_STF-8300M_-_1bin/', '/mnt/Rdata/ASTRO_data/C2-Asteroid/-_-_-_2023-_-_GSON300_STF-8300M_-_1bin/9628SENDAOPTSUMA_LIGHT_-_2023-11-21_-_GSON300_STF-8300M_-_1bin/', '/mnt/Rdata/ASTRO_data/C2-Asteroid/-_-_-_2023-_-_GSON300_STF-8300M_-_1bin/9METIS_LIGHT_-_2023-12-01_-_GSON300_STF-8300M_-_1bin/', '/mnt/Rdata/ASTRO_data/C2-Asteroid/-_-_-_2023-_-_GSON300_STF-8300M_-_1bin/9METIS_LIGHT_-_2023-12-03_-_GSON300_STF-8300M_-_1bin/']\n",
      "len(DOINGDIRs):  95\n",
      "BDFDIR:  ['/mnt/Rdata/ASTRO_data/C2-Asteroid/-_-_-_2023-_-_GSON300_STF-8300M_-_1bin/-_CAL-BDF_-_2023_-_GSON300_STF-8300M_-_1bin/']\n",
      "MASTERDIR:  /mnt/Rdata/ASTRO_data/C2-Asteroid/-_-_-_2023-_-_GSON300_STF-8300M_-_1bin/-_CAL-BDF_-_2023_-_GSON300_STF-8300M_-_1bin/master_files_ys\n",
      "DOINGDIRs:  ['/mnt/Rdata/ASTRO_data/C2-Asteroid/-_-_-_2023-_-_GSON300_STF-8300M_-_1bin/120LACHESIS_LIGHT_-_2023-10-09_-_GSON300_STF-8300M_-_1bin/', '/mnt/Rdata/ASTRO_data/C2-Asteroid/-_-_-_2023-_-_GSON300_STF-8300M_-_1bin/120LACHESIS_LIGHT_-_2023-10-10_-_GSON300_STF-8300M_-_1bin/', '/mnt/Rdata/ASTRO_data/C2-Asteroid/-_-_-_2023-_-_GSON300_STF-8300M_-_1bin/120LACHESIS_LIGHT_-_2023-10-16_-_GSON300_STF-8300M_-_1bin/', '/mnt/Rdata/ASTRO_data/C2-Asteroid/-_-_-_2023-_-_GSON300_STF-8300M_-_1bin/120LACHESIS_LIGHT_-_2023-11-14_-_GSON300_STF-8300M_-_1bin/', '/mnt/Rdata/ASTRO_data/C2-Asteroid/-_-_-_2023-_-_GSON300_STF-8300M_-_1bin/1266TONE_LIGHT_-_2023-11-21_-_GSON300_STF-8300M_-_1bin/', '/mnt/Rdata/ASTRO_data/C2-Asteroid/-_-_-_2023-_-_GSON300_STF-8300M_-_1bin/127JOHANNA_LIGHT_-_2023-11-17_-_GSON300_STF-8300M_-_1bin/', '/mnt/Rdata/ASTRO_data/C2-Asteroid/-_-_-_2023-_-_GSON300_STF-8300M_-_1bin/127JOHANNA_LIGHT_-_2023-11-24_-_GSON300_STF-8300M_-_1bin/', '/mnt/Rdata/ASTRO_data/C2-Asteroid/-_-_-_2023-_-_GSON300_STF-8300M_-_1bin/127JOHANNA_LIGHT_-_2023-12-03_-_GSON300_STF-8300M_-_1bin/', '/mnt/Rdata/ASTRO_data/C2-Asteroid/-_-_-_2023-_-_GSON300_STF-8300M_-_1bin/128NEMESIS_LIGHT_-_2023-12-01_-_GSON300_STF-8300M_-_1bin/', '/mnt/Rdata/ASTRO_data/C2-Asteroid/-_-_-_2023-_-_GSON300_STF-8300M_-_1bin/132AETHRA_LIGHT_-_2023-11-24_-_GSON300_STF-8300M_-_1bin/', '/mnt/Rdata/ASTRO_data/C2-Asteroid/-_-_-_2023-_-_GSON300_STF-8300M_-_1bin/132AETHRA_LIGHT_-_2023-12-03_-_GSON300_STF-8300M_-_1bin/', '/mnt/Rdata/ASTRO_data/C2-Asteroid/-_-_-_2023-_-_GSON300_STF-8300M_-_1bin/135HERTHA_LIGHT_-_2023-10-09_-_GSON300_STF-8300M_-_1bin/', '/mnt/Rdata/ASTRO_data/C2-Asteroid/-_-_-_2023-_-_GSON300_STF-8300M_-_1bin/135HERTHA_LIGHT_-_2023-10-10_-_GSON300_STF-8300M_-_1bin/', '/mnt/Rdata/ASTRO_data/C2-Asteroid/-_-_-_2023-_-_GSON300_STF-8300M_-_1bin/135HERTHA_LIGHT_-_2023-10-16_-_GSON300_STF-8300M_-_1bin/', '/mnt/Rdata/ASTRO_data/C2-Asteroid/-_-_-_2023-_-_GSON300_STF-8300M_-_1bin/135HERTHA_LIGHT_-_2023-11-17_-_GSON300_STF-8300M_-_1bin/', '/mnt/Rdata/ASTRO_data/C2-Asteroid/-_-_-_2023-_-_GSON300_STF-8300M_-_1bin/1659PUNKAHARJU_LIGHT_-_2023-10-11_-_GSON300_STF-8300M_-_1bin/', '/mnt/Rdata/ASTRO_data/C2-Asteroid/-_-_-_2023-_-_GSON300_STF-8300M_-_1bin/1659PUNKAHARJU_LIGHT_-_2023-10-16_-_GSON300_STF-8300M_-_1bin/', '/mnt/Rdata/ASTRO_data/C2-Asteroid/-_-_-_2023-_-_GSON300_STF-8300M_-_1bin/1659PUNKAHARJU_LIGHT_-_2023-10-17_-_GSON300_STF-8300M_-_1bin/', '/mnt/Rdata/ASTRO_data/C2-Asteroid/-_-_-_2023-_-_GSON300_STF-8300M_-_1bin/182ELSA_LIGHT_-_2023-11-07_-_GSON300_STF-8300M_-_1bin/', '/mnt/Rdata/ASTRO_data/C2-Asteroid/-_-_-_2023-_-_GSON300_STF-8300M_-_1bin/198AMPELLA_LIGHT_-_2022-09-06_-_GSON300_STF-8300M_-_1bin/', '/mnt/Rdata/ASTRO_data/C2-Asteroid/-_-_-_2023-_-_GSON300_STF-8300M_-_1bin/21LUTETIA_LIGHT_-_2023-10-16_-_GSON300_STF-8300M_-_1bin/', '/mnt/Rdata/ASTRO_data/C2-Asteroid/-_-_-_2023-_-_GSON300_STF-8300M_-_1bin/21LUTETIA_LIGHT_-_2023-11-24_-_GSON300_STF-8300M_-_1bin/', '/mnt/Rdata/ASTRO_data/C2-Asteroid/-_-_-_2023-_-_GSON300_STF-8300M_-_1bin/239ADRASTEA_LIGHT_-_2023-12-22_-_GSON300_STF-8300M_-_1bin/', '/mnt/Rdata/ASTRO_data/C2-Asteroid/-_-_-_2023-_-_GSON300_STF-8300M_-_1bin/241GERMANIA_LIGHT_-_2023-11-07_-_GSON300_STF-8300M_-_1bin/', '/mnt/Rdata/ASTRO_data/C2-Asteroid/-_-_-_2023-_-_GSON300_STF-8300M_-_1bin/241GERMANIA_LIGHT_-_2023-11-19_-_GSON300_STF-8300M_-_1bin/', '/mnt/Rdata/ASTRO_data/C2-Asteroid/-_-_-_2023-_-_GSON300_STF-8300M_-_1bin/241GERMANIA_LIGHT_-_2023-11-20_-_GSON300_STF-8300M_-_1bin/', '/mnt/Rdata/ASTRO_data/C2-Asteroid/-_-_-_2023-_-_GSON300_STF-8300M_-_1bin/293BRASILIA_LIGHT_-_2023-12-12_-_GSON300_STF-8300M_-_1bin/', '/mnt/Rdata/ASTRO_data/C2-Asteroid/-_-_-_2023-_-_GSON300_STF-8300M_-_1bin/300GERALDINA_LIGHT_-_2023-12-22_-_GSON300_STF-8300M_-_1bin/', '/mnt/Rdata/ASTRO_data/C2-Asteroid/-_-_-_2023-_-_GSON300_STF-8300M_-_1bin/300GERALDINA_LIGHT_-_2024-01-12_-_GSON300_STF-8300M_-_1bin/', '/mnt/Rdata/ASTRO_data/C2-Asteroid/-_-_-_2023-_-_GSON300_STF-8300M_-_1bin/300GERALDINA_LIGHT_-_2024-01-13_-_GSON300_STF-8300M_-_1bin/', '/mnt/Rdata/ASTRO_data/C2-Asteroid/-_-_-_2023-_-_GSON300_STF-8300M_-_1bin/306UNITAS_LIGHT_-_2023-12-01_-_GSON300_STF-8300M_-_1bin/', '/mnt/Rdata/ASTRO_data/C2-Asteroid/-_-_-_2023-_-_GSON300_STF-8300M_-_1bin/306UNITAS_LIGHT_-_2023-12-03_-_GSON300_STF-8300M_-_1bin/', '/mnt/Rdata/ASTRO_data/C2-Asteroid/-_-_-_2023-_-_GSON300_STF-8300M_-_1bin/317ROXANE_LIGHT_-_2023-11-21_-_GSON300_STF-8300M_-_1bin/', '/mnt/Rdata/ASTRO_data/C2-Asteroid/-_-_-_2023-_-_GSON300_STF-8300M_-_1bin/345TERCIDINA_LIGHT_-_2023-10-11_-_GSON300_STF-8300M_-_1bin/', '/mnt/Rdata/ASTRO_data/C2-Asteroid/-_-_-_2023-_-_GSON300_STF-8300M_-_1bin/345TERCIDINA_LIGHT_-_2023-10-16_-_GSON300_STF-8300M_-_1bin/', '/mnt/Rdata/ASTRO_data/C2-Asteroid/-_-_-_2023-_-_GSON300_STF-8300M_-_1bin/345TERCIDINA_LIGHT_-_2023-10-29_-_GSON300_STF-8300M_-_1bin/', '/mnt/Rdata/ASTRO_data/C2-Asteroid/-_-_-_2023-_-_GSON300_STF-8300M_-_1bin/346HERMENTARIA_LIGHT_-_2023-11-24_-_GSON300_STF-8300M_-_1bin/', '/mnt/Rdata/ASTRO_data/C2-Asteroid/-_-_-_2023-_-_GSON300_STF-8300M_-_1bin/363PADUA_LIGHT_-_2023-11-24_-_GSON300_STF-8300M_-_1bin/', '/mnt/Rdata/ASTRO_data/C2-Asteroid/-_-_-_2023-_-_GSON300_STF-8300M_-_1bin/37FIDES_LIGHT_-_2023-11-21_-_GSON300_STF-8300M_-_1bin/', '/mnt/Rdata/ASTRO_data/C2-Asteroid/-_-_-_2023-_-_GSON300_STF-8300M_-_1bin/409ASPASIA_LIGHT_-_2023-11-19_-_GSON300_STF-8300M_-_1bin/', '/mnt/Rdata/ASTRO_data/C2-Asteroid/-_-_-_2023-_-_GSON300_STF-8300M_-_1bin/409ASPASIA_LIGHT_-_2023-11-20_-_GSON300_STF-8300M_-_1bin/', '/mnt/Rdata/ASTRO_data/C2-Asteroid/-_-_-_2023-_-_GSON300_STF-8300M_-_1bin/440THEODORA_LIGHT_-_2023-12-12_-_GSON300_STF-8300M_-_1bin/', '/mnt/Rdata/ASTRO_data/C2-Asteroid/-_-_-_2023-_-_GSON300_STF-8300M_-_1bin/459SIGNE_LIGHT_-_2023-12-22_-_GSON300_STF-8300M_-_1bin/', '/mnt/Rdata/ASTRO_data/C2-Asteroid/-_-_-_2023-_-_GSON300_STF-8300M_-_1bin/480HANSA_LIGHT_-_2023-11-07_-_GSON300_STF-8300M_-_1bin/', '/mnt/Rdata/ASTRO_data/C2-Asteroid/-_-_-_2023-_-_GSON300_STF-8300M_-_1bin/481EMITA_LIGHT_-_2023-11-12_-_GSON300_STF-8300M_-_1bin/', '/mnt/Rdata/ASTRO_data/C2-Asteroid/-_-_-_2023-_-_GSON300_STF-8300M_-_1bin/481EMITA_LIGHT_-_2023-11-13_-_GSON300_STF-8300M_-_1bin/', '/mnt/Rdata/ASTRO_data/C2-Asteroid/-_-_-_2023-_-_GSON300_STF-8300M_-_1bin/48DORIS_LIGHT_-_2023-11-21_-_GSON300_STF-8300M_-_1bin/', '/mnt/Rdata/ASTRO_data/C2-Asteroid/-_-_-_2023-_-_GSON300_STF-8300M_-_1bin/498TOKIO_LIGHT_-_2023-11-24_-_GSON300_STF-8300M_-_1bin/', '/mnt/Rdata/ASTRO_data/C2-Asteroid/-_-_-_2023-_-_GSON300_STF-8300M_-_1bin/498TOKIO_LIGHT_-_2023-12-01_-_GSON300_STF-8300M_-_1bin/', '/mnt/Rdata/ASTRO_data/C2-Asteroid/-_-_-_2023-_-_GSON300_STF-8300M_-_1bin/498TOKIO_LIGHT_-_2023-12-03_-_GSON300_STF-8300M_-_1bin/', '/mnt/Rdata/ASTRO_data/C2-Asteroid/-_-_-_2023-_-_GSON300_STF-8300M_-_1bin/509IORANDA_LIGHT_-_2023-11-17_-_GSON300_STF-8300M_-_1bin/', '/mnt/Rdata/ASTRO_data/C2-Asteroid/-_-_-_2023-_-_GSON300_STF-8300M_-_1bin/509IORANDA_LIGHT_-_2023-11-19_-_GSON300_STF-8300M_-_1bin/', '/mnt/Rdata/ASTRO_data/C2-Asteroid/-_-_-_2023-_-_GSON300_STF-8300M_-_1bin/509IORANDA_LIGHT_-_2023-11-20_-_GSON300_STF-8300M_-_1bin/', '/mnt/Rdata/ASTRO_data/C2-Asteroid/-_-_-_2023-_-_GSON300_STF-8300M_-_1bin/595POLYXENA_LIGHT_-_2023-11-07_-_GSON300_STF-8300M_-_1bin/', '/mnt/Rdata/ASTRO_data/C2-Asteroid/-_-_-_2023-_-_GSON300_STF-8300M_-_1bin/602MARIANNA_LIGHT_-_2023-10-09_-_GSON300_STF-8300M_-_1bin/', '/mnt/Rdata/ASTRO_data/C2-Asteroid/-_-_-_2023-_-_GSON300_STF-8300M_-_1bin/602MARIANNA_LIGHT_-_2023-10-10_-_GSON300_STF-8300M_-_1bin/', '/mnt/Rdata/ASTRO_data/C2-Asteroid/-_-_-_2023-_-_GSON300_STF-8300M_-_1bin/602MARIANNA_LIGHT_-_2023-11-02_-_GSON300_STF-8300M_-_1bin/', '/mnt/Rdata/ASTRO_data/C2-Asteroid/-_-_-_2023-_-_GSON300_STF-8300M_-_1bin/602MARIANNA_LIGHT_-_2023-11-07_-_GSON300_STF-8300M_-_1bin/', '/mnt/Rdata/ASTRO_data/C2-Asteroid/-_-_-_2023-_-_GSON300_STF-8300M_-_1bin/602MARIANNA_LIGHT_-_2023-11-10_-_GSON300_STF-8300M_-_1bin/', '/mnt/Rdata/ASTRO_data/C2-Asteroid/-_-_-_2023-_-_GSON300_STF-8300M_-_1bin/602MARIANNA_LIGHT_-_2023-11-12_-_GSON300_STF-8300M_-_1bin/', '/mnt/Rdata/ASTRO_data/C2-Asteroid/-_-_-_2023-_-_GSON300_STF-8300M_-_1bin/602MARIANNA_LIGHT_-_2023-11-13_-_GSON300_STF-8300M_-_1bin/', '/mnt/Rdata/ASTRO_data/C2-Asteroid/-_-_-_2023-_-_GSON300_STF-8300M_-_1bin/602MARIANNA_LIGHT_-_2023-11-14_-_GSON300_STF-8300M_-_1bin/', '/mnt/Rdata/ASTRO_data/C2-Asteroid/-_-_-_2023-_-_GSON300_STF-8300M_-_1bin/602MARIANNA_LIGHT_-_2023-11-17_-_GSON300_STF-8300M_-_1bin/', '/mnt/Rdata/ASTRO_data/C2-Asteroid/-_-_-_2023-_-_GSON300_STF-8300M_-_1bin/602MARIANNA_LIGHT_-_2023-11-20_-_GSON300_STF-8300M_-_1bin/', '/mnt/Rdata/ASTRO_data/C2-Asteroid/-_-_-_2023-_-_GSON300_STF-8300M_-_1bin/639LATONA_LIGHT_-_2023-10-29_-_GSON300_STF-8300M_-_1bin/', '/mnt/Rdata/ASTRO_data/C2-Asteroid/-_-_-_2023-_-_GSON300_STF-8300M_-_1bin/639LATONA_LIGHT_-_2023-11-07_-_GSON300_STF-8300M_-_1bin/', '/mnt/Rdata/ASTRO_data/C2-Asteroid/-_-_-_2023-_-_GSON300_STF-8300M_-_1bin/639LATONA_LIGHT_-_2023-11-12_-_GSON300_STF-8300M_-_1bin/', '/mnt/Rdata/ASTRO_data/C2-Asteroid/-_-_-_2023-_-_GSON300_STF-8300M_-_1bin/639LATONA_LIGHT_-_2023-11-13_-_GSON300_STF-8300M_-_1bin/', '/mnt/Rdata/ASTRO_data/C2-Asteroid/-_-_-_2023-_-_GSON300_STF-8300M_-_1bin/639LATONA_LIGHT_-_2023-11-14_-_GSON300_STF-8300M_-_1bin/', '/mnt/Rdata/ASTRO_data/C2-Asteroid/-_-_-_2023-_-_GSON300_STF-8300M_-_1bin/639LATONA_LIGHT_-_2023-11-20_-_GSON300_STF-8300M_-_1bin/', '/mnt/Rdata/ASTRO_data/C2-Asteroid/-_-_-_2023-_-_GSON300_STF-8300M_-_1bin/678FREDEGUNDIS_LIGHT_-_2023-10-11_-_GSON300_STF-8300M_-_1bin/', '/mnt/Rdata/ASTRO_data/C2-Asteroid/-_-_-_2023-_-_GSON300_STF-8300M_-_1bin/678FREDEGUNDIS_LIGHT_-_2023-10-16_-_GSON300_STF-8300M_-_1bin/', '/mnt/Rdata/ASTRO_data/C2-Asteroid/-_-_-_2023-_-_GSON300_STF-8300M_-_1bin/678FREDEGUNDIS_LIGHT_-_2023-10-17_-_GSON300_STF-8300M_-_1bin/', '/mnt/Rdata/ASTRO_data/C2-Asteroid/-_-_-_2023-_-_GSON300_STF-8300M_-_1bin/678FREDEGUNDIS_LIGHT_-_2023-11-02_-_GSON300_STF-8300M_-_1bin/', '/mnt/Rdata/ASTRO_data/C2-Asteroid/-_-_-_2023-_-_GSON300_STF-8300M_-_1bin/678FREDEGUNDIS_LIGHT_-_2023-11-07_-_GSON300_STF-8300M_-_1bin/', '/mnt/Rdata/ASTRO_data/C2-Asteroid/-_-_-_2023-_-_GSON300_STF-8300M_-_1bin/678FREDEGUNDIS_LIGHT_-_2023-11-10_-_GSON300_STF-8300M_-_1bin/', '/mnt/Rdata/ASTRO_data/C2-Asteroid/-_-_-_2023-_-_GSON300_STF-8300M_-_1bin/678FREDEGUNDIS_LIGHT_-_2023-11-14_-_GSON300_STF-8300M_-_1bin/', '/mnt/Rdata/ASTRO_data/C2-Asteroid/-_-_-_2023-_-_GSON300_STF-8300M_-_1bin/678FREDEGUNDIS_LIGHT_-_2023-11-17_-_GSON300_STF-8300M_-_1bin/', '/mnt/Rdata/ASTRO_data/C2-Asteroid/-_-_-_2023-_-_GSON300_STF-8300M_-_1bin/678FREDEGUNDIS_LIGHT_-_2023-11-19_-_GSON300_STF-8300M_-_1bin/', '/mnt/Rdata/ASTRO_data/C2-Asteroid/-_-_-_2023-_-_GSON300_STF-8300M_-_1bin/895HELIO_LIGHT_-_2023-12-12_-_GSON300_STF-8300M_-_1bin/', '/mnt/Rdata/ASTRO_data/C2-Asteroid/-_-_-_2023-_-_GSON300_STF-8300M_-_1bin/92UNDINA_LIGHT_-_2023-11-21_-_GSON300_STF-8300M_-_1bin/', '/mnt/Rdata/ASTRO_data/C2-Asteroid/-_-_-_2023-_-_GSON300_STF-8300M_-_1bin/92UNDINA_LIGHT_-_2023-12-01_-_GSON300_STF-8300M_-_1bin/', '/mnt/Rdata/ASTRO_data/C2-Asteroid/-_-_-_2023-_-_GSON300_STF-8300M_-_1bin/92UNDINA_LIGHT_-_2023-12-03_-_GSON300_STF-8300M_-_1bin/', '/mnt/Rdata/ASTRO_data/C2-Asteroid/-_-_-_2023-_-_GSON300_STF-8300M_-_1bin/93MINERVA_LIGHT_-_2023-11-07_-_GSON300_STF-8300M_-_1bin/', '/mnt/Rdata/ASTRO_data/C2-Asteroid/-_-_-_2023-_-_GSON300_STF-8300M_-_1bin/93MINERVA_LIGHT_-_2023-11-12_-_GSON300_STF-8300M_-_1bin/', '/mnt/Rdata/ASTRO_data/C2-Asteroid/-_-_-_2023-_-_GSON300_STF-8300M_-_1bin/93MINERVA_LIGHT_-_2023-11-13_-_GSON300_STF-8300M_-_1bin/', '/mnt/Rdata/ASTRO_data/C2-Asteroid/-_-_-_2023-_-_GSON300_STF-8300M_-_1bin/93MINERVA_LIGHT_-_2023-11-17_-_GSON300_STF-8300M_-_1bin/', '/mnt/Rdata/ASTRO_data/C2-Asteroid/-_-_-_2023-_-_GSON300_STF-8300M_-_1bin/93MINERVA_LIGHT_-_2023-11-19_-_GSON300_STF-8300M_-_1bin/', '/mnt/Rdata/ASTRO_data/C2-Asteroid/-_-_-_2023-_-_GSON300_STF-8300M_-_1bin/93MINERVA_LIGHT_-_2023-11-20_-_GSON300_STF-8300M_-_1bin/', '/mnt/Rdata/ASTRO_data/C2-Asteroid/-_-_-_2023-_-_GSON300_STF-8300M_-_1bin/949HEL_LIGHT_-_2023-12-12_-_GSON300_STF-8300M_-_1bin/', '/mnt/Rdata/ASTRO_data/C2-Asteroid/-_-_-_2023-_-_GSON300_STF-8300M_-_1bin/9628SENDAIOTSUNA_LIGHT_-_2023-11-21_-_GSON300_STF-8300M_-_1bin/', '/mnt/Rdata/ASTRO_data/C2-Asteroid/-_-_-_2023-_-_GSON300_STF-8300M_-_1bin/9628SENDAOPTSUMA_LIGHT_-_2023-11-21_-_GSON300_STF-8300M_-_1bin/', '/mnt/Rdata/ASTRO_data/C2-Asteroid/-_-_-_2023-_-_GSON300_STF-8300M_-_1bin/9METIS_LIGHT_-_2023-12-01_-_GSON300_STF-8300M_-_1bin/', '/mnt/Rdata/ASTRO_data/C2-Asteroid/-_-_-_2023-_-_GSON300_STF-8300M_-_1bin/9METIS_LIGHT_-_2023-12-03_-_GSON300_STF-8300M_-_1bin/']\n",
      "len(DOINGDIRs):  94\n"
     ]
    }
   ],
   "source": [
    "#%%\n",
    "#######################################################\n",
    "BASEDIR = Path(\"/mnt/Rdata/ASTRO_data\")  \n",
    "\n",
    "PROJECDIR = BASEDIR / \"C1-Variable\"\n",
    "TODODIR = PROJECDIR / \"-_-_-_2016-_-_RiLA600_STX-16803_-_2bin\"\n",
    "TODODIR = PROJECDIR / \"-_-_-_2017-01_-_RiLA600_STX-16803_-_2bin\"\n",
    "TODODIR = PROJECDIR / \"-_-_-_2017-03_-_RiLA600_STX-16803_-_2bin\"\n",
    "TODODIR = PROJECDIR / \"-_-_-_2017-05_-_RiLA600_STX-16803_-_2bin\"\n",
    "TODODIR = PROJECDIR / \"-_-_-_2017-06_-_RiLA600_STX-16803_-_2bin\"\n",
    "TODODIR = PROJECDIR / \"-_-_-_2021-10_-_RiLA600_STX-16803_-_2bin\"\n",
    "TODODIR = PROJECDIR / \"-_-_-_2022-01_-_RiLA600_STX-16803_-_2bin\"\n",
    "\n",
    "PROJECDIR = BASEDIR / \"C2-Asteroid\"\n",
    "TODODIR = PROJECDIR / \"-_-_-_2022-_-_GSON300_STF-8300M_-_1bin\"\n",
    "TODODIR = PROJECDIR / \"-_-_-_2022-_-_RiLA600_STX-16803_-_1bin\"\n",
    "TODODIR = PROJECDIR / \"-_-_-_2022-_-_RiLA600_STX-16803_-_2bin\"\n",
    "TODODIR = PROJECDIR / \"-_-_-_2023-_-_GSON300_STF-8300M_-_1bin\"\n",
    "# TODODIR = PROJECDIR / \"-_-_-_2023-_-_RiLA600_STX-16803_-_1bin\"\n",
    "# TODODIR = PROJECDIR / \"-_-_-_2023-_-_RiLA600_STX-16803_-_2bin\"\n",
    "\n",
    "# PROJECDIR = BASEDIR / \"C3-EXO\"\n",
    "# TODODIR = PROJECDIR / \"-_-_-_2024-05_-_GSON300_STF-8300M_-_1bin\"\n",
    "# TODODIR = PROJECDIR / \"-_-_-_2024-05_-_RiLA600_STX-16803_-_1bin\"\n",
    "# TODODIR = PROJECDIR / \"-_-_-_2024-06_-_GSON300_STF-8300M_-_1bin\"\n",
    "# TODODIR = PROJECDIR / \"-_-_-_2024-06_-_RiLA600_STX-16803_-_2bin\"\n",
    "\n",
    "# PROJECDIR = BASEDIR / \"C4-Spectra\"\n",
    "# TODODIR = PROJECDIR / \"-_-_-_2024-05_TEC140_ASI183MMPro_-_1bin\"\n",
    "\n",
    "DOINGDIRs = sorted(_Python_utilities.getFullnameListOfsubDirs(TODODIR))\n",
    "print (\"DOINGDIRs: \", format(DOINGDIRs))\n",
    "print (\"len(DOINGDIRs): \", format(len(DOINGDIRs)))\n",
    "\n",
    "try : \n",
    "    BDFDIR = [x for x in DOINGDIRs if \"CAL-BDF\" in str(x)]\n",
    "    print (\"BDFDIR: \", format(BDFDIR))\n",
    "    MASTERDIR = Path(BDFDIR[0]) / _astro_utilities.master_dir\n",
    "    if not MASTERDIR.exists():\n",
    "        os.makedirs(\"{}\".format(str(MASTERDIR)))\n",
    "        print(\"{} is created...\".format(str(MASTERDIR)))\n",
    "    print (\"MASTERDIR: \", format(MASTERDIR))\n",
    "except : \n",
    "    pass\n",
    "\n",
    "DOINGDIRs = sorted([x for x in DOINGDIRs if \"_LIGHT_\" in str(x)])\n",
    "# print (\"DOINGDIRs: \", format(DOINGDIRs))\n",
    "# print (\"len(DOINGDIRs): \", format(len(DOINGDIRs)))\n",
    "\n",
    "# filter_str = 'Kepler-17b_LIGHT_-_2024-06-26_-_RiLA600_STX-16803_-_2bin'\n",
    "# DOINGDIRs = [x for x in DOINGDIRs if filter_str in str(x)]\n",
    "# remove = 'BIAS'\n",
    "# DOINGDIRs = [x for x in DOINGDIRs if remove not in x]\n",
    "# remove = 'DARK'\n",
    "# DOINGDIRs = [x for x in DOINGDIRs if remove not in x]\n",
    "# remove = 'FLAT'\n",
    "# DOINGDIRs = [x for x in DOINGDIRs if remove not in x]\n",
    "print (\"DOINGDIRs: \", DOINGDIRs)\n",
    "print (\"len(DOINGDIRs): \", len(DOINGDIRs))"
   ]
  },
  {
   "cell_type": "code",
   "execution_count": 184,
   "metadata": {},
   "outputs": [],
   "source": [
    "DOINGDIR = Path(DOINGDIRs[0])\n"
   ]
  },
  {
   "cell_type": "code",
   "execution_count": 185,
   "metadata": {},
   "outputs": [
    {
     "data": {
      "text/plain": [
       "PosixPath('/mnt/Rdata/ASTRO_data/C3-EXO/-_-_-_2024-06_-_RiLA600_STX-16803_-_2bin/HAT-P-37b_LIGHT_-_2024-06-28_-_RiLA600_STX-16803_-_2bin')"
      ]
     },
     "execution_count": 185,
     "metadata": {},
     "output_type": "execute_result"
    }
   ],
   "source": [
    "DOINGDIR.parent / DOINGDIR.stem"
   ]
  },
  {
   "cell_type": "code",
   "execution_count": 186,
   "metadata": {},
   "outputs": [],
   "source": [
    "# DOINGDIR = Path(DOINGDIRs[0])\n",
    "# print(\"DOINGDIR\", DOINGDIR)\n",
    "\n",
    "# shutil.move(f\"{DOINGDIR/\"REDUC_nightsky\"}\", f\"{DOINGDIR/_astro_utilities.reduced_nightsky_dir}\")\n",
    "# print(f\"{DOINGDIR/\"REDUC_nightsky\"} is move to {DOINGDIR/_astro_utilities.reduced_nightsky_dir} ...\")\n",
    "# # shutil.rmtree(DOINGDIR/_astro_utilities.master_dir)\n",
    "# # print(f\"{DOINGDIR/_astro_utilities.master_dir} is removed...\")\n"
   ]
  },
  {
   "cell_type": "code",
   "execution_count": 5,
   "metadata": {},
   "outputs": [
    {
     "name": "stdout",
     "output_type": "stream",
     "text": [
      "DOINGDIR /mnt/Rdata/ASTRO_data/C2-Asteroid/-_-_-_2023-_-_GSON300_STF-8300M_-_1bin/120LACHESIS_LIGHT_-_2023-10-09_-_GSON300_STF-8300M_-_1bin\n",
      "DOINGDIR /mnt/Rdata/ASTRO_data/C2-Asteroid/-_-_-_2023-_-_GSON300_STF-8300M_-_1bin/120LACHESIS_LIGHT_-_2023-10-10_-_GSON300_STF-8300M_-_1bin\n",
      "DOINGDIR /mnt/Rdata/ASTRO_data/C2-Asteroid/-_-_-_2023-_-_GSON300_STF-8300M_-_1bin/120LACHESIS_LIGHT_-_2023-10-16_-_GSON300_STF-8300M_-_1bin\n",
      "DOINGDIR /mnt/Rdata/ASTRO_data/C2-Asteroid/-_-_-_2023-_-_GSON300_STF-8300M_-_1bin/120LACHESIS_LIGHT_-_2023-11-14_-_GSON300_STF-8300M_-_1bin\n",
      "DOINGDIR /mnt/Rdata/ASTRO_data/C2-Asteroid/-_-_-_2023-_-_GSON300_STF-8300M_-_1bin/1266TONE_LIGHT_-_2023-11-21_-_GSON300_STF-8300M_-_1bin\n",
      "DOINGDIR /mnt/Rdata/ASTRO_data/C2-Asteroid/-_-_-_2023-_-_GSON300_STF-8300M_-_1bin/127JOHANNA_LIGHT_-_2023-11-17_-_GSON300_STF-8300M_-_1bin\n",
      "DOINGDIR /mnt/Rdata/ASTRO_data/C2-Asteroid/-_-_-_2023-_-_GSON300_STF-8300M_-_1bin/127JOHANNA_LIGHT_-_2023-11-24_-_GSON300_STF-8300M_-_1bin\n",
      "DOINGDIR /mnt/Rdata/ASTRO_data/C2-Asteroid/-_-_-_2023-_-_GSON300_STF-8300M_-_1bin/127JOHANNA_LIGHT_-_2023-12-03_-_GSON300_STF-8300M_-_1bin\n",
      "DOINGDIR /mnt/Rdata/ASTRO_data/C2-Asteroid/-_-_-_2023-_-_GSON300_STF-8300M_-_1bin/128NEMESIS_LIGHT_-_2023-12-01_-_GSON300_STF-8300M_-_1bin\n",
      "DOINGDIR /mnt/Rdata/ASTRO_data/C2-Asteroid/-_-_-_2023-_-_GSON300_STF-8300M_-_1bin/132AETHRA_LIGHT_-_2023-11-24_-_GSON300_STF-8300M_-_1bin\n",
      "DOINGDIR /mnt/Rdata/ASTRO_data/C2-Asteroid/-_-_-_2023-_-_GSON300_STF-8300M_-_1bin/132AETHRA_LIGHT_-_2023-12-03_-_GSON300_STF-8300M_-_1bin\n",
      "DOINGDIR /mnt/Rdata/ASTRO_data/C2-Asteroid/-_-_-_2023-_-_GSON300_STF-8300M_-_1bin/135HERTHA_LIGHT_-_2023-10-09_-_GSON300_STF-8300M_-_1bin\n",
      "DOINGDIR /mnt/Rdata/ASTRO_data/C2-Asteroid/-_-_-_2023-_-_GSON300_STF-8300M_-_1bin/135HERTHA_LIGHT_-_2023-10-10_-_GSON300_STF-8300M_-_1bin\n",
      "DOINGDIR /mnt/Rdata/ASTRO_data/C2-Asteroid/-_-_-_2023-_-_GSON300_STF-8300M_-_1bin/135HERTHA_LIGHT_-_2023-10-16_-_GSON300_STF-8300M_-_1bin\n",
      "DOINGDIR /mnt/Rdata/ASTRO_data/C2-Asteroid/-_-_-_2023-_-_GSON300_STF-8300M_-_1bin/135HERTHA_LIGHT_-_2023-11-17_-_GSON300_STF-8300M_-_1bin\n",
      "DOINGDIR /mnt/Rdata/ASTRO_data/C2-Asteroid/-_-_-_2023-_-_GSON300_STF-8300M_-_1bin/1659PUNKAHARJU_LIGHT_-_2023-10-11_-_GSON300_STF-8300M_-_1bin\n",
      "DOINGDIR /mnt/Rdata/ASTRO_data/C2-Asteroid/-_-_-_2023-_-_GSON300_STF-8300M_-_1bin/1659PUNKAHARJU_LIGHT_-_2023-10-16_-_GSON300_STF-8300M_-_1bin\n",
      "DOINGDIR /mnt/Rdata/ASTRO_data/C2-Asteroid/-_-_-_2023-_-_GSON300_STF-8300M_-_1bin/1659PUNKAHARJU_LIGHT_-_2023-10-17_-_GSON300_STF-8300M_-_1bin\n",
      "DOINGDIR /mnt/Rdata/ASTRO_data/C2-Asteroid/-_-_-_2023-_-_GSON300_STF-8300M_-_1bin/182ELSA_LIGHT_-_2023-11-07_-_GSON300_STF-8300M_-_1bin\n",
      "DOINGDIR /mnt/Rdata/ASTRO_data/C2-Asteroid/-_-_-_2023-_-_GSON300_STF-8300M_-_1bin/198AMPELLA_LIGHT_-_2022-09-06_-_GSON300_STF-8300M_-_1bin\n",
      "DOINGDIR /mnt/Rdata/ASTRO_data/C2-Asteroid/-_-_-_2023-_-_GSON300_STF-8300M_-_1bin/21LUTETIA_LIGHT_-_2023-10-16_-_GSON300_STF-8300M_-_1bin\n",
      "DOINGDIR /mnt/Rdata/ASTRO_data/C2-Asteroid/-_-_-_2023-_-_GSON300_STF-8300M_-_1bin/21LUTETIA_LIGHT_-_2023-11-24_-_GSON300_STF-8300M_-_1bin\n",
      "DOINGDIR /mnt/Rdata/ASTRO_data/C2-Asteroid/-_-_-_2023-_-_GSON300_STF-8300M_-_1bin/239ADRASTEA_LIGHT_-_2023-12-22_-_GSON300_STF-8300M_-_1bin\n",
      "DOINGDIR /mnt/Rdata/ASTRO_data/C2-Asteroid/-_-_-_2023-_-_GSON300_STF-8300M_-_1bin/241GERMANIA_LIGHT_-_2023-11-07_-_GSON300_STF-8300M_-_1bin\n",
      "DOINGDIR /mnt/Rdata/ASTRO_data/C2-Asteroid/-_-_-_2023-_-_GSON300_STF-8300M_-_1bin/241GERMANIA_LIGHT_-_2023-11-19_-_GSON300_STF-8300M_-_1bin\n",
      "DOINGDIR /mnt/Rdata/ASTRO_data/C2-Asteroid/-_-_-_2023-_-_GSON300_STF-8300M_-_1bin/241GERMANIA_LIGHT_-_2023-11-20_-_GSON300_STF-8300M_-_1bin\n",
      "DOINGDIR /mnt/Rdata/ASTRO_data/C2-Asteroid/-_-_-_2023-_-_GSON300_STF-8300M_-_1bin/293BRASILIA_LIGHT_-_2023-12-12_-_GSON300_STF-8300M_-_1bin\n",
      "DOINGDIR /mnt/Rdata/ASTRO_data/C2-Asteroid/-_-_-_2023-_-_GSON300_STF-8300M_-_1bin/300GERALDINA_LIGHT_-_2023-12-22_-_GSON300_STF-8300M_-_1bin\n",
      "DOINGDIR /mnt/Rdata/ASTRO_data/C2-Asteroid/-_-_-_2023-_-_GSON300_STF-8300M_-_1bin/300GERALDINA_LIGHT_-_2024-01-12_-_GSON300_STF-8300M_-_1bin\n",
      "DOINGDIR /mnt/Rdata/ASTRO_data/C2-Asteroid/-_-_-_2023-_-_GSON300_STF-8300M_-_1bin/300GERALDINA_LIGHT_-_2024-01-13_-_GSON300_STF-8300M_-_1bin\n",
      "DOINGDIR /mnt/Rdata/ASTRO_data/C2-Asteroid/-_-_-_2023-_-_GSON300_STF-8300M_-_1bin/306UNITAS_LIGHT_-_2023-12-01_-_GSON300_STF-8300M_-_1bin\n",
      "DOINGDIR /mnt/Rdata/ASTRO_data/C2-Asteroid/-_-_-_2023-_-_GSON300_STF-8300M_-_1bin/306UNITAS_LIGHT_-_2023-12-03_-_GSON300_STF-8300M_-_1bin\n",
      "DOINGDIR /mnt/Rdata/ASTRO_data/C2-Asteroid/-_-_-_2023-_-_GSON300_STF-8300M_-_1bin/317ROXANE_LIGHT_-_2023-11-21_-_GSON300_STF-8300M_-_1bin\n",
      "DOINGDIR /mnt/Rdata/ASTRO_data/C2-Asteroid/-_-_-_2023-_-_GSON300_STF-8300M_-_1bin/345TERCIDINA_LIGHT_-_2023-10-11_-_GSON300_STF-8300M_-_1bin\n",
      "DOINGDIR /mnt/Rdata/ASTRO_data/C2-Asteroid/-_-_-_2023-_-_GSON300_STF-8300M_-_1bin/345TERCIDINA_LIGHT_-_2023-10-16_-_GSON300_STF-8300M_-_1bin\n",
      "DOINGDIR /mnt/Rdata/ASTRO_data/C2-Asteroid/-_-_-_2023-_-_GSON300_STF-8300M_-_1bin/345TERCIDINA_LIGHT_-_2023-10-29_-_GSON300_STF-8300M_-_1bin\n",
      "DOINGDIR /mnt/Rdata/ASTRO_data/C2-Asteroid/-_-_-_2023-_-_GSON300_STF-8300M_-_1bin/346HERMENTARIA_LIGHT_-_2023-11-24_-_GSON300_STF-8300M_-_1bin\n",
      "DOINGDIR /mnt/Rdata/ASTRO_data/C2-Asteroid/-_-_-_2023-_-_GSON300_STF-8300M_-_1bin/363PADUA_LIGHT_-_2023-11-24_-_GSON300_STF-8300M_-_1bin\n",
      "DOINGDIR /mnt/Rdata/ASTRO_data/C2-Asteroid/-_-_-_2023-_-_GSON300_STF-8300M_-_1bin/37FIDES_LIGHT_-_2023-11-21_-_GSON300_STF-8300M_-_1bin\n",
      "DOINGDIR /mnt/Rdata/ASTRO_data/C2-Asteroid/-_-_-_2023-_-_GSON300_STF-8300M_-_1bin/409ASPASIA_LIGHT_-_2023-11-19_-_GSON300_STF-8300M_-_1bin\n",
      "DOINGDIR /mnt/Rdata/ASTRO_data/C2-Asteroid/-_-_-_2023-_-_GSON300_STF-8300M_-_1bin/409ASPASIA_LIGHT_-_2023-11-20_-_GSON300_STF-8300M_-_1bin\n",
      "DOINGDIR /mnt/Rdata/ASTRO_data/C2-Asteroid/-_-_-_2023-_-_GSON300_STF-8300M_-_1bin/440THEODORA_LIGHT_-_2023-12-12_-_GSON300_STF-8300M_-_1bin\n",
      "DOINGDIR /mnt/Rdata/ASTRO_data/C2-Asteroid/-_-_-_2023-_-_GSON300_STF-8300M_-_1bin/459SIGNE_LIGHT_-_2023-12-22_-_GSON300_STF-8300M_-_1bin\n",
      "DOINGDIR /mnt/Rdata/ASTRO_data/C2-Asteroid/-_-_-_2023-_-_GSON300_STF-8300M_-_1bin/480HANSA_LIGHT_-_2023-11-07_-_GSON300_STF-8300M_-_1bin\n",
      "DOINGDIR /mnt/Rdata/ASTRO_data/C2-Asteroid/-_-_-_2023-_-_GSON300_STF-8300M_-_1bin/481EMITA_LIGHT_-_2023-11-12_-_GSON300_STF-8300M_-_1bin\n",
      "DOINGDIR /mnt/Rdata/ASTRO_data/C2-Asteroid/-_-_-_2023-_-_GSON300_STF-8300M_-_1bin/481EMITA_LIGHT_-_2023-11-13_-_GSON300_STF-8300M_-_1bin\n",
      "DOINGDIR /mnt/Rdata/ASTRO_data/C2-Asteroid/-_-_-_2023-_-_GSON300_STF-8300M_-_1bin/48DORIS_LIGHT_-_2023-11-21_-_GSON300_STF-8300M_-_1bin\n",
      "DOINGDIR /mnt/Rdata/ASTRO_data/C2-Asteroid/-_-_-_2023-_-_GSON300_STF-8300M_-_1bin/498TOKIO_LIGHT_-_2023-11-24_-_GSON300_STF-8300M_-_1bin\n",
      "DOINGDIR /mnt/Rdata/ASTRO_data/C2-Asteroid/-_-_-_2023-_-_GSON300_STF-8300M_-_1bin/498TOKIO_LIGHT_-_2023-12-01_-_GSON300_STF-8300M_-_1bin\n",
      "DOINGDIR /mnt/Rdata/ASTRO_data/C2-Asteroid/-_-_-_2023-_-_GSON300_STF-8300M_-_1bin/498TOKIO_LIGHT_-_2023-12-03_-_GSON300_STF-8300M_-_1bin\n",
      "DOINGDIR /mnt/Rdata/ASTRO_data/C2-Asteroid/-_-_-_2023-_-_GSON300_STF-8300M_-_1bin/509IORANDA_LIGHT_-_2023-11-17_-_GSON300_STF-8300M_-_1bin\n",
      "DOINGDIR /mnt/Rdata/ASTRO_data/C2-Asteroid/-_-_-_2023-_-_GSON300_STF-8300M_-_1bin/509IORANDA_LIGHT_-_2023-11-19_-_GSON300_STF-8300M_-_1bin\n",
      "DOINGDIR /mnt/Rdata/ASTRO_data/C2-Asteroid/-_-_-_2023-_-_GSON300_STF-8300M_-_1bin/509IORANDA_LIGHT_-_2023-11-20_-_GSON300_STF-8300M_-_1bin\n",
      "DOINGDIR /mnt/Rdata/ASTRO_data/C2-Asteroid/-_-_-_2023-_-_GSON300_STF-8300M_-_1bin/595POLYXENA_LIGHT_-_2023-11-07_-_GSON300_STF-8300M_-_1bin\n",
      "DOINGDIR /mnt/Rdata/ASTRO_data/C2-Asteroid/-_-_-_2023-_-_GSON300_STF-8300M_-_1bin/602MARIANNA_LIGHT_-_2023-10-09_-_GSON300_STF-8300M_-_1bin\n",
      "DOINGDIR /mnt/Rdata/ASTRO_data/C2-Asteroid/-_-_-_2023-_-_GSON300_STF-8300M_-_1bin/602MARIANNA_LIGHT_-_2023-10-10_-_GSON300_STF-8300M_-_1bin\n",
      "DOINGDIR /mnt/Rdata/ASTRO_data/C2-Asteroid/-_-_-_2023-_-_GSON300_STF-8300M_-_1bin/602MARIANNA_LIGHT_-_2023-11-02_-_GSON300_STF-8300M_-_1bin\n",
      "DOINGDIR /mnt/Rdata/ASTRO_data/C2-Asteroid/-_-_-_2023-_-_GSON300_STF-8300M_-_1bin/602MARIANNA_LIGHT_-_2023-11-07_-_GSON300_STF-8300M_-_1bin\n",
      "DOINGDIR /mnt/Rdata/ASTRO_data/C2-Asteroid/-_-_-_2023-_-_GSON300_STF-8300M_-_1bin/602MARIANNA_LIGHT_-_2023-11-10_-_GSON300_STF-8300M_-_1bin\n",
      "DOINGDIR /mnt/Rdata/ASTRO_data/C2-Asteroid/-_-_-_2023-_-_GSON300_STF-8300M_-_1bin/602MARIANNA_LIGHT_-_2023-11-12_-_GSON300_STF-8300M_-_1bin\n",
      "DOINGDIR /mnt/Rdata/ASTRO_data/C2-Asteroid/-_-_-_2023-_-_GSON300_STF-8300M_-_1bin/602MARIANNA_LIGHT_-_2023-11-13_-_GSON300_STF-8300M_-_1bin\n",
      "DOINGDIR /mnt/Rdata/ASTRO_data/C2-Asteroid/-_-_-_2023-_-_GSON300_STF-8300M_-_1bin/602MARIANNA_LIGHT_-_2023-11-14_-_GSON300_STF-8300M_-_1bin\n",
      "DOINGDIR /mnt/Rdata/ASTRO_data/C2-Asteroid/-_-_-_2023-_-_GSON300_STF-8300M_-_1bin/602MARIANNA_LIGHT_-_2023-11-17_-_GSON300_STF-8300M_-_1bin\n",
      "DOINGDIR /mnt/Rdata/ASTRO_data/C2-Asteroid/-_-_-_2023-_-_GSON300_STF-8300M_-_1bin/602MARIANNA_LIGHT_-_2023-11-20_-_GSON300_STF-8300M_-_1bin\n",
      "DOINGDIR /mnt/Rdata/ASTRO_data/C2-Asteroid/-_-_-_2023-_-_GSON300_STF-8300M_-_1bin/639LATONA_LIGHT_-_2023-10-29_-_GSON300_STF-8300M_-_1bin\n",
      "DOINGDIR /mnt/Rdata/ASTRO_data/C2-Asteroid/-_-_-_2023-_-_GSON300_STF-8300M_-_1bin/639LATONA_LIGHT_-_2023-11-07_-_GSON300_STF-8300M_-_1bin\n",
      "DOINGDIR /mnt/Rdata/ASTRO_data/C2-Asteroid/-_-_-_2023-_-_GSON300_STF-8300M_-_1bin/639LATONA_LIGHT_-_2023-11-12_-_GSON300_STF-8300M_-_1bin\n",
      "DOINGDIR /mnt/Rdata/ASTRO_data/C2-Asteroid/-_-_-_2023-_-_GSON300_STF-8300M_-_1bin/639LATONA_LIGHT_-_2023-11-13_-_GSON300_STF-8300M_-_1bin\n",
      "DOINGDIR /mnt/Rdata/ASTRO_data/C2-Asteroid/-_-_-_2023-_-_GSON300_STF-8300M_-_1bin/639LATONA_LIGHT_-_2023-11-14_-_GSON300_STF-8300M_-_1bin\n",
      "DOINGDIR /mnt/Rdata/ASTRO_data/C2-Asteroid/-_-_-_2023-_-_GSON300_STF-8300M_-_1bin/639LATONA_LIGHT_-_2023-11-20_-_GSON300_STF-8300M_-_1bin\n",
      "DOINGDIR /mnt/Rdata/ASTRO_data/C2-Asteroid/-_-_-_2023-_-_GSON300_STF-8300M_-_1bin/678FREDEGUNDIS_LIGHT_-_2023-10-11_-_GSON300_STF-8300M_-_1bin\n",
      "DOINGDIR /mnt/Rdata/ASTRO_data/C2-Asteroid/-_-_-_2023-_-_GSON300_STF-8300M_-_1bin/678FREDEGUNDIS_LIGHT_-_2023-10-16_-_GSON300_STF-8300M_-_1bin\n",
      "DOINGDIR /mnt/Rdata/ASTRO_data/C2-Asteroid/-_-_-_2023-_-_GSON300_STF-8300M_-_1bin/678FREDEGUNDIS_LIGHT_-_2023-10-17_-_GSON300_STF-8300M_-_1bin\n",
      "DOINGDIR /mnt/Rdata/ASTRO_data/C2-Asteroid/-_-_-_2023-_-_GSON300_STF-8300M_-_1bin/678FREDEGUNDIS_LIGHT_-_2023-11-02_-_GSON300_STF-8300M_-_1bin\n",
      "DOINGDIR /mnt/Rdata/ASTRO_data/C2-Asteroid/-_-_-_2023-_-_GSON300_STF-8300M_-_1bin/678FREDEGUNDIS_LIGHT_-_2023-11-07_-_GSON300_STF-8300M_-_1bin\n",
      "DOINGDIR /mnt/Rdata/ASTRO_data/C2-Asteroid/-_-_-_2023-_-_GSON300_STF-8300M_-_1bin/678FREDEGUNDIS_LIGHT_-_2023-11-10_-_GSON300_STF-8300M_-_1bin\n",
      "DOINGDIR /mnt/Rdata/ASTRO_data/C2-Asteroid/-_-_-_2023-_-_GSON300_STF-8300M_-_1bin/678FREDEGUNDIS_LIGHT_-_2023-11-14_-_GSON300_STF-8300M_-_1bin\n",
      "DOINGDIR /mnt/Rdata/ASTRO_data/C2-Asteroid/-_-_-_2023-_-_GSON300_STF-8300M_-_1bin/678FREDEGUNDIS_LIGHT_-_2023-11-17_-_GSON300_STF-8300M_-_1bin\n",
      "DOINGDIR /mnt/Rdata/ASTRO_data/C2-Asteroid/-_-_-_2023-_-_GSON300_STF-8300M_-_1bin/678FREDEGUNDIS_LIGHT_-_2023-11-19_-_GSON300_STF-8300M_-_1bin\n",
      "DOINGDIR /mnt/Rdata/ASTRO_data/C2-Asteroid/-_-_-_2023-_-_GSON300_STF-8300M_-_1bin/895HELIO_LIGHT_-_2023-12-12_-_GSON300_STF-8300M_-_1bin\n",
      "DOINGDIR /mnt/Rdata/ASTRO_data/C2-Asteroid/-_-_-_2023-_-_GSON300_STF-8300M_-_1bin/92UNDINA_LIGHT_-_2023-11-21_-_GSON300_STF-8300M_-_1bin\n",
      "DOINGDIR /mnt/Rdata/ASTRO_data/C2-Asteroid/-_-_-_2023-_-_GSON300_STF-8300M_-_1bin/92UNDINA_LIGHT_-_2023-12-01_-_GSON300_STF-8300M_-_1bin\n",
      "DOINGDIR /mnt/Rdata/ASTRO_data/C2-Asteroid/-_-_-_2023-_-_GSON300_STF-8300M_-_1bin/92UNDINA_LIGHT_-_2023-12-03_-_GSON300_STF-8300M_-_1bin\n",
      "DOINGDIR /mnt/Rdata/ASTRO_data/C2-Asteroid/-_-_-_2023-_-_GSON300_STF-8300M_-_1bin/93MINERVA_LIGHT_-_2023-11-07_-_GSON300_STF-8300M_-_1bin\n",
      "DOINGDIR /mnt/Rdata/ASTRO_data/C2-Asteroid/-_-_-_2023-_-_GSON300_STF-8300M_-_1bin/93MINERVA_LIGHT_-_2023-11-12_-_GSON300_STF-8300M_-_1bin\n",
      "DOINGDIR /mnt/Rdata/ASTRO_data/C2-Asteroid/-_-_-_2023-_-_GSON300_STF-8300M_-_1bin/93MINERVA_LIGHT_-_2023-11-13_-_GSON300_STF-8300M_-_1bin\n",
      "DOINGDIR /mnt/Rdata/ASTRO_data/C2-Asteroid/-_-_-_2023-_-_GSON300_STF-8300M_-_1bin/93MINERVA_LIGHT_-_2023-11-17_-_GSON300_STF-8300M_-_1bin\n",
      "DOINGDIR /mnt/Rdata/ASTRO_data/C2-Asteroid/-_-_-_2023-_-_GSON300_STF-8300M_-_1bin/93MINERVA_LIGHT_-_2023-11-19_-_GSON300_STF-8300M_-_1bin\n",
      "DOINGDIR /mnt/Rdata/ASTRO_data/C2-Asteroid/-_-_-_2023-_-_GSON300_STF-8300M_-_1bin/93MINERVA_LIGHT_-_2023-11-20_-_GSON300_STF-8300M_-_1bin\n",
      "DOINGDIR /mnt/Rdata/ASTRO_data/C2-Asteroid/-_-_-_2023-_-_GSON300_STF-8300M_-_1bin/949HEL_LIGHT_-_2023-12-12_-_GSON300_STF-8300M_-_1bin\n",
      "DOINGDIR /mnt/Rdata/ASTRO_data/C2-Asteroid/-_-_-_2023-_-_GSON300_STF-8300M_-_1bin/9628SENDAIOTSUNA_LIGHT_-_2023-11-21_-_GSON300_STF-8300M_-_1bin\n",
      "DOINGDIR /mnt/Rdata/ASTRO_data/C2-Asteroid/-_-_-_2023-_-_GSON300_STF-8300M_-_1bin/9628SENDAOPTSUMA_LIGHT_-_2023-11-21_-_GSON300_STF-8300M_-_1bin\n",
      "DOINGDIR /mnt/Rdata/ASTRO_data/C2-Asteroid/-_-_-_2023-_-_GSON300_STF-8300M_-_1bin/9METIS_LIGHT_-_2023-12-01_-_GSON300_STF-8300M_-_1bin\n",
      "DOINGDIR /mnt/Rdata/ASTRO_data/C2-Asteroid/-_-_-_2023-_-_GSON300_STF-8300M_-_1bin/9METIS_LIGHT_-_2023-12-03_-_GSON300_STF-8300M_-_1bin\n"
     ]
    }
   ],
   "source": [
    "for DOINGDIR in DOINGDIRs[:] :\n",
    "    DOINGDIR = Path(DOINGDIR)\n",
    "    print(\"DOINGDIR\", DOINGDIR)\n",
    "    # print((DOINGDIR / \"REDUC_nightsky\"))\n",
    "    # print((DOINGDIR / \"REDUC_nightsky\").exists())\n",
    "    rm_folders = [\"reduced\", \"reduced_nightsky\", \"reduced_DPhot_Mag12.5\", \"reduced_DPhot_Mag12.5_fw4\",\n",
    "                  \"reduced_nightsky_DPhot_Mag12.5\", \"reduced_nightsky_DPhot_Mag12.5_fw4\"]\n",
    "    for rm_folder in rm_folders : \n",
    "        if (DOINGDIR/rm_folder).exists() :\n",
    "            shutil.rmtree(DOINGDIR/rm_folder)\n",
    "    \n"
   ]
  },
  {
   "cell_type": "code",
   "execution_count": 188,
   "metadata": {},
   "outputs": [],
   "source": [
    "# for DOINGDIR in DOINGDIRs[:] :\n",
    "#     DOINGDIR = Path(DOINGDIR)\n",
    "#     print(\"DOINGDIR\", DOINGDIR)\n",
    "#     removing_lst = [\n",
    "#                     # _astro_utilities.master_dir,\n",
    "#                     # _astro_utilities.reduced_dir,\n",
    "#                     # _astro_utilities.reduced_nightsky_dir,\n",
    "#                     # _astro_utilities.Asteroid_result_dir,\n",
    "#                     # _astro_utilities.Diff_Phot_dir,\n",
    "#                     \"reduced_DPhot_Mag12.5\",\n",
    "#                     \"reduced_nightsky_DPhot_Mag12.5\",\n",
    "#                     ]\n",
    "#     for dir_name in removing_lst :\n",
    "#         if (DOINGDIR/dir_name).exists() :\n",
    "#             print(f\"{DOINGDIR/dir_name} is removed...\")\n",
    "#             shutil.rmtree(str(DOINGDIR/dir_name), ignore_errors=True)"
   ]
  },
  {
   "cell_type": "code",
   "execution_count": 189,
   "metadata": {},
   "outputs": [],
   "source": [
    "# import shutil\n",
    "# DOINGDIR = Path(DOINGDIRs[0])\n",
    "# print(\"DOINGDIR\", DOINGDIR)\n",
    "\n",
    "# # shutil.rmtree(DOINGDIR/_astro_utilities.master_dir)\n",
    "# # print(f\"{DOINGDIR/_astro_utilities.master_dir} is removed...\")\n",
    "# shutil.rmtree(DOINGDIR/_astro_utilities.master_dir)\n",
    "# print(f\"{DOINGDIR/_astro_utilities.master_dir} is removed...\")\n"
   ]
  },
  {
   "cell_type": "code",
   "execution_count": null,
   "metadata": {},
   "outputs": [],
   "source": []
  }
 ],
 "metadata": {
  "kernelspec": {
   "display_name": "astro_Python_env",
   "language": "python",
   "name": "python3"
  },
  "language_info": {
   "codemirror_mode": {
    "name": "ipython",
    "version": 3
   },
   "file_extension": ".py",
   "mimetype": "text/x-python",
   "name": "python",
   "nbconvert_exporter": "python",
   "pygments_lexer": "ipython3",
   "version": "3.12.5"
  },
  "orig_nbformat": 4
 },
 "nbformat": 4,
 "nbformat_minor": 2
}
