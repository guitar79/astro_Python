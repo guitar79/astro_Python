{
 "cells": [
  {
   "cell_type": "markdown",
   "metadata": {
    "id": "3g6o04iLM0AF"
   },
   "source": [
    "# 물리량 계산 하기\n",
    "\n",
    "* 이 노트북을 구글 코랩에서 실행하고자 한다면 [파일] - [드라이브에 사본 저장]을 하여 본인의 소유로 만든 후에 코드를 실행하거나 수정할 수 있습니다.\n",
    "\n",
    "* 이 파일은 실제 수업에 사용하므로 필요에 따라 예고 없이 변경될 수 있습니다.\n",
    "\n",
    "* If you have any questions or comments on this document, please email me(Kiehyun.Park@gmail.com).\n",
    "\n",
    "* 이 파일(문서)는 공교육 현장에서 수업시간에 자유롭게 사용할 수 있으나, 다른 목적으로 사용할 시에는 사전에 연락을 주셔서 상의해 주시기 바랍니다.\n"
   ]
  },
  {
   "cell_type": "markdown",
   "metadata": {
    "id": "ue_y1BOOXa0C"
   },
   "source": [
    "어떤 물리량을 계산할 때 단위를 포함하여 계산하는 내용을 다룹니다."
   ]
  },
  {
   "cell_type": "markdown",
   "metadata": {
    "id": "BMrPhme4XnRV"
   },
   "source": [
    "## 필요한 모듈\n",
    "\n",
    "이 프로젝트를 위해서는 아래의 모듈이 필요합니다.\n",
    "\n",
    "> numpy, matplotlib, pint, scipy, astropy, metpy, version_information\n",
    "\n",
    "* 아래 셀을 실행하면 이 노트북을 실행하는데 필요한 모듈을 설치해 줍니다..\n",
    "\n",
    "* 그리고 파이썬 및 관련 모듈의 버전을 확인할 수 있습니다.\n"
   ]
  },
  {
   "cell_type": "code",
   "execution_count": null,
   "metadata": {
    "colab": {
     "base_uri": "https://localhost:8080/"
    },
    "executionInfo": {
     "elapsed": 17341,
     "status": "ok",
     "timestamp": 1724629576979,
     "user": {
      "displayName": "Kiehyun Park",
      "userId": "11752785994579589476"
     },
     "user_tz": -540
    },
    "id": "-d1zFEihXyM4",
    "outputId": "e5aa7e8a-62c3-4f76-e46e-a4cd06be56f6"
   },
   "outputs": [
    {
     "name": "stdout",
     "output_type": "stream",
     "text": [
      "sys.executable: /usr/bin/python3\n",
      "oooo numpy module is already installed.\n",
      "oooo matplotlib module is already installed.\n",
      "**** pint module is now being installed.\n",
      "oooo scipy module is already installed.\n",
      "oooo astropy module is already installed.\n",
      "**** metpy module is now being installed.\n",
      "**** version_information module is now being installed.\n",
      "This notebook was generated at 2024-08-25 23:46:08 (UTC = GMT+0000) \n",
      "0 Python     3.10.12 64bit [GCC 11.4.0]\n",
      "1 IPython    7.34.0\n",
      "2 OS         Linux 6.1.85+ x86_64 with glibc2.35\n",
      "3 numpy      1.26.4\n",
      "4 matplotlib 3.7.1\n",
      "5 pint       0.24.3\n",
      "6 scipy      1.13.1\n",
      "7 astropy    6.1.2\n",
      "8 metpy      1.6.2\n",
      "9 version_information 1.0.4\n"
     ]
    }
   ],
   "source": [
    "# Install a pip package in the current Jupyter kernel\n",
    "import importlib, sys, subprocess\n",
    "print(f\"sys.executable: {sys.executable}\")\n",
    "\n",
    "packages = \"numpy, matplotlib, pint, scipy, astropy, metpy, version_information\" # required modules\n",
    "pkgs = packages.split(\", \")\n",
    "for pkg in pkgs :\n",
    "    if not importlib.util.find_spec(pkg):\n",
    "        subprocess.check_call([sys.executable, '-m', 'pip', 'install', pkg, '-q'])\n",
    "        print(f\"**** {pkg} module is now being installed.\")\n",
    "    else:\n",
    "        print(f\"oooo {pkg} module is already installed.\")\n",
    "%load_ext version_information\n",
    "import time\n",
    "now = time.strftime(\"%Y-%m-%d %H:%M:%S (%Z = GMT%z)\")\n",
    "print(f\"This notebook was generated at {now} \")\n",
    "\n",
    "vv = %version_information {packages}\n",
    "for i, pkg in enumerate(vv.packages):\n",
    "    print(f\"{i} {pkg[0]:10s} {pkg[1]:s}\")"
   ]
  },
  {
   "cell_type": "markdown",
   "metadata": {
    "id": "u7wfBH1zb8kW"
   },
   "source": [
    "## pint\n",
    "\n",
    "다음과 같은 방법으로 pint를 사용할 수 있습니다. 먼저 UnitResigtry를 import 하여 u를 생성해 보겠습니다."
   ]
  },
  {
   "cell_type": "code",
   "execution_count": null,
   "metadata": {
    "colab": {
     "base_uri": "https://localhost:8080/"
    },
    "executionInfo": {
     "elapsed": 1267,
     "status": "ok",
     "timestamp": 1724629578243,
     "user": {
      "displayName": "Kiehyun Park",
      "userId": "11752785994579589476"
     },
     "user_tz": -540
    },
    "id": "__M4kbqqpDSC",
    "outputId": "56aa5ebe-9120-45a8-d923-05271b404b4a"
   },
   "outputs": [
    {
     "name": "stdout",
     "output_type": "stream",
     "text": [
      "type(u): <class 'pint.registry.UnitRegistry'>\n"
     ]
    }
   ],
   "source": [
    "from pint import UnitRegistry\n",
    "u = UnitRegistry()\n",
    "print(\"type(u):\", type(u))"
   ]
  },
  {
   "cell_type": "markdown",
   "metadata": {
    "id": "FX8M6v3bZ60D"
   },
   "source": [
    "### 단위를 포함한 물리량\n",
    "\n",
    "$24\\mathrm{~m}$와 같이 단위를 포함한 물리량은 다음과 같이 만들 수 있습니다."
   ]
  },
  {
   "cell_type": "code",
   "execution_count": null,
   "metadata": {
    "colab": {
     "base_uri": "https://localhost:8080/"
    },
    "executionInfo": {
     "elapsed": 35,
     "status": "ok",
     "timestamp": 1724629578243,
     "user": {
      "displayName": "Kiehyun Park",
      "userId": "11752785994579589476"
     },
     "user_tz": -540
    },
    "id": "fiK6MimPpGdH",
    "outputId": "29388d04-e2e7-4d68-a94a-41c718a61ed1"
   },
   "outputs": [
    {
     "name": "stdout",
     "output_type": "stream",
     "text": [
      "type(distance) <class 'pint.Quantity'>\n",
      "distance 24.0 meter\n"
     ]
    }
   ],
   "source": [
    "distance = 24.0 * u.meter\n",
    "print(\"type(distance)\", type(distance))\n",
    "print(\"distance\", distance)"
   ]
  },
  {
   "cell_type": "markdown",
   "metadata": {
    "id": "S2227_hVho-8"
   },
   "source": [
    "### dir로 mathods 확인하기\n"
   ]
  },
  {
   "cell_type": "code",
   "execution_count": null,
   "metadata": {
    "colab": {
     "base_uri": "https://localhost:8080/"
    },
    "executionInfo": {
     "elapsed": 31,
     "status": "ok",
     "timestamp": 1724629578243,
     "user": {
      "displayName": "Kiehyun Park",
      "userId": "11752785994579589476"
     },
     "user_tz": -540
    },
    "id": "Dr_DclDERldr",
    "outputId": "1263bd3d-940a-49c6-903c-b72e49659c56"
   },
   "outputs": [
    {
     "name": "stdout",
     "output_type": "stream",
     "text": [
      "dir(u): ['%', 'A', 'A_90', 'A_US', 'A_it', 'Ah', 'At', 'B', 'BDFT', 'BF', 'BTU', 'Ba', 'Bd', 'Bi', 'Bq', 'Btu', 'Btu_iso', 'Btu_it', 'Btu_th', 'C', 'C_90', 'Ci', 'Cl', 'Context', 'D', 'DPI', 'Da', 'ECC', 'EC_therm', 'E_h', 'Eh', 'F', 'FBM', 'F_90', 'Fr', 'G', 'G_0', 'Gal', 'Gb', 'Group', 'Gy', 'H', 'H2O', 'H_90', 'Hg', 'Hg_0C', 'Hg_32F', 'Hg_60F', 'Hz', 'J', 'K', 'KPH', 'K_J', 'K_J90', 'K_alpha_Cu_d_220', 'K_alpha_Mo_d_220', 'K_alpha_W_d_220', 'L', 'Ly', 'M', 'MPH', 'Measurement', 'Mx', 'N', 'N_A', 'Ne', 'NeC', 'Nm', 'Np', 'Oe', 'P', 'PPCM', 'PPI', 'PSH', 'Pa', 'Phi_0', 'Quantity', 'R', 'RIU', 'RKM', 'R_K', 'R_K90', 'R_inf', 'R_∞', 'Rd', 'Ry', 'S', 'SPL', 'St', 'Sv', 'System', 'T', 'Ta', 'Td', 'Tj', 'Tt', 'U', 'UK_bbl', 'UK_bushel', 'UK_cup', 'UK_cwt', 'UK_fluid_ounce', 'UK_force_ton', 'UK_gallon', 'UK_gill', 'UK_horsepower', 'UK_hundredweight', 'UK_pint', 'UK_pk', 'UK_quart', 'UK_ton', 'UK_ton_force', 'US_cwt', 'US_dry_barrel', 'US_dry_gallon', 'US_dry_pint', 'US_dry_quart', 'US_fluid_dram', 'US_fluid_ounce', 'US_force_ton', 'US_hundredweight', 'US_international_ampere', 'US_international_ohm', 'US_international_volt', 'US_liquid_cup', 'US_liquid_dram', 'US_liquid_fifth', 'US_liquid_gallon', 'US_liquid_gill', 'US_liquid_ounce', 'US_liquid_quart', 'US_pint', 'US_shot', 'US_therm', 'US_ton', 'US_ton_force', 'Unit', 'UnitsContainer', 'V', 'VA', 'V_90', 'V_US', 'V_it', 'W', 'W_90', 'Wb', 'Wh', 'Xu_Cu', 'Xu_Mo', 'Z_0', '__annotations__', '__call__', '__class__', '__class_getitem__', '__contains__', '__deepcopy__', '__delattr__', '__dict__', '__dir__', '__doc__', '__eq__', '__format__', '__ge__', '__getattr__', '__getattribute__', '__getitem__', '__gt__', '__hash__', '__init__', '__init_subclass__', '__iter__', '__le__', '__lt__', '__module__', '__ne__', '__new__', '__orig_bases__', '__parameters__', '__reduce__', '__reduce_ex__', '__repr__', '__setattr__', '__sizeof__', '__slots__', '__str__', '__subclasshook__', '__weakref__', '_active_ctx', '_add_alias', '_add_defaults', '_add_derived_dimension', '_add_dimension', '_add_group', '_add_prefix', '_add_ref_of_log_or_offset_unit', '_add_system', '_add_unit', '_adders', '_after_init', '_base_units', '_base_units_cache', '_build_cache', '_cache', '_caches', '_context_units', '_contexts', '_convert', '_dedup_candidates', '_def_parser', '_default_system_name', '_defaults', '_dimensions', '_diskcache', '_eval_token', '_filename', '_get_base_units', '_get_compatible_units', '_get_conversion_factor', '_get_dimensionality', '_get_dimensionality_ratio', '_get_dimensionality_recurse', '_get_root_units', '_get_root_units_recurse', '_get_symbol', '_groups', '_helper_adder', '_helper_dispatch_adder', '_helper_single_adder', '_init_dynamic_classes', '_initialized', '_is_multiplicative', '_is_protocol', '_non_int_type', '_on_redefinition', '_parse_unit_name', '_parse_units_as_container', '_prefixes', '_redefine', '_register_adder', '_register_definition_adders', '_suffixes', '_switch_context_cache_and_units', '_systems', '_units', '_units_casei', '_validate_and_extract', '_yield_unit_triplets', 'a', 'a0', 'a_0', 'a_u_action', 'a_u_current', 'a_u_electric_field', 'a_u_energy', 'a_u_force', 'a_u_intensity', 'a_u_length', 'a_u_mass', 'a_u_temp', 'a_u_time', 'abA', 'abC', 'abF', 'abH', 'abS', 'abV', 'abampere', 'abcoulomb', 'aberdeen', 'abfarad', 'abhenry', 'abmho', 'abohm', 'absiemens', 'abvolt', 'abΩ', 'acre', 'acre_feet', 'acre_foot', 'add_context', 'alpha', 'amp', 'ampere', 'ampere_hour', 'ampere_turn', 'amu', 'angstrom', 'angstrom_star', 'angular_degree', 'angular_minute', 'angular_second', 'ap_dr', 'ap_lb', 'ap_oz', 'apothecary_dram', 'apothecary_ounce', 'apothecary_pound', 'arc_minute', 'arc_second', 'arcdeg', 'arcdegree', 'arcmin', 'arcminute', 'arcsec', 'arcsecond', 'are', 'astronomical_unit', 'at', 'atm', 'atm_l', 'atmosphere', 'atmosphere_liter', 'atomic_mass_constant', 'atomic_unit_of_action', 'atomic_unit_of_current', 'atomic_unit_of_electric_field', 'atomic_unit_of_energy', 'atomic_unit_of_force', 'atomic_unit_of_intensity', 'atomic_unit_of_length', 'atomic_unit_of_mass', 'atomic_unit_of_temperature', 'atomic_unit_of_time', 'au', 'auto_reduce_dimensions', 'autoconvert_offset_to_baseunit', 'autoconvert_to_preferred', 'avdp_dram', 'avdp_ounce', 'avdp_pound', 'avogadro_constant', 'avogadro_number', 'avoirdupois_dram', 'avoirdupois_ounce', 'avoirdupois_pound', 'b', 'bag', 'bar', 'barad', 'barie', 'barn', 'barrel', 'barrie', 'baryd', 'barye', 'baud', 'bbl', 'becquerel', 'beer_barrel', 'beer_bbl', 'big_point', 'biot', 'biot_turn', 'bit', 'bits_per_pixel', 'blob', 'board_feet', 'board_foot', 'bohr', 'bohr_magneton', 'bohr_radius', 'boiler_horsepower', 'boltzmann_constant', 'bp', 'bpp', 'bps', 'british_thermal_unit', 'bu', 'buckingham', 'bushel', 'byte', 'c', 'c_0', 'c_1', 'c_2', 'cables_length', 'cache_folder', 'cal', 'cal_15', 'cal_it', 'cal_th', 'calorie', 'candela', 'candle', 'carat', 'case_sensitive', 'cc', 'cd', 'celsius', 'centimeter', 'centimeter_H2O', 'centimeter_Hg', 'centimeter_Hg_0C', 'centipoise', 'centuries', 'century', 'chain', 'characteristic_impedance_of_vacuum', 'check', 'cicero', 'circle', 'circular_mil', 'classical_electron_radius', 'clausius', 'cmH2O', 'cmHg', 'cm_1', 'cm_H2O', 'cm_Hg', 'cmil', 'common_year', 'conductance_quantum', 'context', 'conventional_ampere_90', 'conventional_coulomb_90', 'conventional_farad_90', 'conventional_henry_90', 'conventional_josephson_constant', 'conventional_mercury', 'conventional_ohm_90', 'conventional_volt_90', 'conventional_von_klitzing_constant', 'conventional_water', 'conventional_watt_90', 'convert', 'cooling_tower_ton', 'coulomb', 'coulomb_constant', 'count', 'counts_per_second', 'cp', 'cps', 'css_pixel', 'ct', 'cu_ft', 'cu_in', 'cu_yd', 'cubic_centimeter', 'cubic_feet', 'cubic_foot', 'cubic_inch', 'cubic_yard', 'cup', 'curie', 'cwt', 'cycle', 'd', 'dB', 'dBW', 'dBm', 'dBu', 'd_220', 'dalton', 'darcy', 'day', 'debye', 'decade', 'decibel', 'decibelmicrowatt', 'decibelmilliwatt', 'decibelwatt', 'decimeter', 'decitex', 'default_as_delta', 'default_format', 'default_system', 'define', 'deg', 'degC', 'degF', 'degK', 'degR', 'degRe', 'degree', 'degreeC', 'degreeF', 'degreeK', 'degreeR', 'degreeRe', 'degree_Celsius', 'degree_Fahrenheit', 'degree_Kelvin', 'degree_Rankine', 'degree_Reaumur', 'degree_Réaumur', 'delta_celsius', 'delta_degC', 'delta_degF', 'delta_degRe', 'delta_degreeC', 'delta_degreeF', 'delta_degreeRe', 'delta_degree_Celsius', 'delta_degree_Fahrenheit', 'delta_degree_Reaumur', 'delta_degree_Réaumur', 'delta_fahrenheit', 'delta_reaumur', 'delta_réaumur', 'den', 'denier', 'dgal', 'didot', 'dirac_constant', 'disable_contexts', 'dot', 'dots_per_inch', 'dpi', 'dqt', 'dr', 'drachm', 'dram', 'dry_barrel', 'dry_gallon', 'dry_pint', 'dry_quart', 'dtex', 'dwt', 'dyn', 'dyne', 'e', 'eV', 'electric_constant', 'electrical_horsepower', 'electron_g_factor', 'electron_mass', 'electron_volt', 'elementary_charge', 'enable_contexts', 'entropy_unit', 'enzyme_unit', 'enzymeunit', 'eon', 'eps0', 'eps_0', 'epsilon_0', 'erg', 'esu', 'eu', 'eulers_number', 'fahrenheit', 'farad', 'faraday', 'faraday_constant', 'fathom', 'feet', 'feet_H2O', 'femtometer', 'fermi', 'fifteen_degree_calorie', 'fifth', 'fine_structure_constant', 'first_radiation_constant', 'fldr', 'floz', 'fluid_dram', 'fluid_ounce', 'fluidram', 'fm', 'fmt_locale', 'foot', 'foot_H2O', 'foot_per_second', 'foot_pound', 'footpound', 'force_gram', 'force_kilogram', 'force_long_ton', 'force_metric_ton', 'force_ndarray', 'force_ndarray_like', 'force_ounce', 'force_pound', 'force_short_ton', 'force_t', 'force_ton', 'formatter', 'fortnight', 'fps', 'franklin', 'ft', 'ftH2O', 'ft_lb', 'fur', 'furlong', 'g', 'g0', 'g_0', 'g_e', 'g_n', 'gal', 'galileo', 'gallon', 'gamma', 'gamma_mass', 'gauss', 'get_base_units', 'get_compatible_units', 'get_dimensionality', 'get_group', 'get_name', 'get_root_units', 'get_symbol', 'get_system', 'gf', 'gi', 'gilbert', 'gill', 'gon', 'gr', 'grad', 'grade', 'grain', 'gram', 'gram_force', 'gravitational_constant', 'gravity', 'gray', 'gregorian_year', 'h', 'ha', 'hand', 'hartree', 'hartree_energy', 'hbar', 'hectare', 'henry', 'hertz', 'hogshead', 'horsepower', 'hour', 'hp', 'hr', 'hundredweight', 'hydraulic_horsepower', 'impedance_of_free_space', 'imperial_barrel', 'imperial_bbl', 'imperial_bu', 'imperial_bushel', 'imperial_cp', 'imperial_cup', 'imperial_fldr', 'imperial_floz', 'imperial_fluid_drachm', 'imperial_fluid_dram', 'imperial_fluid_ounce', 'imperial_fluid_scruple', 'imperial_gal', 'imperial_gallon', 'imperial_gi', 'imperial_gill', 'imperial_minim', 'imperial_peck', 'imperial_pint', 'imperial_pk', 'imperial_pt', 'imperial_qt', 'imperial_quart', 'in', 'inHg', 'in_Hg', 'inch', 'inch_H2O_39F', 'inch_H2O_60F', 'inch_Hg', 'inch_Hg_32F', 'inch_Hg_60F', 'inches', 'international_british_thermal_unit', 'international_calorie', 'international_feet', 'international_foot', 'international_inch', 'international_inches', 'international_knot', 'international_mile', 'international_steam_table_calorie', 'international_yard', 'is_compatible_with', 'jig', 'josephson_constant', 'joule', 'julian_year', 'jute', 'k', 'k_B', 'k_C', 'karat', 'kat', 'katal', 'kayser', 'kelvin', 'kgf', 'kilogram', 'kilogram_force', 'kilometer', 'kilometer_per_hour', 'kilometer_per_second', 'kip', 'kip_per_square_inch', 'knot', 'knot_international', 'kph', 'kps', 'ksi', 'kt', 'l', 'lambda', 'lambert', 'langley', 'lattice_spacing_of_Si', 'lb', 'lbf', 'lbt', 'league', 'leap_year', 'li', 'light_year', 'lightyear', 'link', 'liquid_cup', 'liquid_gallon', 'liquid_gill', 'liquid_pint', 'liquid_quart', 'liter', 'litre', 'lm', 'ln10', 'load_definitions', 'long_hundredweight', 'long_ton', 'long_ton_force', 'lumen', 'lunar_month', 'lux', 'lx', 'ly', 'm', 'm_e', 'm_n', 'm_p', 'm_u', 'magnetic_constant', 'magnetic_flux_quantum', 'mas', 'maxwell', 'mean_international_ampere', 'mean_international_ohm', 'mean_international_volt', 'mercury', 'mercury_60F', 'meter', 'meter_per_second', 'metre', 'metric_horsepower', 'metric_ton', 'metric_ton_force', 'mho', 'mi', 'microgram', 'microliter', 'micrometer', 'micromole', 'micron', 'mil', 'mil_length', 'mile', 'mile_per_hour', 'millennia', 'millennium', 'milliarcsecond', 'milligram', 'millimeter', 'millimeter_Hg', 'millimeter_Hg_0C', 'min', 'minim', 'minute', 'mmHg', 'mm_Hg', 'mol', 'molar', 'molar_gas_constant', 'mole', 'molec', 'molecule', 'month', 'mph', 'mpl_formatter', 'mps', 'mu0', 'mu_0', 'mu_B', 'mu_N', 'nautical_mile', 'neper', 'neutron_mass', 'newton', 'newtonian_constant_of_gravitation', 'nit', 'nmi', 'non_int_type', 'nuclear_magneton', 'number_english', 'number_meter', 'oct', 'octave', 'octet', 'oersted', 'ohm', 'ohm_90', 'ohm_US', 'ohm_it', 'oil_barrel', 'oil_bbl', 'ounce', 'ounce_force', 'oz', 'ozf', 'ozt', 'parse_expression', 'parse_pattern', 'parse_unit_name', 'parse_units', 'parse_units_as_container', 'parsec', 'particle', 'pascal', 'pc', 'pdl', 'peak_sun_hour', 'peck', 'pel', 'pennyweight', 'percent', 'perch', 'permille', 'pi', 'pi_theorem', 'pica', 'picture_element', 'pint', 'pixel', 'pixels_per_centimeter', 'pixels_per_inch', 'pk', 'planck_constant', 'planck_current', 'planck_length', 'planck_mass', 'planck_temperature', 'planck_time', 'point', 'poise', 'pole', 'pond', 'pound', 'pound_force', 'pound_force_per_square_inch', 'poundal', 'pp', 'ppi', 'ppm', 'preprocessors', 'printers_dpi', 'printers_pica', 'printers_point', 'proton_mass', 'psi', 'pt', 'px', 'qt', 'quad', 'quadrillion_Btu', 'quart', 'quarter', 'r_e', 'rad', 'radian', 'rads', 'rankine', 'rd', 'reaumur', 'reciprocal_centimeter', 'refractive_index_unit', 'refrigeration_ton', 'rem', 'remove_context', 'revolution', 'revolutions_per_minute', 'revolutions_per_second', 'reyn', 'rhe', 'rod', 'roentgen', 'rpm', 'rps', 'rutherford', 'rydberg', 'rydberg_constant', 'réaumur', 'röntgen', 's', 'scaled_point', 'scruple', 'sec', 'second', 'second_radiation_constant', 'section', 'separate_format_defaults', 'set_fmt_locale', 'setup_matplotlib', 'sft', 'shake', 'short_hundredweight', 'short_ton', 'short_ton_force', 'shot', 'sidereal_day', 'sidereal_month', 'sidereal_year', 'siemens', 'sievert', 'sigma', 'sigma_e', 'slinch', 'slm', 'slpm', 'slug', 'slugette', 'smi', 'sound_pressure_level', 'speed_of_light', 'sq_deg', 'sq_ft', 'sq_in', 'sq_mi', 'sq_perch', 'sq_pole', 'sq_rod', 'sq_yd', 'sqdeg', 'square_degree', 'square_feet', 'square_foot', 'square_inch', 'square_inches', 'square_league', 'square_mile', 'square_rod', 'square_survey_mile', 'square_yard', 'sr', 'standard_atmosphere', 'standard_gravity', 'standard_liter_per_minute', 'statA', 'statC', 'statF', 'statH', 'statT', 'statV', 'statWb', 'statampere', 'statcoulomb', 'statfarad', 'stathenry', 'statmho', 'statohm', 'stattesla', 'statvolt', 'statweber', 'statΩ', 'stefan_boltzmann_constant', 'steradian', 'stere', 'stilb', 'stokes', 'stone', 'super_feet', 'super_foot', 'superficial_feet', 'superficial_foot', 'survey_foot', 'survey_link', 'survey_mile', 'sv', 'svedberg', 'sverdrup', 'synodic_month', 'sys', 't', 'tTNT', 't_force', 'tablespoon', 'tansec', 'tbsp', 'teaspoon', 'technical_atmosphere', 'tesla', 'tex', 'tex_cicero', 'tex_didot', 'tex_pica', 'tex_point', 'tf', 'th', 'therm', 'thermochemical_british_thermal_unit', 'thermochemical_calorie', 'thm', 'thomson_cross_section', 'thou', 'tlb', 'toe', 'ton', 'ton_TNT', 'ton_force', 'ton_of_refrigeration', 'tonne', 'tonne_of_oil_equivalent', 'torr', 'townsend', 'toz', 'tropical_month', 'tropical_year', 'troy_ounce', 'troy_pound', 'tsp', 'turn', 'u', 'unified_atomic_mass_unit', 'unit_pole', 'us_statute_mile', 'vacuum_permeability', 'vacuum_permittivity', 'volt', 'volt_ampere', 'von_klitzing_constant', 'water', 'water_39F', 'water_4C', 'water_60F', 'watt', 'watt_hour', 'watthour', 'weber', 'week', 'wien_frequency_displacement_law_constant', 'wien_u', 'wien_wavelength_displacement_law_constant', 'wien_x', 'with_context', 'wraps', 'x_unit_Cu', 'x_unit_Mo', 'yard', 'yd', 'year', 'yr', 'zeta', '°C', '°F', '°K', '°R', '°Re', 'µ', 'µ_0', 'µ_B', 'µ_N', 'Å', 'Å_star', 'ångström', 'ørsted', 'ħ', 'Δcelsius', 'ΔdegC', 'ΔdegF', 'ΔdegRe', 'ΔdegreeC', 'ΔdegreeF', 'ΔdegreeRe', 'Δdegree_Réaumur', 'Δfahrenheit', 'Δreaumur', 'Δréaumur', 'Δ°C', 'Δ°F', 'Δ°Re', 'Φ_0', 'Ω', 'Ω_90', 'Ω_US', 'Ω_it', 'α', 'γ', 'ε_0', 'ζ', 'λ', 'μ', 'π', 'σ', 'σ_e', '‰', 'ℎ', 'ℓ', 'Å']\n",
      "dir(distance): ['T', 'UnitsContainer', '_NumpyQuantity__ito_if_needed', '_REGISTRY', '__abs__', '__add__', '__annotations__', '__array__', '__array_function__', '__array_priority__', '__array_ufunc__', '__bool__', '__bytes__', '__class__', '__class_getitem__', '__complex__', '__copy__', '__dask_graph__', '__dask_keys__', '__dask_optimize__', '__dask_postcompute__', '__dask_postpersist__', '__dask_scheduler__', '__dask_tokenize__', '__deepcopy__', '__delattr__', '__dict__', '__dir__', '__div__', '__divmod__', '__doc__', '__eq__', '__float__', '__floordiv__', '__format__', '__ge__', '__getattr__', '__getattribute__', '__getitem__', '__gt__', '__hash__', '__iadd__', '__idiv__', '__ifloordiv__', '__imod__', '__imul__', '__init__', '__init_subclass__', '__int__', '__ipow__', '__isub__', '__iter__', '__itruediv__', '__le__', '__len__', '__lt__', '__matmul__', '__mod__', '__module__', '__mul__', '__ne__', '__neg__', '__new__', '__nonzero__', '__orig_bases__', '__parameters__', '__pos__', '__pow__', '__radd__', '__rdiv__', '__rdivmod__', '__reduce__', '__reduce_ex__', '__repr__', '__rfloordiv__', '__rmatmul__', '__rmod__', '__rmul__', '__round__', '__rpow__', '__rsub__', '__rtruediv__', '__setattr__', '__setitem__', '__sizeof__', '__slots__', '__str__', '__sub__', '__subclasshook__', '__truediv__', '__weakref__', '_add_sub', '_check', '_convert_magnitude', '_convert_magnitude_not_inplace', '_dask_finalize', '_dimensionality', '_get_delta_units', '_get_non_multiplicative_units', '_get_unit_definition', '_has_compatible_delta', '_iadd_sub', '_imul_div', '_is_multiplicative', '_is_protocol', '_magnitude', '_mul_div', '_numpy_method_wrap', '_ok_for_muldiv', '_repr_html_', '_repr_latex_', '_repr_pretty_', '_truedivide_cast_int', '_units', '_wrapped_numpy_methods', 'check', 'clip', 'compare', 'compatible_units', 'compute', 'dimensionality', 'dimensionless', 'dot', 'dtype', 'fill', 'flat', 'force_ndarray', 'force_ndarray_like', 'format_babel', 'from_list', 'from_sequence', 'from_tuple', 'imag', 'is_compatible_with', 'ito', 'ito_base_units', 'ito_preferred', 'ito_reduced_units', 'ito_root_units', 'm', 'm_as', 'magnitude', 'ndim', 'persist', 'plus_minus', 'prod', 'put', 'real', 'searchsorted', 'shape', 'to', 'to_base_units', 'to_compact', 'to_preferred', 'to_reduced_units', 'to_root_units', 'to_timedelta', 'to_tuple', 'tolist', 'u', 'unit_items', 'unitless', 'units', 'visualize']\n"
     ]
    }
   ],
   "source": [
    "print(\"dir(u):\", dir(u))\n",
    "print(\"dir(distance):\", dir(distance))"
   ]
  },
  {
   "cell_type": "markdown",
   "metadata": {
    "id": "z25YQWmIjgnC"
   },
   "source": [
    "### Quantity 출력 형식\n",
    "\n",
    "Quantity에서 값만을 출력하거나, 단위만을 출력할 수 있습니다.\n"
   ]
  },
  {
   "cell_type": "code",
   "execution_count": null,
   "metadata": {
    "colab": {
     "base_uri": "https://localhost:8080/"
    },
    "executionInfo": {
     "elapsed": 26,
     "status": "ok",
     "timestamp": 1724629578244,
     "user": {
      "displayName": "Kiehyun Park",
      "userId": "11752785994579589476"
     },
     "user_tz": -540
    },
    "id": "WZSW75T5pX_c",
    "outputId": "8393fe3c-8df5-4722-f1b9-08d4402bc9a3"
   },
   "outputs": [
    {
     "name": "stdout",
     "output_type": "stream",
     "text": [
      "distance.magnitude: 24.0\n",
      "distance.units: meter\n",
      "distance.dimensionality: [length]\n"
     ]
    }
   ],
   "source": [
    "print(\"distance.magnitude:\", distance.magnitude)\n",
    "print(\"distance.units:\", distance.units)\n",
    "print(\"distance.dimensionality:\", distance.dimensionality)"
   ]
  },
  {
   "cell_type": "markdown",
   "metadata": {
    "id": "I3QndIZFphBg"
   },
   "source": [
    "단위 출력 형식을 아래와 같이 다양한 방법을 사용할 수 있습니다."
   ]
  },
  {
   "cell_type": "code",
   "execution_count": null,
   "metadata": {
    "colab": {
     "base_uri": "https://localhost:8080/"
    },
    "executionInfo": {
     "elapsed": 20,
     "status": "ok",
     "timestamp": 1724629578244,
     "user": {
      "displayName": "Kiehyun Park",
      "userId": "11752785994579589476"
     },
     "user_tz": -540
    },
    "id": "4dLdrhM6piOv",
    "outputId": "403765dc-3a4e-430c-a0ff-bc3416dc3a6f"
   },
   "outputs": [
    {
     "name": "stdout",
     "output_type": "stream",
     "text": [
      "576.0 meter²\n",
      "576.0 m²\n",
      "576.0\\ \\mathrm{m}^{2}\n",
      "576.0 m<sup>2</sup>\n"
     ]
    }
   ],
   "source": [
    "print(f'{distance**2:P}') # pretty\n",
    "print(f'{distance**2:~P}')\n",
    "print(f'{distance**2:~L}')  # latex\n",
    "print(f'{distance**2:~H}')  # html"
   ]
  },
  {
   "cell_type": "markdown",
   "metadata": {
    "id": "X7TKvoE9pmBo"
   },
   "source": [
    "### 연산하기\n",
    "\n",
    "일반적인 사칙연산의 방법은 동일합니다."
   ]
  },
  {
   "cell_type": "code",
   "execution_count": null,
   "metadata": {
    "colab": {
     "base_uri": "https://localhost:8080/",
     "height": 34
    },
    "executionInfo": {
     "elapsed": 16,
     "status": "ok",
     "timestamp": 1724629578244,
     "user": {
      "displayName": "Kiehyun Park",
      "userId": "11752785994579589476"
     },
     "user_tz": -540
    },
    "id": "jPtbOC_ApnRt",
    "outputId": "a3544caf-5dd0-45f4-a002-4078dc54c643"
   },
   "outputs": [
    {
     "data": {
      "text/html": [
       "48.0 meter"
      ],
      "text/latex": [
       "$48.0\\ \\mathrm{meter}$"
      ],
      "text/plain": [
       "<Quantity(48.0, 'meter')>"
      ]
     },
     "execution_count": 8,
     "metadata": {},
     "output_type": "execute_result"
    }
   ],
   "source": [
    "distance * 2"
   ]
  },
  {
   "cell_type": "markdown",
   "metadata": {
    "id": "stISS3B0po5A"
   },
   "source": [
    "그러나 아래와 같이 단위가 맞지 않는 계산은 수행할 수 없습니다."
   ]
  },
  {
   "cell_type": "code",
   "execution_count": null,
   "metadata": {
    "colab": {
     "base_uri": "https://localhost:8080/",
     "height": 300
    },
    "executionInfo": {
     "elapsed": 15,
     "status": "error",
     "timestamp": 1724629578244,
     "user": {
      "displayName": "Kiehyun Park",
      "userId": "11752785994579589476"
     },
     "user_tz": -540
    },
    "id": "QQOE4aTXpqJ9",
    "outputId": "4605c94b-5922-4049-f78c-0559fc4856d7"
   },
   "outputs": [
    {
     "ename": "DimensionalityError",
     "evalue": "Cannot convert from 'meter' to 'dimensionless'",
     "output_type": "error",
     "traceback": [
      "\u001b[0;31m---------------------------------------------------------------------------\u001b[0m",
      "\u001b[0;31mDimensionalityError\u001b[0m                       Traceback (most recent call last)",
      "\u001b[0;32m<ipython-input-9-5aa1d4e90686>\u001b[0m in \u001b[0;36m<cell line: 1>\u001b[0;34m()\u001b[0m\n\u001b[0;32m----> 1\u001b[0;31m \u001b[0mdistance\u001b[0m \u001b[0;34m+\u001b[0m \u001b[0;36m10\u001b[0m\u001b[0;34m\u001b[0m\u001b[0;34m\u001b[0m\u001b[0m\n\u001b[0m",
      "\u001b[0;32m/usr/local/lib/python3.10/dist-packages/pint/facets/plain/quantity.py\u001b[0m in \u001b[0;36m__add__\u001b[0;34m(self, other)\u001b[0m\n\u001b[1;32m    847\u001b[0m             \u001b[0;32mreturn\u001b[0m \u001b[0mself\u001b[0m\u001b[0;34m.\u001b[0m\u001b[0mto_timedelta\u001b[0m\u001b[0;34m(\u001b[0m\u001b[0;34m)\u001b[0m \u001b[0;34m+\u001b[0m \u001b[0mother\u001b[0m\u001b[0;34m\u001b[0m\u001b[0;34m\u001b[0m\u001b[0m\n\u001b[1;32m    848\u001b[0m \u001b[0;34m\u001b[0m\u001b[0m\n\u001b[0;32m--> 849\u001b[0;31m         \u001b[0;32mreturn\u001b[0m \u001b[0mself\u001b[0m\u001b[0;34m.\u001b[0m\u001b[0m_add_sub\u001b[0m\u001b[0;34m(\u001b[0m\u001b[0mother\u001b[0m\u001b[0;34m,\u001b[0m \u001b[0moperator\u001b[0m\u001b[0;34m.\u001b[0m\u001b[0madd\u001b[0m\u001b[0;34m)\u001b[0m\u001b[0;34m\u001b[0m\u001b[0;34m\u001b[0m\u001b[0m\n\u001b[0m\u001b[1;32m    850\u001b[0m \u001b[0;34m\u001b[0m\u001b[0m\n\u001b[1;32m    851\u001b[0m     \u001b[0m__radd__\u001b[0m \u001b[0;34m=\u001b[0m \u001b[0m__add__\u001b[0m\u001b[0;34m\u001b[0m\u001b[0;34m\u001b[0m\u001b[0m\n",
      "\u001b[0;32m/usr/local/lib/python3.10/dist-packages/pint/facets/plain/quantity.py\u001b[0m in \u001b[0;36mwrapped\u001b[0;34m(self, *args, **kwargs)\u001b[0m\n\u001b[1;32m     99\u001b[0m         \u001b[0;32melif\u001b[0m \u001b[0misinstance\u001b[0m\u001b[0;34m(\u001b[0m\u001b[0mother\u001b[0m\u001b[0;34m,\u001b[0m \u001b[0mlist\u001b[0m\u001b[0;34m)\u001b[0m \u001b[0;32mand\u001b[0m \u001b[0mother\u001b[0m \u001b[0;32mand\u001b[0m \u001b[0misinstance\u001b[0m\u001b[0;34m(\u001b[0m\u001b[0mother\u001b[0m\u001b[0;34m[\u001b[0m\u001b[0;36m0\u001b[0m\u001b[0;34m]\u001b[0m\u001b[0;34m,\u001b[0m \u001b[0mtype\u001b[0m\u001b[0;34m(\u001b[0m\u001b[0mself\u001b[0m\u001b[0;34m)\u001b[0m\u001b[0;34m)\u001b[0m\u001b[0;34m:\u001b[0m\u001b[0;34m\u001b[0m\u001b[0;34m\u001b[0m\u001b[0m\n\u001b[1;32m    100\u001b[0m             \u001b[0;32mreturn\u001b[0m \u001b[0mNotImplemented\u001b[0m\u001b[0;34m\u001b[0m\u001b[0;34m\u001b[0m\u001b[0m\n\u001b[0;32m--> 101\u001b[0;31m         \u001b[0;32mreturn\u001b[0m \u001b[0mf\u001b[0m\u001b[0;34m(\u001b[0m\u001b[0mself\u001b[0m\u001b[0;34m,\u001b[0m \u001b[0;34m*\u001b[0m\u001b[0margs\u001b[0m\u001b[0;34m,\u001b[0m \u001b[0;34m**\u001b[0m\u001b[0mkwargs\u001b[0m\u001b[0;34m)\u001b[0m\u001b[0;34m\u001b[0m\u001b[0;34m\u001b[0m\u001b[0m\n\u001b[0m\u001b[1;32m    102\u001b[0m \u001b[0;34m\u001b[0m\u001b[0m\n\u001b[1;32m    103\u001b[0m     \u001b[0;32mreturn\u001b[0m \u001b[0mwrapped\u001b[0m\u001b[0;34m\u001b[0m\u001b[0;34m\u001b[0m\u001b[0m\n",
      "\u001b[0;32m/usr/local/lib/python3.10/dist-packages/pint/facets/plain/quantity.py\u001b[0m in \u001b[0;36m_add_sub\u001b[0;34m(self, other, op)\u001b[0m\n\u001b[1;32m    745\u001b[0m                 )\n\u001b[1;32m    746\u001b[0m             \u001b[0;32melse\u001b[0m\u001b[0;34m:\u001b[0m\u001b[0;34m\u001b[0m\u001b[0;34m\u001b[0m\u001b[0m\n\u001b[0;32m--> 747\u001b[0;31m                 \u001b[0;32mraise\u001b[0m \u001b[0mDimensionalityError\u001b[0m\u001b[0;34m(\u001b[0m\u001b[0mself\u001b[0m\u001b[0;34m.\u001b[0m\u001b[0m_units\u001b[0m\u001b[0;34m,\u001b[0m \u001b[0;34m\"dimensionless\"\u001b[0m\u001b[0;34m)\u001b[0m\u001b[0;34m\u001b[0m\u001b[0;34m\u001b[0m\u001b[0m\n\u001b[0m\u001b[1;32m    748\u001b[0m             \u001b[0;32mreturn\u001b[0m \u001b[0mself\u001b[0m\u001b[0;34m.\u001b[0m\u001b[0m__class__\u001b[0m\u001b[0;34m(\u001b[0m\u001b[0mmagnitude\u001b[0m\u001b[0;34m,\u001b[0m \u001b[0munits\u001b[0m\u001b[0;34m)\u001b[0m\u001b[0;34m\u001b[0m\u001b[0;34m\u001b[0m\u001b[0m\n\u001b[1;32m    749\u001b[0m \u001b[0;34m\u001b[0m\u001b[0m\n",
      "\u001b[0;31mDimensionalityError\u001b[0m: Cannot convert from 'meter' to 'dimensionless'"
     ]
    }
   ],
   "source": [
    "distance + 10"
   ]
  },
  {
   "cell_type": "markdown",
   "metadata": {
    "id": "3Et6wS5tpsHc"
   },
   "source": [
    "### 계산 예제\n"
   ]
  },
  {
   "cell_type": "code",
   "execution_count": null,
   "metadata": {
    "colab": {
     "base_uri": "https://localhost:8080/",
     "height": 38
    },
    "executionInfo": {
     "elapsed": 538,
     "status": "ok",
     "timestamp": 1724629588302,
     "user": {
      "displayName": "Kiehyun Park",
      "userId": "11752785994579589476"
     },
     "user_tz": -540
    },
    "id": "uECBksohptpY",
    "outputId": "10df8c90-21e2-4515-ff37-69f88547dcc0"
   },
   "outputs": [
    {
     "data": {
      "text/html": [
       "285.59999999999997 kilometer<sup>2</sup> meter"
      ],
      "text/latex": [
       "$285.59999999999997\\ \\mathrm{kilometer}^{2} \\cdot \\mathrm{meter}$"
      ],
      "text/plain": [
       "<Quantity(285.6, 'kilometer ** 2 * meter')>"
      ]
     },
     "execution_count": 10,
     "metadata": {},
     "output_type": "execute_result"
    }
   ],
   "source": [
    "thickness =  68 * u.m\n",
    "area = 60 * u.km**2\n",
    "n2g = 0.5 * u.dimensionless  # Optional dimensionless 'u'...\n",
    "phi = 0.2                    # ... but you can just do this.\n",
    "sat = 0.7\n",
    "\n",
    "volume = area * thickness * n2g * phi * sat\n",
    "volume"
   ]
  },
  {
   "cell_type": "markdown",
   "metadata": {
    "id": "t7V1alWqpxfc"
   },
   "source": [
    "### compact\n",
    "\n",
    "단위를 압축하여 나타낼 수 있습니다."
   ]
  },
  {
   "cell_type": "code",
   "execution_count": null,
   "metadata": {
    "colab": {
     "base_uri": "https://localhost:8080/",
     "height": 38
    },
    "executionInfo": {
     "elapsed": 14,
     "status": "ok",
     "timestamp": 1724629588826,
     "user": {
      "displayName": "Kiehyun Park",
      "userId": "11752785994579589476"
     },
     "user_tz": -540
    },
    "id": "ZHFabJlzpxHj",
    "outputId": "b8e3120d-c072-4bda-caf9-03a186eaeeca"
   },
   "outputs": [
    {
     "data": {
      "text/html": [
       "285599999.99999994 meter<sup>3</sup>"
      ],
      "text/latex": [
       "$285599999.99999994\\ \\mathrm{meter}^{3}$"
      ],
      "text/plain": [
       "<Quantity(2.856e+08, 'meter ** 3')>"
      ]
     },
     "execution_count": 11,
     "metadata": {},
     "output_type": "execute_result"
    }
   ],
   "source": [
    "volume.to_compact()"
   ]
  },
  {
   "cell_type": "markdown",
   "metadata": {
    "id": "zcOTzVFTir1G"
   },
   "source": [
    "## Scipy\n",
    "\n",
    "[Scipy](https://docs.scipy.org/doc/scipy/reference/constants.html) 에서 미리 정의된 상수 값들을 사용할 수 있습니다.\n"
   ]
  },
  {
   "cell_type": "code",
   "execution_count": null,
   "metadata": {
    "colab": {
     "base_uri": "https://localhost:8080/"
    },
    "executionInfo": {
     "elapsed": 469,
     "status": "ok",
     "timestamp": 1724629775859,
     "user": {
      "displayName": "Kiehyun Park",
      "userId": "11752785994579589476"
     },
     "user_tz": -540
    },
    "id": "0BpXMYZAra40",
    "outputId": "457cc330-aff5-4393-f18b-b83d11c67f71"
   },
   "outputs": [
    {
     "name": "stdout",
     "output_type": "stream",
     "text": [
      "['Avogadro', 'Boltzmann', 'Btu', 'Btu_IT', 'Btu_th', 'ConstantWarning', 'G', 'Julian_year', 'N_A', 'Planck', 'R', 'Rydberg', 'Stefan_Boltzmann', 'Wien', '__all__', '__builtins__', '__cached__', '__doc__', '__file__', '__loader__', '__name__', '__package__', '__path__', '__spec__', '_codata', '_constants', '_obsolete_constants', 'acre', 'alpha', 'angstrom', 'arcmin', 'arcminute', 'arcsec', 'arcsecond', 'astronomical_unit', 'atm', 'atmosphere', 'atomic_mass', 'atto', 'au', 'bar', 'barrel', 'bbl', 'blob', 'c', 'calorie', 'calorie_IT', 'calorie_th', 'carat', 'centi', 'codata', 'constants', 'convert_temperature', 'day', 'deci', 'degree', 'degree_Fahrenheit', 'deka', 'dyn', 'dyne', 'e', 'eV', 'electron_mass', 'electron_volt', 'elementary_charge', 'epsilon_0', 'erg', 'exa', 'exbi', 'femto', 'fermi', 'find', 'fine_structure', 'fluid_ounce', 'fluid_ounce_US', 'fluid_ounce_imp', 'foot', 'g', 'gallon', 'gallon_US', 'gallon_imp', 'gas_constant', 'gibi', 'giga', 'golden', 'golden_ratio', 'grain', 'gram', 'gravitational_constant', 'h', 'hbar', 'hectare', 'hecto', 'horsepower', 'hour', 'hp', 'inch', 'k', 'kgf', 'kibi', 'kilo', 'kilogram_force', 'kmh', 'knot', 'lambda2nu', 'lb', 'lbf', 'light_year', 'liter', 'litre', 'long_ton', 'm_e', 'm_n', 'm_p', 'm_u', 'mach', 'mebi', 'mega', 'metric_ton', 'micro', 'micron', 'mil', 'mile', 'milli', 'minute', 'mmHg', 'mph', 'mu_0', 'nano', 'nautical_mile', 'neutron_mass', 'nu2lambda', 'ounce', 'oz', 'parsec', 'pebi', 'peta', 'physical_constants', 'pi', 'pico', 'point', 'pound', 'pound_force', 'precision', 'proton_mass', 'psi', 'pt', 'quecto', 'quetta', 'ronna', 'ronto', 'short_ton', 'sigma', 'slinch', 'slug', 'speed_of_light', 'speed_of_sound', 'stone', 'survey_foot', 'survey_mile', 'tebi', 'tera', 'test', 'ton_TNT', 'torr', 'troy_ounce', 'troy_pound', 'u', 'unit', 'value', 'week', 'yard', 'year', 'yobi', 'yocto', 'yotta', 'zebi', 'zepto', 'zero_Celsius', 'zetta']\n"
     ]
    }
   ],
   "source": [
    "import scipy.constants as const\n",
    "print(dir(const))"
   ]
  },
  {
   "cell_type": "markdown",
   "metadata": {
    "id": "6rZhSavXj6xW"
   },
   "source": [
    "### scipy.constants.physical_constants\n",
    "\n",
    " physical_constants[name] = (value, unit, uncertainty)의 형태로 저잗되어 있으므로 딕셔너리의 key 값으로 호출하면 튜플의 형태로 반환됨을 알 수 있습니다.\n",
    "\n",
    " scipy.constants.physical_constants[name]의 방법으로 기체 상수를 호출해 봅니다."
   ]
  },
  {
   "cell_type": "code",
   "execution_count": null,
   "metadata": {
    "colab": {
     "base_uri": "https://localhost:8080/"
    },
    "executionInfo": {
     "elapsed": 510,
     "status": "ok",
     "timestamp": 1724629781365,
     "user": {
      "displayName": "Kiehyun Park",
      "userId": "11752785994579589476"
     },
     "user_tz": -540
    },
    "id": "iTZXQqqejb3X",
    "outputId": "4fa5b3fb-504f-47b7-95b2-1892ab3a945f"
   },
   "outputs": [
    {
     "name": "stdout",
     "output_type": "stream",
     "text": [
      "type(const.physical_constants) : <class 'dict'>\n",
      "len(const.physical_constants) : 442\n",
      "const.physical_constants : {'Wien displacement law constant': (0.0028977685, 'm K', 5.1e-09), 'atomic unit of 1st hyperpolarizablity': (3.20636151e-53, 'C^3 m^3 J^-2', 2.8e-60), 'atomic unit of 2nd hyperpolarizablity': (6.2353808e-65, 'C^4 m^4 J^-3', 1.1e-71), 'atomic unit of electric dipole moment': (8.47835309e-30, 'C m', 7.3e-37), 'atomic unit of electric polarizablity': (1.648777274e-41, 'C^2 m^2 J^-1', 1.6e-49), 'atomic unit of electric quadrupole moment': (4.48655124e-40, 'C m^2', 3.9e-47), 'atomic unit of magn. dipole moment': (1.8548019e-23, 'J T^-1', 1.6e-30), 'atomic unit of magn. flux density': (235051.756758, 'T', 7.1e-05), 'deuteron magn. moment': (4.33073482e-27, 'J T^-1', 3.8e-34), 'deuteron magn. moment to Bohr magneton ratio': (0.0004669754567, '', 5e-12), 'deuteron magn. moment to nuclear magneton ratio': (0.8574382329, '', 9.2e-09), 'deuteron-electron magn. moment ratio': (-0.0004664345548, '', 5e-12), 'deuteron-proton magn. moment ratio': (0.3070122084, '', 4.5e-09), 'deuteron-neutron magn. moment ratio': (-0.44820652, '', 1.1e-07), 'electron gyromagn. ratio': (176085963023.0, 's^-1 T^-1', 53.0), 'electron gyromagn. ratio over 2 pi': (28024.9532, 'MHz T^-1', 0.0024), 'electron magn. moment': (-9.28476412e-24, 'J T^-1', 8e-31), 'electron magn. moment to Bohr magneton ratio': (-1.0011596521859, '', 3.8e-12), 'electron magn. moment to nuclear magneton ratio': (-1838.28197107, '', 8.5e-07), 'electron magn. moment anomaly': (0.0011596521859, '', 3.8e-12), 'electron to shielded proton magn. moment ratio': (-658.2275956, '', 7.1e-06), 'electron to shielded helion magn. moment ratio': (864.058255, '', 1e-05), 'electron-deuteron magn. moment ratio': (-2143.923493, '', 2.3e-05), 'electron-muon magn. moment ratio': (206.7669894, '', 5.4e-06), 'electron-neutron magn. moment ratio': (960.9205, '', 0.00023), 'electron-proton magn. moment ratio': (-658.2106862, '', 6.6e-06), 'magn. constant': (1.2566370614e-06, 'N A^-2', 0.0), 'magn. flux quantum': (2.067833848e-15, 'Wb', 0.0), 'muon magn. moment': (-4.49044799e-26, 'J T^-1', 4e-33), 'muon magn. moment to Bohr magneton ratio': (-0.00484197045, '', 1.3e-10), 'muon magn. moment to nuclear magneton ratio': (-8.89059698, '', 2.3e-07), 'muon-proton magn. moment ratio': (-3.183345118, '', 8.9e-08), 'neutron gyromagn. ratio': (183247171.0, 's^-1 T^-1', 43.0), 'neutron gyromagn. ratio over 2 pi': (29.164695, 'MHz T^-1', 7.3e-06), 'neutron magn. moment': (-9.6623645e-27, 'J T^-1', 2.4e-33), 'neutron magn. moment to Bohr magneton ratio': (-0.00104187563, '', 2.5e-10), 'neutron magn. moment to nuclear magneton ratio': (-1.91304273, '', 4.5e-07), 'neutron to shielded proton magn. moment ratio': (-0.68499694, '', 1.6e-07), 'neutron-electron magn. moment ratio': (0.00104066882, '', 2.5e-10), 'neutron-proton magn. moment ratio': (-0.68497934, '', 1.6e-07), 'proton gyromagn. ratio': (267522187.44, 's^-1 T^-1', 0.11), 'proton gyromagn. ratio over 2 pi': (42.5774813, 'MHz T^-1', 3.7e-06), 'proton magn. moment': (1.41060671e-26, 'J T^-1', 1.2e-33), 'proton magn. moment to Bohr magneton ratio': (0.001521032206, '', 1.5e-11), 'proton magn. moment to nuclear magneton ratio': (2.792847351, '', 2.8e-08), 'proton magn. shielding correction': (2.5689e-05, '', 1.1e-08), 'proton-neutron magn. moment ratio': (-1.45989805, '', 3.4e-07), 'shielded helion gyromagn. ratio': (203789456.9, 's^-1 T^-1', 2.4), 'shielded helion gyromagn. ratio over 2 pi': (32.4341015, 'MHz T^-1', 2.8e-06), 'shielded helion magn. moment': (-1.074553024e-26, 'J T^-1', 9.3e-34), 'shielded helion magn. moment to Bohr magneton ratio': (-0.001158671474, '', 1.4e-11), 'shielded helion magn. moment to nuclear magneton ratio': (-2.127497723, '', 2.5e-08), 'shielded helion to proton magn. moment ratio': (-0.761766562, '', 1.2e-08), 'shielded helion to shielded proton magn. moment ratio': (-0.7617861313, '', 3.3e-09), 'shielded proton magn. moment': (1.41057047e-26, 'J T^-1', 1.2e-33), 'shielded proton magn. moment to Bohr magneton ratio': (0.001520993132, '', 1.6e-11), 'shielded proton magn. moment to nuclear magneton ratio': (2.792775604, '', 3e-08), '{220} lattice spacing of silicon': (1.920155714e-10, 'm', 3.2e-18), 'lattice spacing of silicon': (1.920155762e-10, 'm', 5e-18), 'alpha particle-electron mass ratio': (7294.29954142, '', 2.4e-07), 'alpha particle mass': (6.6446573357e-27, 'kg', 2e-36), 'alpha particle mass energy equivalent': (5.9719201914e-10, 'J', 1.8e-19), 'alpha particle mass energy equivalent in MeV': (3727.3794066, 'MeV', 1.1e-06), 'alpha particle mass in u': (4.001506179127, 'u', 6.3e-11), 'alpha particle molar mass': (0.0040015061777, 'kg mol^-1', 1.2e-12), 'alpha particle-proton mass ratio': (3.97259969009, '', 2.2e-10), 'Angstrom star': (1.00001495e-10, 'm', 9e-17), 'atomic mass constant': (1.6605390666e-27, 'kg', 5e-37), 'atomic mass constant energy equivalent': (1.4924180856e-10, 'J', 4.5e-20), 'atomic mass constant energy equivalent in MeV': (931.49410242, 'MeV', 2.8e-07), 'atomic mass unit-electron volt relationship': (931494102.42, 'eV', 0.28), 'atomic mass unit-hartree relationship': (34231776.874, 'E_h', 0.01), 'atomic mass unit-hertz relationship': (2.25234271871e+23, 'Hz', 68000000000000.0), 'atomic mass unit-inverse meter relationship': (751300661040000.0, 'm^-1', 230000.0), 'atomic mass unit-joule relationship': (1.4924180856e-10, 'J', 4.5e-20), 'atomic mass unit-kelvin relationship': (10809540191600.0, 'K', 3300.0), 'atomic mass unit-kilogram relationship': (1.6605390666e-27, 'kg', 5e-37), 'atomic unit of 1st hyperpolarizability': (3.2063613061e-53, 'C^3 m^3 J^-2', 1.5e-62), 'atomic unit of 2nd hyperpolarizability': (6.2353799905e-65, 'C^4 m^4 J^-3', 3.8e-74), 'atomic unit of action': (1.054571817e-34, 'J s', 0.0), 'atomic unit of charge': (1.602176634e-19, 'C', 0.0), 'atomic unit of charge density': (1081202384570.0, 'C m^-3', 490.0), 'atomic unit of current': (0.00662361823751, 'A', 1.3e-14), 'atomic unit of electric dipole mom.': (8.4783536255e-30, 'C m', 1.3e-39), 'atomic unit of electric field': (514220674763.0, 'V m^-1', 78.0), 'atomic unit of electric field gradient': (9.7173624292e+21, 'V m^-2', 2900000000000.0), 'atomic unit of electric polarizability': (1.64877727436e-41, 'C^2 m^2 J^-1', 5e-51), 'atomic unit of electric potential': (27.211386245988, 'V', 5.3e-11), 'atomic unit of electric quadrupole mom.': (4.4865515246e-40, 'C m^2', 1.4e-49), 'atomic unit of energy': (4.3597447222071e-18, 'J', 8.5e-30), 'atomic unit of force': (8.2387234983e-08, 'N', 1.2e-17), 'atomic unit of length': (5.29177210903e-11, 'm', 8e-21), 'atomic unit of mag. dipole mom.': (1.85480201566e-23, 'J T^-1', 5.6e-33), 'atomic unit of mag. flux density': (235051.756758, 'T', 7.1e-05), 'atomic unit of magnetizability': (7.8910366008e-29, 'J T^-2', 4.8e-38), 'atomic unit of mass': (9.1093837015e-31, 'kg', 2.8e-40), 'atomic unit of momentum': (1.9928519141e-24, 'kg m s^-1', 3e-34), 'atomic unit of permittivity': (1.11265005545e-10, 'F m^-1', 1.7e-20), 'atomic unit of time': (2.4188843265857e-17, 's', 4.7e-29), 'atomic unit of velocity': (2187691.26364, 'm s^-1', 0.00033), 'Avogadro constant': (6.02214076e+23, 'mol^-1', 0.0), 'Bohr magneton': (9.2740100783e-24, 'J T^-1', 2.8e-33), 'Bohr magneton in eV/T': (5.788381806e-05, 'eV T^-1', 1.7e-14), 'Bohr magneton in Hz/T': (13996244936.1, 'Hz T^-1', 4.2), 'Bohr magneton in inverse meters per tesla': (46.68644814, 'm^-1 T^-1', 2.9e-07), 'Bohr magneton in K/T': (0.67171381563, 'K T^-1', 2e-10), 'Bohr radius': (5.29177210903e-11, 'm', 8e-21), 'Boltzmann constant': (1.380649e-23, 'J K^-1', 0.0), 'Boltzmann constant in eV/K': (8.617333262e-05, 'eV K^-1', 0.0), 'Boltzmann constant in Hz/K': (20836619120.0, 'Hz K^-1', 0.0), 'Boltzmann constant in inverse meters per kelvin': (69.503457, 'm^-1 K^-1', 4e-05), 'characteristic impedance of vacuum': (376.730313668, 'ohm', 5.7e-08), 'classical electron radius': (2.8179403262e-15, 'm', 1.3e-24), 'Compton wavelength': (2.42631023867e-12, 'm', 7.3e-22), 'Compton wavelength over 2 pi': (3.8615926764e-13, 'm', 1.8e-22), 'conductance quantum': (7.748091729e-05, 'S', 0.0), 'conventional value of Josephson constant': (483597900000000.0, 'Hz V^-1', 0.0), 'conventional value of von Klitzing constant': (25812.807, 'ohm', 0.0), 'Cu x unit': (1.00207697e-13, 'm', 2.8e-20), 'deuteron-electron mag. mom. ratio': (-0.0004664345551, '', 1.2e-12), 'deuteron-electron mass ratio': (3670.48296788, '', 1.3e-07), 'deuteron g factor': (0.8574382338, '', 2.2e-09), 'deuteron mag. mom.': (4.330735094e-27, 'J T^-1', 1.1e-35), 'deuteron mag. mom. to Bohr magneton ratio': (0.000466975457, '', 1.2e-12), 'deuteron mag. mom. to nuclear magneton ratio': (0.8574382338, '', 2.2e-09), 'deuteron mass': (3.3435837724e-27, 'kg', 1e-36), 'deuteron mass energy equivalent': (3.00506323102e-10, 'J', 9.1e-20), 'deuteron mass energy equivalent in MeV': (1875.61294257, 'MeV', 5.7e-07), 'deuteron mass in u': (2.013553212745, 'u', 4e-11), 'deuteron molar mass': (0.00201355321205, 'kg mol^-1', 6.1e-13), 'deuteron-neutron mag. mom. ratio': (-0.44820653, '', 1.1e-07), 'deuteron-proton mag. mom. ratio': (0.30701220939, '', 7.9e-10), 'deuteron-proton mass ratio': (1.99900750139, '', 1.1e-10), 'deuteron rms charge radius': (2.12799e-15, 'm', 7.4e-19), 'electric constant': (8.8541878128e-12, 'F m^-1', 1.3e-21), 'electron charge to mass quotient': (-175882001076.0, 'C kg^-1', 53.0), 'electron-deuteron mag. mom. ratio': (-2143.9234915, '', 5.6e-06), 'electron-deuteron mass ratio': (0.0002724437107462, '', 9.6e-15), 'electron g factor': (-2.00231930436256, '', 3.5e-13), 'electron gyromag. ratio': (176085963023.0, 's^-1 T^-1', 53.0), 'electron gyromag. ratio over 2 pi': (28024.95164, 'MHz T^-1', 0.00017), 'electron mag. mom.': (-9.2847647043e-24, 'J T^-1', 2.8e-33), 'electron mag. mom. anomaly': (0.00115965218128, '', 1.8e-13), 'electron mag. mom. to Bohr magneton ratio': (-1.00115965218128, '', 1.8e-13), 'electron mag. mom. to nuclear magneton ratio': (-1838.28197188, '', 1.1e-07), 'electron mass': (9.1093837015e-31, 'kg', 2.8e-40), 'electron mass energy equivalent': (8.1871057769e-14, 'J', 2.5e-23), 'electron mass energy equivalent in MeV': (0.51099895, 'MeV', 1.5e-10), 'electron mass in u': (0.000548579909065, 'u', 1.6e-14), 'electron molar mass': (5.4857990888e-07, 'kg mol^-1', 1.7e-16), 'electron-muon mag. mom. ratio': (206.7669883, '', 4.6e-06), 'electron-muon mass ratio': (0.00483633169, '', 1.1e-10), 'electron-neutron mag. mom. ratio': (960.9205, '', 0.00023), 'electron-neutron mass ratio': (0.00054386734424, '', 2.6e-13), 'electron-proton mag. mom. ratio': (-658.21068789, '', 2e-07), 'electron-proton mass ratio': (0.000544617021487, '', 3.3e-14), 'electron-tau mass ratio': (0.000287585, '', 1.9e-08), 'electron to alpha particle mass ratio': (0.0001370933554787, '', 4.5e-15), 'electron to shielded helion mag. mom. ratio': (864.058257, '', 1e-05), 'electron to shielded proton mag. mom. ratio': (-658.2275971, '', 7.2e-06), 'electron volt': (1.602176634e-19, 'J', 0.0), 'electron volt-atomic mass unit relationship': (1.07354410233e-09, 'u', 3.2e-19), 'electron volt-hartree relationship': (0.036749322175655, 'E_h', 7.1e-14), 'electron volt-hertz relationship': (241798924200000.0, 'Hz', 0.0), 'electron volt-inverse meter relationship': (806554.3937, 'm^-1', 0.0), 'electron volt-joule relationship': (1.602176634e-19, 'J', 0.0), 'electron volt-kelvin relationship': (11604.51812, 'K', 0.0), 'electron volt-kilogram relationship': (1.782661921e-36, 'kg', 0.0), 'elementary charge': (1.602176634e-19, 'C', 0.0), 'elementary charge over h': (241798926200000.0, 'A J^-1', 1500000.0), 'Faraday constant': (96485.33212, 'C mol^-1', 0.0), 'Faraday constant for conventional electric current': (96485.3251, 'C_90 mol^-1', 0.0012), 'Fermi coupling constant': (1.1663787e-05, 'GeV^-2', 6e-12), 'fine-structure constant': (0.0072973525693, '', 1.1e-12), 'first radiation constant': (3.741771852e-16, 'W m^2', 0.0), 'first radiation constant for spectral radiance': (1.191042972e-16, 'W m^2 sr^-1', 0.0), 'hartree-atomic mass unit relationship': (2.92126232205e-08, 'u', 8.8e-18), 'hartree-electron volt relationship': (27.211386245988, 'eV', 5.3e-11), 'Hartree energy': (4.3597447222071e-18, 'J', 8.5e-30), 'Hartree energy in eV': (27.211386245988, 'eV', 5.3e-11), 'hartree-hertz relationship': (6579683920502000.0, 'Hz', 13000.0), 'hartree-inverse meter relationship': (21947463.13632, 'm^-1', 4.3e-05), 'hartree-joule relationship': (4.3597447222071e-18, 'J', 8.5e-30), 'hartree-kelvin relationship': (315775.02480407, 'K', 6.1e-07), 'hartree-kilogram relationship': (4.8508702095432e-35, 'kg', 9.4e-47), 'helion-electron mass ratio': (5495.88528007, '', 2.4e-07), 'helion mass': (5.0064127796e-27, 'kg', 1.5e-36), 'helion mass energy equivalent': (4.4995394125e-10, 'J', 1.4e-19), 'helion mass energy equivalent in MeV': (2808.39160743, 'MeV', 8.5e-07), 'helion mass in u': (3.014932247175, 'u', 9.7e-11), 'helion molar mass': (0.00301493224613, 'kg mol^-1', 9.1e-13), 'helion-proton mass ratio': (2.99315267167, '', 1.3e-10), 'hertz-atomic mass unit relationship': (4.4398216652e-24, 'u', 1.3e-33), 'hertz-electron volt relationship': (4.135667696e-15, 'eV', 0.0), 'hertz-hartree relationship': (1.519829846057e-16, 'E_h', 2.9e-28), 'hertz-inverse meter relationship': (3.3356409519815204e-09, 'm^-1', 0.0), 'hertz-joule relationship': (6.62607015e-34, 'J', 0.0), 'hertz-kelvin relationship': (4.799243073e-11, 'K', 0.0), 'hertz-kilogram relationship': (7.372497323e-51, 'kg', 0.0), 'inverse fine-structure constant': (137.035999084, '', 2.1e-08), 'inverse meter-atomic mass unit relationship': (1.3310250501e-15, 'u', 4e-25), 'inverse meter-electron volt relationship': (1.239841984e-06, 'eV', 0.0), 'inverse meter-hartree relationship': (4.556335252912e-08, 'E_h', 8.8e-20), 'inverse meter-hertz relationship': (299792458.0, 'Hz', 0.0), 'inverse meter-joule relationship': (1.986445857e-25, 'J', 0.0), 'inverse meter-kelvin relationship': (0.01438776877, 'K', 0.0), 'inverse meter-kilogram relationship': (2.210219094e-42, 'kg', 0.0), 'inverse of conductance quantum': (12906.40372, 'ohm', 0.0), 'Josephson constant': (483597848400000.0, 'Hz V^-1', 0.0), 'joule-atomic mass unit relationship': (6700535256.5, 'u', 2.0), 'joule-electron volt relationship': (6.241509074e+18, 'eV', 0.0), 'joule-hartree relationship': (2.2937122783963e+17, 'E_h', 450000.0), 'joule-hertz relationship': (1.509190179e+33, 'Hz', 0.0), 'joule-inverse meter relationship': (5.034116567e+24, 'm^-1', 0.0), 'joule-kelvin relationship': (7.242970516e+22, 'K', 0.0), 'joule-kilogram relationship': (1.1126500560536185e-17, 'kg', 0.0), 'kelvin-atomic mass unit relationship': (9.2510873014e-14, 'u', 2.8e-23), 'kelvin-electron volt relationship': (8.617333262e-05, 'eV', 0.0), 'kelvin-hartree relationship': (3.1668115634556e-06, 'E_h', 6.1e-18), 'kelvin-hertz relationship': (20836619120.0, 'Hz', 0.0), 'kelvin-inverse meter relationship': (69.50348004, 'm^-1', 0.0), 'kelvin-joule relationship': (1.380649e-23, 'J', 0.0), 'kelvin-kilogram relationship': (1.536179187e-40, 'kg', 0.0), 'kilogram-atomic mass unit relationship': (6.0221407621e+26, 'u', 1.8e+17), 'kilogram-electron volt relationship': (5.609588603e+35, 'eV', 0.0), 'kilogram-hartree relationship': (2.0614857887409e+34, 'E_h', 4e+22), 'kilogram-hertz relationship': (1.356392489e+50, 'Hz', 0.0), 'kilogram-inverse meter relationship': (4.524438335e+41, 'm^-1', 0.0), 'kilogram-joule relationship': (8.987551787368176e+16, 'J', 0.0), 'kilogram-kelvin relationship': (6.50965726e+39, 'K', 0.0), 'lattice parameter of silicon': (5.431020511e-10, 'm', 8.9e-18), 'Loschmidt constant (273.15 K, 101.325 kPa)': (2.686780111e+25, 'm^-3', 0.0), 'mag. constant': (1.25663706212e-06, 'N A^-2', 1.9e-16), 'mag. flux quantum': (2.067833848e-15, 'Wb', 0.0), 'molar gas constant': (8.314462618, 'J mol^-1 K^-1', 0.0), 'molar mass constant': (0.00099999999965, 'kg mol^-1', 3e-13), 'molar mass of carbon-12': (0.0119999999958, 'kg mol^-1', 3.6e-12), 'molar Planck constant': (3.990312712e-10, 'J Hz^-1 mol^-1', 0.0), 'molar Planck constant times c': (0.119626565582, 'J m mol^-1', 5.4e-11), 'molar volume of ideal gas (273.15 K, 100 kPa)': (0.02271095464, 'm^3 mol^-1', 0.0), 'molar volume of ideal gas (273.15 K, 101.325 kPa)': (0.02241396954, 'm^3 mol^-1', 0.0), 'molar volume of silicon': (1.205883199e-05, 'm^3 mol^-1', 6e-13), 'Mo x unit': (1.00209952e-13, 'm', 5.3e-20), 'muon Compton wavelength': (1.17344411e-14, 'm', 2.6e-22), 'muon Compton wavelength over 2 pi': (1.867594308e-15, 'm', 4.2e-23), 'muon-electron mass ratio': (206.768283, '', 4.6e-06), 'muon g factor': (-2.0023318418, '', 1.3e-09), 'muon mag. mom.': (-4.4904483e-26, 'J T^-1', 1e-33), 'muon mag. mom. anomaly': (0.00116592089, '', 6.3e-10), 'muon mag. mom. to Bohr magneton ratio': (-0.00484197047, '', 1.1e-10), 'muon mag. mom. to nuclear magneton ratio': (-8.89059703, '', 2e-07), 'muon mass': (1.883531627e-28, 'kg', 4.2e-36), 'muon mass energy equivalent': (1.692833804e-11, 'J', 3.8e-19), 'muon mass energy equivalent in MeV': (105.6583755, 'MeV', 2.3e-06), 'muon mass in u': (0.1134289259, 'u', 2.5e-09), 'muon molar mass': (0.0001134289259, 'kg mol^-1', 2.5e-12), 'muon-neutron mass ratio': (0.112454517, '', 2.5e-09), 'muon-proton mag. mom. ratio': (-3.183345142, '', 7.1e-08), 'muon-proton mass ratio': (0.1126095264, '', 2.5e-09), 'muon-tau mass ratio': (0.0594635, '', 4e-06), 'natural unit of action': (1.054571817e-34, 'J s', 0.0), 'natural unit of action in eV s': (6.582119569e-16, 'eV s', 0.0), 'natural unit of energy': (8.1871057769e-14, 'J', 2.5e-23), 'natural unit of energy in MeV': (0.51099895, 'MeV', 1.5e-10), 'natural unit of length': (3.8615926796e-13, 'm', 1.2e-22), 'natural unit of mass': (9.1093837015e-31, 'kg', 2.8e-40), 'natural unit of momentum': (2.730924488e-22, 'kg m s^-1', 3.4e-30), 'natural unit of momentum in MeV/c': (0.5109989461, 'MeV/c', 3.1e-09), 'natural unit of time': (1.28808866819e-21, 's', 3.9e-31), 'natural unit of velocity': (299792458.0, 'm s^-1', 0.0), 'neutron Compton wavelength': (1.31959090581e-15, 'm', 7.5e-25), 'neutron Compton wavelength over 2 pi': (2.1001941536e-16, 'm', 1.4e-25), 'neutron-electron mag. mom. ratio': (0.00104066882, '', 2.5e-10), 'neutron-electron mass ratio': (1838.68366173, '', 8.9e-07), 'neutron g factor': (-3.82608545, '', 9e-07), 'neutron gyromag. ratio': (183247171.0, 's^-1 T^-1', 43.0), 'neutron gyromag. ratio over 2 pi': (29.1646933, 'MHz T^-1', 6.9e-06), 'neutron mag. mom.': (-9.6623651e-27, 'J T^-1', 2.3e-33), 'neutron mag. mom. to Bohr magneton ratio': (-0.00104187563, '', 2.5e-10), 'neutron mag. mom. to nuclear magneton ratio': (-1.91304273, '', 4.5e-07), 'neutron mass': (1.67492749804e-27, 'kg', 9.5e-37), 'neutron mass energy equivalent': (1.50534976287e-10, 'J', 8.6e-20), 'neutron mass energy equivalent in MeV': (939.56542052, 'MeV', 5.4e-07), 'neutron mass in u': (1.00866491595, 'u', 4.9e-10), 'neutron molar mass': (0.0010086649156, 'kg mol^-1', 5.7e-13), 'neutron-muon mass ratio': (8.89248406, '', 2e-07), 'neutron-proton mag. mom. ratio': (-0.68497934, '', 1.6e-07), 'neutron-proton mass ratio': (1.00137841931, '', 4.9e-10), 'neutron-tau mass ratio': (0.528779, '', 3.6e-05), 'neutron to shielded proton mag. mom. ratio': (-0.68499694, '', 1.6e-07), 'Newtonian constant of gravitation': (6.6743e-11, 'm^3 kg^-1 s^-2', 1.5e-15), 'Newtonian constant of gravitation over h-bar c': (6.70883e-39, '(GeV/c^2)^-2', 1.5e-43), 'nuclear magneton': (5.0507837461e-27, 'J T^-1', 1.5e-36), 'nuclear magneton in eV/T': (3.15245125844e-08, 'eV T^-1', 9.6e-18), 'nuclear magneton in inverse meters per tesla': (0.02542623432, 'm^-1 T^-1', 1.6e-10), 'nuclear magneton in K/T': (0.00036582677756, 'K T^-1', 1.1e-13), 'nuclear magneton in MHz/T': (7.6225932291, 'MHz T^-1', 2.3e-09), 'Planck constant': (6.62607015e-34, 'J Hz^-1', 0.0), 'Planck constant in eV s': (4.135667662e-15, 'eV s', 2.5e-23), 'Planck constant over 2 pi': (1.0545718e-34, 'J s', 1.3e-42), 'Planck constant over 2 pi in eV s': (6.582119514e-16, 'eV s', 4e-24), 'Planck constant over 2 pi times c in MeV fm': (197.3269788, 'MeV fm', 1.2e-06), 'Planck length': (1.616255e-35, 'm', 1.8e-40), 'Planck mass': (2.176434e-08, 'kg', 2.4e-13), 'Planck mass energy equivalent in GeV': (1.22089e+19, 'GeV', 140000000000000.0), 'Planck temperature': (1.416784e+32, 'K', 1.6e+27), 'Planck time': (5.391247e-44, 's', 6e-49), 'proton charge to mass quotient': (95788331.56, 'C kg^-1', 0.029), 'proton Compton wavelength': (1.32140985539e-15, 'm', 4e-25), 'proton Compton wavelength over 2 pi': (2.10308910109e-16, 'm', 9.7e-26), 'proton-electron mass ratio': (1836.15267343, '', 1.1e-07), 'proton g factor': (5.5856946893, '', 1.6e-09), 'proton gyromag. ratio': (267522187.44, 's^-1 T^-1', 0.11), 'proton gyromag. ratio over 2 pi': (42.57747892, 'MHz T^-1', 2.9e-07), 'proton mag. mom.': (1.41060679736e-26, 'J T^-1', 6e-36), 'proton mag. mom. to Bohr magneton ratio': (0.0015210322023, '', 4.6e-13), 'proton mag. mom. to nuclear magneton ratio': (2.79284734463, '', 8.2e-10), 'proton mag. shielding correction': (2.5689e-05, '', 1.1e-08), 'proton mass': (1.67262192369e-27, 'kg', 5.1e-37), 'proton mass energy equivalent': (1.50327761598e-10, 'J', 4.6e-20), 'proton mass energy equivalent in MeV': (938.27208816, 'MeV', 2.9e-07), 'proton mass in u': (1.007276466621, 'u', 5.3e-11), 'proton molar mass': (0.00100727646627, 'kg mol^-1', 3.1e-13), 'proton-muon mass ratio': (8.88024337, '', 2e-07), 'proton-neutron mag. mom. ratio': (-1.45989805, '', 3.4e-07), 'proton-neutron mass ratio': (0.99862347812, '', 4.9e-10), 'proton rms charge radius': (8.414e-16, 'm', 1.9e-18), 'proton-tau mass ratio': (0.528051, '', 3.6e-05), 'quantum of circulation': (0.00036369475516, 'm^2 s^-1', 1.1e-13), 'quantum of circulation times 2': (0.00072738951032, 'm^2 s^-1', 2.2e-13), 'Rydberg constant': (10973731.56816, 'm^-1', 2.1e-05), 'Rydberg constant times c in Hz': (3289841960250800.0, 'Hz', 6400.0), 'Rydberg constant times hc in eV': (13.605693122994, 'eV', 2.6e-11), 'Rydberg constant times hc in J': (2.1798723611035e-18, 'J', 4.2e-30), 'Sackur-Tetrode constant (1 K, 100 kPa)': (-1.15170753706, '', 4.5e-10), 'Sackur-Tetrode constant (1 K, 101.325 kPa)': (-1.16487052358, '', 4.5e-10), 'second radiation constant': (0.01438776877, 'm K', 0.0), 'shielded helion gyromag. ratio': (203789456.9, 's^-1 T^-1', 2.4), 'shielded helion gyromag. ratio over 2 pi': (32.43409966, 'MHz T^-1', 4.3e-07), 'shielded helion mag. mom.': (-1.07455309e-26, 'J T^-1', 1.3e-34), 'shielded helion mag. mom. to Bohr magneton ratio': (-0.001158671471, '', 1.4e-11), 'shielded helion mag. mom. to nuclear magneton ratio': (-2.127497719, '', 2.5e-08), 'shielded helion to proton mag. mom. ratio': (-0.7617665618, '', 8.9e-09), 'shielded helion to shielded proton mag. mom. ratio': (-0.7617861313, '', 3.3e-09), 'shielded proton gyromag. ratio': (267515315.1, 's^-1 T^-1', 2.9), 'shielded proton gyromag. ratio over 2 pi': (42.57638507, 'MHz T^-1', 5.3e-07), 'shielded proton mag. mom.': (1.41057056e-26, 'J T^-1', 1.5e-34), 'shielded proton mag. mom. to Bohr magneton ratio': (0.001520993128, '', 1.7e-11), 'shielded proton mag. mom. to nuclear magneton ratio': (2.792775599, '', 3e-08), 'speed of light in vacuum': (299792458.0, 'm s^-1', 0.0), 'standard acceleration of gravity': (9.80665, 'm s^-2', 0.0), 'standard atmosphere': (101325.0, 'Pa', 0.0), 'Stefan-Boltzmann constant': (5.670374419e-08, 'W m^-2 K^-4', 0.0), 'tau Compton wavelength': (6.97771e-16, 'm', 4.7e-20), 'tau Compton wavelength over 2 pi': (1.11056e-16, 'm', 1e-20), 'tau-electron mass ratio': (3477.23, '', 0.23), 'tau mass': (3.16754e-27, 'kg', 2.1e-31), 'tau mass energy equivalent': (2.84684e-10, 'J', 1.9e-14), 'tau mass energy equivalent in MeV': (1776.82, 'MeV', 0.16), 'tau mass in u': (1.90754, 'u', 0.00013), 'tau molar mass': (0.00190754, 'kg mol^-1', 1.3e-07), 'tau-muon mass ratio': (16.817, '', 0.0011), 'tau-neutron mass ratio': (1.89115, '', 0.00013), 'tau-proton mass ratio': (1.89376, '', 0.00013), 'Thomson cross section': (6.6524587321e-29, 'm^2', 6e-38), 'triton-electron mag. mom. ratio': (-0.001620514423, '', 2.1e-11), 'triton-electron mass ratio': (5496.92153573, '', 2.7e-07), 'triton g factor': (5.957924931, '', 1.2e-08), 'triton mag. mom.': (1.5046095202e-26, 'J T^-1', 3e-35), 'triton mag. mom. to Bohr magneton ratio': (0.0016223936651, '', 3.2e-12), 'triton mag. mom. to nuclear magneton ratio': (2.9789624656, '', 5.9e-09), 'triton mass': (5.0073567446e-27, 'kg', 1.5e-36), 'triton mass energy equivalent': (4.500387806e-10, 'J', 1.4e-19), 'triton mass energy equivalent in MeV': (2808.92113298, 'MeV', 8.5e-07), 'triton mass in u': (3.01550071621, 'u', 1.2e-10), 'triton molar mass': (0.00301550071517, 'kg mol^-1', 9.2e-13), 'triton-neutron mag. mom. ratio': (-1.55718553, '', 3.7e-07), 'triton-proton mag. mom. ratio': (1.066639908, '', 1e-08), 'triton-proton mass ratio': (2.99371703414, '', 1.5e-10), 'unified atomic mass unit': (1.6605390666e-27, 'kg', 5e-37), 'von Klitzing constant': (25812.80745, 'ohm', 0.0), 'weak mixing angle': (0.2229, '', 0.0003), 'Wien frequency displacement law constant': (58789257570.0, 'Hz K^-1', 0.0), 'Wien wavelength displacement law constant': (0.002897771955, 'm K', 0.0), 'atomic unit of mom.um': (1.992851882e-24, 'kg m s^-1', 2.4e-32), 'electron-helion mass ratio': (0.0001819543074573, '', 7.9e-15), 'electron-triton mass ratio': (0.0001819200062251, '', 9e-15), 'helion g factor': (-4.255250615, '', 5e-08), 'helion mag. mom.': (-1.074617532e-26, 'J T^-1', 1.3e-34), 'helion mag. mom. to Bohr magneton ratio': (-0.001158740958, '', 1.4e-11), 'helion mag. mom. to nuclear magneton ratio': (-2.127625307, '', 2.5e-08), 'Loschmidt constant (273.15 K, 100 kPa)': (2.651645804e+25, 'm^-3', 0.0), 'natural unit of mom.um': (2.730924488e-22, 'kg m s^-1', 3.4e-30), 'natural unit of mom.um in MeV/c': (0.5109989461, 'MeV/c', 3.1e-09), 'neutron-proton mass difference': (2.30557435e-30, 'kg', 8.2e-37), 'neutron-proton mass difference energy equivalent': (2.07214689e-13, 'J', 7.4e-20), 'neutron-proton mass difference energy equivalent in MeV': (1.29333236, 'MeV', 4.6e-07), 'neutron-proton mass difference in u': (0.00138844933, 'u', 4.9e-10), 'standard-state pressure': (100000.0, 'Pa', 0.0), 'alpha particle relative atomic mass': (4.001506179127, '', 6.3e-11), 'Bohr magneton in inverse meter per tesla': (46.686447783, 'm^-1 T^-1', 1.4e-08), 'Boltzmann constant in inverse meter per kelvin': (69.50348004, 'm^-1 K^-1', 0.0), 'conventional value of ampere-90': (1.00000008887, 'A', 0.0), 'conventional value of coulomb-90': (1.00000008887, 'C', 0.0), 'conventional value of farad-90': (0.9999999822, 'F', 0.0), 'conventional value of henry-90': (1.00000001779, 'H', 0.0), 'conventional value of ohm-90': (1.00000001779, 'ohm', 0.0), 'conventional value of volt-90': (1.00000010666, 'V', 0.0), 'conventional value of watt-90': (1.00000019553, 'W', 0.0), 'deuteron relative atomic mass': (2.013553212745, '', 4e-11), 'electron gyromag. ratio in MHz/T': (28024.9514242, 'MHz T^-1', 8.5e-06), 'electron relative atomic mass': (0.000548579909065, '', 1.6e-14), 'elementary charge over h-bar': (1519267447000000.0, 'A J^-1', 0.0), 'helion relative atomic mass': (3.014932247175, '', 9.7e-11), 'helion shielding shift': (5.996743e-05, '', 1e-10), 'hyperfine transition frequency of Cs-133': (9192631770.0, 'Hz', 0.0), 'lattice spacing of ideal Si (220)': (1.920155716e-10, 'm', 3.2e-18), 'luminous efficacy': (683.0, 'lm W^-1', 0.0), 'neutron gyromag. ratio in MHz/T': (29.1646931, 'MHz T^-1', 6.9e-06), 'neutron relative atomic mass': (1.00866491595, '', 4.9e-10), 'nuclear magneton in inverse meter per tesla': (0.0254262341353, 'm^-1 T^-1', 7.8e-12), 'Planck constant in eV/Hz': (4.135667696e-15, 'eV Hz^-1', 0.0), 'proton gyromag. ratio in MHz/T': (42.577478518, 'MHz T^-1', 1.8e-08), 'proton relative atomic mass': (1.007276466621, '', 5.3e-11), 'reduced Compton wavelength': (3.8615926796e-13, 'm', 1.2e-22), 'reduced muon Compton wavelength': (1.867594306e-15, 'm', 4.2e-23), 'reduced neutron Compton wavelength': (2.1001941552e-16, 'm', 1.2e-25), 'reduced Planck constant': (1.054571817e-34, 'J s', 0.0), 'reduced Planck constant in eV s': (6.582119569e-16, 'eV s', 0.0), 'reduced Planck constant times c in MeV fm': (197.3269804, 'MeV fm', 0.0), 'reduced proton Compton wavelength': (2.10308910336e-16, 'm', 6.4e-26), 'reduced tau Compton wavelength': (1.110538e-16, 'm', 7.5e-21), 'shielded helion gyromag. ratio in MHz/T': (32.43409942, 'MHz T^-1', 3.8e-07), 'shielded proton gyromag. ratio in MHz/T': (42.57638474, 'MHz T^-1', 4.6e-07), 'shielding difference of d and p in HD': (2.02e-08, '', 2e-11), 'shielding difference of t and p in HT': (2.414e-08, '', 2e-11), 'tau energy equivalent': (1776.86, 'MeV', 0.12), 'triton relative atomic mass': (3.01550071621, '', 1.2e-10), 'triton to proton mag. mom. ratio': (1.0666399191, '', 2.1e-09), 'vacuum electric permittivity': (8.8541878128e-12, 'F m^-1', 1.3e-21), 'vacuum mag. permeability': (1.25663706212e-06, 'N A^-2', 1.9e-16), 'W to Z mass ratio': (0.88153, '', 0.00017)}\n",
      "type(constR1): <class 'tuple'>\n",
      "constR1: (8.314462618, 'J mol^-1 K^-1', 0.0)\n"
     ]
    }
   ],
   "source": [
    "print(\"type(const.physical_constants) :\", type(const.physical_constants))\n",
    "print(\"len(const.physical_constants) :\", len(const.physical_constants))\n",
    "print(\"const.physical_constants :\", const.physical_constants)\n",
    "\n",
    "constR1 = const.physical_constants[\"molar gas constant\"]\n",
    "print(\"type(constR1):\", type(constR1))\n",
    "print(\"constR1:\", constR1)"
   ]
  },
  {
   "cell_type": "markdown",
   "metadata": {
    "id": "ljSV02mOkqa5"
   },
   "source": [
    "### pint quantity로 만들기\n",
    "\n",
    "scipy에는 튜플로 반환된 valuedhk unit을 이용합니다."
   ]
  },
  {
   "cell_type": "code",
   "execution_count": null,
   "metadata": {
    "colab": {
     "base_uri": "https://localhost:8080/"
    },
    "executionInfo": {
     "elapsed": 466,
     "status": "ok",
     "timestamp": 1724629589286,
     "user": {
      "displayName": "Kiehyun Park",
      "userId": "11752785994579589476"
     },
     "user_tz": -540
    },
    "id": "T9stiCftlkV8",
    "outputId": "4a27707b-72ef-4bd6-aa18-beb7799e1a73"
   },
   "outputs": [
    {
     "name": "stdout",
     "output_type": "stream",
     "text": [
      "type(constR2): <class 'pint.Quantity'>\n",
      "constR2: 8.314462618 joule / kelvin / mole\n"
     ]
    }
   ],
   "source": [
    "from pint import UnitRegistry\n",
    "u = UnitRegistry()\n",
    "constR2 = constR1[0]*u(constR1[1])\n",
    "print(\"type(constR2):\", type(constR2))\n",
    "print(\"constR2:\", constR2)"
   ]
  },
  {
   "cell_type": "markdown",
   "metadata": {
    "id": "y6CqNKJBrhM2"
   },
   "source": [
    "## astropy\n",
    "\n",
    "천문학관련 모듈인 [astropy](https://www.astropy.org/)에서도 unit을 포함한 quantity를 사용할 수 있고, 물리 상수 들도 입력되어 있서서 그 목록을 보면 사용할 수 있습니다."
   ]
  },
  {
   "cell_type": "markdown",
   "metadata": {
    "id": "ZgmcQ9nRrwBD"
   },
   "source": [
    "### astropy units\n",
    "\n",
    "[astropy.units](https://docs.astropy.org/en/stable/units/index.html?highlight=units)에 어떤 단위들이 포함되어 있는지 확인해 보시기 바랍니다. 사용하는 방법은 pint와 비슷하게 아래와 같이 사용할 수 있습니다."
   ]
  },
  {
   "cell_type": "code",
   "execution_count": null,
   "metadata": {
    "colab": {
     "base_uri": "https://localhost:8080/"
    },
    "executionInfo": {
     "elapsed": 506,
     "status": "ok",
     "timestamp": 1724629589790,
     "user": {
      "displayName": "Kiehyun Park",
      "userId": "11752785994579589476"
     },
     "user_tz": -540
    },
    "id": "mAxXcpKQr2e0",
    "outputId": "25fceae2-8126-4624-d0b6-26b6131aa0b2"
   },
   "outputs": [
    {
     "name": "stdout",
     "output_type": "stream",
     "text": [
      "type(distance):<class 'astropy.units.quantity.Quantity'>\n",
      "distance:8.0 m\n"
     ]
    }
   ],
   "source": [
    "from astropy import units as u\n",
    "\n",
    "distance = 8 * u.m\n",
    "print(\"type(distance):{}\".format(type(distance )))\n",
    "print(\"distance:{}\".format(distance ))"
   ]
  },
  {
   "cell_type": "markdown",
   "metadata": {
    "id": "TAqdMEAir7LJ"
   },
   "source": [
    "속력은 다음과 같이 계산해 볼 수 있을것 같습니다."
   ]
  },
  {
   "cell_type": "code",
   "execution_count": null,
   "metadata": {
    "colab": {
     "base_uri": "https://localhost:8080/"
    },
    "executionInfo": {
     "elapsed": 34,
     "status": "ok",
     "timestamp": 1724629589790,
     "user": {
      "displayName": "Kiehyun Park",
      "userId": "11752785994579589476"
     },
     "user_tz": -540
    },
    "id": "MRB9X1DjsCVT",
    "outputId": "fc5c2dac-2fe6-4904-db91-cf067e626fd4"
   },
   "outputs": [
    {
     "name": "stdout",
     "output_type": "stream",
     "text": [
      "type(average_velocity):<class 'astropy.units.quantity.Quantity'>\n",
      "average_velocity:2.0 m / s\n"
     ]
    }
   ],
   "source": [
    "time = 4 * u.s\n",
    "\n",
    "average_velocity = distance / time\n",
    "print(\"type(average_velocity):{}\".format(type(average_velocity)))\n",
    "print(\"average_velocity:{}\".format(average_velocity))"
   ]
  },
  {
   "cell_type": "markdown",
   "metadata": {
    "id": "tbUs7RSWsBxU"
   },
   "source": [
    "### dir 로 mathods 확인하기"
   ]
  },
  {
   "cell_type": "code",
   "execution_count": null,
   "metadata": {
    "colab": {
     "base_uri": "https://localhost:8080/"
    },
    "executionInfo": {
     "elapsed": 31,
     "status": "ok",
     "timestamp": 1724629589790,
     "user": {
      "displayName": "Kiehyun Park",
      "userId": "11752785994579589476"
     },
     "user_tz": -540
    },
    "id": "bkaGCv14sQOk",
    "outputId": "56b695a4-d64e-4802-c917-341a9cdfea2c"
   },
   "outputs": [
    {
     "name": "stdout",
     "output_type": "stream",
     "text": [
      "dir(distance): ['T', '__abs__', '__add__', '__and__', '__array__', '__array_finalize__', '__array_function__', '__array_interface__', '__array_prepare__', '__array_priority__', '__array_struct__', '__array_ufunc__', '__array_wrap__', '__bool__', '__class__', '__class_getitem__', '__complex__', '__contains__', '__copy__', '__deepcopy__', '__delattr__', '__delitem__', '__dict__', '__dir__', '__divmod__', '__dlpack__', '__dlpack_device__', '__doc__', '__eq__', '__float__', '__floordiv__', '__format__', '__ge__', '__getattr__', '__getattribute__', '__getitem__', '__gt__', '__hash__', '__iadd__', '__iand__', '__ifloordiv__', '__ilshift__', '__imatmul__', '__imod__', '__imul__', '__index__', '__init__', '__init_subclass__', '__int__', '__invert__', '__ior__', '__ipow__', '__irshift__', '__isub__', '__iter__', '__itruediv__', '__ixor__', '__le__', '__len__', '__lshift__', '__lt__', '__matmul__', '__mod__', '__module__', '__mul__', '__ne__', '__neg__', '__new__', '__or__', '__pos__', '__pow__', '__quantity_subclass__', '__radd__', '__rand__', '__rdivmod__', '__reduce__', '__reduce_ex__', '__repr__', '__rfloordiv__', '__rlshift__', '__rmatmul__', '__rmod__', '__rmul__', '__ror__', '__rpow__', '__rrshift__', '__rshift__', '__rsub__', '__rtruediv__', '__rxor__', '__setattr__', '__setitem__', '__setstate__', '__sizeof__', '__str__', '__sub__', '__subclasshook__', '__truediv__', '__xor__', '_decompose', '_default_unit', '_equivalencies', '_include_easy_conversion_members', '_new_view', '_not_implemented_or_raise', '_recursively_apply', '_repr_latex_', '_result_as_quantity', '_set_unit', '_to_own_unit', '_to_value', '_unit', '_unitstr', '_wrap_function', 'all', 'any', 'argmax', 'argmin', 'argpartition', 'argsort', 'astype', 'base', 'byteswap', 'cgs', 'choose', 'clip', 'compress', 'conj', 'conjugate', 'copy', 'ctypes', 'cumprod', 'cumsum', 'data', 'decompose', 'diagonal', 'diff', 'dot', 'dtype', 'dump', 'dumps', 'ediff1d', 'equivalencies', 'fill', 'flags', 'flat', 'flatten', 'getfield', 'imag', 'info', 'insert', 'isscalar', 'item', 'itemset', 'itemsize', 'max', 'mean', 'min', 'nansum', 'nbytes', 'ndim', 'newbyteorder', 'nonzero', 'partition', 'prod', 'ptp', 'put', 'ravel', 'real', 'repeat', 'reshape', 'resize', 'round', 'searchsorted', 'setfield', 'setflags', 'shape', 'si', 'size', 'sort', 'squeeze', 'std', 'strides', 'sum', 'swapaxes', 'take', 'to', 'to_string', 'to_value', 'tobytes', 'tofile', 'tolist', 'tostring', 'trace', 'transpose', 'unit', 'value', 'var', 'view']\n"
     ]
    }
   ],
   "source": [
    "print(\"dir(distance):\", dir(distance))"
   ]
  },
  {
   "cell_type": "markdown",
   "metadata": {
    "id": "49KAjEgLsWHa"
   },
   "source": [
    "### 출력 형식\n",
    "\n",
    "다음과 같이 값과 단위를 구별하여 출력할 수도 있고, 단위 포멧도 지정할 수 있습니다."
   ]
  },
  {
   "cell_type": "code",
   "execution_count": null,
   "metadata": {
    "colab": {
     "base_uri": "https://localhost:8080/"
    },
    "executionInfo": {
     "elapsed": 29,
     "status": "ok",
     "timestamp": 1724629589790,
     "user": {
      "displayName": "Kiehyun Park",
      "userId": "11752785994579589476"
     },
     "user_tz": -540
    },
    "id": "psxb8ES6saMY",
    "outputId": "4e8eb18f-098e-400b-84eb-68f9dc54df14"
   },
   "outputs": [
    {
     "name": "stdout",
     "output_type": "stream",
     "text": [
      "distance: 8.0 m\n",
      "distance: 8.00000000 m\n",
      "distance: 8 m\n",
      "distance: 8 $\\mathrm{m}$\n"
     ]
    }
   ],
   "source": [
    "print('distance: {0.value:0.1f} {0.unit}'.format(distance))\n",
    "print('distance: {0.value:0.8f} {0.unit:fits}'.format(distance))\n",
    "print('distance: {0.value:0.0f} {0.unit:cds}'.format(distance))\n",
    "print('distance: {0.value:0.0f} {0.unit:latex}'.format(distance))"
   ]
  },
  {
   "cell_type": "markdown",
   "metadata": {
    "id": "efmGV7Da7Om2"
   },
   "source": [
    "### unit 변경\n",
    "\n",
    "unit을 변경하는 방법은 다음과 같다."
   ]
  },
  {
   "cell_type": "code",
   "execution_count": null,
   "metadata": {
    "colab": {
     "base_uri": "https://localhost:8080/",
     "height": 38
    },
    "executionInfo": {
     "elapsed": 27,
     "status": "ok",
     "timestamp": 1724629589791,
     "user": {
      "displayName": "Kiehyun Park",
      "userId": "11752785994579589476"
     },
     "user_tz": -540
    },
    "id": "IbYm1ppd7RIF",
    "outputId": "1296a0a4-b93b-4fd2-9556-8a479e6ede21"
   },
   "outputs": [
    {
     "data": {
      "text/latex": [
       "$200 \\; \\mathrm{\\frac{cm}{s}}$"
      ],
      "text/plain": [
       "<Quantity 200. cm / s>"
      ]
     },
     "execution_count": 19,
     "metadata": {},
     "output_type": "execute_result"
    }
   ],
   "source": [
    "from astropy import units as u\n",
    "\n",
    "distance = 8*u.m\n",
    "time = 4*u.s\n",
    "\n",
    "average_velocity = distance / time\n",
    "average_velocity.to(u.cm/u.s)"
   ]
  },
  {
   "cell_type": "markdown",
   "metadata": {
    "id": "Uq726jb17Trb"
   },
   "source": [
    "### astropy constants\n",
    "\n",
    "[astropy.constants](https://docs.astropy.org/en/stable/constants/index.html)의 상수 값들을 확인해 보시기 바랍니다.\n",
    "\n",
    "이미 입력되어 있는 상수값을 사용할 수 있습니다."
   ]
  },
  {
   "cell_type": "code",
   "execution_count": null,
   "metadata": {
    "colab": {
     "base_uri": "https://localhost:8080/"
    },
    "executionInfo": {
     "elapsed": 26,
     "status": "ok",
     "timestamp": 1724629589791,
     "user": {
      "displayName": "Kiehyun Park",
      "userId": "11752785994579589476"
     },
     "user_tz": -540
    },
    "id": "Qq6n6gcZ7VtV",
    "outputId": "38d6f223-d0da-49fd-cc13-419f670fc903"
   },
   "outputs": [
    {
     "name": "stdout",
     "output_type": "stream",
     "text": [
      "const.h:6.62607015e-34 J s\n",
      "const.h:299792458.0 m / s\n",
      "const.h:1.380649e-23 J / K\n"
     ]
    }
   ],
   "source": [
    "from astropy import units as u\n",
    "from astropy import constants as const\n",
    "\n",
    "print(\"const.h:{}\".format(const.h))\n",
    "print(\"const.h:{}\".format(const.c))\n",
    "print(\"const.h:{}\".format(const.k_B))"
   ]
  },
  {
   "cell_type": "markdown",
   "metadata": {
    "id": "4AMIIzZssfmv"
   },
   "source": [
    "### 예제 확인\n",
    "\n",
    "물리량을 quantity로 저장하는 여러 예제를 확인해 보자."
   ]
  },
  {
   "cell_type": "code",
   "execution_count": null,
   "metadata": {
    "colab": {
     "base_uri": "https://localhost:8080/",
     "height": 37
    },
    "executionInfo": {
     "elapsed": 22,
     "status": "ok",
     "timestamp": 1724629589791,
     "user": {
      "displayName": "Kiehyun Park",
      "userId": "11752785994579589476"
     },
     "user_tz": -540
    },
    "id": "wEPRxMK_Jfj-",
    "outputId": "6f3447b7-813a-47c6-b8ed-452e3920ef4e"
   },
   "outputs": [
    {
     "data": {
      "text/latex": [
       "$[150,~450,~750,~1650] \\; \\mathrm{K}$"
      ],
      "text/plain": [
       "<Quantity [ 150.,  450.,  750., 1650.] K>"
      ]
     },
     "execution_count": 21,
     "metadata": {},
     "output_type": "execute_result"
    }
   ],
   "source": [
    "from astropy.constants import codata2014 as const\n",
    "temp = [150, 450, 750, 1650] * u.Kelvin\n",
    "#temp = 150 * u.Kelvin\n",
    "temp"
   ]
  },
  {
   "cell_type": "code",
   "execution_count": null,
   "metadata": {
    "colab": {
     "base_uri": "https://localhost:8080/",
     "height": 37
    },
    "executionInfo": {
     "elapsed": 21,
     "status": "ok",
     "timestamp": 1724629589791,
     "user": {
      "displayName": "Kiehyun Park",
      "userId": "11752785994579589476"
     },
     "user_tz": -540
    },
    "id": "dIVh74X5NYEf",
    "outputId": "625e2f00-6f9c-418d-d165-9955d52ce9f9"
   },
   "outputs": [
    {
     "data": {
      "text/latex": [
       "$28 \\; \\mathrm{g}$"
      ],
      "text/plain": [
       "<Quantity 28. g>"
      ]
     },
     "execution_count": 22,
     "metadata": {},
     "output_type": "execute_result"
    }
   ],
   "source": [
    "28*u.g"
   ]
  },
  {
   "cell_type": "code",
   "execution_count": null,
   "metadata": {
    "colab": {
     "base_uri": "https://localhost:8080/"
    },
    "executionInfo": {
     "elapsed": 20,
     "status": "ok",
     "timestamp": 1724629589791,
     "user": {
      "displayName": "Kiehyun Park",
      "userId": "11752785994579589476"
     },
     "user_tz": -540
    },
    "id": "8lWtycqFP1bg",
    "outputId": "0f4fccc8-aab9-4794-c792-7df0fbb5b15b"
   },
   "outputs": [
    {
     "name": "stdout",
     "output_type": "stream",
     "text": [
      "vrms1: 816.6788142925502\n"
     ]
    }
   ],
   "source": [
    "vrms1 = (3 * 8.3 * 750 /0.028)**(1/2)\n",
    "print(\"vrms1:\", vrms1)"
   ]
  },
  {
   "cell_type": "code",
   "execution_count": null,
   "metadata": {
    "colab": {
     "base_uri": "https://localhost:8080/"
    },
    "executionInfo": {
     "elapsed": 15,
     "status": "ok",
     "timestamp": 1724629589791,
     "user": {
      "displayName": "Kiehyun Park",
      "userId": "11752785994579589476"
     },
     "user_tz": -540
    },
    "id": "BDrb-t4gKj03",
    "outputId": "5059e7b8-c4dc-42a1-97f8-4bbe6d0aabc7"
   },
   "outputs": [
    {
     "name": "stdout",
     "output_type": "stream",
     "text": [
      "  Name   = Boltzmann constant\n",
      "  Value  = 1.38064852e-23\n",
      "  Uncertainty  = 7.9e-30\n",
      "  Unit  = J / K\n",
      "  Reference = CODATA 2014\n",
      "vrms: [4.71051951e-13 8.15885912e-13 1.05330418e-12 1.56230258e-12] J(1/2)\n"
     ]
    }
   ],
   "source": [
    "print(const.k_B)\n",
    "vrms = ((3 * const.k_B * temp)/28*u.g.to(u.kg))**(1/2)\n",
    "print(\"vrms:\", vrms)"
   ]
  },
  {
   "cell_type": "code",
   "execution_count": null,
   "metadata": {
    "colab": {
     "base_uri": "https://localhost:8080/"
    },
    "executionInfo": {
     "elapsed": 13,
     "status": "ok",
     "timestamp": 1724629589791,
     "user": {
      "displayName": "Kiehyun Park",
      "userId": "11752785994579589476"
     },
     "user_tz": -540
    },
    "id": "oQRV7GupshfA",
    "outputId": "c4b601c5-224d-4055-c5a0-59f7f1d0b206"
   },
   "outputs": [
    {
     "name": "stdout",
     "output_type": "stream",
     "text": [
      "h: 6.626e-34 J s\n",
      "c: 300000000.0 m / s\n",
      "k: 1.38e-23 J / K\n",
      "wavelengths: 5e-07 m\n",
      "T: 6000.0 K\n"
     ]
    }
   ],
   "source": [
    "from astropy import units as u\n",
    "\n",
    "h = 6.626e-34 * u.J * u.s     # (플랑크 상수)\n",
    "c = 3.0e+8  * u.m / u.s       # (광속)\n",
    "k = 1.38e-23 * u.J / u.K      # (볼쯔만 상수)\n",
    "\n",
    "wavelengths = 0.0000005 * u.m   # (파장)\n",
    "T = 6000. * u.K                 # (온도)\n",
    "\n",
    "print (\"h: {}\".format(h))\n",
    "print (\"c: {}\".format(c))\n",
    "print (\"k: {}\".format(k))\n",
    "print (\"wavelengths: {}\".format(wavelengths))\n",
    "print (\"T: {}\".format(T))"
   ]
  },
  {
   "cell_type": "markdown",
   "metadata": {
    "id": "KZvGh94cWkJF"
   },
   "source": [
    "## Metpy\n",
    "\n",
    "[metpy](https://unidata.github.io/MetPy/latest/index.html)는 meteological python으로 날씨 데이터를 처리하기 위해 만들어진 모듈입니다. 최근 꾸준히 개발되고 있으며, 습도 계산, 단열선도를 작성 등을 해볼 수 있는데, 이 모듈도 단위(unit)와 물리량(quantity)을 지원합니다.\n",
    "\n",
    "* [metpy.units](https://unidata.github.io/MetPy/latest/tutorials/unit_tutorial.html) 함수를 이용하면 단위를 사용할 수 있습니다. 이 단위는 [pint](https://pint.readthedocs.io/en/stable/developers_reference.html#module-pint)를 사용하는 것입니다.\n",
    "\n",
    "* 또한 대기 열역학등의 계산을 지원해 주는[metpy.calc](https://unidata.github.io/MetPy/latest/api/generated/metpy.calc.html?highlight=calc#module-metpy.calc) 함수도 이용할 수 있습니다."
   ]
  },
  {
   "cell_type": "markdown",
   "metadata": {
    "id": "FhBygxyvwuIs"
   },
   "source": [
    "## 예제"
   ]
  },
  {
   "cell_type": "markdown",
   "metadata": {
    "id": "vnxGq1Vd1n7m"
   },
   "source": [
    "###(예제1)\n",
    "\n",
    "Fundamentals of Physics 10th edition (Halidat & Resnick). chat 1. Problems\n",
    "\n",
    "3.The micrometer ($ 1\\mathrm{~\\mu m}$) is often called the micron.\n",
    "\n",
    "(a) How many microns make up $ 1.0\\mathrm{~k m}$?\n",
    "\n",
    "(b) What fraction of a centimeter equals $ 1.0\\mathrm{~mm}$?\n",
    "\n",
    "(c) How many microns are in $ 1.0\\mathrm{~yd}$?"
   ]
  },
  {
   "cell_type": "code",
   "execution_count": null,
   "metadata": {
    "colab": {
     "base_uri": "https://localhost:8080/"
    },
    "executionInfo": {
     "elapsed": 482,
     "status": "ok",
     "timestamp": 1724629590262,
     "user": {
      "displayName": "Kiehyun Park",
      "userId": "11752785994579589476"
     },
     "user_tz": -540
    },
    "id": "o_wCW1yI5xvJ",
    "outputId": "c05b48ec-8cff-4e80-c570-3fec1c0e2e2f"
   },
   "outputs": [
    {
     "name": "stdout",
     "output_type": "stream",
     "text": [
      "x 1 micrometer\n",
      "(a) x.to(u.km) : 1e-09 kilometer\n",
      "(a) x.to(u.km): 1e-09 km\n",
      "(b) x.to(u.mm): 0.001 mm\n",
      "(c) x.to(u.yd): 1.0936132983377078e-06 yd\n"
     ]
    }
   ],
   "source": [
    "from pint import UnitRegistry\n",
    "u = UnitRegistry()\n",
    "x = 1 * u.um\n",
    "print(\"x\", x)\n",
    "\n",
    "print(\"(a) x.to(u.km) :\", x.to(u.km))\n",
    "print(f\"(a) x.to(u.km): {x.to(u.km).magnitude:} {x.to(u.km).units:~P}\")\n",
    "print(f\"(b) x.to(u.mm): {x.to(u.mm).magnitude:} {x.to(u.mm).units:~P}\")\n",
    "print(f\"(c) x.to(u.yd): {x.to(u.yd).magnitude:} {x.to(u.yd).units:~P}\")"
   ]
  },
  {
   "cell_type": "code",
   "execution_count": null,
   "metadata": {
    "colab": {
     "base_uri": "https://localhost:8080/"
    },
    "executionInfo": {
     "elapsed": 7,
     "status": "ok",
     "timestamp": 1724629590262,
     "user": {
      "displayName": "Kiehyun Park",
      "userId": "11752785994579589476"
     },
     "user_tz": -540
    },
    "id": "_8zXvqX9SG1d",
    "outputId": "042d3901-89c0-4bfa-a2b1-fee01afab7ed"
   },
   "outputs": [
    {
     "name": "stdout",
     "output_type": "stream",
     "text": [
      "x 1.0 um\n",
      "x.to(u.m) 1e-06 m\n",
      "x.si 1e-06 m\n",
      "x.cgs 9.999999999999999e-05 cm\n"
     ]
    }
   ],
   "source": [
    "from astropy import units as u\n",
    "\n",
    "x = 1 * u.um\n",
    "print(\"x\", x)\n",
    "\n",
    "print(\"x.to(u.m)\", x.to(u.m))\n",
    "print(\"x.si\", x.si)\n",
    "print(\"x.cgs\", x.cgs)"
   ]
  },
  {
   "cell_type": "markdown",
   "metadata": {
    "id": "KD6Wic7bQS_n"
   },
   "source": [
    "###(예제2)\n",
    "\n",
    "일반물리학. 1장. 연습문제"
   ]
  },
  {
   "cell_type": "markdown",
   "metadata": {
    "id": "-RxyF-faR9S6"
   },
   "source": [
    "![제목 없음-1.png](data:image/png;base64,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)"
   ]
  },
  {
   "cell_type": "code",
   "execution_count": null,
   "metadata": {
    "colab": {
     "base_uri": "https://localhost:8080/"
    },
    "executionInfo": {
     "elapsed": 441,
     "status": "ok",
     "timestamp": 1724629590700,
     "user": {
      "displayName": "Kiehyun Park",
      "userId": "11752785994579589476"
     },
     "user_tz": -540
    },
    "id": "NJFfbTZdSIXo",
    "outputId": "886a6026-2c67-4439-a1ca-4e45f7617f69"
   },
   "outputs": [
    {
     "name": "stdout",
     "output_type": "stream",
     "text": [
      "x 1.0 mile / hour\n",
      "x.to(u.m/u.s): 0.44704000000000005 meter / second\n",
      "x.to(u.m/u.s).magnitude: 0.44704000000000005\n",
      "x.to(u.m/u.s).units: meter / second\n",
      "x.to(u.m/u.s): 0.44704 m/s\n"
     ]
    }
   ],
   "source": [
    "from pint import UnitRegistry\n",
    "u = UnitRegistry()\n",
    "x = 1.0 * u.mile / (1.0 * u.hour)  #분모의 단위를 괄호 안에 넣어야 함에 유의할 것.\n",
    "print(\"x\", x)\n",
    "\n",
    "print(\"x.to(u.m/u.s):\", x.to(u.m/u.s))\n",
    "print(f\"x.to(u.m/u.s).magnitude: {x.to(u.m/u.s).magnitude}\")\n",
    "print(f\"x.to(u.m/u.s).units: {x.to(u.m/u.s).units}\")\n",
    "print(f\"x.to(u.m/u.s): {x.to(u.m/u.s).magnitude:.05f} {x.to(u.m/u.s).units:~P}\")"
   ]
  },
  {
   "cell_type": "code",
   "execution_count": null,
   "metadata": {
    "colab": {
     "base_uri": "https://localhost:8080/"
    },
    "executionInfo": {
     "elapsed": 839,
     "status": "ok",
     "timestamp": 1724650785172,
     "user": {
      "displayName": "Kiehyun Park",
      "userId": "11752785994579589476"
     },
     "user_tz": -540
    },
    "id": "TIYmu3TX1bW-",
    "outputId": "ebc49d9c-ba04-4f35-f1c2-ba9edd553a51"
   },
   "outputs": [
    {
     "name": "stdout",
     "output_type": "stream",
     "text": [
      "a 1.0 mi / h\n",
      "a.to(u.m/u.s) 0.44704 m / s\n",
      "a.si 0.44704 m / s\n",
      "a.cgs 44.704 cm / s\n"
     ]
    }
   ],
   "source": [
    "from astropy import units as u\n",
    "\n",
    "a = 1 * u.imperial.mi / (1 * u.hr)\n",
    "print(\"a\", a)\n",
    "print(\"a.to(u.m/u.s)\", a.to(u.m/u.s))\n",
    "print(\"a.si\", a.si)\n",
    "print(\"a.cgs\", a.cgs)"
   ]
  },
  {
   "cell_type": "markdown",
   "metadata": {
    "id": "7QorabCngb5h"
   },
   "source": [
    "###(과제)\n",
    "\n",
    "astropy.units과 astropy.constants를 이용하여 태양의 표면 중력을 계산하시요."
   ]
  },
  {
   "cell_type": "code",
   "execution_count": null,
   "metadata": {
    "id": "UB4ziZEYTcV7"
   },
   "outputs": [],
   "source": [
    "# prompt: astropy.units과 astropy.constants를 이용하여 태양의 표면 중력을 계산하시요.\n",
    "\n",
    "# 태양의 질량\n",
    "Msun = const.M_sun\n",
    "\n",
    "# 태양의 반지름\n",
    "Rsun = const.R_sun\n",
    "\n",
    "# 중력상수\n",
    "G = const.G\n",
    "\n",
    "# 표면중력 계산\n",
    "gsun = G * Msun / Rsun**2\n",
    "\n",
    "print(f\"태양의 표면 중력: {gsun.to(u.m / u.s**2):.3f}\")\n"
   ]
  },
  {
   "cell_type": "code",
   "execution_count": null,
   "metadata": {
    "colab": {
     "base_uri": "https://localhost:8080/"
    },
    "executionInfo": {
     "elapsed": 9,
     "status": "ok",
     "timestamp": 1724629591192,
     "user": {
      "displayName": "Kiehyun Park",
      "userId": "11752785994579589476"
     },
     "user_tz": -540
    },
    "id": "y686nTh1gYWh",
    "outputId": "a3fb386f-02c2-4981-c2e5-c50a6b703d8f"
   },
   "outputs": [
    {
     "name": "stdout",
     "output_type": "stream",
     "text": [
      "태양의 표면 중력: 274.20 m / s2\n"
     ]
    }
   ],
   "source": [
    "#(과제) 이곳에 코딩을 완성하여 제출하시오.\n",
    "\n",
    "\n",
    "\n",
    "\n",
    "\n",
    "\n",
    "print(f\"태양의 표면 중력: {surface_gravity:.2f}\")"
   ]
  },
  {
   "cell_type": "markdown",
   "metadata": {
    "id": "QZzFLXDMbDW1"
   },
   "source": [
    "###(과제)\n",
    "\n",
    "astropy.unit과 astropy.constant를 이용하여 다음을 계산하시오.\n",
    "\n",
    "한 외계행성이 중심별 주위를 공전하고 있습니다. 이 행성의 궤도 반지름이 1.5 AU이고, 중심별의 질량이 태양 질량의 1.2배일 때, 이 행성의 공전 주기를 지구 년으로 계산하세요. (힌트: 케플러의 제3법칙을 사용하세요)"
   ]
  },
  {
   "cell_type": "code",
   "execution_count": null,
   "metadata": {
    "colab": {
     "base_uri": "https://localhost:8080/"
    },
    "executionInfo": {
     "elapsed": 6,
     "status": "ok",
     "timestamp": 1724629591192,
     "user": {
      "displayName": "Kiehyun Park",
      "userId": "11752785994579589476"
     },
     "user_tz": -540
    },
    "id": "_GOpS-5hbD3L",
    "outputId": "d82d88f7-bd65-43a9-ce47-33737c2ff1a7"
   },
   "outputs": [
    {
     "name": "stdout",
     "output_type": "stream",
     "text": [
      "외계행성의 공전 주기: 1.68 yr\n"
     ]
    }
   ],
   "source": [
    "# prompt: astropy.unit과 astropy.constant를 이용하여 다음을 계산하시오.\n",
    "# 한 외계행성이 중심별 주위를 공전하고 있습니다. 이 행성의 궤도 반지름이 1.5 AU이고, 중심별의 질량이 태양 질량의 1.2배일 때, 이 행성의 공전 주기를 지구 년으로 계산하세요. (힌트: 케플러의 제3법칙을 사용하세요)\n",
    "\n",
    "\n",
    "\n",
    "\n",
    "\n",
    "\n",
    "print(f\"외계행성의 공전 주기: {period:.2f}\")\n"
   ]
  }
 ],
 "metadata": {
  "colab": {
   "provenance": [
    {
     "file_id": "1k5aNb1CC3XzAH-KkC9m5oxBtsgAf6BTu",
     "timestamp": 1599706115563
    }
   ],
   "toc_visible": true
  },
  "kernelspec": {
   "display_name": "astro_Python_env",
   "language": "python",
   "name": "python3"
  },
  "language_info": {
   "name": "python",
   "version": "3.12.7"
  }
 },
 "nbformat": 4,
 "nbformat_minor": 0
}
