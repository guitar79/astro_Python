{
 "cells": [
  {
   "attachments": {},
   "cell_type": "markdown",
   "metadata": {},
   "source": [
    "# modify fits header"
   ]
  },
  {
   "attachments": {},
   "cell_type": "markdown",
   "metadata": {},
   "source": [
    "## 필요한 모듈\n",
    "\n",
    "이 프로젝트를 위해서는 아래의 모듈이 필요하다. \n",
    "\n",
    "> numpy, pandas, matplotlib, astropy, version_information"
   ]
  },
  {
   "attachments": {},
   "cell_type": "markdown",
   "metadata": {},
   "source": [
    "### 모듈 설치\n",
    "\n",
    "1. 콘솔 창에서 모듈을 설치할 때는 아래와 같은 형식으로 입력하면 된다.\n",
    "\n",
    ">pip install module_name==version\n",
    "\n",
    ">conda install module_name==version\n",
    "\n",
    "2. 주피터 노트북(코랩 포함)에 설치 할 때는 아래의 셀을 실행해서 실행되지 않은 모듈을 설치할 수 있다. (pip 기준) 만약 아나콘다 환경을 사용한다면 7행을 콘다 설치 명령어에 맞게 수정하면 된다."
   ]
  },
  {
   "cell_type": "code",
   "execution_count": null,
   "metadata": {},
   "outputs": [],
   "source": [
    "#import sys\n",
    "#!pip install photutils==1.6"
   ]
  },
  {
   "cell_type": "code",
   "execution_count": null,
   "metadata": {},
   "outputs": [],
   "source": [
    "import importlib, sys, subprocess\n",
    "packages = \"numpy, pandas, matplotlib, scipy, astropy, photutils, ccdproc, ysfitsutilpy, ysphotutilpy, astroscrappy, version_information\" # required modules\n",
    "pkgs = packages.split(\", \")\n",
    "for pkg in pkgs :\n",
    "    if not importlib.util.find_spec(pkg):\n",
    "        #print(f\"**** module {pkg} is not installed\")\n",
    "        subprocess.check_call([sys.executable, '-m', 'pip', 'install', pkg, '-q'])\n",
    "    else: \n",
    "        print(f\"**** module {pkg} is installed\")\n",
    "\n",
    "%load_ext version_information\n",
    "import time\n",
    "now = time.strftime(\"%Y-%m-%d %H:%M:%S (%Z = GMT%z)\")\n",
    "print(f\"This notebook was generated at {now} \")\n",
    "\n",
    "vv = %version_information {packages}\n",
    "for i, pkg in enumerate(vv.packages):\n",
    "    print(f\"{i} {pkg[0]:10s} {pkg[1]:s}\")"
   ]
  },
  {
   "attachments": {},
   "cell_type": "markdown",
   "metadata": {},
   "source": [
    "### import modules"
   ]
  },
  {
   "cell_type": "code",
   "execution_count": null,
   "metadata": {},
   "outputs": [],
   "source": [
    "from glob import glob\n",
    "from pathlib import Path, PosixPath, WindowsPath\n",
    "import os\n",
    "from datetime import datetime\n",
    "from astropy.io import fits\n",
    "import shutil \n",
    "\n",
    "import ysfitsutilpy as yfu\n",
    "import ysphotutilpy as ypu\n",
    "# import ysvisutilpy as yvu\n",
    "\n",
    "import _Python_utilities\n",
    "import _astro_utilities"
   ]
  },
  {
   "cell_type": "code",
   "execution_count": null,
   "metadata": {},
   "outputs": [],
   "source": [
    "#%%\n",
    "#######################################################\n",
    "# read all files in base directory for processing\n",
    "BASEDIR = Path(r\"r:\\CCD_obs\")\n",
    "BASEDIR = Path(\"/mnt/Rdata/OBS_data\") \n",
    "#BASEDIR = Path(\"/mnt/OBS_data\") \n",
    "DOINGDIR = Path(BASEDIR/ _astro_utilities.CCD_NEW_dir)\n",
    "\n",
    "#DOINGDIR = Path(BASEDIR/ _astro_utilities.CCD_obs_raw_dir)\n",
    "\n",
    "DOINGDIRs = sorted(_Python_utilities.getFullnameListOfallsubDirs(DOINGDIR))\n",
    "#print (\"DOINGDIRs: \", format(DOINGDIRs))\n",
    "print (\"len(DOINGDIRs): \", format(len(DOINGDIRs)))\n",
    "#######################################################\n",
    "            "
   ]
  },
  {
   "cell_type": "code",
   "execution_count": null,
   "metadata": {},
   "outputs": [],
   "source": [
    "#%%\n",
    "for DOINGDIR in DOINGDIRs[:1] :\n",
    "    DOINGDIR = Path(DOINGDIR)\n",
    "    print(\"DOINGDIR\", DOINGDIR)\n",
    "    summary = yfu.make_summary(DOINGDIR/\"*.fit*\",)\n",
    "    if summary is not None : \n",
    "        print(\"summary: \", summary)\n",
    "        print(\"len(summary)\", len(summary))"
   ]
  },
  {
   "cell_type": "code",
   "execution_count": null,
   "metadata": {},
   "outputs": [],
   "source": [
    "for _, row in summary.iterrows():\n",
    "    # 파일명 출력\n",
    "    print (row[\"file\"])\n",
    "    fpath = Path(row[\"file\"])\n",
    "    try:\n",
    "        hdul = _astro_utilities.KevinFitsUpdater(fpath)\n",
    "        print(\"hdul: \", hdul)\n",
    "\n",
    "    except Exception as err :\n",
    "        print(\"X\"*60)\n",
    "        #_Python_utilities.write_log(err_log_file, err)\n",
    "        print(err)"
   ]
  },
  {
   "cell_type": "code",
   "execution_count": null,
   "metadata": {},
   "outputs": [],
   "source": [
    "print(str(DOINGDIR))\n",
    "print(str(BASEDIR/_astro_utilities.CCD_NEWUP_dir / DOINGDIR.stem))\n",
    "#DOINGDIR.stem\n",
    "\n",
    "shutil.move(str(DOINGDIR), str(BASEDIR/_astro_utilities.CCD_NEWUP_dir / DOINGDIR.stem))\n",
    "print(str(DOINGDIR), str(BASEDIR/_astro_utilities.CCD_NEWUP_dir / DOINGDIR.stem))"
   ]
  },
  {
   "cell_type": "code",
   "execution_count": null,
   "metadata": {},
   "outputs": [],
   "source": [
    "\n",
    "#shutil.move(str(new_fpath), str(duplicate_fpath))"
   ]
  }
 ],
 "metadata": {
  "kernelspec": {
   "display_name": "astro_Python_win_env",
   "language": "python",
   "name": "python3"
  },
  "language_info": {
   "codemirror_mode": {
    "name": "ipython",
    "version": 3
   },
   "file_extension": ".py",
   "mimetype": "text/x-python",
   "name": "python",
   "nbconvert_exporter": "python",
   "pygments_lexer": "ipython3",
   "version": "3.11.0"
  },
  "orig_nbformat": 4,
  "vscode": {
   "interpreter": {
    "hash": "f27b0b3eb3640c3067b16d93711c1ceb3c5feab38e4cdf05ca7965a7505ad2c0"
   }
  }
 },
 "nbformat": 4,
 "nbformat_minor": 2
}
