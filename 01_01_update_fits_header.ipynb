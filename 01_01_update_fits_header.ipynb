{
 "cells": [
  {
   "attachments": {},
   "cell_type": "markdown",
   "metadata": {},
   "source": [
    "# Update fits header"
   ]
  },
  {
   "attachments": {},
   "cell_type": "markdown",
   "metadata": {},
   "source": [
    "## 모듈 설치 및 버전 확인\n",
    "\n",
    "아래 셀을 실행하면 이 노트북을 실행하는데 필요한 모듈을 설치하고 파이썬 및 관련 모듈의 버전을 확인할 수 있습니다."
   ]
  },
  {
   "cell_type": "code",
   "execution_count": 1,
   "metadata": {},
   "outputs": [],
   "source": [
    "#!pip install photutils==1.12"
   ]
  },
  {
   "cell_type": "code",
   "execution_count": 2,
   "metadata": {},
   "outputs": [
    {
     "name": "stdout",
     "output_type": "stream",
     "text": [
      "This notebook was generated at 2024-12-09 21:34:46 (KST = GMT+0900) \n",
      "0 Python     3.12.7 64bit [GCC 11.2.0]\n",
      "1 IPython    8.27.0\n",
      "2 OS         Linux 6.8.0 49 generic x86_64 with glibc2.39\n",
      "3 ysfitsutilpy 0.2\n",
      "4 version_information 1.0.4\n"
     ]
    }
   ],
   "source": [
    "import importlib, sys, subprocess\n",
    "packages = \"ysfitsutilpy, version_information\" # required modules\n",
    "pkgs = packages.split(\", \")\n",
    "for pkg in pkgs :\n",
    "    if not importlib.util.find_spec(pkg):\n",
    "        # print(f\"**** module {pkg} is not installed\")\n",
    "        subprocess.check_call([sys.executable, '-m', 'pip', 'install', pkg, '-q'])\n",
    "    else: \n",
    "        # print(f\"**** module {pkg} is installed\")\n",
    "        pass\n",
    "\n",
    "%load_ext version_information\n",
    "import time\n",
    "now = time.strftime(\"%Y-%m-%d %H:%M:%S (%Z = GMT%z)\")\n",
    "print(f\"This notebook was generated at {now} \")\n",
    "\n",
    "vv = %version_information {packages}\n",
    "for i, pkg in enumerate(vv.packages):\n",
    "    print(f\"{i} {pkg[0]:10s} {pkg[1]:s}\")"
   ]
  },
  {
   "attachments": {},
   "cell_type": "markdown",
   "metadata": {},
   "source": [
    "### import modules"
   ]
  },
  {
   "cell_type": "code",
   "execution_count": 3,
   "metadata": {},
   "outputs": [
    {
     "name": "stdout",
     "output_type": "stream",
     "text": [
      "\"Important:  Gaia archive will be intermittently unavailable due to scheduled maintenance on 10-12-2024 from 08:00 to 10:00 (CET)\"\n"
     ]
    }
   ],
   "source": [
    "from pathlib import Path\n",
    "import shutil\n",
    "import ysfitsutilpy as yfu\n",
    "\n",
    "import _Python_utilities\n",
    "import _astro_utilities\n",
    "\n",
    "import warnings\n",
    "warnings.filterwarnings('ignore')"
   ]
  },
  {
   "cell_type": "code",
   "execution_count": 4,
   "metadata": {},
   "outputs": [
    {
     "name": "stdout",
     "output_type": "stream",
     "text": [
      "DOINGDIRs:  ['/mnt/Rdata/ASTRO_data/A1_CCD_new_files/AH-CAM_LIGHT_-_2021-10-27_-_GSON300_QSI683ws_-_1bin/']\n",
      "len(DOINGDIRs):  1\n"
     ]
    }
   ],
   "source": [
    "#%%\n",
    "#######################################################\n",
    "# Set directory variables.\n",
    "#######################################################\n",
    "\n",
    "# BASEDIR = Path(r\"r:\\OBS_data\")   # for windows\n",
    "BASEDIR = Path(\"/mnt/Rdata/ASTRO_data\")  # for ubuntu\n",
    "# BASEDIR = Path(\"/Volumes/OBS_data\")  # for mac OS\n",
    " \n",
    "DOINGDIR = BASEDIR/ _astro_utilities.CCD_NEW_dir\n",
    "\n",
    "DOINGDIRs = sorted(_Python_utilities.getFullnameListOfallsubDirs(DOINGDIR))\n",
    "print (\"DOINGDIRs: \", format(DOINGDIRs))\n",
    "print (\"len(DOINGDIRs): \", format(len(DOINGDIRs)))\n",
    "#######################################################            "
   ]
  },
  {
   "cell_type": "code",
   "execution_count": 5,
   "metadata": {},
   "outputs": [
    {
     "name": "stdout",
     "output_type": "stream",
     "text": [
      "All 102 keywords (guessed from /mnt/Rdata/ASTRO_data/A1_CCD_new_files/AH-CAM_LIGHT_-_2021-10-27_-_GSON300_QSI683ws_-_1bin/AH-CAM_LIGHT_G_2021-10-27-11-11-20_90sec_GSON300_QSI683ws_-20c_1bin.fit) will be loaded.\n"
     ]
    }
   ],
   "source": [
    "for DOINGDIR in DOINGDIRs[:] :\n",
    "    DOINGDIR = Path(DOINGDIR)\n",
    "    # print(\"DOINGDIR\", DOINGDIR)\n",
    "    # print(f\"Starting: {str(DOINGDIR.parts[-1])}\")\n",
    "    try: \n",
    "        summary = yfu.make_summary(DOINGDIR/\"*.fit*\",)\n",
    "        if summary is not None : \n",
    "            # print(\"summary: \", summary)\n",
    "            # print(\"len(summary)\", len(summary))\n",
    "            pass\n",
    "\n",
    "            for _, row in summary.iterrows():\n",
    "                # 파일명 출력\n",
    "                # print (row[\"file\"])\n",
    "                fpath = Path(row[\"file\"])\n",
    "                try:\n",
    "                    hdul = _astro_utilities.KevinFitsUpdater(fpath,\n",
    "                                                    # checkKEYs = [\"OBJECT\", \"TELESCOP\", \"OPTIC\", \"CCDNAME\", 'FILTER',\n",
    "                                                    #             #\"GAIN\", \"EGAIN\", \"RDNOISE\", \n",
    "                                                    #             \"PIXSCALE\", \"FOCALLEN\", \"APATURE\", \"CCD-TEMP\",\n",
    "                                                    #             'XPIXSZ', 'YPIXSZ',\n",
    "                                                    #             \"XBINNING\", \"YBINNING\", \"FLIPSTAT\", \"EXPTIME\", \"EXPOSURE\"],\n",
    "                                                    # imgtype_update=True,\n",
    "                                                    # fil_update=False,\n",
    "                                                    verbose = False, \n",
    "                                                    )\n",
    "                    # print(\"hdul: \", hdul)\n",
    "\n",
    "                except Exception as err :\n",
    "                    print(\"X\"*60)\n",
    "                    print(err)\n",
    "                    pass\n",
    "                 \n",
    "        shutil.move(str(DOINGDIR), str(BASEDIR/_astro_utilities.CCD_NEWUP_dir / DOINGDIR.stem))\n",
    "        # print(str(DOINGDIR), str(BASEDIR/_astro_utilities.CCD_NEWUP_dir / DOINGDIR.stem))\n",
    "    except Exception as err :\n",
    "        print(\"X\"*60)\n",
    "        print(err)\n",
    "        pass"
   ]
  }
 ],
 "metadata": {
  "kernelspec": {
   "display_name": "astro_Python_env",
   "language": "python",
   "name": "python3"
  },
  "language_info": {
   "codemirror_mode": {
    "name": "ipython",
    "version": 3
   },
   "file_extension": ".py",
   "mimetype": "text/x-python",
   "name": "python",
   "nbconvert_exporter": "python",
   "pygments_lexer": "ipython3",
   "version": "3.12.3"
  },
  "orig_nbformat": 4
 },
 "nbformat": 4,
 "nbformat_minor": 2
}
