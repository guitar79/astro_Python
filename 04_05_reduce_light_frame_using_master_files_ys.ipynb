{
 "cells": [
  {
   "attachments": {},
   "cell_type": "markdown",
   "metadata": {},
   "source": [
    "# combine master files"
   ]
  },
  {
   "attachments": {},
   "cell_type": "markdown",
   "metadata": {},
   "source": [
    "## 필요한 모듈\n",
    "\n",
    "이 프로젝트를 위해서는 아래의 모듈이 필요하다. \n",
    "\n",
    "> numpy, pandas, matplotlib, astropy, version_information"
   ]
  },
  {
   "attachments": {},
   "cell_type": "markdown",
   "metadata": {},
   "source": [
    "### 모듈 설치\n",
    "\n",
    "1. 콘솔 창에서 모듈을 설치할 때는 아래와 같은 형식으로 입력하면 된다.\n",
    "\n",
    ">pip install module_name==version\n",
    "\n",
    ">conda install module_name==version\n",
    "\n",
    "2. 주피터 노트북(코랩 포함)에 설치 할 때는 아래의 셀을 실행해서 실행되지 않은 모듈을 설치할 수 있다. (pip 기준) 만약 아나콘다 환경을 사용한다면 7행을 콘다 설치 명령어에 맞게 수정하면 된다."
   ]
  },
  {
   "cell_type": "code",
   "execution_count": 11,
   "metadata": {},
   "outputs": [
    {
     "name": "stdout",
     "output_type": "stream",
     "text": [
      "sys.executable: /home/guitar79/anaconda3/envs/astro_Python_env/bin/python\n",
      "******** numpy module is already installed.\n",
      "******** pandas module is already installed.\n",
      "******** matplotlib module is already installed.\n",
      "******** scipy module is already installed.\n",
      "******** astropy module is already installed.\n",
      "******** photutils module is already installed.\n",
      "******** ccdproc module is already installed.\n",
      "******** version_information module is already installed.\n",
      "The version_information extension is already loaded. To reload it, use:\n",
      "  %reload_ext version_information\n",
      "This notebook was generated at 2024-09-14 13:34:18 (KST = GMT+0900) \n",
      "0 Python     3.12.3 64bit [GCC 11.2.0]\n",
      "1 IPython    8.25.0\n",
      "2 OS         Linux 5.15.0 119 generic x86_64 with glibc2.31\n",
      "3 numpy      1.26.4\n",
      "4 pandas     2.2.2\n",
      "5 matplotlib 3.8.4\n",
      "6 scipy      1.13.1\n",
      "7 astropy    6.1.0\n",
      "8 photutils  1.12.0\n",
      "9 ccdproc    2.4.2\n",
      "10 version_information 1.0.4\n"
     ]
    }
   ],
   "source": [
    "# Install a pip package in the current Jupyter kernel\n",
    "import importlib, sys, subprocess\n",
    "print(f\"sys.executable: {sys.executable}\")\n",
    "#!{sys.executable} -m pip install numpy==1.22 pillow==8.4 matplotlib==3.2\n",
    "\n",
    "packages = \"numpy, pandas, matplotlib, scipy, astropy, photutils, ccdproc, version_information\" # required modules\n",
    "pkgs = packages.split(\", \")\n",
    "for pkg in pkgs :\n",
    "    if not importlib.util.find_spec(pkg):\n",
    "        subprocess.check_call([sys.executable, '-m', 'pip', 'install', pkg, '-q'])\n",
    "        print(f\"**** {pkg} module is now installed.\")\n",
    "    else: \n",
    "        print(f\"******** {pkg} module is already installed.\")\n",
    "%load_ext version_information\n",
    "import time\n",
    "now = time.strftime(\"%Y-%m-%d %H:%M:%S (%Z = GMT%z)\")\n",
    "print(f\"This notebook was generated at {now} \")\n",
    "\n",
    "vv = %version_information {packages}\n",
    "for i, pkg in enumerate(vv.packages):\n",
    "    print(f\"{i} {pkg[0]:10s} {pkg[1]:s}\")\n"
   ]
  },
  {
   "attachments": {},
   "cell_type": "markdown",
   "metadata": {},
   "source": [
    "### 모듈 버전 확인\n",
    "\n",
    "아래 셀을 실행하면 이 노트북을 실행한 파이썬 및 관련 모듈의 버전을 확인할 수 있다."
   ]
  },
  {
   "attachments": {},
   "cell_type": "markdown",
   "metadata": {},
   "source": [
    "### import modules"
   ]
  },
  {
   "cell_type": "code",
   "execution_count": 12,
   "metadata": {},
   "outputs": [],
   "source": [
    "#%%\n",
    "from glob import glob\n",
    "from pathlib import Path\n",
    "import os\n",
    "import shutil\n",
    "import numpy as np\n",
    "import astropy.units as u\n",
    "from astropy.stats import sigma_clip\n",
    "from ccdproc import combine, ccd_process, CCDData\n",
    "\n",
    "import ysfitsutilpy as yfu\n",
    "#import ysphotutilpy as ypu\n",
    "#import ysvisutilpy as yvu\n",
    "\n",
    "import _astro_utilities\n",
    "import _Python_utilities"
   ]
  },
  {
   "cell_type": "code",
   "execution_count": 13,
   "metadata": {},
   "outputs": [
    {
     "name": "stdout",
     "output_type": "stream",
     "text": [
      "DOINGDIRs:  ['/mnt/Rdata/OBS_data/2016-Variable/-_-_-_2016-_-_RiLA600_STX-16803_-_2bin/CAL-BDF_-_-_2016-09-05_-_RiLA600_STX-16803_-_2bin/', '/mnt/Rdata/OBS_data/2016-Variable/-_-_-_2016-_-_RiLA600_STX-16803_-_2bin/CM-CYG_LIGHT_-_2016-10-14_-_RiLA600_STX-16803_-_2bin/', '/mnt/Rdata/OBS_data/2016-Variable/-_-_-_2016-_-_RiLA600_STX-16803_-_2bin/CM-CYG_LIGHT_-_2016-10-18_-_RiLA600_STX-16803_-_2bin/', '/mnt/Rdata/OBS_data/2016-Variable/-_-_-_2016-_-_RiLA600_STX-16803_-_2bin/CY-AQR_LIGHT_-_2016-09-05_-_RiLA600_STX-16803_-_2bin/', '/mnt/Rdata/OBS_data/2016-Variable/-_-_-_2016-_-_RiLA600_STX-16803_-_2bin/CY-AQR_LIGHT_-_2016-09-22_-_RiLA600_STX-16803_-_2bin/', '/mnt/Rdata/OBS_data/2016-Variable/-_-_-_2016-_-_RiLA600_STX-16803_-_2bin/CY-AQR_LIGHT_-_2016-10-03_-_RiLA600_STX-16803_-_2bin/', '/mnt/Rdata/OBS_data/2016-Variable/-_-_-_2016-_-_RiLA600_STX-16803_-_2bin/CY-AQR_LIGHT_-_2016-10-13_-_RiLA600_STX-16803_-_2bin/', '/mnt/Rdata/OBS_data/2016-Variable/-_-_-_2016-_-_RiLA600_STX-16803_-_2bin/CY-AQR_LIGHT_-_2016-11-01_-_RiLA600_STX-16803_-_2bin/', '/mnt/Rdata/OBS_data/2016-Variable/-_-_-_2016-_-_RiLA600_STX-16803_-_2bin/TT-ARI_LIGHT_-_2016-09-05_-_RiLA600_STX-16803_-_2bin/', '/mnt/Rdata/OBS_data/2016-Variable/-_-_-_2016-_-_RiLA600_STX-16803_-_2bin/TT-ARI_LIGHT_-_2016-09-18_-_RiLA600_STX-16803_-_2bin/', '/mnt/Rdata/OBS_data/2016-Variable/-_-_-_2016-_-_RiLA600_STX-16803_-_2bin/TT-ARI_LIGHT_-_2016-09-19_-_RiLA600_STX-16803_-_2bin/', '/mnt/Rdata/OBS_data/2016-Variable/-_-_-_2016-_-_RiLA600_STX-16803_-_2bin/TT-ARI_LIGHT_-_2016-09-20_-_RiLA600_STX-16803_-_2bin/', '/mnt/Rdata/OBS_data/2016-Variable/-_-_-_2016-_-_RiLA600_STX-16803_-_2bin/TT-ARI_LIGHT_-_2016-09-22_-_RiLA600_STX-16803_-_2bin/', '/mnt/Rdata/OBS_data/2016-Variable/-_-_-_2016-_-_RiLA600_STX-16803_-_2bin/TT-ARI_LIGHT_-_2016-10-18_-_RiLA600_STX-16803_-_2bin/', '/mnt/Rdata/OBS_data/2016-Variable/-_-_-_2016-_-_RiLA600_STX-16803_-_2bin/TT-ARI_LIGHT_-_2016-11-23_-_RiLA600_STX-16803_-_2bin/', '/mnt/Rdata/OBS_data/2016-Variable/-_-_-_2016-_-_RiLA600_STX-16803_-_2bin/TT-ARI_LIGHT_-_2016-11-24_-_RiLA600_STX-16803_-_2bin/', '/mnt/Rdata/OBS_data/2016-Variable/-_-_-_2016-_-_RiLA600_STX-16803_-_2bin/TT-ARI_LIGHT_-_2016-11-25_-_RiLA600_STX-16803_-_2bin/', '/mnt/Rdata/OBS_data/2016-Variable/-_-_-_2016-_-_RiLA600_STX-16803_-_2bin/TT-ARI_LIGHT_-_2016-11-28_-_RiLA600_STX-16803_-_2bin/', '/mnt/Rdata/OBS_data/2016-Variable/-_-_-_2016-_-_RiLA600_STX-16803_-_2bin/TT-ARI_LIGHT_-_2016-11-29_-_RiLA600_STX-16803_-_2bin/', '/mnt/Rdata/OBS_data/2016-Variable/-_-_-_2016-_-_RiLA600_STX-16803_-_2bin/TT-ARI_LIGHT_-_2016-12-01_-_RiLA600_STX-16803_-_2bin/', '/mnt/Rdata/OBS_data/2016-Variable/-_-_-_2016-_-_RiLA600_STX-16803_-_2bin/TT-ARI_LIGHT_-_2016-12-02_-_RiLA600_STX-16803_-_2bin/', '/mnt/Rdata/OBS_data/2016-Variable/-_-_-_2016-_-_RiLA600_STX-16803_-_2bin/TT-ARI_LIGHT_-_2016-12-06_-_RiLA600_STX-16803_-_2bin/', '/mnt/Rdata/OBS_data/2016-Variable/-_-_-_2016-_-_RiLA600_STX-16803_-_2bin/TT-ARI_LIGHT_-_2016-12-07_-_RiLA600_STX-16803_-_2bin/', '/mnt/Rdata/OBS_data/2016-Variable/-_-_-_2016-_-_RiLA600_STX-16803_-_2bin/TT-ARI_LIGHT_-_2016-12-09_-_RiLA600_STX-16803_-_2bin/', '/mnt/Rdata/OBS_data/2016-Variable/-_-_-_2016-_-_RiLA600_STX-16803_-_2bin/TT-ARI_LIGHT_-_2016-12-10_-_RiLA600_STX-16803_-_2bin/', '/mnt/Rdata/OBS_data/2016-Variable/-_-_-_2016-_-_RiLA600_STX-16803_-_2bin/TT-ARI_LIGHT_-_2016-12-11_-_RiLA600_STX-16803_-_2bin/', '/mnt/Rdata/OBS_data/2016-Variable/-_-_-_2016-_-_RiLA600_STX-16803_-_2bin/TT-ARI_LIGHT_-_2016-12-15_-_RiLA600_STX-16803_-_2bin/']\n",
      "len(DOINGDIRs):  27\n",
      "MASTERDIR:  /mnt/Rdata/OBS_data/2016-Variable/-_-_-_2016-_-_RiLA600_STX-16803_-_2bin/CAL-BDF_-_-_2016-09-05_-_RiLA600_STX-16803_-_2bin/master_files_ys\n",
      "DOINGDIRs:  ['/mnt/Rdata/OBS_data/2016-Variable/-_-_-_2016-_-_RiLA600_STX-16803_-_2bin/CM-CYG_LIGHT_-_2016-10-14_-_RiLA600_STX-16803_-_2bin/', '/mnt/Rdata/OBS_data/2016-Variable/-_-_-_2016-_-_RiLA600_STX-16803_-_2bin/CM-CYG_LIGHT_-_2016-10-18_-_RiLA600_STX-16803_-_2bin/', '/mnt/Rdata/OBS_data/2016-Variable/-_-_-_2016-_-_RiLA600_STX-16803_-_2bin/CY-AQR_LIGHT_-_2016-09-05_-_RiLA600_STX-16803_-_2bin/', '/mnt/Rdata/OBS_data/2016-Variable/-_-_-_2016-_-_RiLA600_STX-16803_-_2bin/CY-AQR_LIGHT_-_2016-09-22_-_RiLA600_STX-16803_-_2bin/', '/mnt/Rdata/OBS_data/2016-Variable/-_-_-_2016-_-_RiLA600_STX-16803_-_2bin/CY-AQR_LIGHT_-_2016-10-03_-_RiLA600_STX-16803_-_2bin/', '/mnt/Rdata/OBS_data/2016-Variable/-_-_-_2016-_-_RiLA600_STX-16803_-_2bin/CY-AQR_LIGHT_-_2016-10-13_-_RiLA600_STX-16803_-_2bin/', '/mnt/Rdata/OBS_data/2016-Variable/-_-_-_2016-_-_RiLA600_STX-16803_-_2bin/CY-AQR_LIGHT_-_2016-11-01_-_RiLA600_STX-16803_-_2bin/', '/mnt/Rdata/OBS_data/2016-Variable/-_-_-_2016-_-_RiLA600_STX-16803_-_2bin/TT-ARI_LIGHT_-_2016-09-05_-_RiLA600_STX-16803_-_2bin/', '/mnt/Rdata/OBS_data/2016-Variable/-_-_-_2016-_-_RiLA600_STX-16803_-_2bin/TT-ARI_LIGHT_-_2016-09-18_-_RiLA600_STX-16803_-_2bin/', '/mnt/Rdata/OBS_data/2016-Variable/-_-_-_2016-_-_RiLA600_STX-16803_-_2bin/TT-ARI_LIGHT_-_2016-09-19_-_RiLA600_STX-16803_-_2bin/', '/mnt/Rdata/OBS_data/2016-Variable/-_-_-_2016-_-_RiLA600_STX-16803_-_2bin/TT-ARI_LIGHT_-_2016-09-20_-_RiLA600_STX-16803_-_2bin/', '/mnt/Rdata/OBS_data/2016-Variable/-_-_-_2016-_-_RiLA600_STX-16803_-_2bin/TT-ARI_LIGHT_-_2016-09-22_-_RiLA600_STX-16803_-_2bin/', '/mnt/Rdata/OBS_data/2016-Variable/-_-_-_2016-_-_RiLA600_STX-16803_-_2bin/TT-ARI_LIGHT_-_2016-10-18_-_RiLA600_STX-16803_-_2bin/', '/mnt/Rdata/OBS_data/2016-Variable/-_-_-_2016-_-_RiLA600_STX-16803_-_2bin/TT-ARI_LIGHT_-_2016-11-23_-_RiLA600_STX-16803_-_2bin/', '/mnt/Rdata/OBS_data/2016-Variable/-_-_-_2016-_-_RiLA600_STX-16803_-_2bin/TT-ARI_LIGHT_-_2016-11-24_-_RiLA600_STX-16803_-_2bin/', '/mnt/Rdata/OBS_data/2016-Variable/-_-_-_2016-_-_RiLA600_STX-16803_-_2bin/TT-ARI_LIGHT_-_2016-11-25_-_RiLA600_STX-16803_-_2bin/', '/mnt/Rdata/OBS_data/2016-Variable/-_-_-_2016-_-_RiLA600_STX-16803_-_2bin/TT-ARI_LIGHT_-_2016-11-28_-_RiLA600_STX-16803_-_2bin/', '/mnt/Rdata/OBS_data/2016-Variable/-_-_-_2016-_-_RiLA600_STX-16803_-_2bin/TT-ARI_LIGHT_-_2016-11-29_-_RiLA600_STX-16803_-_2bin/', '/mnt/Rdata/OBS_data/2016-Variable/-_-_-_2016-_-_RiLA600_STX-16803_-_2bin/TT-ARI_LIGHT_-_2016-12-01_-_RiLA600_STX-16803_-_2bin/', '/mnt/Rdata/OBS_data/2016-Variable/-_-_-_2016-_-_RiLA600_STX-16803_-_2bin/TT-ARI_LIGHT_-_2016-12-02_-_RiLA600_STX-16803_-_2bin/', '/mnt/Rdata/OBS_data/2016-Variable/-_-_-_2016-_-_RiLA600_STX-16803_-_2bin/TT-ARI_LIGHT_-_2016-12-06_-_RiLA600_STX-16803_-_2bin/', '/mnt/Rdata/OBS_data/2016-Variable/-_-_-_2016-_-_RiLA600_STX-16803_-_2bin/TT-ARI_LIGHT_-_2016-12-07_-_RiLA600_STX-16803_-_2bin/', '/mnt/Rdata/OBS_data/2016-Variable/-_-_-_2016-_-_RiLA600_STX-16803_-_2bin/TT-ARI_LIGHT_-_2016-12-09_-_RiLA600_STX-16803_-_2bin/', '/mnt/Rdata/OBS_data/2016-Variable/-_-_-_2016-_-_RiLA600_STX-16803_-_2bin/TT-ARI_LIGHT_-_2016-12-10_-_RiLA600_STX-16803_-_2bin/', '/mnt/Rdata/OBS_data/2016-Variable/-_-_-_2016-_-_RiLA600_STX-16803_-_2bin/TT-ARI_LIGHT_-_2016-12-11_-_RiLA600_STX-16803_-_2bin/', '/mnt/Rdata/OBS_data/2016-Variable/-_-_-_2016-_-_RiLA600_STX-16803_-_2bin/TT-ARI_LIGHT_-_2016-12-15_-_RiLA600_STX-16803_-_2bin/']\n",
      "len(DOINGDIRs):  26\n",
      "DOINGDIRs:  ['/mnt/Rdata/OBS_data/2016-Variable/-_-_-_2016-_-_RiLA600_STX-16803_-_2bin/CM-CYG_LIGHT_-_2016-10-14_-_RiLA600_STX-16803_-_2bin/', '/mnt/Rdata/OBS_data/2016-Variable/-_-_-_2016-_-_RiLA600_STX-16803_-_2bin/CM-CYG_LIGHT_-_2016-10-18_-_RiLA600_STX-16803_-_2bin/', '/mnt/Rdata/OBS_data/2016-Variable/-_-_-_2016-_-_RiLA600_STX-16803_-_2bin/CY-AQR_LIGHT_-_2016-09-05_-_RiLA600_STX-16803_-_2bin/', '/mnt/Rdata/OBS_data/2016-Variable/-_-_-_2016-_-_RiLA600_STX-16803_-_2bin/CY-AQR_LIGHT_-_2016-09-22_-_RiLA600_STX-16803_-_2bin/', '/mnt/Rdata/OBS_data/2016-Variable/-_-_-_2016-_-_RiLA600_STX-16803_-_2bin/CY-AQR_LIGHT_-_2016-10-03_-_RiLA600_STX-16803_-_2bin/', '/mnt/Rdata/OBS_data/2016-Variable/-_-_-_2016-_-_RiLA600_STX-16803_-_2bin/CY-AQR_LIGHT_-_2016-10-13_-_RiLA600_STX-16803_-_2bin/', '/mnt/Rdata/OBS_data/2016-Variable/-_-_-_2016-_-_RiLA600_STX-16803_-_2bin/CY-AQR_LIGHT_-_2016-11-01_-_RiLA600_STX-16803_-_2bin/', '/mnt/Rdata/OBS_data/2016-Variable/-_-_-_2016-_-_RiLA600_STX-16803_-_2bin/TT-ARI_LIGHT_-_2016-09-05_-_RiLA600_STX-16803_-_2bin/', '/mnt/Rdata/OBS_data/2016-Variable/-_-_-_2016-_-_RiLA600_STX-16803_-_2bin/TT-ARI_LIGHT_-_2016-09-18_-_RiLA600_STX-16803_-_2bin/', '/mnt/Rdata/OBS_data/2016-Variable/-_-_-_2016-_-_RiLA600_STX-16803_-_2bin/TT-ARI_LIGHT_-_2016-09-19_-_RiLA600_STX-16803_-_2bin/', '/mnt/Rdata/OBS_data/2016-Variable/-_-_-_2016-_-_RiLA600_STX-16803_-_2bin/TT-ARI_LIGHT_-_2016-09-20_-_RiLA600_STX-16803_-_2bin/', '/mnt/Rdata/OBS_data/2016-Variable/-_-_-_2016-_-_RiLA600_STX-16803_-_2bin/TT-ARI_LIGHT_-_2016-09-22_-_RiLA600_STX-16803_-_2bin/', '/mnt/Rdata/OBS_data/2016-Variable/-_-_-_2016-_-_RiLA600_STX-16803_-_2bin/TT-ARI_LIGHT_-_2016-10-18_-_RiLA600_STX-16803_-_2bin/', '/mnt/Rdata/OBS_data/2016-Variable/-_-_-_2016-_-_RiLA600_STX-16803_-_2bin/TT-ARI_LIGHT_-_2016-11-23_-_RiLA600_STX-16803_-_2bin/', '/mnt/Rdata/OBS_data/2016-Variable/-_-_-_2016-_-_RiLA600_STX-16803_-_2bin/TT-ARI_LIGHT_-_2016-11-24_-_RiLA600_STX-16803_-_2bin/', '/mnt/Rdata/OBS_data/2016-Variable/-_-_-_2016-_-_RiLA600_STX-16803_-_2bin/TT-ARI_LIGHT_-_2016-11-25_-_RiLA600_STX-16803_-_2bin/', '/mnt/Rdata/OBS_data/2016-Variable/-_-_-_2016-_-_RiLA600_STX-16803_-_2bin/TT-ARI_LIGHT_-_2016-11-28_-_RiLA600_STX-16803_-_2bin/', '/mnt/Rdata/OBS_data/2016-Variable/-_-_-_2016-_-_RiLA600_STX-16803_-_2bin/TT-ARI_LIGHT_-_2016-11-29_-_RiLA600_STX-16803_-_2bin/', '/mnt/Rdata/OBS_data/2016-Variable/-_-_-_2016-_-_RiLA600_STX-16803_-_2bin/TT-ARI_LIGHT_-_2016-12-01_-_RiLA600_STX-16803_-_2bin/', '/mnt/Rdata/OBS_data/2016-Variable/-_-_-_2016-_-_RiLA600_STX-16803_-_2bin/TT-ARI_LIGHT_-_2016-12-02_-_RiLA600_STX-16803_-_2bin/', '/mnt/Rdata/OBS_data/2016-Variable/-_-_-_2016-_-_RiLA600_STX-16803_-_2bin/TT-ARI_LIGHT_-_2016-12-06_-_RiLA600_STX-16803_-_2bin/', '/mnt/Rdata/OBS_data/2016-Variable/-_-_-_2016-_-_RiLA600_STX-16803_-_2bin/TT-ARI_LIGHT_-_2016-12-07_-_RiLA600_STX-16803_-_2bin/', '/mnt/Rdata/OBS_data/2016-Variable/-_-_-_2016-_-_RiLA600_STX-16803_-_2bin/TT-ARI_LIGHT_-_2016-12-09_-_RiLA600_STX-16803_-_2bin/', '/mnt/Rdata/OBS_data/2016-Variable/-_-_-_2016-_-_RiLA600_STX-16803_-_2bin/TT-ARI_LIGHT_-_2016-12-10_-_RiLA600_STX-16803_-_2bin/', '/mnt/Rdata/OBS_data/2016-Variable/-_-_-_2016-_-_RiLA600_STX-16803_-_2bin/TT-ARI_LIGHT_-_2016-12-11_-_RiLA600_STX-16803_-_2bin/', '/mnt/Rdata/OBS_data/2016-Variable/-_-_-_2016-_-_RiLA600_STX-16803_-_2bin/TT-ARI_LIGHT_-_2016-12-15_-_RiLA600_STX-16803_-_2bin/']\n",
      "len(DOINGDIRs):  26\n"
     ]
    }
   ],
   "source": [
    "#%%\n",
    "#######################################################\n",
    "BASEDIR = Path(\"/mnt/Rdata/OBS_data\") \n",
    "PROJECDIR = Path(\"/mnt/Rdata/2024-EXO\")\n",
    "TODODIR = PROJECDIR / \"_-_-_2024-05_-_GSON300_STF-8300M_-_1bin\"\n",
    "TODODIR = PROJECDIR / \"_-_-_2024-06_-_GSON300_STF-8300M_-_1bin\"\n",
    "\n",
    "# PROJECDIR = Path(\"/mnt/Rdata/OBS_data/2022-Asteroid\")\n",
    "# TODODIR = PROJECDIR / \"GSON300_STF-8300M_-_1bin\"\n",
    "# TODODIR = PROJECDIR / \"RiLA600_STX-16803_-_1bin\"\n",
    "# TODODIR = PROJECDIR / \"RiLA600_STX-16803_-_2bin\"\n",
    "\n",
    "# PROJECDIR = Path(\"/mnt/Rdata/OBS_data/2023-Asteroid\")\n",
    "# TODODIR = PROJECDIR / \"GSON300_STF-8300M_-_1bin\"\n",
    "# TODODIR = PROJECDIR / \"RiLA600_STX-16803_-_1bin\"\n",
    "# TODODIR = PROJECDIR / \"RiLA600_STX-16803_-_2bin\"\n",
    "\n",
    "PROJECDIR = Path(\"/mnt/Rdata/OBS_data/2016-Variable\")\n",
    "TODODIR = PROJECDIR / \"-_-_-_2016-_-_RiLA600_STX-16803_-_2bin\"\n",
    "\n",
    "# PROJECDIR = Path(\"/mnt/Rdata/OBS_data/2017-Variable\")\n",
    "# TODODIR = PROJECDIR / \"-_-_-_2017-_-_RiLA600_STX-16803_-_2bin\"\n",
    "\n",
    "DOINGDIRs = sorted(_Python_utilities.getFullnameListOfsubDirs(TODODIR))\n",
    "print (\"DOINGDIRs: \", format(DOINGDIRs))\n",
    "print (\"len(DOINGDIRs): \", format(len(DOINGDIRs)))\n",
    "\n",
    "MASTERDIR = [x for x in DOINGDIRs if \"CAL-BDF\" in str(x)]\n",
    "MASTERDIR = Path(MASTERDIR[0]) / _astro_utilities.master_dir\n",
    "print (\"MASTERDIR: \", format(MASTERDIR))\n",
    "\n",
    "DOINGDIRs = sorted([x for x in DOINGDIRs if \"_LIGHT_\" in str(x)])\n",
    "print (\"DOINGDIRs: \", format(DOINGDIRs))\n",
    "print (\"len(DOINGDIRs): \", format(len(DOINGDIRs)))\n",
    "\n",
    "# filter_str = '2023-12-'\n",
    "# DOINGDIRs = [x for x in DOINGDIRs if filter_str in x]\n",
    "# remove = 'BIAS'\n",
    "# DOINGDIRs = [x for x in DOINGDIRs if remove not in x]\n",
    "# remove = 'DARK'\n",
    "# DOINGDIRs = [x for x in DOINGDIRs if remove not in x]\n",
    "# remove = 'FLAT'\n",
    "# DOINGDIRs = [x for x in DOINGDIRs if remove not in x]\n",
    "print (\"DOINGDIRs: \", DOINGDIRs)\n",
    "print (\"len(DOINGDIRs): \", len(DOINGDIRs))\n",
    "#######################################################"
   ]
  },
  {
   "cell_type": "code",
   "execution_count": 14,
   "metadata": {},
   "outputs": [
    {
     "name": "stdout",
     "output_type": "stream",
     "text": [
      "Starting: CM-CYG_LIGHT_-_2016-10-14_-_RiLA600_STX-16803_-_2bin\n",
      "All 97 keywords (guessed from /mnt/Rdata/OBS_data/2016-Variable/-_-_-_2016-_-_RiLA600_STX-16803_-_2bin/CM-CYG_LIGHT_-_2016-10-14_-_RiLA600_STX-16803_-_2bin/CM-CYG_LIGHT_V_2016-10-14-12-42-17_30sec_RiLA600_STX-16803_-19c_2bin.fit) will be loaded.\n"
     ]
    },
    {
     "name": "stderr",
     "output_type": "stream",
     "text": [
      "WARNING: The following header keyword is invalid or follows an unrecognized non-standard convention:\n",
      "DELMAG   =   0.0000            /Veriable - Comparison,   Delmag                  [astropy.io.fits.card]\n",
      "WARNING: The following header keyword is invalid or follows an unrecognized non-standard convention:\n",
      "DELMAG   =  -0.5755            /Veriable - Comparison,   Delmag                  [astropy.io.fits.card]\n",
      "WARNING: The following header keyword is invalid or follows an unrecognized non-standard convention:\n",
      "DELMAG   =  -0.6398            /Veriable - Comparison,   Delmag                  [astropy.io.fits.card]\n",
      "WARNING: The following header keyword is invalid or follows an unrecognized non-standard convention:\n",
      "DELMAG   =  -0.6310            /Veriable - Comparison,   Delmag                  [astropy.io.fits.card]\n",
      "WARNING: The following header keyword is invalid or follows an unrecognized non-standard convention:\n",
      "DELMAG   =  -0.6328            /Veriable - Comparison,   Delmag                  [astropy.io.fits.card]\n",
      "WARNING: The following header keyword is invalid or follows an unrecognized non-standard convention:\n",
      "DELMAG   =  -0.6036            /Veriable - Comparison,   Delmag                  [astropy.io.fits.card]\n",
      "WARNING: The following header keyword is invalid or follows an unrecognized non-standard convention:\n",
      "DELMAG   =  -0.6340            /Veriable - Comparison,   Delmag                  [astropy.io.fits.card]\n",
      "WARNING: The following header keyword is invalid or follows an unrecognized non-standard convention:\n",
      "DELMAG   =  -0.6307            /Veriable - Comparison,   Delmag                  [astropy.io.fits.card]\n",
      "WARNING: The following header keyword is invalid or follows an unrecognized non-standard convention:\n",
      "DELMAG   =  -0.6727            /Veriable - Comparison,   Delmag                  [astropy.io.fits.card]\n",
      "WARNING: The following header keyword is invalid or follows an unrecognized non-standard convention:\n",
      "DELMAG   =  -0.6428            /Veriable - Comparison,   Delmag                  [astropy.io.fits.card]\n",
      "WARNING: The following header keyword is invalid or follows an unrecognized non-standard convention:\n",
      "DELMAG   =  -0.6311            /Veriable - Comparison,   Delmag                  [astropy.io.fits.card]\n",
      "WARNING: The following header keyword is invalid or follows an unrecognized non-standard convention:\n",
      "DELMAG   =  -0.6304            /Veriable - Comparison,   Delmag                  [astropy.io.fits.card]\n",
      "WARNING: The following header keyword is invalid or follows an unrecognized non-standard convention:\n",
      "DELMAG   =  -0.6376            /Veriable - Comparison,   Delmag                  [astropy.io.fits.card]\n",
      "WARNING: The following header keyword is invalid or follows an unrecognized non-standard convention:\n",
      "DELMAG   =  -0.6245            /Veriable - Comparison,   Delmag                  [astropy.io.fits.card]\n",
      "WARNING: The following header keyword is invalid or follows an unrecognized non-standard convention:\n",
      "DELMAG   =  -0.6300            /Veriable - Comparison,   Delmag                  [astropy.io.fits.card]\n",
      "WARNING: The following header keyword is invalid or follows an unrecognized non-standard convention:\n",
      "DELMAG   =  -0.6456            /Veriable - Comparison,   Delmag                  [astropy.io.fits.card]\n",
      "WARNING: The following header keyword is invalid or follows an unrecognized non-standard convention:\n",
      "DELMAG   =  -0.6232            /Veriable - Comparison,   Delmag                  [astropy.io.fits.card]\n",
      "WARNING: The following header keyword is invalid or follows an unrecognized non-standard convention:\n",
      "DELMAG   =  -0.6254            /Veriable - Comparison,   Delmag                  [astropy.io.fits.card]\n",
      "WARNING: The following header keyword is invalid or follows an unrecognized non-standard convention:\n",
      "DELMAG   =  -0.6124            /Veriable - Comparison,   Delmag                  [astropy.io.fits.card]\n",
      "WARNING: The following header keyword is invalid or follows an unrecognized non-standard convention:\n",
      "DELMAG   =  -0.6757            /Veriable - Comparison,   Delmag                  [astropy.io.fits.card]\n",
      "WARNING: The following header keyword is invalid or follows an unrecognized non-standard convention:\n",
      "DELMAG   =  -0.6379            /Veriable - Comparison,   Delmag                  [astropy.io.fits.card]\n",
      "WARNING: The following header keyword is invalid or follows an unrecognized non-standard convention:\n",
      "DELMAG   =  -0.6705            /Veriable - Comparison,   Delmag                  [astropy.io.fits.card]\n",
      "WARNING: The following header keyword is invalid or follows an unrecognized non-standard convention:\n",
      "DELMAG   =  -0.6617            /Veriable - Comparison,   Delmag                  [astropy.io.fits.card]\n",
      "WARNING: The following header keyword is invalid or follows an unrecognized non-standard convention:\n",
      "DELMAG   =  -0.6712            /Veriable - Comparison,   Delmag                  [astropy.io.fits.card]\n",
      "WARNING: The following header keyword is invalid or follows an unrecognized non-standard convention:\n",
      "DELMAG   =  -0.6599            /Veriable - Comparison,   Delmag                  [astropy.io.fits.card]\n",
      "WARNING: The following header keyword is invalid or follows an unrecognized non-standard convention:\n",
      "DELMAG   =  -0.6783            /Veriable - Comparison,   Delmag                  [astropy.io.fits.card]\n",
      "WARNING: The following header keyword is invalid or follows an unrecognized non-standard convention:\n",
      "DELMAG   =  -0.6508            /Veriable - Comparison,   Delmag                  [astropy.io.fits.card]\n",
      "WARNING: The following header keyword is invalid or follows an unrecognized non-standard convention:\n",
      "DELMAG   =  -0.6856            /Veriable - Comparison,   Delmag                  [astropy.io.fits.card]\n",
      "WARNING: The following header keyword is invalid or follows an unrecognized non-standard convention:\n",
      "DELMAG   =  -0.6653            /Veriable - Comparison,   Delmag                  [astropy.io.fits.card]\n",
      "WARNING: The following header keyword is invalid or follows an unrecognized non-standard convention:\n",
      "DELMAG   =  -0.6548            /Veriable - Comparison,   Delmag                  [astropy.io.fits.card]\n",
      "WARNING: The following header keyword is invalid or follows an unrecognized non-standard convention:\n",
      "DELMAG   =  -0.6460            /Veriable - Comparison,   Delmag                  [astropy.io.fits.card]\n",
      "WARNING: The following header keyword is invalid or follows an unrecognized non-standard convention:\n",
      "DELMAG   =  -0.6477            /Veriable - Comparison,   Delmag                  [astropy.io.fits.card]\n",
      "WARNING: The following header keyword is invalid or follows an unrecognized non-standard convention:\n",
      "DELMAG   =  -0.6541            /Veriable - Comparison,   Delmag                  [astropy.io.fits.card]\n",
      "WARNING: The following header keyword is invalid or follows an unrecognized non-standard convention:\n",
      "DELMAG   =  -0.6375            /Veriable - Comparison,   Delmag                  [astropy.io.fits.card]\n",
      "WARNING: The following header keyword is invalid or follows an unrecognized non-standard convention:\n",
      "DELMAG   =  -0.6055            /Veriable - Comparison,   Delmag                  [astropy.io.fits.card]\n",
      "WARNING: The following header keyword is invalid or follows an unrecognized non-standard convention:\n",
      "DELMAG   =  -0.5942            /Veriable - Comparison,   Delmag                  [astropy.io.fits.card]\n",
      "WARNING: The following header keyword is invalid or follows an unrecognized non-standard convention:\n",
      "DELMAG   =   0.0000            /Veriable - Comparison,   Delmag                  [astropy.io.fits.card]\n",
      "WARNING: FITSFixedWarning: 'datfix' made the change 'Set MJD-OBS to 57675.529363 from DATE-OBS'. [astropy.wcs.wcs]\n"
     ]
    },
    {
     "name": "stdout",
     "output_type": "stream",
     "text": [
      "len(summary): 60\n",
      "summary:                                                  file  filesize  SIMPLE  \\\n",
      "0   /mnt/Rdata/OBS_data/2016-Variable/-_-_-_2016-_...   8432640    True   \n",
      "1   /mnt/Rdata/OBS_data/2016-Variable/-_-_-_2016-_...   8432640    True   \n",
      "2   /mnt/Rdata/OBS_data/2016-Variable/-_-_-_2016-_...   8432640    True   \n",
      "3   /mnt/Rdata/OBS_data/2016-Variable/-_-_-_2016-_...   8432640    True   \n",
      "4   /mnt/Rdata/OBS_data/2016-Variable/-_-_-_2016-_...   8432640    True   \n",
      "5   /mnt/Rdata/OBS_data/2016-Variable/-_-_-_2016-_...   8432640    True   \n",
      "6   /mnt/Rdata/OBS_data/2016-Variable/-_-_-_2016-_...   8432640    True   \n",
      "7   /mnt/Rdata/OBS_data/2016-Variable/-_-_-_2016-_...   8432640    True   \n",
      "8   /mnt/Rdata/OBS_data/2016-Variable/-_-_-_2016-_...   8432640    True   \n",
      "9   /mnt/Rdata/OBS_data/2016-Variable/-_-_-_2016-_...   8432640    True   \n",
      "10  /mnt/Rdata/OBS_data/2016-Variable/-_-_-_2016-_...   8432640    True   \n",
      "11  /mnt/Rdata/OBS_data/2016-Variable/-_-_-_2016-_...   8432640    True   \n",
      "12  /mnt/Rdata/OBS_data/2016-Variable/-_-_-_2016-_...   8432640    True   \n",
      "13  /mnt/Rdata/OBS_data/2016-Variable/-_-_-_2016-_...   8432640    True   \n",
      "14  /mnt/Rdata/OBS_data/2016-Variable/-_-_-_2016-_...   8432640    True   \n",
      "15  /mnt/Rdata/OBS_data/2016-Variable/-_-_-_2016-_...   8432640    True   \n",
      "16  /mnt/Rdata/OBS_data/2016-Variable/-_-_-_2016-_...   8432640    True   \n",
      "17  /mnt/Rdata/OBS_data/2016-Variable/-_-_-_2016-_...   8432640    True   \n",
      "18  /mnt/Rdata/OBS_data/2016-Variable/-_-_-_2016-_...   8432640    True   \n",
      "19  /mnt/Rdata/OBS_data/2016-Variable/-_-_-_2016-_...   8432640    True   \n",
      "20  /mnt/Rdata/OBS_data/2016-Variable/-_-_-_2016-_...   8432640    True   \n",
      "21  /mnt/Rdata/OBS_data/2016-Variable/-_-_-_2016-_...   8432640    True   \n",
      "22  /mnt/Rdata/OBS_data/2016-Variable/-_-_-_2016-_...   8432640    True   \n",
      "23  /mnt/Rdata/OBS_data/2016-Variable/-_-_-_2016-_...   8432640    True   \n",
      "24  /mnt/Rdata/OBS_data/2016-Variable/-_-_-_2016-_...   8432640    True   \n",
      "25  /mnt/Rdata/OBS_data/2016-Variable/-_-_-_2016-_...   8432640    True   \n",
      "26  /mnt/Rdata/OBS_data/2016-Variable/-_-_-_2016-_...   8432640    True   \n",
      "27  /mnt/Rdata/OBS_data/2016-Variable/-_-_-_2016-_...   8432640    True   \n",
      "28  /mnt/Rdata/OBS_data/2016-Variable/-_-_-_2016-_...   8432640    True   \n",
      "29  /mnt/Rdata/OBS_data/2016-Variable/-_-_-_2016-_...   8432640    True   \n",
      "30  /mnt/Rdata/OBS_data/2016-Variable/-_-_-_2016-_...   8432640    True   \n",
      "31  /mnt/Rdata/OBS_data/2016-Variable/-_-_-_2016-_...   8432640    True   \n",
      "32  /mnt/Rdata/OBS_data/2016-Variable/-_-_-_2016-_...   8432640    True   \n",
      "33  /mnt/Rdata/OBS_data/2016-Variable/-_-_-_2016-_...   8432640    True   \n",
      "34  /mnt/Rdata/OBS_data/2016-Variable/-_-_-_2016-_...   8432640    True   \n",
      "35  /mnt/Rdata/OBS_data/2016-Variable/-_-_-_2016-_...   8432640    True   \n",
      "36  /mnt/Rdata/OBS_data/2016-Variable/-_-_-_2016-_...   8432640    True   \n",
      "37  /mnt/Rdata/OBS_data/2016-Variable/-_-_-_2016-_...   8432640    True   \n",
      "38  /mnt/Rdata/OBS_data/2016-Variable/-_-_-_2016-_...   8432640    True   \n",
      "39  /mnt/Rdata/OBS_data/2016-Variable/-_-_-_2016-_...   8432640    True   \n",
      "40  /mnt/Rdata/OBS_data/2016-Variable/-_-_-_2016-_...   8432640    True   \n",
      "41  /mnt/Rdata/OBS_data/2016-Variable/-_-_-_2016-_...   8432640    True   \n",
      "42  /mnt/Rdata/OBS_data/2016-Variable/-_-_-_2016-_...   8432640    True   \n",
      "43  /mnt/Rdata/OBS_data/2016-Variable/-_-_-_2016-_...   8432640    True   \n",
      "44  /mnt/Rdata/OBS_data/2016-Variable/-_-_-_2016-_...   8432640    True   \n",
      "45  /mnt/Rdata/OBS_data/2016-Variable/-_-_-_2016-_...   8432640    True   \n",
      "46  /mnt/Rdata/OBS_data/2016-Variable/-_-_-_2016-_...   8432640    True   \n",
      "47  /mnt/Rdata/OBS_data/2016-Variable/-_-_-_2016-_...   8432640    True   \n",
      "48  /mnt/Rdata/OBS_data/2016-Variable/-_-_-_2016-_...   8432640    True   \n",
      "49  /mnt/Rdata/OBS_data/2016-Variable/-_-_-_2016-_...   8432640    True   \n",
      "50  /mnt/Rdata/OBS_data/2016-Variable/-_-_-_2016-_...   8432640    True   \n",
      "51  /mnt/Rdata/OBS_data/2016-Variable/-_-_-_2016-_...   8432640    True   \n",
      "52  /mnt/Rdata/OBS_data/2016-Variable/-_-_-_2016-_...   8432640    True   \n",
      "53  /mnt/Rdata/OBS_data/2016-Variable/-_-_-_2016-_...   8432640    True   \n",
      "54  /mnt/Rdata/OBS_data/2016-Variable/-_-_-_2016-_...   8432640    True   \n",
      "55  /mnt/Rdata/OBS_data/2016-Variable/-_-_-_2016-_...   8432640    True   \n",
      "56  /mnt/Rdata/OBS_data/2016-Variable/-_-_-_2016-_...   8432640    True   \n",
      "57  /mnt/Rdata/OBS_data/2016-Variable/-_-_-_2016-_...   8432640    True   \n",
      "58  /mnt/Rdata/OBS_data/2016-Variable/-_-_-_2016-_...   8432640    True   \n",
      "59  /mnt/Rdata/OBS_data/2016-Variable/-_-_-_2016-_...   8432640    True   \n",
      "\n",
      "    BITPIX  NAXIS  NAXIS1  NAXIS2  BSCALE    BZERO OBSERVAT  ...  \\\n",
      "0       16      2    2048    2048     1.0  32768.0     GSHS  ...   \n",
      "1       16      2    2048    2048     1.0  32768.0     GSHS  ...   \n",
      "2       16      2    2048    2048     1.0  32768.0     GSHS  ...   \n",
      "3       16      2    2048    2048     1.0  32768.0     GSHS  ...   \n",
      "4       16      2    2048    2048     1.0  32768.0     GSHS  ...   \n",
      "5       16      2    2048    2048     1.0  32768.0     GSHS  ...   \n",
      "6       16      2    2048    2048     1.0  32768.0     GSHS  ...   \n",
      "7       16      2    2048    2048     1.0  32768.0     GSHS  ...   \n",
      "8       16      2    2048    2048     1.0  32768.0     GSHS  ...   \n",
      "9       16      2    2048    2048     1.0  32768.0     GSHS  ...   \n",
      "10      16      2    2048    2048     1.0  32768.0     GSHS  ...   \n",
      "11      16      2    2048    2048     1.0  32768.0     GSHS  ...   \n",
      "12      16      2    2048    2048     1.0  32768.0     GSHS  ...   \n",
      "13      16      2    2048    2048     1.0  32768.0     GSHS  ...   \n",
      "14      16      2    2048    2048     1.0  32768.0     GSHS  ...   \n",
      "15      16      2    2048    2048     1.0  32768.0     GSHS  ...   \n",
      "16      16      2    2048    2048     1.0  32768.0     GSHS  ...   \n",
      "17      16      2    2048    2048     1.0  32768.0     GSHS  ...   \n",
      "18      16      2    2048    2048     1.0  32768.0     GSHS  ...   \n",
      "19      16      2    2048    2048     1.0  32768.0     GSHS  ...   \n",
      "20      16      2    2048    2048     1.0  32768.0     GSHS  ...   \n",
      "21      16      2    2048    2048     1.0  32768.0     GSHS  ...   \n",
      "22      16      2    2048    2048     1.0  32768.0     GSHS  ...   \n",
      "23      16      2    2048    2048     1.0  32768.0     GSHS  ...   \n",
      "24      16      2    2048    2048     1.0  32768.0     GSHS  ...   \n",
      "25      16      2    2048    2048     1.0  32768.0     GSHS  ...   \n",
      "26      16      2    2048    2048     1.0  32768.0     GSHS  ...   \n",
      "27      16      2    2048    2048     1.0  32768.0     GSHS  ...   \n",
      "28      16      2    2048    2048     1.0  32768.0     GSHS  ...   \n",
      "29      16      2    2048    2048     1.0  32768.0     GSHS  ...   \n",
      "30      16      2    2048    2048     1.0  32768.0     GSHS  ...   \n",
      "31      16      2    2048    2048     1.0  32768.0     GSHS  ...   \n",
      "32      16      2    2048    2048     1.0  32768.0     GSHS  ...   \n",
      "33      16      2    2048    2048     1.0  32768.0     GSHS  ...   \n",
      "34      16      2    2048    2048     1.0  32768.0     GSHS  ...   \n",
      "35      16      2    2048    2048     1.0  32768.0     GSHS  ...   \n",
      "36      16      2    2048    2048     1.0  32768.0     GSHS  ...   \n",
      "37      16      2    2048    2048     1.0  32768.0     GSHS  ...   \n",
      "38      16      2    2048    2048     1.0  32768.0     GSHS  ...   \n",
      "39      16      2    2048    2048     1.0  32768.0     GSHS  ...   \n",
      "40      16      2    2048    2048     1.0  32768.0     GSHS  ...   \n",
      "41      16      2    2048    2048     1.0  32768.0     GSHS  ...   \n",
      "42      16      2    2048    2048     1.0  32768.0     GSHS  ...   \n",
      "43      16      2    2048    2048     1.0  32768.0     GSHS  ...   \n",
      "44      16      2    2048    2048     1.0  32768.0     GSHS  ...   \n",
      "45      16      2    2048    2048     1.0  32768.0     GSHS  ...   \n",
      "46      16      2    2048    2048     1.0  32768.0     GSHS  ...   \n",
      "47      16      2    2048    2048     1.0  32768.0     GSHS  ...   \n",
      "48      16      2    2048    2048     1.0  32768.0     GSHS  ...   \n",
      "49      16      2    2048    2048     1.0  32768.0     GSHS  ...   \n",
      "50      16      2    2048    2048     1.0  32768.0     GSHS  ...   \n",
      "51      16      2    2048    2048     1.0  32768.0     GSHS  ...   \n",
      "52      16      2    2048    2048     1.0  32768.0     GSHS  ...   \n",
      "53      16      2    2048    2048     1.0  32768.0     GSHS  ...   \n",
      "54      16      2    2048    2048     1.0  32768.0     GSHS  ...   \n",
      "55      16      2    2048    2048     1.0  32768.0     GSHS  ...   \n",
      "56      16      2    2048    2048     1.0  32768.0     GSHS  ...   \n",
      "57      16      2    2048    2048     1.0  32768.0     GSHS  ...   \n",
      "58      16      2    2048    2048     1.0  32768.0     GSHS  ...   \n",
      "59      16      2    2048    2048     1.0  32768.0     GSHS  ...   \n",
      "\n",
      "          AP_1_1        AP_2_0 BP_ORDER    BP_0_0        BP_0_1        BP_0_2  \\\n",
      "0   3.868278e-07 -3.687715e-07        2  0.000038  1.029952e-07 -2.477246e-07   \n",
      "1   4.376565e-07 -2.564305e-07        2  0.000010  8.237730e-08 -1.549707e-07   \n",
      "2   4.615919e-07 -3.064064e-07        2  0.000019  6.419130e-08 -1.840667e-07   \n",
      "3   4.248378e-07 -3.469762e-07        2  0.000016  7.245921e-08 -1.447059e-07   \n",
      "4   4.815403e-07 -3.737824e-07        2  0.000026  8.010681e-08 -1.757687e-07   \n",
      "5   4.082852e-07 -2.680916e-07        2  0.000010  6.295978e-08 -1.162632e-07   \n",
      "6   4.595622e-07 -2.212950e-07        2  0.000001  7.835967e-08 -1.032385e-07   \n",
      "7   4.568889e-07 -2.266842e-07        2 -0.000001  7.073607e-08 -2.701386e-08   \n",
      "8   4.582807e-07 -2.675827e-07        2  0.000015  7.081580e-08 -1.258155e-07   \n",
      "9   4.306163e-07 -2.908968e-07        2  0.000011  6.980394e-08 -2.128833e-08   \n",
      "10  4.907010e-07 -2.907759e-07        2  0.000027  6.154839e-08 -1.058501e-08   \n",
      "11  4.738317e-07 -2.752180e-07        2  0.000018  7.307210e-08 -4.309029e-08   \n",
      "12  4.521614e-07 -2.819555e-07        2  0.000009  6.709943e-08 -4.805303e-08   \n",
      "13  4.237208e-07 -3.108165e-07        2  0.000027  4.606203e-08 -4.287817e-08   \n",
      "14  4.711571e-07 -2.677973e-07        2  0.000002  6.411741e-08 -2.094678e-08   \n",
      "15  3.503255e-07 -2.586821e-07        2  0.000017  7.942173e-08  1.513630e-07   \n",
      "16  4.548248e-07 -2.714925e-07        2  0.000026  6.418787e-08  9.742730e-08   \n",
      "17  4.507933e-07 -2.663650e-07        2  0.000030  7.607693e-08  1.323995e-07   \n",
      "18  4.413475e-07 -2.971306e-07        2  0.000037  8.747982e-08  1.700977e-07   \n",
      "19  5.169594e-07 -3.302999e-07        2  0.000064  1.595144e-07  2.454576e-07   \n",
      "20  4.305362e-07 -2.565842e-07        2  0.000045  1.524816e-07  2.729188e-07   \n",
      "21  4.536469e-07 -2.391780e-07        2  0.000075  2.128746e-07  3.359085e-07   \n",
      "22  4.534978e-07 -2.028818e-07        2  0.000034  1.580509e-07  2.983913e-07   \n",
      "23  3.059039e-07 -2.264562e-07        2  0.000025  4.453420e-07  5.517237e-07   \n",
      "24  4.986197e-07 -1.060611e-07        2  0.000040  5.421635e-07  5.844895e-07   \n",
      "25  5.305180e-07 -1.126649e-07        2  0.000041  5.045075e-07  5.472659e-07   \n",
      "26  4.963241e-07 -1.830534e-07        2  0.000052  4.321010e-07  4.892792e-07   \n",
      "27  4.682548e-07 -1.839958e-07        2  0.000037  3.525649e-07  4.593372e-07   \n",
      "28  4.449169e-07 -1.925143e-07        2  0.000049  4.895161e-07  5.917026e-07   \n",
      "29  3.607209e-07 -2.153112e-07        2  0.000040  3.787107e-07  5.204507e-07   \n",
      "30  4.243635e-07 -2.387258e-07        2  0.000023  1.798216e-07 -3.148760e-07   \n",
      "31  3.938010e-07 -2.024188e-07        2  0.000025  1.370117e-07 -2.711281e-07   \n",
      "32  3.664545e-07 -2.338712e-07        2  0.000045  1.166015e-07 -2.404388e-07   \n",
      "33  4.189845e-07 -3.095910e-07        2  0.000088  1.863424e-07 -3.438328e-07   \n",
      "34  3.813447e-07 -2.937775e-07        2  0.000080  1.301636e-07 -2.576011e-07   \n",
      "35  4.410559e-07 -2.804489e-07        2  0.000058  8.701222e-08 -1.883692e-08   \n",
      "36  4.284748e-07 -1.924705e-07        2  0.000029  7.445622e-08  3.782380e-08   \n",
      "37  4.796517e-07 -2.295669e-07        2  0.000013  1.025117e-07 -1.941879e-07   \n",
      "38  5.510243e-07 -2.863880e-07        2  0.000046  1.099092e-07 -2.053633e-07   \n",
      "39  4.300247e-07 -2.696344e-07        2  0.000034  5.886354e-08 -8.974136e-08   \n",
      "40  5.066394e-07 -3.251288e-07        2  0.000057  7.204269e-08  6.556654e-08   \n",
      "41  2.376423e-07 -2.642311e-07        2  0.000012  1.845219e-07  3.432579e-07   \n",
      "42  5.240942e-07 -8.353121e-08        2 -0.000008  3.685578e-07  4.658275e-07   \n",
      "43  2.541473e-07 -2.521524e-07        2  0.000017  2.677768e-07  4.610013e-07   \n",
      "44  2.945438e-07 -2.871197e-07        2  0.000050  2.685621e-07  4.288006e-07   \n",
      "45  2.292394e-07 -3.061808e-07        2  0.000060  2.174946e-07  3.591886e-07   \n",
      "46  2.589891e-07 -2.944435e-07        2  0.000058  2.904098e-07  4.255093e-07   \n",
      "47  5.419831e-07 -1.067218e-07        2 -0.000018  2.727700e-07  3.674647e-07   \n",
      "48  5.826030e-07 -1.315400e-07        2 -0.000083  4.009908e-07 -3.859743e-07   \n",
      "49  3.167214e-07 -3.088958e-07        2  0.000058  2.987834e-07 -5.035649e-07   \n",
      "50  4.019167e-07 -3.380197e-07        2  0.000088  2.116561e-07 -3.797858e-07   \n",
      "51  2.765576e-07 -3.849511e-07        2  0.000115  1.586023e-07 -3.485808e-07   \n",
      "52  3.302503e-07 -3.809445e-07        2  0.000100  9.348046e-08 -1.977930e-07   \n",
      "53  2.842394e-07 -3.407902e-07        2  0.000068  4.974607e-08 -1.042631e-07   \n",
      "54  5.727614e-07 -1.841588e-07        2 -0.000024  1.520104e-07 -7.708072e-08   \n",
      "55  6.166698e-07 -2.024248e-07        2 -0.000057  2.175357e-07  1.341295e-09   \n",
      "56  6.140094e-07 -1.078985e-07        2 -0.000068  1.867635e-07  7.684226e-09   \n",
      "57  3.961629e-07 -2.817497e-07        2  0.000086  1.185727e-07  1.641153e-07   \n",
      "58  6.830574e-07 -1.391664e-07        2  0.000022  2.399966e-07  2.560177e-07   \n",
      "59  6.047911e-07  6.589964e-09        2 -0.000038  2.811612e-07  3.374721e-07   \n",
      "\n",
      "          BP_1_0        BP_1_1        BP_2_0                 DATE  \n",
      "0  -3.573863e-08  3.050158e-07  2.532095e-07  2024-07-13T22:38:28  \n",
      "1   1.158204e-08  3.202888e-07  3.222410e-07  2024-07-10T20:12:24  \n",
      "2  -8.081503e-09  2.194510e-07  1.902670e-07  2024-07-13T22:39:11  \n",
      "3   1.259835e-08  2.948750e-07  2.655048e-07  2024-07-10T20:12:28  \n",
      "4   5.574814e-09  2.220073e-07  2.767797e-07  2024-07-10T20:12:33  \n",
      "5   2.545836e-08  1.783043e-07  2.962384e-07  2024-07-13T22:39:16  \n",
      "6   4.213609e-08  1.958075e-07  3.569296e-07  2024-07-13T22:39:20  \n",
      "7   5.421069e-08  1.544372e-07  3.490911e-07  2024-07-13T22:39:25  \n",
      "8   2.086555e-08  1.746853e-07  3.377379e-07  2024-07-10T20:12:37  \n",
      "9   4.298053e-08  2.208610e-07  3.998924e-07  2024-07-13T22:39:29  \n",
      "10  1.389787e-08  1.180194e-07  3.610404e-07  2024-07-13T22:39:34  \n",
      "11  3.209947e-08  1.734185e-07  4.142282e-07  2024-07-13T22:39:39  \n",
      "12  4.605718e-08  1.270832e-07  3.453085e-07  2024-07-10T20:12:41  \n",
      "13  7.990520e-09  1.282080e-07  3.234826e-07  2024-07-10T20:12:45  \n",
      "14  4.771813e-08  1.630677e-07  3.012872e-07  2024-07-10T20:12:50  \n",
      "15  2.057973e-08 -7.621257e-10  2.552847e-07  2024-07-10T20:12:54  \n",
      "16  3.593695e-09 -1.107887e-08  2.494379e-07  2024-07-10T20:12:59  \n",
      "17 -4.957033e-09 -4.975279e-08  2.457681e-07  2024-07-10T20:13:03  \n",
      "18 -2.360516e-08 -4.611631e-08  2.069290e-07  2024-07-13T22:39:44  \n",
      "19 -5.690445e-08 -9.117879e-08  2.590455e-07  2024-07-10T20:13:07  \n",
      "20 -4.511275e-08 -8.952798e-08  1.920105e-07  2024-07-13T22:39:48  \n",
      "21 -1.055157e-07 -1.921583e-07  1.921244e-07  2024-07-13T22:39:53  \n",
      "22 -3.488325e-08 -9.429441e-08  1.558957e-07  2024-07-13T22:39:58  \n",
      "23  4.701397e-09  9.836911e-09  1.216409e-07  2024-07-13T22:40:03  \n",
      "24 -1.400640e-08 -3.428985e-08  2.155963e-07  2024-07-13T22:40:07  \n",
      "25 -1.131544e-08 -3.553143e-08  2.612228e-07  2024-07-13T22:40:11  \n",
      "26 -2.430403e-08 -3.408536e-08  3.024549e-07  2024-07-13T22:40:16  \n",
      "27 -1.953834e-08 -2.647994e-08  2.012105e-07  2024-07-13T22:40:21  \n",
      "28 -6.119785e-08 -7.659490e-08  6.114316e-08  2024-07-13T22:40:26  \n",
      "29 -4.659500e-08 -7.034089e-08  6.173822e-08  2024-07-13T22:40:30  \n",
      "30  7.453434e-08  9.629060e-08  7.437122e-07  2024-07-13T22:40:35  \n",
      "31  5.907383e-08  2.851473e-08  6.959835e-07  2024-07-10T20:13:12  \n",
      "32  3.928685e-08  1.777891e-08  7.409211e-07  2024-07-13T22:40:39  \n",
      "33  8.038256e-09 -1.289064e-07  6.656103e-07  2024-07-13T22:40:44  \n",
      "34  1.870894e-08 -2.013559e-07  6.209665e-07  2024-07-13T22:40:48  \n",
      "35  2.179023e-08 -8.733826e-08  5.545770e-07  2024-07-13T22:40:53  \n",
      "36  2.753402e-08 -8.405047e-08  4.387367e-07  2024-07-13T22:40:57  \n",
      "37  1.449944e-08  2.103834e-07  3.528439e-07  2024-07-13T22:41:45  \n",
      "38 -6.011439e-09  1.815567e-08  4.149738e-07  2024-07-10T20:13:16  \n",
      "39 -5.436719e-09  1.115611e-07  4.016841e-07  2024-07-10T20:13:20  \n",
      "40 -3.395169e-08 -1.216027e-07  2.927935e-07  2024-07-13T22:41:49  \n",
      "41  1.565187e-08 -2.646596e-09  1.317482e-07  2024-07-13T22:41:54  \n",
      "42  6.955658e-08  7.591214e-08  2.014327e-07  2024-07-13T22:41:59  \n",
      "43 -3.179649e-08 -4.837739e-08 -5.885751e-08  2024-07-13T22:42:04  \n",
      "44 -6.100679e-08 -1.065565e-07  8.599004e-08  2024-07-13T22:42:08  \n",
      "45 -5.295293e-08 -8.626929e-08  1.961775e-07  2024-07-10T20:13:24  \n",
      "46 -4.210879e-08 -8.486254e-08  2.064012e-07  2024-07-10T20:13:28  \n",
      "47  8.596067e-08  9.399357e-08  2.587413e-07  2024-07-13T22:42:13  \n",
      "48  7.709865e-08  5.983106e-07  1.187147e-06  2024-07-13T22:42:17  \n",
      "49  1.122867e-07 -1.579455e-07  7.371020e-07  2024-07-10T20:13:32  \n",
      "50  6.791229e-08 -2.041633e-07  7.035591e-07  2024-07-10T20:13:36  \n",
      "51  2.249249e-08 -1.562090e-07  7.302478e-07  2024-07-13T22:42:22  \n",
      "52  5.237308e-09 -1.802161e-07  5.800255e-07  2024-07-13T22:42:27  \n",
      "53  1.826123e-08 -2.016432e-07  4.602717e-07  2024-07-13T22:42:32  \n",
      "54  1.220335e-07  1.951530e-07  6.385716e-07  2024-07-13T22:42:36  \n",
      "55  2.095231e-07  2.456219e-07  7.412784e-07  2024-07-13T22:42:41  \n",
      "56  1.819041e-07  2.217963e-07  6.226266e-07  2024-07-10T20:13:41  \n",
      "57 -9.578536e-08 -2.296491e-07  3.012389e-07  2024-07-13T22:43:28  \n",
      "58  1.950678e-08  1.846119e-08  4.250613e-07  2024-07-10T20:13:45  \n",
      "59  1.180594e-07  1.300666e-07  3.349002e-07  2024-07-13T22:43:32  \n",
      "\n",
      "[60 rows x 99 columns]\n",
      "reduction file already exists...\n",
      "CM-CYG_LIGHT_V_2016-10-14-12-42-17_30sec_RiLA600_STX-16803_-19c_2bin.fit\n",
      "reduction file already exists...\n",
      "CM-CYG_LIGHT_V_2016-10-14-12-43-00_30sec_RiLA600_STX-16803_-19c_2bin.fit\n"
     ]
    },
    {
     "name": "stderr",
     "output_type": "stream",
     "text": [
      "WARNING: FITSFixedWarning: 'datfix' made the change 'Set MJD-OBS to 57675.529861 from DATE-OBS'. [astropy.wcs.wcs]\n",
      "WARNING: FITSFixedWarning: 'datfix' made the change 'Set MJD-OBS to 57675.530359 from DATE-OBS'. [astropy.wcs.wcs]\n"
     ]
    },
    {
     "name": "stdout",
     "output_type": "stream",
     "text": [
      "reduction file already exists...\n",
      "CM-CYG_LIGHT_V_2016-10-14-12-43-43_30sec_RiLA600_STX-16803_-20c_2bin.fit\n",
      "reduction file already exists...\n",
      "CM-CYG_LIGHT_V_2016-10-14-12-44-25_40sec_RiLA600_STX-16803_-20c_2bin.fit\n"
     ]
    },
    {
     "name": "stderr",
     "output_type": "stream",
     "text": [
      "WARNING: FITSFixedWarning: 'datfix' made the change 'Set MJD-OBS to 57675.530845 from DATE-OBS'. [astropy.wcs.wcs]\n",
      "WARNING: FITSFixedWarning: 'datfix' made the change 'Set MJD-OBS to 57675.531458 from DATE-OBS'. [astropy.wcs.wcs]\n"
     ]
    },
    {
     "name": "stdout",
     "output_type": "stream",
     "text": [
      "reduction file already exists...\n",
      "CM-CYG_LIGHT_V_2016-10-14-12-45-18_40sec_RiLA600_STX-16803_-19c_2bin.fit\n",
      "reduction file already exists...\n",
      "CM-CYG_LIGHT_V_2016-10-14-12-46-11_40sec_RiLA600_STX-16803_-19c_2bin.fit\n"
     ]
    },
    {
     "name": "stderr",
     "output_type": "stream",
     "text": [
      "WARNING: FITSFixedWarning: 'datfix' made the change 'Set MJD-OBS to 57675.532072 from DATE-OBS'. [astropy.wcs.wcs]\n",
      "WARNING: FITSFixedWarning: 'datfix' made the change 'Set MJD-OBS to 57675.532674 from DATE-OBS'. [astropy.wcs.wcs]\n"
     ]
    },
    {
     "name": "stdout",
     "output_type": "stream",
     "text": [
      "reduction file already exists...\n",
      "CM-CYG_LIGHT_V_2016-10-14-12-47-03_40sec_RiLA600_STX-16803_-19c_2bin.fit\n"
     ]
    },
    {
     "name": "stderr",
     "output_type": "stream",
     "text": [
      "WARNING: FITSFixedWarning: 'datfix' made the change 'Set MJD-OBS to 57675.533287 from DATE-OBS'. [astropy.wcs.wcs]\n",
      "WARNING: FITSFixedWarning: 'datfix' made the change 'Set MJD-OBS to 57675.533958 from DATE-OBS'. [astropy.wcs.wcs]\n"
     ]
    },
    {
     "name": "stdout",
     "output_type": "stream",
     "text": [
      "reduction file already exists...\n",
      "CM-CYG_LIGHT_V_2016-10-14-12-47-56_40sec_RiLA600_STX-16803_-19c_2bin.fit\n",
      "reduction file already exists...\n",
      "CM-CYG_LIGHT_V_2016-10-14-12-48-54_40sec_RiLA600_STX-16803_-19c_2bin.fit\n"
     ]
    },
    {
     "name": "stderr",
     "output_type": "stream",
     "text": [
      "WARNING: FITSFixedWarning: 'datfix' made the change 'Set MJD-OBS to 57675.534572 from DATE-OBS'. [astropy.wcs.wcs]\n"
     ]
    },
    {
     "name": "stdout",
     "output_type": "stream",
     "text": [
      "reduction file already exists...\n",
      "CM-CYG_LIGHT_V_2016-10-14-12-49-47_40sec_RiLA600_STX-16803_-19c_2bin.fit\n",
      "reduction file already exists...\n",
      "CM-CYG_LIGHT_V_2016-10-14-12-50-40_40sec_RiLA600_STX-16803_-19c_2bin.fit\n"
     ]
    },
    {
     "name": "stderr",
     "output_type": "stream",
     "text": [
      "WARNING: FITSFixedWarning: 'datfix' made the change 'Set MJD-OBS to 57675.535185 from DATE-OBS'. [astropy.wcs.wcs]\n",
      "WARNING: FITSFixedWarning: 'datfix' made the change 'Set MJD-OBS to 57675.535787 from DATE-OBS'. [astropy.wcs.wcs]\n"
     ]
    },
    {
     "name": "stdout",
     "output_type": "stream",
     "text": [
      "reduction file already exists...\n",
      "CM-CYG_LIGHT_V_2016-10-14-12-51-32_40sec_RiLA600_STX-16803_-19c_2bin.fit\n"
     ]
    },
    {
     "name": "stderr",
     "output_type": "stream",
     "text": [
      "WARNING: FITSFixedWarning: 'datfix' made the change 'Set MJD-OBS to 57675.536400 from DATE-OBS'. [astropy.wcs.wcs]\n"
     ]
    },
    {
     "name": "stdout",
     "output_type": "stream",
     "text": [
      "reduction file already exists...\n",
      "CM-CYG_LIGHT_V_2016-10-14-12-52-25_40sec_RiLA600_STX-16803_-19c_2bin.fit\n",
      "reduction file already exists...\n",
      "CM-CYG_LIGHT_V_2016-10-14-12-53-18_40sec_RiLA600_STX-16803_-19c_2bin.fit\n"
     ]
    },
    {
     "name": "stderr",
     "output_type": "stream",
     "text": [
      "WARNING: FITSFixedWarning: 'datfix' made the change 'Set MJD-OBS to 57675.537014 from DATE-OBS'. [astropy.wcs.wcs]\n",
      "WARNING: FITSFixedWarning: 'datfix' made the change 'Set MJD-OBS to 57675.537627 from DATE-OBS'. [astropy.wcs.wcs]\n"
     ]
    },
    {
     "name": "stdout",
     "output_type": "stream",
     "text": [
      "reduction file already exists...\n",
      "CM-CYG_LIGHT_V_2016-10-14-12-54-11_40sec_RiLA600_STX-16803_-19c_2bin.fit\n",
      "reduction file already exists...\n",
      "CM-CYG_LIGHT_V_2016-10-14-12-55-03_40sec_RiLA600_STX-16803_-19c_2bin.fit\n"
     ]
    },
    {
     "name": "stderr",
     "output_type": "stream",
     "text": [
      "WARNING: FITSFixedWarning: 'datfix' made the change 'Set MJD-OBS to 57675.538229 from DATE-OBS'. [astropy.wcs.wcs]\n",
      "WARNING: FITSFixedWarning: 'datfix' made the change 'Set MJD-OBS to 57675.538843 from DATE-OBS'. [astropy.wcs.wcs]\n"
     ]
    },
    {
     "name": "stdout",
     "output_type": "stream",
     "text": [
      "reduction file already exists...\n",
      "CM-CYG_LIGHT_V_2016-10-14-12-55-56_40sec_RiLA600_STX-16803_-19c_2bin.fit\n",
      "reduction file already exists...\n",
      "CM-CYG_LIGHT_V_2016-10-14-12-56-49_40sec_RiLA600_STX-16803_-19c_2bin.fit\n"
     ]
    },
    {
     "name": "stderr",
     "output_type": "stream",
     "text": [
      "WARNING: FITSFixedWarning: 'datfix' made the change 'Set MJD-OBS to 57675.539456 from DATE-OBS'. [astropy.wcs.wcs]\n",
      "WARNING: FITSFixedWarning: 'datfix' made the change 'Set MJD-OBS to 57675.540069 from DATE-OBS'. [astropy.wcs.wcs]\n"
     ]
    },
    {
     "name": "stdout",
     "output_type": "stream",
     "text": [
      "reduction file already exists...\n",
      "CM-CYG_LIGHT_V_2016-10-14-12-57-42_40sec_RiLA600_STX-16803_-20c_2bin.fit\n"
     ]
    },
    {
     "name": "stderr",
     "output_type": "stream",
     "text": [
      "WARNING: FITSFixedWarning: 'datfix' made the change 'Set MJD-OBS to 57675.540729 from DATE-OBS'. [astropy.wcs.wcs]\n"
     ]
    },
    {
     "name": "stdout",
     "output_type": "stream",
     "text": [
      "reduction file already exists...\n",
      "CM-CYG_LIGHT_V_2016-10-14-12-58-39_40sec_RiLA600_STX-16803_-19c_2bin.fit\n"
     ]
    },
    {
     "name": "stderr",
     "output_type": "stream",
     "text": [
      "WARNING: FITSFixedWarning: 'datfix' made the change 'Set MJD-OBS to 57675.541343 from DATE-OBS'. [astropy.wcs.wcs]\n"
     ]
    },
    {
     "name": "stdout",
     "output_type": "stream",
     "text": [
      "reduction file already exists...\n",
      "CM-CYG_LIGHT_V_2016-10-14-12-59-32_40sec_RiLA600_STX-16803_-19c_2bin.fit\n"
     ]
    },
    {
     "name": "stderr",
     "output_type": "stream",
     "text": [
      "WARNING: FITSFixedWarning: 'datfix' made the change 'Set MJD-OBS to 57675.541956 from DATE-OBS'. [astropy.wcs.wcs]\n",
      "WARNING: FITSFixedWarning: 'datfix' made the change 'Set MJD-OBS to 57675.542558 from DATE-OBS'. [astropy.wcs.wcs]\n"
     ]
    },
    {
     "name": "stdout",
     "output_type": "stream",
     "text": [
      "reduction file already exists...\n",
      "CM-CYG_LIGHT_V_2016-10-14-13-00-25_40sec_RiLA600_STX-16803_-19c_2bin.fit\n",
      "reduction file already exists...\n",
      "CM-CYG_LIGHT_V_2016-10-14-13-01-17_80sec_RiLA600_STX-16803_-19c_2bin.fit\n"
     ]
    },
    {
     "name": "stderr",
     "output_type": "stream",
     "text": [
      "WARNING: FITSFixedWarning: 'datfix' made the change 'Set MJD-OBS to 57675.548148 from DATE-OBS'. [astropy.wcs.wcs]\n",
      "WARNING: The following header keyword is invalid or follows an unrecognized non-standard convention:\n",
      "DELMAG   =  -0.5755            /Veriable - Comparison,   Delmag                  [astropy.io.fits.card]\n",
      "WARNING: FITSFixedWarning: 'datfix' made the change 'Set MJD-OBS to 57675.549282 from DATE-OBS'. [astropy.wcs.wcs]\n"
     ]
    },
    {
     "name": "stdout",
     "output_type": "stream",
     "text": [
      "reduction file already exists...\n",
      "CM-CYG_LIGHT_V_2016-10-14-13-09-20_80sec_RiLA600_STX-16803_-20c_2bin.fit\n",
      "reduction file already exists...\n",
      "CM-CYG_LIGHT_V_2016-10-14-13-10-58_80sec_RiLA600_STX-16803_-19c_2bin.fit\n"
     ]
    },
    {
     "name": "stderr",
     "output_type": "stream",
     "text": [
      "WARNING: The following header keyword is invalid or follows an unrecognized non-standard convention:\n",
      "DELMAG   =  -0.6398            /Veriable - Comparison,   Delmag                  [astropy.io.fits.card]\n",
      "WARNING: FITSFixedWarning: 'datfix' made the change 'Set MJD-OBS to 57675.550428 from DATE-OBS'. [astropy.wcs.wcs]\n",
      "WARNING: The following header keyword is invalid or follows an unrecognized non-standard convention:\n",
      "DELMAG   =  -0.6310            /Veriable - Comparison,   Delmag                  [astropy.io.fits.card]\n"
     ]
    },
    {
     "name": "stdout",
     "output_type": "stream",
     "text": [
      "reduction file already exists...\n",
      "CM-CYG_LIGHT_V_2016-10-14-13-12-37_80sec_RiLA600_STX-16803_-19c_2bin.fit\n",
      "reduction file already exists...\n",
      "CM-CYG_LIGHT_V_2016-10-14-13-14-10_80sec_RiLA600_STX-16803_-19c_2bin.fit\n"
     ]
    },
    {
     "name": "stderr",
     "output_type": "stream",
     "text": [
      "WARNING: FITSFixedWarning: 'datfix' made the change 'Set MJD-OBS to 57675.551505 from DATE-OBS'. [astropy.wcs.wcs]\n",
      "WARNING: The following header keyword is invalid or follows an unrecognized non-standard convention:\n",
      "DELMAG   =  -0.6328            /Veriable - Comparison,   Delmag                  [astropy.io.fits.card]\n",
      "WARNING: FITSFixedWarning: 'datfix' made the change 'Set MJD-OBS to 57675.552581 from DATE-OBS'. [astropy.wcs.wcs]\n"
     ]
    },
    {
     "name": "stdout",
     "output_type": "stream",
     "text": [
      "reduction file already exists...\n",
      "CM-CYG_LIGHT_V_2016-10-14-13-15-43_80sec_RiLA600_STX-16803_-19c_2bin.fit\n",
      "reduction file already exists...\n",
      "CM-CYG_LIGHT_V_2016-10-14-13-17-20_80sec_RiLA600_STX-16803_-19c_2bin.fit\n"
     ]
    },
    {
     "name": "stderr",
     "output_type": "stream",
     "text": [
      "WARNING: The following header keyword is invalid or follows an unrecognized non-standard convention:\n",
      "DELMAG   =  -0.6036            /Veriable - Comparison,   Delmag                  [astropy.io.fits.card]\n",
      "WARNING: FITSFixedWarning: 'datfix' made the change 'Set MJD-OBS to 57675.553704 from DATE-OBS'. [astropy.wcs.wcs]\n",
      "WARNING: The following header keyword is invalid or follows an unrecognized non-standard convention:\n",
      "DELMAG   =  -0.6340            /Veriable - Comparison,   Delmag                  [astropy.io.fits.card]\n",
      "WARNING: FITSFixedWarning: 'datfix' made the change 'Set MJD-OBS to 57675.554815 from DATE-OBS'. [astropy.wcs.wcs]\n"
     ]
    },
    {
     "name": "stdout",
     "output_type": "stream",
     "text": [
      "reduction file already exists...\n",
      "CM-CYG_LIGHT_V_2016-10-14-13-18-56_80sec_RiLA600_STX-16803_-19c_2bin.fit\n",
      "reduction file already exists...\n",
      "CM-CYG_LIGHT_V_2016-10-14-13-20-29_80sec_RiLA600_STX-16803_-19c_2bin.fit\n"
     ]
    },
    {
     "name": "stderr",
     "output_type": "stream",
     "text": [
      "WARNING: The following header keyword is invalid or follows an unrecognized non-standard convention:\n",
      "DELMAG   =  -0.6307            /Veriable - Comparison,   Delmag                  [astropy.io.fits.card]\n",
      "WARNING: FITSFixedWarning: 'datfix' made the change 'Set MJD-OBS to 57675.555891 from DATE-OBS'. [astropy.wcs.wcs]\n",
      "WARNING: The following header keyword is invalid or follows an unrecognized non-standard convention:\n",
      "DELMAG   =  -0.6727            /Veriable - Comparison,   Delmag                  [astropy.io.fits.card]\n",
      "WARNING: FITSFixedWarning: 'datfix' made the change 'Set MJD-OBS to 57675.556968 from DATE-OBS'. [astropy.wcs.wcs]\n",
      "WARNING: The following header keyword is invalid or follows an unrecognized non-standard convention:\n",
      "DELMAG   =  -0.6428            /Veriable - Comparison,   Delmag                  [astropy.io.fits.card]\n"
     ]
    },
    {
     "name": "stdout",
     "output_type": "stream",
     "text": [
      "reduction file already exists...\n",
      "CM-CYG_LIGHT_V_2016-10-14-13-22-02_80sec_RiLA600_STX-16803_-20c_2bin.fit\n"
     ]
    },
    {
     "name": "stderr",
     "output_type": "stream",
     "text": [
      "WARNING: FITSFixedWarning: 'datfix' made the change 'Set MJD-OBS to 57675.558113 from DATE-OBS'. [astropy.wcs.wcs]\n",
      "WARNING: The following header keyword is invalid or follows an unrecognized non-standard convention:\n",
      "DELMAG   =  -0.6311            /Veriable - Comparison,   Delmag                  [astropy.io.fits.card]\n",
      "WARNING: FITSFixedWarning: 'datfix' made the change 'Set MJD-OBS to 57675.559190 from DATE-OBS'. [astropy.wcs.wcs]\n"
     ]
    },
    {
     "name": "stdout",
     "output_type": "stream",
     "text": [
      "reduction file already exists...\n",
      "CM-CYG_LIGHT_V_2016-10-14-13-23-41_80sec_RiLA600_STX-16803_-19c_2bin.fit\n",
      "reduction file already exists...\n",
      "CM-CYG_LIGHT_V_2016-10-14-13-25-14_80sec_RiLA600_STX-16803_-20c_2bin.fit\n",
      "reduction file already exists...\n",
      "CM-CYG_LIGHT_V_2016-10-14-13-26-48_80sec_RiLA600_STX-16803_-19c_2bin.fit\n"
     ]
    },
    {
     "name": "stderr",
     "output_type": "stream",
     "text": [
      "WARNING: The following header keyword is invalid or follows an unrecognized non-standard convention:\n",
      "DELMAG   =  -0.6304            /Veriable - Comparison,   Delmag                  [astropy.io.fits.card]\n",
      "WARNING: FITSFixedWarning: 'datfix' made the change 'Set MJD-OBS to 57675.560278 from DATE-OBS'. [astropy.wcs.wcs]\n",
      "WARNING: The following header keyword is invalid or follows an unrecognized non-standard convention:\n",
      "DELMAG   =  -0.6376            /Veriable - Comparison,   Delmag                  [astropy.io.fits.card]\n",
      "WARNING: FITSFixedWarning: 'datfix' made the change 'Set MJD-OBS to 57675.561354 from DATE-OBS'. [astropy.wcs.wcs]\n",
      "WARNING: The following header keyword is invalid or follows an unrecognized non-standard convention:\n",
      "DELMAG   =  -0.6245            /Veriable - Comparison,   Delmag                  [astropy.io.fits.card]\n",
      "WARNING: FITSFixedWarning: 'datfix' made the change 'Set MJD-OBS to 57675.562431 from DATE-OBS'. [astropy.wcs.wcs]\n"
     ]
    },
    {
     "name": "stdout",
     "output_type": "stream",
     "text": [
      "reduction file already exists...\n",
      "CM-CYG_LIGHT_V_2016-10-14-13-28-21_80sec_RiLA600_STX-16803_-20c_2bin.fit\n",
      "reduction file already exists...\n",
      "CM-CYG_LIGHT_V_2016-10-14-13-29-54_80sec_RiLA600_STX-16803_-19c_2bin.fit\n",
      "reduction file already exists...\n",
      "CM-CYG_LIGHT_V_2016-10-14-13-31-28_80sec_RiLA600_STX-16803_-19c_2bin.fit\n"
     ]
    },
    {
     "name": "stderr",
     "output_type": "stream",
     "text": [
      "WARNING: The following header keyword is invalid or follows an unrecognized non-standard convention:\n",
      "DELMAG   =  -0.6300            /Veriable - Comparison,   Delmag                  [astropy.io.fits.card]\n",
      "WARNING: FITSFixedWarning: 'datfix' made the change 'Set MJD-OBS to 57675.563519 from DATE-OBS'. [astropy.wcs.wcs]\n",
      "WARNING: The following header keyword is invalid or follows an unrecognized non-standard convention:\n",
      "DELMAG   =  -0.6456            /Veriable - Comparison,   Delmag                  [astropy.io.fits.card]\n",
      "WARNING: FITSFixedWarning: 'datfix' made the change 'Set MJD-OBS to 57675.564595 from DATE-OBS'. [astropy.wcs.wcs]\n",
      "WARNING: The following header keyword is invalid or follows an unrecognized non-standard convention:\n",
      "DELMAG   =  -0.6232            /Veriable - Comparison,   Delmag                  [astropy.io.fits.card]\n",
      "WARNING: FITSFixedWarning: 'datfix' made the change 'Set MJD-OBS to 57675.565671 from DATE-OBS'. [astropy.wcs.wcs]\n"
     ]
    },
    {
     "name": "stdout",
     "output_type": "stream",
     "text": [
      "reduction file already exists...\n",
      "CM-CYG_LIGHT_V_2016-10-14-13-33-01_80sec_RiLA600_STX-16803_-19c_2bin.fit\n",
      "reduction file already exists...\n",
      "CM-CYG_LIGHT_V_2016-10-14-13-34-34_80sec_RiLA600_STX-16803_-19c_2bin.fit\n"
     ]
    },
    {
     "name": "stderr",
     "output_type": "stream",
     "text": [
      "WARNING: The following header keyword is invalid or follows an unrecognized non-standard convention:\n",
      "DELMAG   =  -0.6254            /Veriable - Comparison,   Delmag                  [astropy.io.fits.card]\n",
      "WARNING: FITSFixedWarning: 'datfix' made the change 'Set MJD-OBS to 57675.566817 from DATE-OBS'. [astropy.wcs.wcs]\n"
     ]
    },
    {
     "name": "stdout",
     "output_type": "stream",
     "text": [
      "reduction file already exists...\n",
      "CM-CYG_LIGHT_V_2016-10-14-13-36-13_80sec_RiLA600_STX-16803_-20c_2bin.fit\n",
      "reduction file already exists...\n",
      "CM-CYG_LIGHT_V_2016-10-14-13-37-50_80sec_RiLA600_STX-16803_-19c_2bin.fit\n"
     ]
    },
    {
     "name": "stderr",
     "output_type": "stream",
     "text": [
      "WARNING: The following header keyword is invalid or follows an unrecognized non-standard convention:\n",
      "DELMAG   =  -0.6124            /Veriable - Comparison,   Delmag                  [astropy.io.fits.card]\n",
      "WARNING: FITSFixedWarning: 'datfix' made the change 'Set MJD-OBS to 57675.567940 from DATE-OBS'. [astropy.wcs.wcs]\n",
      "WARNING: The following header keyword is invalid or follows an unrecognized non-standard convention:\n",
      "DELMAG   =  -0.6757            /Veriable - Comparison,   Delmag                  [astropy.io.fits.card]\n",
      "WARNING: FITSFixedWarning: 'datfix' made the change 'Set MJD-OBS to 57675.569120 from DATE-OBS'. [astropy.wcs.wcs]\n"
     ]
    },
    {
     "name": "stdout",
     "output_type": "stream",
     "text": [
      "reduction file already exists...\n",
      "CM-CYG_LIGHT_V_2016-10-14-13-39-32_80sec_RiLA600_STX-16803_-20c_2bin.fit\n"
     ]
    },
    {
     "name": "stderr",
     "output_type": "stream",
     "text": [
      "WARNING: The following header keyword is invalid or follows an unrecognized non-standard convention:\n",
      "DELMAG   =  -0.6379            /Veriable - Comparison,   Delmag                  [astropy.io.fits.card]\n",
      "WARNING: FITSFixedWarning: 'datfix' made the change 'Set MJD-OBS to 57675.570231 from DATE-OBS'. [astropy.wcs.wcs]\n"
     ]
    },
    {
     "name": "stdout",
     "output_type": "stream",
     "text": [
      "reduction file already exists...\n",
      "CM-CYG_LIGHT_V_2016-10-14-13-41-08_80sec_RiLA600_STX-16803_-20c_2bin.fit\n",
      "reduction file already exists...\n",
      "CM-CYG_LIGHT_V_2016-10-14-13-42-42_80sec_RiLA600_STX-16803_-20c_2bin.fit\n"
     ]
    },
    {
     "name": "stderr",
     "output_type": "stream",
     "text": [
      "WARNING: The following header keyword is invalid or follows an unrecognized non-standard convention:\n",
      "DELMAG   =  -0.6705            /Veriable - Comparison,   Delmag                  [astropy.io.fits.card]\n",
      "WARNING: FITSFixedWarning: 'datfix' made the change 'Set MJD-OBS to 57675.571319 from DATE-OBS'. [astropy.wcs.wcs]\n",
      "WARNING: The following header keyword is invalid or follows an unrecognized non-standard convention:\n",
      "DELMAG   =  -0.6617            /Veriable - Comparison,   Delmag                  [astropy.io.fits.card]\n",
      "WARNING: FITSFixedWarning: 'datfix' made the change 'Set MJD-OBS to 57675.572396 from DATE-OBS'. [astropy.wcs.wcs]\n",
      "WARNING: The following header keyword is invalid or follows an unrecognized non-standard convention:\n",
      "DELMAG   =  -0.6712            /Veriable - Comparison,   Delmag                  [astropy.io.fits.card]\n",
      "WARNING: FITSFixedWarning: 'datfix' made the change 'Set MJD-OBS to 57675.573472 from DATE-OBS'. [astropy.wcs.wcs]\n"
     ]
    },
    {
     "name": "stdout",
     "output_type": "stream",
     "text": [
      "reduction file already exists...\n",
      "CM-CYG_LIGHT_V_2016-10-14-13-44-15_80sec_RiLA600_STX-16803_-20c_2bin.fit\n",
      "reduction file already exists...\n",
      "CM-CYG_LIGHT_V_2016-10-14-13-45-48_80sec_RiLA600_STX-16803_-19c_2bin.fit\n"
     ]
    },
    {
     "name": "stderr",
     "output_type": "stream",
     "text": [
      "WARNING: FITSFixedWarning: 'datfix' made the change 'Set MJD-OBS to 57675.574560 from DATE-OBS'. [astropy.wcs.wcs]\n"
     ]
    },
    {
     "name": "stdout",
     "output_type": "stream",
     "text": [
      "reduction file already exists...\n",
      "CM-CYG_LIGHT_V_2016-10-14-13-47-22_80sec_RiLA600_STX-16803_-19c_2bin.fit\n"
     ]
    },
    {
     "name": "stderr",
     "output_type": "stream",
     "text": [
      "WARNING: The following header keyword is invalid or follows an unrecognized non-standard convention:\n",
      "DELMAG   =  -0.6599            /Veriable - Comparison,   Delmag                  [astropy.io.fits.card]\n",
      "WARNING: FITSFixedWarning: 'datfix' made the change 'Set MJD-OBS to 57675.575637 from DATE-OBS'. [astropy.wcs.wcs]\n",
      "WARNING: The following header keyword is invalid or follows an unrecognized non-standard convention:\n",
      "DELMAG   =  -0.6783            /Veriable - Comparison,   Delmag                  [astropy.io.fits.card]\n",
      "WARNING: FITSFixedWarning: 'datfix' made the change 'Set MJD-OBS to 57675.576725 from DATE-OBS'. [astropy.wcs.wcs]\n"
     ]
    },
    {
     "name": "stdout",
     "output_type": "stream",
     "text": [
      "reduction file already exists...\n",
      "CM-CYG_LIGHT_V_2016-10-14-13-48-55_80sec_RiLA600_STX-16803_-19c_2bin.fit\n",
      "reduction file already exists...\n",
      "CM-CYG_LIGHT_V_2016-10-14-13-50-29_80sec_RiLA600_STX-16803_-20c_2bin.fit\n"
     ]
    },
    {
     "name": "stderr",
     "output_type": "stream",
     "text": [
      "WARNING: The following header keyword is invalid or follows an unrecognized non-standard convention:\n",
      "DELMAG   =  -0.6508            /Veriable - Comparison,   Delmag                  [astropy.io.fits.card]\n",
      "WARNING: FITSFixedWarning: 'datfix' made the change 'Set MJD-OBS to 57675.577801 from DATE-OBS'. [astropy.wcs.wcs]\n",
      "WARNING: The following header keyword is invalid or follows an unrecognized non-standard convention:\n",
      "DELMAG   =  -0.6856            /Veriable - Comparison,   Delmag                  [astropy.io.fits.card]\n"
     ]
    },
    {
     "name": "stdout",
     "output_type": "stream",
     "text": [
      "reduction file already exists...\n",
      "CM-CYG_LIGHT_V_2016-10-14-13-52-02_80sec_RiLA600_STX-16803_-19c_2bin.fit\n",
      "reduction file already exists...\n",
      "CM-CYG_LIGHT_V_2016-10-14-13-53-36_80sec_RiLA600_STX-16803_-19c_2bin.fit\n"
     ]
    },
    {
     "name": "stderr",
     "output_type": "stream",
     "text": [
      "WARNING: FITSFixedWarning: 'datfix' made the change 'Set MJD-OBS to 57675.578889 from DATE-OBS'. [astropy.wcs.wcs]\n",
      "WARNING: The following header keyword is invalid or follows an unrecognized non-standard convention:\n",
      "DELMAG   =  -0.6653            /Veriable - Comparison,   Delmag                  [astropy.io.fits.card]\n",
      "WARNING: FITSFixedWarning: 'datfix' made the change 'Set MJD-OBS to 57675.579965 from DATE-OBS'. [astropy.wcs.wcs]\n"
     ]
    },
    {
     "name": "stdout",
     "output_type": "stream",
     "text": [
      "reduction file already exists...\n",
      "CM-CYG_LIGHT_V_2016-10-14-13-55-09_80sec_RiLA600_STX-16803_-20c_2bin.fit\n",
      "reduction file already exists...\n",
      "CM-CYG_LIGHT_V_2016-10-14-13-56-42_80sec_RiLA600_STX-16803_-19c_2bin.fit\n"
     ]
    },
    {
     "name": "stderr",
     "output_type": "stream",
     "text": [
      "WARNING: The following header keyword is invalid or follows an unrecognized non-standard convention:\n",
      "DELMAG   =  -0.6548            /Veriable - Comparison,   Delmag                  [astropy.io.fits.card]\n",
      "WARNING: FITSFixedWarning: 'datfix' made the change 'Set MJD-OBS to 57675.581042 from DATE-OBS'. [astropy.wcs.wcs]\n",
      "WARNING: The following header keyword is invalid or follows an unrecognized non-standard convention:\n",
      "DELMAG   =  -0.6460            /Veriable - Comparison,   Delmag                  [astropy.io.fits.card]\n",
      "WARNING: FITSFixedWarning: 'datfix' made the change 'Set MJD-OBS to 57675.582130 from DATE-OBS'. [astropy.wcs.wcs]\n",
      "WARNING: The following header keyword is invalid or follows an unrecognized non-standard convention:\n",
      "DELMAG   =  -0.6477            /Veriable - Comparison,   Delmag                  [astropy.io.fits.card]\n"
     ]
    },
    {
     "name": "stdout",
     "output_type": "stream",
     "text": [
      "reduction file already exists...\n",
      "CM-CYG_LIGHT_V_2016-10-14-13-58-16_80sec_RiLA600_STX-16803_-19c_2bin.fit\n"
     ]
    },
    {
     "name": "stderr",
     "output_type": "stream",
     "text": [
      "WARNING: FITSFixedWarning: 'datfix' made the change 'Set MJD-OBS to 57675.583206 from DATE-OBS'. [astropy.wcs.wcs]\n",
      "WARNING: The following header keyword is invalid or follows an unrecognized non-standard convention:\n",
      "DELMAG   =  -0.6541            /Veriable - Comparison,   Delmag                  [astropy.io.fits.card]\n",
      "WARNING: FITSFixedWarning: 'datfix' made the change 'Set MJD-OBS to 57675.584282 from DATE-OBS'. [astropy.wcs.wcs]\n"
     ]
    },
    {
     "name": "stdout",
     "output_type": "stream",
     "text": [
      "reduction file already exists...\n",
      "CM-CYG_LIGHT_V_2016-10-14-13-59-49_80sec_RiLA600_STX-16803_-19c_2bin.fit\n",
      "reduction file already exists...\n",
      "CM-CYG_LIGHT_V_2016-10-14-14-01-22_80sec_RiLA600_STX-16803_-19c_2bin.fit\n"
     ]
    },
    {
     "name": "stderr",
     "output_type": "stream",
     "text": [
      "WARNING: The following header keyword is invalid or follows an unrecognized non-standard convention:\n",
      "DELMAG   =  -0.6375            /Veriable - Comparison,   Delmag                  [astropy.io.fits.card]\n",
      "WARNING: FITSFixedWarning: 'datfix' made the change 'Set MJD-OBS to 57675.585394 from DATE-OBS'. [astropy.wcs.wcs]\n"
     ]
    },
    {
     "name": "stdout",
     "output_type": "stream",
     "text": [
      "reduction file already exists...\n",
      "CM-CYG_LIGHT_V_2016-10-14-14-02-58_80sec_RiLA600_STX-16803_-19c_2bin.fit\n"
     ]
    },
    {
     "name": "stderr",
     "output_type": "stream",
     "text": [
      "WARNING: The following header keyword is invalid or follows an unrecognized non-standard convention:\n",
      "DELMAG   =  -0.6055            /Veriable - Comparison,   Delmag                  [astropy.io.fits.card]\n",
      "WARNING: FITSFixedWarning: 'datfix' made the change 'Set MJD-OBS to 57675.586470 from DATE-OBS'. [astropy.wcs.wcs]\n",
      "WARNING: The following header keyword is invalid or follows an unrecognized non-standard convention:\n",
      "DELMAG   =  -0.5942            /Veriable - Comparison,   Delmag                  [astropy.io.fits.card]\n"
     ]
    },
    {
     "name": "stdout",
     "output_type": "stream",
     "text": [
      "reduction file already exists...\n",
      "CM-CYG_LIGHT_V_2016-10-14-14-04-31_80sec_RiLA600_STX-16803_-19c_2bin.fit\n",
      "reduction file already exists...\n",
      "CM-CYG_LIGHT_V_2016-10-14-14-06-08_80sec_RiLA600_STX-16803_-20c_2bin.fit\n"
     ]
    },
    {
     "name": "stderr",
     "output_type": "stream",
     "text": [
      "WARNING: FITSFixedWarning: 'datfix' made the change 'Set MJD-OBS to 57675.587593 from DATE-OBS'. [astropy.wcs.wcs]\n"
     ]
    }
   ],
   "source": [
    "for DOINGDIR in DOINGDIRs[:1] :\n",
    "    DOINGDIR = Path(DOINGDIR)\n",
    "    print(f\"Starting: {str(DOINGDIR.parts[-1])}\")\n",
    "    \n",
    "    sMASTERDIR = DOINGDIR / _astro_utilities.master_dir\n",
    "    REDUCEDDIR = DOINGDIR / _astro_utilities.reduced_dir\n",
    "    REDUC_nightsky = DOINGDIR / _astro_utilities.reduced_nightsky_dir\n",
    "\n",
    "    if not sMASTERDIR.exists():\n",
    "        os.makedirs(str(sMASTERDIR))\n",
    "        print(\"{} is created...\".format(str(sMASTERDIR)))\n",
    "\n",
    "    if not REDUCEDDIR.exists():\n",
    "        os.makedirs(str(REDUCEDDIR))\n",
    "        print(\"{} is created...\".format(str(REDUCEDDIR)))\n",
    "\n",
    "    if not REDUC_nightsky.exists():\n",
    "        os.makedirs(\"{}\".format(str(REDUC_nightsky)))\n",
    "        print(\"{} is created...\".format(str(REDUC_nightsky)))\n",
    "\n",
    "    summary = yfu.make_summary(DOINGDIR/\"*.fit*\")\n",
    "    if summary is not None :\n",
    "        #print(summary)\n",
    "        print(\"len(summary):\", len(summary))\n",
    "        print(\"summary:\", summary)\n",
    "        #print(summary[\"file\"][0])\n",
    "\n",
    "        df_light = summary.loc[summary[\"IMAGETYP\"] == \"LIGHT\"].copy()\n",
    "        df_light = df_light.reset_index(drop=True)\n",
    "\n",
    "        for _, row in df_light.iterrows():\n",
    "\n",
    "            fpath = Path(row[\"file\"])\n",
    "            ccd = yfu.load_ccd(fpath)\n",
    "            filt = ccd.header[\"FILTER\"]\n",
    "            expt = ccd.header[\"EXPTIME\"]\n",
    "            if (REDUCEDDIR/ fpath.name).exists() :\n",
    "                print(f\"reduction file already exists...\\n{fpath.name}\")\n",
    "                pass\n",
    "            else :\n",
    "                try : \n",
    "                    red = yfu.ccdred(\n",
    "                        ccd,\n",
    "                        output=Path(f\"{REDUCEDDIR/ fpath.name}\"),\n",
    "                        mdarkpath=str(MASTERDIR / \"master_dark_{:.0f}sec.fits\".format(expt)),\n",
    "                        mflatpath=str(MASTERDIR / \"master_flat_{}_norm.fits\".format(filt.upper())),\n",
    "                        # flat_norm_value=1,  # 1 = skip normalization, None = normalize by mean\n",
    "                        overwrite=True\n",
    "                        )\n",
    "                except FileNotFoundError: \n",
    "                    # _Python_utilities.write_log(err_log_file, \"FileNotFoundError\")\n",
    "                    pass"
   ]
  },
  {
   "cell_type": "code",
   "execution_count": 18,
   "metadata": {},
   "outputs": [
    {
     "name": "stdout",
     "output_type": "stream",
     "text": [
      "The dataframe(df_light_filt) B is empty\n",
      "len(df_light_filt): 60\n",
      "df_light_filt:                                                  file  filesize  SIMPLE  \\\n",
      "0   /mnt/Rdata/OBS_data/2016-Variable/-_-_-_2016-_...   8432640    True   \n",
      "1   /mnt/Rdata/OBS_data/2016-Variable/-_-_-_2016-_...   8432640    True   \n",
      "2   /mnt/Rdata/OBS_data/2016-Variable/-_-_-_2016-_...   8432640    True   \n",
      "3   /mnt/Rdata/OBS_data/2016-Variable/-_-_-_2016-_...   8432640    True   \n",
      "4   /mnt/Rdata/OBS_data/2016-Variable/-_-_-_2016-_...   8432640    True   \n",
      "5   /mnt/Rdata/OBS_data/2016-Variable/-_-_-_2016-_...   8432640    True   \n",
      "6   /mnt/Rdata/OBS_data/2016-Variable/-_-_-_2016-_...   8432640    True   \n",
      "7   /mnt/Rdata/OBS_data/2016-Variable/-_-_-_2016-_...   8432640    True   \n",
      "8   /mnt/Rdata/OBS_data/2016-Variable/-_-_-_2016-_...   8432640    True   \n",
      "9   /mnt/Rdata/OBS_data/2016-Variable/-_-_-_2016-_...   8432640    True   \n",
      "10  /mnt/Rdata/OBS_data/2016-Variable/-_-_-_2016-_...   8432640    True   \n",
      "11  /mnt/Rdata/OBS_data/2016-Variable/-_-_-_2016-_...   8432640    True   \n",
      "12  /mnt/Rdata/OBS_data/2016-Variable/-_-_-_2016-_...   8432640    True   \n",
      "13  /mnt/Rdata/OBS_data/2016-Variable/-_-_-_2016-_...   8432640    True   \n",
      "14  /mnt/Rdata/OBS_data/2016-Variable/-_-_-_2016-_...   8432640    True   \n",
      "15  /mnt/Rdata/OBS_data/2016-Variable/-_-_-_2016-_...   8432640    True   \n",
      "16  /mnt/Rdata/OBS_data/2016-Variable/-_-_-_2016-_...   8432640    True   \n",
      "17  /mnt/Rdata/OBS_data/2016-Variable/-_-_-_2016-_...   8432640    True   \n",
      "18  /mnt/Rdata/OBS_data/2016-Variable/-_-_-_2016-_...   8432640    True   \n",
      "19  /mnt/Rdata/OBS_data/2016-Variable/-_-_-_2016-_...   8432640    True   \n",
      "20  /mnt/Rdata/OBS_data/2016-Variable/-_-_-_2016-_...   8432640    True   \n",
      "21  /mnt/Rdata/OBS_data/2016-Variable/-_-_-_2016-_...   8432640    True   \n",
      "22  /mnt/Rdata/OBS_data/2016-Variable/-_-_-_2016-_...   8432640    True   \n",
      "23  /mnt/Rdata/OBS_data/2016-Variable/-_-_-_2016-_...   8432640    True   \n",
      "24  /mnt/Rdata/OBS_data/2016-Variable/-_-_-_2016-_...   8432640    True   \n",
      "25  /mnt/Rdata/OBS_data/2016-Variable/-_-_-_2016-_...   8432640    True   \n",
      "26  /mnt/Rdata/OBS_data/2016-Variable/-_-_-_2016-_...   8432640    True   \n",
      "27  /mnt/Rdata/OBS_data/2016-Variable/-_-_-_2016-_...   8432640    True   \n",
      "28  /mnt/Rdata/OBS_data/2016-Variable/-_-_-_2016-_...   8432640    True   \n",
      "29  /mnt/Rdata/OBS_data/2016-Variable/-_-_-_2016-_...   8432640    True   \n",
      "30  /mnt/Rdata/OBS_data/2016-Variable/-_-_-_2016-_...   8432640    True   \n",
      "31  /mnt/Rdata/OBS_data/2016-Variable/-_-_-_2016-_...   8432640    True   \n",
      "32  /mnt/Rdata/OBS_data/2016-Variable/-_-_-_2016-_...   8432640    True   \n",
      "33  /mnt/Rdata/OBS_data/2016-Variable/-_-_-_2016-_...   8432640    True   \n",
      "34  /mnt/Rdata/OBS_data/2016-Variable/-_-_-_2016-_...   8432640    True   \n",
      "35  /mnt/Rdata/OBS_data/2016-Variable/-_-_-_2016-_...   8432640    True   \n",
      "36  /mnt/Rdata/OBS_data/2016-Variable/-_-_-_2016-_...   8432640    True   \n",
      "37  /mnt/Rdata/OBS_data/2016-Variable/-_-_-_2016-_...   8432640    True   \n",
      "38  /mnt/Rdata/OBS_data/2016-Variable/-_-_-_2016-_...   8432640    True   \n",
      "39  /mnt/Rdata/OBS_data/2016-Variable/-_-_-_2016-_...   8432640    True   \n",
      "40  /mnt/Rdata/OBS_data/2016-Variable/-_-_-_2016-_...   8432640    True   \n",
      "41  /mnt/Rdata/OBS_data/2016-Variable/-_-_-_2016-_...   8432640    True   \n",
      "42  /mnt/Rdata/OBS_data/2016-Variable/-_-_-_2016-_...   8432640    True   \n",
      "43  /mnt/Rdata/OBS_data/2016-Variable/-_-_-_2016-_...   8432640    True   \n",
      "44  /mnt/Rdata/OBS_data/2016-Variable/-_-_-_2016-_...   8432640    True   \n",
      "45  /mnt/Rdata/OBS_data/2016-Variable/-_-_-_2016-_...   8432640    True   \n",
      "46  /mnt/Rdata/OBS_data/2016-Variable/-_-_-_2016-_...   8432640    True   \n",
      "47  /mnt/Rdata/OBS_data/2016-Variable/-_-_-_2016-_...   8432640    True   \n",
      "48  /mnt/Rdata/OBS_data/2016-Variable/-_-_-_2016-_...   8432640    True   \n",
      "49  /mnt/Rdata/OBS_data/2016-Variable/-_-_-_2016-_...   8432640    True   \n",
      "50  /mnt/Rdata/OBS_data/2016-Variable/-_-_-_2016-_...   8432640    True   \n",
      "51  /mnt/Rdata/OBS_data/2016-Variable/-_-_-_2016-_...   8432640    True   \n",
      "52  /mnt/Rdata/OBS_data/2016-Variable/-_-_-_2016-_...   8432640    True   \n",
      "53  /mnt/Rdata/OBS_data/2016-Variable/-_-_-_2016-_...   8432640    True   \n",
      "54  /mnt/Rdata/OBS_data/2016-Variable/-_-_-_2016-_...   8432640    True   \n",
      "55  /mnt/Rdata/OBS_data/2016-Variable/-_-_-_2016-_...   8432640    True   \n",
      "56  /mnt/Rdata/OBS_data/2016-Variable/-_-_-_2016-_...   8432640    True   \n",
      "57  /mnt/Rdata/OBS_data/2016-Variable/-_-_-_2016-_...   8432640    True   \n",
      "58  /mnt/Rdata/OBS_data/2016-Variable/-_-_-_2016-_...   8432640    True   \n",
      "59  /mnt/Rdata/OBS_data/2016-Variable/-_-_-_2016-_...   8432640    True   \n",
      "\n",
      "    BITPIX  NAXIS  NAXIS1  NAXIS2  BSCALE    BZERO OBSERVAT  ...  \\\n",
      "0       16      2    2048    2048     1.0  32768.0     GSHS  ...   \n",
      "1       16      2    2048    2048     1.0  32768.0     GSHS  ...   \n",
      "2       16      2    2048    2048     1.0  32768.0     GSHS  ...   \n",
      "3       16      2    2048    2048     1.0  32768.0     GSHS  ...   \n",
      "4       16      2    2048    2048     1.0  32768.0     GSHS  ...   \n",
      "5       16      2    2048    2048     1.0  32768.0     GSHS  ...   \n",
      "6       16      2    2048    2048     1.0  32768.0     GSHS  ...   \n",
      "7       16      2    2048    2048     1.0  32768.0     GSHS  ...   \n",
      "8       16      2    2048    2048     1.0  32768.0     GSHS  ...   \n",
      "9       16      2    2048    2048     1.0  32768.0     GSHS  ...   \n",
      "10      16      2    2048    2048     1.0  32768.0     GSHS  ...   \n",
      "11      16      2    2048    2048     1.0  32768.0     GSHS  ...   \n",
      "12      16      2    2048    2048     1.0  32768.0     GSHS  ...   \n",
      "13      16      2    2048    2048     1.0  32768.0     GSHS  ...   \n",
      "14      16      2    2048    2048     1.0  32768.0     GSHS  ...   \n",
      "15      16      2    2048    2048     1.0  32768.0     GSHS  ...   \n",
      "16      16      2    2048    2048     1.0  32768.0     GSHS  ...   \n",
      "17      16      2    2048    2048     1.0  32768.0     GSHS  ...   \n",
      "18      16      2    2048    2048     1.0  32768.0     GSHS  ...   \n",
      "19      16      2    2048    2048     1.0  32768.0     GSHS  ...   \n",
      "20      16      2    2048    2048     1.0  32768.0     GSHS  ...   \n",
      "21      16      2    2048    2048     1.0  32768.0     GSHS  ...   \n",
      "22      16      2    2048    2048     1.0  32768.0     GSHS  ...   \n",
      "23      16      2    2048    2048     1.0  32768.0     GSHS  ...   \n",
      "24      16      2    2048    2048     1.0  32768.0     GSHS  ...   \n",
      "25      16      2    2048    2048     1.0  32768.0     GSHS  ...   \n",
      "26      16      2    2048    2048     1.0  32768.0     GSHS  ...   \n",
      "27      16      2    2048    2048     1.0  32768.0     GSHS  ...   \n",
      "28      16      2    2048    2048     1.0  32768.0     GSHS  ...   \n",
      "29      16      2    2048    2048     1.0  32768.0     GSHS  ...   \n",
      "30      16      2    2048    2048     1.0  32768.0     GSHS  ...   \n",
      "31      16      2    2048    2048     1.0  32768.0     GSHS  ...   \n",
      "32      16      2    2048    2048     1.0  32768.0     GSHS  ...   \n",
      "33      16      2    2048    2048     1.0  32768.0     GSHS  ...   \n",
      "34      16      2    2048    2048     1.0  32768.0     GSHS  ...   \n",
      "35      16      2    2048    2048     1.0  32768.0     GSHS  ...   \n",
      "36      16      2    2048    2048     1.0  32768.0     GSHS  ...   \n",
      "37      16      2    2048    2048     1.0  32768.0     GSHS  ...   \n",
      "38      16      2    2048    2048     1.0  32768.0     GSHS  ...   \n",
      "39      16      2    2048    2048     1.0  32768.0     GSHS  ...   \n",
      "40      16      2    2048    2048     1.0  32768.0     GSHS  ...   \n",
      "41      16      2    2048    2048     1.0  32768.0     GSHS  ...   \n",
      "42      16      2    2048    2048     1.0  32768.0     GSHS  ...   \n",
      "43      16      2    2048    2048     1.0  32768.0     GSHS  ...   \n",
      "44      16      2    2048    2048     1.0  32768.0     GSHS  ...   \n",
      "45      16      2    2048    2048     1.0  32768.0     GSHS  ...   \n",
      "46      16      2    2048    2048     1.0  32768.0     GSHS  ...   \n",
      "47      16      2    2048    2048     1.0  32768.0     GSHS  ...   \n",
      "48      16      2    2048    2048     1.0  32768.0     GSHS  ...   \n",
      "49      16      2    2048    2048     1.0  32768.0     GSHS  ...   \n",
      "50      16      2    2048    2048     1.0  32768.0     GSHS  ...   \n",
      "51      16      2    2048    2048     1.0  32768.0     GSHS  ...   \n",
      "52      16      2    2048    2048     1.0  32768.0     GSHS  ...   \n",
      "53      16      2    2048    2048     1.0  32768.0     GSHS  ...   \n",
      "54      16      2    2048    2048     1.0  32768.0     GSHS  ...   \n",
      "55      16      2    2048    2048     1.0  32768.0     GSHS  ...   \n",
      "56      16      2    2048    2048     1.0  32768.0     GSHS  ...   \n",
      "57      16      2    2048    2048     1.0  32768.0     GSHS  ...   \n",
      "58      16      2    2048    2048     1.0  32768.0     GSHS  ...   \n",
      "59      16      2    2048    2048     1.0  32768.0     GSHS  ...   \n",
      "\n",
      "          AP_1_1        AP_2_0 BP_ORDER    BP_0_0        BP_0_1        BP_0_2  \\\n",
      "0   3.868278e-07 -3.687715e-07        2  0.000038  1.029952e-07 -2.477246e-07   \n",
      "1   4.376565e-07 -2.564305e-07        2  0.000010  8.237730e-08 -1.549707e-07   \n",
      "2   4.615919e-07 -3.064064e-07        2  0.000019  6.419130e-08 -1.840667e-07   \n",
      "3   4.248378e-07 -3.469762e-07        2  0.000016  7.245921e-08 -1.447059e-07   \n",
      "4   4.815403e-07 -3.737824e-07        2  0.000026  8.010681e-08 -1.757687e-07   \n",
      "5   4.082852e-07 -2.680916e-07        2  0.000010  6.295978e-08 -1.162632e-07   \n",
      "6   4.595622e-07 -2.212950e-07        2  0.000001  7.835967e-08 -1.032385e-07   \n",
      "7   4.568889e-07 -2.266842e-07        2 -0.000001  7.073607e-08 -2.701386e-08   \n",
      "8   4.582807e-07 -2.675827e-07        2  0.000015  7.081580e-08 -1.258155e-07   \n",
      "9   4.306163e-07 -2.908968e-07        2  0.000011  6.980394e-08 -2.128833e-08   \n",
      "10  4.907010e-07 -2.907759e-07        2  0.000027  6.154839e-08 -1.058501e-08   \n",
      "11  4.738317e-07 -2.752180e-07        2  0.000018  7.307210e-08 -4.309029e-08   \n",
      "12  4.521614e-07 -2.819555e-07        2  0.000009  6.709943e-08 -4.805303e-08   \n",
      "13  4.237208e-07 -3.108165e-07        2  0.000027  4.606203e-08 -4.287817e-08   \n",
      "14  4.711571e-07 -2.677973e-07        2  0.000002  6.411741e-08 -2.094678e-08   \n",
      "15  3.503255e-07 -2.586821e-07        2  0.000017  7.942173e-08  1.513630e-07   \n",
      "16  4.548248e-07 -2.714925e-07        2  0.000026  6.418787e-08  9.742730e-08   \n",
      "17  4.507933e-07 -2.663650e-07        2  0.000030  7.607693e-08  1.323995e-07   \n",
      "18  4.413475e-07 -2.971306e-07        2  0.000037  8.747982e-08  1.700977e-07   \n",
      "19  5.169594e-07 -3.302999e-07        2  0.000064  1.595144e-07  2.454576e-07   \n",
      "20  4.305362e-07 -2.565842e-07        2  0.000045  1.524816e-07  2.729188e-07   \n",
      "21  4.536469e-07 -2.391780e-07        2  0.000075  2.128746e-07  3.359085e-07   \n",
      "22  4.534978e-07 -2.028818e-07        2  0.000034  1.580509e-07  2.983913e-07   \n",
      "23  3.059039e-07 -2.264562e-07        2  0.000025  4.453420e-07  5.517237e-07   \n",
      "24  4.986197e-07 -1.060611e-07        2  0.000040  5.421635e-07  5.844895e-07   \n",
      "25  5.305180e-07 -1.126649e-07        2  0.000041  5.045075e-07  5.472659e-07   \n",
      "26  4.963241e-07 -1.830534e-07        2  0.000052  4.321010e-07  4.892792e-07   \n",
      "27  4.682548e-07 -1.839958e-07        2  0.000037  3.525649e-07  4.593372e-07   \n",
      "28  4.449169e-07 -1.925143e-07        2  0.000049  4.895161e-07  5.917026e-07   \n",
      "29  3.607209e-07 -2.153112e-07        2  0.000040  3.787107e-07  5.204507e-07   \n",
      "30  4.243635e-07 -2.387258e-07        2  0.000023  1.798216e-07 -3.148760e-07   \n",
      "31  3.938010e-07 -2.024188e-07        2  0.000025  1.370117e-07 -2.711281e-07   \n",
      "32  3.664545e-07 -2.338712e-07        2  0.000045  1.166015e-07 -2.404388e-07   \n",
      "33  4.189845e-07 -3.095910e-07        2  0.000088  1.863424e-07 -3.438328e-07   \n",
      "34  3.813447e-07 -2.937775e-07        2  0.000080  1.301636e-07 -2.576011e-07   \n",
      "35  4.410559e-07 -2.804489e-07        2  0.000058  8.701222e-08 -1.883692e-08   \n",
      "36  4.284748e-07 -1.924705e-07        2  0.000029  7.445622e-08  3.782380e-08   \n",
      "37  4.796517e-07 -2.295669e-07        2  0.000013  1.025117e-07 -1.941879e-07   \n",
      "38  5.510243e-07 -2.863880e-07        2  0.000046  1.099092e-07 -2.053633e-07   \n",
      "39  4.300247e-07 -2.696344e-07        2  0.000034  5.886354e-08 -8.974136e-08   \n",
      "40  5.066394e-07 -3.251288e-07        2  0.000057  7.204269e-08  6.556654e-08   \n",
      "41  2.376423e-07 -2.642311e-07        2  0.000012  1.845219e-07  3.432579e-07   \n",
      "42  5.240942e-07 -8.353121e-08        2 -0.000008  3.685578e-07  4.658275e-07   \n",
      "43  2.541473e-07 -2.521524e-07        2  0.000017  2.677768e-07  4.610013e-07   \n",
      "44  2.945438e-07 -2.871197e-07        2  0.000050  2.685621e-07  4.288006e-07   \n",
      "45  2.292394e-07 -3.061808e-07        2  0.000060  2.174946e-07  3.591886e-07   \n",
      "46  2.589891e-07 -2.944435e-07        2  0.000058  2.904098e-07  4.255093e-07   \n",
      "47  5.419831e-07 -1.067218e-07        2 -0.000018  2.727700e-07  3.674647e-07   \n",
      "48  5.826030e-07 -1.315400e-07        2 -0.000083  4.009908e-07 -3.859743e-07   \n",
      "49  3.167214e-07 -3.088958e-07        2  0.000058  2.987834e-07 -5.035649e-07   \n",
      "50  4.019167e-07 -3.380197e-07        2  0.000088  2.116561e-07 -3.797858e-07   \n",
      "51  2.765576e-07 -3.849511e-07        2  0.000115  1.586023e-07 -3.485808e-07   \n",
      "52  3.302503e-07 -3.809445e-07        2  0.000100  9.348046e-08 -1.977930e-07   \n",
      "53  2.842394e-07 -3.407902e-07        2  0.000068  4.974607e-08 -1.042631e-07   \n",
      "54  5.727614e-07 -1.841588e-07        2 -0.000024  1.520104e-07 -7.708072e-08   \n",
      "55  6.166698e-07 -2.024248e-07        2 -0.000057  2.175357e-07  1.341295e-09   \n",
      "56  6.140094e-07 -1.078985e-07        2 -0.000068  1.867635e-07  7.684226e-09   \n",
      "57  3.961629e-07 -2.817497e-07        2  0.000086  1.185727e-07  1.641153e-07   \n",
      "58  6.830574e-07 -1.391664e-07        2  0.000022  2.399966e-07  2.560177e-07   \n",
      "59  6.047911e-07  6.589964e-09        2 -0.000038  2.811612e-07  3.374721e-07   \n",
      "\n",
      "          BP_1_0        BP_1_1        BP_2_0                 DATE  \n",
      "0  -3.573863e-08  3.050158e-07  2.532095e-07  2024-07-13T22:38:28  \n",
      "1   1.158204e-08  3.202888e-07  3.222410e-07  2024-07-10T20:12:24  \n",
      "2  -8.081503e-09  2.194510e-07  1.902670e-07  2024-07-13T22:39:11  \n",
      "3   1.259835e-08  2.948750e-07  2.655048e-07  2024-07-10T20:12:28  \n",
      "4   5.574814e-09  2.220073e-07  2.767797e-07  2024-07-10T20:12:33  \n",
      "5   2.545836e-08  1.783043e-07  2.962384e-07  2024-07-13T22:39:16  \n",
      "6   4.213609e-08  1.958075e-07  3.569296e-07  2024-07-13T22:39:20  \n",
      "7   5.421069e-08  1.544372e-07  3.490911e-07  2024-07-13T22:39:25  \n",
      "8   2.086555e-08  1.746853e-07  3.377379e-07  2024-07-10T20:12:37  \n",
      "9   4.298053e-08  2.208610e-07  3.998924e-07  2024-07-13T22:39:29  \n",
      "10  1.389787e-08  1.180194e-07  3.610404e-07  2024-07-13T22:39:34  \n",
      "11  3.209947e-08  1.734185e-07  4.142282e-07  2024-07-13T22:39:39  \n",
      "12  4.605718e-08  1.270832e-07  3.453085e-07  2024-07-10T20:12:41  \n",
      "13  7.990520e-09  1.282080e-07  3.234826e-07  2024-07-10T20:12:45  \n",
      "14  4.771813e-08  1.630677e-07  3.012872e-07  2024-07-10T20:12:50  \n",
      "15  2.057973e-08 -7.621257e-10  2.552847e-07  2024-07-10T20:12:54  \n",
      "16  3.593695e-09 -1.107887e-08  2.494379e-07  2024-07-10T20:12:59  \n",
      "17 -4.957033e-09 -4.975279e-08  2.457681e-07  2024-07-10T20:13:03  \n",
      "18 -2.360516e-08 -4.611631e-08  2.069290e-07  2024-07-13T22:39:44  \n",
      "19 -5.690445e-08 -9.117879e-08  2.590455e-07  2024-07-10T20:13:07  \n",
      "20 -4.511275e-08 -8.952798e-08  1.920105e-07  2024-07-13T22:39:48  \n",
      "21 -1.055157e-07 -1.921583e-07  1.921244e-07  2024-07-13T22:39:53  \n",
      "22 -3.488325e-08 -9.429441e-08  1.558957e-07  2024-07-13T22:39:58  \n",
      "23  4.701397e-09  9.836911e-09  1.216409e-07  2024-07-13T22:40:03  \n",
      "24 -1.400640e-08 -3.428985e-08  2.155963e-07  2024-07-13T22:40:07  \n",
      "25 -1.131544e-08 -3.553143e-08  2.612228e-07  2024-07-13T22:40:11  \n",
      "26 -2.430403e-08 -3.408536e-08  3.024549e-07  2024-07-13T22:40:16  \n",
      "27 -1.953834e-08 -2.647994e-08  2.012105e-07  2024-07-13T22:40:21  \n",
      "28 -6.119785e-08 -7.659490e-08  6.114316e-08  2024-07-13T22:40:26  \n",
      "29 -4.659500e-08 -7.034089e-08  6.173822e-08  2024-07-13T22:40:30  \n",
      "30  7.453434e-08  9.629060e-08  7.437122e-07  2024-07-13T22:40:35  \n",
      "31  5.907383e-08  2.851473e-08  6.959835e-07  2024-07-10T20:13:12  \n",
      "32  3.928685e-08  1.777891e-08  7.409211e-07  2024-07-13T22:40:39  \n",
      "33  8.038256e-09 -1.289064e-07  6.656103e-07  2024-07-13T22:40:44  \n",
      "34  1.870894e-08 -2.013559e-07  6.209665e-07  2024-07-13T22:40:48  \n",
      "35  2.179023e-08 -8.733826e-08  5.545770e-07  2024-07-13T22:40:53  \n",
      "36  2.753402e-08 -8.405047e-08  4.387367e-07  2024-07-13T22:40:57  \n",
      "37  1.449944e-08  2.103834e-07  3.528439e-07  2024-07-13T22:41:45  \n",
      "38 -6.011439e-09  1.815567e-08  4.149738e-07  2024-07-10T20:13:16  \n",
      "39 -5.436719e-09  1.115611e-07  4.016841e-07  2024-07-10T20:13:20  \n",
      "40 -3.395169e-08 -1.216027e-07  2.927935e-07  2024-07-13T22:41:49  \n",
      "41  1.565187e-08 -2.646596e-09  1.317482e-07  2024-07-13T22:41:54  \n",
      "42  6.955658e-08  7.591214e-08  2.014327e-07  2024-07-13T22:41:59  \n",
      "43 -3.179649e-08 -4.837739e-08 -5.885751e-08  2024-07-13T22:42:04  \n",
      "44 -6.100679e-08 -1.065565e-07  8.599004e-08  2024-07-13T22:42:08  \n",
      "45 -5.295293e-08 -8.626929e-08  1.961775e-07  2024-07-10T20:13:24  \n",
      "46 -4.210879e-08 -8.486254e-08  2.064012e-07  2024-07-10T20:13:28  \n",
      "47  8.596067e-08  9.399357e-08  2.587413e-07  2024-07-13T22:42:13  \n",
      "48  7.709865e-08  5.983106e-07  1.187147e-06  2024-07-13T22:42:17  \n",
      "49  1.122867e-07 -1.579455e-07  7.371020e-07  2024-07-10T20:13:32  \n",
      "50  6.791229e-08 -2.041633e-07  7.035591e-07  2024-07-10T20:13:36  \n",
      "51  2.249249e-08 -1.562090e-07  7.302478e-07  2024-07-13T22:42:22  \n",
      "52  5.237308e-09 -1.802161e-07  5.800255e-07  2024-07-13T22:42:27  \n",
      "53  1.826123e-08 -2.016432e-07  4.602717e-07  2024-07-13T22:42:32  \n",
      "54  1.220335e-07  1.951530e-07  6.385716e-07  2024-07-13T22:42:36  \n",
      "55  2.095231e-07  2.456219e-07  7.412784e-07  2024-07-13T22:42:41  \n",
      "56  1.819041e-07  2.217963e-07  6.226266e-07  2024-07-10T20:13:41  \n",
      "57 -9.578536e-08 -2.296491e-07  3.012389e-07  2024-07-13T22:43:28  \n",
      "58  1.950678e-08  1.846119e-08  4.250613e-07  2024-07-10T20:13:45  \n",
      "59  1.180594e-07  1.300666e-07  3.349002e-07  2024-07-13T22:43:32  \n",
      "\n",
      "[60 rows x 99 columns]\n",
      "2024-09-14 04:36:33.062\n",
      "- Organizing... "
     ]
    },
    {
     "name": "stderr",
     "output_type": "stream",
     "text": [
      "WARNING: The following header keyword is invalid or follows an unrecognized non-standard convention:\n",
      "DELMAG   =   0.0000            /Veriable - Comparison,   Delmag                  [astropy.io.fits.card]\n",
      "WARNING: The following header keyword is invalid or follows an unrecognized non-standard convention:\n",
      "DELMAG   =  -0.5755            /Veriable - Comparison,   Delmag                  [astropy.io.fits.card]\n",
      "WARNING: The following header keyword is invalid or follows an unrecognized non-standard convention:\n",
      "DELMAG   =  -0.6398            /Veriable - Comparison,   Delmag                  [astropy.io.fits.card]\n",
      "WARNING: The following header keyword is invalid or follows an unrecognized non-standard convention:\n",
      "DELMAG   =  -0.6310            /Veriable - Comparison,   Delmag                  [astropy.io.fits.card]\n",
      "WARNING: The following header keyword is invalid or follows an unrecognized non-standard convention:\n",
      "DELMAG   =  -0.6328            /Veriable - Comparison,   Delmag                  [astropy.io.fits.card]\n",
      "WARNING: The following header keyword is invalid or follows an unrecognized non-standard convention:\n",
      "DELMAG   =  -0.6036            /Veriable - Comparison,   Delmag                  [astropy.io.fits.card]\n",
      "WARNING: The following header keyword is invalid or follows an unrecognized non-standard convention:\n",
      "DELMAG   =  -0.6340            /Veriable - Comparison,   Delmag                  [astropy.io.fits.card]\n",
      "WARNING: The following header keyword is invalid or follows an unrecognized non-standard convention:\n",
      "DELMAG   =  -0.6307            /Veriable - Comparison,   Delmag                  [astropy.io.fits.card]\n",
      "WARNING: The following header keyword is invalid or follows an unrecognized non-standard convention:\n",
      "DELMAG   =  -0.6727            /Veriable - Comparison,   Delmag                  [astropy.io.fits.card]\n",
      "WARNING: The following header keyword is invalid or follows an unrecognized non-standard convention:\n",
      "DELMAG   =  -0.6428            /Veriable - Comparison,   Delmag                  [astropy.io.fits.card]\n",
      "WARNING: The following header keyword is invalid or follows an unrecognized non-standard convention:\n",
      "DELMAG   =  -0.6311            /Veriable - Comparison,   Delmag                  [astropy.io.fits.card]\n",
      "WARNING: The following header keyword is invalid or follows an unrecognized non-standard convention:\n",
      "DELMAG   =  -0.6304            /Veriable - Comparison,   Delmag                  [astropy.io.fits.card]\n",
      "WARNING: The following header keyword is invalid or follows an unrecognized non-standard convention:\n",
      "DELMAG   =  -0.6376            /Veriable - Comparison,   Delmag                  [astropy.io.fits.card]\n",
      "WARNING: The following header keyword is invalid or follows an unrecognized non-standard convention:\n",
      "DELMAG   =  -0.6245            /Veriable - Comparison,   Delmag                  [astropy.io.fits.card]\n",
      "WARNING: The following header keyword is invalid or follows an unrecognized non-standard convention:\n",
      "DELMAG   =  -0.6300            /Veriable - Comparison,   Delmag                  [astropy.io.fits.card]\n",
      "WARNING: The following header keyword is invalid or follows an unrecognized non-standard convention:\n",
      "DELMAG   =  -0.6456            /Veriable - Comparison,   Delmag                  [astropy.io.fits.card]\n",
      "WARNING: The following header keyword is invalid or follows an unrecognized non-standard convention:\n",
      "DELMAG   =  -0.6232            /Veriable - Comparison,   Delmag                  [astropy.io.fits.card]\n",
      "WARNING: The following header keyword is invalid or follows an unrecognized non-standard convention:\n",
      "DELMAG   =  -0.6254            /Veriable - Comparison,   Delmag                  [astropy.io.fits.card]\n",
      "WARNING: The following header keyword is invalid or follows an unrecognized non-standard convention:\n",
      "DELMAG   =  -0.6124            /Veriable - Comparison,   Delmag                  [astropy.io.fits.card]\n",
      "WARNING: The following header keyword is invalid or follows an unrecognized non-standard convention:\n",
      "DELMAG   =  -0.6757            /Veriable - Comparison,   Delmag                  [astropy.io.fits.card]\n",
      "WARNING: The following header keyword is invalid or follows an unrecognized non-standard convention:\n",
      "DELMAG   =  -0.6379            /Veriable - Comparison,   Delmag                  [astropy.io.fits.card]\n",
      "WARNING: The following header keyword is invalid or follows an unrecognized non-standard convention:\n",
      "DELMAG   =  -0.6705            /Veriable - Comparison,   Delmag                  [astropy.io.fits.card]\n",
      "WARNING: The following header keyword is invalid or follows an unrecognized non-standard convention:\n",
      "DELMAG   =  -0.6617            /Veriable - Comparison,   Delmag                  [astropy.io.fits.card]\n",
      "WARNING: The following header keyword is invalid or follows an unrecognized non-standard convention:\n",
      "DELMAG   =  -0.6712            /Veriable - Comparison,   Delmag                  [astropy.io.fits.card]\n",
      "WARNING: The following header keyword is invalid or follows an unrecognized non-standard convention:\n",
      "DELMAG   =  -0.6599            /Veriable - Comparison,   Delmag                  [astropy.io.fits.card]\n",
      "WARNING: The following header keyword is invalid or follows an unrecognized non-standard convention:\n",
      "DELMAG   =  -0.6783            /Veriable - Comparison,   Delmag                  [astropy.io.fits.card]\n",
      "WARNING: The following header keyword is invalid or follows an unrecognized non-standard convention:\n",
      "DELMAG   =  -0.6508            /Veriable - Comparison,   Delmag                  [astropy.io.fits.card]\n",
      "WARNING: The following header keyword is invalid or follows an unrecognized non-standard convention:\n",
      "DELMAG   =  -0.6856            /Veriable - Comparison,   Delmag                  [astropy.io.fits.card]\n",
      "WARNING: The following header keyword is invalid or follows an unrecognized non-standard convention:\n",
      "DELMAG   =  -0.6653            /Veriable - Comparison,   Delmag                  [astropy.io.fits.card]\n",
      "WARNING: The following header keyword is invalid or follows an unrecognized non-standard convention:\n",
      "DELMAG   =  -0.6548            /Veriable - Comparison,   Delmag                  [astropy.io.fits.card]\n",
      "WARNING: The following header keyword is invalid or follows an unrecognized non-standard convention:\n",
      "DELMAG   =  -0.6460            /Veriable - Comparison,   Delmag                  [astropy.io.fits.card]\n",
      "WARNING: The following header keyword is invalid or follows an unrecognized non-standard convention:\n",
      "DELMAG   =  -0.6477            /Veriable - Comparison,   Delmag                  [astropy.io.fits.card]\n",
      "WARNING: The following header keyword is invalid or follows an unrecognized non-standard convention:\n",
      "DELMAG   =  -0.6541            /Veriable - Comparison,   Delmag                  [astropy.io.fits.card]\n",
      "WARNING: The following header keyword is invalid or follows an unrecognized non-standard convention:\n",
      "DELMAG   =  -0.6375            /Veriable - Comparison,   Delmag                  [astropy.io.fits.card]\n",
      "WARNING: The following header keyword is invalid or follows an unrecognized non-standard convention:\n",
      "DELMAG   =  -0.6055            /Veriable - Comparison,   Delmag                  [astropy.io.fits.card]\n",
      "WARNING: The following header keyword is invalid or follows an unrecognized non-standard convention:\n",
      "DELMAG   =  -0.5942            /Veriable - Comparison,   Delmag                  [astropy.io.fits.card]\n"
     ]
    },
    {
     "name": "stdout",
     "output_type": "stream",
     "text": [
      "Done.\n",
      "- Loading, calculating offsets with zero/scale... "
     ]
    },
    {
     "name": "stderr",
     "output_type": "stream",
     "text": [
      "WARNING: FITSFixedWarning: 'datfix' made the change 'Set MJD-OBS to 57675.529363 from DATE-OBS'. [astropy.wcs.wcs]\n",
      "WARNING: FITSFixedWarning: 'datfix' made the change 'Set MJD-OBS to 57675.529861 from DATE-OBS'. [astropy.wcs.wcs]\n",
      "WARNING: FITSFixedWarning: 'datfix' made the change 'Set MJD-OBS to 57675.530359 from DATE-OBS'. [astropy.wcs.wcs]\n",
      "WARNING: FITSFixedWarning: 'datfix' made the change 'Set MJD-OBS to 57675.530845 from DATE-OBS'. [astropy.wcs.wcs]\n",
      "WARNING: FITSFixedWarning: 'datfix' made the change 'Set MJD-OBS to 57675.531458 from DATE-OBS'. [astropy.wcs.wcs]\n",
      "WARNING: FITSFixedWarning: 'datfix' made the change 'Set MJD-OBS to 57675.532072 from DATE-OBS'. [astropy.wcs.wcs]\n",
      "WARNING: FITSFixedWarning: 'datfix' made the change 'Set MJD-OBS to 57675.532674 from DATE-OBS'. [astropy.wcs.wcs]\n",
      "WARNING: FITSFixedWarning: 'datfix' made the change 'Set MJD-OBS to 57675.533287 from DATE-OBS'. [astropy.wcs.wcs]\n",
      "WARNING: FITSFixedWarning: 'datfix' made the change 'Set MJD-OBS to 57675.533958 from DATE-OBS'. [astropy.wcs.wcs]\n",
      "WARNING: FITSFixedWarning: 'datfix' made the change 'Set MJD-OBS to 57675.534572 from DATE-OBS'. [astropy.wcs.wcs]\n",
      "WARNING: FITSFixedWarning: 'datfix' made the change 'Set MJD-OBS to 57675.535185 from DATE-OBS'. [astropy.wcs.wcs]\n",
      "WARNING: FITSFixedWarning: 'datfix' made the change 'Set MJD-OBS to 57675.535787 from DATE-OBS'. [astropy.wcs.wcs]\n",
      "WARNING: FITSFixedWarning: 'datfix' made the change 'Set MJD-OBS to 57675.536400 from DATE-OBS'. [astropy.wcs.wcs]\n",
      "WARNING: FITSFixedWarning: 'datfix' made the change 'Set MJD-OBS to 57675.537014 from DATE-OBS'. [astropy.wcs.wcs]\n",
      "WARNING: FITSFixedWarning: 'datfix' made the change 'Set MJD-OBS to 57675.537627 from DATE-OBS'. [astropy.wcs.wcs]\n",
      "WARNING: FITSFixedWarning: 'datfix' made the change 'Set MJD-OBS to 57675.538229 from DATE-OBS'. [astropy.wcs.wcs]\n",
      "WARNING: FITSFixedWarning: 'datfix' made the change 'Set MJD-OBS to 57675.538843 from DATE-OBS'. [astropy.wcs.wcs]\n",
      "WARNING: FITSFixedWarning: 'datfix' made the change 'Set MJD-OBS to 57675.539456 from DATE-OBS'. [astropy.wcs.wcs]\n",
      "WARNING: FITSFixedWarning: 'datfix' made the change 'Set MJD-OBS to 57675.540069 from DATE-OBS'. [astropy.wcs.wcs]\n",
      "WARNING: FITSFixedWarning: 'datfix' made the change 'Set MJD-OBS to 57675.540729 from DATE-OBS'. [astropy.wcs.wcs]\n",
      "WARNING: FITSFixedWarning: 'datfix' made the change 'Set MJD-OBS to 57675.541343 from DATE-OBS'. [astropy.wcs.wcs]\n",
      "WARNING: FITSFixedWarning: 'datfix' made the change 'Set MJD-OBS to 57675.541956 from DATE-OBS'. [astropy.wcs.wcs]\n",
      "WARNING: FITSFixedWarning: 'datfix' made the change 'Set MJD-OBS to 57675.542558 from DATE-OBS'. [astropy.wcs.wcs]\n",
      "WARNING: FITSFixedWarning: 'datfix' made the change 'Set MJD-OBS to 57675.548148 from DATE-OBS'. [astropy.wcs.wcs]\n",
      "WARNING: FITSFixedWarning: 'datfix' made the change 'Set MJD-OBS to 57675.549282 from DATE-OBS'. [astropy.wcs.wcs]\n",
      "WARNING: FITSFixedWarning: 'datfix' made the change 'Set MJD-OBS to 57675.550428 from DATE-OBS'. [astropy.wcs.wcs]\n",
      "WARNING: FITSFixedWarning: 'datfix' made the change 'Set MJD-OBS to 57675.551505 from DATE-OBS'. [astropy.wcs.wcs]\n",
      "WARNING: FITSFixedWarning: 'datfix' made the change 'Set MJD-OBS to 57675.552581 from DATE-OBS'. [astropy.wcs.wcs]\n",
      "WARNING: FITSFixedWarning: 'datfix' made the change 'Set MJD-OBS to 57675.553704 from DATE-OBS'. [astropy.wcs.wcs]\n",
      "WARNING: FITSFixedWarning: 'datfix' made the change 'Set MJD-OBS to 57675.554815 from DATE-OBS'. [astropy.wcs.wcs]\n",
      "WARNING: FITSFixedWarning: 'datfix' made the change 'Set MJD-OBS to 57675.555891 from DATE-OBS'. [astropy.wcs.wcs]\n",
      "WARNING: FITSFixedWarning: 'datfix' made the change 'Set MJD-OBS to 57675.556968 from DATE-OBS'. [astropy.wcs.wcs]\n",
      "WARNING: FITSFixedWarning: 'datfix' made the change 'Set MJD-OBS to 57675.558113 from DATE-OBS'. [astropy.wcs.wcs]\n",
      "WARNING: FITSFixedWarning: 'datfix' made the change 'Set MJD-OBS to 57675.559190 from DATE-OBS'. [astropy.wcs.wcs]\n",
      "WARNING: FITSFixedWarning: 'datfix' made the change 'Set MJD-OBS to 57675.560278 from DATE-OBS'. [astropy.wcs.wcs]\n",
      "WARNING: FITSFixedWarning: 'datfix' made the change 'Set MJD-OBS to 57675.561354 from DATE-OBS'. [astropy.wcs.wcs]\n",
      "WARNING: FITSFixedWarning: 'datfix' made the change 'Set MJD-OBS to 57675.562431 from DATE-OBS'. [astropy.wcs.wcs]\n",
      "WARNING: FITSFixedWarning: 'datfix' made the change 'Set MJD-OBS to 57675.563519 from DATE-OBS'. [astropy.wcs.wcs]\n",
      "WARNING: FITSFixedWarning: 'datfix' made the change 'Set MJD-OBS to 57675.564595 from DATE-OBS'. [astropy.wcs.wcs]\n",
      "WARNING: FITSFixedWarning: 'datfix' made the change 'Set MJD-OBS to 57675.565671 from DATE-OBS'. [astropy.wcs.wcs]\n",
      "WARNING: FITSFixedWarning: 'datfix' made the change 'Set MJD-OBS to 57675.566817 from DATE-OBS'. [astropy.wcs.wcs]\n",
      "WARNING: FITSFixedWarning: 'datfix' made the change 'Set MJD-OBS to 57675.567940 from DATE-OBS'. [astropy.wcs.wcs]\n",
      "WARNING: FITSFixedWarning: 'datfix' made the change 'Set MJD-OBS to 57675.569120 from DATE-OBS'. [astropy.wcs.wcs]\n",
      "WARNING: FITSFixedWarning: 'datfix' made the change 'Set MJD-OBS to 57675.570231 from DATE-OBS'. [astropy.wcs.wcs]\n",
      "WARNING: FITSFixedWarning: 'datfix' made the change 'Set MJD-OBS to 57675.571319 from DATE-OBS'. [astropy.wcs.wcs]\n",
      "WARNING: FITSFixedWarning: 'datfix' made the change 'Set MJD-OBS to 57675.572396 from DATE-OBS'. [astropy.wcs.wcs]\n",
      "WARNING: FITSFixedWarning: 'datfix' made the change 'Set MJD-OBS to 57675.573472 from DATE-OBS'. [astropy.wcs.wcs]\n",
      "WARNING: FITSFixedWarning: 'datfix' made the change 'Set MJD-OBS to 57675.574560 from DATE-OBS'. [astropy.wcs.wcs]\n",
      "WARNING: FITSFixedWarning: 'datfix' made the change 'Set MJD-OBS to 57675.575637 from DATE-OBS'. [astropy.wcs.wcs]\n",
      "WARNING: FITSFixedWarning: 'datfix' made the change 'Set MJD-OBS to 57675.576725 from DATE-OBS'. [astropy.wcs.wcs]\n",
      "WARNING: FITSFixedWarning: 'datfix' made the change 'Set MJD-OBS to 57675.577801 from DATE-OBS'. [astropy.wcs.wcs]\n",
      "WARNING: FITSFixedWarning: 'datfix' made the change 'Set MJD-OBS to 57675.578889 from DATE-OBS'. [astropy.wcs.wcs]\n",
      "WARNING: FITSFixedWarning: 'datfix' made the change 'Set MJD-OBS to 57675.579965 from DATE-OBS'. [astropy.wcs.wcs]\n",
      "WARNING: FITSFixedWarning: 'datfix' made the change 'Set MJD-OBS to 57675.581042 from DATE-OBS'. [astropy.wcs.wcs]\n",
      "WARNING: FITSFixedWarning: 'datfix' made the change 'Set MJD-OBS to 57675.582130 from DATE-OBS'. [astropy.wcs.wcs]\n",
      "WARNING: FITSFixedWarning: 'datfix' made the change 'Set MJD-OBS to 57675.583206 from DATE-OBS'. [astropy.wcs.wcs]\n",
      "WARNING: FITSFixedWarning: 'datfix' made the change 'Set MJD-OBS to 57675.584282 from DATE-OBS'. [astropy.wcs.wcs]\n",
      "WARNING: FITSFixedWarning: 'datfix' made the change 'Set MJD-OBS to 57675.585394 from DATE-OBS'. [astropy.wcs.wcs]\n",
      "WARNING: FITSFixedWarning: 'datfix' made the change 'Set MJD-OBS to 57675.586470 from DATE-OBS'. [astropy.wcs.wcs]\n",
      "WARNING: FITSFixedWarning: 'datfix' made the change 'Set MJD-OBS to 57675.587593 from DATE-OBS'. [astropy.wcs.wcs]\n"
     ]
    },
    {
     "name": "stdout",
     "output_type": "stream",
     "text": [
      "Done.\n",
      "HISTORY  Loaded 60 FITS, calculated zero, scale, weights\n",
      "HISTORY  .................................(dt = 11.023 s) 2024-09-14T04:36:46.605\n",
      "- Rejection\n",
      "-- reject='sigclip' (irafmode=True)\n",
      "--       params: nkeep=1, maxrej=60, maxiters=50, cenfunc='median'\n",
      "  (for sigclip): sigma=2.5, ddof=1\n",
      "Done.\n",
      "- Combining\n",
      "-- combine = med\n",
      "Done.\n",
      "HISTORY  Rejection and combination done\n",
      "HISTORY  ................................(dt = 169.355 s) 2024-09-14T04:39:35.979\n",
      "\n",
      "- Writing output FITS... Done.\n",
      "\n",
      "2024-09-14 04:39:36.067 (TOTAL dt = 1.83e+02 sec)\n",
      "Create Create nightskyflat-V.fits +++...\n",
      "The dataframe(df_light_filt) R is empty\n",
      "The dataframe(df_light_filt) L is empty\n",
      "The dataframe(df_light_filt) R is empty\n",
      "The dataframe(df_light_filt) G is empty\n",
      "The dataframe(df_light_filt) B is empty\n"
     ]
    },
    {
     "name": "stderr",
     "output_type": "stream",
     "text": [
      "WARNING: The following header keyword is invalid or follows an unrecognized non-standard convention:\n",
      "DELMAG   =   0.0000            /Veriable - Comparison,   Delmag                  [astropy.io.fits.card]\n",
      "WARNING: FITSFixedWarning: 'datfix' made the change 'Set MJD-OBS to 57675.529363 from DATE-OBS'. [astropy.wcs.wcs]\n"
     ]
    },
    {
     "name": "stdout",
     "output_type": "stream",
     "text": [
      "HISTORY  [yfu.flatcor] Flat pixels with `value < flat_mask = 0` are replaced by `flat_fill = 1`.\n",
      "HISTORY  .................................................2024-09-14T04:39:36.415\n",
      "HISTORY  [yfu.flatcor] Flat corrected (FLATFRM = /mnt/Rdata/OBS_data/2016-Variable/-_-_-_2016-_-_RiLA600_STX-16803_-_2bin/CM-CYG_LIGHT_-_2016-10-14_-_RiLA600_STX-16803_-_2bin/master_files_ys/nightskyflat-V.fits)\n",
      "HISTORY  ..................................(dt = 0.021 s) 2024-09-14T04:39:36.429\n",
      "Writing FITS to /mnt/Rdata/OBS_data/2016-Variable/-_-_-_2016-_-_RiLA600_STX-16803_-_2bin/CM-CYG_LIGHT_-_2016-10-14_-_RiLA600_STX-16803_-_2bin/reduced_nightsky/CM-CYG_LIGHT_V_2016-10-14-12-42-17_30sec_RiLA600_STX-16803_-19c_2bin.fit... Saved.\n"
     ]
    },
    {
     "name": "stderr",
     "output_type": "stream",
     "text": [
      "WARNING: The following header keyword is invalid or follows an unrecognized non-standard convention:\n",
      "DELMAG   =   0.0000            /Veriable - Comparison,   Delmag                  [astropy.io.fits.card]\n",
      "WARNING: FITSFixedWarning: 'datfix' made the change 'Set MJD-OBS to 57675.529861 from DATE-OBS'. [astropy.wcs.wcs]\n",
      "WARNING: The following header keyword is invalid or follows an unrecognized non-standard convention:\n",
      "DELMAG   =   0.0000            /Veriable - Comparison,   Delmag                  [astropy.io.fits.card]\n",
      "WARNING: FITSFixedWarning: 'datfix' made the change 'Set MJD-OBS to 57675.529363 from DATE-OBS'. [astropy.wcs.wcs]\n"
     ]
    },
    {
     "name": "stdout",
     "output_type": "stream",
     "text": [
      "HISTORY  [yfu.flatcor] Flat pixels with `value < flat_mask = 0` are replaced by `flat_fill = 1`.\n",
      "HISTORY  .................................................2024-09-14T04:39:36.775\n",
      "HISTORY  [yfu.flatcor] Flat corrected (FLATFRM = /mnt/Rdata/OBS_data/2016-Variable/-_-_-_2016-_-_RiLA600_STX-16803_-_2bin/CM-CYG_LIGHT_-_2016-10-14_-_RiLA600_STX-16803_-_2bin/master_files_ys/nightskyflat-V.fits)\n",
      "HISTORY  ..................................(dt = 0.020 s) 2024-09-14T04:39:36.788\n",
      "Writing FITS to /mnt/Rdata/OBS_data/2016-Variable/-_-_-_2016-_-_RiLA600_STX-16803_-_2bin/CM-CYG_LIGHT_-_2016-10-14_-_RiLA600_STX-16803_-_2bin/reduced_nightsky/CM-CYG_LIGHT_V_2016-10-14-12-43-00_30sec_RiLA600_STX-16803_-19c_2bin.fit... Saved.\n"
     ]
    },
    {
     "name": "stderr",
     "output_type": "stream",
     "text": [
      "WARNING: The following header keyword is invalid or follows an unrecognized non-standard convention:\n",
      "DELMAG   =   0.0000            /Veriable - Comparison,   Delmag                  [astropy.io.fits.card]\n",
      "WARNING: FITSFixedWarning: 'datfix' made the change 'Set MJD-OBS to 57675.530359 from DATE-OBS'. [astropy.wcs.wcs]\n",
      "WARNING: The following header keyword is invalid or follows an unrecognized non-standard convention:\n",
      "DELMAG   =   0.0000            /Veriable - Comparison,   Delmag                  [astropy.io.fits.card]\n",
      "WARNING: FITSFixedWarning: 'datfix' made the change 'Set MJD-OBS to 57675.529363 from DATE-OBS'. [astropy.wcs.wcs]\n"
     ]
    },
    {
     "name": "stdout",
     "output_type": "stream",
     "text": [
      "HISTORY  [yfu.flatcor] Flat pixels with `value < flat_mask = 0` are replaced by `flat_fill = 1`.\n",
      "HISTORY  .................................................2024-09-14T04:39:37.331\n",
      "HISTORY  [yfu.flatcor] Flat corrected (FLATFRM = /mnt/Rdata/OBS_data/2016-Variable/-_-_-_2016-_-_RiLA600_STX-16803_-_2bin/CM-CYG_LIGHT_-_2016-10-14_-_RiLA600_STX-16803_-_2bin/master_files_ys/nightskyflat-V.fits)\n",
      "HISTORY  ..................................(dt = 0.019 s) 2024-09-14T04:39:37.344\n",
      "Writing FITS to /mnt/Rdata/OBS_data/2016-Variable/-_-_-_2016-_-_RiLA600_STX-16803_-_2bin/CM-CYG_LIGHT_-_2016-10-14_-_RiLA600_STX-16803_-_2bin/reduced_nightsky/CM-CYG_LIGHT_V_2016-10-14-12-43-43_30sec_RiLA600_STX-16803_-20c_2bin.fit... Saved.\n"
     ]
    },
    {
     "name": "stderr",
     "output_type": "stream",
     "text": [
      "WARNING: The following header keyword is invalid or follows an unrecognized non-standard convention:\n",
      "DELMAG   =   0.0000            /Veriable - Comparison,   Delmag                  [astropy.io.fits.card]\n",
      "WARNING: FITSFixedWarning: 'datfix' made the change 'Set MJD-OBS to 57675.530845 from DATE-OBS'. [astropy.wcs.wcs]\n",
      "WARNING: The following header keyword is invalid or follows an unrecognized non-standard convention:\n",
      "DELMAG   =   0.0000            /Veriable - Comparison,   Delmag                  [astropy.io.fits.card]\n",
      "WARNING: FITSFixedWarning: 'datfix' made the change 'Set MJD-OBS to 57675.529363 from DATE-OBS'. [astropy.wcs.wcs]\n"
     ]
    },
    {
     "name": "stdout",
     "output_type": "stream",
     "text": [
      "HISTORY  [yfu.flatcor] Flat pixels with `value < flat_mask = 0` are replaced by `flat_fill = 1`.\n",
      "HISTORY  .................................................2024-09-14T04:39:37.667\n",
      "HISTORY  [yfu.flatcor] Flat corrected (FLATFRM = /mnt/Rdata/OBS_data/2016-Variable/-_-_-_2016-_-_RiLA600_STX-16803_-_2bin/CM-CYG_LIGHT_-_2016-10-14_-_RiLA600_STX-16803_-_2bin/master_files_ys/nightskyflat-V.fits)\n",
      "HISTORY  ..................................(dt = 0.020 s) 2024-09-14T04:39:37.680\n",
      "Writing FITS to /mnt/Rdata/OBS_data/2016-Variable/-_-_-_2016-_-_RiLA600_STX-16803_-_2bin/CM-CYG_LIGHT_-_2016-10-14_-_RiLA600_STX-16803_-_2bin/reduced_nightsky/CM-CYG_LIGHT_V_2016-10-14-12-44-25_40sec_RiLA600_STX-16803_-20c_2bin.fit... Saved.\n"
     ]
    },
    {
     "name": "stderr",
     "output_type": "stream",
     "text": [
      "WARNING: The following header keyword is invalid or follows an unrecognized non-standard convention:\n",
      "DELMAG   =   0.0000            /Veriable - Comparison,   Delmag                  [astropy.io.fits.card]\n",
      "WARNING: FITSFixedWarning: 'datfix' made the change 'Set MJD-OBS to 57675.531458 from DATE-OBS'. [astropy.wcs.wcs]\n",
      "WARNING: The following header keyword is invalid or follows an unrecognized non-standard convention:\n",
      "DELMAG   =   0.0000            /Veriable - Comparison,   Delmag                  [astropy.io.fits.card]\n",
      "WARNING: FITSFixedWarning: 'datfix' made the change 'Set MJD-OBS to 57675.529363 from DATE-OBS'. [astropy.wcs.wcs]\n"
     ]
    },
    {
     "name": "stdout",
     "output_type": "stream",
     "text": [
      "HISTORY  [yfu.flatcor] Flat pixels with `value < flat_mask = 0` are replaced by `flat_fill = 1`.\n",
      "HISTORY  .................................................2024-09-14T04:39:38.007\n",
      "HISTORY  [yfu.flatcor] Flat corrected (FLATFRM = /mnt/Rdata/OBS_data/2016-Variable/-_-_-_2016-_-_RiLA600_STX-16803_-_2bin/CM-CYG_LIGHT_-_2016-10-14_-_RiLA600_STX-16803_-_2bin/master_files_ys/nightskyflat-V.fits)\n",
      "HISTORY  ..................................(dt = 0.020 s) 2024-09-14T04:39:38.022\n",
      "Writing FITS to /mnt/Rdata/OBS_data/2016-Variable/-_-_-_2016-_-_RiLA600_STX-16803_-_2bin/CM-CYG_LIGHT_-_2016-10-14_-_RiLA600_STX-16803_-_2bin/reduced_nightsky/CM-CYG_LIGHT_V_2016-10-14-12-45-18_40sec_RiLA600_STX-16803_-19c_2bin.fit... Saved.\n"
     ]
    },
    {
     "name": "stderr",
     "output_type": "stream",
     "text": [
      "WARNING: The following header keyword is invalid or follows an unrecognized non-standard convention:\n",
      "DELMAG   =   0.0000            /Veriable - Comparison,   Delmag                  [astropy.io.fits.card]\n",
      "WARNING: FITSFixedWarning: 'datfix' made the change 'Set MJD-OBS to 57675.532072 from DATE-OBS'. [astropy.wcs.wcs]\n",
      "WARNING: The following header keyword is invalid or follows an unrecognized non-standard convention:\n",
      "DELMAG   =   0.0000            /Veriable - Comparison,   Delmag                  [astropy.io.fits.card]\n",
      "WARNING: FITSFixedWarning: 'datfix' made the change 'Set MJD-OBS to 57675.529363 from DATE-OBS'. [astropy.wcs.wcs]\n"
     ]
    },
    {
     "name": "stdout",
     "output_type": "stream",
     "text": [
      "HISTORY  [yfu.flatcor] Flat pixels with `value < flat_mask = 0` are replaced by `flat_fill = 1`.\n",
      "HISTORY  .................................................2024-09-14T04:39:38.387\n",
      "HISTORY  [yfu.flatcor] Flat corrected (FLATFRM = /mnt/Rdata/OBS_data/2016-Variable/-_-_-_2016-_-_RiLA600_STX-16803_-_2bin/CM-CYG_LIGHT_-_2016-10-14_-_RiLA600_STX-16803_-_2bin/master_files_ys/nightskyflat-V.fits)\n",
      "HISTORY  ..................................(dt = 0.020 s) 2024-09-14T04:39:38.400\n",
      "Writing FITS to /mnt/Rdata/OBS_data/2016-Variable/-_-_-_2016-_-_RiLA600_STX-16803_-_2bin/CM-CYG_LIGHT_-_2016-10-14_-_RiLA600_STX-16803_-_2bin/reduced_nightsky/CM-CYG_LIGHT_V_2016-10-14-12-46-11_40sec_RiLA600_STX-16803_-19c_2bin.fit... Saved.\n"
     ]
    },
    {
     "name": "stderr",
     "output_type": "stream",
     "text": [
      "WARNING: The following header keyword is invalid or follows an unrecognized non-standard convention:\n",
      "DELMAG   =   0.0000            /Veriable - Comparison,   Delmag                  [astropy.io.fits.card]\n",
      "WARNING: FITSFixedWarning: 'datfix' made the change 'Set MJD-OBS to 57675.532674 from DATE-OBS'. [astropy.wcs.wcs]\n",
      "WARNING: The following header keyword is invalid or follows an unrecognized non-standard convention:\n",
      "DELMAG   =   0.0000            /Veriable - Comparison,   Delmag                  [astropy.io.fits.card]\n",
      "WARNING: FITSFixedWarning: 'datfix' made the change 'Set MJD-OBS to 57675.529363 from DATE-OBS'. [astropy.wcs.wcs]\n"
     ]
    },
    {
     "name": "stdout",
     "output_type": "stream",
     "text": [
      "HISTORY  [yfu.flatcor] Flat pixels with `value < flat_mask = 0` are replaced by `flat_fill = 1`.\n",
      "HISTORY  .................................................2024-09-14T04:39:38.744\n",
      "HISTORY  [yfu.flatcor] Flat corrected (FLATFRM = /mnt/Rdata/OBS_data/2016-Variable/-_-_-_2016-_-_RiLA600_STX-16803_-_2bin/CM-CYG_LIGHT_-_2016-10-14_-_RiLA600_STX-16803_-_2bin/master_files_ys/nightskyflat-V.fits)\n",
      "HISTORY  ..................................(dt = 0.022 s) 2024-09-14T04:39:38.759\n",
      "Writing FITS to /mnt/Rdata/OBS_data/2016-Variable/-_-_-_2016-_-_RiLA600_STX-16803_-_2bin/CM-CYG_LIGHT_-_2016-10-14_-_RiLA600_STX-16803_-_2bin/reduced_nightsky/CM-CYG_LIGHT_V_2016-10-14-12-47-03_40sec_RiLA600_STX-16803_-19c_2bin.fit... Saved.\n"
     ]
    },
    {
     "name": "stderr",
     "output_type": "stream",
     "text": [
      "WARNING: The following header keyword is invalid or follows an unrecognized non-standard convention:\n",
      "DELMAG   =   0.0000            /Veriable - Comparison,   Delmag                  [astropy.io.fits.card]\n",
      "WARNING: FITSFixedWarning: 'datfix' made the change 'Set MJD-OBS to 57675.533287 from DATE-OBS'. [astropy.wcs.wcs]\n",
      "WARNING: The following header keyword is invalid or follows an unrecognized non-standard convention:\n",
      "DELMAG   =   0.0000            /Veriable - Comparison,   Delmag                  [astropy.io.fits.card]\n",
      "WARNING: FITSFixedWarning: 'datfix' made the change 'Set MJD-OBS to 57675.529363 from DATE-OBS'. [astropy.wcs.wcs]\n"
     ]
    },
    {
     "name": "stdout",
     "output_type": "stream",
     "text": [
      "HISTORY  [yfu.flatcor] Flat pixels with `value < flat_mask = 0` are replaced by `flat_fill = 1`.\n",
      "HISTORY  .................................................2024-09-14T04:39:39.099\n",
      "HISTORY  [yfu.flatcor] Flat corrected (FLATFRM = /mnt/Rdata/OBS_data/2016-Variable/-_-_-_2016-_-_RiLA600_STX-16803_-_2bin/CM-CYG_LIGHT_-_2016-10-14_-_RiLA600_STX-16803_-_2bin/master_files_ys/nightskyflat-V.fits)\n",
      "HISTORY  ..................................(dt = 0.019 s) 2024-09-14T04:39:39.111\n",
      "Writing FITS to /mnt/Rdata/OBS_data/2016-Variable/-_-_-_2016-_-_RiLA600_STX-16803_-_2bin/CM-CYG_LIGHT_-_2016-10-14_-_RiLA600_STX-16803_-_2bin/reduced_nightsky/CM-CYG_LIGHT_V_2016-10-14-12-47-56_40sec_RiLA600_STX-16803_-19c_2bin.fit... Saved.\n"
     ]
    },
    {
     "name": "stderr",
     "output_type": "stream",
     "text": [
      "WARNING: The following header keyword is invalid or follows an unrecognized non-standard convention:\n",
      "DELMAG   =   0.0000            /Veriable - Comparison,   Delmag                  [astropy.io.fits.card]\n",
      "WARNING: FITSFixedWarning: 'datfix' made the change 'Set MJD-OBS to 57675.533958 from DATE-OBS'. [astropy.wcs.wcs]\n",
      "WARNING: The following header keyword is invalid or follows an unrecognized non-standard convention:\n",
      "DELMAG   =   0.0000            /Veriable - Comparison,   Delmag                  [astropy.io.fits.card]\n",
      "WARNING: FITSFixedWarning: 'datfix' made the change 'Set MJD-OBS to 57675.529363 from DATE-OBS'. [astropy.wcs.wcs]\n"
     ]
    },
    {
     "name": "stdout",
     "output_type": "stream",
     "text": [
      "HISTORY  [yfu.flatcor] Flat pixels with `value < flat_mask = 0` are replaced by `flat_fill = 1`.\n",
      "HISTORY  .................................................2024-09-14T04:39:39.441\n",
      "HISTORY  [yfu.flatcor] Flat corrected (FLATFRM = /mnt/Rdata/OBS_data/2016-Variable/-_-_-_2016-_-_RiLA600_STX-16803_-_2bin/CM-CYG_LIGHT_-_2016-10-14_-_RiLA600_STX-16803_-_2bin/master_files_ys/nightskyflat-V.fits)\n",
      "HISTORY  ..................................(dt = 0.019 s) 2024-09-14T04:39:39.454\n",
      "Writing FITS to /mnt/Rdata/OBS_data/2016-Variable/-_-_-_2016-_-_RiLA600_STX-16803_-_2bin/CM-CYG_LIGHT_-_2016-10-14_-_RiLA600_STX-16803_-_2bin/reduced_nightsky/CM-CYG_LIGHT_V_2016-10-14-12-48-54_40sec_RiLA600_STX-16803_-19c_2bin.fit... Saved.\n"
     ]
    },
    {
     "name": "stderr",
     "output_type": "stream",
     "text": [
      "WARNING: The following header keyword is invalid or follows an unrecognized non-standard convention:\n",
      "DELMAG   =   0.0000            /Veriable - Comparison,   Delmag                  [astropy.io.fits.card]\n",
      "WARNING: FITSFixedWarning: 'datfix' made the change 'Set MJD-OBS to 57675.534572 from DATE-OBS'. [astropy.wcs.wcs]\n",
      "WARNING: The following header keyword is invalid or follows an unrecognized non-standard convention:\n",
      "DELMAG   =   0.0000            /Veriable - Comparison,   Delmag                  [astropy.io.fits.card]\n",
      "WARNING: FITSFixedWarning: 'datfix' made the change 'Set MJD-OBS to 57675.529363 from DATE-OBS'. [astropy.wcs.wcs]\n"
     ]
    },
    {
     "name": "stdout",
     "output_type": "stream",
     "text": [
      "HISTORY  [yfu.flatcor] Flat pixels with `value < flat_mask = 0` are replaced by `flat_fill = 1`.\n",
      "HISTORY  .................................................2024-09-14T04:39:39.785\n",
      "HISTORY  [yfu.flatcor] Flat corrected (FLATFRM = /mnt/Rdata/OBS_data/2016-Variable/-_-_-_2016-_-_RiLA600_STX-16803_-_2bin/CM-CYG_LIGHT_-_2016-10-14_-_RiLA600_STX-16803_-_2bin/master_files_ys/nightskyflat-V.fits)\n",
      "HISTORY  ..................................(dt = 0.021 s) 2024-09-14T04:39:39.799\n",
      "Writing FITS to /mnt/Rdata/OBS_data/2016-Variable/-_-_-_2016-_-_RiLA600_STX-16803_-_2bin/CM-CYG_LIGHT_-_2016-10-14_-_RiLA600_STX-16803_-_2bin/reduced_nightsky/CM-CYG_LIGHT_V_2016-10-14-12-49-47_40sec_RiLA600_STX-16803_-19c_2bin.fit... Saved.\n"
     ]
    },
    {
     "name": "stderr",
     "output_type": "stream",
     "text": [
      "WARNING: The following header keyword is invalid or follows an unrecognized non-standard convention:\n",
      "DELMAG   =   0.0000            /Veriable - Comparison,   Delmag                  [astropy.io.fits.card]\n",
      "WARNING: FITSFixedWarning: 'datfix' made the change 'Set MJD-OBS to 57675.535185 from DATE-OBS'. [astropy.wcs.wcs]\n",
      "WARNING: The following header keyword is invalid or follows an unrecognized non-standard convention:\n",
      "DELMAG   =   0.0000            /Veriable - Comparison,   Delmag                  [astropy.io.fits.card]\n",
      "WARNING: FITSFixedWarning: 'datfix' made the change 'Set MJD-OBS to 57675.529363 from DATE-OBS'. [astropy.wcs.wcs]\n"
     ]
    },
    {
     "name": "stdout",
     "output_type": "stream",
     "text": [
      "HISTORY  [yfu.flatcor] Flat pixels with `value < flat_mask = 0` are replaced by `flat_fill = 1`.\n",
      "HISTORY  .................................................2024-09-14T04:39:40.126\n",
      "HISTORY  [yfu.flatcor] Flat corrected (FLATFRM = /mnt/Rdata/OBS_data/2016-Variable/-_-_-_2016-_-_RiLA600_STX-16803_-_2bin/CM-CYG_LIGHT_-_2016-10-14_-_RiLA600_STX-16803_-_2bin/master_files_ys/nightskyflat-V.fits)\n",
      "HISTORY  ..................................(dt = 0.019 s) 2024-09-14T04:39:40.139\n",
      "Writing FITS to /mnt/Rdata/OBS_data/2016-Variable/-_-_-_2016-_-_RiLA600_STX-16803_-_2bin/CM-CYG_LIGHT_-_2016-10-14_-_RiLA600_STX-16803_-_2bin/reduced_nightsky/CM-CYG_LIGHT_V_2016-10-14-12-50-40_40sec_RiLA600_STX-16803_-19c_2bin.fit... Saved.\n"
     ]
    },
    {
     "name": "stderr",
     "output_type": "stream",
     "text": [
      "WARNING: The following header keyword is invalid or follows an unrecognized non-standard convention:\n",
      "DELMAG   =   0.0000            /Veriable - Comparison,   Delmag                  [astropy.io.fits.card]\n",
      "WARNING: FITSFixedWarning: 'datfix' made the change 'Set MJD-OBS to 57675.535787 from DATE-OBS'. [astropy.wcs.wcs]\n",
      "WARNING: The following header keyword is invalid or follows an unrecognized non-standard convention:\n",
      "DELMAG   =   0.0000            /Veriable - Comparison,   Delmag                  [astropy.io.fits.card]\n",
      "WARNING: FITSFixedWarning: 'datfix' made the change 'Set MJD-OBS to 57675.529363 from DATE-OBS'. [astropy.wcs.wcs]\n"
     ]
    },
    {
     "name": "stdout",
     "output_type": "stream",
     "text": [
      "HISTORY  [yfu.flatcor] Flat pixels with `value < flat_mask = 0` are replaced by `flat_fill = 1`.\n",
      "HISTORY  .................................................2024-09-14T04:39:40.492\n",
      "HISTORY  [yfu.flatcor] Flat corrected (FLATFRM = /mnt/Rdata/OBS_data/2016-Variable/-_-_-_2016-_-_RiLA600_STX-16803_-_2bin/CM-CYG_LIGHT_-_2016-10-14_-_RiLA600_STX-16803_-_2bin/master_files_ys/nightskyflat-V.fits)\n",
      "HISTORY  ..................................(dt = 0.019 s) 2024-09-14T04:39:40.505\n",
      "Writing FITS to /mnt/Rdata/OBS_data/2016-Variable/-_-_-_2016-_-_RiLA600_STX-16803_-_2bin/CM-CYG_LIGHT_-_2016-10-14_-_RiLA600_STX-16803_-_2bin/reduced_nightsky/CM-CYG_LIGHT_V_2016-10-14-12-51-32_40sec_RiLA600_STX-16803_-19c_2bin.fit... Saved.\n"
     ]
    },
    {
     "name": "stderr",
     "output_type": "stream",
     "text": [
      "WARNING: The following header keyword is invalid or follows an unrecognized non-standard convention:\n",
      "DELMAG   =   0.0000            /Veriable - Comparison,   Delmag                  [astropy.io.fits.card]\n",
      "WARNING: FITSFixedWarning: 'datfix' made the change 'Set MJD-OBS to 57675.536400 from DATE-OBS'. [astropy.wcs.wcs]\n",
      "WARNING: The following header keyword is invalid or follows an unrecognized non-standard convention:\n",
      "DELMAG   =   0.0000            /Veriable - Comparison,   Delmag                  [astropy.io.fits.card]\n",
      "WARNING: FITSFixedWarning: 'datfix' made the change 'Set MJD-OBS to 57675.529363 from DATE-OBS'. [astropy.wcs.wcs]\n"
     ]
    },
    {
     "name": "stdout",
     "output_type": "stream",
     "text": [
      "HISTORY  [yfu.flatcor] Flat pixels with `value < flat_mask = 0` are replaced by `flat_fill = 1`.\n",
      "HISTORY  .................................................2024-09-14T04:39:40.821\n",
      "HISTORY  [yfu.flatcor] Flat corrected (FLATFRM = /mnt/Rdata/OBS_data/2016-Variable/-_-_-_2016-_-_RiLA600_STX-16803_-_2bin/CM-CYG_LIGHT_-_2016-10-14_-_RiLA600_STX-16803_-_2bin/master_files_ys/nightskyflat-V.fits)\n",
      "HISTORY  ..................................(dt = 0.019 s) 2024-09-14T04:39:40.834\n",
      "Writing FITS to /mnt/Rdata/OBS_data/2016-Variable/-_-_-_2016-_-_RiLA600_STX-16803_-_2bin/CM-CYG_LIGHT_-_2016-10-14_-_RiLA600_STX-16803_-_2bin/reduced_nightsky/CM-CYG_LIGHT_V_2016-10-14-12-52-25_40sec_RiLA600_STX-16803_-19c_2bin.fit... Saved.\n"
     ]
    },
    {
     "name": "stderr",
     "output_type": "stream",
     "text": [
      "WARNING: The following header keyword is invalid or follows an unrecognized non-standard convention:\n",
      "DELMAG   =   0.0000            /Veriable - Comparison,   Delmag                  [astropy.io.fits.card]\n",
      "WARNING: FITSFixedWarning: 'datfix' made the change 'Set MJD-OBS to 57675.537014 from DATE-OBS'. [astropy.wcs.wcs]\n",
      "WARNING: The following header keyword is invalid or follows an unrecognized non-standard convention:\n",
      "DELMAG   =   0.0000            /Veriable - Comparison,   Delmag                  [astropy.io.fits.card]\n",
      "WARNING: FITSFixedWarning: 'datfix' made the change 'Set MJD-OBS to 57675.529363 from DATE-OBS'. [astropy.wcs.wcs]\n"
     ]
    },
    {
     "name": "stdout",
     "output_type": "stream",
     "text": [
      "HISTORY  [yfu.flatcor] Flat pixels with `value < flat_mask = 0` are replaced by `flat_fill = 1`.\n",
      "HISTORY  .................................................2024-09-14T04:39:41.151\n",
      "HISTORY  [yfu.flatcor] Flat corrected (FLATFRM = /mnt/Rdata/OBS_data/2016-Variable/-_-_-_2016-_-_RiLA600_STX-16803_-_2bin/CM-CYG_LIGHT_-_2016-10-14_-_RiLA600_STX-16803_-_2bin/master_files_ys/nightskyflat-V.fits)\n",
      "HISTORY  ..................................(dt = 0.020 s) 2024-09-14T04:39:41.164\n",
      "Writing FITS to /mnt/Rdata/OBS_data/2016-Variable/-_-_-_2016-_-_RiLA600_STX-16803_-_2bin/CM-CYG_LIGHT_-_2016-10-14_-_RiLA600_STX-16803_-_2bin/reduced_nightsky/CM-CYG_LIGHT_V_2016-10-14-12-53-18_40sec_RiLA600_STX-16803_-19c_2bin.fit... Saved.\n"
     ]
    },
    {
     "name": "stderr",
     "output_type": "stream",
     "text": [
      "WARNING: The following header keyword is invalid or follows an unrecognized non-standard convention:\n",
      "DELMAG   =   0.0000            /Veriable - Comparison,   Delmag                  [astropy.io.fits.card]\n",
      "WARNING: FITSFixedWarning: 'datfix' made the change 'Set MJD-OBS to 57675.537627 from DATE-OBS'. [astropy.wcs.wcs]\n",
      "WARNING: The following header keyword is invalid or follows an unrecognized non-standard convention:\n",
      "DELMAG   =   0.0000            /Veriable - Comparison,   Delmag                  [astropy.io.fits.card]\n",
      "WARNING: FITSFixedWarning: 'datfix' made the change 'Set MJD-OBS to 57675.529363 from DATE-OBS'. [astropy.wcs.wcs]\n"
     ]
    },
    {
     "name": "stdout",
     "output_type": "stream",
     "text": [
      "HISTORY  [yfu.flatcor] Flat pixels with `value < flat_mask = 0` are replaced by `flat_fill = 1`.\n",
      "HISTORY  .................................................2024-09-14T04:39:41.617\n",
      "HISTORY  [yfu.flatcor] Flat corrected (FLATFRM = /mnt/Rdata/OBS_data/2016-Variable/-_-_-_2016-_-_RiLA600_STX-16803_-_2bin/CM-CYG_LIGHT_-_2016-10-14_-_RiLA600_STX-16803_-_2bin/master_files_ys/nightskyflat-V.fits)\n",
      "HISTORY  ..................................(dt = 0.020 s) 2024-09-14T04:39:41.629\n",
      "Writing FITS to /mnt/Rdata/OBS_data/2016-Variable/-_-_-_2016-_-_RiLA600_STX-16803_-_2bin/CM-CYG_LIGHT_-_2016-10-14_-_RiLA600_STX-16803_-_2bin/reduced_nightsky/CM-CYG_LIGHT_V_2016-10-14-12-54-11_40sec_RiLA600_STX-16803_-19c_2bin.fit... Saved.\n"
     ]
    },
    {
     "name": "stderr",
     "output_type": "stream",
     "text": [
      "WARNING: The following header keyword is invalid or follows an unrecognized non-standard convention:\n",
      "DELMAG   =   0.0000            /Veriable - Comparison,   Delmag                  [astropy.io.fits.card]\n",
      "WARNING: FITSFixedWarning: 'datfix' made the change 'Set MJD-OBS to 57675.538229 from DATE-OBS'. [astropy.wcs.wcs]\n",
      "WARNING: The following header keyword is invalid or follows an unrecognized non-standard convention:\n",
      "DELMAG   =   0.0000            /Veriable - Comparison,   Delmag                  [astropy.io.fits.card]\n",
      "WARNING: FITSFixedWarning: 'datfix' made the change 'Set MJD-OBS to 57675.529363 from DATE-OBS'. [astropy.wcs.wcs]\n"
     ]
    },
    {
     "name": "stdout",
     "output_type": "stream",
     "text": [
      "HISTORY  [yfu.flatcor] Flat pixels with `value < flat_mask = 0` are replaced by `flat_fill = 1`.\n",
      "HISTORY  .................................................2024-09-14T04:39:41.946\n",
      "HISTORY  [yfu.flatcor] Flat corrected (FLATFRM = /mnt/Rdata/OBS_data/2016-Variable/-_-_-_2016-_-_RiLA600_STX-16803_-_2bin/CM-CYG_LIGHT_-_2016-10-14_-_RiLA600_STX-16803_-_2bin/master_files_ys/nightskyflat-V.fits)\n",
      "HISTORY  ..................................(dt = 0.019 s) 2024-09-14T04:39:41.959\n",
      "Writing FITS to /mnt/Rdata/OBS_data/2016-Variable/-_-_-_2016-_-_RiLA600_STX-16803_-_2bin/CM-CYG_LIGHT_-_2016-10-14_-_RiLA600_STX-16803_-_2bin/reduced_nightsky/CM-CYG_LIGHT_V_2016-10-14-12-55-03_40sec_RiLA600_STX-16803_-19c_2bin.fit... Saved.\n"
     ]
    },
    {
     "name": "stderr",
     "output_type": "stream",
     "text": [
      "WARNING: The following header keyword is invalid or follows an unrecognized non-standard convention:\n",
      "DELMAG   =   0.0000            /Veriable - Comparison,   Delmag                  [astropy.io.fits.card]\n",
      "WARNING: FITSFixedWarning: 'datfix' made the change 'Set MJD-OBS to 57675.538843 from DATE-OBS'. [astropy.wcs.wcs]\n",
      "WARNING: The following header keyword is invalid or follows an unrecognized non-standard convention:\n",
      "DELMAG   =   0.0000            /Veriable - Comparison,   Delmag                  [astropy.io.fits.card]\n",
      "WARNING: FITSFixedWarning: 'datfix' made the change 'Set MJD-OBS to 57675.529363 from DATE-OBS'. [astropy.wcs.wcs]\n"
     ]
    },
    {
     "name": "stdout",
     "output_type": "stream",
     "text": [
      "HISTORY  [yfu.flatcor] Flat pixels with `value < flat_mask = 0` are replaced by `flat_fill = 1`.\n",
      "HISTORY  .................................................2024-09-14T04:39:42.279\n",
      "HISTORY  [yfu.flatcor] Flat corrected (FLATFRM = /mnt/Rdata/OBS_data/2016-Variable/-_-_-_2016-_-_RiLA600_STX-16803_-_2bin/CM-CYG_LIGHT_-_2016-10-14_-_RiLA600_STX-16803_-_2bin/master_files_ys/nightskyflat-V.fits)\n",
      "HISTORY  ..................................(dt = 0.020 s) 2024-09-14T04:39:42.293\n",
      "Writing FITS to /mnt/Rdata/OBS_data/2016-Variable/-_-_-_2016-_-_RiLA600_STX-16803_-_2bin/CM-CYG_LIGHT_-_2016-10-14_-_RiLA600_STX-16803_-_2bin/reduced_nightsky/CM-CYG_LIGHT_V_2016-10-14-12-55-56_40sec_RiLA600_STX-16803_-19c_2bin.fit... Saved.\n"
     ]
    },
    {
     "name": "stderr",
     "output_type": "stream",
     "text": [
      "WARNING: The following header keyword is invalid or follows an unrecognized non-standard convention:\n",
      "DELMAG   =   0.0000            /Veriable - Comparison,   Delmag                  [astropy.io.fits.card]\n",
      "WARNING: FITSFixedWarning: 'datfix' made the change 'Set MJD-OBS to 57675.539456 from DATE-OBS'. [astropy.wcs.wcs]\n",
      "WARNING: The following header keyword is invalid or follows an unrecognized non-standard convention:\n",
      "DELMAG   =   0.0000            /Veriable - Comparison,   Delmag                  [astropy.io.fits.card]\n",
      "WARNING: FITSFixedWarning: 'datfix' made the change 'Set MJD-OBS to 57675.529363 from DATE-OBS'. [astropy.wcs.wcs]\n"
     ]
    },
    {
     "name": "stdout",
     "output_type": "stream",
     "text": [
      "HISTORY  [yfu.flatcor] Flat pixels with `value < flat_mask = 0` are replaced by `flat_fill = 1`.\n",
      "HISTORY  .................................................2024-09-14T04:39:42.624\n",
      "HISTORY  [yfu.flatcor] Flat corrected (FLATFRM = /mnt/Rdata/OBS_data/2016-Variable/-_-_-_2016-_-_RiLA600_STX-16803_-_2bin/CM-CYG_LIGHT_-_2016-10-14_-_RiLA600_STX-16803_-_2bin/master_files_ys/nightskyflat-V.fits)\n",
      "HISTORY  ..................................(dt = 0.019 s) 2024-09-14T04:39:42.637\n",
      "Writing FITS to /mnt/Rdata/OBS_data/2016-Variable/-_-_-_2016-_-_RiLA600_STX-16803_-_2bin/CM-CYG_LIGHT_-_2016-10-14_-_RiLA600_STX-16803_-_2bin/reduced_nightsky/CM-CYG_LIGHT_V_2016-10-14-12-56-49_40sec_RiLA600_STX-16803_-19c_2bin.fit... Saved.\n"
     ]
    },
    {
     "name": "stderr",
     "output_type": "stream",
     "text": [
      "WARNING: The following header keyword is invalid or follows an unrecognized non-standard convention:\n",
      "DELMAG   =   0.0000            /Veriable - Comparison,   Delmag                  [astropy.io.fits.card]\n",
      "WARNING: FITSFixedWarning: 'datfix' made the change 'Set MJD-OBS to 57675.540069 from DATE-OBS'. [astropy.wcs.wcs]\n",
      "WARNING: The following header keyword is invalid or follows an unrecognized non-standard convention:\n",
      "DELMAG   =   0.0000            /Veriable - Comparison,   Delmag                  [astropy.io.fits.card]\n",
      "WARNING: FITSFixedWarning: 'datfix' made the change 'Set MJD-OBS to 57675.529363 from DATE-OBS'. [astropy.wcs.wcs]\n"
     ]
    },
    {
     "name": "stdout",
     "output_type": "stream",
     "text": [
      "HISTORY  [yfu.flatcor] Flat pixels with `value < flat_mask = 0` are replaced by `flat_fill = 1`.\n",
      "HISTORY  .................................................2024-09-14T04:39:43.012\n",
      "HISTORY  [yfu.flatcor] Flat corrected (FLATFRM = /mnt/Rdata/OBS_data/2016-Variable/-_-_-_2016-_-_RiLA600_STX-16803_-_2bin/CM-CYG_LIGHT_-_2016-10-14_-_RiLA600_STX-16803_-_2bin/master_files_ys/nightskyflat-V.fits)\n",
      "HISTORY  ..................................(dt = 0.021 s) 2024-09-14T04:39:43.026\n",
      "Writing FITS to /mnt/Rdata/OBS_data/2016-Variable/-_-_-_2016-_-_RiLA600_STX-16803_-_2bin/CM-CYG_LIGHT_-_2016-10-14_-_RiLA600_STX-16803_-_2bin/reduced_nightsky/CM-CYG_LIGHT_V_2016-10-14-12-57-42_40sec_RiLA600_STX-16803_-20c_2bin.fit... Saved.\n"
     ]
    },
    {
     "name": "stderr",
     "output_type": "stream",
     "text": [
      "WARNING: The following header keyword is invalid or follows an unrecognized non-standard convention:\n",
      "DELMAG   =   0.0000            /Veriable - Comparison,   Delmag                  [astropy.io.fits.card]\n",
      "WARNING: FITSFixedWarning: 'datfix' made the change 'Set MJD-OBS to 57675.540729 from DATE-OBS'. [astropy.wcs.wcs]\n",
      "WARNING: The following header keyword is invalid or follows an unrecognized non-standard convention:\n",
      "DELMAG   =   0.0000            /Veriable - Comparison,   Delmag                  [astropy.io.fits.card]\n",
      "WARNING: FITSFixedWarning: 'datfix' made the change 'Set MJD-OBS to 57675.529363 from DATE-OBS'. [astropy.wcs.wcs]\n"
     ]
    },
    {
     "name": "stdout",
     "output_type": "stream",
     "text": [
      "HISTORY  [yfu.flatcor] Flat pixels with `value < flat_mask = 0` are replaced by `flat_fill = 1`.\n",
      "HISTORY  .................................................2024-09-14T04:39:43.378\n",
      "HISTORY  [yfu.flatcor] Flat corrected (FLATFRM = /mnt/Rdata/OBS_data/2016-Variable/-_-_-_2016-_-_RiLA600_STX-16803_-_2bin/CM-CYG_LIGHT_-_2016-10-14_-_RiLA600_STX-16803_-_2bin/master_files_ys/nightskyflat-V.fits)\n",
      "HISTORY  ..................................(dt = 0.019 s) 2024-09-14T04:39:43.391\n",
      "Writing FITS to /mnt/Rdata/OBS_data/2016-Variable/-_-_-_2016-_-_RiLA600_STX-16803_-_2bin/CM-CYG_LIGHT_-_2016-10-14_-_RiLA600_STX-16803_-_2bin/reduced_nightsky/CM-CYG_LIGHT_V_2016-10-14-12-58-39_40sec_RiLA600_STX-16803_-19c_2bin.fit... Saved.\n"
     ]
    },
    {
     "name": "stderr",
     "output_type": "stream",
     "text": [
      "WARNING: The following header keyword is invalid or follows an unrecognized non-standard convention:\n",
      "DELMAG   =   0.0000            /Veriable - Comparison,   Delmag                  [astropy.io.fits.card]\n",
      "WARNING: FITSFixedWarning: 'datfix' made the change 'Set MJD-OBS to 57675.541343 from DATE-OBS'. [astropy.wcs.wcs]\n",
      "WARNING: The following header keyword is invalid or follows an unrecognized non-standard convention:\n",
      "DELMAG   =   0.0000            /Veriable - Comparison,   Delmag                  [astropy.io.fits.card]\n",
      "WARNING: FITSFixedWarning: 'datfix' made the change 'Set MJD-OBS to 57675.529363 from DATE-OBS'. [astropy.wcs.wcs]\n"
     ]
    },
    {
     "name": "stdout",
     "output_type": "stream",
     "text": [
      "HISTORY  [yfu.flatcor] Flat pixels with `value < flat_mask = 0` are replaced by `flat_fill = 1`.\n",
      "HISTORY  .................................................2024-09-14T04:39:43.759\n",
      "HISTORY  [yfu.flatcor] Flat corrected (FLATFRM = /mnt/Rdata/OBS_data/2016-Variable/-_-_-_2016-_-_RiLA600_STX-16803_-_2bin/CM-CYG_LIGHT_-_2016-10-14_-_RiLA600_STX-16803_-_2bin/master_files_ys/nightskyflat-V.fits)\n",
      "HISTORY  ..................................(dt = 0.021 s) 2024-09-14T04:39:43.773\n",
      "Writing FITS to /mnt/Rdata/OBS_data/2016-Variable/-_-_-_2016-_-_RiLA600_STX-16803_-_2bin/CM-CYG_LIGHT_-_2016-10-14_-_RiLA600_STX-16803_-_2bin/reduced_nightsky/CM-CYG_LIGHT_V_2016-10-14-12-59-32_40sec_RiLA600_STX-16803_-19c_2bin.fit... Saved.\n"
     ]
    },
    {
     "name": "stderr",
     "output_type": "stream",
     "text": [
      "WARNING: The following header keyword is invalid or follows an unrecognized non-standard convention:\n",
      "DELMAG   =   0.0000            /Veriable - Comparison,   Delmag                  [astropy.io.fits.card]\n",
      "WARNING: FITSFixedWarning: 'datfix' made the change 'Set MJD-OBS to 57675.541956 from DATE-OBS'. [astropy.wcs.wcs]\n",
      "WARNING: The following header keyword is invalid or follows an unrecognized non-standard convention:\n",
      "DELMAG   =   0.0000            /Veriable - Comparison,   Delmag                  [astropy.io.fits.card]\n",
      "WARNING: FITSFixedWarning: 'datfix' made the change 'Set MJD-OBS to 57675.529363 from DATE-OBS'. [astropy.wcs.wcs]\n"
     ]
    },
    {
     "name": "stdout",
     "output_type": "stream",
     "text": [
      "HISTORY  [yfu.flatcor] Flat pixels with `value < flat_mask = 0` are replaced by `flat_fill = 1`.\n",
      "HISTORY  .................................................2024-09-14T04:39:44.155\n",
      "HISTORY  [yfu.flatcor] Flat corrected (FLATFRM = /mnt/Rdata/OBS_data/2016-Variable/-_-_-_2016-_-_RiLA600_STX-16803_-_2bin/CM-CYG_LIGHT_-_2016-10-14_-_RiLA600_STX-16803_-_2bin/master_files_ys/nightskyflat-V.fits)\n",
      "HISTORY  ..................................(dt = 0.021 s) 2024-09-14T04:39:44.169\n",
      "Writing FITS to /mnt/Rdata/OBS_data/2016-Variable/-_-_-_2016-_-_RiLA600_STX-16803_-_2bin/CM-CYG_LIGHT_-_2016-10-14_-_RiLA600_STX-16803_-_2bin/reduced_nightsky/CM-CYG_LIGHT_V_2016-10-14-13-00-25_40sec_RiLA600_STX-16803_-19c_2bin.fit... Saved.\n"
     ]
    },
    {
     "name": "stderr",
     "output_type": "stream",
     "text": [
      "WARNING: The following header keyword is invalid or follows an unrecognized non-standard convention:\n",
      "DELMAG   =   0.0000            /Veriable - Comparison,   Delmag                  [astropy.io.fits.card]\n",
      "WARNING: FITSFixedWarning: 'datfix' made the change 'Set MJD-OBS to 57675.542558 from DATE-OBS'. [astropy.wcs.wcs]\n",
      "WARNING: The following header keyword is invalid or follows an unrecognized non-standard convention:\n",
      "DELMAG   =   0.0000            /Veriable - Comparison,   Delmag                  [astropy.io.fits.card]\n",
      "WARNING: FITSFixedWarning: 'datfix' made the change 'Set MJD-OBS to 57675.529363 from DATE-OBS'. [astropy.wcs.wcs]\n",
      "WARNING: The following header keyword is invalid or follows an unrecognized non-standard convention:\n",
      "DELMAG   =   0.0000            /Veriable - Comparison,   Delmag                  [astropy.io.fits.card]\n"
     ]
    },
    {
     "name": "stdout",
     "output_type": "stream",
     "text": [
      "HISTORY  [yfu.flatcor] Flat pixels with `value < flat_mask = 0` are replaced by `flat_fill = 1`.\n",
      "HISTORY  .................................................2024-09-14T04:39:44.575\n",
      "HISTORY  [yfu.flatcor] Flat corrected (FLATFRM = /mnt/Rdata/OBS_data/2016-Variable/-_-_-_2016-_-_RiLA600_STX-16803_-_2bin/CM-CYG_LIGHT_-_2016-10-14_-_RiLA600_STX-16803_-_2bin/master_files_ys/nightskyflat-V.fits)\n",
      "HISTORY  ..................................(dt = 0.021 s) 2024-09-14T04:39:44.589\n",
      "Writing FITS to /mnt/Rdata/OBS_data/2016-Variable/-_-_-_2016-_-_RiLA600_STX-16803_-_2bin/CM-CYG_LIGHT_-_2016-10-14_-_RiLA600_STX-16803_-_2bin/reduced_nightsky/CM-CYG_LIGHT_V_2016-10-14-13-01-17_80sec_RiLA600_STX-16803_-19c_2bin.fit... Saved.\n"
     ]
    },
    {
     "name": "stderr",
     "output_type": "stream",
     "text": [
      "WARNING: FITSFixedWarning: 'datfix' made the change 'Set MJD-OBS to 57675.548148 from DATE-OBS'. [astropy.wcs.wcs]\n",
      "WARNING: The following header keyword is invalid or follows an unrecognized non-standard convention:\n",
      "DELMAG   =   0.0000            /Veriable - Comparison,   Delmag                  [astropy.io.fits.card]\n",
      "WARNING: FITSFixedWarning: 'datfix' made the change 'Set MJD-OBS to 57675.529363 from DATE-OBS'. [astropy.wcs.wcs]\n"
     ]
    },
    {
     "name": "stdout",
     "output_type": "stream",
     "text": [
      "HISTORY  [yfu.flatcor] Flat pixels with `value < flat_mask = 0` are replaced by `flat_fill = 1`.\n",
      "HISTORY  .................................................2024-09-14T04:39:44.970\n",
      "HISTORY  [yfu.flatcor] Flat corrected (FLATFRM = /mnt/Rdata/OBS_data/2016-Variable/-_-_-_2016-_-_RiLA600_STX-16803_-_2bin/CM-CYG_LIGHT_-_2016-10-14_-_RiLA600_STX-16803_-_2bin/master_files_ys/nightskyflat-V.fits)\n",
      "HISTORY  ..................................(dt = 0.021 s) 2024-09-14T04:39:44.985\n",
      "Writing FITS to /mnt/Rdata/OBS_data/2016-Variable/-_-_-_2016-_-_RiLA600_STX-16803_-_2bin/CM-CYG_LIGHT_-_2016-10-14_-_RiLA600_STX-16803_-_2bin/reduced_nightsky/CM-CYG_LIGHT_V_2016-10-14-13-09-20_80sec_RiLA600_STX-16803_-20c_2bin.fit... Saved.\n"
     ]
    },
    {
     "name": "stderr",
     "output_type": "stream",
     "text": [
      "WARNING: The following header keyword is invalid or follows an unrecognized non-standard convention:\n",
      "DELMAG   =  -0.5755            /Veriable - Comparison,   Delmag                  [astropy.io.fits.card]\n",
      "WARNING: FITSFixedWarning: 'datfix' made the change 'Set MJD-OBS to 57675.549282 from DATE-OBS'. [astropy.wcs.wcs]\n",
      "WARNING: The following header keyword is invalid or follows an unrecognized non-standard convention:\n",
      "DELMAG   =   0.0000            /Veriable - Comparison,   Delmag                  [astropy.io.fits.card]\n",
      "WARNING: FITSFixedWarning: 'datfix' made the change 'Set MJD-OBS to 57675.529363 from DATE-OBS'. [astropy.wcs.wcs]\n"
     ]
    },
    {
     "name": "stdout",
     "output_type": "stream",
     "text": [
      "HISTORY  [yfu.flatcor] Flat pixels with `value < flat_mask = 0` are replaced by `flat_fill = 1`.\n",
      "HISTORY  .................................................2024-09-14T04:39:45.480\n",
      "HISTORY  [yfu.flatcor] Flat corrected (FLATFRM = /mnt/Rdata/OBS_data/2016-Variable/-_-_-_2016-_-_RiLA600_STX-16803_-_2bin/CM-CYG_LIGHT_-_2016-10-14_-_RiLA600_STX-16803_-_2bin/master_files_ys/nightskyflat-V.fits)\n",
      "HISTORY  ..................................(dt = 0.021 s) 2024-09-14T04:39:45.494\n",
      "Writing FITS to /mnt/Rdata/OBS_data/2016-Variable/-_-_-_2016-_-_RiLA600_STX-16803_-_2bin/CM-CYG_LIGHT_-_2016-10-14_-_RiLA600_STX-16803_-_2bin/reduced_nightsky/CM-CYG_LIGHT_V_2016-10-14-13-10-58_80sec_RiLA600_STX-16803_-19c_2bin.fit... Saved.\n"
     ]
    },
    {
     "name": "stderr",
     "output_type": "stream",
     "text": [
      "WARNING: The following header keyword is invalid or follows an unrecognized non-standard convention:\n",
      "DELMAG   =  -0.6398            /Veriable - Comparison,   Delmag                  [astropy.io.fits.card]\n",
      "WARNING: FITSFixedWarning: 'datfix' made the change 'Set MJD-OBS to 57675.550428 from DATE-OBS'. [astropy.wcs.wcs]\n",
      "WARNING: The following header keyword is invalid or follows an unrecognized non-standard convention:\n",
      "DELMAG   =   0.0000            /Veriable - Comparison,   Delmag                  [astropy.io.fits.card]\n",
      "WARNING: FITSFixedWarning: 'datfix' made the change 'Set MJD-OBS to 57675.529363 from DATE-OBS'. [astropy.wcs.wcs]\n"
     ]
    },
    {
     "name": "stdout",
     "output_type": "stream",
     "text": [
      "HISTORY  [yfu.flatcor] Flat pixels with `value < flat_mask = 0` are replaced by `flat_fill = 1`.\n",
      "HISTORY  .................................................2024-09-14T04:39:45.852\n",
      "HISTORY  [yfu.flatcor] Flat corrected (FLATFRM = /mnt/Rdata/OBS_data/2016-Variable/-_-_-_2016-_-_RiLA600_STX-16803_-_2bin/CM-CYG_LIGHT_-_2016-10-14_-_RiLA600_STX-16803_-_2bin/master_files_ys/nightskyflat-V.fits)\n",
      "HISTORY  ..................................(dt = 0.020 s) 2024-09-14T04:39:45.865\n",
      "Writing FITS to /mnt/Rdata/OBS_data/2016-Variable/-_-_-_2016-_-_RiLA600_STX-16803_-_2bin/CM-CYG_LIGHT_-_2016-10-14_-_RiLA600_STX-16803_-_2bin/reduced_nightsky/CM-CYG_LIGHT_V_2016-10-14-13-12-37_80sec_RiLA600_STX-16803_-19c_2bin.fit... Saved.\n"
     ]
    },
    {
     "name": "stderr",
     "output_type": "stream",
     "text": [
      "WARNING: The following header keyword is invalid or follows an unrecognized non-standard convention:\n",
      "DELMAG   =  -0.6310            /Veriable - Comparison,   Delmag                  [astropy.io.fits.card]\n",
      "WARNING: FITSFixedWarning: 'datfix' made the change 'Set MJD-OBS to 57675.551505 from DATE-OBS'. [astropy.wcs.wcs]\n",
      "WARNING: The following header keyword is invalid or follows an unrecognized non-standard convention:\n",
      "DELMAG   =   0.0000            /Veriable - Comparison,   Delmag                  [astropy.io.fits.card]\n",
      "WARNING: FITSFixedWarning: 'datfix' made the change 'Set MJD-OBS to 57675.529363 from DATE-OBS'. [astropy.wcs.wcs]\n"
     ]
    },
    {
     "name": "stdout",
     "output_type": "stream",
     "text": [
      "HISTORY  [yfu.flatcor] Flat pixels with `value < flat_mask = 0` are replaced by `flat_fill = 1`.\n",
      "HISTORY  .................................................2024-09-14T04:39:46.185\n",
      "HISTORY  [yfu.flatcor] Flat corrected (FLATFRM = /mnt/Rdata/OBS_data/2016-Variable/-_-_-_2016-_-_RiLA600_STX-16803_-_2bin/CM-CYG_LIGHT_-_2016-10-14_-_RiLA600_STX-16803_-_2bin/master_files_ys/nightskyflat-V.fits)\n",
      "HISTORY  ..................................(dt = 0.018 s) 2024-09-14T04:39:46.197\n",
      "Writing FITS to /mnt/Rdata/OBS_data/2016-Variable/-_-_-_2016-_-_RiLA600_STX-16803_-_2bin/CM-CYG_LIGHT_-_2016-10-14_-_RiLA600_STX-16803_-_2bin/reduced_nightsky/CM-CYG_LIGHT_V_2016-10-14-13-14-10_80sec_RiLA600_STX-16803_-19c_2bin.fit... Saved.\n"
     ]
    },
    {
     "name": "stderr",
     "output_type": "stream",
     "text": [
      "WARNING: The following header keyword is invalid or follows an unrecognized non-standard convention:\n",
      "DELMAG   =  -0.6328            /Veriable - Comparison,   Delmag                  [astropy.io.fits.card]\n",
      "WARNING: FITSFixedWarning: 'datfix' made the change 'Set MJD-OBS to 57675.552581 from DATE-OBS'. [astropy.wcs.wcs]\n",
      "WARNING: The following header keyword is invalid or follows an unrecognized non-standard convention:\n",
      "DELMAG   =   0.0000            /Veriable - Comparison,   Delmag                  [astropy.io.fits.card]\n",
      "WARNING: FITSFixedWarning: 'datfix' made the change 'Set MJD-OBS to 57675.529363 from DATE-OBS'. [astropy.wcs.wcs]\n"
     ]
    },
    {
     "name": "stdout",
     "output_type": "stream",
     "text": [
      "HISTORY  [yfu.flatcor] Flat pixels with `value < flat_mask = 0` are replaced by `flat_fill = 1`.\n",
      "HISTORY  .................................................2024-09-14T04:39:46.532\n",
      "HISTORY  [yfu.flatcor] Flat corrected (FLATFRM = /mnt/Rdata/OBS_data/2016-Variable/-_-_-_2016-_-_RiLA600_STX-16803_-_2bin/CM-CYG_LIGHT_-_2016-10-14_-_RiLA600_STX-16803_-_2bin/master_files_ys/nightskyflat-V.fits)\n",
      "HISTORY  ..................................(dt = 0.019 s) 2024-09-14T04:39:46.545\n",
      "Writing FITS to /mnt/Rdata/OBS_data/2016-Variable/-_-_-_2016-_-_RiLA600_STX-16803_-_2bin/CM-CYG_LIGHT_-_2016-10-14_-_RiLA600_STX-16803_-_2bin/reduced_nightsky/CM-CYG_LIGHT_V_2016-10-14-13-15-43_80sec_RiLA600_STX-16803_-19c_2bin.fit... Saved.\n"
     ]
    },
    {
     "name": "stderr",
     "output_type": "stream",
     "text": [
      "WARNING: The following header keyword is invalid or follows an unrecognized non-standard convention:\n",
      "DELMAG   =  -0.6036            /Veriable - Comparison,   Delmag                  [astropy.io.fits.card]\n",
      "WARNING: FITSFixedWarning: 'datfix' made the change 'Set MJD-OBS to 57675.553704 from DATE-OBS'. [astropy.wcs.wcs]\n",
      "WARNING: The following header keyword is invalid or follows an unrecognized non-standard convention:\n",
      "DELMAG   =   0.0000            /Veriable - Comparison,   Delmag                  [astropy.io.fits.card]\n",
      "WARNING: FITSFixedWarning: 'datfix' made the change 'Set MJD-OBS to 57675.529363 from DATE-OBS'. [astropy.wcs.wcs]\n"
     ]
    },
    {
     "name": "stdout",
     "output_type": "stream",
     "text": [
      "HISTORY  [yfu.flatcor] Flat pixels with `value < flat_mask = 0` are replaced by `flat_fill = 1`.\n",
      "HISTORY  .................................................2024-09-14T04:39:46.890\n",
      "HISTORY  [yfu.flatcor] Flat corrected (FLATFRM = /mnt/Rdata/OBS_data/2016-Variable/-_-_-_2016-_-_RiLA600_STX-16803_-_2bin/CM-CYG_LIGHT_-_2016-10-14_-_RiLA600_STX-16803_-_2bin/master_files_ys/nightskyflat-V.fits)\n",
      "HISTORY  ..................................(dt = 0.019 s) 2024-09-14T04:39:46.903\n",
      "Writing FITS to /mnt/Rdata/OBS_data/2016-Variable/-_-_-_2016-_-_RiLA600_STX-16803_-_2bin/CM-CYG_LIGHT_-_2016-10-14_-_RiLA600_STX-16803_-_2bin/reduced_nightsky/CM-CYG_LIGHT_V_2016-10-14-13-17-20_80sec_RiLA600_STX-16803_-19c_2bin.fit... Saved.\n"
     ]
    },
    {
     "name": "stderr",
     "output_type": "stream",
     "text": [
      "WARNING: The following header keyword is invalid or follows an unrecognized non-standard convention:\n",
      "DELMAG   =  -0.6340            /Veriable - Comparison,   Delmag                  [astropy.io.fits.card]\n",
      "WARNING: FITSFixedWarning: 'datfix' made the change 'Set MJD-OBS to 57675.554815 from DATE-OBS'. [astropy.wcs.wcs]\n",
      "WARNING: The following header keyword is invalid or follows an unrecognized non-standard convention:\n",
      "DELMAG   =   0.0000            /Veriable - Comparison,   Delmag                  [astropy.io.fits.card]\n",
      "WARNING: FITSFixedWarning: 'datfix' made the change 'Set MJD-OBS to 57675.529363 from DATE-OBS'. [astropy.wcs.wcs]\n"
     ]
    },
    {
     "name": "stdout",
     "output_type": "stream",
     "text": [
      "HISTORY  [yfu.flatcor] Flat pixels with `value < flat_mask = 0` are replaced by `flat_fill = 1`.\n",
      "HISTORY  .................................................2024-09-14T04:39:47.248\n",
      "HISTORY  [yfu.flatcor] Flat corrected (FLATFRM = /mnt/Rdata/OBS_data/2016-Variable/-_-_-_2016-_-_RiLA600_STX-16803_-_2bin/CM-CYG_LIGHT_-_2016-10-14_-_RiLA600_STX-16803_-_2bin/master_files_ys/nightskyflat-V.fits)\n",
      "HISTORY  ..................................(dt = 0.020 s) 2024-09-14T04:39:47.261\n",
      "Writing FITS to /mnt/Rdata/OBS_data/2016-Variable/-_-_-_2016-_-_RiLA600_STX-16803_-_2bin/CM-CYG_LIGHT_-_2016-10-14_-_RiLA600_STX-16803_-_2bin/reduced_nightsky/CM-CYG_LIGHT_V_2016-10-14-13-18-56_80sec_RiLA600_STX-16803_-19c_2bin.fit... Saved.\n"
     ]
    },
    {
     "name": "stderr",
     "output_type": "stream",
     "text": [
      "WARNING: The following header keyword is invalid or follows an unrecognized non-standard convention:\n",
      "DELMAG   =  -0.6307            /Veriable - Comparison,   Delmag                  [astropy.io.fits.card]\n",
      "WARNING: FITSFixedWarning: 'datfix' made the change 'Set MJD-OBS to 57675.555891 from DATE-OBS'. [astropy.wcs.wcs]\n",
      "WARNING: The following header keyword is invalid or follows an unrecognized non-standard convention:\n",
      "DELMAG   =   0.0000            /Veriable - Comparison,   Delmag                  [astropy.io.fits.card]\n",
      "WARNING: FITSFixedWarning: 'datfix' made the change 'Set MJD-OBS to 57675.529363 from DATE-OBS'. [astropy.wcs.wcs]\n"
     ]
    },
    {
     "name": "stdout",
     "output_type": "stream",
     "text": [
      "HISTORY  [yfu.flatcor] Flat pixels with `value < flat_mask = 0` are replaced by `flat_fill = 1`.\n",
      "HISTORY  .................................................2024-09-14T04:39:47.598\n",
      "HISTORY  [yfu.flatcor] Flat corrected (FLATFRM = /mnt/Rdata/OBS_data/2016-Variable/-_-_-_2016-_-_RiLA600_STX-16803_-_2bin/CM-CYG_LIGHT_-_2016-10-14_-_RiLA600_STX-16803_-_2bin/master_files_ys/nightskyflat-V.fits)\n",
      "HISTORY  ..................................(dt = 0.018 s) 2024-09-14T04:39:47.611\n",
      "Writing FITS to /mnt/Rdata/OBS_data/2016-Variable/-_-_-_2016-_-_RiLA600_STX-16803_-_2bin/CM-CYG_LIGHT_-_2016-10-14_-_RiLA600_STX-16803_-_2bin/reduced_nightsky/CM-CYG_LIGHT_V_2016-10-14-13-20-29_80sec_RiLA600_STX-16803_-19c_2bin.fit... Saved.\n"
     ]
    },
    {
     "name": "stderr",
     "output_type": "stream",
     "text": [
      "WARNING: The following header keyword is invalid or follows an unrecognized non-standard convention:\n",
      "DELMAG   =  -0.6727            /Veriable - Comparison,   Delmag                  [astropy.io.fits.card]\n",
      "WARNING: FITSFixedWarning: 'datfix' made the change 'Set MJD-OBS to 57675.556968 from DATE-OBS'. [astropy.wcs.wcs]\n",
      "WARNING: The following header keyword is invalid or follows an unrecognized non-standard convention:\n",
      "DELMAG   =   0.0000            /Veriable - Comparison,   Delmag                  [astropy.io.fits.card]\n",
      "WARNING: FITSFixedWarning: 'datfix' made the change 'Set MJD-OBS to 57675.529363 from DATE-OBS'. [astropy.wcs.wcs]\n"
     ]
    },
    {
     "name": "stdout",
     "output_type": "stream",
     "text": [
      "HISTORY  [yfu.flatcor] Flat pixels with `value < flat_mask = 0` are replaced by `flat_fill = 1`.\n",
      "HISTORY  .................................................2024-09-14T04:39:47.965\n",
      "HISTORY  [yfu.flatcor] Flat corrected (FLATFRM = /mnt/Rdata/OBS_data/2016-Variable/-_-_-_2016-_-_RiLA600_STX-16803_-_2bin/CM-CYG_LIGHT_-_2016-10-14_-_RiLA600_STX-16803_-_2bin/master_files_ys/nightskyflat-V.fits)\n",
      "HISTORY  ..................................(dt = 0.020 s) 2024-09-14T04:39:47.979\n",
      "Writing FITS to /mnt/Rdata/OBS_data/2016-Variable/-_-_-_2016-_-_RiLA600_STX-16803_-_2bin/CM-CYG_LIGHT_-_2016-10-14_-_RiLA600_STX-16803_-_2bin/reduced_nightsky/CM-CYG_LIGHT_V_2016-10-14-13-22-02_80sec_RiLA600_STX-16803_-20c_2bin.fit... Saved.\n"
     ]
    },
    {
     "name": "stderr",
     "output_type": "stream",
     "text": [
      "WARNING: The following header keyword is invalid or follows an unrecognized non-standard convention:\n",
      "DELMAG   =  -0.6428            /Veriable - Comparison,   Delmag                  [astropy.io.fits.card]\n",
      "WARNING: FITSFixedWarning: 'datfix' made the change 'Set MJD-OBS to 57675.558113 from DATE-OBS'. [astropy.wcs.wcs]\n",
      "WARNING: The following header keyword is invalid or follows an unrecognized non-standard convention:\n",
      "DELMAG   =   0.0000            /Veriable - Comparison,   Delmag                  [astropy.io.fits.card]\n",
      "WARNING: FITSFixedWarning: 'datfix' made the change 'Set MJD-OBS to 57675.529363 from DATE-OBS'. [astropy.wcs.wcs]\n"
     ]
    },
    {
     "name": "stdout",
     "output_type": "stream",
     "text": [
      "HISTORY  [yfu.flatcor] Flat pixels with `value < flat_mask = 0` are replaced by `flat_fill = 1`.\n",
      "HISTORY  .................................................2024-09-14T04:39:48.332\n",
      "HISTORY  [yfu.flatcor] Flat corrected (FLATFRM = /mnt/Rdata/OBS_data/2016-Variable/-_-_-_2016-_-_RiLA600_STX-16803_-_2bin/CM-CYG_LIGHT_-_2016-10-14_-_RiLA600_STX-16803_-_2bin/master_files_ys/nightskyflat-V.fits)\n",
      "HISTORY  ..................................(dt = 0.019 s) 2024-09-14T04:39:48.344\n",
      "Writing FITS to /mnt/Rdata/OBS_data/2016-Variable/-_-_-_2016-_-_RiLA600_STX-16803_-_2bin/CM-CYG_LIGHT_-_2016-10-14_-_RiLA600_STX-16803_-_2bin/reduced_nightsky/CM-CYG_LIGHT_V_2016-10-14-13-23-41_80sec_RiLA600_STX-16803_-19c_2bin.fit... Saved.\n"
     ]
    },
    {
     "name": "stderr",
     "output_type": "stream",
     "text": [
      "WARNING: The following header keyword is invalid or follows an unrecognized non-standard convention:\n",
      "DELMAG   =  -0.6311            /Veriable - Comparison,   Delmag                  [astropy.io.fits.card]\n",
      "WARNING: FITSFixedWarning: 'datfix' made the change 'Set MJD-OBS to 57675.559190 from DATE-OBS'. [astropy.wcs.wcs]\n",
      "WARNING: The following header keyword is invalid or follows an unrecognized non-standard convention:\n",
      "DELMAG   =   0.0000            /Veriable - Comparison,   Delmag                  [astropy.io.fits.card]\n",
      "WARNING: FITSFixedWarning: 'datfix' made the change 'Set MJD-OBS to 57675.529363 from DATE-OBS'. [astropy.wcs.wcs]\n"
     ]
    },
    {
     "name": "stdout",
     "output_type": "stream",
     "text": [
      "HISTORY  [yfu.flatcor] Flat pixels with `value < flat_mask = 0` are replaced by `flat_fill = 1`.\n",
      "HISTORY  .................................................2024-09-14T04:39:48.686\n",
      "HISTORY  [yfu.flatcor] Flat corrected (FLATFRM = /mnt/Rdata/OBS_data/2016-Variable/-_-_-_2016-_-_RiLA600_STX-16803_-_2bin/CM-CYG_LIGHT_-_2016-10-14_-_RiLA600_STX-16803_-_2bin/master_files_ys/nightskyflat-V.fits)\n",
      "HISTORY  ..................................(dt = 0.020 s) 2024-09-14T04:39:48.699\n",
      "Writing FITS to /mnt/Rdata/OBS_data/2016-Variable/-_-_-_2016-_-_RiLA600_STX-16803_-_2bin/CM-CYG_LIGHT_-_2016-10-14_-_RiLA600_STX-16803_-_2bin/reduced_nightsky/CM-CYG_LIGHT_V_2016-10-14-13-25-14_80sec_RiLA600_STX-16803_-20c_2bin.fit... Saved.\n"
     ]
    },
    {
     "name": "stderr",
     "output_type": "stream",
     "text": [
      "WARNING: The following header keyword is invalid or follows an unrecognized non-standard convention:\n",
      "DELMAG   =  -0.6304            /Veriable - Comparison,   Delmag                  [astropy.io.fits.card]\n",
      "WARNING: FITSFixedWarning: 'datfix' made the change 'Set MJD-OBS to 57675.560278 from DATE-OBS'. [astropy.wcs.wcs]\n",
      "WARNING: The following header keyword is invalid or follows an unrecognized non-standard convention:\n",
      "DELMAG   =   0.0000            /Veriable - Comparison,   Delmag                  [astropy.io.fits.card]\n",
      "WARNING: FITSFixedWarning: 'datfix' made the change 'Set MJD-OBS to 57675.529363 from DATE-OBS'. [astropy.wcs.wcs]\n"
     ]
    },
    {
     "name": "stdout",
     "output_type": "stream",
     "text": [
      "HISTORY  [yfu.flatcor] Flat pixels with `value < flat_mask = 0` are replaced by `flat_fill = 1`.\n",
      "HISTORY  .................................................2024-09-14T04:39:49.233\n",
      "HISTORY  [yfu.flatcor] Flat corrected (FLATFRM = /mnt/Rdata/OBS_data/2016-Variable/-_-_-_2016-_-_RiLA600_STX-16803_-_2bin/CM-CYG_LIGHT_-_2016-10-14_-_RiLA600_STX-16803_-_2bin/master_files_ys/nightskyflat-V.fits)\n",
      "HISTORY  ..................................(dt = 0.020 s) 2024-09-14T04:39:49.247\n",
      "Writing FITS to /mnt/Rdata/OBS_data/2016-Variable/-_-_-_2016-_-_RiLA600_STX-16803_-_2bin/CM-CYG_LIGHT_-_2016-10-14_-_RiLA600_STX-16803_-_2bin/reduced_nightsky/CM-CYG_LIGHT_V_2016-10-14-13-26-48_80sec_RiLA600_STX-16803_-19c_2bin.fit... Saved.\n"
     ]
    },
    {
     "name": "stderr",
     "output_type": "stream",
     "text": [
      "WARNING: The following header keyword is invalid or follows an unrecognized non-standard convention:\n",
      "DELMAG   =  -0.6376            /Veriable - Comparison,   Delmag                  [astropy.io.fits.card]\n",
      "WARNING: FITSFixedWarning: 'datfix' made the change 'Set MJD-OBS to 57675.561354 from DATE-OBS'. [astropy.wcs.wcs]\n",
      "WARNING: The following header keyword is invalid or follows an unrecognized non-standard convention:\n",
      "DELMAG   =   0.0000            /Veriable - Comparison,   Delmag                  [astropy.io.fits.card]\n",
      "WARNING: FITSFixedWarning: 'datfix' made the change 'Set MJD-OBS to 57675.529363 from DATE-OBS'. [astropy.wcs.wcs]\n"
     ]
    },
    {
     "name": "stdout",
     "output_type": "stream",
     "text": [
      "HISTORY  [yfu.flatcor] Flat pixels with `value < flat_mask = 0` are replaced by `flat_fill = 1`.\n",
      "HISTORY  .................................................2024-09-14T04:39:49.591\n",
      "HISTORY  [yfu.flatcor] Flat corrected (FLATFRM = /mnt/Rdata/OBS_data/2016-Variable/-_-_-_2016-_-_RiLA600_STX-16803_-_2bin/CM-CYG_LIGHT_-_2016-10-14_-_RiLA600_STX-16803_-_2bin/master_files_ys/nightskyflat-V.fits)\n",
      "HISTORY  ..................................(dt = 0.019 s) 2024-09-14T04:39:49.603\n",
      "Writing FITS to /mnt/Rdata/OBS_data/2016-Variable/-_-_-_2016-_-_RiLA600_STX-16803_-_2bin/CM-CYG_LIGHT_-_2016-10-14_-_RiLA600_STX-16803_-_2bin/reduced_nightsky/CM-CYG_LIGHT_V_2016-10-14-13-28-21_80sec_RiLA600_STX-16803_-20c_2bin.fit... Saved.\n"
     ]
    },
    {
     "name": "stderr",
     "output_type": "stream",
     "text": [
      "WARNING: The following header keyword is invalid or follows an unrecognized non-standard convention:\n",
      "DELMAG   =  -0.6245            /Veriable - Comparison,   Delmag                  [astropy.io.fits.card]\n",
      "WARNING: FITSFixedWarning: 'datfix' made the change 'Set MJD-OBS to 57675.562431 from DATE-OBS'. [astropy.wcs.wcs]\n",
      "WARNING: The following header keyword is invalid or follows an unrecognized non-standard convention:\n",
      "DELMAG   =   0.0000            /Veriable - Comparison,   Delmag                  [astropy.io.fits.card]\n",
      "WARNING: FITSFixedWarning: 'datfix' made the change 'Set MJD-OBS to 57675.529363 from DATE-OBS'. [astropy.wcs.wcs]\n"
     ]
    },
    {
     "name": "stdout",
     "output_type": "stream",
     "text": [
      "HISTORY  [yfu.flatcor] Flat pixels with `value < flat_mask = 0` are replaced by `flat_fill = 1`.\n",
      "HISTORY  .................................................2024-09-14T04:39:49.927\n",
      "HISTORY  [yfu.flatcor] Flat corrected (FLATFRM = /mnt/Rdata/OBS_data/2016-Variable/-_-_-_2016-_-_RiLA600_STX-16803_-_2bin/CM-CYG_LIGHT_-_2016-10-14_-_RiLA600_STX-16803_-_2bin/master_files_ys/nightskyflat-V.fits)\n",
      "HISTORY  ..................................(dt = 0.020 s) 2024-09-14T04:39:49.941\n",
      "Writing FITS to /mnt/Rdata/OBS_data/2016-Variable/-_-_-_2016-_-_RiLA600_STX-16803_-_2bin/CM-CYG_LIGHT_-_2016-10-14_-_RiLA600_STX-16803_-_2bin/reduced_nightsky/CM-CYG_LIGHT_V_2016-10-14-13-29-54_80sec_RiLA600_STX-16803_-19c_2bin.fit... Saved.\n"
     ]
    },
    {
     "name": "stderr",
     "output_type": "stream",
     "text": [
      "WARNING: The following header keyword is invalid or follows an unrecognized non-standard convention:\n",
      "DELMAG   =  -0.6300            /Veriable - Comparison,   Delmag                  [astropy.io.fits.card]\n",
      "WARNING: FITSFixedWarning: 'datfix' made the change 'Set MJD-OBS to 57675.563519 from DATE-OBS'. [astropy.wcs.wcs]\n",
      "WARNING: The following header keyword is invalid or follows an unrecognized non-standard convention:\n",
      "DELMAG   =   0.0000            /Veriable - Comparison,   Delmag                  [astropy.io.fits.card]\n",
      "WARNING: FITSFixedWarning: 'datfix' made the change 'Set MJD-OBS to 57675.529363 from DATE-OBS'. [astropy.wcs.wcs]\n"
     ]
    },
    {
     "name": "stdout",
     "output_type": "stream",
     "text": [
      "HISTORY  [yfu.flatcor] Flat pixels with `value < flat_mask = 0` are replaced by `flat_fill = 1`.\n",
      "HISTORY  .................................................2024-09-14T04:39:50.263\n",
      "HISTORY  [yfu.flatcor] Flat corrected (FLATFRM = /mnt/Rdata/OBS_data/2016-Variable/-_-_-_2016-_-_RiLA600_STX-16803_-_2bin/CM-CYG_LIGHT_-_2016-10-14_-_RiLA600_STX-16803_-_2bin/master_files_ys/nightskyflat-V.fits)\n",
      "HISTORY  ..................................(dt = 0.019 s) 2024-09-14T04:39:50.276\n",
      "Writing FITS to /mnt/Rdata/OBS_data/2016-Variable/-_-_-_2016-_-_RiLA600_STX-16803_-_2bin/CM-CYG_LIGHT_-_2016-10-14_-_RiLA600_STX-16803_-_2bin/reduced_nightsky/CM-CYG_LIGHT_V_2016-10-14-13-31-28_80sec_RiLA600_STX-16803_-19c_2bin.fit... Saved.\n"
     ]
    },
    {
     "name": "stderr",
     "output_type": "stream",
     "text": [
      "WARNING: The following header keyword is invalid or follows an unrecognized non-standard convention:\n",
      "DELMAG   =  -0.6456            /Veriable - Comparison,   Delmag                  [astropy.io.fits.card]\n",
      "WARNING: FITSFixedWarning: 'datfix' made the change 'Set MJD-OBS to 57675.564595 from DATE-OBS'. [astropy.wcs.wcs]\n",
      "WARNING: The following header keyword is invalid or follows an unrecognized non-standard convention:\n",
      "DELMAG   =   0.0000            /Veriable - Comparison,   Delmag                  [astropy.io.fits.card]\n",
      "WARNING: FITSFixedWarning: 'datfix' made the change 'Set MJD-OBS to 57675.529363 from DATE-OBS'. [astropy.wcs.wcs]\n"
     ]
    },
    {
     "name": "stdout",
     "output_type": "stream",
     "text": [
      "HISTORY  [yfu.flatcor] Flat pixels with `value < flat_mask = 0` are replaced by `flat_fill = 1`.\n",
      "HISTORY  .................................................2024-09-14T04:39:50.598\n",
      "HISTORY  [yfu.flatcor] Flat corrected (FLATFRM = /mnt/Rdata/OBS_data/2016-Variable/-_-_-_2016-_-_RiLA600_STX-16803_-_2bin/CM-CYG_LIGHT_-_2016-10-14_-_RiLA600_STX-16803_-_2bin/master_files_ys/nightskyflat-V.fits)\n",
      "HISTORY  ..................................(dt = 0.020 s) 2024-09-14T04:39:50.611\n",
      "Writing FITS to /mnt/Rdata/OBS_data/2016-Variable/-_-_-_2016-_-_RiLA600_STX-16803_-_2bin/CM-CYG_LIGHT_-_2016-10-14_-_RiLA600_STX-16803_-_2bin/reduced_nightsky/CM-CYG_LIGHT_V_2016-10-14-13-33-01_80sec_RiLA600_STX-16803_-19c_2bin.fit... Saved.\n"
     ]
    },
    {
     "name": "stderr",
     "output_type": "stream",
     "text": [
      "WARNING: The following header keyword is invalid or follows an unrecognized non-standard convention:\n",
      "DELMAG   =  -0.6232            /Veriable - Comparison,   Delmag                  [astropy.io.fits.card]\n",
      "WARNING: FITSFixedWarning: 'datfix' made the change 'Set MJD-OBS to 57675.565671 from DATE-OBS'. [astropy.wcs.wcs]\n",
      "WARNING: The following header keyword is invalid or follows an unrecognized non-standard convention:\n",
      "DELMAG   =   0.0000            /Veriable - Comparison,   Delmag                  [astropy.io.fits.card]\n",
      "WARNING: FITSFixedWarning: 'datfix' made the change 'Set MJD-OBS to 57675.529363 from DATE-OBS'. [astropy.wcs.wcs]\n"
     ]
    },
    {
     "name": "stdout",
     "output_type": "stream",
     "text": [
      "HISTORY  [yfu.flatcor] Flat pixels with `value < flat_mask = 0` are replaced by `flat_fill = 1`.\n",
      "HISTORY  .................................................2024-09-14T04:39:50.975\n",
      "HISTORY  [yfu.flatcor] Flat corrected (FLATFRM = /mnt/Rdata/OBS_data/2016-Variable/-_-_-_2016-_-_RiLA600_STX-16803_-_2bin/CM-CYG_LIGHT_-_2016-10-14_-_RiLA600_STX-16803_-_2bin/master_files_ys/nightskyflat-V.fits)\n",
      "HISTORY  ..................................(dt = 0.019 s) 2024-09-14T04:39:50.988\n",
      "Writing FITS to /mnt/Rdata/OBS_data/2016-Variable/-_-_-_2016-_-_RiLA600_STX-16803_-_2bin/CM-CYG_LIGHT_-_2016-10-14_-_RiLA600_STX-16803_-_2bin/reduced_nightsky/CM-CYG_LIGHT_V_2016-10-14-13-34-34_80sec_RiLA600_STX-16803_-19c_2bin.fit... Saved.\n"
     ]
    },
    {
     "name": "stderr",
     "output_type": "stream",
     "text": [
      "WARNING: The following header keyword is invalid or follows an unrecognized non-standard convention:\n",
      "DELMAG   =  -0.6254            /Veriable - Comparison,   Delmag                  [astropy.io.fits.card]\n",
      "WARNING: FITSFixedWarning: 'datfix' made the change 'Set MJD-OBS to 57675.566817 from DATE-OBS'. [astropy.wcs.wcs]\n",
      "WARNING: The following header keyword is invalid or follows an unrecognized non-standard convention:\n",
      "DELMAG   =   0.0000            /Veriable - Comparison,   Delmag                  [astropy.io.fits.card]\n",
      "WARNING: FITSFixedWarning: 'datfix' made the change 'Set MJD-OBS to 57675.529363 from DATE-OBS'. [astropy.wcs.wcs]\n"
     ]
    },
    {
     "name": "stdout",
     "output_type": "stream",
     "text": [
      "HISTORY  [yfu.flatcor] Flat pixels with `value < flat_mask = 0` are replaced by `flat_fill = 1`.\n",
      "HISTORY  .................................................2024-09-14T04:39:51.317\n",
      "HISTORY  [yfu.flatcor] Flat corrected (FLATFRM = /mnt/Rdata/OBS_data/2016-Variable/-_-_-_2016-_-_RiLA600_STX-16803_-_2bin/CM-CYG_LIGHT_-_2016-10-14_-_RiLA600_STX-16803_-_2bin/master_files_ys/nightskyflat-V.fits)\n",
      "HISTORY  ..................................(dt = 0.019 s) 2024-09-14T04:39:51.329\n",
      "Writing FITS to /mnt/Rdata/OBS_data/2016-Variable/-_-_-_2016-_-_RiLA600_STX-16803_-_2bin/CM-CYG_LIGHT_-_2016-10-14_-_RiLA600_STX-16803_-_2bin/reduced_nightsky/CM-CYG_LIGHT_V_2016-10-14-13-36-13_80sec_RiLA600_STX-16803_-20c_2bin.fit... Saved.\n"
     ]
    },
    {
     "name": "stderr",
     "output_type": "stream",
     "text": [
      "WARNING: The following header keyword is invalid or follows an unrecognized non-standard convention:\n",
      "DELMAG   =  -0.6124            /Veriable - Comparison,   Delmag                  [astropy.io.fits.card]\n",
      "WARNING: FITSFixedWarning: 'datfix' made the change 'Set MJD-OBS to 57675.567940 from DATE-OBS'. [astropy.wcs.wcs]\n",
      "WARNING: The following header keyword is invalid or follows an unrecognized non-standard convention:\n",
      "DELMAG   =   0.0000            /Veriable - Comparison,   Delmag                  [astropy.io.fits.card]\n",
      "WARNING: FITSFixedWarning: 'datfix' made the change 'Set MJD-OBS to 57675.529363 from DATE-OBS'. [astropy.wcs.wcs]\n"
     ]
    },
    {
     "name": "stdout",
     "output_type": "stream",
     "text": [
      "HISTORY  [yfu.flatcor] Flat pixels with `value < flat_mask = 0` are replaced by `flat_fill = 1`.\n",
      "HISTORY  .................................................2024-09-14T04:39:51.643\n",
      "HISTORY  [yfu.flatcor] Flat corrected (FLATFRM = /mnt/Rdata/OBS_data/2016-Variable/-_-_-_2016-_-_RiLA600_STX-16803_-_2bin/CM-CYG_LIGHT_-_2016-10-14_-_RiLA600_STX-16803_-_2bin/master_files_ys/nightskyflat-V.fits)\n",
      "HISTORY  ..................................(dt = 0.019 s) 2024-09-14T04:39:51.657\n",
      "Writing FITS to /mnt/Rdata/OBS_data/2016-Variable/-_-_-_2016-_-_RiLA600_STX-16803_-_2bin/CM-CYG_LIGHT_-_2016-10-14_-_RiLA600_STX-16803_-_2bin/reduced_nightsky/CM-CYG_LIGHT_V_2016-10-14-13-37-50_80sec_RiLA600_STX-16803_-19c_2bin.fit... Saved.\n"
     ]
    },
    {
     "name": "stderr",
     "output_type": "stream",
     "text": [
      "WARNING: The following header keyword is invalid or follows an unrecognized non-standard convention:\n",
      "DELMAG   =  -0.6757            /Veriable - Comparison,   Delmag                  [astropy.io.fits.card]\n",
      "WARNING: FITSFixedWarning: 'datfix' made the change 'Set MJD-OBS to 57675.569120 from DATE-OBS'. [astropy.wcs.wcs]\n",
      "WARNING: The following header keyword is invalid or follows an unrecognized non-standard convention:\n",
      "DELMAG   =   0.0000            /Veriable - Comparison,   Delmag                  [astropy.io.fits.card]\n",
      "WARNING: FITSFixedWarning: 'datfix' made the change 'Set MJD-OBS to 57675.529363 from DATE-OBS'. [astropy.wcs.wcs]\n"
     ]
    },
    {
     "name": "stdout",
     "output_type": "stream",
     "text": [
      "HISTORY  [yfu.flatcor] Flat pixels with `value < flat_mask = 0` are replaced by `flat_fill = 1`.\n",
      "HISTORY  .................................................2024-09-14T04:39:52.013\n",
      "HISTORY  [yfu.flatcor] Flat corrected (FLATFRM = /mnt/Rdata/OBS_data/2016-Variable/-_-_-_2016-_-_RiLA600_STX-16803_-_2bin/CM-CYG_LIGHT_-_2016-10-14_-_RiLA600_STX-16803_-_2bin/master_files_ys/nightskyflat-V.fits)\n",
      "HISTORY  ..................................(dt = 0.018 s) 2024-09-14T04:39:52.025\n",
      "Writing FITS to /mnt/Rdata/OBS_data/2016-Variable/-_-_-_2016-_-_RiLA600_STX-16803_-_2bin/CM-CYG_LIGHT_-_2016-10-14_-_RiLA600_STX-16803_-_2bin/reduced_nightsky/CM-CYG_LIGHT_V_2016-10-14-13-39-32_80sec_RiLA600_STX-16803_-20c_2bin.fit... Saved.\n"
     ]
    },
    {
     "name": "stderr",
     "output_type": "stream",
     "text": [
      "WARNING: The following header keyword is invalid or follows an unrecognized non-standard convention:\n",
      "DELMAG   =  -0.6379            /Veriable - Comparison,   Delmag                  [astropy.io.fits.card]\n",
      "WARNING: FITSFixedWarning: 'datfix' made the change 'Set MJD-OBS to 57675.570231 from DATE-OBS'. [astropy.wcs.wcs]\n",
      "WARNING: The following header keyword is invalid or follows an unrecognized non-standard convention:\n",
      "DELMAG   =   0.0000            /Veriable - Comparison,   Delmag                  [astropy.io.fits.card]\n",
      "WARNING: FITSFixedWarning: 'datfix' made the change 'Set MJD-OBS to 57675.529363 from DATE-OBS'. [astropy.wcs.wcs]\n"
     ]
    },
    {
     "name": "stdout",
     "output_type": "stream",
     "text": [
      "HISTORY  [yfu.flatcor] Flat pixels with `value < flat_mask = 0` are replaced by `flat_fill = 1`.\n",
      "HISTORY  .................................................2024-09-14T04:39:52.401\n",
      "HISTORY  [yfu.flatcor] Flat corrected (FLATFRM = /mnt/Rdata/OBS_data/2016-Variable/-_-_-_2016-_-_RiLA600_STX-16803_-_2bin/CM-CYG_LIGHT_-_2016-10-14_-_RiLA600_STX-16803_-_2bin/master_files_ys/nightskyflat-V.fits)\n",
      "HISTORY  ..................................(dt = 0.021 s) 2024-09-14T04:39:52.415\n",
      "Writing FITS to /mnt/Rdata/OBS_data/2016-Variable/-_-_-_2016-_-_RiLA600_STX-16803_-_2bin/CM-CYG_LIGHT_-_2016-10-14_-_RiLA600_STX-16803_-_2bin/reduced_nightsky/CM-CYG_LIGHT_V_2016-10-14-13-41-08_80sec_RiLA600_STX-16803_-20c_2bin.fit... Saved.\n"
     ]
    },
    {
     "name": "stderr",
     "output_type": "stream",
     "text": [
      "WARNING: The following header keyword is invalid or follows an unrecognized non-standard convention:\n",
      "DELMAG   =  -0.6705            /Veriable - Comparison,   Delmag                  [astropy.io.fits.card]\n",
      "WARNING: FITSFixedWarning: 'datfix' made the change 'Set MJD-OBS to 57675.571319 from DATE-OBS'. [astropy.wcs.wcs]\n",
      "WARNING: The following header keyword is invalid or follows an unrecognized non-standard convention:\n",
      "DELMAG   =   0.0000            /Veriable - Comparison,   Delmag                  [astropy.io.fits.card]\n",
      "WARNING: FITSFixedWarning: 'datfix' made the change 'Set MJD-OBS to 57675.529363 from DATE-OBS'. [astropy.wcs.wcs]\n"
     ]
    },
    {
     "name": "stdout",
     "output_type": "stream",
     "text": [
      "HISTORY  [yfu.flatcor] Flat pixels with `value < flat_mask = 0` are replaced by `flat_fill = 1`.\n",
      "HISTORY  .................................................2024-09-14T04:39:52.784\n",
      "HISTORY  [yfu.flatcor] Flat corrected (FLATFRM = /mnt/Rdata/OBS_data/2016-Variable/-_-_-_2016-_-_RiLA600_STX-16803_-_2bin/CM-CYG_LIGHT_-_2016-10-14_-_RiLA600_STX-16803_-_2bin/master_files_ys/nightskyflat-V.fits)\n",
      "HISTORY  ..................................(dt = 0.021 s) 2024-09-14T04:39:52.798\n",
      "Writing FITS to /mnt/Rdata/OBS_data/2016-Variable/-_-_-_2016-_-_RiLA600_STX-16803_-_2bin/CM-CYG_LIGHT_-_2016-10-14_-_RiLA600_STX-16803_-_2bin/reduced_nightsky/CM-CYG_LIGHT_V_2016-10-14-13-42-42_80sec_RiLA600_STX-16803_-20c_2bin.fit... Saved.\n"
     ]
    },
    {
     "name": "stderr",
     "output_type": "stream",
     "text": [
      "WARNING: The following header keyword is invalid or follows an unrecognized non-standard convention:\n",
      "DELMAG   =  -0.6617            /Veriable - Comparison,   Delmag                  [astropy.io.fits.card]\n",
      "WARNING: FITSFixedWarning: 'datfix' made the change 'Set MJD-OBS to 57675.572396 from DATE-OBS'. [astropy.wcs.wcs]\n",
      "WARNING: The following header keyword is invalid or follows an unrecognized non-standard convention:\n",
      "DELMAG   =   0.0000            /Veriable - Comparison,   Delmag                  [astropy.io.fits.card]\n",
      "WARNING: FITSFixedWarning: 'datfix' made the change 'Set MJD-OBS to 57675.529363 from DATE-OBS'. [astropy.wcs.wcs]\n"
     ]
    },
    {
     "name": "stdout",
     "output_type": "stream",
     "text": [
      "HISTORY  [yfu.flatcor] Flat pixels with `value < flat_mask = 0` are replaced by `flat_fill = 1`.\n",
      "HISTORY  .................................................2024-09-14T04:39:53.149\n",
      "HISTORY  [yfu.flatcor] Flat corrected (FLATFRM = /mnt/Rdata/OBS_data/2016-Variable/-_-_-_2016-_-_RiLA600_STX-16803_-_2bin/CM-CYG_LIGHT_-_2016-10-14_-_RiLA600_STX-16803_-_2bin/master_files_ys/nightskyflat-V.fits)\n",
      "HISTORY  ..................................(dt = 0.018 s) 2024-09-14T04:39:53.161\n",
      "Writing FITS to /mnt/Rdata/OBS_data/2016-Variable/-_-_-_2016-_-_RiLA600_STX-16803_-_2bin/CM-CYG_LIGHT_-_2016-10-14_-_RiLA600_STX-16803_-_2bin/reduced_nightsky/CM-CYG_LIGHT_V_2016-10-14-13-44-15_80sec_RiLA600_STX-16803_-20c_2bin.fit... Saved.\n"
     ]
    },
    {
     "name": "stderr",
     "output_type": "stream",
     "text": [
      "WARNING: The following header keyword is invalid or follows an unrecognized non-standard convention:\n",
      "DELMAG   =  -0.6712            /Veriable - Comparison,   Delmag                  [astropy.io.fits.card]\n",
      "WARNING: FITSFixedWarning: 'datfix' made the change 'Set MJD-OBS to 57675.573472 from DATE-OBS'. [astropy.wcs.wcs]\n",
      "WARNING: The following header keyword is invalid or follows an unrecognized non-standard convention:\n",
      "DELMAG   =   0.0000            /Veriable - Comparison,   Delmag                  [astropy.io.fits.card]\n",
      "WARNING: FITSFixedWarning: 'datfix' made the change 'Set MJD-OBS to 57675.529363 from DATE-OBS'. [astropy.wcs.wcs]\n"
     ]
    },
    {
     "name": "stdout",
     "output_type": "stream",
     "text": [
      "HISTORY  [yfu.flatcor] Flat pixels with `value < flat_mask = 0` are replaced by `flat_fill = 1`.\n",
      "HISTORY  .................................................2024-09-14T04:39:53.514\n",
      "HISTORY  [yfu.flatcor] Flat corrected (FLATFRM = /mnt/Rdata/OBS_data/2016-Variable/-_-_-_2016-_-_RiLA600_STX-16803_-_2bin/CM-CYG_LIGHT_-_2016-10-14_-_RiLA600_STX-16803_-_2bin/master_files_ys/nightskyflat-V.fits)\n",
      "HISTORY  ..................................(dt = 0.021 s) 2024-09-14T04:39:53.528\n",
      "Writing FITS to /mnt/Rdata/OBS_data/2016-Variable/-_-_-_2016-_-_RiLA600_STX-16803_-_2bin/CM-CYG_LIGHT_-_2016-10-14_-_RiLA600_STX-16803_-_2bin/reduced_nightsky/CM-CYG_LIGHT_V_2016-10-14-13-45-48_80sec_RiLA600_STX-16803_-19c_2bin.fit... Saved.\n"
     ]
    },
    {
     "name": "stderr",
     "output_type": "stream",
     "text": [
      "WARNING: The following header keyword is invalid or follows an unrecognized non-standard convention:\n",
      "DELMAG   =  -0.6705            /Veriable - Comparison,   Delmag                  [astropy.io.fits.card]\n",
      "WARNING: FITSFixedWarning: 'datfix' made the change 'Set MJD-OBS to 57675.574560 from DATE-OBS'. [astropy.wcs.wcs]\n",
      "WARNING: The following header keyword is invalid or follows an unrecognized non-standard convention:\n",
      "DELMAG   =   0.0000            /Veriable - Comparison,   Delmag                  [astropy.io.fits.card]\n",
      "WARNING: FITSFixedWarning: 'datfix' made the change 'Set MJD-OBS to 57675.529363 from DATE-OBS'. [astropy.wcs.wcs]\n"
     ]
    },
    {
     "name": "stdout",
     "output_type": "stream",
     "text": [
      "HISTORY  [yfu.flatcor] Flat pixels with `value < flat_mask = 0` are replaced by `flat_fill = 1`.\n",
      "HISTORY  .................................................2024-09-14T04:39:53.862\n",
      "HISTORY  [yfu.flatcor] Flat corrected (FLATFRM = /mnt/Rdata/OBS_data/2016-Variable/-_-_-_2016-_-_RiLA600_STX-16803_-_2bin/CM-CYG_LIGHT_-_2016-10-14_-_RiLA600_STX-16803_-_2bin/master_files_ys/nightskyflat-V.fits)\n",
      "HISTORY  ..................................(dt = 0.018 s) 2024-09-14T04:39:53.874\n",
      "Writing FITS to /mnt/Rdata/OBS_data/2016-Variable/-_-_-_2016-_-_RiLA600_STX-16803_-_2bin/CM-CYG_LIGHT_-_2016-10-14_-_RiLA600_STX-16803_-_2bin/reduced_nightsky/CM-CYG_LIGHT_V_2016-10-14-13-47-22_80sec_RiLA600_STX-16803_-19c_2bin.fit... Saved.\n"
     ]
    },
    {
     "name": "stderr",
     "output_type": "stream",
     "text": [
      "WARNING: The following header keyword is invalid or follows an unrecognized non-standard convention:\n",
      "DELMAG   =  -0.6599            /Veriable - Comparison,   Delmag                  [astropy.io.fits.card]\n",
      "WARNING: FITSFixedWarning: 'datfix' made the change 'Set MJD-OBS to 57675.575637 from DATE-OBS'. [astropy.wcs.wcs]\n",
      "WARNING: The following header keyword is invalid or follows an unrecognized non-standard convention:\n",
      "DELMAG   =   0.0000            /Veriable - Comparison,   Delmag                  [astropy.io.fits.card]\n",
      "WARNING: FITSFixedWarning: 'datfix' made the change 'Set MJD-OBS to 57675.529363 from DATE-OBS'. [astropy.wcs.wcs]\n"
     ]
    },
    {
     "name": "stdout",
     "output_type": "stream",
     "text": [
      "HISTORY  [yfu.flatcor] Flat pixels with `value < flat_mask = 0` are replaced by `flat_fill = 1`.\n",
      "HISTORY  .................................................2024-09-14T04:39:54.374\n",
      "HISTORY  [yfu.flatcor] Flat corrected (FLATFRM = /mnt/Rdata/OBS_data/2016-Variable/-_-_-_2016-_-_RiLA600_STX-16803_-_2bin/CM-CYG_LIGHT_-_2016-10-14_-_RiLA600_STX-16803_-_2bin/master_files_ys/nightskyflat-V.fits)\n",
      "HISTORY  ..................................(dt = 0.020 s) 2024-09-14T04:39:54.388\n",
      "Writing FITS to /mnt/Rdata/OBS_data/2016-Variable/-_-_-_2016-_-_RiLA600_STX-16803_-_2bin/CM-CYG_LIGHT_-_2016-10-14_-_RiLA600_STX-16803_-_2bin/reduced_nightsky/CM-CYG_LIGHT_V_2016-10-14-13-48-55_80sec_RiLA600_STX-16803_-19c_2bin.fit... Saved.\n"
     ]
    },
    {
     "name": "stderr",
     "output_type": "stream",
     "text": [
      "WARNING: The following header keyword is invalid or follows an unrecognized non-standard convention:\n",
      "DELMAG   =  -0.6783            /Veriable - Comparison,   Delmag                  [astropy.io.fits.card]\n",
      "WARNING: FITSFixedWarning: 'datfix' made the change 'Set MJD-OBS to 57675.576725 from DATE-OBS'. [astropy.wcs.wcs]\n",
      "WARNING: The following header keyword is invalid or follows an unrecognized non-standard convention:\n",
      "DELMAG   =   0.0000            /Veriable - Comparison,   Delmag                  [astropy.io.fits.card]\n",
      "WARNING: FITSFixedWarning: 'datfix' made the change 'Set MJD-OBS to 57675.529363 from DATE-OBS'. [astropy.wcs.wcs]\n"
     ]
    },
    {
     "name": "stdout",
     "output_type": "stream",
     "text": [
      "HISTORY  [yfu.flatcor] Flat pixels with `value < flat_mask = 0` are replaced by `flat_fill = 1`.\n",
      "HISTORY  .................................................2024-09-14T04:39:54.734\n",
      "HISTORY  [yfu.flatcor] Flat corrected (FLATFRM = /mnt/Rdata/OBS_data/2016-Variable/-_-_-_2016-_-_RiLA600_STX-16803_-_2bin/CM-CYG_LIGHT_-_2016-10-14_-_RiLA600_STX-16803_-_2bin/master_files_ys/nightskyflat-V.fits)\n",
      "HISTORY  ..................................(dt = 0.020 s) 2024-09-14T04:39:54.748\n",
      "Writing FITS to /mnt/Rdata/OBS_data/2016-Variable/-_-_-_2016-_-_RiLA600_STX-16803_-_2bin/CM-CYG_LIGHT_-_2016-10-14_-_RiLA600_STX-16803_-_2bin/reduced_nightsky/CM-CYG_LIGHT_V_2016-10-14-13-50-29_80sec_RiLA600_STX-16803_-20c_2bin.fit... Saved.\n"
     ]
    },
    {
     "name": "stderr",
     "output_type": "stream",
     "text": [
      "WARNING: The following header keyword is invalid or follows an unrecognized non-standard convention:\n",
      "DELMAG   =  -0.6508            /Veriable - Comparison,   Delmag                  [astropy.io.fits.card]\n",
      "WARNING: FITSFixedWarning: 'datfix' made the change 'Set MJD-OBS to 57675.577801 from DATE-OBS'. [astropy.wcs.wcs]\n",
      "WARNING: The following header keyword is invalid or follows an unrecognized non-standard convention:\n",
      "DELMAG   =   0.0000            /Veriable - Comparison,   Delmag                  [astropy.io.fits.card]\n",
      "WARNING: FITSFixedWarning: 'datfix' made the change 'Set MJD-OBS to 57675.529363 from DATE-OBS'. [astropy.wcs.wcs]\n"
     ]
    },
    {
     "name": "stdout",
     "output_type": "stream",
     "text": [
      "HISTORY  [yfu.flatcor] Flat pixels with `value < flat_mask = 0` are replaced by `flat_fill = 1`.\n",
      "HISTORY  .................................................2024-09-14T04:39:55.087\n",
      "HISTORY  [yfu.flatcor] Flat corrected (FLATFRM = /mnt/Rdata/OBS_data/2016-Variable/-_-_-_2016-_-_RiLA600_STX-16803_-_2bin/CM-CYG_LIGHT_-_2016-10-14_-_RiLA600_STX-16803_-_2bin/master_files_ys/nightskyflat-V.fits)\n",
      "HISTORY  ..................................(dt = 0.018 s) 2024-09-14T04:39:55.100\n",
      "Writing FITS to /mnt/Rdata/OBS_data/2016-Variable/-_-_-_2016-_-_RiLA600_STX-16803_-_2bin/CM-CYG_LIGHT_-_2016-10-14_-_RiLA600_STX-16803_-_2bin/reduced_nightsky/CM-CYG_LIGHT_V_2016-10-14-13-52-02_80sec_RiLA600_STX-16803_-19c_2bin.fit... Saved.\n"
     ]
    },
    {
     "name": "stderr",
     "output_type": "stream",
     "text": [
      "WARNING: The following header keyword is invalid or follows an unrecognized non-standard convention:\n",
      "DELMAG   =  -0.6856            /Veriable - Comparison,   Delmag                  [astropy.io.fits.card]\n",
      "WARNING: FITSFixedWarning: 'datfix' made the change 'Set MJD-OBS to 57675.578889 from DATE-OBS'. [astropy.wcs.wcs]\n",
      "WARNING: The following header keyword is invalid or follows an unrecognized non-standard convention:\n",
      "DELMAG   =   0.0000            /Veriable - Comparison,   Delmag                  [astropy.io.fits.card]\n",
      "WARNING: FITSFixedWarning: 'datfix' made the change 'Set MJD-OBS to 57675.529363 from DATE-OBS'. [astropy.wcs.wcs]\n"
     ]
    },
    {
     "name": "stdout",
     "output_type": "stream",
     "text": [
      "HISTORY  [yfu.flatcor] Flat pixels with `value < flat_mask = 0` are replaced by `flat_fill = 1`.\n",
      "HISTORY  .................................................2024-09-14T04:39:55.459\n",
      "HISTORY  [yfu.flatcor] Flat corrected (FLATFRM = /mnt/Rdata/OBS_data/2016-Variable/-_-_-_2016-_-_RiLA600_STX-16803_-_2bin/CM-CYG_LIGHT_-_2016-10-14_-_RiLA600_STX-16803_-_2bin/master_files_ys/nightskyflat-V.fits)\n",
      "HISTORY  ..................................(dt = 0.018 s) 2024-09-14T04:39:55.471\n",
      "Writing FITS to /mnt/Rdata/OBS_data/2016-Variable/-_-_-_2016-_-_RiLA600_STX-16803_-_2bin/CM-CYG_LIGHT_-_2016-10-14_-_RiLA600_STX-16803_-_2bin/reduced_nightsky/CM-CYG_LIGHT_V_2016-10-14-13-53-36_80sec_RiLA600_STX-16803_-19c_2bin.fit... Saved.\n"
     ]
    },
    {
     "name": "stderr",
     "output_type": "stream",
     "text": [
      "WARNING: The following header keyword is invalid or follows an unrecognized non-standard convention:\n",
      "DELMAG   =  -0.6653            /Veriable - Comparison,   Delmag                  [astropy.io.fits.card]\n",
      "WARNING: FITSFixedWarning: 'datfix' made the change 'Set MJD-OBS to 57675.579965 from DATE-OBS'. [astropy.wcs.wcs]\n",
      "WARNING: The following header keyword is invalid or follows an unrecognized non-standard convention:\n",
      "DELMAG   =   0.0000            /Veriable - Comparison,   Delmag                  [astropy.io.fits.card]\n",
      "WARNING: FITSFixedWarning: 'datfix' made the change 'Set MJD-OBS to 57675.529363 from DATE-OBS'. [astropy.wcs.wcs]\n"
     ]
    },
    {
     "name": "stdout",
     "output_type": "stream",
     "text": [
      "HISTORY  [yfu.flatcor] Flat pixels with `value < flat_mask = 0` are replaced by `flat_fill = 1`.\n",
      "HISTORY  .................................................2024-09-14T04:39:55.807\n",
      "HISTORY  [yfu.flatcor] Flat corrected (FLATFRM = /mnt/Rdata/OBS_data/2016-Variable/-_-_-_2016-_-_RiLA600_STX-16803_-_2bin/CM-CYG_LIGHT_-_2016-10-14_-_RiLA600_STX-16803_-_2bin/master_files_ys/nightskyflat-V.fits)\n",
      "HISTORY  ..................................(dt = 0.020 s) 2024-09-14T04:39:55.820\n",
      "Writing FITS to /mnt/Rdata/OBS_data/2016-Variable/-_-_-_2016-_-_RiLA600_STX-16803_-_2bin/CM-CYG_LIGHT_-_2016-10-14_-_RiLA600_STX-16803_-_2bin/reduced_nightsky/CM-CYG_LIGHT_V_2016-10-14-13-55-09_80sec_RiLA600_STX-16803_-20c_2bin.fit... Saved.\n"
     ]
    },
    {
     "name": "stderr",
     "output_type": "stream",
     "text": [
      "WARNING: The following header keyword is invalid or follows an unrecognized non-standard convention:\n",
      "DELMAG   =  -0.6548            /Veriable - Comparison,   Delmag                  [astropy.io.fits.card]\n",
      "WARNING: FITSFixedWarning: 'datfix' made the change 'Set MJD-OBS to 57675.581042 from DATE-OBS'. [astropy.wcs.wcs]\n",
      "WARNING: The following header keyword is invalid or follows an unrecognized non-standard convention:\n",
      "DELMAG   =   0.0000            /Veriable - Comparison,   Delmag                  [astropy.io.fits.card]\n",
      "WARNING: FITSFixedWarning: 'datfix' made the change 'Set MJD-OBS to 57675.529363 from DATE-OBS'. [astropy.wcs.wcs]\n"
     ]
    },
    {
     "name": "stdout",
     "output_type": "stream",
     "text": [
      "HISTORY  [yfu.flatcor] Flat pixels with `value < flat_mask = 0` are replaced by `flat_fill = 1`.\n",
      "HISTORY  .................................................2024-09-14T04:39:56.178\n",
      "HISTORY  [yfu.flatcor] Flat corrected (FLATFRM = /mnt/Rdata/OBS_data/2016-Variable/-_-_-_2016-_-_RiLA600_STX-16803_-_2bin/CM-CYG_LIGHT_-_2016-10-14_-_RiLA600_STX-16803_-_2bin/master_files_ys/nightskyflat-V.fits)\n",
      "HISTORY  ..................................(dt = 0.020 s) 2024-09-14T04:39:56.191\n",
      "Writing FITS to /mnt/Rdata/OBS_data/2016-Variable/-_-_-_2016-_-_RiLA600_STX-16803_-_2bin/CM-CYG_LIGHT_-_2016-10-14_-_RiLA600_STX-16803_-_2bin/reduced_nightsky/CM-CYG_LIGHT_V_2016-10-14-13-56-42_80sec_RiLA600_STX-16803_-19c_2bin.fit... Saved.\n"
     ]
    },
    {
     "name": "stderr",
     "output_type": "stream",
     "text": [
      "WARNING: The following header keyword is invalid or follows an unrecognized non-standard convention:\n",
      "DELMAG   =  -0.6460            /Veriable - Comparison,   Delmag                  [astropy.io.fits.card]\n",
      "WARNING: FITSFixedWarning: 'datfix' made the change 'Set MJD-OBS to 57675.582130 from DATE-OBS'. [astropy.wcs.wcs]\n",
      "WARNING: The following header keyword is invalid or follows an unrecognized non-standard convention:\n",
      "DELMAG   =   0.0000            /Veriable - Comparison,   Delmag                  [astropy.io.fits.card]\n",
      "WARNING: FITSFixedWarning: 'datfix' made the change 'Set MJD-OBS to 57675.529363 from DATE-OBS'. [astropy.wcs.wcs]\n"
     ]
    },
    {
     "name": "stdout",
     "output_type": "stream",
     "text": [
      "HISTORY  [yfu.flatcor] Flat pixels with `value < flat_mask = 0` are replaced by `flat_fill = 1`.\n",
      "HISTORY  .................................................2024-09-14T04:39:56.553\n",
      "HISTORY  [yfu.flatcor] Flat corrected (FLATFRM = /mnt/Rdata/OBS_data/2016-Variable/-_-_-_2016-_-_RiLA600_STX-16803_-_2bin/CM-CYG_LIGHT_-_2016-10-14_-_RiLA600_STX-16803_-_2bin/master_files_ys/nightskyflat-V.fits)\n",
      "HISTORY  ..................................(dt = 0.021 s) 2024-09-14T04:39:56.567\n",
      "Writing FITS to /mnt/Rdata/OBS_data/2016-Variable/-_-_-_2016-_-_RiLA600_STX-16803_-_2bin/CM-CYG_LIGHT_-_2016-10-14_-_RiLA600_STX-16803_-_2bin/reduced_nightsky/CM-CYG_LIGHT_V_2016-10-14-13-58-16_80sec_RiLA600_STX-16803_-19c_2bin.fit... Saved.\n"
     ]
    },
    {
     "name": "stderr",
     "output_type": "stream",
     "text": [
      "WARNING: The following header keyword is invalid or follows an unrecognized non-standard convention:\n",
      "DELMAG   =  -0.6477            /Veriable - Comparison,   Delmag                  [astropy.io.fits.card]\n",
      "WARNING: FITSFixedWarning: 'datfix' made the change 'Set MJD-OBS to 57675.583206 from DATE-OBS'. [astropy.wcs.wcs]\n",
      "WARNING: The following header keyword is invalid or follows an unrecognized non-standard convention:\n",
      "DELMAG   =   0.0000            /Veriable - Comparison,   Delmag                  [astropy.io.fits.card]\n",
      "WARNING: FITSFixedWarning: 'datfix' made the change 'Set MJD-OBS to 57675.529363 from DATE-OBS'. [astropy.wcs.wcs]\n"
     ]
    },
    {
     "name": "stdout",
     "output_type": "stream",
     "text": [
      "HISTORY  [yfu.flatcor] Flat pixels with `value < flat_mask = 0` are replaced by `flat_fill = 1`.\n",
      "HISTORY  .................................................2024-09-14T04:39:56.894\n",
      "HISTORY  [yfu.flatcor] Flat corrected (FLATFRM = /mnt/Rdata/OBS_data/2016-Variable/-_-_-_2016-_-_RiLA600_STX-16803_-_2bin/CM-CYG_LIGHT_-_2016-10-14_-_RiLA600_STX-16803_-_2bin/master_files_ys/nightskyflat-V.fits)\n",
      "HISTORY  ..................................(dt = 0.018 s) 2024-09-14T04:39:56.906\n",
      "Writing FITS to /mnt/Rdata/OBS_data/2016-Variable/-_-_-_2016-_-_RiLA600_STX-16803_-_2bin/CM-CYG_LIGHT_-_2016-10-14_-_RiLA600_STX-16803_-_2bin/reduced_nightsky/CM-CYG_LIGHT_V_2016-10-14-13-59-49_80sec_RiLA600_STX-16803_-19c_2bin.fit... Saved.\n"
     ]
    },
    {
     "name": "stderr",
     "output_type": "stream",
     "text": [
      "WARNING: The following header keyword is invalid or follows an unrecognized non-standard convention:\n",
      "DELMAG   =  -0.6541            /Veriable - Comparison,   Delmag                  [astropy.io.fits.card]\n",
      "WARNING: FITSFixedWarning: 'datfix' made the change 'Set MJD-OBS to 57675.584282 from DATE-OBS'. [astropy.wcs.wcs]\n",
      "WARNING: The following header keyword is invalid or follows an unrecognized non-standard convention:\n",
      "DELMAG   =   0.0000            /Veriable - Comparison,   Delmag                  [astropy.io.fits.card]\n",
      "WARNING: FITSFixedWarning: 'datfix' made the change 'Set MJD-OBS to 57675.529363 from DATE-OBS'. [astropy.wcs.wcs]\n"
     ]
    },
    {
     "name": "stdout",
     "output_type": "stream",
     "text": [
      "HISTORY  [yfu.flatcor] Flat pixels with `value < flat_mask = 0` are replaced by `flat_fill = 1`.\n",
      "HISTORY  .................................................2024-09-14T04:39:57.240\n",
      "HISTORY  [yfu.flatcor] Flat corrected (FLATFRM = /mnt/Rdata/OBS_data/2016-Variable/-_-_-_2016-_-_RiLA600_STX-16803_-_2bin/CM-CYG_LIGHT_-_2016-10-14_-_RiLA600_STX-16803_-_2bin/master_files_ys/nightskyflat-V.fits)\n",
      "HISTORY  ..................................(dt = 0.020 s) 2024-09-14T04:39:57.254\n",
      "Writing FITS to /mnt/Rdata/OBS_data/2016-Variable/-_-_-_2016-_-_RiLA600_STX-16803_-_2bin/CM-CYG_LIGHT_-_2016-10-14_-_RiLA600_STX-16803_-_2bin/reduced_nightsky/CM-CYG_LIGHT_V_2016-10-14-14-01-22_80sec_RiLA600_STX-16803_-19c_2bin.fit... Saved.\n"
     ]
    },
    {
     "name": "stderr",
     "output_type": "stream",
     "text": [
      "WARNING: The following header keyword is invalid or follows an unrecognized non-standard convention:\n",
      "DELMAG   =  -0.6375            /Veriable - Comparison,   Delmag                  [astropy.io.fits.card]\n",
      "WARNING: FITSFixedWarning: 'datfix' made the change 'Set MJD-OBS to 57675.585394 from DATE-OBS'. [astropy.wcs.wcs]\n",
      "WARNING: The following header keyword is invalid or follows an unrecognized non-standard convention:\n",
      "DELMAG   =   0.0000            /Veriable - Comparison,   Delmag                  [astropy.io.fits.card]\n",
      "WARNING: FITSFixedWarning: 'datfix' made the change 'Set MJD-OBS to 57675.529363 from DATE-OBS'. [astropy.wcs.wcs]\n"
     ]
    },
    {
     "name": "stdout",
     "output_type": "stream",
     "text": [
      "HISTORY  [yfu.flatcor] Flat pixels with `value < flat_mask = 0` are replaced by `flat_fill = 1`.\n",
      "HISTORY  .................................................2024-09-14T04:39:57.605\n",
      "HISTORY  [yfu.flatcor] Flat corrected (FLATFRM = /mnt/Rdata/OBS_data/2016-Variable/-_-_-_2016-_-_RiLA600_STX-16803_-_2bin/CM-CYG_LIGHT_-_2016-10-14_-_RiLA600_STX-16803_-_2bin/master_files_ys/nightskyflat-V.fits)\n",
      "HISTORY  ..................................(dt = 0.022 s) 2024-09-14T04:39:57.620\n",
      "Writing FITS to /mnt/Rdata/OBS_data/2016-Variable/-_-_-_2016-_-_RiLA600_STX-16803_-_2bin/CM-CYG_LIGHT_-_2016-10-14_-_RiLA600_STX-16803_-_2bin/reduced_nightsky/CM-CYG_LIGHT_V_2016-10-14-14-02-58_80sec_RiLA600_STX-16803_-19c_2bin.fit... Saved.\n"
     ]
    },
    {
     "name": "stderr",
     "output_type": "stream",
     "text": [
      "WARNING: The following header keyword is invalid or follows an unrecognized non-standard convention:\n",
      "DELMAG   =  -0.6055            /Veriable - Comparison,   Delmag                  [astropy.io.fits.card]\n",
      "WARNING: FITSFixedWarning: 'datfix' made the change 'Set MJD-OBS to 57675.586470 from DATE-OBS'. [astropy.wcs.wcs]\n",
      "WARNING: The following header keyword is invalid or follows an unrecognized non-standard convention:\n",
      "DELMAG   =   0.0000            /Veriable - Comparison,   Delmag                  [astropy.io.fits.card]\n",
      "WARNING: FITSFixedWarning: 'datfix' made the change 'Set MJD-OBS to 57675.529363 from DATE-OBS'. [astropy.wcs.wcs]\n"
     ]
    },
    {
     "name": "stdout",
     "output_type": "stream",
     "text": [
      "HISTORY  [yfu.flatcor] Flat pixels with `value < flat_mask = 0` are replaced by `flat_fill = 1`.\n",
      "HISTORY  .................................................2024-09-14T04:39:58.180\n",
      "HISTORY  [yfu.flatcor] Flat corrected (FLATFRM = /mnt/Rdata/OBS_data/2016-Variable/-_-_-_2016-_-_RiLA600_STX-16803_-_2bin/CM-CYG_LIGHT_-_2016-10-14_-_RiLA600_STX-16803_-_2bin/master_files_ys/nightskyflat-V.fits)\n",
      "HISTORY  ..................................(dt = 0.018 s) 2024-09-14T04:39:58.192\n",
      "Writing FITS to /mnt/Rdata/OBS_data/2016-Variable/-_-_-_2016-_-_RiLA600_STX-16803_-_2bin/CM-CYG_LIGHT_-_2016-10-14_-_RiLA600_STX-16803_-_2bin/reduced_nightsky/CM-CYG_LIGHT_V_2016-10-14-14-04-31_80sec_RiLA600_STX-16803_-19c_2bin.fit... Saved.\n"
     ]
    },
    {
     "name": "stderr",
     "output_type": "stream",
     "text": [
      "WARNING: The following header keyword is invalid or follows an unrecognized non-standard convention:\n",
      "DELMAG   =  -0.5942            /Veriable - Comparison,   Delmag                  [astropy.io.fits.card]\n",
      "WARNING: FITSFixedWarning: 'datfix' made the change 'Set MJD-OBS to 57675.587593 from DATE-OBS'. [astropy.wcs.wcs]\n",
      "WARNING: The following header keyword is invalid or follows an unrecognized non-standard convention:\n",
      "DELMAG   =   0.0000            /Veriable - Comparison,   Delmag                  [astropy.io.fits.card]\n",
      "WARNING: FITSFixedWarning: 'datfix' made the change 'Set MJD-OBS to 57675.529363 from DATE-OBS'. [astropy.wcs.wcs]\n"
     ]
    },
    {
     "name": "stdout",
     "output_type": "stream",
     "text": [
      "HISTORY  [yfu.flatcor] Flat pixels with `value < flat_mask = 0` are replaced by `flat_fill = 1`.\n",
      "HISTORY  .................................................2024-09-14T04:39:58.518\n",
      "HISTORY  [yfu.flatcor] Flat corrected (FLATFRM = /mnt/Rdata/OBS_data/2016-Variable/-_-_-_2016-_-_RiLA600_STX-16803_-_2bin/CM-CYG_LIGHT_-_2016-10-14_-_RiLA600_STX-16803_-_2bin/master_files_ys/nightskyflat-V.fits)\n",
      "HISTORY  ..................................(dt = 0.019 s) 2024-09-14T04:39:58.531\n",
      "Writing FITS to /mnt/Rdata/OBS_data/2016-Variable/-_-_-_2016-_-_RiLA600_STX-16803_-_2bin/CM-CYG_LIGHT_-_2016-10-14_-_RiLA600_STX-16803_-_2bin/reduced_nightsky/CM-CYG_LIGHT_V_2016-10-14-14-06-08_80sec_RiLA600_STX-16803_-20c_2bin.fit... Saved.\n"
     ]
    }
   ],
   "source": [
    "for filt in [\"B\", \"V\", \"R\", \"L\", \"R\", \"G\", \"B\"]:\n",
    "#for filt in [\"V\"]:\n",
    "    df_light_filt = df_light.loc[df_light[\"FILTER\"] == filt].copy()\n",
    "    \n",
    "    if df_light_filt.empty:\n",
    "        print(f\"The dataframe(df_light_filt) {filt} is empty\")\n",
    "        pass\n",
    "    else:\n",
    "\n",
    "        print(\"len(df_light_filt):\", len(df_light_filt))\n",
    "        print(\"df_light_filt:\", df_light_filt)\n",
    "    \n",
    "        if (sMASTERDIR / f\"nightskyflat-{filt}.fits\").exists() :\n",
    "            pass\n",
    "        else :      \n",
    "            File_Num = 80\n",
    "            if len(df_light_filt[\"file\"]) > File_Num :\n",
    "                combine_lst = df_light_filt[\"file\"].tolist()[:File_Num]\n",
    "            else : \n",
    "                combine_lst = df_light_filt[\"file\"].tolist()\n",
    "            try : \n",
    "                ccd = yfu.imcombine(\n",
    "                                    combine_lst, \n",
    "                                    combine=\"med\",\n",
    "                                    scale=\"avg\", \n",
    "                                    scale_to_0th=False, \n",
    "                                    reject=\"sc\", \n",
    "                                    sigma=2.5,\n",
    "                                    verbose=True,\n",
    "                                    memlimit = 2.e+11,\n",
    "                                    )\n",
    "                ccd.write(sMASTERDIR / f\"nightskyflat-{filt}.fits\", overwrite=True)\n",
    "                print (f\"Create Create nightskyflat-{filt}.fits +++...\")\n",
    "            except :\n",
    "                ccd = yfu.imcombine(\n",
    "                                    combine_lst, \n",
    "                                    combine=\"med\",\n",
    "                                    scale=\"avg\", \n",
    "                                    scale_to_0th=False, \n",
    "                                    reject=\"sc\", \n",
    "                                    # sigma=2.5,\n",
    "                                    verbose=True,\n",
    "                                    memlimit = 2.e+11,\n",
    "                                    )\n",
    "                ccd.write(sMASTERDIR / f\"nightskyflat-{filt}.fits\", overwrite=True)\n",
    "                print (f\"Create Create nightskyflat-{filt}.fits +++...\")\n",
    "\n",
    "for _, row in df_light.iterrows():\n",
    "    fpath = Path(row[\"file\"])\n",
    "    filt = row[\"FILTER\"]\n",
    "    if (REDUC_nightsky / fpath.name).exists() :\n",
    "        print(f\"Nightsky reduction file already exists...\\n{fpath.name}\")\n",
    "        pass\n",
    "    else :\n",
    "        try:    \n",
    "            ccd = yfu.ccdred(\n",
    "                            fpath, \n",
    "                            mflatpath=str(sMASTERDIR / f\"nightskyflat-{filt}.fits\"),\n",
    "                            output=REDUC_nightsky/fpath.name\n",
    "                        )\n",
    "        except FileNotFoundError: \n",
    "            # _Python_utilities.write_log(err_log_file, \"FileNotFoundError\") \n",
    "            pass"
   ]
  },
  {
   "cell_type": "code",
   "execution_count": null,
   "metadata": {},
   "outputs": [],
   "source": []
  }
 ],
 "metadata": {
  "kernelspec": {
   "display_name": "astro_Python_env",
   "language": "python",
   "name": "python3"
  },
  "language_info": {
   "codemirror_mode": {
    "name": "ipython",
    "version": 3
   },
   "file_extension": ".py",
   "mimetype": "text/x-python",
   "name": "python",
   "nbconvert_exporter": "python",
   "pygments_lexer": "ipython3",
   "version": "3.12.4"
  },
  "orig_nbformat": 4
 },
 "nbformat": 4,
 "nbformat_minor": 2
}
