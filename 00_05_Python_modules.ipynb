{
 "cells": [
  {
   "cell_type": "markdown",
   "metadata": {
    "id": "3g6o04iLM0AF"
   },
   "source": [
    "# Python module\n",
    "\n",
    "* 이 노트북을 구글 코랩에서 실행하고자 한다면 [파일] - [드라이브에 사본 저장]을 하여 본인의 소유로 만든 후에 코드를 실행하거나 수정할 수 있습니다.\n",
    "\n",
    "* 이 파일은 실제 수업에 사용하므로 필요에 따라 예고 없이 변경될 수 있습니다.\n",
    "\n",
    "* If you have any questions or comments on this document, please email me(Kiehyun.Park@gmail.com).\n",
    "\n",
    "* 이 파일(문서)는 공교육 현장에서 수업시간에 자유롭게 사용할 수 있으나, 다른 목적으로 사용할 시에는 사전에 연락을 주셔서 상의해 주시기 바랍니다.\n"
   ]
  },
  {
   "cell_type": "markdown",
   "metadata": {
    "id": "BLKGdlSFo9cv"
   },
   "source": [
    "Python module이 무엇이며, 어떻게 만들고 사용하는지에 대해 알아보겠습니다."
   ]
  },
  {
   "cell_type": "markdown",
   "metadata": {
    "id": "iCqbfXScIsvP"
   },
   "source": [
    "## module이란?\n",
    "\n",
    "Python 에서는 라이브러리 대신 패키지를 다운로드 받고 패키지 안에 있는 module을 이용하는데 module이란 함수나 변수 또는 클래스를 모아 놓은 파일입니다. module은 다른 Python 프로그램에서 불러와 사용할 수 있게끔 만든 Python 파일이라고도 할 수 있습니다.\n",
    "\n",
    "우리는 다른 사람들이 이미 만들어 놓은 module을 사용할 수도 있고 우리가 직접 만들어서 사용할 수도 있습니다. Python의 module은 매우 다양하고 실제 프로그래밍을 할 때 여러 module을 사용하게 되는데, 이는 Python의 큰 장점이기도 하면서 module들간의 의존성 문제가 생기는 경우에는 큰 혼란을 겪게 됩니다.\n",
    "\n",
    "Python module은 다음의 두가지로 나눌 수 있습니다.\n",
    "\n",
    "1. 표준 module은 Python 안에 포함된 module로 math, random, datetime, time 등이 있습니다.\n",
    "\n",
    "2. 3’rd party module은 외부에서 만들어서 제공하는 module로 따로 설치를 해 주어야 하며 Numpy, Pandas, matplotlib 등이 있습니다."
   ]
  },
  {
   "cell_type": "markdown",
   "metadata": {
    "id": "qKGx1BBowqsV"
   },
   "source": [
    "### 표준 module\n",
    "\n",
    "파이썬 표준 module은 파이썬을 설치할 때 자동으로 컴퓨터에 설치되는 모듈로 다음과 같은 것들이 있습니다.\n",
    "\n",
    "* datetime\n",
    "* math\n",
    "* itertools\n",
    "* operator\n",
    "* shutil\n",
    "* glob\n",
    "* pickle\n",
    "* os\n",
    "* zipfile\n",
    "* threading\n",
    "* tempfile\n",
    "* traceback\n",
    "* json\n",
    "* urllib"
   ]
  },
  {
   "cell_type": "markdown",
   "metadata": {
    "id": "5tiSnYXYxWFu"
   },
   "source": [
    "### 3’rd party module\n",
    "\n",
    "3’rd party module을 사용하기 위해서는 호환되는 버전의 module을 미리 설치되어 있어야 합니다.\n",
    "\n",
    "Python의 장점 중의 하나가 다양한 모듈이 개발되어 제공되고 있다는 점이고, 단점 중의 하나는 버전이 빠르게 바뀌고, 버전 간에 호환되지 않는 경우가 있을수 있다는 것입니다."
   ]
  },
  {
   "cell_type": "markdown",
   "metadata": {
    "id": "zP6WshEVybRy"
   },
   "source": [
    "### ModuleNotFountError\n",
    "\n",
    "미리 설치되어 있지 않은 3’rd party module을 import 하면 아래와 같은 에러가 발생하게 됩니다.\n",
    "\n",
    "이는 모듈을 올바른 경로에 설치하여야만 제대로 import되며 해결이 됩니다."
   ]
  },
  {
   "cell_type": "code",
   "execution_count": null,
   "metadata": {
    "colab": {
     "base_uri": "https://localhost:8080/",
     "height": 331
    },
    "executionInfo": {
     "elapsed": 544,
     "status": "error",
     "timestamp": 1693306518730,
     "user": {
      "displayName": "Kiehyun Park",
      "userId": "11752785994579589476"
     },
     "user_tz": -540
    },
    "id": "KMZ1-YKTykvw",
    "outputId": "bd6a81ea-ab4c-4ad7-dd36-e6b23bfd7987"
   },
   "outputs": [
    {
     "ename": "ModuleNotFoundError",
     "evalue": "ignored",
     "output_type": "error",
     "traceback": [
      "\u001b[0;31m---------------------------------------------------------------------------\u001b[0m",
      "\u001b[0;31mModuleNotFoundError\u001b[0m                       Traceback (most recent call last)",
      "\u001b[0;32m<ipython-input-1-8b83ecbd13c9>\u001b[0m in \u001b[0;36m<cell line: 1>\u001b[0;34m()\u001b[0m\n\u001b[0;32m----> 1\u001b[0;31m \u001b[0;32mimport\u001b[0m \u001b[0mbasemap\u001b[0m\u001b[0;34m\u001b[0m\u001b[0;34m\u001b[0m\u001b[0m\n\u001b[0m",
      "\u001b[0;31mModuleNotFoundError\u001b[0m: No module named 'basemap'",
      "",
      "\u001b[0;31m---------------------------------------------------------------------------\u001b[0;32m\nNOTE: If your import is failing due to a missing package, you can\nmanually install dependencies using either !pip or !apt.\n\nTo view examples of installing some common dependencies, click the\n\"Open Examples\" button below.\n\u001b[0;31m---------------------------------------------------------------------------\u001b[0m\n"
     ]
    }
   ],
   "source": [
    "import basemap"
   ]
  },
  {
   "cell_type": "markdown",
   "metadata": {
    "id": "rhRtkSm5SeXU"
   },
   "source": [
    "## module 설치\n"
   ]
  },
  {
   "cell_type": "markdown",
   "metadata": {
    "id": "QGBwmvbW0GYZ"
   },
   "source": [
    "### pip 설치\n",
    "\n",
    "pip(Pip Installs Packages)는 Python 모듈(패키지)를 설치하고 관리하는 패키지 매니저(Package Manager)로 MacOS에서 brew, node의 npm, yarn, Linux에서 apt와 같은 개념의 패키지 매니저 입니다.\n",
    "\n",
    "패키지를 다운 받는 가장 보편적이고 간편한 방법은 \" pip install 패키지 \"을 이용하는 방법입니다. pip 명령어를 사용하게 되면 PyPI에 등록되어 있는 패키지를 검색하여 이를 다운로드 받아 설치할 수 있습니다.\n",
    "\n",
    "아래 코드를 입력하여 pip가 설치되어 있는지 확인해 봅시다.\n",
    "\n",
    "> %는 매직 코멘트 입니다."
   ]
  },
  {
   "cell_type": "code",
   "execution_count": null,
   "metadata": {
    "colab": {
     "base_uri": "https://localhost:8080/"
    },
    "executionInfo": {
     "elapsed": 972,
     "status": "ok",
     "timestamp": 1693306529621,
     "user": {
      "displayName": "Kiehyun Park",
      "userId": "11752785994579589476"
     },
     "user_tz": -540
    },
    "id": "48WWMD2p0ehS",
    "outputId": "bdb0bc22-4b3d-4c1b-801c-31a712ce75ef"
   },
   "outputs": [
    {
     "name": "stdout",
     "output_type": "stream",
     "text": [
      "\n",
      "Usage:   \n",
      "  pip3 <command> [options]\n",
      "\n",
      "Commands:\n",
      "  install                     Install packages.\n",
      "  download                    Download packages.\n",
      "  uninstall                   Uninstall packages.\n",
      "  freeze                      Output installed packages in requirements format.\n",
      "  inspect                     Inspect the python environment.\n",
      "  list                        List installed packages.\n",
      "  show                        Show information about installed packages.\n",
      "  check                       Verify installed packages have compatible dependencies.\n",
      "  config                      Manage local and global configuration.\n",
      "  search                      Search PyPI for packages.\n",
      "  cache                       Inspect and manage pip's wheel cache.\n",
      "  index                       Inspect information available from package indexes.\n",
      "  wheel                       Build wheels from your requirements.\n",
      "  hash                        Compute hashes of package archives.\n",
      "  completion                  A helper command used for command completion.\n",
      "  debug                       Show information useful for debugging.\n",
      "  help                        Show help for commands.\n",
      "\n",
      "General Options:\n",
      "  -h, --help\n",
      "  Show help.\n",
      "  --debug\n",
      "  Let\n",
      "  unhandled\n",
      "  exceptions\n",
      "  propagate\n",
      "  outside the\n",
      "  main\n",
      "  subroutine,\n",
      "  instead of\n",
      "  logging\n",
      "  them to\n",
      "  stderr.\n",
      "  --isolated\n",
      "  Run pip in\n",
      "  an isolated\n",
      "  mode,\n",
      "  ignoring\n",
      "  environment\n",
      "  variables\n",
      "  and user co\n",
      "  nfiguration\n",
      "  .\n",
      "  --require-virtualenv\n",
      "  Allow pip\n",
      "  to only run\n",
      "  in a\n",
      "  virtual env\n",
      "  ironment;\n",
      "  exit with\n",
      "  an error\n",
      "  otherwise.\n",
      "  --python <python>\n",
      "  Run pip\n",
      "  with the\n",
      "  specified\n",
      "  Python inte\n",
      "  rpreter.\n",
      "  -v, --verbose\n",
      "  Give more\n",
      "  output.\n",
      "  Option is\n",
      "  additive,\n",
      "  and can be\n",
      "  used up to\n",
      "  3 times.\n",
      "  -V, --version\n",
      "  Show\n",
      "  version and\n",
      "  exit.\n",
      "  -q, --quiet\n",
      "  Give less\n",
      "  output.\n",
      "  Option is\n",
      "  additive,\n",
      "  and can be\n",
      "  used up to\n",
      "  3 times (co\n",
      "  rresponding\n",
      "  to WARNING,\n",
      "  ERROR, and\n",
      "  CRITICAL\n",
      "  logging\n",
      "  levels).\n",
      "  --log <path>\n",
      "  Path to a\n",
      "  verbose\n",
      "  appending\n",
      "  log.\n",
      "  --no-input\n",
      "  Disable\n",
      "  prompting\n",
      "  for input.\n",
      "  --keyring-provider <keyring_provider>\n",
      "  Enable the\n",
      "  credential\n",
      "  lookup via\n",
      "  the keyring\n",
      "  library if\n",
      "  user input\n",
      "  is allowed.\n",
      "  Specify\n",
      "  which\n",
      "  mechanism\n",
      "  to use\n",
      "  [disabled,\n",
      "  import, sub\n",
      "  process].\n",
      "  (default:\n",
      "  disabled)\n",
      "  --proxy <proxy>\n",
      "  Specify a\n",
      "  proxy in\n",
      "  the form sc\n",
      "  heme://[use\n",
      "  r:passwd@]p\n",
      "  roxy.server\n",
      "  :port.\n",
      "  --retries <retries>\n",
      "  Maximum\n",
      "  number of\n",
      "  retries\n",
      "  each\n",
      "  connection\n",
      "  should\n",
      "  attempt\n",
      "  (default 5\n",
      "  times).\n",
      "  --timeout <sec>\n",
      "  Set the\n",
      "  socket\n",
      "  timeout\n",
      "  (default 15\n",
      "  seconds).\n",
      "  --exists-action <action>\n",
      "  Default\n",
      "  action when\n",
      "  a path\n",
      "  already\n",
      "  exists:\n",
      "  (s)witch,\n",
      "  (i)gnore,\n",
      "  (w)ipe,\n",
      "  (b)ackup,\n",
      "  (a)bort.\n",
      "  --trusted-host <hostname>\n",
      "  Mark this\n",
      "  host or\n",
      "  host:port\n",
      "  pair as\n",
      "  trusted,\n",
      "  even though\n",
      "  it does not\n",
      "  have valid\n",
      "  or any\n",
      "  HTTPS.\n",
      "  --cert <path>\n",
      "  Path to\n",
      "  PEM-encoded\n",
      "  CA\n",
      "  certificate\n",
      "  bundle. If\n",
      "  provided,\n",
      "  overrides\n",
      "  the\n",
      "  default.\n",
      "  See 'SSL\n",
      "  Certificate\n",
      "  Verificatio\n",
      "  n' in pip d\n",
      "  ocumentatio\n",
      "  n for more \n",
      "  information\n",
      "  .\n",
      "  --client-cert <path>\n",
      "  Path to SSL\n",
      "  client cert\n",
      "  ificate, a\n",
      "  single file\n",
      "  containing\n",
      "  the private\n",
      "  key and the\n",
      "  certificate\n",
      "  in PEM\n",
      "  format.\n",
      "  --cache-dir <dir>\n",
      "  Store the\n",
      "  cache data\n",
      "  in <dir>.\n",
      "  --no-cache-dir\n",
      "  Disable the\n",
      "  cache.\n",
      "  --disable-pip-version-check\n",
      "  Don't perio\n",
      "  dically\n",
      "  check PyPI\n",
      "  to\n",
      "  determine\n",
      "  whether a\n",
      "  new version\n",
      "  of pip is\n",
      "  available\n",
      "  for\n",
      "  download.\n",
      "  Implied\n",
      "  with --no-\n",
      "  index.\n",
      "  --no-color\n",
      "  Suppress\n",
      "  colored\n",
      "  output.\n",
      "  --no-python-version-warning\n",
      "  Silence\n",
      "  deprecation\n",
      "  warnings\n",
      "  for\n",
      "  upcoming\n",
      "  unsupported\n",
      "  Pythons.\n",
      "  --use-feature <feature>\n",
      "  Enable new \n",
      "  functionali\n",
      "  ty, that\n",
      "  may be\n",
      "  backward in\n",
      "  compatible.\n",
      "  --use-deprecated <feature>\n",
      "  Enable\n",
      "  deprecated \n",
      "  functionali\n",
      "  ty, that\n",
      "  will be\n",
      "  removed in\n",
      "  the future.\n"
     ]
    }
   ],
   "source": [
    "%pip"
   ]
  },
  {
   "cell_type": "markdown",
   "metadata": {
    "id": "aU2rlyv11BLF"
   },
   "source": [
    "주피터 노트북에서는 다음과 같은 메직 코멘트를 이용하여 pip 명령어를 사용할 수 있습니다.\n",
    "\n",
    ">!pip install SomePackage  (SomePackage 설치하기)\n",
    "\n",
    ">!pip uninstall SomePackage  (SomePackage 삭제하기)\n",
    "\n",
    ">!pip install SomePackage==1.0.4 (SomePackage 특정 버전 설치하기)\n",
    "\n",
    ">!pip install --upgrade SomePackage (SomePackage 최신 버전으로 업그레이드 하기)\n",
    "\n",
    ">!pip list (설치된 패키지 목록 출력하기)\n",
    "\n",
    "이 명령어는 구글 코랩에서도 그대로 동작하므로 코랩에 설치되지 않은 모듈은 이와 같은 방법으로 설치가 가능합니다.\n"
   ]
  },
  {
   "cell_type": "code",
   "execution_count": null,
   "metadata": {
    "colab": {
     "base_uri": "https://localhost:8080/",
     "height": 560
    },
    "executionInfo": {
     "elapsed": 7041,
     "status": "ok",
     "timestamp": 1693306536657,
     "user": {
      "displayName": "Kiehyun Park",
      "userId": "11752785994579589476"
     },
     "user_tz": -540
    },
    "id": "s-JhbTIR4Usg",
    "outputId": "547aebf5-de96-42f3-c68a-ac6e86386fbe"
   },
   "outputs": [
    {
     "name": "stdout",
     "output_type": "stream",
     "text": [
      "Collecting Basemap\n",
      "  Downloading basemap-1.3.8-cp310-cp310-manylinux1_x86_64.whl (860 kB)\n",
      "\u001b[2K     \u001b[90m━━━━━━━━━━━━━━━━━━━━━━━━━━━━━━━━━━━━━━━\u001b[0m \u001b[32m860.7/860.7 kB\u001b[0m \u001b[31m8.9 MB/s\u001b[0m eta \u001b[36m0:00:00\u001b[0m\n",
      "\u001b[?25hCollecting basemap-data<1.4,>=1.3.2 (from Basemap)\n",
      "  Downloading basemap_data-1.3.2-py2.py3-none-any.whl (30.5 MB)\n",
      "\u001b[2K     \u001b[90m━━━━━━━━━━━━━━━━━━━━━━━━━━━━━━━━━━━━━━━━\u001b[0m \u001b[32m30.5/30.5 MB\u001b[0m \u001b[31m48.6 MB/s\u001b[0m eta \u001b[36m0:00:00\u001b[0m\n",
      "\u001b[?25hCollecting pyshp<2.4,>=1.2 (from Basemap)\n",
      "  Downloading pyshp-2.3.1-py2.py3-none-any.whl (46 kB)\n",
      "\u001b[2K     \u001b[90m━━━━━━━━━━━━━━━━━━━━━━━━━━━━━━━━━━━━━━━━\u001b[0m \u001b[32m46.5/46.5 kB\u001b[0m \u001b[31m5.6 MB/s\u001b[0m eta \u001b[36m0:00:00\u001b[0m\n",
      "\u001b[?25hRequirement already satisfied: matplotlib<3.8,>=1.5 in /usr/local/lib/python3.10/dist-packages (from Basemap) (3.7.1)\n",
      "Requirement already satisfied: pyproj<3.7.0,>=1.9.3 in /usr/local/lib/python3.10/dist-packages (from Basemap) (3.6.0)\n",
      "Requirement already satisfied: numpy<1.26,>=1.21 in /usr/local/lib/python3.10/dist-packages (from Basemap) (1.23.5)\n",
      "Requirement already satisfied: contourpy>=1.0.1 in /usr/local/lib/python3.10/dist-packages (from matplotlib<3.8,>=1.5->Basemap) (1.1.0)\n",
      "Requirement already satisfied: cycler>=0.10 in /usr/local/lib/python3.10/dist-packages (from matplotlib<3.8,>=1.5->Basemap) (0.11.0)\n",
      "Requirement already satisfied: fonttools>=4.22.0 in /usr/local/lib/python3.10/dist-packages (from matplotlib<3.8,>=1.5->Basemap) (4.42.1)\n",
      "Requirement already satisfied: kiwisolver>=1.0.1 in /usr/local/lib/python3.10/dist-packages (from matplotlib<3.8,>=1.5->Basemap) (1.4.4)\n",
      "Requirement already satisfied: packaging>=20.0 in /usr/local/lib/python3.10/dist-packages (from matplotlib<3.8,>=1.5->Basemap) (23.1)\n",
      "Requirement already satisfied: pillow>=6.2.0 in /usr/local/lib/python3.10/dist-packages (from matplotlib<3.8,>=1.5->Basemap) (9.4.0)\n",
      "Requirement already satisfied: pyparsing>=2.3.1 in /usr/local/lib/python3.10/dist-packages (from matplotlib<3.8,>=1.5->Basemap) (3.1.1)\n",
      "Requirement already satisfied: python-dateutil>=2.7 in /usr/local/lib/python3.10/dist-packages (from matplotlib<3.8,>=1.5->Basemap) (2.8.2)\n",
      "Requirement already satisfied: certifi in /usr/local/lib/python3.10/dist-packages (from pyproj<3.7.0,>=1.9.3->Basemap) (2023.7.22)\n",
      "Requirement already satisfied: six>=1.5 in /usr/local/lib/python3.10/dist-packages (from python-dateutil>=2.7->matplotlib<3.8,>=1.5->Basemap) (1.16.0)\n",
      "Installing collected packages: pyshp, basemap-data, Basemap\n",
      "Successfully installed Basemap-1.3.8 basemap-data-1.3.2 pyshp-2.3.1\n"
     ]
    },
    {
     "data": {
      "application/vnd.colab-display-data+json": {
       "pip_warning": {
        "packages": [
         "mpl_toolkits"
        ]
       }
      }
     },
     "metadata": {},
     "output_type": "display_data"
    }
   ],
   "source": [
    "!pip install Basemap"
   ]
  },
  {
   "cell_type": "markdown",
   "metadata": {
    "id": "Pl4r_vbQ1tf4"
   },
   "source": [
    "### Anaconda 설치\n",
    "\n",
    "anaconda (https://www.anaconda.com/download/) 를 사용하면 모듈 설치를 편리하게 할 수 있습니다.\n",
    "\n",
    "pip는 Python의 정식 지원을 받는 패키지만을 관리하는 관리자이고,\n",
    "conda는 anaconda에서 지원 받는 패키지 만을 관리하는 관리자입니다.\n",
    "\n",
    "또한 pip는 Python만 한정된 패키지 관리자이고, conda는 Python 뿐만 아니라 c, java 등이 포함된 패키지 관리자입니다.\n",
    "\n",
    "conda가 pip보다 패키지 의존성을 더 잘 관리해주고, 운영체제 플랫폼에 맞추어진 미리 빌드된 패키지들이 설치되기 때문에 빌드 환경설정이 필요 없습니다. 그리고 conda 패키지는 어떤 패키지를 upgrade or downgrade 하면, 해당 버전에 따라 의존되는 패키지들도 함께 upgrade or downgrade를 해줍니다.\n",
    "\n",
    "Anaconda prompt에서 다음과 같이 입력하여 module을 설치할 수 있습니다.\n",
    "\n",
    ">conda install SomePackage (SomePackage 설치 하기)\n",
    "\n",
    ">conda remove SomePackage (SomePackage 삭제 하기)\n",
    "\n",
    ">conda install SomePackage=1.0.4 (SomePackage 특정 버전 설치하기)\n",
    "\n",
    ">conda update SomePackage (SomePackage 업데이트 하기)\n",
    "\n",
    "> conda update --all (해당 가상환경에 설치된 모든 패키지를 update)\n",
    "\n",
    "아쉽지만 구글 코랩에서는 Anaconda가 설치되어 있지 않아 pip를 사용해야 합니다."
   ]
  },
  {
   "cell_type": "code",
   "execution_count": null,
   "metadata": {
    "colab": {
     "base_uri": "https://localhost:8080/"
    },
    "executionInfo": {
     "elapsed": 20,
     "status": "ok",
     "timestamp": 1693306536658,
     "user": {
      "displayName": "Kiehyun Park",
      "userId": "11752785994579589476"
     },
     "user_tz": -540
    },
    "id": "FgGXVCK49q5s",
    "outputId": "84918cad-e679-453c-eb27-b16560997bb0"
   },
   "outputs": [
    {
     "name": "stdout",
     "output_type": "stream",
     "text": [
      "/bin/bash: line 1: conda: command not found\n"
     ]
    }
   ],
   "source": [
    "!conda"
   ]
  },
  {
   "cell_type": "markdown",
   "metadata": {
    "id": "MGelik-g-00I"
   },
   "source": [
    "## module 사용하기"
   ]
  },
  {
   "cell_type": "markdown",
   "metadata": {
    "id": "u7wfBH1zb8kW"
   },
   "source": [
    "### module 불러오기\n",
    "\n",
    "module을 사용하기 위해서는 다음과 같이 먼저 module을 불러와야 합니다.\n",
    "\n",
    "> import module_name\n",
    "\n",
    "예를 들어 이름이 'math'인 module은 아래와 같이 불러올 수 있습니다.\n",
    "\n",
    "> import math"
   ]
  },
  {
   "cell_type": "code",
   "execution_count": null,
   "metadata": {
    "id": "gLd5FOeNHuuy"
   },
   "outputs": [],
   "source": [
    "import math"
   ]
  },
  {
   "cell_type": "markdown",
   "metadata": {
    "id": "HNo2gVCWrby3"
   },
   "source": [
    "### module 안에 저장된 함수와 변수 알아보기\n",
    "\n",
    "module 안에 표함되어 있는 함수나 변수를 알고 싶으면 아래의 두 명령어로 필요한 정보를 얻을 수 있습니다.\n",
    "\n",
    "> help(moduleName)\n",
    "\n",
    "> dir(moduleName)\n",
    "\n",
    "\n",
    "예를 들어 이름이 'math'인 module안에 들어 있는 함수나 변수를 알고 싶으면\n",
    "\n",
    "> dir(math)"
   ]
  },
  {
   "cell_type": "code",
   "execution_count": null,
   "metadata": {
    "colab": {
     "base_uri": "https://localhost:8080/"
    },
    "executionInfo": {
     "elapsed": 46,
     "status": "ok",
     "timestamp": 1693306537171,
     "user": {
      "displayName": "Kiehyun Park",
      "userId": "11752785994579589476"
     },
     "user_tz": -540
    },
    "id": "Sl6nlzwZ_-_6",
    "outputId": "d78df088-8834-4b85-e23c-6966ee449cd3"
   },
   "outputs": [
    {
     "name": "stdout",
     "output_type": "stream",
     "text": [
      "Help on built-in module math:\n",
      "\n",
      "NAME\n",
      "    math\n",
      "\n",
      "DESCRIPTION\n",
      "    This module provides access to the mathematical functions\n",
      "    defined by the C standard.\n",
      "\n",
      "FUNCTIONS\n",
      "    acos(x, /)\n",
      "        Return the arc cosine (measured in radians) of x.\n",
      "        \n",
      "        The result is between 0 and pi.\n",
      "    \n",
      "    acosh(x, /)\n",
      "        Return the inverse hyperbolic cosine of x.\n",
      "    \n",
      "    asin(x, /)\n",
      "        Return the arc sine (measured in radians) of x.\n",
      "        \n",
      "        The result is between -pi/2 and pi/2.\n",
      "    \n",
      "    asinh(x, /)\n",
      "        Return the inverse hyperbolic sine of x.\n",
      "    \n",
      "    atan(x, /)\n",
      "        Return the arc tangent (measured in radians) of x.\n",
      "        \n",
      "        The result is between -pi/2 and pi/2.\n",
      "    \n",
      "    atan2(y, x, /)\n",
      "        Return the arc tangent (measured in radians) of y/x.\n",
      "        \n",
      "        Unlike atan(y/x), the signs of both x and y are considered.\n",
      "    \n",
      "    atanh(x, /)\n",
      "        Return the inverse hyperbolic tangent of x.\n",
      "    \n",
      "    ceil(x, /)\n",
      "        Return the ceiling of x as an Integral.\n",
      "        \n",
      "        This is the smallest integer >= x.\n",
      "    \n",
      "    comb(n, k, /)\n",
      "        Number of ways to choose k items from n items without repetition and without order.\n",
      "        \n",
      "        Evaluates to n! / (k! * (n - k)!) when k <= n and evaluates\n",
      "        to zero when k > n.\n",
      "        \n",
      "        Also called the binomial coefficient because it is equivalent\n",
      "        to the coefficient of k-th term in polynomial expansion of the\n",
      "        expression (1 + x)**n.\n",
      "        \n",
      "        Raises TypeError if either of the arguments are not integers.\n",
      "        Raises ValueError if either of the arguments are negative.\n",
      "    \n",
      "    copysign(x, y, /)\n",
      "        Return a float with the magnitude (absolute value) of x but the sign of y.\n",
      "        \n",
      "        On platforms that support signed zeros, copysign(1.0, -0.0)\n",
      "        returns -1.0.\n",
      "    \n",
      "    cos(x, /)\n",
      "        Return the cosine of x (measured in radians).\n",
      "    \n",
      "    cosh(x, /)\n",
      "        Return the hyperbolic cosine of x.\n",
      "    \n",
      "    degrees(x, /)\n",
      "        Convert angle x from radians to degrees.\n",
      "    \n",
      "    dist(p, q, /)\n",
      "        Return the Euclidean distance between two points p and q.\n",
      "        \n",
      "        The points should be specified as sequences (or iterables) of\n",
      "        coordinates.  Both inputs must have the same dimension.\n",
      "        \n",
      "        Roughly equivalent to:\n",
      "            sqrt(sum((px - qx) ** 2.0 for px, qx in zip(p, q)))\n",
      "    \n",
      "    erf(x, /)\n",
      "        Error function at x.\n",
      "    \n",
      "    erfc(x, /)\n",
      "        Complementary error function at x.\n",
      "    \n",
      "    exp(x, /)\n",
      "        Return e raised to the power of x.\n",
      "    \n",
      "    expm1(x, /)\n",
      "        Return exp(x)-1.\n",
      "        \n",
      "        This function avoids the loss of precision involved in the direct evaluation of exp(x)-1 for small x.\n",
      "    \n",
      "    fabs(x, /)\n",
      "        Return the absolute value of the float x.\n",
      "    \n",
      "    factorial(x, /)\n",
      "        Find x!.\n",
      "        \n",
      "        Raise a ValueError if x is negative or non-integral.\n",
      "    \n",
      "    floor(x, /)\n",
      "        Return the floor of x as an Integral.\n",
      "        \n",
      "        This is the largest integer <= x.\n",
      "    \n",
      "    fmod(x, y, /)\n",
      "        Return fmod(x, y), according to platform C.\n",
      "        \n",
      "        x % y may differ.\n",
      "    \n",
      "    frexp(x, /)\n",
      "        Return the mantissa and exponent of x, as pair (m, e).\n",
      "        \n",
      "        m is a float and e is an int, such that x = m * 2.**e.\n",
      "        If x is 0, m and e are both 0.  Else 0.5 <= abs(m) < 1.0.\n",
      "    \n",
      "    fsum(seq, /)\n",
      "        Return an accurate floating point sum of values in the iterable seq.\n",
      "        \n",
      "        Assumes IEEE-754 floating point arithmetic.\n",
      "    \n",
      "    gamma(x, /)\n",
      "        Gamma function at x.\n",
      "    \n",
      "    gcd(*integers)\n",
      "        Greatest Common Divisor.\n",
      "    \n",
      "    hypot(...)\n",
      "        hypot(*coordinates) -> value\n",
      "        \n",
      "        Multidimensional Euclidean distance from the origin to a point.\n",
      "        \n",
      "        Roughly equivalent to:\n",
      "            sqrt(sum(x**2 for x in coordinates))\n",
      "        \n",
      "        For a two dimensional point (x, y), gives the hypotenuse\n",
      "        using the Pythagorean theorem:  sqrt(x*x + y*y).\n",
      "        \n",
      "        For example, the hypotenuse of a 3/4/5 right triangle is:\n",
      "        \n",
      "            >>> hypot(3.0, 4.0)\n",
      "            5.0\n",
      "    \n",
      "    isclose(a, b, *, rel_tol=1e-09, abs_tol=0.0)\n",
      "        Determine whether two floating point numbers are close in value.\n",
      "        \n",
      "          rel_tol\n",
      "            maximum difference for being considered \"close\", relative to the\n",
      "            magnitude of the input values\n",
      "          abs_tol\n",
      "            maximum difference for being considered \"close\", regardless of the\n",
      "            magnitude of the input values\n",
      "        \n",
      "        Return True if a is close in value to b, and False otherwise.\n",
      "        \n",
      "        For the values to be considered close, the difference between them\n",
      "        must be smaller than at least one of the tolerances.\n",
      "        \n",
      "        -inf, inf and NaN behave similarly to the IEEE 754 Standard.  That\n",
      "        is, NaN is not close to anything, even itself.  inf and -inf are\n",
      "        only close to themselves.\n",
      "    \n",
      "    isfinite(x, /)\n",
      "        Return True if x is neither an infinity nor a NaN, and False otherwise.\n",
      "    \n",
      "    isinf(x, /)\n",
      "        Return True if x is a positive or negative infinity, and False otherwise.\n",
      "    \n",
      "    isnan(x, /)\n",
      "        Return True if x is a NaN (not a number), and False otherwise.\n",
      "    \n",
      "    isqrt(n, /)\n",
      "        Return the integer part of the square root of the input.\n",
      "    \n",
      "    lcm(*integers)\n",
      "        Least Common Multiple.\n",
      "    \n",
      "    ldexp(x, i, /)\n",
      "        Return x * (2**i).\n",
      "        \n",
      "        This is essentially the inverse of frexp().\n",
      "    \n",
      "    lgamma(x, /)\n",
      "        Natural logarithm of absolute value of Gamma function at x.\n",
      "    \n",
      "    log(...)\n",
      "        log(x, [base=math.e])\n",
      "        Return the logarithm of x to the given base.\n",
      "        \n",
      "        If the base not specified, returns the natural logarithm (base e) of x.\n",
      "    \n",
      "    log10(x, /)\n",
      "        Return the base 10 logarithm of x.\n",
      "    \n",
      "    log1p(x, /)\n",
      "        Return the natural logarithm of 1+x (base e).\n",
      "        \n",
      "        The result is computed in a way which is accurate for x near zero.\n",
      "    \n",
      "    log2(x, /)\n",
      "        Return the base 2 logarithm of x.\n",
      "    \n",
      "    modf(x, /)\n",
      "        Return the fractional and integer parts of x.\n",
      "        \n",
      "        Both results carry the sign of x and are floats.\n",
      "    \n",
      "    nextafter(x, y, /)\n",
      "        Return the next floating-point value after x towards y.\n",
      "    \n",
      "    perm(n, k=None, /)\n",
      "        Number of ways to choose k items from n items without repetition and with order.\n",
      "        \n",
      "        Evaluates to n! / (n - k)! when k <= n and evaluates\n",
      "        to zero when k > n.\n",
      "        \n",
      "        If k is not specified or is None, then k defaults to n\n",
      "        and the function returns n!.\n",
      "        \n",
      "        Raises TypeError if either of the arguments are not integers.\n",
      "        Raises ValueError if either of the arguments are negative.\n",
      "    \n",
      "    pow(x, y, /)\n",
      "        Return x**y (x to the power of y).\n",
      "    \n",
      "    prod(iterable, /, *, start=1)\n",
      "        Calculate the product of all the elements in the input iterable.\n",
      "        \n",
      "        The default start value for the product is 1.\n",
      "        \n",
      "        When the iterable is empty, return the start value.  This function is\n",
      "        intended specifically for use with numeric values and may reject\n",
      "        non-numeric types.\n",
      "    \n",
      "    radians(x, /)\n",
      "        Convert angle x from degrees to radians.\n",
      "    \n",
      "    remainder(x, y, /)\n",
      "        Difference between x and the closest integer multiple of y.\n",
      "        \n",
      "        Return x - n*y where n*y is the closest integer multiple of y.\n",
      "        In the case where x is exactly halfway between two multiples of\n",
      "        y, the nearest even value of n is used. The result is always exact.\n",
      "    \n",
      "    sin(x, /)\n",
      "        Return the sine of x (measured in radians).\n",
      "    \n",
      "    sinh(x, /)\n",
      "        Return the hyperbolic sine of x.\n",
      "    \n",
      "    sqrt(x, /)\n",
      "        Return the square root of x.\n",
      "    \n",
      "    tan(x, /)\n",
      "        Return the tangent of x (measured in radians).\n",
      "    \n",
      "    tanh(x, /)\n",
      "        Return the hyperbolic tangent of x.\n",
      "    \n",
      "    trunc(x, /)\n",
      "        Truncates the Real x to the nearest Integral toward 0.\n",
      "        \n",
      "        Uses the __trunc__ magic method.\n",
      "    \n",
      "    ulp(x, /)\n",
      "        Return the value of the least significant bit of the float x.\n",
      "\n",
      "DATA\n",
      "    e = 2.718281828459045\n",
      "    inf = inf\n",
      "    nan = nan\n",
      "    pi = 3.141592653589793\n",
      "    tau = 6.283185307179586\n",
      "\n",
      "FILE\n",
      "    (built-in)\n",
      "\n",
      "\n",
      "help(math): None\n"
     ]
    }
   ],
   "source": [
    "import math\n",
    "print(\"help(math):\", help(math))"
   ]
  },
  {
   "cell_type": "code",
   "execution_count": null,
   "metadata": {
    "colab": {
     "base_uri": "https://localhost:8080/"
    },
    "executionInfo": {
     "elapsed": 45,
     "status": "ok",
     "timestamp": 1693306537173,
     "user": {
      "displayName": "Kiehyun Park",
      "userId": "11752785994579589476"
     },
     "user_tz": -540
    },
    "id": "epewJYRVsM7I",
    "outputId": "c1d4dbbc-015a-47ac-be79-45d0935b1520"
   },
   "outputs": [
    {
     "name": "stdout",
     "output_type": "stream",
     "text": [
      "dir(math): ['__doc__', '__loader__', '__name__', '__package__', '__spec__', 'acos', 'acosh', 'asin', 'asinh', 'atan', 'atan2', 'atanh', 'ceil', 'comb', 'copysign', 'cos', 'cosh', 'degrees', 'dist', 'e', 'erf', 'erfc', 'exp', 'expm1', 'fabs', 'factorial', 'floor', 'fmod', 'frexp', 'fsum', 'gamma', 'gcd', 'hypot', 'inf', 'isclose', 'isfinite', 'isinf', 'isnan', 'isqrt', 'lcm', 'ldexp', 'lgamma', 'log', 'log10', 'log1p', 'log2', 'modf', 'nan', 'nextafter', 'perm', 'pi', 'pow', 'prod', 'radians', 'remainder', 'sin', 'sinh', 'sqrt', 'tan', 'tanh', 'tau', 'trunc', 'ulp']\n"
     ]
    }
   ],
   "source": [
    "import math\n",
    "print(\"dir(math):\", dir(math))"
   ]
  },
  {
   "cell_type": "markdown",
   "metadata": {
    "id": "CZ3_Q5Gzq4Ca"
   },
   "source": [
    "### module의 함수, 변수 사용하기\n",
    "\n",
    "module 안에 표함되어 있는 함수나 변수를 사용하기 위해서는 다음과 같이 사용한다.\n",
    "\n",
    "> module_name.function_name()\n",
    "\n",
    "> module_name.variable_name\n"
   ]
  },
  {
   "cell_type": "code",
   "execution_count": null,
   "metadata": {
    "colab": {
     "base_uri": "https://localhost:8080/"
    },
    "executionInfo": {
     "elapsed": 34,
     "status": "ok",
     "timestamp": 1693306537173,
     "user": {
      "displayName": "Kiehyun Park",
      "userId": "11752785994579589476"
     },
     "user_tz": -540
    },
    "id": "05OTA7P-Pmjq",
    "outputId": "18c50c49-194e-4dc7-af40-c2800a70c323"
   },
   "outputs": [
    {
     "name": "stdout",
     "output_type": "stream",
     "text": [
      "math.sin(0.5): 0.479425538604203\n",
      "math.e: 2.718281828459045\n"
     ]
    }
   ],
   "source": [
    "print(f\"math.sin(0.5): {math.sin(0.5)}\")\n",
    "print(f\"math.e: {math.e}\")"
   ]
  },
  {
   "cell_type": "markdown",
   "metadata": {
    "id": "8d_K-hgVeXeQ"
   },
   "source": [
    "### 특정 함수/변수 하나만 불러 오기\n",
    "\n",
    "'math'라는 module의 여러 함수 중에서 이름이 'pi'인 변수만을 불러올 경우에는 아래와 같이 입력한다.\n",
    "\n",
    "> from math import pi"
   ]
  },
  {
   "cell_type": "code",
   "execution_count": null,
   "metadata": {
    "colab": {
     "base_uri": "https://localhost:8080/"
    },
    "executionInfo": {
     "elapsed": 30,
     "status": "ok",
     "timestamp": 1693306537174,
     "user": {
      "displayName": "Kiehyun Park",
      "userId": "11752785994579589476"
     },
     "user_tz": -540
    },
    "id": "3cuZ1qQH_Mjl",
    "outputId": "728ef5b9-ca02-4e7a-9e03-ad2db5db1c42"
   },
   "outputs": [
    {
     "name": "stdout",
     "output_type": "stream",
     "text": [
      "pi: 3.141592653589793\n"
     ]
    }
   ],
   "source": [
    "from math import pi\n",
    "print(f\"pi: {pi}\")"
   ]
  },
  {
   "cell_type": "markdown",
   "metadata": {
    "id": "Zf-eK7Ipebx4"
   },
   "source": [
    "### sub package, subsub package 불러오기\n",
    "\n",
    "'fits' 라는 이름의 subsub 인 경우, 즉 ssub ∈ sub ∈ module 인 경우에는 아래와 같이 불러올 수 있습니다."
   ]
  },
  {
   "cell_type": "code",
   "execution_count": null,
   "metadata": {
    "id": "vniR1EJoeedc"
   },
   "outputs": [],
   "source": [
    "from astropy.io import fits"
   ]
  },
  {
   "cell_type": "markdown",
   "metadata": {
    "id": "lnMFurH3ekpg"
   },
   "source": [
    "'matplotlib'라는 이름의 package에 'pyplot' 함수를 'plt'라는 이름으로 사용하고자 한다면 다음과 같이 불러올 수 있습니다."
   ]
  },
  {
   "cell_type": "code",
   "execution_count": null,
   "metadata": {
    "id": "cdrOulInenJU"
   },
   "outputs": [],
   "source": [
    "import matplotlib.pyplot as plt"
   ]
  },
  {
   "cell_type": "markdown",
   "metadata": {
    "id": "jstMCBdRepcN"
   },
   "source": [
    "(larger).(smaller).(even_smaller)와 같은 형식으로 패키지를 사용할 수 있습니다. 'numpy.random'라는 이름의 package (module) 안에 있는 'rand', 'max' 등의 함수를 사용하고자 한다면 다음과 같이 입력해 준다."
   ]
  },
  {
   "cell_type": "code",
   "execution_count": null,
   "metadata": {
    "colab": {
     "base_uri": "https://localhost:8080/"
    },
    "executionInfo": {
     "elapsed": 25,
     "status": "ok",
     "timestamp": 1693306537177,
     "user": {
      "displayName": "Kiehyun Park",
      "userId": "11752785994579589476"
     },
     "user_tz": -540
    },
    "id": "OGFYog8Lerc5",
    "outputId": "2c280b68-d97f-4fe6-ae6e-8984664c0315"
   },
   "outputs": [
    {
     "name": "stdout",
     "output_type": "stream",
     "text": [
      "[0.88078425 0.81066352 0.82163526 0.60761871 0.03921725 0.38064391]\n"
     ]
    }
   ],
   "source": [
    "import numpy\n",
    "a = numpy.random.rand(6)\n",
    "print(a)\n",
    "numpy.ndarray.max(a)\n",
    "\n",
    "import numpy as np"
   ]
  },
  {
   "cell_type": "markdown",
   "metadata": {
    "id": "xNwrBMEsA_iG"
   },
   "source": [
    "## 가상 환경\n",
    "\n",
    "기본적으로 가상 환경이 있는 가장 큰 이유는 \"프로젝트를 위한 격리된 환경을 만드는 것\"입니다. 쉽게 말해서 프로젝트마다 해당 프로젝트에 필요한 모듈만 담아서 만든 바구니라고 생각하시면 됩니다.\n",
    "\n",
    "Python을 포함하여 대부분의 프로그래밍 언어들은 패키지(또는 모듈)의 버전을 계속해서 최신화하고 있습니다. 이는 Python의 장점이기도 하지만 만약 특정 버전에서 일부 기능들은 없어지거나 새로 생기게 되는 경우 버전 충돌로 코드가 실행되지 않을 수 있습니다.\n",
    "\n",
    "환경에는 패키지당 하나의 버전만 설치할 수 있기 때문에 해당 코르들 실행할 수 있는 패키지들의 의존성을 체크애야 합니다.\n",
    "\n",
    "결론적으로는 가상환경은 작업을 바꿀 때마다 다른 버전의 라이브러리를 설치하는 불편함을 방지하기 위한 격리된 독립적인 환경을 만들어주는 역할을 합니다.\n"
   ]
  },
  {
   "cell_type": "markdown",
   "metadata": {
    "id": "YRN0CLcZB2U5"
   },
   "source": [
    "### 가상 환경의 종류\n",
    "\n",
    "가상환경의 종류도 매우 다양한데 venv는 Python 3.3 버전 이후부터 기본 모듈에 포함되어 있습니다.\n",
    "\n",
    "저는 conda 가상환경을 주로 이용하는데 Anaconda Python을 설치했을 시 사용할 수 있는 모듈입니다.\n"
   ]
  },
  {
   "cell_type": "markdown",
   "metadata": {
    "id": "u3dmmtNjCaym"
   },
   "source": [
    "### conda 가상 환경\n",
    "\n",
    "conda 가상 환경에 사용할 수 있는 명령어들은 다음과 같다.\n",
    "\n",
    "* conda --version  # 아나콘다 버전 확인\n",
    "* conda create -n {환경명} python={버전}  # 가상환경 생성\n",
    "* conda env list # 가상환경 리스트 확인\n",
    "* conda remove -n {환경명} --all  # 가상환경 삭제\n",
    "* activate {환경명}  # 가상환경 on\n",
    "* deactivate 또는 conda deactivate  # 가상환경 off\n",
    "* conda config --set auto_activate_base false  # conda 자동활성화 off (자동으로 base 실행x)\n",
    "* conda config --set auto_activate_base True  # conda 자동활성화 on\n",
    "* conda env list > result.txt  # 가상환경 리스트를 result라는 txt파일로 저장하기\n",
    "* conda env export > {환경명}.yaml  # 가상환경 내보내기 (export)\n",
    "* conda env create -f {환경명}.yaml  # .yaml 파일로 새로운 가상환경 만들기\n",
    "* conda env update --file {환경명}.yaml # .yaml\n",
    "* conda env update --{환경명} envname --file {환경명}.yaml  ## .yaml 파일로 가상환경 업데이트(deactivate 되어있을 때)\n"
   ]
  },
  {
   "cell_type": "markdown",
   "metadata": {
    "id": "vSFnaQU7ymzm"
   },
   "source": [
    "### VS code 에서 conda env\n",
    "\n",
    "1. VS code 실행\n",
    "2. Python 파일 선택\n",
    "3. [ctrl] + [shift] + [p] 누르고, [Terminal : Select Default Profile] 선택, [Command prompt] 선택\n",
    "4. [ctrl] + [shift] + [p] 누르고, [Python: select interpreter] 선택, 해당 anaconda env 선택\n"
   ]
  },
  {
   "cell_type": "markdown",
   "metadata": {
    "id": "lxYHl1S0zNle"
   },
   "source": [
    "## 주피터 노트북에서 module 설치"
   ]
  },
  {
   "cell_type": "markdown",
   "metadata": {
    "id": "xx9O5wIA95zK"
   },
   "source": [
    "#### pip install\n",
    "\n",
    "주피터 노트북에서는 pip와 관련된 아래의 쉘 명령어나 매직 코멘드로 설치할 수 있습니다. 구글 코랩에서도 같은 방법을 이용할 수 있습니다.\n",
    "\n",
    "> !pip install modulename\n",
    "\n",
    "> %pip install modulename\n"
   ]
  },
  {
   "cell_type": "code",
   "execution_count": null,
   "metadata": {
    "colab": {
     "base_uri": "https://localhost:8080/"
    },
    "executionInfo": {
     "elapsed": 10741,
     "status": "ok",
     "timestamp": 1724648468304,
     "user": {
      "displayName": "Kiehyun Park",
      "userId": "11752785994579589476"
     },
     "user_tz": -540
    },
    "id": "Ba1LhdcozcVI",
    "outputId": "c8b1b6f7-50ca-4b07-e28b-9e8a24f2fe4a"
   },
   "outputs": [
    {
     "name": "stdout",
     "output_type": "stream",
     "text": [
      "Collecting pyhdf\n",
      "  Downloading pyhdf-0.11.4-cp310-cp310-manylinux_2_17_x86_64.manylinux2014_x86_64.whl.metadata (2.8 kB)\n",
      "Requirement already satisfied: numpy in /usr/local/lib/python3.10/dist-packages (from pyhdf) (1.26.4)\n",
      "Downloading pyhdf-0.11.4-cp310-cp310-manylinux_2_17_x86_64.manylinux2014_x86_64.whl (771 kB)\n",
      "\u001b[2K   \u001b[90m━━━━━━━━━━━━━━━━━━━━━━━━━━━━━━━━━━━━━━━━\u001b[0m \u001b[32m771.6/771.6 kB\u001b[0m \u001b[31m4.3 MB/s\u001b[0m eta \u001b[36m0:00:00\u001b[0m\n",
      "\u001b[?25hInstalling collected packages: pyhdf\n",
      "Successfully installed pyhdf-0.11.4\n"
     ]
    }
   ],
   "source": [
    "!pip install pyhdf"
   ]
  },
  {
   "cell_type": "code",
   "execution_count": null,
   "metadata": {
    "colab": {
     "base_uri": "https://localhost:8080/"
    },
    "executionInfo": {
     "elapsed": 8101,
     "status": "ok",
     "timestamp": 1693306552622,
     "user": {
      "displayName": "Kiehyun Park",
      "userId": "11752785994579589476"
     },
     "user_tz": -540
    },
    "id": "46zbRsmN145v",
    "outputId": "ac931806-b138-45e6-9ac3-7ac8623cac40"
   },
   "outputs": [
    {
     "name": "stdout",
     "output_type": "stream",
     "text": [
      "Requirement already satisfied: pyhdf in /usr/local/lib/python3.10/dist-packages (0.11.3)\n"
     ]
    }
   ],
   "source": [
    "%pip install pyhdf"
   ]
  },
  {
   "cell_type": "markdown",
   "metadata": {
    "id": "NAp_lrjF909X"
   },
   "source": [
    "#### conda install\n",
    "\n",
    "자신의 컴퓨터에서 anaconda가 설치되어 있는 경우라면  conda install도 가능한 것으로 확인되지만, 구글 코랩에서는 anaconda가 설치되어 있지 않기 때문에 conda install을 바로 사용할 수 없습니다.\n",
    "\n",
    "> !conda install modulename\n",
    "\n",
    "> %conda install modulename\n"
   ]
  },
  {
   "cell_type": "code",
   "execution_count": null,
   "metadata": {
    "id": "IDQo8s0f-F9J"
   },
   "outputs": [],
   "source": [
    "# !conda install modulename # 구글 코랩에서는 사용할 수 없음.\n",
    "# %conda install modulename # 구글 코랩에서는 사용할 수 없음."
   ]
  },
  {
   "cell_type": "markdown",
   "metadata": {
    "id": "lgyruvTr0ByB"
   },
   "source": [
    "이제 설치가 되었으니 import가 될 것입니다."
   ]
  },
  {
   "cell_type": "code",
   "execution_count": null,
   "metadata": {
    "id": "sRhmNkZazsRa"
   },
   "outputs": [],
   "source": [
    "import pyhdf"
   ]
  },
  {
   "cell_type": "markdown",
   "metadata": {
    "id": "9MRUSffXz324"
   },
   "source": [
    "간혹 pip로 설치가 되지 않는 경우에 해결책은 구글링하면 찾을 수 있을 것입니다."
   ]
  },
  {
   "cell_type": "markdown",
   "metadata": {
    "id": "AImZlKAZMTy_"
   },
   "source": [
    "###(과제)\n",
    "\n",
    "코랩에서 exifread 라는 이름의 module이 실행되도록 설치해 보겠습니다.\n",
    "\n",
    "아래와 같이 import 했을 경우 ModuleNotFoundError 가 발생하지 않도록 아래 코드를 완성하시오.\n",
    "\n",
    "> import exifread"
   ]
  },
  {
   "cell_type": "code",
   "execution_count": null,
   "metadata": {
    "colab": {
     "base_uri": "https://localhost:8080/"
    },
    "executionInfo": {
     "elapsed": 7795,
     "status": "ok",
     "timestamp": 1693306560410,
     "user": {
      "displayName": "Kiehyun Park",
      "userId": "11752785994579589476"
     },
     "user_tz": -540
    },
    "id": "ENddErDfMWi_",
    "outputId": "5cbd84e2-708b-4408-aa9b-1c227dcedd79"
   },
   "outputs": [
    {
     "name": "stdout",
     "output_type": "stream",
     "text": [
      "Collecting exifread\n",
      "  Downloading ExifRead-3.0.0-py3-none-any.whl (40 kB)\n",
      "\u001b[?25l     \u001b[90m━━━━━━━━━━━━━━━━━━━━━━━━━━━━━━━━━━━━━━━━\u001b[0m \u001b[32m0.0/40.4 kB\u001b[0m \u001b[31m?\u001b[0m eta \u001b[36m-:--:--\u001b[0m\r\u001b[2K     \u001b[90m━━━━━━━━━━━━━━━━━━━━━━━━━━━━━━━━━━━━━━━━\u001b[0m \u001b[32m40.4/40.4 kB\u001b[0m \u001b[31m1.3 MB/s\u001b[0m eta \u001b[36m0:00:00\u001b[0m\n",
      "\u001b[?25hInstalling collected packages: exifread\n",
      "Successfully installed exifread-3.0.0\n"
     ]
    }
   ],
   "source": [
    "#(과제) 아래에 코드를 완성하여 제출하시오.\n",
    "!pip install exifread\n",
    "import exifread"
   ]
  },
  {
   "cell_type": "markdown",
   "metadata": {
    "id": "5iGNcRmy5--N"
   },
   "source": [
    "### 설치된 모듈 확인\n",
    "\n",
    "아래의 셀은 설치된 모듈을 버전까지 쉽게 확인할 수 있도록 코딩한 것입니다."
   ]
  },
  {
   "cell_type": "code",
   "execution_count": null,
   "metadata": {
    "colab": {
     "base_uri": "https://localhost:8080/"
    },
    "executionInfo": {
     "elapsed": 10729,
     "status": "ok",
     "timestamp": 1693306571125,
     "user": {
      "displayName": "Kiehyun Park",
      "userId": "11752785994579589476"
     },
     "user_tz": -540
    },
    "id": "OCLbUufP6GFF",
    "outputId": "c3118cfc-c536-46e7-dfdb-83adef8f8f8d"
   },
   "outputs": [
    {
     "name": "stdout",
     "output_type": "stream",
     "text": [
      "******** numpy module is already installed.\n",
      "******** matplotlib module is already installed.\n",
      "******** astropy module is already installed.\n",
      "**** version_information module is now being installed.\n",
      "############################################################\n",
      "This notebook was generated at 2023-08-29 10:56:11 (UTC = GMT+0000) \n",
      "0 Python     3.10.12 64bit [GCC 11.4.0]\n",
      "1 IPython    7.34.0\n",
      "2 OS         Linux 5.15.109+ x86_64 with glibc2.35\n",
      "3 numpy      1.23.5\n",
      "4 matplotlib 3.7.1\n",
      "5 astropy    5.3.2\n",
      "6 version_information 1.0.4\n"
     ]
    }
   ],
   "source": [
    "import importlib, sys, subprocess\n",
    "packages = \"numpy, matplotlib, astropy, version_information\" # required modules\n",
    "pkgs = packages.split(\", \")\n",
    "for pkg in pkgs :\n",
    "    if not importlib.util.find_spec(pkg):\n",
    "        subprocess.check_call([sys.executable, '-m', 'pip', 'install', pkg, '-q']) # pip install\n",
    "        #subprocess.check_call([sys.executable, '-m', 'conda', 'install', pkg, ]) # conda install\n",
    "        print(f\"**** {pkg} module is now being installed.\")\n",
    "    else:\n",
    "        print(f\"******** {pkg} module is already installed.\")\n",
    "print(\"#\"*60)\n",
    "%load_ext version_information\n",
    "import time\n",
    "now = time.strftime(\"%Y-%m-%d %H:%M:%S (%Z = GMT%z)\")\n",
    "print(f\"This notebook was generated at {now} \")\n",
    "\n",
    "vv = %version_information {packages}\n",
    "for i, pkg in enumerate(vv.packages):\n",
    "    print(f\"{i} {pkg[0]:10s} {pkg[1]:s}\")"
   ]
  }
 ],
 "metadata": {
  "colab": {
   "provenance": [],
   "toc_visible": true
  },
  "kernelspec": {
   "display_name": "astro_Python_env",
   "language": "python",
   "name": "python3"
  },
  "language_info": {
   "name": "python",
   "version": "3.12.7"
  }
 },
 "nbformat": 4,
 "nbformat_minor": 0
}
