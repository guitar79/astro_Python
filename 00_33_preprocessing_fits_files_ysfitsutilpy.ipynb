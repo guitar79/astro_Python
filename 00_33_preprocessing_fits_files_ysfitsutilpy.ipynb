{
 "cells": [
  {
   "cell_type": "markdown",
   "metadata": {
    "id": "hgwkawzGMlms"
   },
   "source": [
    "# CCD 관측 자료 전처리 (ysfitsutilpy)\n"
   ]
  },
  {
   "cell_type": "markdown",
   "metadata": {
    "id": "UmuZxqwBeXAO"
   },
   "source": [
    "## 데이터 저장"
   ]
  },
  {
   "cell_type": "markdown",
   "metadata": {
    "id": "XpWfsBUTR4iI"
   },
   "source": [
    "### 데이터 저장 폴더 생성\n",
    "\n",
    "데이터를 저장할 폴더를 \"GSHS_Photometry\" 라는 이름으로 생성해 보겠습니다.\n",
    "\n",
    "* 만약 리눅스 시스템 이라면 shell 명령어로 가능한데, \"!\"를 붙이면 shell 명령어를 실행할 수 있습니다.\n",
    "> !mkdir GSHS_Photometry\n",
    "\n",
    "아래 코드를 실행하면 OS의 영향을 받지 않기 위하여 pathlib을 사용하여 폴더를 생성할 수 있습니다."
   ]
  },
  {
   "cell_type": "code",
   "execution_count": 1,
   "metadata": {
    "colab": {
     "base_uri": "https://localhost:8080/"
    },
    "executionInfo": {
     "elapsed": 18,
     "status": "ok",
     "timestamp": 1727326195570,
     "user": {
      "displayName": "Kiehyun Park",
      "userId": "11752785994579589476"
     },
     "user_tz": -540
    },
    "id": "kVrhDAHhTQsV",
    "outputId": "018d068c-a064-40a6-b15f-eb598353e7b2"
   },
   "outputs": [
    {
     "name": "stdout",
     "output_type": "stream",
     "text": [
      "BASEPATH: .\n",
      "GSHS_Photometry is already exist...\n"
     ]
    }
   ],
   "source": [
    "import os\n",
    "from pathlib import Path\n",
    "BASEPATH = Path(\"./\")\n",
    "save_dir_name = \"GSHS_Photometry\"\n",
    "print(f\"BASEPATH: {BASEPATH}\")\n",
    "\n",
    "if not (BASEPATH/save_dir_name).exists():\n",
    "    os.mkdir(str(BASEPATH/save_dir_name))\n",
    "    print (f\"{str(BASEPATH/save_dir_name)} is created...\")\n",
    "else :\n",
    "    print (f\"{str(BASEPATH/save_dir_name)} is already exist...\")"
   ]
  },
  {
   "cell_type": "markdown",
   "metadata": {
    "id": "HdF745n1TlwX"
   },
   "source": [
    "### CCD 관측 데이터 다운로드\n",
    "\n",
    "경기과학고등학교 천문대에서 CCD로 관측한 이미지 (예제 fits files)을 구글 드라이브에 저장해 놓았습니다. wget 명령을 사용하여 다음과 같이 구글 코랩 [작업 영역]에 다운로드 받아 보겠습니다.\n",
    "\n",
    "*   bias frame : 5장\n",
    "*   dark frame : 140sec 5장, 180sec 4장\n",
    "*   flat frame : 5장\n",
    "*   object frame : M15 60sec 5장, M35 140sec 10장\n",
    "\n",
    "파일의 갯수가 많아서 하나의 압축파일로 저장해 놓은 것을 받아 보도록 하겠습니다.\n",
    "\n"
   ]
  },
  {
   "cell_type": "markdown",
   "metadata": {
    "id": "93vjN01ESB_z"
   },
   "source": [
    "### gdown\n",
    "\n",
    "구글 드라이브에 저장된 파일을 wget으로 다운받는 경우 용량의 제한이 있습니다. 이를 해결할 수 있는 방법 중의 하나가 gdown을 이용하는 것입니다."
   ]
  },
  {
   "cell_type": "code",
   "execution_count": 3,
   "metadata": {
    "colab": {
     "base_uri": "https://localhost:8080/"
    },
    "executionInfo": {
     "elapsed": 12090,
     "status": "ok",
     "timestamp": 1727326207653,
     "user": {
      "displayName": "Kiehyun Park",
      "userId": "11752785994579589476"
     },
     "user_tz": -540
    },
    "id": "VMph1HYMTBee",
    "outputId": "fa0ba314-1d51-4a35-e9fb-44a913c9387f"
   },
   "outputs": [
    {
     "name": "stdout",
     "output_type": "stream",
     "text": [
      "Downloading...\n",
      "From (original): https://drive.google.com/uc?id=1o2YV3Z_G5BIl-MtKg9ng2lTV6W3eHMmU\n",
      "From (redirected): https://drive.google.com/uc?id=1o2YV3Z_G5BIl-MtKg9ng2lTV6W3eHMmU&confirm=t&uuid=f56ad0bb-2156-47ee-b441-f9c7260b028f\n",
      "To: /home/guitar79/Desktop/KBox/Github/astro_Python/GSHS_Photometry/preprocessing_example.zip\n",
      "100%|████████████████████████████████████████| 187M/187M [02:51<00:00, 1.09MB/s]\n"
     ]
    }
   ],
   "source": [
    "fname = \"preprocessing_example.zip\"\n",
    "fid = \"1o2YV3Z_G5BIl-MtKg9ng2lTV6W3eHMmU\"\n",
    "\n",
    "# gdown을 이용(나의 구글드라이브에서 공유한 파일을 다운로드)\n",
    "!gdown {fid} -O {save_dir_name}/{fname}"
   ]
  },
  {
   "cell_type": "markdown",
   "metadata": {
    "id": "xhDbTS3TOqDn"
   },
   "source": [
    "### 데이터 확인\n",
    "\n",
    "* 코랩을 사용할 경우에는 오른쪽의 [파일]창에서 확인할 수 있습니다.\n",
    "* linux shell 명령어로 다음과 같이 확인해 볼 수 있습니다.\n",
    "> ls -l preprocessing_example\n",
    "\n",
    "OS의 영향을 받지 않고 파이썬으로 확인하는 방법은 아래와 같이 하면 됩니다."
   ]
  },
  {
   "cell_type": "code",
   "execution_count": 4,
   "metadata": {
    "colab": {
     "base_uri": "https://localhost:8080/"
    },
    "executionInfo": {
     "elapsed": 6,
     "status": "ok",
     "timestamp": 1727326207653,
     "user": {
      "displayName": "Kiehyun Park",
      "userId": "11752785994579589476"
     },
     "user_tz": -540
    },
    "id": "ORaPX_7oOvwm",
    "outputId": "a35f4983-3a09-4d1f-9ae2-96f1bf0a5e0d"
   },
   "outputs": [
    {
     "name": "stdout",
     "output_type": "stream",
     "text": [
      "fpaths: [PosixPath('GSHS_Photometry/CY-AQR_result_photometry.zip'), PosixPath('GSHS_Photometry/preprocessing_example.zip')]\n",
      "len(fpaths): 2\n"
     ]
    }
   ],
   "source": [
    "from pathlib import Path\n",
    "fpaths = sorted(list((BASEPATH/save_dir_name).glob('*.zip')))\n",
    "print(f\"fpaths: {fpaths}\")\n",
    "print(f\"len(fpaths): {len(fpaths)}\")"
   ]
  },
  {
   "cell_type": "markdown",
   "metadata": {
    "id": "Utlh1fASOwPw"
   },
   "source": [
    "### 압축 풀기\n"
   ]
  },
  {
   "cell_type": "code",
   "execution_count": 5,
   "metadata": {
    "colab": {
     "base_uri": "https://localhost:8080/"
    },
    "executionInfo": {
     "elapsed": 5011,
     "status": "ok",
     "timestamp": 1727326212661,
     "user": {
      "displayName": "Kiehyun Park",
      "userId": "11752785994579589476"
     },
     "user_tz": -540
    },
    "id": "kkYrrYNtPDlE",
    "outputId": "daccaddf-fef6-42fd-f5c7-ca0e77d9935e"
   },
   "outputs": [
    {
     "name": "stdout",
     "output_type": "stream",
     "text": [
      "GSHS_Photometry/CY-AQR_result_photometry.zip is unpacked to GSHS_Photometry\n"
     ]
    }
   ],
   "source": [
    "import shutil\n",
    "\n",
    "shutil.unpack_archive(str(fpaths[0]), str(BASEPATH/save_dir_name))\n",
    "print(str(fpaths[0]), \"is unpacked to\", str(BASEPATH/save_dir_name))"
   ]
  },
  {
   "cell_type": "code",
   "execution_count": 6,
   "metadata": {
    "id": "pBR0lvdpPivc"
   },
   "outputs": [],
   "source": [
    "# from zipfile import ZipFile\n",
    "# with ZipFile(str(fpaths[0]), 'r') as zip_ref:\n",
    "#     zip_ref.extractall(str(BASEPATH/save_dir_name))\n",
    "#     print(str(fpath[0]), \"is unpacked to\", str(BASEPATH/save_dir_name))"
   ]
  },
  {
   "cell_type": "markdown",
   "metadata": {
    "id": "gPdp1ZJxPU7t"
   },
   "source": [
    "### 압축 해제된 파일 확인\n",
    "\n",
    "shell 명령어로 파일이 생성되었는지 확인해 보자.\n",
    "역시 마찬가지로 이 창 오른쪽에서 [파일] 목록을 확인해 볼 수 있습니다."
   ]
  },
  {
   "cell_type": "code",
   "execution_count": 7,
   "metadata": {
    "colab": {
     "base_uri": "https://localhost:8080/"
    },
    "executionInfo": {
     "elapsed": 17,
     "status": "ok",
     "timestamp": 1727326212662,
     "user": {
      "displayName": "Kiehyun Park",
      "userId": "11752785994579589476"
     },
     "user_tz": -540
    },
    "id": "Y5QVG6TxPVsg",
    "outputId": "c9a79ecf-7a38-4cda-c345-463a5f9bae91"
   },
   "outputs": [
    {
     "name": "stdout",
     "output_type": "stream",
     "text": [
      "fpaths: [PosixPath('GSHS_Photometry/241GERMANIA_LIGHT_R_2023-11-07-18-38-15_150sec_GSON300_STF-8300M_-19c_1bin.fit'), PosixPath('GSHS_Photometry/46P-WIRTANEN_LIGHT_R_2018-12-13-17-46-15_60sec_FSQ106ED-x73_QSI683ws_-30c_2bin.fit'), PosixPath('GSHS_Photometry/IC2167_LIGHT_L_2023-03-18-13-02-59_600sec_SVX80T-x80_QSI683ws_-20c_1bin.fits'), PosixPath('GSHS_Photometry/IC434_Light_H_2019-10-08-09-38-54_900sec_GSON300_QSI683ws_-15C_1bin.fit'), PosixPath('GSHS_Photometry/M13_Light_L_2021-06-04-13-10-16_090sec_TEC140x75_STL-11000M_-19C_1bin.fit'), PosixPath('GSHS_Photometry/NGC6992_LIGHT_L_2023-06-23-15-37-09_600sec_SVX80T-x80_QSI683ws_-20c_1bin.fits'), PosixPath('GSHS_Photometry/TrES-4b_LIGHT_R_2024-06-13-15-09-52_120sec_GSON300_STF-8300M_-10c_1bin.fit')]\n",
      "len(fpaths): 7\n"
     ]
    }
   ],
   "source": [
    "fpaths = sorted(list((BASEPATH/save_dir_name).glob('*.fit*')))\n",
    "print(f\"fpaths: {fpaths}\")\n",
    "print(f\"len(fpaths): {len(fpaths)}\")"
   ]
  },
  {
   "cell_type": "markdown",
   "metadata": {
    "id": "3mgWNUWIxU33"
   },
   "source": [
    "## fits file display"
   ]
  },
  {
   "cell_type": "markdown",
   "metadata": {
    "id": "wLS9ZbdGxRMc"
   },
   "source": [
    "### zimshow 함수\n",
    "\n",
    "fits file을 화면에 display 할때 아래의 함수를 사용하면 매우 유용합니다."
   ]
  },
  {
   "cell_type": "code",
   "execution_count": 8,
   "metadata": {
    "id": "CMboUUuIxRxZ"
   },
   "outputs": [],
   "source": [
    "from warnings import warn\n",
    "from astropy.visualization import (\n",
    "    ImageNormalize,\n",
    "    LinearStretch,\n",
    "    ZScaleInterval,\n",
    "    simple_norm,\n",
    ")\n",
    "\n",
    "def znorm(image, stretch=LinearStretch(), **kwargs):\n",
    "    return ImageNormalize(image, interval=ZScaleInterval(**kwargs), stretch=stretch)\n",
    "\n",
    "def zimshow(\n",
    "    ax,\n",
    "    image,\n",
    "    stretch=LinearStretch(),\n",
    "    cmap=None,\n",
    "    origin=\"lower\",\n",
    "    zscale_kw={},\n",
    "    **kwargs\n",
    "):\n",
    "    im = ax.imshow(\n",
    "        image,\n",
    "        norm=znorm(image, stretch=stretch, **zscale_kw),\n",
    "        origin=origin,\n",
    "        cmap=cmap,\n",
    "        **kwargs\n",
    "    )\n",
    "    return im\n",
    "\n",
    "def norm_imshow(\n",
    "    ax,\n",
    "    data,\n",
    "    origin=\"lower\",\n",
    "    stretch=\"linear\",\n",
    "    power=1.0,\n",
    "    asinh_a=0.1,\n",
    "    min_cut=None,\n",
    "    max_cut=None,\n",
    "    min_percent=None,\n",
    "    max_percent=None,\n",
    "    percent=None,\n",
    "    clip=True,\n",
    "    log_a=1000,\n",
    "    invalid=-1.0,\n",
    "    zscale=False,\n",
    "    vmin=None,\n",
    "    vmax=None,\n",
    "    **kwargs\n",
    "):\n",
    "    \"\"\"Do normalization and do imshow\"\"\"\n",
    "    if vmin is not None and min_cut is not None:\n",
    "        warn(\"vmin will override min_cut.\")\n",
    "\n",
    "    if vmax is not None and max_cut is not None:\n",
    "        warn(\"vmax will override max_cut.\")\n",
    "\n",
    "    if zscale:\n",
    "        zs = ImageNormalize(data, interval=ZScaleInterval())\n",
    "        min_cut = vmin = zs.vmin\n",
    "        max_cut = vmax = zs.vmax\n",
    "\n",
    "    if vmin is not None or vmax is not None:\n",
    "        im = ax.imshow(data, origin=origin, vmin=vmin, vmax=vmax, **kwargs)\n",
    "    else:\n",
    "        im = ax.imshow(\n",
    "            data,\n",
    "            origin=origin,\n",
    "            norm=simple_norm(\n",
    "                data=data,\n",
    "                stretch=stretch,\n",
    "                power=power,\n",
    "                asinh_a=asinh_a,\n",
    "                min_cut=min_cut,\n",
    "                max_cut=max_cut,\n",
    "                min_percent=min_percent,\n",
    "                max_percent=max_percent,\n",
    "                percent=percent,\n",
    "                clip=clip,\n",
    "                log_a=log_a,\n",
    "                invalid=invalid\n",
    "            ),\n",
    "            **kwargs)\n",
    "    return im"
   ]
  },
  {
   "cell_type": "markdown",
   "metadata": {
    "id": "i--d62oAxN4P"
   },
   "source": [
    "### display 함수"
   ]
  },
  {
   "cell_type": "code",
   "execution_count": 9,
   "metadata": {
    "id": "zhdCcl-JxOZL"
   },
   "outputs": [],
   "source": [
    "from astropy.nddata import Cutout2D\n",
    "import matplotlib.patches as patches\n",
    "\n",
    "def plot_image_with_cutouts(all_data, cutsizes=101):\n",
    "    fig_set = plt.figure(figsize=(16, 8))\n",
    "\n",
    "    def add_subplot(position, data, title):\n",
    "        ax = plt.subplot2grid((2,4), position, fig=fig_set)\n",
    "        im = zimshow(ax, data, origin='lower')\n",
    "        ax.set_ylabel('pixels')\n",
    "        ax.grid(ls=':')\n",
    "        ax.set_title(title, fontsize=8)\n",
    "        plt.colorbar(im, ax=ax, fraction=0.0455, pad=0.04)\n",
    "        return im\n",
    "\n",
    "    def add_rectangle(x, y, label):\n",
    "        rect = patches.Rectangle((x, y), cutsizes,\n",
    "                                cutsizes, linewidth=1,\n",
    "                                edgecolor='r', facecolor='none')\n",
    "        ax1.add_patch(rect)\n",
    "        ax1.text(x, y, label)\n",
    "\n",
    "    # 전체 이미지\n",
    "    ax1 = plt.subplot2grid((2,4), (0,0), colspan=2, rowspan=2, fig=fig_set)\n",
    "    im1 = zimshow(ax1, all_data, origin='lower', cmap='viridis')\n",
    "    ax1.set_title('The whole image', fontsize=9)\n",
    "    plt.colorbar(im1, ax=ax1, fraction=0.0455, pad=0.04)\n",
    "\n",
    "    # 4개의 부분 이미지\n",
    "    positions = [(0,2), (0,3), (1,2), (1,3)]\n",
    "    corners = [(500, all_data.shape[0] - 500),\n",
    "                (all_data.shape[1] - 500, all_data.shape[0] - 500),\n",
    "                (500, 500),\n",
    "                (all_data.shape[1] - 500, 500),\n",
    "                ]\n",
    "\n",
    "    for i, (pos, corner) in enumerate(zip(positions, corners), 1):\n",
    "        cut_hdu = Cutout2D(data=all_data, position=corner, size=(cutsizes, cutsizes))\n",
    "        add_subplot(pos, cut_hdu.data, f'{i}/4 image area')\n",
    "        add_rectangle(corner[0], corner[1], f\"{i}/4\")\n",
    "\n",
    "    plt.tight_layout()\n",
    "    plt.show()\n",
    "\n",
    "# 함수 사용 예\n",
    "# plot_image_with_cutouts(bias.data)"
   ]
  },
  {
   "cell_type": "markdown",
   "metadata": {
    "id": "dP9fVdkL9JHQ"
   },
   "source": [
    "## ysfitsutilpy"
   ]
  },
  {
   "cell_type": "code",
   "execution_count": 10,
   "metadata": {
    "colab": {
     "base_uri": "https://localhost:8080/"
    },
    "executionInfo": {
     "elapsed": 15,
     "status": "ok",
     "timestamp": 1727326212662,
     "user": {
      "displayName": "Kiehyun Park",
      "userId": "11752785994579589476"
     },
     "user_tz": -540
    },
    "id": "Q9B6gRbM9Mvh",
    "outputId": "a6045865-5740-40e2-b628-072cc72a0e5f"
   },
   "outputs": [
    {
     "name": "stdout",
     "output_type": "stream",
     "text": [
      "Help on package ysfitsutilpy:\n",
      "\n",
      "NAME\n",
      "    ysfitsutilpy\n",
      "\n",
      "PACKAGE CONTENTS\n",
      "    airmass\n",
      "    astroim\n",
      "    astrometry\n",
      "    combutil\n",
      "    filemgmt\n",
      "    fitting\n",
      "    hduutil\n",
      "    imutil (package)\n",
      "    misc\n",
      "    preproc\n",
      "    tests (package)\n",
      "\n",
      "SUBMODULES\n",
      "    docstrings\n",
      "    imsmooth\n",
      "    util_comb\n",
      "    util_lmedian\n",
      "    util_reject\n",
      "\n",
      "FUNCTIONS\n",
      "    warn(...)\n",
      "        Issue a warning, or maybe ignore it or raise an exception.\n",
      "\n",
      "        message\n",
      "          Text of the warning message.\n",
      "        category\n",
      "          The Warning category subclass. Defaults to UserWarning.\n",
      "        stacklevel\n",
      "          How far up the call stack to make this warning appear. A value of 2 for\n",
      "          example attributes the warning to the caller of the code calling warn().\n",
      "        source\n",
      "          If supplied, the destroyed object which emitted a ResourceWarning\n",
      "        skip_file_prefixes\n",
      "          An optional tuple of module filename prefixes indicating frames to skip\n",
      "          during stacklevel computations for stack frame attribution.\n",
      "\n",
      "DATA\n",
      "    ASTROPY_CCD_TYPES = (<class 'astropy.nddata.ccddata.CCDData'>, <class ...\n",
      "    LACOSMIC_CRREJ = {'cleantype': 'medmask', 'fs': 'median', 'inbkg': Non...\n",
      "    LACOSMIC_KEYS = {'cleantype': 'medmask', 'fsmode': 'median', 'inbkg': ...\n",
      "    MEDCOMB_KEYS_FLT32 = {'combine_method': 'median', 'combine_uncertainty...\n",
      "    MEDCOMB_KEYS_INT = {'combine_method': 'median', 'combine_uncertainty_f...\n",
      "    SUMCOMB_KEYS_INT = {'combine_method': 'sum', 'combine_uncertainty_func...\n",
      "    __warningregistry__ = {'version': 211}\n",
      "\n",
      "FILE\n",
      "    /home/guitar79/Downloads/ysfitsutilpy/ysfitsutilpy/__init__.py\n",
      "\n",
      "\n"
     ]
    }
   ],
   "source": [
    "import ysfitsutilpy as yfu\n",
    "\n",
    "help(yfu)"
   ]
  },
  {
   "cell_type": "markdown",
   "metadata": {
    "id": "uxl4pU3zsXvE"
   },
   "source": []
  },
  {
   "cell_type": "markdown",
   "metadata": {
    "id": "U2-uEtxonH6N"
   },
   "source": [
    "### make fits file summary"
   ]
  },
  {
   "cell_type": "code",
   "execution_count": 11,
   "metadata": {
    "colab": {
     "base_uri": "https://localhost:8080/"
    },
    "executionInfo": {
     "elapsed": 11,
     "status": "ok",
     "timestamp": 1727326212662,
     "user": {
      "displayName": "Kiehyun Park",
      "userId": "11752785994579589476"
     },
     "user_tz": -540
    },
    "id": "xd9UgdGVnN3t",
    "outputId": "48a22bc1-a327-4b8d-f5d3-a68d493934f8"
   },
   "outputs": [
    {
     "name": "stdout",
     "output_type": "stream",
     "text": [
      "len(summary): 7\n",
      "tyep(summary): <class 'pandas.core.frame.DataFrame'>\n",
      "summary:                                                 file  filesize  SIMPLE  \\\n",
      "0  GSHS_Photometry/241GERMANIA_LIGHT_R_2023-11-07...  16980480    True   \n",
      "1  GSHS_Photometry/46P-WIRTANEN_LIGHT_R_2018-12-1...   4176000    True   \n",
      "2  GSHS_Photometry/IC2167_LIGHT_L_2023-03-18-13-0...  16706880    True   \n",
      "3  GSHS_Photometry/IC434_Light_H_2019-10-08-09-38...  16669440    True   \n",
      "4  GSHS_Photometry/M13_Light_L_2021-06-04-13-10-1...  21430080    True   \n",
      "5  GSHS_Photometry/NGC6992_LIGHT_L_2023-06-23-15-...  16706880    True   \n",
      "6  GSHS_Photometry/TrES-4b_LIGHT_R_2024-06-13-15-...  33958080    True   \n",
      "\n",
      "   BITPIX  NAXIS  NAXIS1  NAXIS2 EXTEND    BZERO     IMAGETYP  ...    FOCTEMP  \\\n",
      "0      16      2    3352    2532   True  32768.0        LIGHT  ...   6.562500   \n",
      "1      16      2    1663    1252   True  32768.0        LIGHT  ...        NaN   \n",
      "2      16      2    3326    2504   True  32768.0        LIGHT  ...   5.800000   \n",
      "3      16      2    3326    2504   True  32768.0  Light frame  ...   9.058333   \n",
      "4      16      2    4008    2672   True  32768.0        LIGHT  ...  18.500000   \n",
      "5      16      2    3326    2504   True  32768.0        LIGHT  ...  20.100000   \n",
      "6     -32      2    3352    2532   None      NaN        LIGHT  ...  20.750000   \n",
      "\n",
      "   FOCUSTEM  ROWORDER EQUINOX                   SWCREATE    CCDNAME  \\\n",
      "0    6.5625  TOP-DOWN  2000.0  N.I.N.A. 2.3.2.3002 (x64)  STF-8300M   \n",
      "1  -13.6250  TOP-DOWN  2000.0                       None   QSI683ws   \n",
      "2    5.8000  TOP-DOWN  2000.0        N.I.N.A. 2.1.1.3006   QSI683ws   \n",
      "3       NaN  TOP-DOWN  2000.0                       None       None   \n",
      "4       NaN  TOP-DOWN  2000.0                       None       None   \n",
      "5   20.1000  TOP-DOWN  2000.0        N.I.N.A. 2.3.0.2001   QSI683ws   \n",
      "6   20.7500  TOP-DOWN  2000.0  N.I.N.A. 3.1.0.9001 (x64)  STF-8300M   \n",
      "\n",
      "          OPTIC  APATURE  PIXSCALE  FLIPSTAT  \n",
      "0       GSON300    300.0  0.928193            \n",
      "1  FSQ106ED-x73    106.0  5.757720            \n",
      "2    SVX80T-x80     80.0  2.900602            \n",
      "3       GSON300      NaN  0.920665      None  \n",
      "4     TEC140x75      NaN  2.498290      None  \n",
      "5    SVX80T-x80     80.0  2.900602            \n",
      "6       GSON300    300.0  0.928193            \n",
      "\n",
      "[7 rows x 55 columns]\n"
     ]
    }
   ],
   "source": [
    "import ysfitsutilpy as yfu\n",
    "\n",
    "summary = yfu.make_summary(BASEPATH/save_dir_name/\"*.fit*\",\n",
    "                           verbose = False,\n",
    "                           )\n",
    "if summary is not None :\n",
    "    print(\"len(summary):\", len(summary))\n",
    "    print(\"tyep(summary):\", type(summary))\n",
    "    print(\"summary:\", summary)\n",
    "    #print(summary[\"file\"][0])"
   ]
  },
  {
   "cell_type": "markdown",
   "metadata": {
    "id": "EO475o4L3tOt"
   },
   "source": [
    "### BIAS\n"
   ]
  },
  {
   "cell_type": "code",
   "execution_count": 12,
   "metadata": {
    "colab": {
     "base_uri": "https://localhost:8080/"
    },
    "executionInfo": {
     "elapsed": 1306,
     "status": "ok",
     "timestamp": 1727326213961,
     "user": {
      "displayName": "Kiehyun Park",
      "userId": "11752785994579589476"
     },
     "user_tz": -540
    },
    "id": "zIwgtGtYfEf9",
    "outputId": "b4378160-3090-4500-84f0-ab5e482e0313"
   },
   "outputs": [
    {
     "name": "stdout",
     "output_type": "stream",
     "text": [
      "<class 'pandas.core.series.Series'>\n",
      "0\n",
      "Series([], Name: file, dtype: object)\n"
     ]
    },
    {
     "ename": "IndexError",
     "evalue": "list index out of range",
     "output_type": "error",
     "traceback": [
      "\u001b[0;31m---------------------------------------------------------------------------\u001b[0m",
      "\u001b[0;31mIndexError\u001b[0m                                Traceback (most recent call last)",
      "Cell \u001b[0;32mIn[12], line 8\u001b[0m\n\u001b[1;32m      5\u001b[0m \u001b[38;5;28mprint\u001b[39m(\u001b[38;5;28mlen\u001b[39m(bias_fits))\n\u001b[1;32m      6\u001b[0m \u001b[38;5;28mprint\u001b[39m(bias_fits)\n\u001b[0;32m----> 8\u001b[0m bias_comb \u001b[38;5;241m=\u001b[39m yfu\u001b[38;5;241m.\u001b[39mgroup_combine(\n\u001b[1;32m      9\u001b[0m                 bias_fits\u001b[38;5;241m.\u001b[39mtolist(),\n\u001b[1;32m     10\u001b[0m                 type_key \u001b[38;5;241m=\u001b[39m [\u001b[38;5;124m\"\u001b[39m\u001b[38;5;124mIMAGETYP\u001b[39m\u001b[38;5;124m\"\u001b[39m],\n\u001b[1;32m     11\u001b[0m                 type_val \u001b[38;5;241m=\u001b[39m [\u001b[38;5;124m\"\u001b[39m\u001b[38;5;124mBIAS\u001b[39m\u001b[38;5;124m\"\u001b[39m],\n\u001b[1;32m     12\u001b[0m                 group_key \u001b[38;5;241m=\u001b[39m [\u001b[38;5;124m\"\u001b[39m\u001b[38;5;124mEXPTIME\u001b[39m\u001b[38;5;124m\"\u001b[39m],\n\u001b[1;32m     13\u001b[0m                 fmt \u001b[38;5;241m=\u001b[39m \u001b[38;5;124m\"\u001b[39m\u001b[38;5;124mmaster_bias.fits\u001b[39m\u001b[38;5;124m\"\u001b[39m,  \u001b[38;5;66;03m# output file name format\u001b[39;00m\n\u001b[1;32m     14\u001b[0m                 outdir \u001b[38;5;241m=\u001b[39m BASEPATH\u001b[38;5;241m/\u001b[39msave_dir_name,  \u001b[38;5;66;03m# output directory (will automatically be made if not exist)\u001b[39;00m\n\u001b[1;32m     15\u001b[0m                 combine \u001b[38;5;241m=\u001b[39m \u001b[38;5;124m\"\u001b[39m\u001b[38;5;124mmed\u001b[39m\u001b[38;5;124m\"\u001b[39m,\n\u001b[1;32m     16\u001b[0m                 memlimit \u001b[38;5;241m=\u001b[39m \u001b[38;5;241m2.e+10\u001b[39m,\n\u001b[1;32m     17\u001b[0m                 verbose \u001b[38;5;241m=\u001b[39m \u001b[38;5;28;01mTrue\u001b[39;00m,\n\u001b[1;32m     18\u001b[0m             )\n",
      "File \u001b[0;32m~/Downloads/ysfitsutilpy/ysfitsutilpy/imutil/imcombine.py:158\u001b[0m, in \u001b[0;36mgroup_combine\u001b[0;34m(inputs, type_key, type_val, group_key, fmt, outdir, verbose, **kwargs)\u001b[0m\n\u001b[1;32m    156\u001b[0m \u001b[38;5;28;01melse\u001b[39;00m:\n\u001b[1;32m    157\u001b[0m     inputs \u001b[38;5;241m=\u001b[39m listify(inputs)\n\u001b[0;32m--> 158\u001b[0m     load_fits \u001b[38;5;241m=\u001b[39m \u001b[38;5;28;01mFalse\u001b[39;00m \u001b[38;5;28;01mif\u001b[39;00m \u001b[38;5;28misinstance\u001b[39m(inputs[\u001b[38;5;241m0\u001b[39m], CCDData) \u001b[38;5;28;01melse\u001b[39;00m \u001b[38;5;28;01mTrue\u001b[39;00m\n\u001b[1;32m    159\u001b[0m     \u001b[38;5;66;03m# Assume all are CCDData if the first element is CCDData\u001b[39;00m\n\u001b[1;32m    160\u001b[0m     summary \u001b[38;5;241m=\u001b[39m make_summary(inputs, verbose\u001b[38;5;241m=\u001b[39mverbose \u001b[38;5;241m>\u001b[39m\u001b[38;5;241m=\u001b[39m \u001b[38;5;241m2\u001b[39m)\n",
      "\u001b[0;31mIndexError\u001b[0m: list index out of range"
     ]
    }
   ],
   "source": [
    "bias_fits = summary.loc[summary[\"IMAGETYP\"] == \"BIAS\"].copy()\n",
    "bias_fits.reset_index(inplace=True)\n",
    "bias_fits = bias_fits[\"file\"]\n",
    "print(type(bias_fits))\n",
    "print(len(bias_fits))\n",
    "print(bias_fits)\n",
    "\n",
    "bias_comb = yfu.group_combine(\n",
    "                bias_fits.tolist(),\n",
    "                type_key = [\"IMAGETYP\"],\n",
    "                type_val = [\"BIAS\"],\n",
    "                group_key = [\"EXPTIME\"],\n",
    "                fmt = \"master_bias.fits\",  # output file name format\n",
    "                outdir = BASEPATH/save_dir_name,  # output directory (will automatically be made if not exist)\n",
    "                combine = \"med\",\n",
    "                memlimit = 2.e+10,\n",
    "                verbose = True,\n",
    "            )"
   ]
  },
  {
   "cell_type": "markdown",
   "metadata": {
    "id": "yjVKLth6HQec"
   },
   "source": [
    "#### display master bias"
   ]
  },
  {
   "cell_type": "code",
   "execution_count": null,
   "metadata": {
    "colab": {
     "base_uri": "https://localhost:8080/",
     "height": 728,
     "output_embedded_package_id": "13m7baKaRz5zr0FvvyzFfOSMHmp84XWus"
    },
    "executionInfo": {
     "elapsed": 16990,
     "status": "ok",
     "timestamp": 1727326230949,
     "user": {
      "displayName": "Kiehyun Park",
      "userId": "11752785994579589476"
     },
     "user_tz": -540
    },
    "id": "H-61cS38HP-Q",
    "outputId": "4d82d238-c560-4e56-8859-e4302367d3fa"
   },
   "outputs": [
    {
     "data": {
      "text/plain": [
       "Output hidden; open in https://colab.research.google.com to view."
      ]
     },
     "metadata": {},
     "output_type": "display_data"
    }
   ],
   "source": [
    "from astropy.io import fits\n",
    "\n",
    "# 함수 사용 예\n",
    "hdul = fits.open(BASEPATH/save_dir_name/\"master_bias.fits\")\n",
    "\n",
    "plot_image_with_cutouts(hdul[0].data)"
   ]
  },
  {
   "cell_type": "markdown",
   "metadata": {
    "id": "q2S18CnnP2bs"
   },
   "source": [
    "### DARK"
   ]
  },
  {
   "cell_type": "code",
   "execution_count": null,
   "metadata": {
    "colab": {
     "base_uri": "https://localhost:8080/"
    },
    "executionInfo": {
     "elapsed": 6,
     "status": "ok",
     "timestamp": 1727326230949,
     "user": {
      "displayName": "Kiehyun Park",
      "userId": "11752785994579589476"
     },
     "user_tz": -540
    },
    "id": "Xrws5TSOqksa",
    "outputId": "3c670741-365b-4bea-e020-15c6c350f492"
   },
   "outputs": [
    {
     "name": "stdout",
     "output_type": "stream",
     "text": [
      "<class 'pandas.core.series.Series'>\n",
      "9\n",
      "0    preprocessing_example/dark-e-2X2-140sec-011.fit\n",
      "1    preprocessing_example/dark-e-2X2-140sec-012.fit\n",
      "2    preprocessing_example/dark-e-2X2-140sec-013.fit\n",
      "3    preprocessing_example/dark-e-2X2-140sec-014.fit\n",
      "4    preprocessing_example/dark-e-2X2-140sec-015.fit\n",
      "5    preprocessing_example/dark-e-2X2-180sec-016.fit\n",
      "6    preprocessing_example/dark-e-2X2-180sec-017.fit\n",
      "7    preprocessing_example/dark-e-2X2-180sec-018.fit\n",
      "8    preprocessing_example/dark-e-2X2-180sec-019.fit\n",
      "Name: file, dtype: object\n",
      "Group and combine by ['EXPTIME'] (total 2 groups)\n",
      "* 140.0... (5 files)\n"
     ]
    },
    {
     "name": "stderr",
     "output_type": "stream",
     "text": [
      "WARNING: FITSFixedWarning: 'datfix' made the change 'Set MJD-OBS to 57804.000000 from DATE-OBS'. [astropy.wcs.wcs]\n",
      "WARNING:astropy:FITSFixedWarning: 'datfix' made the change 'Set MJD-OBS to 57804.000000 from DATE-OBS'.\n"
     ]
    },
    {
     "name": "stdout",
     "output_type": "stream",
     "text": [
      "\tpreprocessing_example/master_dark_140sec.fits\n",
      "* 180.0... (4 files)\n"
     ]
    },
    {
     "name": "stderr",
     "output_type": "stream",
     "text": [
      "WARNING: FITSFixedWarning: 'datfix' made the change 'Set MJD-OBS to 57803.733519 from DATE-OBS'. [astropy.wcs.wcs]\n",
      "WARNING:astropy:FITSFixedWarning: 'datfix' made the change 'Set MJD-OBS to 57803.733519 from DATE-OBS'.\n"
     ]
    },
    {
     "name": "stdout",
     "output_type": "stream",
     "text": [
      "\tpreprocessing_example/master_dark_180sec.fits\n",
      "..................................(dt = 3.496 s) 2024-09-26T04:50:26.545\n"
     ]
    }
   ],
   "source": [
    "dark_fits = summary.loc[summary[\"IMAGETYP\"] == \"DARK\"].copy()\n",
    "dark_fits.reset_index(inplace=True)\n",
    "dark_fits = dark_fits[\"file\"]\n",
    "print(type(dark_fits))\n",
    "print(len(dark_fits))\n",
    "print(dark_fits)\n",
    "\n",
    "# Say dark frames have header OBJECT = \"calib\" && \"IMAGE-TYP\" = \"DARK\"\n",
    "dark_comb = yfu.group_combine(\n",
    "                dark_fits.tolist(),\n",
    "                type_key = [\"IMAGETYP\"],\n",
    "                type_val = [\"DARK\"],\n",
    "                group_key = [\"EXPTIME\"],\n",
    "                fmt = \"master_dark_{:.0f}sec.fits\",  # output file name format\n",
    "                outdir = BASEPATH/save_dir_name,  # output directory (will automatically be made if not exist)\n",
    "                combine = \"med\",\n",
    "                memlimit = 2.e+10,\n",
    "                verbose = True,\n",
    "            )"
   ]
  },
  {
   "cell_type": "markdown",
   "metadata": {
    "id": "PaLqsV1wHxLS"
   },
   "source": [
    "#### display master dark"
   ]
  },
  {
   "cell_type": "code",
   "execution_count": null,
   "metadata": {
    "colab": {
     "base_uri": "https://localhost:8080/",
     "height": 728,
     "output_embedded_package_id": "1O5nJqwpU3pUeCwhTQ0mvOFzZ5Tk7Ux7x"
    },
    "executionInfo": {
     "elapsed": 11237,
     "status": "ok",
     "timestamp": 1727326242183,
     "user": {
      "displayName": "Kiehyun Park",
      "userId": "11752785994579589476"
     },
     "user_tz": -540
    },
    "id": "HeCg2gpbHxnk",
    "outputId": "33b30606-21db-485a-c6c1-69dc664c69bb"
   },
   "outputs": [
    {
     "data": {
      "text/plain": [
       "Output hidden; open in https://colab.research.google.com to view."
      ]
     },
     "metadata": {},
     "output_type": "display_data"
    }
   ],
   "source": [
    "# 함수 사용 예\n",
    "hdul = fits.open(BASEPATH/save_dir_name/\"master_dark_180sec.fits\")\n",
    "\n",
    "plot_image_with_cutouts(hdul[0].data)"
   ]
  },
  {
   "cell_type": "markdown",
   "metadata": {
    "id": "QIZUrxbGTL2d"
   },
   "source": [
    "### FLAT"
   ]
  },
  {
   "cell_type": "code",
   "execution_count": null,
   "metadata": {
    "colab": {
     "base_uri": "https://localhost:8080/"
    },
    "executionInfo": {
     "elapsed": 680,
     "status": "ok",
     "timestamp": 1727326242854,
     "user": {
      "displayName": "Kiehyun Park",
      "userId": "11752785994579589476"
     },
     "user_tz": -540
    },
    "id": "Jx7-dg91v2fh",
    "outputId": "5f23accd-2c6a-46b2-d6b3-c284168e719d"
   },
   "outputs": [
    {
     "name": "stdout",
     "output_type": "stream",
     "text": [
      "<class 'pandas.core.series.Series'>\n",
      "5\n",
      "0    preprocessing_example/flatV-e-2X2-021.fit\n",
      "1    preprocessing_example/flatV-e-2X2-022.fit\n",
      "2    preprocessing_example/flatV-e-2X2-023.fit\n",
      "3    preprocessing_example/flatV-e-2X2-024.fit\n",
      "4    preprocessing_example/flatV-e-2X2-025.fit\n",
      "Name: file, dtype: object\n",
      "Group and combine by ['FILTER'] (total 1 groups)\n",
      "* V... (5 files)\n"
     ]
    },
    {
     "name": "stderr",
     "output_type": "stream",
     "text": [
      "WARNING: FITSFixedWarning: 'datfix' made the change 'Set MJD-OBS to 57804.000000 from DATE-OBS'. [astropy.wcs.wcs]\n",
      "WARNING:astropy:FITSFixedWarning: 'datfix' made the change 'Set MJD-OBS to 57804.000000 from DATE-OBS'.\n",
      "WARNING: FITSFixedWarning: 'datfix' made the change 'Set MJD-OBS to 57804.000000 from DATE-OBS'. [astropy.wcs.wcs]\n",
      "WARNING:astropy:FITSFixedWarning: 'datfix' made the change 'Set MJD-OBS to 57804.000000 from DATE-OBS'.\n",
      "WARNING: FITSFixedWarning: 'datfix' made the change 'Set MJD-OBS to 57804.000000 from DATE-OBS'. [astropy.wcs.wcs]\n",
      "WARNING:astropy:FITSFixedWarning: 'datfix' made the change 'Set MJD-OBS to 57804.000000 from DATE-OBS'.\n",
      "WARNING: FITSFixedWarning: 'datfix' made the change 'Set MJD-OBS to 57804.000000 from DATE-OBS'. [astropy.wcs.wcs]\n",
      "WARNING:astropy:FITSFixedWarning: 'datfix' made the change 'Set MJD-OBS to 57804.000000 from DATE-OBS'.\n",
      "WARNING: FITSFixedWarning: 'datfix' made the change 'Set MJD-OBS to 57804.000000 from DATE-OBS'. [astropy.wcs.wcs]\n",
      "WARNING:astropy:FITSFixedWarning: 'datfix' made the change 'Set MJD-OBS to 57804.000000 from DATE-OBS'.\n"
     ]
    },
    {
     "name": "stdout",
     "output_type": "stream",
     "text": [
      "\tpreprocessing_example/master_flat_V_norm.fits\n",
      "..................................(dt = 4.712 s) 2024-09-26T04:50:40.116\n",
      "Group and combine by ['FILTER'] (total 1 groups)\n",
      "* V... (5 files)\n"
     ]
    },
    {
     "name": "stderr",
     "output_type": "stream",
     "text": [
      "WARNING: FITSFixedWarning: 'datfix' made the change 'Set MJD-OBS to 57804.000000 from DATE-OBS'. [astropy.wcs.wcs]\n",
      "WARNING:astropy:FITSFixedWarning: 'datfix' made the change 'Set MJD-OBS to 57804.000000 from DATE-OBS'.\n"
     ]
    },
    {
     "name": "stdout",
     "output_type": "stream",
     "text": [
      "\tpreprocessing_example/master_flat_V.fits\n",
      "..................................(dt = 0.904 s) 2024-09-26T04:50:41.022\n"
     ]
    }
   ],
   "source": [
    "flat_fits = summary.loc[summary[\"IMAGETYP\"] == \"FLAT\"].copy()\n",
    "flat_fits.reset_index(inplace=True)\n",
    "flat_fits = flat_fits[\"file\"]\n",
    "print(type(flat_fits))\n",
    "print(len(flat_fits))\n",
    "print(flat_fits)\n",
    "\n",
    "flat_comb_norm = yfu.group_combine(\n",
    "                flat_fits.tolist(),\n",
    "                type_key = [\"IMAGETYP\"],\n",
    "                type_val = [\"FLAT\"],\n",
    "                group_key = [\"FILTER\"],\n",
    "                fmt = \"master_flat_{:s}_norm.fits\",  # output file name format\n",
    "                scale=\"med_sc\", #norm\n",
    "                scale_to_0th=False, #norm\n",
    "                outdir = BASEPATH/save_dir_name,  # output directory (will automatically be made if not exist)\n",
    "                combine = \"med\",\n",
    "                memlimit = 2.e+10,\n",
    "                verbose=True,\n",
    "            )\n",
    "\n",
    "flat_comb = yfu.group_combine(\n",
    "                flat_fits.tolist(),\n",
    "                type_key = [\"IMAGETYP\"],\n",
    "                type_val = [\"FLAT\"],\n",
    "                group_key = [\"FILTER\"],\n",
    "                fmt = \"master_flat_{:s}.fits\",  # output file name format\n",
    "                #scale=\"med_sc\", #norm\n",
    "                #scale_to_0th=False, #norm\n",
    "                outdir = BASEPATH/save_dir_name,  # output directory (will automatically be made if not exist)\n",
    "                combine = \"med\",\n",
    "                memlimit = 2.e+10,\n",
    "                verbose=True,\n",
    "            )"
   ]
  },
  {
   "cell_type": "markdown",
   "metadata": {
    "id": "ozbNhfFXIFYo"
   },
   "source": [
    "#### display master flat"
   ]
  },
  {
   "cell_type": "code",
   "execution_count": null,
   "metadata": {
    "colab": {
     "base_uri": "https://localhost:8080/",
     "height": 720,
     "output_embedded_package_id": "13KtDpKVmYWhFSJGPm33nljzyyCQgexYg"
    },
    "executionInfo": {
     "elapsed": 5530,
     "status": "ok",
     "timestamp": 1727326248381,
     "user": {
      "displayName": "Kiehyun Park",
      "userId": "11752785994579589476"
     },
     "user_tz": -540
    },
    "id": "MsezzBD7IH5B",
    "outputId": "f2e67997-f369-4089-f516-c8a71f9d2f4f"
   },
   "outputs": [
    {
     "data": {
      "text/plain": [
       "Output hidden; open in https://colab.research.google.com to view."
      ]
     },
     "metadata": {},
     "output_type": "display_data"
    }
   ],
   "source": [
    "# 함수 사용 예\n",
    "hdul = fits.open(BASEPATH/save_dir_name/\"master_flat_V.fits\")\n",
    "\n",
    "plot_image_with_cutouts(hdul[0].data)"
   ]
  },
  {
   "cell_type": "markdown",
   "metadata": {
    "id": "xfSu8_F2IOdX"
   },
   "source": [
    "#### display master flat norm"
   ]
  },
  {
   "cell_type": "code",
   "execution_count": null,
   "metadata": {
    "colab": {
     "base_uri": "https://localhost:8080/",
     "height": 724,
     "output_embedded_package_id": "1XKF_Q5E8tV7HnOoL7jm5QWJmPklLz4-d"
    },
    "executionInfo": {
     "elapsed": 7105,
     "status": "ok",
     "timestamp": 1727326255481,
     "user": {
      "displayName": "Kiehyun Park",
      "userId": "11752785994579589476"
     },
     "user_tz": -540
    },
    "id": "Sv6R4Yz0IRep",
    "outputId": "47a401db-1bb5-4b48-953b-b19495f88d66"
   },
   "outputs": [
    {
     "data": {
      "text/plain": [
       "Output hidden; open in https://colab.research.google.com to view."
      ]
     },
     "metadata": {},
     "output_type": "display_data"
    }
   ],
   "source": [
    "# 함수 사용 예\n",
    "hdul = fits.open(BASEPATH/save_dir_name/\"master_flat_V_norm.fits\")\n",
    "\n",
    "plot_image_with_cutouts(hdul[0].data)"
   ]
  },
  {
   "cell_type": "markdown",
   "metadata": {
    "id": "-AfNcKl79Hoj"
   },
   "source": [
    "### Reducing Object Images\n"
   ]
  },
  {
   "cell_type": "code",
   "execution_count": null,
   "metadata": {
    "colab": {
     "base_uri": "https://localhost:8080/"
    },
    "executionInfo": {
     "elapsed": 14,
     "status": "ok",
     "timestamp": 1727326255481,
     "user": {
      "displayName": "Kiehyun Park",
      "userId": "11752785994579589476"
     },
     "user_tz": -540
    },
    "id": "e0S7QOQUyCPo",
    "outputId": "09afa35b-038c-4f17-ae6b-879f5a64a386"
   },
   "outputs": [
    {
     "name": "stdout",
     "output_type": "stream",
     "text": [
      "Help on function ccdred in module ysfitsutilpy.preproc:\n",
      "\n",
      "ccdred(ccd, output=None, extension=None, mbiaspath=None, mdarkpath=None, mflatpath=None, mfrinpath=None, mbias=None, mdark=None, mflat=None, mfrin=None, fringe_flat_fielded=True, fringe_scale=None, fringe_scale_region=None, fringe_scale_kw={}, trimsec=None, gain=1, gain_key='GAIN', gain_unit=Unit(\"electron / adu\"), rdnoise=0, rdnoise_key='RDNOISE', rdnoise_unit=Unit(\"electron\"), exptime_key='EXPTIME', exptime_frin=None, exptime_dark=None, exptime_data=None, dark_scale=False, flat_mask=0, flat_fill=1, flat_norm_value=1, do_crrej=False, crrej_kwargs={'sigclip': 4.5, 'sigfrac': 0.5, 'objlim': 1.0, 'satlevel': inf, 'invar': None, 'inbkg': None, 'niter': 4, 'sepmed': False, 'cleantype': 'medmask', 'fs': 'median', 'psffwhm': 2.5, 'psfsize': 7, 'psfbeta': 4.765}, propagate_crmask=False, verbose_crrej=False, verbose_bdf=1, output_verify='fix', overwrite=True, dtype='float32')\n",
      "    # TODO: add overscan\n",
      "\n"
     ]
    }
   ],
   "source": [
    "help(yfu.ccdred)"
   ]
  },
  {
   "cell_type": "markdown",
   "metadata": {
    "id": "2kbAnrxL9vHr"
   },
   "source": [
    "#### file list"
   ]
  },
  {
   "cell_type": "code",
   "execution_count": null,
   "metadata": {
    "colab": {
     "base_uri": "https://localhost:8080/"
    },
    "executionInfo": {
     "elapsed": 11,
     "status": "ok",
     "timestamp": 1727326255481,
     "user": {
      "displayName": "Kiehyun Park",
      "userId": "11752785994579589476"
     },
     "user_tz": -540
    },
    "id": "j0W6mm_P39iB",
    "outputId": "61a2e5e8-6729-4e1c-b414-104defdf39bb"
   },
   "outputs": [
    {
     "name": "stdout",
     "output_type": "stream",
     "text": [
      "df_light_m35:                                      file  filesize  SIMPLE  BITPIX  NAXIS  \\\n",
      "0  preprocessing_example/M35-g3035781.fit   8559360    True      16      2   \n",
      "1  preprocessing_example/M35-g3035782.fit   8559360    True      16      2   \n",
      "2  preprocessing_example/M35-g3035783.fit   8559360    True      16      2   \n",
      "3  preprocessing_example/M35-g3035784.fit   8559360    True      16      2   \n",
      "4  preprocessing_example/M35-g3035785.fit   8559360    True      16      2   \n",
      "5  preprocessing_example/M35-g3035786.fit   8559360    True      16      2   \n",
      "6  preprocessing_example/M35-g3035787.fit   8559360    True      16      2   \n",
      "7  preprocessing_example/M35-g3035788.fit   8559360    True      16      2   \n",
      "8  preprocessing_example/M35-g3035789.fit   8559360    True      16      2   \n",
      "9  preprocessing_example/M35-g3035790.fit   8559360    True      16      2   \n",
      "\n",
      "   NAXIS1  NAXIS2  BSCALE    BZERO OBSERVAT  ... TELESCOP XBINNING YBINNING  \\\n",
      "0    2048    2048     1.0  32768.0     GSHS  ...     None      NaN      NaN   \n",
      "1    2048    2048     1.0  32768.0     GSHS  ...     None      NaN      NaN   \n",
      "2    2048    2048     1.0  32768.0     GSHS  ...     None      NaN      NaN   \n",
      "3    2048    2048     1.0  32768.0     GSHS  ...     None      NaN      NaN   \n",
      "4    2048    2048     1.0  32768.0     GSHS  ...     None      NaN      NaN   \n",
      "5    2048    2048     1.0  32768.0     GSHS  ...     None      NaN      NaN   \n",
      "6    2048    2048     1.0  32768.0     GSHS  ...     None      NaN      NaN   \n",
      "7    2048    2048     1.0  32768.0     GSHS  ...     None      NaN      NaN   \n",
      "8    2048    2048     1.0  32768.0     GSHS  ...     None      NaN      NaN   \n",
      "9    2048    2048     1.0  32768.0     GSHS  ...     None      NaN      NaN   \n",
      "\n",
      "  EXPOSURE TELESCOPE APATURE FLIPSTAT  XPIXSZ  YPIXSZ  PIXSCALE  \n",
      "0      NaN      None     NaN     None     NaN     NaN      None  \n",
      "1      NaN      None     NaN     None     NaN     NaN      None  \n",
      "2      NaN      None     NaN     None     NaN     NaN      None  \n",
      "3      NaN      None     NaN     None     NaN     NaN      None  \n",
      "4      NaN      None     NaN     None     NaN     NaN      None  \n",
      "5      NaN      None     NaN     None     NaN     NaN      None  \n",
      "6      NaN      None     NaN     None     NaN     NaN      None  \n",
      "7      NaN      None     NaN     None     NaN     NaN      None  \n",
      "8      NaN      None     NaN     None     NaN     NaN      None  \n",
      "9      NaN      None     NaN     None     NaN     NaN      None  \n",
      "\n",
      "[10 rows x 52 columns]\n"
     ]
    }
   ],
   "source": [
    "df_light = summary.loc[summary[\"IMAGETYP\"] == \"LIGHT\"].copy()\n",
    "df_light_m35 = df_light.loc[df_light[\"OBJECT\"] == \"m35_677\"].copy()\n",
    "df_light_m35 = df_light_m35.reset_index(drop=True)\n",
    "print(\"df_light_m35:\", df_light_m35)"
   ]
  },
  {
   "cell_type": "markdown",
   "metadata": {
    "id": "9lLs4hDS91vB"
   },
   "source": [
    "#### No dark scale"
   ]
  },
  {
   "cell_type": "code",
   "execution_count": null,
   "metadata": {
    "colab": {
     "base_uri": "https://localhost:8080/"
    },
    "executionInfo": {
     "elapsed": 1603,
     "status": "ok",
     "timestamp": 1727326257076,
     "user": {
      "displayName": "Kiehyun Park",
      "userId": "11752785994579589476"
     },
     "user_tz": -540
    },
    "id": "Nk3Wv3kd5Vtu",
    "outputId": "9a4e5766-277c-4dfb-dc3c-0a388eb9a697"
   },
   "outputs": [
    {
     "name": "stderr",
     "output_type": "stream",
     "text": [
      "WARNING: FITSFixedWarning: 'datfix' made the change 'Set MJD-OBS to 57804.000000 from DATE-OBS'. [astropy.wcs.wcs]\n",
      "WARNING:astropy:FITSFixedWarning: 'datfix' made the change 'Set MJD-OBS to 57804.000000 from DATE-OBS'.\n"
     ]
    },
    {
     "name": "stdout",
     "output_type": "stream",
     "text": [
      "HISTORY  [yfu.biascor] Bias subtracted (BIASFRM = preprocessing_example/master_bias.fits)\n",
      "HISTORY  ..................................(dt = 0.013 s) 2024-09-26T04:50:50.069\n",
      "HISTORY  [yfu.darkcor] Dark subtracted (DARKFRM = preprocessing_example/master_dark_140sec.fits)\n",
      "HISTORY  ..................................(dt = 0.014 s) 2024-09-26T04:50:50.088\n",
      "HISTORY  [yfu.flatcor] Flat pixels with `value < flat_mask = 0` are replaced by `flat_fill = 1`.\n",
      "HISTORY  .................................................2024-09-26T04:50:50.103\n",
      "HISTORY  [yfu.flatcor] Flat corrected (FLATFRM = preprocessing_example/master_flat_V_norm.fits)\n",
      "HISTORY  ..................................(dt = 0.021 s) 2024-09-26T04:50:50.114\n",
      "Writing FITS to preprocessing_example/reduce_M35-g3035781.fit... Saved.\n",
      "HISTORY  [yfu.biascor] Bias subtracted (BIASFRM = preprocessing_example/master_bias.fits)\n",
      "HISTORY  ..................................(dt = 0.055 s) 2024-09-26T04:50:50.612\n",
      "HISTORY  [yfu.darkcor] Dark subtracted (DARKFRM = preprocessing_example/master_dark_140sec.fits)\n",
      "HISTORY  ..................................(dt = 0.045 s) 2024-09-26T04:50:50.666\n",
      "HISTORY  [yfu.flatcor] Flat pixels with `value < flat_mask = 0` are replaced by `flat_fill = 1`.\n",
      "HISTORY  .................................................2024-09-26T04:50:50.708\n",
      "HISTORY  [yfu.flatcor] Flat corrected (FLATFRM = preprocessing_example/master_flat_V_norm.fits)\n",
      "HISTORY  ..................................(dt = 0.054 s) 2024-09-26T04:50:50.736\n",
      "Writing FITS to preprocessing_example/reduce_M35-g3035782.fit... Saved.\n",
      "HISTORY  [yfu.biascor] Bias subtracted (BIASFRM = preprocessing_example/master_bias.fits)\n",
      "HISTORY  ..................................(dt = 0.010 s) 2024-09-26T04:50:50.974\n",
      "HISTORY  [yfu.darkcor] Dark subtracted (DARKFRM = preprocessing_example/master_dark_140sec.fits)\n",
      "HISTORY  ..................................(dt = 0.009 s) 2024-09-26T04:50:50.986\n",
      "HISTORY  [yfu.flatcor] Flat pixels with `value < flat_mask = 0` are replaced by `flat_fill = 1`.\n",
      "HISTORY  .................................................2024-09-26T04:50:50.995\n",
      "HISTORY  [yfu.flatcor] Flat corrected (FLATFRM = preprocessing_example/master_flat_V_norm.fits)\n",
      "HISTORY  ..................................(dt = 0.014 s) 2024-09-26T04:50:51.003\n",
      "Writing FITS to preprocessing_example/reduce_M35-g3035783.fit... Saved.\n",
      "HISTORY  [yfu.biascor] Bias subtracted (BIASFRM = preprocessing_example/master_bias.fits)\n",
      "HISTORY  ..................................(dt = 0.010 s) 2024-09-26T04:50:51.140\n",
      "HISTORY  [yfu.darkcor] Dark subtracted (DARKFRM = preprocessing_example/master_dark_140sec.fits)\n",
      "HISTORY  ..................................(dt = 0.010 s) 2024-09-26T04:50:51.153\n",
      "HISTORY  [yfu.flatcor] Flat pixels with `value < flat_mask = 0` are replaced by `flat_fill = 1`.\n",
      "HISTORY  .................................................2024-09-26T04:50:51.165\n",
      "HISTORY  [yfu.flatcor] Flat corrected (FLATFRM = preprocessing_example/master_flat_V_norm.fits)\n",
      "HISTORY  ..................................(dt = 0.017 s) 2024-09-26T04:50:51.173\n",
      "Writing FITS to preprocessing_example/reduce_M35-g3035784.fit... Saved.\n",
      "HISTORY  [yfu.biascor] Bias subtracted (BIASFRM = preprocessing_example/master_bias.fits)\n",
      "HISTORY  ..................................(dt = 0.011 s) 2024-09-26T04:50:51.307\n",
      "HISTORY  [yfu.darkcor] Dark subtracted (DARKFRM = preprocessing_example/master_dark_140sec.fits)\n",
      "HISTORY  ..................................(dt = 0.010 s) 2024-09-26T04:50:51.321\n",
      "HISTORY  [yfu.flatcor] Flat pixels with `value < flat_mask = 0` are replaced by `flat_fill = 1`.\n",
      "HISTORY  .................................................2024-09-26T04:50:51.331\n",
      "HISTORY  [yfu.flatcor] Flat corrected (FLATFRM = preprocessing_example/master_flat_V_norm.fits)\n",
      "HISTORY  ..................................(dt = 0.015 s) 2024-09-26T04:50:51.340\n",
      "Writing FITS to preprocessing_example/reduce_M35-g3035785.fit... Saved.\n",
      "HISTORY  [yfu.biascor] Bias subtracted (BIASFRM = preprocessing_example/master_bias.fits)\n",
      "HISTORY  ..................................(dt = 0.011 s) 2024-09-26T04:50:51.479\n",
      "HISTORY  [yfu.darkcor] Dark subtracted (DARKFRM = preprocessing_example/master_dark_140sec.fits)\n",
      "HISTORY  ..................................(dt = 0.012 s) 2024-09-26T04:50:51.496\n",
      "HISTORY  [yfu.flatcor] Flat pixels with `value < flat_mask = 0` are replaced by `flat_fill = 1`.\n",
      "HISTORY  .................................................2024-09-26T04:50:51.519\n",
      "HISTORY  [yfu.flatcor] Flat corrected (FLATFRM = preprocessing_example/master_flat_V_norm.fits)\n",
      "HISTORY  ..................................(dt = 0.028 s) 2024-09-26T04:50:51.531\n",
      "Writing FITS to preprocessing_example/reduce_M35-g3035786.fit... Saved.\n",
      "HISTORY  [yfu.biascor] Bias subtracted (BIASFRM = preprocessing_example/master_bias.fits)\n",
      "HISTORY  ..................................(dt = 0.015 s) 2024-09-26T04:50:51.706\n",
      "HISTORY  [yfu.darkcor] Dark subtracted (DARKFRM = preprocessing_example/master_dark_140sec.fits)\n",
      "HISTORY  ..................................(dt = 0.012 s) 2024-09-26T04:50:51.724\n",
      "HISTORY  [yfu.flatcor] Flat pixels with `value < flat_mask = 0` are replaced by `flat_fill = 1`.\n",
      "HISTORY  .................................................2024-09-26T04:50:51.743\n",
      "HISTORY  [yfu.flatcor] Flat corrected (FLATFRM = preprocessing_example/master_flat_V_norm.fits)\n",
      "HISTORY  ..................................(dt = 0.022 s) 2024-09-26T04:50:51.754\n",
      "Writing FITS to preprocessing_example/reduce_M35-g3035787.fit... Saved.\n",
      "HISTORY  [yfu.biascor] Bias subtracted (BIASFRM = preprocessing_example/master_bias.fits)\n",
      "HISTORY  ..................................(dt = 0.018 s) 2024-09-26T04:50:51.983\n",
      "HISTORY  [yfu.darkcor] Dark subtracted (DARKFRM = preprocessing_example/master_dark_140sec.fits)\n",
      "HISTORY  ..................................(dt = 0.018 s) 2024-09-26T04:50:52.006\n",
      "HISTORY  [yfu.flatcor] Flat pixels with `value < flat_mask = 0` are replaced by `flat_fill = 1`.\n",
      "HISTORY  .................................................2024-09-26T04:50:52.023\n",
      "HISTORY  [yfu.flatcor] Flat corrected (FLATFRM = preprocessing_example/master_flat_V_norm.fits)\n",
      "HISTORY  ..................................(dt = 0.024 s) 2024-09-26T04:50:52.033\n",
      "Writing FITS to preprocessing_example/reduce_M35-g3035788.fit... Saved.\n",
      "HISTORY  [yfu.biascor] Bias subtracted (BIASFRM = preprocessing_example/master_bias.fits)\n",
      "HISTORY  ..................................(dt = 0.012 s) 2024-09-26T04:50:52.231\n",
      "HISTORY  [yfu.darkcor] Dark subtracted (DARKFRM = preprocessing_example/master_dark_140sec.fits)\n",
      "HISTORY  ..................................(dt = 0.010 s) 2024-09-26T04:50:52.244\n",
      "HISTORY  [yfu.flatcor] Flat pixels with `value < flat_mask = 0` are replaced by `flat_fill = 1`.\n",
      "HISTORY  .................................................2024-09-26T04:50:52.254\n",
      "HISTORY  [yfu.flatcor] Flat corrected (FLATFRM = preprocessing_example/master_flat_V_norm.fits)\n",
      "HISTORY  ..................................(dt = 0.016 s) 2024-09-26T04:50:52.262\n",
      "Writing FITS to preprocessing_example/reduce_M35-g3035789.fit... Saved.\n",
      "HISTORY  [yfu.biascor] Bias subtracted (BIASFRM = preprocessing_example/master_bias.fits)\n",
      "HISTORY  ..................................(dt = 0.010 s) 2024-09-26T04:50:52.420\n",
      "HISTORY  [yfu.darkcor] Dark subtracted (DARKFRM = preprocessing_example/master_dark_140sec.fits)\n",
      "HISTORY  ..................................(dt = 0.009 s) 2024-09-26T04:50:52.433\n",
      "HISTORY  [yfu.flatcor] Flat pixels with `value < flat_mask = 0` are replaced by `flat_fill = 1`.\n",
      "HISTORY  .................................................2024-09-26T04:50:52.445\n",
      "HISTORY  [yfu.flatcor] Flat corrected (FLATFRM = preprocessing_example/master_flat_V_norm.fits)\n",
      "HISTORY  ..................................(dt = 0.017 s) 2024-09-26T04:50:52.452\n",
      "Writing FITS to preprocessing_example/reduce_M35-g3035790.fit... Saved.\n"
     ]
    }
   ],
   "source": [
    "for _, row in df_light_m35.iterrows():\n",
    "\n",
    "    fpath = Path(row[\"file\"])\n",
    "    ccd = yfu.load_ccd(fpath)\n",
    "    filt = ccd.header[\"FILTER\"]\n",
    "    expt = ccd.header[\"EXPTIME\"]\n",
    "    red = yfu.ccdred(\n",
    "        ccd,\n",
    "        output = BASEPATH /save_dir_name/ f\"reduce_{fpath.name}\",\n",
    "        mbiaspath = BASEPATH / save_dir_name / \"master_bias.fits\",\n",
    "        mdarkpath = BASEPATH / save_dir_name / f\"master_dark_{expt:.0f}sec.fits\",\n",
    "        mflatpath = BASEPATH / save_dir_name / f\"master_flat_{filt.upper()}_norm.fits\",\n",
    "        dark_scale = False,  # default False\n",
    "        # flat_norm_value=1,  # 1 = skip normalization, None = normalize by mean\n",
    "        overwrite=True\n",
    "        )"
   ]
  },
  {
   "cell_type": "markdown",
   "metadata": {
    "id": "HH7ocTbf99fS"
   },
   "source": [
    "#### Dark scale"
   ]
  },
  {
   "cell_type": "code",
   "execution_count": null,
   "metadata": {
    "colab": {
     "base_uri": "https://localhost:8080/"
    },
    "executionInfo": {
     "elapsed": 11,
     "status": "ok",
     "timestamp": 1727326257076,
     "user": {
      "displayName": "Kiehyun Park",
      "userId": "11752785994579589476"
     },
     "user_tz": -540
    },
    "id": "SQ6V6qeEsxps",
    "outputId": "1dcbb033-c8e9-4170-b21a-2958e6288e86"
   },
   "outputs": [
    {
     "name": "stderr",
     "output_type": "stream",
     "text": [
      "WARNING: FITSFixedWarning: 'datfix' made the change 'Set MJD-OBS to 57803.733519 from DATE-OBS'. [astropy.wcs.wcs]\n",
      "WARNING:astropy:FITSFixedWarning: 'datfix' made the change 'Set MJD-OBS to 57803.733519 from DATE-OBS'.\n"
     ]
    },
    {
     "name": "stdout",
     "output_type": "stream",
     "text": [
      "HISTORY  [yfu.biascor] Bias subtracted (BIASFRM = preprocessing_example/master_bias.fits)\n",
      "HISTORY  ..................................(dt = 0.011 s) 2024-09-26T04:50:52.647\n",
      "HISTORY  [yfu.darkcor] Dark scaled by exptime: (t_data/t_dark) = (140.000/180.000) = 0.778\n",
      "HISTORY  .................................................2024-09-26T04:50:52.660\n",
      "HISTORY  [yfu.darkcor] Dark subtracted (DARKFRM = preprocessing_example/master_dark_180sec.fits)\n",
      "HISTORY  ..................................(dt = 0.016 s) 2024-09-26T04:50:52.666\n",
      "HISTORY  [yfu.flatcor] Flat pixels with `value < flat_mask = 0` are replaced by `flat_fill = 1`.\n",
      "HISTORY  .................................................2024-09-26T04:50:52.676\n",
      "HISTORY  [yfu.flatcor] Flat corrected (FLATFRM = preprocessing_example/master_flat_V_norm.fits)\n",
      "HISTORY  ..................................(dt = 0.015 s) 2024-09-26T04:50:52.684\n",
      "Writing FITS to preprocessing_example/reduce_darksc_M35-g3035781.fit... Saved.\n",
      "HISTORY  [yfu.biascor] Bias subtracted (BIASFRM = preprocessing_example/master_bias.fits)\n",
      "HISTORY  ..................................(dt = 0.014 s) 2024-09-26T04:50:52.820\n",
      "HISTORY  [yfu.darkcor] Dark scaled by exptime: (t_data/t_dark) = (140.000/180.000) = 0.778\n",
      "HISTORY  .................................................2024-09-26T04:50:52.832\n",
      "HISTORY  [yfu.darkcor] Dark subtracted (DARKFRM = preprocessing_example/master_dark_180sec.fits)\n",
      "HISTORY  ..................................(dt = 0.016 s) 2024-09-26T04:50:52.839\n",
      "HISTORY  [yfu.flatcor] Flat pixels with `value < flat_mask = 0` are replaced by `flat_fill = 1`.\n",
      "HISTORY  .................................................2024-09-26T04:50:52.850\n",
      "HISTORY  [yfu.flatcor] Flat corrected (FLATFRM = preprocessing_example/master_flat_V_norm.fits)\n",
      "HISTORY  ..................................(dt = 0.019 s) 2024-09-26T04:50:52.860\n",
      "Writing FITS to preprocessing_example/reduce_darksc_M35-g3035782.fit... Saved.\n",
      "HISTORY  [yfu.biascor] Bias subtracted (BIASFRM = preprocessing_example/master_bias.fits)\n",
      "HISTORY  ..................................(dt = 0.014 s) 2024-09-26T04:50:53.009\n",
      "HISTORY  [yfu.darkcor] Dark scaled by exptime: (t_data/t_dark) = (140.000/180.000) = 0.778\n",
      "HISTORY  .................................................2024-09-26T04:50:53.021\n",
      "HISTORY  [yfu.darkcor] Dark subtracted (DARKFRM = preprocessing_example/master_dark_180sec.fits)\n",
      "HISTORY  ..................................(dt = 0.015 s) 2024-09-26T04:50:53.027\n",
      "HISTORY  [yfu.flatcor] Flat pixels with `value < flat_mask = 0` are replaced by `flat_fill = 1`.\n",
      "HISTORY  .................................................2024-09-26T04:50:53.037\n",
      "HISTORY  [yfu.flatcor] Flat corrected (FLATFRM = preprocessing_example/master_flat_V_norm.fits)\n",
      "HISTORY  ..................................(dt = 0.015 s) 2024-09-26T04:50:53.044\n",
      "Writing FITS to preprocessing_example/reduce_darksc_M35-g3035783.fit... Saved.\n",
      "HISTORY  [yfu.biascor] Bias subtracted (BIASFRM = preprocessing_example/master_bias.fits)\n",
      "HISTORY  ..................................(dt = 0.011 s) 2024-09-26T04:50:53.181\n",
      "HISTORY  [yfu.darkcor] Dark scaled by exptime: (t_data/t_dark) = (140.000/180.000) = 0.778\n",
      "HISTORY  .................................................2024-09-26T04:50:53.192\n",
      "HISTORY  [yfu.darkcor] Dark subtracted (DARKFRM = preprocessing_example/master_dark_180sec.fits)\n",
      "HISTORY  ..................................(dt = 0.014 s) 2024-09-26T04:50:53.198\n",
      "HISTORY  [yfu.flatcor] Flat pixels with `value < flat_mask = 0` are replaced by `flat_fill = 1`.\n",
      "HISTORY  .................................................2024-09-26T04:50:53.208\n",
      "HISTORY  [yfu.flatcor] Flat corrected (FLATFRM = preprocessing_example/master_flat_V_norm.fits)\n",
      "HISTORY  ..................................(dt = 0.016 s) 2024-09-26T04:50:53.215\n",
      "Writing FITS to preprocessing_example/reduce_darksc_M35-g3035784.fit... Saved.\n",
      "HISTORY  [yfu.biascor] Bias subtracted (BIASFRM = preprocessing_example/master_bias.fits)\n",
      "HISTORY  ..................................(dt = 0.011 s) 2024-09-26T04:50:53.354\n",
      "HISTORY  [yfu.darkcor] Dark scaled by exptime: (t_data/t_dark) = (140.000/180.000) = 0.778\n",
      "HISTORY  .................................................2024-09-26T04:50:53.365\n",
      "HISTORY  [yfu.darkcor] Dark subtracted (DARKFRM = preprocessing_example/master_dark_180sec.fits)\n",
      "HISTORY  ..................................(dt = 0.014 s) 2024-09-26T04:50:53.371\n",
      "HISTORY  [yfu.flatcor] Flat pixels with `value < flat_mask = 0` are replaced by `flat_fill = 1`.\n",
      "HISTORY  .................................................2024-09-26T04:50:53.382\n",
      "HISTORY  [yfu.flatcor] Flat corrected (FLATFRM = preprocessing_example/master_flat_V_norm.fits)\n",
      "HISTORY  ..................................(dt = 0.016 s) 2024-09-26T04:50:53.389\n",
      "Writing FITS to preprocessing_example/reduce_darksc_M35-g3035785.fit... Saved.\n",
      "HISTORY  [yfu.biascor] Bias subtracted (BIASFRM = preprocessing_example/master_bias.fits)\n",
      "HISTORY  ..................................(dt = 0.017 s) 2024-09-26T04:50:53.573\n",
      "HISTORY  [yfu.darkcor] Dark scaled by exptime: (t_data/t_dark) = (140.000/180.000) = 0.778\n",
      "HISTORY  .................................................2024-09-26T04:50:53.591\n",
      "HISTORY  [yfu.darkcor] Dark subtracted (DARKFRM = preprocessing_example/master_dark_180sec.fits)\n",
      "HISTORY  ..................................(dt = 0.020 s) 2024-09-26T04:50:53.598\n",
      "HISTORY  [yfu.flatcor] Flat pixels with `value < flat_mask = 0` are replaced by `flat_fill = 1`.\n",
      "HISTORY  .................................................2024-09-26T04:50:53.608\n",
      "HISTORY  [yfu.flatcor] Flat corrected (FLATFRM = preprocessing_example/master_flat_V_norm.fits)\n",
      "HISTORY  ..................................(dt = 0.016 s) 2024-09-26T04:50:53.616\n",
      "Writing FITS to preprocessing_example/reduce_darksc_M35-g3035786.fit... Saved.\n",
      "HISTORY  [yfu.biascor] Bias subtracted (BIASFRM = preprocessing_example/master_bias.fits)\n",
      "HISTORY  ..................................(dt = 0.013 s) 2024-09-26T04:50:53.765\n",
      "HISTORY  [yfu.darkcor] Dark scaled by exptime: (t_data/t_dark) = (140.000/180.000) = 0.778\n",
      "HISTORY  .................................................2024-09-26T04:50:53.779\n",
      "HISTORY  [yfu.darkcor] Dark subtracted (DARKFRM = preprocessing_example/master_dark_180sec.fits)\n",
      "HISTORY  ..................................(dt = 0.019 s) 2024-09-26T04:50:53.787\n",
      "HISTORY  [yfu.flatcor] Flat pixels with `value < flat_mask = 0` are replaced by `flat_fill = 1`.\n",
      "HISTORY  .................................................2024-09-26T04:50:53.799\n",
      "HISTORY  [yfu.flatcor] Flat corrected (FLATFRM = preprocessing_example/master_flat_V_norm.fits)\n",
      "HISTORY  ..................................(dt = 0.018 s) 2024-09-26T04:50:53.807\n",
      "Writing FITS to preprocessing_example/reduce_darksc_M35-g3035787.fit... Saved.\n",
      "HISTORY  [yfu.biascor] Bias subtracted (BIASFRM = preprocessing_example/master_bias.fits)\n",
      "HISTORY  ..................................(dt = 0.014 s) 2024-09-26T04:50:53.962\n",
      "HISTORY  [yfu.darkcor] Dark scaled by exptime: (t_data/t_dark) = (140.000/180.000) = 0.778\n",
      "HISTORY  .................................................2024-09-26T04:50:53.974\n",
      "HISTORY  [yfu.darkcor] Dark subtracted (DARKFRM = preprocessing_example/master_dark_180sec.fits)\n",
      "HISTORY  ..................................(dt = 0.014 s) 2024-09-26T04:50:53.980\n",
      "HISTORY  [yfu.flatcor] Flat pixels with `value < flat_mask = 0` are replaced by `flat_fill = 1`.\n",
      "HISTORY  .................................................2024-09-26T04:50:53.994\n",
      "HISTORY  [yfu.flatcor] Flat corrected (FLATFRM = preprocessing_example/master_flat_V_norm.fits)\n",
      "HISTORY  ..................................(dt = 0.019 s) 2024-09-26T04:50:54.001\n",
      "Writing FITS to preprocessing_example/reduce_darksc_M35-g3035788.fit... Saved.\n",
      "HISTORY  [yfu.biascor] Bias subtracted (BIASFRM = preprocessing_example/master_bias.fits)\n",
      "HISTORY  ..................................(dt = 0.015 s) 2024-09-26T04:50:54.174\n",
      "HISTORY  [yfu.darkcor] Dark scaled by exptime: (t_data/t_dark) = (140.000/180.000) = 0.778\n",
      "HISTORY  .................................................2024-09-26T04:50:54.187\n",
      "HISTORY  [yfu.darkcor] Dark subtracted (DARKFRM = preprocessing_example/master_dark_180sec.fits)\n",
      "HISTORY  ..................................(dt = 0.015 s) 2024-09-26T04:50:54.193\n",
      "HISTORY  [yfu.flatcor] Flat pixels with `value < flat_mask = 0` are replaced by `flat_fill = 1`.\n",
      "HISTORY  .................................................2024-09-26T04:50:54.209\n",
      "HISTORY  [yfu.flatcor] Flat corrected (FLATFRM = preprocessing_example/master_flat_V_norm.fits)\n",
      "HISTORY  ..................................(dt = 0.022 s) 2024-09-26T04:50:54.219\n",
      "Writing FITS to preprocessing_example/reduce_darksc_M35-g3035789.fit... Saved.\n",
      "HISTORY  [yfu.biascor] Bias subtracted (BIASFRM = preprocessing_example/master_bias.fits)\n",
      "HISTORY  ..................................(dt = 0.014 s) 2024-09-26T04:50:54.368\n",
      "HISTORY  [yfu.darkcor] Dark scaled by exptime: (t_data/t_dark) = (140.000/180.000) = 0.778\n",
      "HISTORY  .................................................2024-09-26T04:50:54.385\n",
      "HISTORY  [yfu.darkcor] Dark subtracted (DARKFRM = preprocessing_example/master_dark_180sec.fits)\n",
      "HISTORY  ..................................(dt = 0.020 s) 2024-09-26T04:50:54.392\n",
      "HISTORY  [yfu.flatcor] Flat pixels with `value < flat_mask = 0` are replaced by `flat_fill = 1`.\n",
      "HISTORY  .................................................2024-09-26T04:50:54.403\n",
      "HISTORY  [yfu.flatcor] Flat corrected (FLATFRM = preprocessing_example/master_flat_V_norm.fits)\n",
      "HISTORY  ..................................(dt = 0.016 s) 2024-09-26T04:50:54.411\n",
      "Writing FITS to preprocessing_example/reduce_darksc_M35-g3035790.fit... Saved.\n"
     ]
    }
   ],
   "source": [
    "for _, row in df_light_m35.iterrows():\n",
    "\n",
    "    fpath = Path(row[\"file\"])\n",
    "    ccd = yfu.load_ccd(fpath)\n",
    "    filt = ccd.header[\"FILTER\"]\n",
    "    expt = ccd.header[\"EXPTIME\"]\n",
    "\n",
    "    red = yfu.ccdred(\n",
    "        ccd,\n",
    "        output = BASEPATH / save_dir_name/ f\"reduce_darksc_{fpath.name}\",\n",
    "        mbiaspath = BASEPATH /save_dir_name / \"master_bias.fits\",\n",
    "        mdarkpath = BASEPATH / save_dir_name / f\"master_dark_180sec.fits\",\n",
    "        mflatpath = BASEPATH / save_dir_name / f\"master_flat_{filt.upper()}_norm.fits\",\n",
    "        dark_scale = True,\n",
    "        exptime_dark = 180,\n",
    "        # flat_norm_value=1,  # 1 = skip normalization, None = normalize by mean\n",
    "        overwrite=True,\n",
    "        )"
   ]
  },
  {
   "cell_type": "markdown",
   "metadata": {
    "id": "iQmkaxdWhYmK"
   },
   "source": [
    "## 확인\n",
    "\n",
    "전처리한 결과를 비교해 보겠습니다.\n"
   ]
  },
  {
   "cell_type": "markdown",
   "metadata": {
    "id": "Q1CXnD3W-C8Y"
   },
   "source": [
    "### 전처리 전"
   ]
  },
  {
   "cell_type": "code",
   "execution_count": null,
   "metadata": {
    "colab": {
     "base_uri": "https://localhost:8080/",
     "height": 720,
     "output_embedded_package_id": "1iGns0iNPeI57e5J5XKVlr9FNl2kPxhvx"
    },
    "executionInfo": {
     "elapsed": 6077,
     "status": "ok",
     "timestamp": 1727326263149,
     "user": {
      "displayName": "Kiehyun Park",
      "userId": "11752785994579589476"
     },
     "user_tz": -540
    },
    "id": "806BAJFWhn75",
    "outputId": "574d38d0-8304-473d-c055-8d0b252e9d91"
   },
   "outputs": [
    {
     "data": {
      "text/plain": [
       "Output hidden; open in https://colab.research.google.com to view."
      ]
     },
     "metadata": {},
     "output_type": "display_data"
    }
   ],
   "source": [
    "# 함수 사용 예\n",
    "from astropy.io import fits\n",
    "fpath = Path(df_light_m35['file'][0])\n",
    "hdul = fits.open(fpath)\n",
    "\n",
    "plot_image_with_cutouts(hdul[0].data)"
   ]
  },
  {
   "cell_type": "markdown",
   "metadata": {
    "id": "D6g3sqaE-Hzh"
   },
   "source": [
    "### 전처리 (No dark scale)"
   ]
  },
  {
   "cell_type": "code",
   "execution_count": null,
   "metadata": {
    "colab": {
     "base_uri": "https://localhost:8080/",
     "height": 720,
     "output_embedded_package_id": "10YFt9Nn7f-3fplOcdNqnhGdlKqU9eBUw"
    },
    "executionInfo": {
     "elapsed": 9635,
     "status": "ok",
     "timestamp": 1727326272778,
     "user": {
      "displayName": "Kiehyun Park",
      "userId": "11752785994579589476"
     },
     "user_tz": -540
    },
    "id": "zC8wjyCrhuaS",
    "outputId": "f9e517dd-aafb-4757-d89b-066f020f0cec"
   },
   "outputs": [
    {
     "data": {
      "text/plain": [
       "Output hidden; open in https://colab.research.google.com to view."
      ]
     },
     "metadata": {},
     "output_type": "display_data"
    }
   ],
   "source": [
    "# 함수 사용 예\n",
    "from astropy.io import fits\n",
    "fpath = Path(df_light_m35['file'][0])\n",
    "hdul = fits.open(fpath.parent/f\"reduce_{fpath.name}\")\n",
    "\n",
    "plot_image_with_cutouts(hdul[0].data)"
   ]
  },
  {
   "cell_type": "markdown",
   "metadata": {
    "id": "o-NtU1nJ-ML9"
   },
   "source": [
    "### 전처리 (Dark scale)"
   ]
  },
  {
   "cell_type": "code",
   "execution_count": null,
   "metadata": {
    "colab": {
     "base_uri": "https://localhost:8080/",
     "height": 720,
     "output_embedded_package_id": "1Q5t-dRQaiyca-069ez0vuMaxZye3qi_0"
    },
    "executionInfo": {
     "elapsed": 11835,
     "status": "ok",
     "timestamp": 1727326284608,
     "user": {
      "displayName": "Kiehyun Park",
      "userId": "11752785994579589476"
     },
     "user_tz": -540
    },
    "id": "mFYKu8Xz8dFy",
    "outputId": "6f4d88fc-ce8b-47fb-b025-50eddc89eb5d"
   },
   "outputs": [
    {
     "data": {
      "text/plain": [
       "Output hidden; open in https://colab.research.google.com to view."
      ]
     },
     "metadata": {},
     "output_type": "display_data"
    }
   ],
   "source": [
    "# 함수 사용 예\n",
    "fpath = Path(df_light_m35['file'][0])\n",
    "hdul = fits.open(fpath.parent/f\"reduce_darksc_{fpath.name}\")\n",
    "\n",
    "plot_image_with_cutouts(hdul[0].data)"
   ]
  },
  {
   "cell_type": "markdown",
   "metadata": {
    "id": "AGtTfjkMMFbP"
   },
   "source": [
    "##(과제)\n",
    "\n",
    "1. M15를 관측한 5개의 파일 모두를 전처리를 수행하시오. (dark scale을 적용해야 함)"
   ]
  },
  {
   "cell_type": "code",
   "execution_count": null,
   "metadata": {
    "colab": {
     "base_uri": "https://localhost:8080/"
    },
    "executionInfo": {
     "elapsed": 43,
     "status": "ok",
     "timestamp": 1727326284609,
     "user": {
      "displayName": "Kiehyun Park",
      "userId": "11752785994579589476"
     },
     "user_tz": -540
    },
    "id": "3UuTLfwyMMhp",
    "outputId": "ad12ded9-669e-461b-80a4-e128fc6b4b90"
   },
   "outputs": [
    {
     "name": "stderr",
     "output_type": "stream",
     "text": [
      "WARNING: The following header keyword is invalid or follows an unrecognized non-standard convention:\n",
      "DELMAG   =   0.0000            /Veriable - Comparison,   Delmag                  [astropy.io.fits.card]\n",
      "WARNING:astropy:The following header keyword is invalid or follows an unrecognized non-standard convention:\n",
      "DELMAG   =   0.0000            /Veriable - Comparison,   Delmag                 \n",
      "WARNING: FITSFixedWarning: 'datfix' made the change 'Set MJD-OBS to 57707.383993 from DATE-OBS'. [astropy.wcs.wcs]\n",
      "WARNING:astropy:FITSFixedWarning: 'datfix' made the change 'Set MJD-OBS to 57707.383993 from DATE-OBS'.\n",
      "WARNING: FITSFixedWarning: 'datfix' made the change 'Set MJD-OBS to 57804.000000 from DATE-OBS'. [astropy.wcs.wcs]\n",
      "WARNING:astropy:FITSFixedWarning: 'datfix' made the change 'Set MJD-OBS to 57804.000000 from DATE-OBS'.\n",
      "WARNING: FITSFixedWarning: 'datfix' made the change 'Set MJD-OBS to 57803.733519 from DATE-OBS'. [astropy.wcs.wcs]\n",
      "WARNING:astropy:FITSFixedWarning: 'datfix' made the change 'Set MJD-OBS to 57803.733519 from DATE-OBS'.\n"
     ]
    },
    {
     "name": "stdout",
     "output_type": "stream",
     "text": [
      "df_light_m15:                                    file  filesize  SIMPLE  BITPIX  NAXIS  \\\n",
      "0  preprocessing_example/M15-g00001.fit   8395200    True      16      2   \n",
      "1  preprocessing_example/M15-g00002.fit   8395200    True      16      2   \n",
      "2  preprocessing_example/M15-g00003.fit   8395200    True      16      2   \n",
      "3  preprocessing_example/M15-g00004.fit   8395200    True      16      2   \n",
      "4  preprocessing_example/M15-g00005.fit   8395200    True      16      2   \n",
      "\n",
      "   NAXIS1  NAXIS2  BSCALE    BZERO OBSERVAT  ... TELESCOP XBINNING YBINNING  \\\n",
      "0    2048    2048     1.0  32768.0     GSHS  ...        -      2.0      2.0   \n",
      "1    2048    2048     1.0  32768.0     GSHS  ...        -      2.0      2.0   \n",
      "2    2048    2048     1.0  32768.0     GSHS  ...        -      2.0      2.0   \n",
      "3    2048    2048     1.0  32768.0     GSHS  ...        -      2.0      2.0   \n",
      "4    2048    2048     1.0  32768.0     GSHS  ...        -      2.0      2.0   \n",
      "\n",
      "  EXPOSURE TELESCOPE APATURE FLIPSTAT  XPIXSZ  YPIXSZ  PIXSCALE  \n",
      "0     60.0         -   600.0             18.0    18.0   1.23759  \n",
      "1     60.0         -   600.0             18.0    18.0   1.23759  \n",
      "2     60.0         -   600.0             18.0    18.0   1.23759  \n",
      "3     60.0         -   600.0             18.0    18.0   1.23759  \n",
      "4     60.0         -   600.0             18.0    18.0   1.23759  \n",
      "\n",
      "[5 rows x 52 columns]\n",
      "df_light_m15:                                    file  filesize  SIMPLE  BITPIX  NAXIS  \\\n",
      "0  preprocessing_example/M15-g00001.fit   8395200    True      16      2   \n",
      "1  preprocessing_example/M15-g00002.fit   8395200    True      16      2   \n",
      "2  preprocessing_example/M15-g00003.fit   8395200    True      16      2   \n",
      "3  preprocessing_example/M15-g00004.fit   8395200    True      16      2   \n",
      "4  preprocessing_example/M15-g00005.fit   8395200    True      16      2   \n",
      "\n",
      "   NAXIS1  NAXIS2  BSCALE    BZERO OBSERVAT  ... TELESCOP XBINNING YBINNING  \\\n",
      "0    2048    2048     1.0  32768.0     GSHS  ...        -      2.0      2.0   \n",
      "1    2048    2048     1.0  32768.0     GSHS  ...        -      2.0      2.0   \n",
      "2    2048    2048     1.0  32768.0     GSHS  ...        -      2.0      2.0   \n",
      "3    2048    2048     1.0  32768.0     GSHS  ...        -      2.0      2.0   \n",
      "4    2048    2048     1.0  32768.0     GSHS  ...        -      2.0      2.0   \n",
      "\n",
      "  EXPOSURE TELESCOPE APATURE FLIPSTAT  XPIXSZ  YPIXSZ  PIXSCALE  \n",
      "0     60.0         -   600.0             18.0    18.0   1.23759  \n",
      "1     60.0         -   600.0             18.0    18.0   1.23759  \n",
      "2     60.0         -   600.0             18.0    18.0   1.23759  \n",
      "3     60.0         -   600.0             18.0    18.0   1.23759  \n",
      "4     60.0         -   600.0             18.0    18.0   1.23759  \n",
      "\n",
      "[5 rows x 52 columns]\n"
     ]
    },
    {
     "name": "stderr",
     "output_type": "stream",
     "text": [
      "WARNING: FITSFixedWarning: 'datfix' made the change 'Set MJD-OBS to 57707.384826 from DATE-OBS'. [astropy.wcs.wcs]\n",
      "WARNING:astropy:FITSFixedWarning: 'datfix' made the change 'Set MJD-OBS to 57707.384826 from DATE-OBS'.\n"
     ]
    },
    {
     "name": "stdout",
     "output_type": "stream",
     "text": [
      "HISTORY  [yfu.biascor] Bias subtracted (BIASFRM = preprocessing_example/master_bias.fits)\n",
      "HISTORY  ..................................(dt = 0.013 s) 2024-09-26T04:51:07.513\n",
      "HISTORY  [yfu.darkcor] Dark scaled by exptime: (t_data/t_dark) = (60.000/180.000) = 0.333\n",
      "HISTORY  .................................................2024-09-26T04:51:07.529\n",
      "HISTORY  [yfu.darkcor] Dark subtracted (DARKFRM = preprocessing_example/master_dark_180sec.fits)\n",
      "HISTORY  ..................................(dt = 0.018 s) 2024-09-26T04:51:07.536\n",
      "HISTORY  [yfu.flatcor] Flat pixels with `value < flat_mask = 0` are replaced by `flat_fill = 1`.\n",
      "HISTORY  .................................................2024-09-26T04:51:07.550\n",
      "HISTORY  [yfu.flatcor] Flat corrected (FLATFRM = preprocessing_example/master_flat_V_norm.fits)\n",
      "HISTORY  ..................................(dt = 0.021 s) 2024-09-26T04:51:07.561\n",
      "Writing FITS to preprocessing_example/reduce_darksc_M15-g00001.fit... Saved.\n"
     ]
    },
    {
     "name": "stderr",
     "output_type": "stream",
     "text": [
      "WARNING: FITSFixedWarning: 'datfix' made the change 'Set MJD-OBS to 57707.385671 from DATE-OBS'. [astropy.wcs.wcs]\n",
      "WARNING:astropy:FITSFixedWarning: 'datfix' made the change 'Set MJD-OBS to 57707.385671 from DATE-OBS'.\n"
     ]
    },
    {
     "name": "stdout",
     "output_type": "stream",
     "text": [
      "HISTORY  [yfu.biascor] Bias subtracted (BIASFRM = preprocessing_example/master_bias.fits)\n",
      "HISTORY  ..................................(dt = 0.013 s) 2024-09-26T04:51:07.751\n",
      "HISTORY  [yfu.darkcor] Dark scaled by exptime: (t_data/t_dark) = (60.000/180.000) = 0.333\n",
      "HISTORY  .................................................2024-09-26T04:51:07.766\n",
      "HISTORY  [yfu.darkcor] Dark subtracted (DARKFRM = preprocessing_example/master_dark_180sec.fits)\n",
      "HISTORY  ..................................(dt = 0.017 s) 2024-09-26T04:51:07.773\n",
      "HISTORY  [yfu.flatcor] Flat pixels with `value < flat_mask = 0` are replaced by `flat_fill = 1`.\n",
      "HISTORY  .................................................2024-09-26T04:51:07.787\n",
      "HISTORY  [yfu.flatcor] Flat corrected (FLATFRM = preprocessing_example/master_flat_V_norm.fits)\n",
      "HISTORY  ..................................(dt = 0.021 s) 2024-09-26T04:51:07.798\n",
      "Writing FITS to preprocessing_example/reduce_darksc_M15-g00002.fit... Saved.\n"
     ]
    },
    {
     "name": "stderr",
     "output_type": "stream",
     "text": [
      "WARNING: FITSFixedWarning: 'datfix' made the change 'Set MJD-OBS to 57707.386516 from DATE-OBS'. [astropy.wcs.wcs]\n",
      "WARNING:astropy:FITSFixedWarning: 'datfix' made the change 'Set MJD-OBS to 57707.386516 from DATE-OBS'.\n"
     ]
    },
    {
     "name": "stdout",
     "output_type": "stream",
     "text": [
      "HISTORY  [yfu.biascor] Bias subtracted (BIASFRM = preprocessing_example/master_bias.fits)\n",
      "HISTORY  ..................................(dt = 0.012 s) 2024-09-26T04:51:08.010\n",
      "HISTORY  [yfu.darkcor] Dark scaled by exptime: (t_data/t_dark) = (60.000/180.000) = 0.333\n",
      "HISTORY  .................................................2024-09-26T04:51:08.030\n",
      "HISTORY  [yfu.darkcor] Dark subtracted (DARKFRM = preprocessing_example/master_dark_180sec.fits)\n",
      "HISTORY  ..................................(dt = 0.020 s) 2024-09-26T04:51:08.037\n",
      "HISTORY  [yfu.flatcor] Flat pixels with `value < flat_mask = 0` are replaced by `flat_fill = 1`.\n",
      "HISTORY  .................................................2024-09-26T04:51:08.051\n",
      "HISTORY  [yfu.flatcor] Flat corrected (FLATFRM = preprocessing_example/master_flat_V_norm.fits)\n",
      "HISTORY  ..................................(dt = 0.025 s) 2024-09-26T04:51:08.065\n",
      "Writing FITS to preprocessing_example/reduce_darksc_M15-g00003.fit... Saved.\n"
     ]
    },
    {
     "name": "stderr",
     "output_type": "stream",
     "text": [
      "WARNING: FITSFixedWarning: 'datfix' made the change 'Set MJD-OBS to 57707.387361 from DATE-OBS'. [astropy.wcs.wcs]\n",
      "WARNING:astropy:FITSFixedWarning: 'datfix' made the change 'Set MJD-OBS to 57707.387361 from DATE-OBS'.\n"
     ]
    },
    {
     "name": "stdout",
     "output_type": "stream",
     "text": [
      "HISTORY  [yfu.biascor] Bias subtracted (BIASFRM = preprocessing_example/master_bias.fits)\n",
      "HISTORY  ..................................(dt = 0.014 s) 2024-09-26T04:51:08.276\n",
      "HISTORY  [yfu.darkcor] Dark scaled by exptime: (t_data/t_dark) = (60.000/180.000) = 0.333\n",
      "HISTORY  .................................................2024-09-26T04:51:08.292\n",
      "HISTORY  [yfu.darkcor] Dark subtracted (DARKFRM = preprocessing_example/master_dark_180sec.fits)\n",
      "HISTORY  ..................................(dt = 0.019 s) 2024-09-26T04:51:08.300\n",
      "HISTORY  [yfu.flatcor] Flat pixels with `value < flat_mask = 0` are replaced by `flat_fill = 1`.\n",
      "HISTORY  .................................................2024-09-26T04:51:08.314\n",
      "HISTORY  [yfu.flatcor] Flat corrected (FLATFRM = preprocessing_example/master_flat_V_norm.fits)\n",
      "HISTORY  ..................................(dt = 0.022 s) 2024-09-26T04:51:08.326\n",
      "Writing FITS to preprocessing_example/reduce_darksc_M15-g00004.fit... Saved.\n",
      "HISTORY  [yfu.biascor] Bias subtracted (BIASFRM = preprocessing_example/master_bias.fits)\n",
      "HISTORY  ..................................(dt = 0.017 s) 2024-09-26T04:51:08.572\n",
      "HISTORY  [yfu.darkcor] Dark scaled by exptime: (t_data/t_dark) = (60.000/180.000) = 0.333\n",
      "HISTORY  .................................................2024-09-26T04:51:08.592\n",
      "HISTORY  [yfu.darkcor] Dark subtracted (DARKFRM = preprocessing_example/master_dark_180sec.fits)\n",
      "HISTORY  ..................................(dt = 0.024 s) 2024-09-26T04:51:08.603\n",
      "HISTORY  [yfu.flatcor] Flat pixels with `value < flat_mask = 0` are replaced by `flat_fill = 1`.\n",
      "HISTORY  .................................................2024-09-26T04:51:08.626\n",
      "HISTORY  [yfu.flatcor] Flat corrected (FLATFRM = preprocessing_example/master_flat_V_norm.fits)\n",
      "HISTORY  ..................................(dt = 0.030 s) 2024-09-26T04:51:08.640\n",
      "Writing FITS to preprocessing_example/reduce_darksc_M15-g00005.fit... Saved.\n"
     ]
    }
   ],
   "source": [
    "# (과제) 아래에 코딩을 완성하여 제출하시오.\n",
    "\n",
    "df_light = summary.loc[summary[\"IMAGETYP\"] == \"LIGHT\"].copy()\n",
    "df_light_m15 = df_light.loc[df_light[\"OBJECT\"] == \"M15\"].copy()\n",
    "df_light_m15 = df_light_m15.reset_index(drop=True)\n",
    "print(\"df_light_m15:\", df_light_m15)\n",
    "\n",
    "# (과제) 아래에 코딩을 완성하여 제출하시오.\n"
   ]
  },
  {
   "cell_type": "markdown",
   "metadata": {
    "id": "AqlAOkr-BKe4"
   },
   "source": [
    "##(과제)\n",
    "\n",
    "2. 그리고 전처리된 M15 5개의 파일을 모두 display 하시오."
   ]
  },
  {
   "cell_type": "code",
   "execution_count": null,
   "metadata": {
    "colab": {
     "base_uri": "https://localhost:8080/",
     "height": 1000,
     "output_embedded_package_id": "1tAG2PBNYdE0waOovr1D7QV5-kxVU4XJu"
    },
    "executionInfo": {
     "elapsed": 22021,
     "status": "ok",
     "timestamp": 1727326306592,
     "user": {
      "displayName": "Kiehyun Park",
      "userId": "11752785994579589476"
     },
     "user_tz": -540
    },
    "id": "zfi3zIJYBSlu",
    "outputId": "e6ab513a-7981-4ad0-c29b-170a4236e6ea"
   },
   "outputs": [
    {
     "data": {
      "text/plain": [
       "Output hidden; open in https://colab.research.google.com to view."
      ]
     },
     "metadata": {},
     "output_type": "display_data"
    }
   ],
   "source": [
    "# (과제) 아래에 코딩을 완성하여 제출하시오.\n",
    "\n",
    "from astropy.io import fits\n",
    "\n",
    "df_light = summary.loc[summary[\"IMAGETYP\"] == \"LIGHT\"].copy()\n",
    "df_light_m15 = df_light.loc[df_light[\"OBJECT\"] == \"M15\"].copy()\n",
    "df_light_m15 = df_light_m15.reset_index(drop=True)\n",
    "\n",
    "for _, row in df_light_m15.iterrows():\n",
    "    fpath = Path(row[\"file\"])\n",
    "    hdul = fits.open(fpath.parent/f\"reduce_darksc_{fpath.name}\")\n",
    "    plot_image_with_cutouts(hdul[0].data)\n",
    "\n"
   ]
  }
 ],
 "metadata": {
  "colab": {
   "provenance": [
    {
     "file_id": "1Gw_56_Sy8n-FUTZchERQx2S8VImZzPOK",
     "timestamp": 1627813302902
    }
   ]
  },
  "kernelspec": {
   "display_name": "astro_Python_env",
   "language": "python",
   "name": "python3"
  },
  "language_info": {
   "codemirror_mode": {
    "name": "ipython",
    "version": 3
   },
   "file_extension": ".py",
   "mimetype": "text/x-python",
   "name": "python",
   "nbconvert_exporter": "python",
   "pygments_lexer": "ipython3",
   "version": "3.12.7"
  }
 },
 "nbformat": 4,
 "nbformat_minor": 0
}
